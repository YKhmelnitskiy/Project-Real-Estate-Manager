{
 "cells": [
  {
   "cell_type": "code",
   "execution_count": 1,
   "metadata": {},
   "outputs": [
    {
     "name": "stderr",
     "output_type": "stream",
     "text": [
      "/home/amit/anaconda3/lib/python3.6/importlib/_bootstrap.py:219: RuntimeWarning: numpy.dtype size changed, may indicate binary incompatibility. Expected 96, got 88\n",
      "  return f(*args, **kwds)\n",
      "/home/amit/anaconda3/lib/python3.6/importlib/_bootstrap.py:219: RuntimeWarning: numpy.dtype size changed, may indicate binary incompatibility. Expected 96, got 88\n",
      "  return f(*args, **kwds)\n"
     ]
    }
   ],
   "source": [
    "import json\n",
    "import pandas as pd\n",
    "import os\n",
    "%matplotlib inline\n",
    "import matplotlib.pyplot as plt\n",
    "import numpy as np\n"
   ]
  },
  {
   "cell_type": "code",
   "execution_count": 2,
   "metadata": {},
   "outputs": [
    {
     "data": {
      "text/html": [
       "<div>\n",
       "<style scoped>\n",
       "    .dataframe tbody tr th:only-of-type {\n",
       "        vertical-align: middle;\n",
       "    }\n",
       "\n",
       "    .dataframe tbody tr th {\n",
       "        vertical-align: top;\n",
       "    }\n",
       "\n",
       "    .dataframe thead th {\n",
       "        text-align: right;\n",
       "    }\n",
       "</style>\n",
       "<table border=\"1\" class=\"dataframe\">\n",
       "  <thead>\n",
       "    <tr style=\"text-align: right;\">\n",
       "      <th></th>\n",
       "      <th>identifier/obPropId</th>\n",
       "      <th>LotSizeAcres</th>\n",
       "      <th>address/oneLine</th>\n",
       "      <th>address/postal1</th>\n",
       "      <th>location/latitude</th>\n",
       "      <th>location/longitude</th>\n",
       "      <th>location/distance</th>\n",
       "      <th>summary/propclass</th>\n",
       "      <th>summary/propsubtype</th>\n",
       "      <th>summary/yearbuilt</th>\n",
       "      <th>building/size/universalsize</th>\n",
       "      <th>building/rooms/bathstotal</th>\n",
       "      <th>building/rooms/beds</th>\n",
       "      <th>sale/amount/saleamt</th>\n",
       "      <th>sale/amount/salerecdate</th>\n",
       "      <th>sale/amount/saletranstype</th>\n",
       "      <th>sale/calculation/priceperbed</th>\n",
       "      <th>sale/calculation/pricepersizeunit</th>\n",
       "    </tr>\n",
       "  </thead>\n",
       "  <tbody>\n",
       "    <tr>\n",
       "      <th>0</th>\n",
       "      <td>2.172470e+13</td>\n",
       "      <td>8.213</td>\n",
       "      <td>11024 DOVER RD, APPLE CREEK, OH 44606</td>\n",
       "      <td>44606</td>\n",
       "      <td>40.724398</td>\n",
       "      <td>-81.784024</td>\n",
       "      <td>49.55</td>\n",
       "      <td>Agricultural</td>\n",
       "      <td>RESIDENTIAL</td>\n",
       "      <td>1854</td>\n",
       "      <td>2698</td>\n",
       "      <td>2.0</td>\n",
       "      <td>3</td>\n",
       "      <td>65000</td>\n",
       "      <td>2006-10-05</td>\n",
       "      <td>Resale</td>\n",
       "      <td>10833</td>\n",
       "      <td>16</td>\n",
       "    </tr>\n",
       "    <tr>\n",
       "      <th>1</th>\n",
       "      <td>1.827130e+13</td>\n",
       "      <td>1.650</td>\n",
       "      <td>7651 BUSS RD # A, APPLE CREEK, OH 44606</td>\n",
       "      <td>44606</td>\n",
       "      <td>40.726153</td>\n",
       "      <td>-81.836130</td>\n",
       "      <td>49.32</td>\n",
       "      <td>Single Family Residence / Townhouse</td>\n",
       "      <td>RESIDENTIAL</td>\n",
       "      <td>1965</td>\n",
       "      <td>5550</td>\n",
       "      <td>3.0</td>\n",
       "      <td>9</td>\n",
       "      <td>200000</td>\n",
       "      <td>2010-04-23</td>\n",
       "      <td>Resale</td>\n",
       "      <td>22222</td>\n",
       "      <td>36</td>\n",
       "    </tr>\n",
       "    <tr>\n",
       "      <th>2</th>\n",
       "      <td>2.428500e+13</td>\n",
       "      <td>17.188</td>\n",
       "      <td>LINCOLN WAY E, APPLE CREEK, OH 44606</td>\n",
       "      <td>44606</td>\n",
       "      <td>40.732470</td>\n",
       "      <td>-81.799850</td>\n",
       "      <td>48.95</td>\n",
       "      <td>Vacant</td>\n",
       "      <td>RESIDENTIAL</td>\n",
       "      <td>0</td>\n",
       "      <td>0</td>\n",
       "      <td>0.0</td>\n",
       "      <td>0</td>\n",
       "      <td>650000</td>\n",
       "      <td>2017-06-20</td>\n",
       "      <td>Resale</td>\n",
       "      <td>0</td>\n",
       "      <td>0</td>\n",
       "    </tr>\n",
       "    <tr>\n",
       "      <th>3</th>\n",
       "      <td>1.827130e+13</td>\n",
       "      <td>1.351</td>\n",
       "      <td>18294 JERICHO RD, DALTON, OH 44618</td>\n",
       "      <td>44618</td>\n",
       "      <td>40.733698</td>\n",
       "      <td>-81.663290</td>\n",
       "      <td>49.76</td>\n",
       "      <td>Single Family Residence / Townhouse</td>\n",
       "      <td>RESIDENTIAL</td>\n",
       "      <td>1946</td>\n",
       "      <td>1748</td>\n",
       "      <td>1.0</td>\n",
       "      <td>2</td>\n",
       "      <td>54000</td>\n",
       "      <td>2013-04-29</td>\n",
       "      <td>REO (Transfer to Lender)</td>\n",
       "      <td>27000</td>\n",
       "      <td>31</td>\n",
       "    </tr>\n",
       "    <tr>\n",
       "      <th>4</th>\n",
       "      <td>2.428510e+13</td>\n",
       "      <td>22.310</td>\n",
       "      <td>CHIPPEWA RD, APPLE CREEK, OH 44606</td>\n",
       "      <td>44606</td>\n",
       "      <td>40.732470</td>\n",
       "      <td>-81.799850</td>\n",
       "      <td>48.95</td>\n",
       "      <td>Exempt</td>\n",
       "      <td>RESIDENTIAL</td>\n",
       "      <td>0</td>\n",
       "      <td>0</td>\n",
       "      <td>0.0</td>\n",
       "      <td>0</td>\n",
       "      <td>142800</td>\n",
       "      <td>2016-08-04</td>\n",
       "      <td>Resale</td>\n",
       "      <td>0</td>\n",
       "      <td>0</td>\n",
       "    </tr>\n",
       "  </tbody>\n",
       "</table>\n",
       "</div>"
      ],
      "text/plain": [
       "   identifier/obPropId  LotSizeAcres                          address/oneLine  \\\n",
       "0         2.172470e+13         8.213    11024 DOVER RD, APPLE CREEK, OH 44606   \n",
       "1         1.827130e+13         1.650  7651 BUSS RD # A, APPLE CREEK, OH 44606   \n",
       "2         2.428500e+13        17.188     LINCOLN WAY E, APPLE CREEK, OH 44606   \n",
       "3         1.827130e+13         1.351       18294 JERICHO RD, DALTON, OH 44618   \n",
       "4         2.428510e+13        22.310       CHIPPEWA RD, APPLE CREEK, OH 44606   \n",
       "\n",
       "   address/postal1  location/latitude  location/longitude  location/distance  \\\n",
       "0            44606          40.724398          -81.784024              49.55   \n",
       "1            44606          40.726153          -81.836130              49.32   \n",
       "2            44606          40.732470          -81.799850              48.95   \n",
       "3            44618          40.733698          -81.663290              49.76   \n",
       "4            44606          40.732470          -81.799850              48.95   \n",
       "\n",
       "                     summary/propclass summary/propsubtype  summary/yearbuilt  \\\n",
       "0                         Agricultural         RESIDENTIAL               1854   \n",
       "1  Single Family Residence / Townhouse         RESIDENTIAL               1965   \n",
       "2                               Vacant         RESIDENTIAL                  0   \n",
       "3  Single Family Residence / Townhouse         RESIDENTIAL               1946   \n",
       "4                               Exempt         RESIDENTIAL                  0   \n",
       "\n",
       "   building/size/universalsize  building/rooms/bathstotal  \\\n",
       "0                         2698                        2.0   \n",
       "1                         5550                        3.0   \n",
       "2                            0                        0.0   \n",
       "3                         1748                        1.0   \n",
       "4                            0                        0.0   \n",
       "\n",
       "   building/rooms/beds  sale/amount/saleamt sale/amount/salerecdate  \\\n",
       "0                    3                65000              2006-10-05   \n",
       "1                    9               200000              2010-04-23   \n",
       "2                    0               650000              2017-06-20   \n",
       "3                    2                54000              2013-04-29   \n",
       "4                    0               142800              2016-08-04   \n",
       "\n",
       "  sale/amount/saletranstype  sale/calculation/priceperbed  \\\n",
       "0                    Resale                         10833   \n",
       "1                    Resale                         22222   \n",
       "2                    Resale                             0   \n",
       "3  REO (Transfer to Lender)                         27000   \n",
       "4                    Resale                             0   \n",
       "\n",
       "   sale/calculation/pricepersizeunit  \n",
       "0                                 16  \n",
       "1                                 36  \n",
       "2                                  0  \n",
       "3                                 31  \n",
       "4                                  0  "
      ]
     },
     "execution_count": 2,
     "metadata": {},
     "output_type": "execute_result"
    }
   ],
   "source": [
    "tp='cle_radius.csv'\n",
    "all_data=pd.read_csv(tp)\n",
    "df=all_data.drop(['identifier/fips', 'identifier/apn', 'identifier/apnOrig', 'vintage/lastModified', 'vintage/pubDate', 'summary/propIndicator', 'summary/proptype','location/geoid', 'identifier/attomId', 'sale/amount/salecode', 'sale/amount/saledisclosuretype', 'address/line1', 'address/line2', 'address/locality', 'address/matchCode', 'address/countrySubd', 'address/postal2', 'address/postal3', 'location/accuracy', 'address/country', 'sale/amount/saledocnum', 'summary/propLandUse', 'sale/salesearchdate', 'sale/saleTransDate', 'location/elevation' ], axis=1)\n",
    "df.head()"
   ]
  },
  {
   "cell_type": "code",
   "execution_count": 3,
   "metadata": {},
   "outputs": [
    {
     "data": {
      "text/html": [
       "<div>\n",
       "<style scoped>\n",
       "    .dataframe tbody tr th:only-of-type {\n",
       "        vertical-align: middle;\n",
       "    }\n",
       "\n",
       "    .dataframe tbody tr th {\n",
       "        vertical-align: top;\n",
       "    }\n",
       "\n",
       "    .dataframe thead th {\n",
       "        text-align: right;\n",
       "    }\n",
       "</style>\n",
       "<table border=\"1\" class=\"dataframe\">\n",
       "  <thead>\n",
       "    <tr style=\"text-align: right;\">\n",
       "      <th></th>\n",
       "      <th>identifier/obPropId</th>\n",
       "      <th>LotSizeAcres</th>\n",
       "      <th>address/oneLine</th>\n",
       "      <th>address/postal1</th>\n",
       "      <th>location/latitude</th>\n",
       "      <th>location/longitude</th>\n",
       "      <th>location/distance</th>\n",
       "      <th>summary/propclass</th>\n",
       "      <th>summary/propsubtype</th>\n",
       "      <th>summary/yearbuilt</th>\n",
       "      <th>building/size/universalsize</th>\n",
       "      <th>building/rooms/bathstotal</th>\n",
       "      <th>building/rooms/beds</th>\n",
       "      <th>sale/amount/saleamt</th>\n",
       "      <th>sale/amount/salerecdate</th>\n",
       "      <th>sale/amount/saletranstype</th>\n",
       "      <th>sale/calculation/priceperbed</th>\n",
       "      <th>sale/calculation/pricepersizeunit</th>\n",
       "    </tr>\n",
       "  </thead>\n",
       "  <tbody>\n",
       "    <tr>\n",
       "      <th>1</th>\n",
       "      <td>1.827130e+13</td>\n",
       "      <td>1.6500</td>\n",
       "      <td>7651 BUSS RD # A, APPLE CREEK, OH 44606</td>\n",
       "      <td>44606</td>\n",
       "      <td>40.726153</td>\n",
       "      <td>-81.836130</td>\n",
       "      <td>49.32</td>\n",
       "      <td>Single Family Residence / Townhouse</td>\n",
       "      <td>RESIDENTIAL</td>\n",
       "      <td>1965</td>\n",
       "      <td>5550</td>\n",
       "      <td>3.0</td>\n",
       "      <td>9</td>\n",
       "      <td>200000</td>\n",
       "      <td>2010-04-23</td>\n",
       "      <td>Resale</td>\n",
       "      <td>22222</td>\n",
       "      <td>36</td>\n",
       "    </tr>\n",
       "    <tr>\n",
       "      <th>3</th>\n",
       "      <td>1.827130e+13</td>\n",
       "      <td>1.3510</td>\n",
       "      <td>18294 JERICHO RD, DALTON, OH 44618</td>\n",
       "      <td>44618</td>\n",
       "      <td>40.733698</td>\n",
       "      <td>-81.663290</td>\n",
       "      <td>49.76</td>\n",
       "      <td>Single Family Residence / Townhouse</td>\n",
       "      <td>RESIDENTIAL</td>\n",
       "      <td>1946</td>\n",
       "      <td>1748</td>\n",
       "      <td>1.0</td>\n",
       "      <td>2</td>\n",
       "      <td>54000</td>\n",
       "      <td>2013-04-29</td>\n",
       "      <td>REO (Transfer to Lender)</td>\n",
       "      <td>27000</td>\n",
       "      <td>31</td>\n",
       "    </tr>\n",
       "    <tr>\n",
       "      <th>5</th>\n",
       "      <td>1.834990e+13</td>\n",
       "      <td>0.7570</td>\n",
       "      <td>5353 MILLERSBURG RD, WOOSTER, OH 44691</td>\n",
       "      <td>44691</td>\n",
       "      <td>40.731927</td>\n",
       "      <td>-81.939383</td>\n",
       "      <td>49.13</td>\n",
       "      <td>Single Family Residence / Townhouse</td>\n",
       "      <td>RESIDENTIAL</td>\n",
       "      <td>1962</td>\n",
       "      <td>1144</td>\n",
       "      <td>2.0</td>\n",
       "      <td>3</td>\n",
       "      <td>164000</td>\n",
       "      <td>2018-10-05</td>\n",
       "      <td>Resale</td>\n",
       "      <td>54667</td>\n",
       "      <td>143</td>\n",
       "    </tr>\n",
       "    <tr>\n",
       "      <th>9</th>\n",
       "      <td>1.827140e+13</td>\n",
       "      <td>0.4330</td>\n",
       "      <td>4361 KIDRON RD, KIDRON, OH 44636</td>\n",
       "      <td>44636</td>\n",
       "      <td>40.741840</td>\n",
       "      <td>-81.745150</td>\n",
       "      <td>48.54</td>\n",
       "      <td>Single Family Residence / Townhouse</td>\n",
       "      <td>RESIDENTIAL</td>\n",
       "      <td>1928</td>\n",
       "      <td>1775</td>\n",
       "      <td>2.0</td>\n",
       "      <td>2</td>\n",
       "      <td>65000</td>\n",
       "      <td>2018-08-14</td>\n",
       "      <td>Resale</td>\n",
       "      <td>32500</td>\n",
       "      <td>37</td>\n",
       "    </tr>\n",
       "    <tr>\n",
       "      <th>10</th>\n",
       "      <td>3.718460e+12</td>\n",
       "      <td>1.0360</td>\n",
       "      <td>4936 BLUEBIRD LN, DALTON, OH 44618</td>\n",
       "      <td>44618</td>\n",
       "      <td>40.739937</td>\n",
       "      <td>-81.734463</td>\n",
       "      <td>48.74</td>\n",
       "      <td>Single Family Residence / Townhouse</td>\n",
       "      <td>RESIDENTIAL</td>\n",
       "      <td>1997</td>\n",
       "      <td>2388</td>\n",
       "      <td>2.0</td>\n",
       "      <td>4</td>\n",
       "      <td>200000</td>\n",
       "      <td>2008-02-19</td>\n",
       "      <td>Resale</td>\n",
       "      <td>50000</td>\n",
       "      <td>84</td>\n",
       "    </tr>\n",
       "    <tr>\n",
       "      <th>11</th>\n",
       "      <td>3.701350e+12</td>\n",
       "      <td>0.5700</td>\n",
       "      <td>12733 EMERSON RD, APPLE CREEK, OH 44606</td>\n",
       "      <td>44606</td>\n",
       "      <td>40.741033</td>\n",
       "      <td>-81.760147</td>\n",
       "      <td>48.51</td>\n",
       "      <td>Single Family Residence / Townhouse</td>\n",
       "      <td>RESIDENTIAL</td>\n",
       "      <td>1949</td>\n",
       "      <td>1310</td>\n",
       "      <td>1.0</td>\n",
       "      <td>3</td>\n",
       "      <td>130000</td>\n",
       "      <td>2017-11-27</td>\n",
       "      <td>Resale</td>\n",
       "      <td>43333</td>\n",
       "      <td>99</td>\n",
       "    </tr>\n",
       "    <tr>\n",
       "      <th>12</th>\n",
       "      <td>1.819840e+13</td>\n",
       "      <td>2.0000</td>\n",
       "      <td>4353 S HONEYTOWN RD, APPLE CREEK, OH 44606</td>\n",
       "      <td>44606</td>\n",
       "      <td>40.744233</td>\n",
       "      <td>-81.876709</td>\n",
       "      <td>48.08</td>\n",
       "      <td>Single Family Residence / Townhouse</td>\n",
       "      <td>RESIDENTIAL</td>\n",
       "      <td>1972</td>\n",
       "      <td>1884</td>\n",
       "      <td>4.0</td>\n",
       "      <td>3</td>\n",
       "      <td>175000</td>\n",
       "      <td>2015-05-20</td>\n",
       "      <td>Resale</td>\n",
       "      <td>58333</td>\n",
       "      <td>93</td>\n",
       "    </tr>\n",
       "    <tr>\n",
       "      <th>13</th>\n",
       "      <td>2.451770e+13</td>\n",
       "      <td>0.8310</td>\n",
       "      <td>5008 SHREVE RD, WOOSTER, OH 44691</td>\n",
       "      <td>44691</td>\n",
       "      <td>40.743248</td>\n",
       "      <td>-81.985712</td>\n",
       "      <td>48.64</td>\n",
       "      <td>Single Family Residence / Townhouse</td>\n",
       "      <td>RESIDENTIAL</td>\n",
       "      <td>0</td>\n",
       "      <td>0</td>\n",
       "      <td>0.0</td>\n",
       "      <td>0</td>\n",
       "      <td>374500</td>\n",
       "      <td>2017-01-30</td>\n",
       "      <td>Resale</td>\n",
       "      <td>0</td>\n",
       "      <td>0</td>\n",
       "    </tr>\n",
       "    <tr>\n",
       "      <th>15</th>\n",
       "      <td>1.052730e+12</td>\n",
       "      <td>0.5510</td>\n",
       "      <td>1782 E TOLBERT RD, WOOSTER, OH 44691</td>\n",
       "      <td>44691</td>\n",
       "      <td>40.748232</td>\n",
       "      <td>-81.919491</td>\n",
       "      <td>47.92</td>\n",
       "      <td>Single Family Residence / Townhouse</td>\n",
       "      <td>RESIDENTIAL</td>\n",
       "      <td>1972</td>\n",
       "      <td>2448</td>\n",
       "      <td>4.0</td>\n",
       "      <td>3</td>\n",
       "      <td>179500</td>\n",
       "      <td>2017-11-20</td>\n",
       "      <td>Resale</td>\n",
       "      <td>59833</td>\n",
       "      <td>73</td>\n",
       "    </tr>\n",
       "    <tr>\n",
       "      <th>16</th>\n",
       "      <td>1.827180e+13</td>\n",
       "      <td>0.3246</td>\n",
       "      <td>114 SPRING RUN DR, APPLE CREEK, OH 44606</td>\n",
       "      <td>44606</td>\n",
       "      <td>40.743184</td>\n",
       "      <td>-81.826779</td>\n",
       "      <td>48.15</td>\n",
       "      <td>Single Family Residence / Townhouse</td>\n",
       "      <td>RESIDENTIAL</td>\n",
       "      <td>1991</td>\n",
       "      <td>1232</td>\n",
       "      <td>2.0</td>\n",
       "      <td>3</td>\n",
       "      <td>164000</td>\n",
       "      <td>2017-10-27</td>\n",
       "      <td>Resale</td>\n",
       "      <td>54667</td>\n",
       "      <td>133</td>\n",
       "    </tr>\n",
       "    <tr>\n",
       "      <th>17</th>\n",
       "      <td>3.707010e+12</td>\n",
       "      <td>0.4900</td>\n",
       "      <td>4574 KIDRON RD, DALTON, OH 44618</td>\n",
       "      <td>44618</td>\n",
       "      <td>40.747026</td>\n",
       "      <td>-81.744939</td>\n",
       "      <td>48.19</td>\n",
       "      <td>Single Family Residence / Townhouse</td>\n",
       "      <td>RESIDENTIAL</td>\n",
       "      <td>1953</td>\n",
       "      <td>1512</td>\n",
       "      <td>1.0</td>\n",
       "      <td>3</td>\n",
       "      <td>125000</td>\n",
       "      <td>2007-02-26</td>\n",
       "      <td>Resale</td>\n",
       "      <td>41667</td>\n",
       "      <td>83</td>\n",
       "    </tr>\n",
       "    <tr>\n",
       "      <th>21</th>\n",
       "      <td>2.958950e+12</td>\n",
       "      <td>7.8170</td>\n",
       "      <td>11345 BLACHLEYVILLE RD, WOOSTER, OH 44691</td>\n",
       "      <td>44691</td>\n",
       "      <td>40.751019</td>\n",
       "      <td>-82.121059</td>\n",
       "      <td>49.64</td>\n",
       "      <td>Single Family Residence / Townhouse</td>\n",
       "      <td>RESIDENTIAL</td>\n",
       "      <td>2005</td>\n",
       "      <td>2198</td>\n",
       "      <td>0.0</td>\n",
       "      <td>4</td>\n",
       "      <td>76000</td>\n",
       "      <td>2013-10-15</td>\n",
       "      <td>Resale</td>\n",
       "      <td>19000</td>\n",
       "      <td>35</td>\n",
       "    </tr>\n",
       "    <tr>\n",
       "      <th>22</th>\n",
       "      <td>1.821150e+13</td>\n",
       "      <td>0.4890</td>\n",
       "      <td>208 MILL ST, APPLE CREEK, OH 44606</td>\n",
       "      <td>44606</td>\n",
       "      <td>40.749435</td>\n",
       "      <td>-81.831509</td>\n",
       "      <td>47.71</td>\n",
       "      <td>Single Family Residence / Townhouse</td>\n",
       "      <td>RESIDENTIAL</td>\n",
       "      <td>1972</td>\n",
       "      <td>2324</td>\n",
       "      <td>3.0</td>\n",
       "      <td>3</td>\n",
       "      <td>150000</td>\n",
       "      <td>2017-09-20</td>\n",
       "      <td>Resale</td>\n",
       "      <td>50000</td>\n",
       "      <td>65</td>\n",
       "    </tr>\n",
       "    <tr>\n",
       "      <th>23</th>\n",
       "      <td>1.509290e+13</td>\n",
       "      <td>5.9060</td>\n",
       "      <td>4111 BATDORF RD, WOOSTER, OH 44691</td>\n",
       "      <td>44691</td>\n",
       "      <td>40.750834</td>\n",
       "      <td>-81.963414</td>\n",
       "      <td>47.97</td>\n",
       "      <td>Single Family Residence / Townhouse</td>\n",
       "      <td>RESIDENTIAL</td>\n",
       "      <td>2002</td>\n",
       "      <td>3283</td>\n",
       "      <td>4.0</td>\n",
       "      <td>4</td>\n",
       "      <td>300000</td>\n",
       "      <td>2010-04-28</td>\n",
       "      <td>Resale</td>\n",
       "      <td>75000</td>\n",
       "      <td>91</td>\n",
       "    </tr>\n",
       "    <tr>\n",
       "      <th>25</th>\n",
       "      <td>3.694920e+12</td>\n",
       "      <td>0.3719</td>\n",
       "      <td>732 W MAIN ST, APPLE CREEK, OH 44606</td>\n",
       "      <td>44606</td>\n",
       "      <td>40.755597</td>\n",
       "      <td>-81.845627</td>\n",
       "      <td>47.28</td>\n",
       "      <td>Single Family Residence / Townhouse</td>\n",
       "      <td>RESIDENTIAL</td>\n",
       "      <td>2006</td>\n",
       "      <td>1296</td>\n",
       "      <td>2.0</td>\n",
       "      <td>3</td>\n",
       "      <td>23500</td>\n",
       "      <td>2005-11-17</td>\n",
       "      <td>Construction Loan/Financing</td>\n",
       "      <td>7833</td>\n",
       "      <td>18</td>\n",
       "    </tr>\n",
       "    <tr>\n",
       "      <th>26</th>\n",
       "      <td>1.827170e+13</td>\n",
       "      <td>1.6080</td>\n",
       "      <td>5082 DOVER RD, APPLE CREEK, OH 44606</td>\n",
       "      <td>44606</td>\n",
       "      <td>40.756949</td>\n",
       "      <td>-81.871391</td>\n",
       "      <td>47.20</td>\n",
       "      <td>Single Family Residence / Townhouse</td>\n",
       "      <td>RESIDENTIAL</td>\n",
       "      <td>1989</td>\n",
       "      <td>1362</td>\n",
       "      <td>2.0</td>\n",
       "      <td>3</td>\n",
       "      <td>100000</td>\n",
       "      <td>2013-04-12</td>\n",
       "      <td>REO (Transfer to Lender)</td>\n",
       "      <td>33333</td>\n",
       "      <td>73</td>\n",
       "    </tr>\n",
       "    <tr>\n",
       "      <th>27</th>\n",
       "      <td>1.485890e+13</td>\n",
       "      <td>1.3190</td>\n",
       "      <td>3705 KIDRON RD, DALTON, OH 44618</td>\n",
       "      <td>44618</td>\n",
       "      <td>40.754945</td>\n",
       "      <td>-81.745341</td>\n",
       "      <td>47.64</td>\n",
       "      <td>Single Family Residence / Townhouse</td>\n",
       "      <td>RESIDENTIAL</td>\n",
       "      <td>1968</td>\n",
       "      <td>2248</td>\n",
       "      <td>3.0</td>\n",
       "      <td>3</td>\n",
       "      <td>155500</td>\n",
       "      <td>2009-12-03</td>\n",
       "      <td>Resale</td>\n",
       "      <td>51833</td>\n",
       "      <td>69</td>\n",
       "    </tr>\n",
       "    <tr>\n",
       "      <th>28</th>\n",
       "      <td>3.717810e+12</td>\n",
       "      <td>1.1000</td>\n",
       "      <td>10536 HACKETT RD, APPLE CREEK, OH 44606</td>\n",
       "      <td>44606</td>\n",
       "      <td>40.755914</td>\n",
       "      <td>-81.789208</td>\n",
       "      <td>47.36</td>\n",
       "      <td>Single Family Residence / Townhouse</td>\n",
       "      <td>RESIDENTIAL</td>\n",
       "      <td>1980</td>\n",
       "      <td>2968</td>\n",
       "      <td>4.0</td>\n",
       "      <td>3</td>\n",
       "      <td>258327</td>\n",
       "      <td>2008-09-09</td>\n",
       "      <td>Resale</td>\n",
       "      <td>86109</td>\n",
       "      <td>87</td>\n",
       "    </tr>\n",
       "    <tr>\n",
       "      <th>29</th>\n",
       "      <td>1.827140e+13</td>\n",
       "      <td>1.0660</td>\n",
       "      <td>14950 HACKETT RD, APPLE CREEK,OH 44606</td>\n",
       "      <td>44606</td>\n",
       "      <td>40.756040</td>\n",
       "      <td>-81.716854</td>\n",
       "      <td>47.76</td>\n",
       "      <td>Single Family Residence / Townhouse</td>\n",
       "      <td>RESIDENTIAL</td>\n",
       "      <td>1974</td>\n",
       "      <td>1650</td>\n",
       "      <td>3.0</td>\n",
       "      <td>3</td>\n",
       "      <td>110500</td>\n",
       "      <td>2015-11-18</td>\n",
       "      <td>Resale</td>\n",
       "      <td>36833</td>\n",
       "      <td>67</td>\n",
       "    </tr>\n",
       "    <tr>\n",
       "      <th>30</th>\n",
       "      <td>1.825660e+13</td>\n",
       "      <td>1.1700</td>\n",
       "      <td>3695 PIGEON RUN RD SW, MASSILLON, OH 44647</td>\n",
       "      <td>44647</td>\n",
       "      <td>40.756396</td>\n",
       "      <td>-81.561158</td>\n",
       "      <td>49.58</td>\n",
       "      <td>Single Family Residence / Townhouse</td>\n",
       "      <td>MISCELLANEOUS INDUSTRIAL</td>\n",
       "      <td>1960</td>\n",
       "      <td>1636</td>\n",
       "      <td>1.0</td>\n",
       "      <td>3</td>\n",
       "      <td>165500</td>\n",
       "      <td>2018-12-04</td>\n",
       "      <td>Resale</td>\n",
       "      <td>55167</td>\n",
       "      <td>101</td>\n",
       "    </tr>\n",
       "    <tr>\n",
       "      <th>31</th>\n",
       "      <td>1.827170e+13</td>\n",
       "      <td>1.0000</td>\n",
       "      <td>2706 S CARR RD, APPLE CREEK, OH 44606</td>\n",
       "      <td>44606</td>\n",
       "      <td>40.762476</td>\n",
       "      <td>-81.794023</td>\n",
       "      <td>46.90</td>\n",
       "      <td>Single Family Residence / Townhouse</td>\n",
       "      <td>RESIDENTIAL</td>\n",
       "      <td>1994</td>\n",
       "      <td>1292</td>\n",
       "      <td>2.0</td>\n",
       "      <td>3</td>\n",
       "      <td>18000</td>\n",
       "      <td>2012-10-17</td>\n",
       "      <td>Resale</td>\n",
       "      <td>6000</td>\n",
       "      <td>14</td>\n",
       "    </tr>\n",
       "    <tr>\n",
       "      <th>34</th>\n",
       "      <td>1.827080e+13</td>\n",
       "      <td>4.6480</td>\n",
       "      <td>2972 S JEFFERSON RD, WOOSTER, OH 44691</td>\n",
       "      <td>44691</td>\n",
       "      <td>40.761116</td>\n",
       "      <td>-82.023242</td>\n",
       "      <td>47.75</td>\n",
       "      <td>Single Family Residence / Townhouse</td>\n",
       "      <td>RESIDENTIAL</td>\n",
       "      <td>1972</td>\n",
       "      <td>1196</td>\n",
       "      <td>3.0</td>\n",
       "      <td>2</td>\n",
       "      <td>167000</td>\n",
       "      <td>2016-04-28</td>\n",
       "      <td>Resale</td>\n",
       "      <td>83500</td>\n",
       "      <td>140</td>\n",
       "    </tr>\n",
       "    <tr>\n",
       "      <th>35</th>\n",
       "      <td>1.825660e+13</td>\n",
       "      <td>1.4900</td>\n",
       "      <td>12814 BARRS RD SW, MASSILLON, OH 44647</td>\n",
       "      <td>44647</td>\n",
       "      <td>40.764371</td>\n",
       "      <td>-81.596072</td>\n",
       "      <td>48.53</td>\n",
       "      <td>Single Family Residence / Townhouse</td>\n",
       "      <td>MISCELLANEOUS INDUSTRIAL</td>\n",
       "      <td>1980</td>\n",
       "      <td>2652</td>\n",
       "      <td>2.0</td>\n",
       "      <td>3</td>\n",
       "      <td>87000</td>\n",
       "      <td>2005-11-17</td>\n",
       "      <td>Resale</td>\n",
       "      <td>29000</td>\n",
       "      <td>33</td>\n",
       "    </tr>\n",
       "    <tr>\n",
       "      <th>37</th>\n",
       "      <td>1.827080e+13</td>\n",
       "      <td>1.0300</td>\n",
       "      <td>3650 BLACHLEYVILLE RD, WOOSTER, OH 44691</td>\n",
       "      <td>44691</td>\n",
       "      <td>40.767753</td>\n",
       "      <td>-82.023417</td>\n",
       "      <td>47.30</td>\n",
       "      <td>Single Family Residence / Townhouse</td>\n",
       "      <td>RESIDENTIAL</td>\n",
       "      <td>1962</td>\n",
       "      <td>1260</td>\n",
       "      <td>2.0</td>\n",
       "      <td>3</td>\n",
       "      <td>88500</td>\n",
       "      <td>2012-11-19</td>\n",
       "      <td>Resale</td>\n",
       "      <td>29500</td>\n",
       "      <td>70</td>\n",
       "    </tr>\n",
       "    <tr>\n",
       "      <th>38</th>\n",
       "      <td>4.126740e+12</td>\n",
       "      <td>0.3444</td>\n",
       "      <td>2544 EARL ST, WOOSTER, OH 44691</td>\n",
       "      <td>44691</td>\n",
       "      <td>40.767951</td>\n",
       "      <td>-81.961503</td>\n",
       "      <td>46.78</td>\n",
       "      <td>Single Family Residence / Townhouse</td>\n",
       "      <td>RESIDENTIAL</td>\n",
       "      <td>1975</td>\n",
       "      <td>1166</td>\n",
       "      <td>2.0</td>\n",
       "      <td>3</td>\n",
       "      <td>156000</td>\n",
       "      <td>2017-12-04</td>\n",
       "      <td>Resale</td>\n",
       "      <td>52000</td>\n",
       "      <td>134</td>\n",
       "    </tr>\n",
       "    <tr>\n",
       "      <th>39</th>\n",
       "      <td>1.407730e+13</td>\n",
       "      <td>0.3071</td>\n",
       "      <td>1960 CYPRUS DR SE, MASSILLON, OH 44646</td>\n",
       "      <td>44646</td>\n",
       "      <td>40.768327</td>\n",
       "      <td>-81.494604</td>\n",
       "      <td>49.99</td>\n",
       "      <td>Single Family Residence / Townhouse</td>\n",
       "      <td>HOUSE</td>\n",
       "      <td>1998</td>\n",
       "      <td>2505</td>\n",
       "      <td>3.0</td>\n",
       "      <td>3</td>\n",
       "      <td>233000</td>\n",
       "      <td>2009-04-29</td>\n",
       "      <td>Resale</td>\n",
       "      <td>77667</td>\n",
       "      <td>96</td>\n",
       "    </tr>\n",
       "    <tr>\n",
       "      <th>40</th>\n",
       "      <td>3.708880e+12</td>\n",
       "      <td>6.4980</td>\n",
       "      <td>2534 KIDRON RD, ORRVILLE, OH 44667</td>\n",
       "      <td>44667</td>\n",
       "      <td>40.769037</td>\n",
       "      <td>-81.745072</td>\n",
       "      <td>46.68</td>\n",
       "      <td>Single Family Residence / Townhouse</td>\n",
       "      <td>RESIDENTIAL</td>\n",
       "      <td>1950</td>\n",
       "      <td>1806</td>\n",
       "      <td>3.0</td>\n",
       "      <td>2</td>\n",
       "      <td>150000</td>\n",
       "      <td>2009-01-15</td>\n",
       "      <td>Resale</td>\n",
       "      <td>75000</td>\n",
       "      <td>120</td>\n",
       "    </tr>\n",
       "    <tr>\n",
       "      <th>41</th>\n",
       "      <td>4.988600e+12</td>\n",
       "      <td>0.2169</td>\n",
       "      <td>2460 URBANA AVE SE, MASSILLON, OH 44646</td>\n",
       "      <td>44646</td>\n",
       "      <td>40.770185</td>\n",
       "      <td>-81.489753</td>\n",
       "      <td>49.96</td>\n",
       "      <td>Single Family Residence / Townhouse</td>\n",
       "      <td>HOUSE</td>\n",
       "      <td>2004</td>\n",
       "      <td>2068</td>\n",
       "      <td>3.0</td>\n",
       "      <td>3</td>\n",
       "      <td>157000</td>\n",
       "      <td>2009-01-09</td>\n",
       "      <td>Resale</td>\n",
       "      <td>52333</td>\n",
       "      <td>76</td>\n",
       "    </tr>\n",
       "    <tr>\n",
       "      <th>42</th>\n",
       "      <td>1.724954e+10</td>\n",
       "      <td>0.2479</td>\n",
       "      <td>2350 URBANA AVE SE, MASSILLON, OH 44646</td>\n",
       "      <td>44646</td>\n",
       "      <td>40.770227</td>\n",
       "      <td>-81.491355</td>\n",
       "      <td>49.93</td>\n",
       "      <td>Single Family Residence / Townhouse</td>\n",
       "      <td>HOUSE</td>\n",
       "      <td>1999</td>\n",
       "      <td>2420</td>\n",
       "      <td>3.0</td>\n",
       "      <td>3</td>\n",
       "      <td>153400</td>\n",
       "      <td>2013-09-26</td>\n",
       "      <td>Resale</td>\n",
       "      <td>51133</td>\n",
       "      <td>63</td>\n",
       "    </tr>\n",
       "    <tr>\n",
       "      <th>45</th>\n",
       "      <td>2.442030e+13</td>\n",
       "      <td>5.2270</td>\n",
       "      <td>2217 S ELYRIA RD, WOOSTER, OH 44691</td>\n",
       "      <td>44691</td>\n",
       "      <td>40.770709</td>\n",
       "      <td>-82.084646</td>\n",
       "      <td>47.82</td>\n",
       "      <td>Single Family Residence / Townhouse</td>\n",
       "      <td>RESIDENTIAL</td>\n",
       "      <td>0</td>\n",
       "      <td>0</td>\n",
       "      <td>0.0</td>\n",
       "      <td>0</td>\n",
       "      <td>41000</td>\n",
       "      <td>2017-01-06</td>\n",
       "      <td>Resale</td>\n",
       "      <td>0</td>\n",
       "      <td>0</td>\n",
       "    </tr>\n",
       "    <tr>\n",
       "      <th>...</th>\n",
       "      <td>...</td>\n",
       "      <td>...</td>\n",
       "      <td>...</td>\n",
       "      <td>...</td>\n",
       "      <td>...</td>\n",
       "      <td>...</td>\n",
       "      <td>...</td>\n",
       "      <td>...</td>\n",
       "      <td>...</td>\n",
       "      <td>...</td>\n",
       "      <td>...</td>\n",
       "      <td>...</td>\n",
       "      <td>...</td>\n",
       "      <td>...</td>\n",
       "      <td>...</td>\n",
       "      <td>...</td>\n",
       "      <td>...</td>\n",
       "      <td>...</td>\n",
       "    </tr>\n",
       "    <tr>\n",
       "      <th>9963</th>\n",
       "      <td>2.649250e+12</td>\n",
       "      <td>0.1263</td>\n",
       "      <td>1118 LEXINGTON AVE, AKRON, OH 44310</td>\n",
       "      <td>44310</td>\n",
       "      <td>41.116064</td>\n",
       "      <td>-81.500374</td>\n",
       "      <td>28.89</td>\n",
       "      <td>Single Family Residence / Townhouse</td>\n",
       "      <td>RESIDENTIAL</td>\n",
       "      <td>1949</td>\n",
       "      <td>1160</td>\n",
       "      <td>2.0</td>\n",
       "      <td>2</td>\n",
       "      <td>74000</td>\n",
       "      <td>2017-08-29</td>\n",
       "      <td>Resale</td>\n",
       "      <td>24667</td>\n",
       "      <td>64</td>\n",
       "    </tr>\n",
       "    <tr>\n",
       "      <th>9964</th>\n",
       "      <td>2.198720e+12</td>\n",
       "      <td>0.2663</td>\n",
       "      <td>710 BRENTWOOD BLVD, COPLEY, OH 44321</td>\n",
       "      <td>44321</td>\n",
       "      <td>41.116066</td>\n",
       "      <td>-81.674530</td>\n",
       "      <td>24.21</td>\n",
       "      <td>Single Family Residence / Townhouse</td>\n",
       "      <td>RESIDENTIAL</td>\n",
       "      <td>1998</td>\n",
       "      <td>2766</td>\n",
       "      <td>3.0</td>\n",
       "      <td>4</td>\n",
       "      <td>288900</td>\n",
       "      <td>2008-05-29</td>\n",
       "      <td>Resale</td>\n",
       "      <td>72225</td>\n",
       "      <td>104</td>\n",
       "    </tr>\n",
       "    <tr>\n",
       "      <th>9965</th>\n",
       "      <td>3.280190e+12</td>\n",
       "      <td>1.5000</td>\n",
       "      <td>4816 RIDGEWOOD RD, COPLEY, OH 44321</td>\n",
       "      <td>44321</td>\n",
       "      <td>41.115573</td>\n",
       "      <td>-81.685047</td>\n",
       "      <td>24.04</td>\n",
       "      <td>Single Family Residence / Townhouse</td>\n",
       "      <td>RESIDENTIAL</td>\n",
       "      <td>1845</td>\n",
       "      <td>1737</td>\n",
       "      <td>2.0</td>\n",
       "      <td>3</td>\n",
       "      <td>226000</td>\n",
       "      <td>2006-05-19</td>\n",
       "      <td>Resale</td>\n",
       "      <td>75333</td>\n",
       "      <td>130</td>\n",
       "    </tr>\n",
       "    <tr>\n",
       "      <th>9966</th>\n",
       "      <td>2.935820e+11</td>\n",
       "      <td>0.1297</td>\n",
       "      <td>1123 LEXINGTON AVE, AKRON, OH 44310</td>\n",
       "      <td>44310</td>\n",
       "      <td>41.116169</td>\n",
       "      <td>-81.500009</td>\n",
       "      <td>28.90</td>\n",
       "      <td>Single Family Residence / Townhouse</td>\n",
       "      <td>RESIDENTIAL</td>\n",
       "      <td>1924</td>\n",
       "      <td>1050</td>\n",
       "      <td>2.0</td>\n",
       "      <td>2</td>\n",
       "      <td>17000</td>\n",
       "      <td>2018-03-01</td>\n",
       "      <td>Resale</td>\n",
       "      <td>8500</td>\n",
       "      <td>16</td>\n",
       "    </tr>\n",
       "    <tr>\n",
       "      <th>9967</th>\n",
       "      <td>4.124280e+12</td>\n",
       "      <td>0.2571</td>\n",
       "      <td>763 BRENTWOOD BLVD, COPLEY, OH 44321</td>\n",
       "      <td>44321</td>\n",
       "      <td>41.115207</td>\n",
       "      <td>-81.673550</td>\n",
       "      <td>24.28</td>\n",
       "      <td>Single Family Residence / Townhouse</td>\n",
       "      <td>RESIDENTIAL</td>\n",
       "      <td>1997</td>\n",
       "      <td>2968</td>\n",
       "      <td>3.0</td>\n",
       "      <td>4</td>\n",
       "      <td>320000</td>\n",
       "      <td>2011-10-05</td>\n",
       "      <td>Resale</td>\n",
       "      <td>80000</td>\n",
       "      <td>108</td>\n",
       "    </tr>\n",
       "    <tr>\n",
       "      <th>9968</th>\n",
       "      <td>1.538380e+12</td>\n",
       "      <td>4.2200</td>\n",
       "      <td>5746 LAFAYETTE RD, MEDINA, OH 44256</td>\n",
       "      <td>44256</td>\n",
       "      <td>41.115638</td>\n",
       "      <td>-81.921582</td>\n",
       "      <td>22.73</td>\n",
       "      <td>Single Family Residence / Townhouse</td>\n",
       "      <td>HOUSE</td>\n",
       "      <td>1992</td>\n",
       "      <td>2300</td>\n",
       "      <td>3.0</td>\n",
       "      <td>3</td>\n",
       "      <td>220000</td>\n",
       "      <td>2007-06-15</td>\n",
       "      <td>Resale</td>\n",
       "      <td>73333</td>\n",
       "      <td>96</td>\n",
       "    </tr>\n",
       "    <tr>\n",
       "      <th>9969</th>\n",
       "      <td>2.962660e+12</td>\n",
       "      <td>3.3300</td>\n",
       "      <td>5724 LAFAYETTE RD, MEDINA, OH 44256</td>\n",
       "      <td>44256</td>\n",
       "      <td>41.115872</td>\n",
       "      <td>-81.920851</td>\n",
       "      <td>22.71</td>\n",
       "      <td>Single Family Residence / Townhouse</td>\n",
       "      <td>HOUSE</td>\n",
       "      <td>1992</td>\n",
       "      <td>1120</td>\n",
       "      <td>2.0</td>\n",
       "      <td>2</td>\n",
       "      <td>105000</td>\n",
       "      <td>2009-07-17</td>\n",
       "      <td>Resale</td>\n",
       "      <td>52500</td>\n",
       "      <td>94</td>\n",
       "    </tr>\n",
       "    <tr>\n",
       "      <th>9970</th>\n",
       "      <td>1.826320e+13</td>\n",
       "      <td>0.6841</td>\n",
       "      <td>518 WRING DR, TALLMADGE, OH 44278</td>\n",
       "      <td>44278</td>\n",
       "      <td>41.115890</td>\n",
       "      <td>-81.423453</td>\n",
       "      <td>31.58</td>\n",
       "      <td>Single Family Residence / Townhouse</td>\n",
       "      <td>RESIDENTIAL</td>\n",
       "      <td>1955</td>\n",
       "      <td>1912</td>\n",
       "      <td>2.0</td>\n",
       "      <td>3</td>\n",
       "      <td>180000</td>\n",
       "      <td>2015-08-24</td>\n",
       "      <td>Resale</td>\n",
       "      <td>60000</td>\n",
       "      <td>94</td>\n",
       "    </tr>\n",
       "    <tr>\n",
       "      <th>9971</th>\n",
       "      <td>1.406780e+13</td>\n",
       "      <td>3.1500</td>\n",
       "      <td>5722 LAFAYETTE RD, MEDINA, OH 44256</td>\n",
       "      <td>44256</td>\n",
       "      <td>41.115897</td>\n",
       "      <td>-81.920764</td>\n",
       "      <td>22.71</td>\n",
       "      <td>Single Family Residence / Townhouse</td>\n",
       "      <td>HOUSE</td>\n",
       "      <td>1992</td>\n",
       "      <td>1942</td>\n",
       "      <td>3.0</td>\n",
       "      <td>3</td>\n",
       "      <td>190000</td>\n",
       "      <td>2016-08-04</td>\n",
       "      <td>Resale</td>\n",
       "      <td>63333</td>\n",
       "      <td>98</td>\n",
       "    </tr>\n",
       "    <tr>\n",
       "      <th>9973</th>\n",
       "      <td>4.204060e+12</td>\n",
       "      <td>0.1263</td>\n",
       "      <td>1147 N MAIN ST, AKRON, OH 44310</td>\n",
       "      <td>44310</td>\n",
       "      <td>41.116852</td>\n",
       "      <td>-81.509871</td>\n",
       "      <td>28.54</td>\n",
       "      <td>Single Family Residence / Townhouse</td>\n",
       "      <td>RESIDENTIAL</td>\n",
       "      <td>1923</td>\n",
       "      <td>1928</td>\n",
       "      <td>2.0</td>\n",
       "      <td>4</td>\n",
       "      <td>71500</td>\n",
       "      <td>2017-06-29</td>\n",
       "      <td>Resale</td>\n",
       "      <td>23833</td>\n",
       "      <td>37</td>\n",
       "    </tr>\n",
       "    <tr>\n",
       "      <th>9974</th>\n",
       "      <td>3.678860e+12</td>\n",
       "      <td>0.3700</td>\n",
       "      <td>1123 WILLOW BEND DR, MEDINA, OH 44256</td>\n",
       "      <td>44256</td>\n",
       "      <td>41.116192</td>\n",
       "      <td>-81.840335</td>\n",
       "      <td>22.40</td>\n",
       "      <td>Single Family Residence / Townhouse</td>\n",
       "      <td>HOUSE</td>\n",
       "      <td>2002</td>\n",
       "      <td>2272</td>\n",
       "      <td>3.0</td>\n",
       "      <td>4</td>\n",
       "      <td>242000</td>\n",
       "      <td>2012-09-14</td>\n",
       "      <td>Resale</td>\n",
       "      <td>60500</td>\n",
       "      <td>107</td>\n",
       "    </tr>\n",
       "    <tr>\n",
       "      <th>9975</th>\n",
       "      <td>1.826510e+13</td>\n",
       "      <td>0.9125</td>\n",
       "      <td>104 S MEADOWCROFT DR, AKRON, OH 44313</td>\n",
       "      <td>44313</td>\n",
       "      <td>41.116285</td>\n",
       "      <td>-81.586987</td>\n",
       "      <td>26.27</td>\n",
       "      <td>Single Family Residence / Townhouse</td>\n",
       "      <td>RESIDENTIAL</td>\n",
       "      <td>1949</td>\n",
       "      <td>1064</td>\n",
       "      <td>2.0</td>\n",
       "      <td>2</td>\n",
       "      <td>184500</td>\n",
       "      <td>2017-11-08</td>\n",
       "      <td>Resale</td>\n",
       "      <td>92250</td>\n",
       "      <td>151</td>\n",
       "    </tr>\n",
       "    <tr>\n",
       "      <th>9977</th>\n",
       "      <td>1.834290e+13</td>\n",
       "      <td>0.4050</td>\n",
       "      <td>3919 STONEBRIDGE BLVD, COPLEY, OH 44321</td>\n",
       "      <td>44321</td>\n",
       "      <td>41.115605</td>\n",
       "      <td>-81.660686</td>\n",
       "      <td>24.52</td>\n",
       "      <td>Single Family Residence / Townhouse</td>\n",
       "      <td>RESIDENTIAL</td>\n",
       "      <td>2001</td>\n",
       "      <td>3308</td>\n",
       "      <td>5.0</td>\n",
       "      <td>4</td>\n",
       "      <td>359900</td>\n",
       "      <td>2014-08-06</td>\n",
       "      <td>Resale</td>\n",
       "      <td>89975</td>\n",
       "      <td>109</td>\n",
       "    </tr>\n",
       "    <tr>\n",
       "      <th>9979</th>\n",
       "      <td>4.117890e+12</td>\n",
       "      <td>0.4000</td>\n",
       "      <td>5803 TRYSTIN TREE DR, MEDINA, OH 44256</td>\n",
       "      <td>44256</td>\n",
       "      <td>41.116575</td>\n",
       "      <td>-81.824974</td>\n",
       "      <td>22.41</td>\n",
       "      <td>Single Family Residence / Townhouse</td>\n",
       "      <td>HOUSE</td>\n",
       "      <td>2002</td>\n",
       "      <td>2559</td>\n",
       "      <td>3.0</td>\n",
       "      <td>4</td>\n",
       "      <td>257000</td>\n",
       "      <td>2017-10-31</td>\n",
       "      <td>Resale</td>\n",
       "      <td>64250</td>\n",
       "      <td>100</td>\n",
       "    </tr>\n",
       "    <tr>\n",
       "      <th>9980</th>\n",
       "      <td>2.704610e+12</td>\n",
       "      <td>0.1343</td>\n",
       "      <td>1168 LINDEN AVE, AKRON, OH 44310</td>\n",
       "      <td>44310</td>\n",
       "      <td>41.117317</td>\n",
       "      <td>-81.499302</td>\n",
       "      <td>28.86</td>\n",
       "      <td>Single Family Residence / Townhouse</td>\n",
       "      <td>RESIDENTIAL</td>\n",
       "      <td>1951</td>\n",
       "      <td>1284</td>\n",
       "      <td>1.0</td>\n",
       "      <td>3</td>\n",
       "      <td>46000</td>\n",
       "      <td>2009-03-20</td>\n",
       "      <td>Resale</td>\n",
       "      <td>15333</td>\n",
       "      <td>36</td>\n",
       "    </tr>\n",
       "    <tr>\n",
       "      <th>9981</th>\n",
       "      <td>2.904900e+11</td>\n",
       "      <td>0.2204</td>\n",
       "      <td>1170 SAWYER AVE, AKRON, OH 44310</td>\n",
       "      <td>44310</td>\n",
       "      <td>41.117403</td>\n",
       "      <td>-81.505307</td>\n",
       "      <td>28.66</td>\n",
       "      <td>Single Family Residence / Townhouse</td>\n",
       "      <td>RESIDENTIAL</td>\n",
       "      <td>1918</td>\n",
       "      <td>1594</td>\n",
       "      <td>2.0</td>\n",
       "      <td>3</td>\n",
       "      <td>40000</td>\n",
       "      <td>2017-02-16</td>\n",
       "      <td>Resale</td>\n",
       "      <td>13333</td>\n",
       "      <td>25</td>\n",
       "    </tr>\n",
       "    <tr>\n",
       "      <th>9982</th>\n",
       "      <td>1.363220e+12</td>\n",
       "      <td>0.1111</td>\n",
       "      <td>1174 COLLINWOOD AVE, AKRON, OH 44310</td>\n",
       "      <td>44310</td>\n",
       "      <td>41.117507</td>\n",
       "      <td>-81.504281</td>\n",
       "      <td>28.69</td>\n",
       "      <td>Single Family Residence / Townhouse</td>\n",
       "      <td>HOUSE</td>\n",
       "      <td>1909</td>\n",
       "      <td>840</td>\n",
       "      <td>1.0</td>\n",
       "      <td>2</td>\n",
       "      <td>42500</td>\n",
       "      <td>2017-10-02</td>\n",
       "      <td>Resale</td>\n",
       "      <td>21250</td>\n",
       "      <td>51</td>\n",
       "    </tr>\n",
       "    <tr>\n",
       "      <th>9983</th>\n",
       "      <td>2.014460e+12</td>\n",
       "      <td>5.0070</td>\n",
       "      <td>4664 MCCLINTOCKSBURG RD, NEWTON FALLS, OH 44444</td>\n",
       "      <td>44444</td>\n",
       "      <td>41.116663</td>\n",
       "      <td>-81.031728</td>\n",
       "      <td>48.15</td>\n",
       "      <td>Single Family Residence / Townhouse</td>\n",
       "      <td>RESIDENTIAL</td>\n",
       "      <td>2000</td>\n",
       "      <td>2268</td>\n",
       "      <td>3.0</td>\n",
       "      <td>3</td>\n",
       "      <td>191500</td>\n",
       "      <td>2007-06-29</td>\n",
       "      <td>Resale</td>\n",
       "      <td>63833</td>\n",
       "      <td>84</td>\n",
       "    </tr>\n",
       "    <tr>\n",
       "      <th>9985</th>\n",
       "      <td>7.611840e+11</td>\n",
       "      <td>0.2900</td>\n",
       "      <td>4601 COLINAS DR, MEDINA, OH 44256</td>\n",
       "      <td>44256</td>\n",
       "      <td>41.116789</td>\n",
       "      <td>-81.851663</td>\n",
       "      <td>22.35</td>\n",
       "      <td>Single Family Residence / Townhouse</td>\n",
       "      <td>HOUSE</td>\n",
       "      <td>2002</td>\n",
       "      <td>2674</td>\n",
       "      <td>3.0</td>\n",
       "      <td>4</td>\n",
       "      <td>218000</td>\n",
       "      <td>2009-03-04</td>\n",
       "      <td>Resale</td>\n",
       "      <td>54500</td>\n",
       "      <td>82</td>\n",
       "    </tr>\n",
       "    <tr>\n",
       "      <th>9986</th>\n",
       "      <td>1.835240e+13</td>\n",
       "      <td>0.2094</td>\n",
       "      <td>1278 WALTON DR, AKRON, OH 44313</td>\n",
       "      <td>44313</td>\n",
       "      <td>41.117163</td>\n",
       "      <td>-81.560210</td>\n",
       "      <td>26.97</td>\n",
       "      <td>Single Family Residence / Townhouse</td>\n",
       "      <td>RESIDENTIAL</td>\n",
       "      <td>1956</td>\n",
       "      <td>1170</td>\n",
       "      <td>2.0</td>\n",
       "      <td>3</td>\n",
       "      <td>119500</td>\n",
       "      <td>2018-08-24</td>\n",
       "      <td>Resale</td>\n",
       "      <td>39833</td>\n",
       "      <td>102</td>\n",
       "    </tr>\n",
       "    <tr>\n",
       "      <th>9987</th>\n",
       "      <td>1.712350e+12</td>\n",
       "      <td>5.0000</td>\n",
       "      <td>12115 SPENCER MILLS RD, SPENCER, OH 44275</td>\n",
       "      <td>44275</td>\n",
       "      <td>41.117291</td>\n",
       "      <td>-82.126529</td>\n",
       "      <td>26.53</td>\n",
       "      <td>Single Family Residence / Townhouse</td>\n",
       "      <td>HOUSE</td>\n",
       "      <td>2000</td>\n",
       "      <td>1980</td>\n",
       "      <td>2.0</td>\n",
       "      <td>3</td>\n",
       "      <td>206500</td>\n",
       "      <td>2005-04-01</td>\n",
       "      <td>Resale</td>\n",
       "      <td>68833</td>\n",
       "      <td>104</td>\n",
       "    </tr>\n",
       "    <tr>\n",
       "      <th>9989</th>\n",
       "      <td>1.444880e+12</td>\n",
       "      <td>0.1010</td>\n",
       "      <td>1191 WOODWARD AVE, AKRON, OH 44310</td>\n",
       "      <td>44310</td>\n",
       "      <td>41.117947</td>\n",
       "      <td>-81.507816</td>\n",
       "      <td>28.55</td>\n",
       "      <td>Single Family Residence / Townhouse</td>\n",
       "      <td>RESIDENTIAL</td>\n",
       "      <td>1928</td>\n",
       "      <td>1516</td>\n",
       "      <td>2.0</td>\n",
       "      <td>3</td>\n",
       "      <td>113000</td>\n",
       "      <td>2018-09-07</td>\n",
       "      <td>Resale</td>\n",
       "      <td>37667</td>\n",
       "      <td>75</td>\n",
       "    </tr>\n",
       "    <tr>\n",
       "      <th>9990</th>\n",
       "      <td>1.137780e+12</td>\n",
       "      <td>0.9814</td>\n",
       "      <td>1918 RIDGEWOOD RD, AKRON, OH 44313</td>\n",
       "      <td>44313</td>\n",
       "      <td>41.117382</td>\n",
       "      <td>-81.590680</td>\n",
       "      <td>26.10</td>\n",
       "      <td>Single Family Residence / Townhouse</td>\n",
       "      <td>RESIDENTIAL</td>\n",
       "      <td>1949</td>\n",
       "      <td>3456</td>\n",
       "      <td>4.0</td>\n",
       "      <td>4</td>\n",
       "      <td>230000</td>\n",
       "      <td>2013-06-17</td>\n",
       "      <td>Resale</td>\n",
       "      <td>57500</td>\n",
       "      <td>67</td>\n",
       "    </tr>\n",
       "    <tr>\n",
       "      <th>9991</th>\n",
       "      <td>1.834160e+13</td>\n",
       "      <td>0.0946</td>\n",
       "      <td>1190 DAYTON ST, AKRON, OH 44310</td>\n",
       "      <td>44310</td>\n",
       "      <td>41.117963</td>\n",
       "      <td>-81.507243</td>\n",
       "      <td>28.57</td>\n",
       "      <td>Single Family Residence / Townhouse</td>\n",
       "      <td>RESIDENTIAL</td>\n",
       "      <td>1928</td>\n",
       "      <td>1380</td>\n",
       "      <td>1.0</td>\n",
       "      <td>3</td>\n",
       "      <td>20000</td>\n",
       "      <td>2013-11-14</td>\n",
       "      <td>Resale</td>\n",
       "      <td>6667</td>\n",
       "      <td>14</td>\n",
       "    </tr>\n",
       "    <tr>\n",
       "      <th>9993</th>\n",
       "      <td>1.524690e+13</td>\n",
       "      <td>0.3611</td>\n",
       "      <td>931 ROCKY RIDGE DR, AKRON, OH 44313</td>\n",
       "      <td>44313</td>\n",
       "      <td>41.118062</td>\n",
       "      <td>-81.533345</td>\n",
       "      <td>27.73</td>\n",
       "      <td>Single Family Residence / Townhouse</td>\n",
       "      <td>RESIDENTIAL</td>\n",
       "      <td>1978</td>\n",
       "      <td>4040</td>\n",
       "      <td>3.0</td>\n",
       "      <td>4</td>\n",
       "      <td>242000</td>\n",
       "      <td>2013-02-01</td>\n",
       "      <td>Resale</td>\n",
       "      <td>60500</td>\n",
       "      <td>60</td>\n",
       "    </tr>\n",
       "    <tr>\n",
       "      <th>9994</th>\n",
       "      <td>1.649630e+11</td>\n",
       "      <td>0.5969</td>\n",
       "      <td>1175 E HOWE RD, TALLMADGE, OH 44278</td>\n",
       "      <td>44278</td>\n",
       "      <td>41.118071</td>\n",
       "      <td>-81.397088</td>\n",
       "      <td>32.46</td>\n",
       "      <td>Single Family Residence / Townhouse</td>\n",
       "      <td>RESIDENTIAL</td>\n",
       "      <td>1955</td>\n",
       "      <td>2015</td>\n",
       "      <td>2.0</td>\n",
       "      <td>3</td>\n",
       "      <td>155000</td>\n",
       "      <td>2005-04-27</td>\n",
       "      <td>Resale</td>\n",
       "      <td>51667</td>\n",
       "      <td>77</td>\n",
       "    </tr>\n",
       "    <tr>\n",
       "      <th>9995</th>\n",
       "      <td>1.439340e+13</td>\n",
       "      <td>1.0009</td>\n",
       "      <td>1165 E HOWE RD, TALLMADGE, OH 44278</td>\n",
       "      <td>44278</td>\n",
       "      <td>41.118072</td>\n",
       "      <td>-81.397420</td>\n",
       "      <td>32.45</td>\n",
       "      <td>Single Family Residence / Townhouse</td>\n",
       "      <td>RESIDENTIAL</td>\n",
       "      <td>1950</td>\n",
       "      <td>960</td>\n",
       "      <td>1.0</td>\n",
       "      <td>2</td>\n",
       "      <td>123000</td>\n",
       "      <td>2018-10-16</td>\n",
       "      <td>Resale</td>\n",
       "      <td>61500</td>\n",
       "      <td>128</td>\n",
       "    </tr>\n",
       "    <tr>\n",
       "      <th>9996</th>\n",
       "      <td>1.826340e+13</td>\n",
       "      <td>0.2479</td>\n",
       "      <td>1198 MAGNOLIA AVE, AKRON, OH 44310</td>\n",
       "      <td>44310</td>\n",
       "      <td>41.118127</td>\n",
       "      <td>-81.497203</td>\n",
       "      <td>28.89</td>\n",
       "      <td>Single Family Residence / Townhouse</td>\n",
       "      <td>RESIDENTIAL</td>\n",
       "      <td>1926</td>\n",
       "      <td>1812</td>\n",
       "      <td>3.0</td>\n",
       "      <td>3</td>\n",
       "      <td>5900</td>\n",
       "      <td>2009-04-29</td>\n",
       "      <td>Resale</td>\n",
       "      <td>1967</td>\n",
       "      <td>3</td>\n",
       "    </tr>\n",
       "    <tr>\n",
       "      <th>9997</th>\n",
       "      <td>2.307230e+11</td>\n",
       "      <td>0.2938</td>\n",
       "      <td>4216 OAKMONT DR, COPLEY, OH 44321</td>\n",
       "      <td>44321</td>\n",
       "      <td>41.118163</td>\n",
       "      <td>-81.671194</td>\n",
       "      <td>24.14</td>\n",
       "      <td>Single Family Residence / Townhouse</td>\n",
       "      <td>RESIDENTIAL</td>\n",
       "      <td>2004</td>\n",
       "      <td>2460</td>\n",
       "      <td>4.0</td>\n",
       "      <td>4</td>\n",
       "      <td>349000</td>\n",
       "      <td>2015-06-17</td>\n",
       "      <td>Resale</td>\n",
       "      <td>87250</td>\n",
       "      <td>142</td>\n",
       "    </tr>\n",
       "    <tr>\n",
       "      <th>9998</th>\n",
       "      <td>1.405450e+13</td>\n",
       "      <td>0.1878</td>\n",
       "      <td>1288 DEWITT DR, AKRON, OH 44313</td>\n",
       "      <td>44313</td>\n",
       "      <td>41.118199</td>\n",
       "      <td>-81.560023</td>\n",
       "      <td>26.92</td>\n",
       "      <td>Single Family Residence / Townhouse</td>\n",
       "      <td>RESIDENTIAL</td>\n",
       "      <td>1956</td>\n",
       "      <td>1288</td>\n",
       "      <td>1.0</td>\n",
       "      <td>3</td>\n",
       "      <td>57000</td>\n",
       "      <td>2012-05-22</td>\n",
       "      <td>Resale</td>\n",
       "      <td>19000</td>\n",
       "      <td>44</td>\n",
       "    </tr>\n",
       "  </tbody>\n",
       "</table>\n",
       "<p>7308 rows × 18 columns</p>\n",
       "</div>"
      ],
      "text/plain": [
       "      identifier/obPropId  LotSizeAcres  \\\n",
       "1            1.827130e+13        1.6500   \n",
       "3            1.827130e+13        1.3510   \n",
       "5            1.834990e+13        0.7570   \n",
       "9            1.827140e+13        0.4330   \n",
       "10           3.718460e+12        1.0360   \n",
       "11           3.701350e+12        0.5700   \n",
       "12           1.819840e+13        2.0000   \n",
       "13           2.451770e+13        0.8310   \n",
       "15           1.052730e+12        0.5510   \n",
       "16           1.827180e+13        0.3246   \n",
       "17           3.707010e+12        0.4900   \n",
       "21           2.958950e+12        7.8170   \n",
       "22           1.821150e+13        0.4890   \n",
       "23           1.509290e+13        5.9060   \n",
       "25           3.694920e+12        0.3719   \n",
       "26           1.827170e+13        1.6080   \n",
       "27           1.485890e+13        1.3190   \n",
       "28           3.717810e+12        1.1000   \n",
       "29           1.827140e+13        1.0660   \n",
       "30           1.825660e+13        1.1700   \n",
       "31           1.827170e+13        1.0000   \n",
       "34           1.827080e+13        4.6480   \n",
       "35           1.825660e+13        1.4900   \n",
       "37           1.827080e+13        1.0300   \n",
       "38           4.126740e+12        0.3444   \n",
       "39           1.407730e+13        0.3071   \n",
       "40           3.708880e+12        6.4980   \n",
       "41           4.988600e+12        0.2169   \n",
       "42           1.724954e+10        0.2479   \n",
       "45           2.442030e+13        5.2270   \n",
       "...                   ...           ...   \n",
       "9963         2.649250e+12        0.1263   \n",
       "9964         2.198720e+12        0.2663   \n",
       "9965         3.280190e+12        1.5000   \n",
       "9966         2.935820e+11        0.1297   \n",
       "9967         4.124280e+12        0.2571   \n",
       "9968         1.538380e+12        4.2200   \n",
       "9969         2.962660e+12        3.3300   \n",
       "9970         1.826320e+13        0.6841   \n",
       "9971         1.406780e+13        3.1500   \n",
       "9973         4.204060e+12        0.1263   \n",
       "9974         3.678860e+12        0.3700   \n",
       "9975         1.826510e+13        0.9125   \n",
       "9977         1.834290e+13        0.4050   \n",
       "9979         4.117890e+12        0.4000   \n",
       "9980         2.704610e+12        0.1343   \n",
       "9981         2.904900e+11        0.2204   \n",
       "9982         1.363220e+12        0.1111   \n",
       "9983         2.014460e+12        5.0070   \n",
       "9985         7.611840e+11        0.2900   \n",
       "9986         1.835240e+13        0.2094   \n",
       "9987         1.712350e+12        5.0000   \n",
       "9989         1.444880e+12        0.1010   \n",
       "9990         1.137780e+12        0.9814   \n",
       "9991         1.834160e+13        0.0946   \n",
       "9993         1.524690e+13        0.3611   \n",
       "9994         1.649630e+11        0.5969   \n",
       "9995         1.439340e+13        1.0009   \n",
       "9996         1.826340e+13        0.2479   \n",
       "9997         2.307230e+11        0.2938   \n",
       "9998         1.405450e+13        0.1878   \n",
       "\n",
       "                                      address/oneLine  address/postal1  \\\n",
       "1             7651 BUSS RD # A, APPLE CREEK, OH 44606            44606   \n",
       "3                  18294 JERICHO RD, DALTON, OH 44618            44618   \n",
       "5              5353 MILLERSBURG RD, WOOSTER, OH 44691            44691   \n",
       "9                    4361 KIDRON RD, KIDRON, OH 44636            44636   \n",
       "10                 4936 BLUEBIRD LN, DALTON, OH 44618            44618   \n",
       "11            12733 EMERSON RD, APPLE CREEK, OH 44606            44606   \n",
       "12         4353 S HONEYTOWN RD, APPLE CREEK, OH 44606            44606   \n",
       "13                  5008 SHREVE RD, WOOSTER, OH 44691            44691   \n",
       "15               1782 E TOLBERT RD, WOOSTER, OH 44691            44691   \n",
       "16           114 SPRING RUN DR, APPLE CREEK, OH 44606            44606   \n",
       "17                   4574 KIDRON RD, DALTON, OH 44618            44618   \n",
       "21          11345 BLACHLEYVILLE RD, WOOSTER, OH 44691            44691   \n",
       "22                 208 MILL ST, APPLE CREEK, OH 44606            44606   \n",
       "23                 4111 BATDORF RD, WOOSTER, OH 44691            44691   \n",
       "25               732 W MAIN ST, APPLE CREEK, OH 44606            44606   \n",
       "26               5082 DOVER RD, APPLE CREEK, OH 44606            44606   \n",
       "27                   3705 KIDRON RD, DALTON, OH 44618            44618   \n",
       "28            10536 HACKETT RD, APPLE CREEK, OH 44606            44606   \n",
       "29             14950 HACKETT RD, APPLE CREEK,OH 44606            44606   \n",
       "30         3695 PIGEON RUN RD SW, MASSILLON, OH 44647            44647   \n",
       "31              2706 S CARR RD, APPLE CREEK, OH 44606            44606   \n",
       "34             2972 S JEFFERSON RD, WOOSTER, OH 44691            44691   \n",
       "35             12814 BARRS RD SW, MASSILLON, OH 44647            44647   \n",
       "37           3650 BLACHLEYVILLE RD, WOOSTER, OH 44691            44691   \n",
       "38                    2544 EARL ST, WOOSTER, OH 44691            44691   \n",
       "39             1960 CYPRUS DR SE, MASSILLON, OH 44646            44646   \n",
       "40                 2534 KIDRON RD, ORRVILLE, OH 44667            44667   \n",
       "41            2460 URBANA AVE SE, MASSILLON, OH 44646            44646   \n",
       "42            2350 URBANA AVE SE, MASSILLON, OH 44646            44646   \n",
       "45                2217 S ELYRIA RD, WOOSTER, OH 44691            44691   \n",
       "...                                               ...              ...   \n",
       "9963              1118 LEXINGTON AVE, AKRON, OH 44310            44310   \n",
       "9964             710 BRENTWOOD BLVD, COPLEY, OH 44321            44321   \n",
       "9965              4816 RIDGEWOOD RD, COPLEY, OH 44321            44321   \n",
       "9966              1123 LEXINGTON AVE, AKRON, OH 44310            44310   \n",
       "9967             763 BRENTWOOD BLVD, COPLEY, OH 44321            44321   \n",
       "9968              5746 LAFAYETTE RD, MEDINA, OH 44256            44256   \n",
       "9969              5724 LAFAYETTE RD, MEDINA, OH 44256            44256   \n",
       "9970                518 WRING DR, TALLMADGE, OH 44278            44278   \n",
       "9971              5722 LAFAYETTE RD, MEDINA, OH 44256            44256   \n",
       "9973                  1147 N MAIN ST, AKRON, OH 44310            44310   \n",
       "9974            1123 WILLOW BEND DR, MEDINA, OH 44256            44256   \n",
       "9975            104 S MEADOWCROFT DR, AKRON, OH 44313            44313   \n",
       "9977          3919 STONEBRIDGE BLVD, COPLEY, OH 44321            44321   \n",
       "9979           5803 TRYSTIN TREE DR, MEDINA, OH 44256            44256   \n",
       "9980                 1168 LINDEN AVE, AKRON, OH 44310            44310   \n",
       "9981                 1170 SAWYER AVE, AKRON, OH 44310            44310   \n",
       "9982             1174 COLLINWOOD AVE, AKRON, OH 44310            44310   \n",
       "9983  4664 MCCLINTOCKSBURG RD, NEWTON FALLS, OH 44444            44444   \n",
       "9985                4601 COLINAS DR, MEDINA, OH 44256            44256   \n",
       "9986                  1278 WALTON DR, AKRON, OH 44313            44313   \n",
       "9987        12115 SPENCER MILLS RD, SPENCER, OH 44275            44275   \n",
       "9989               1191 WOODWARD AVE, AKRON, OH 44310            44310   \n",
       "9990               1918 RIDGEWOOD RD, AKRON, OH 44313            44313   \n",
       "9991                  1190 DAYTON ST, AKRON, OH 44310            44310   \n",
       "9993              931 ROCKY RIDGE DR, AKRON, OH 44313            44313   \n",
       "9994              1175 E HOWE RD, TALLMADGE, OH 44278            44278   \n",
       "9995              1165 E HOWE RD, TALLMADGE, OH 44278            44278   \n",
       "9996               1198 MAGNOLIA AVE, AKRON, OH 44310            44310   \n",
       "9997                4216 OAKMONT DR, COPLEY, OH 44321            44321   \n",
       "9998                  1288 DEWITT DR, AKRON, OH 44313            44313   \n",
       "\n",
       "      location/latitude  location/longitude  location/distance  \\\n",
       "1             40.726153          -81.836130              49.32   \n",
       "3             40.733698          -81.663290              49.76   \n",
       "5             40.731927          -81.939383              49.13   \n",
       "9             40.741840          -81.745150              48.54   \n",
       "10            40.739937          -81.734463              48.74   \n",
       "11            40.741033          -81.760147              48.51   \n",
       "12            40.744233          -81.876709              48.08   \n",
       "13            40.743248          -81.985712              48.64   \n",
       "15            40.748232          -81.919491              47.92   \n",
       "16            40.743184          -81.826779              48.15   \n",
       "17            40.747026          -81.744939              48.19   \n",
       "21            40.751019          -82.121059              49.64   \n",
       "22            40.749435          -81.831509              47.71   \n",
       "23            40.750834          -81.963414              47.97   \n",
       "25            40.755597          -81.845627              47.28   \n",
       "26            40.756949          -81.871391              47.20   \n",
       "27            40.754945          -81.745341              47.64   \n",
       "28            40.755914          -81.789208              47.36   \n",
       "29            40.756040          -81.716854              47.76   \n",
       "30            40.756396          -81.561158              49.58   \n",
       "31            40.762476          -81.794023              46.90   \n",
       "34            40.761116          -82.023242              47.75   \n",
       "35            40.764371          -81.596072              48.53   \n",
       "37            40.767753          -82.023417              47.30   \n",
       "38            40.767951          -81.961503              46.78   \n",
       "39            40.768327          -81.494604              49.99   \n",
       "40            40.769037          -81.745072              46.68   \n",
       "41            40.770185          -81.489753              49.96   \n",
       "42            40.770227          -81.491355              49.93   \n",
       "45            40.770709          -82.084646              47.82   \n",
       "...                 ...                 ...                ...   \n",
       "9963          41.116064          -81.500374              28.89   \n",
       "9964          41.116066          -81.674530              24.21   \n",
       "9965          41.115573          -81.685047              24.04   \n",
       "9966          41.116169          -81.500009              28.90   \n",
       "9967          41.115207          -81.673550              24.28   \n",
       "9968          41.115638          -81.921582              22.73   \n",
       "9969          41.115872          -81.920851              22.71   \n",
       "9970          41.115890          -81.423453              31.58   \n",
       "9971          41.115897          -81.920764              22.71   \n",
       "9973          41.116852          -81.509871              28.54   \n",
       "9974          41.116192          -81.840335              22.40   \n",
       "9975          41.116285          -81.586987              26.27   \n",
       "9977          41.115605          -81.660686              24.52   \n",
       "9979          41.116575          -81.824974              22.41   \n",
       "9980          41.117317          -81.499302              28.86   \n",
       "9981          41.117403          -81.505307              28.66   \n",
       "9982          41.117507          -81.504281              28.69   \n",
       "9983          41.116663          -81.031728              48.15   \n",
       "9985          41.116789          -81.851663              22.35   \n",
       "9986          41.117163          -81.560210              26.97   \n",
       "9987          41.117291          -82.126529              26.53   \n",
       "9989          41.117947          -81.507816              28.55   \n",
       "9990          41.117382          -81.590680              26.10   \n",
       "9991          41.117963          -81.507243              28.57   \n",
       "9993          41.118062          -81.533345              27.73   \n",
       "9994          41.118071          -81.397088              32.46   \n",
       "9995          41.118072          -81.397420              32.45   \n",
       "9996          41.118127          -81.497203              28.89   \n",
       "9997          41.118163          -81.671194              24.14   \n",
       "9998          41.118199          -81.560023              26.92   \n",
       "\n",
       "                        summary/propclass       summary/propsubtype  \\\n",
       "1     Single Family Residence / Townhouse               RESIDENTIAL   \n",
       "3     Single Family Residence / Townhouse               RESIDENTIAL   \n",
       "5     Single Family Residence / Townhouse               RESIDENTIAL   \n",
       "9     Single Family Residence / Townhouse               RESIDENTIAL   \n",
       "10    Single Family Residence / Townhouse               RESIDENTIAL   \n",
       "11    Single Family Residence / Townhouse               RESIDENTIAL   \n",
       "12    Single Family Residence / Townhouse               RESIDENTIAL   \n",
       "13    Single Family Residence / Townhouse               RESIDENTIAL   \n",
       "15    Single Family Residence / Townhouse               RESIDENTIAL   \n",
       "16    Single Family Residence / Townhouse               RESIDENTIAL   \n",
       "17    Single Family Residence / Townhouse               RESIDENTIAL   \n",
       "21    Single Family Residence / Townhouse               RESIDENTIAL   \n",
       "22    Single Family Residence / Townhouse               RESIDENTIAL   \n",
       "23    Single Family Residence / Townhouse               RESIDENTIAL   \n",
       "25    Single Family Residence / Townhouse               RESIDENTIAL   \n",
       "26    Single Family Residence / Townhouse               RESIDENTIAL   \n",
       "27    Single Family Residence / Townhouse               RESIDENTIAL   \n",
       "28    Single Family Residence / Townhouse               RESIDENTIAL   \n",
       "29    Single Family Residence / Townhouse               RESIDENTIAL   \n",
       "30    Single Family Residence / Townhouse  MISCELLANEOUS INDUSTRIAL   \n",
       "31    Single Family Residence / Townhouse               RESIDENTIAL   \n",
       "34    Single Family Residence / Townhouse               RESIDENTIAL   \n",
       "35    Single Family Residence / Townhouse  MISCELLANEOUS INDUSTRIAL   \n",
       "37    Single Family Residence / Townhouse               RESIDENTIAL   \n",
       "38    Single Family Residence / Townhouse               RESIDENTIAL   \n",
       "39    Single Family Residence / Townhouse                     HOUSE   \n",
       "40    Single Family Residence / Townhouse               RESIDENTIAL   \n",
       "41    Single Family Residence / Townhouse                     HOUSE   \n",
       "42    Single Family Residence / Townhouse                     HOUSE   \n",
       "45    Single Family Residence / Townhouse               RESIDENTIAL   \n",
       "...                                   ...                       ...   \n",
       "9963  Single Family Residence / Townhouse               RESIDENTIAL   \n",
       "9964  Single Family Residence / Townhouse               RESIDENTIAL   \n",
       "9965  Single Family Residence / Townhouse               RESIDENTIAL   \n",
       "9966  Single Family Residence / Townhouse               RESIDENTIAL   \n",
       "9967  Single Family Residence / Townhouse               RESIDENTIAL   \n",
       "9968  Single Family Residence / Townhouse                     HOUSE   \n",
       "9969  Single Family Residence / Townhouse                     HOUSE   \n",
       "9970  Single Family Residence / Townhouse               RESIDENTIAL   \n",
       "9971  Single Family Residence / Townhouse                     HOUSE   \n",
       "9973  Single Family Residence / Townhouse               RESIDENTIAL   \n",
       "9974  Single Family Residence / Townhouse                     HOUSE   \n",
       "9975  Single Family Residence / Townhouse               RESIDENTIAL   \n",
       "9977  Single Family Residence / Townhouse               RESIDENTIAL   \n",
       "9979  Single Family Residence / Townhouse                     HOUSE   \n",
       "9980  Single Family Residence / Townhouse               RESIDENTIAL   \n",
       "9981  Single Family Residence / Townhouse               RESIDENTIAL   \n",
       "9982  Single Family Residence / Townhouse                     HOUSE   \n",
       "9983  Single Family Residence / Townhouse               RESIDENTIAL   \n",
       "9985  Single Family Residence / Townhouse                     HOUSE   \n",
       "9986  Single Family Residence / Townhouse               RESIDENTIAL   \n",
       "9987  Single Family Residence / Townhouse                     HOUSE   \n",
       "9989  Single Family Residence / Townhouse               RESIDENTIAL   \n",
       "9990  Single Family Residence / Townhouse               RESIDENTIAL   \n",
       "9991  Single Family Residence / Townhouse               RESIDENTIAL   \n",
       "9993  Single Family Residence / Townhouse               RESIDENTIAL   \n",
       "9994  Single Family Residence / Townhouse               RESIDENTIAL   \n",
       "9995  Single Family Residence / Townhouse               RESIDENTIAL   \n",
       "9996  Single Family Residence / Townhouse               RESIDENTIAL   \n",
       "9997  Single Family Residence / Townhouse               RESIDENTIAL   \n",
       "9998  Single Family Residence / Townhouse               RESIDENTIAL   \n",
       "\n",
       "      summary/yearbuilt  building/size/universalsize  \\\n",
       "1                  1965                         5550   \n",
       "3                  1946                         1748   \n",
       "5                  1962                         1144   \n",
       "9                  1928                         1775   \n",
       "10                 1997                         2388   \n",
       "11                 1949                         1310   \n",
       "12                 1972                         1884   \n",
       "13                    0                            0   \n",
       "15                 1972                         2448   \n",
       "16                 1991                         1232   \n",
       "17                 1953                         1512   \n",
       "21                 2005                         2198   \n",
       "22                 1972                         2324   \n",
       "23                 2002                         3283   \n",
       "25                 2006                         1296   \n",
       "26                 1989                         1362   \n",
       "27                 1968                         2248   \n",
       "28                 1980                         2968   \n",
       "29                 1974                         1650   \n",
       "30                 1960                         1636   \n",
       "31                 1994                         1292   \n",
       "34                 1972                         1196   \n",
       "35                 1980                         2652   \n",
       "37                 1962                         1260   \n",
       "38                 1975                         1166   \n",
       "39                 1998                         2505   \n",
       "40                 1950                         1806   \n",
       "41                 2004                         2068   \n",
       "42                 1999                         2420   \n",
       "45                    0                            0   \n",
       "...                 ...                          ...   \n",
       "9963               1949                         1160   \n",
       "9964               1998                         2766   \n",
       "9965               1845                         1737   \n",
       "9966               1924                         1050   \n",
       "9967               1997                         2968   \n",
       "9968               1992                         2300   \n",
       "9969               1992                         1120   \n",
       "9970               1955                         1912   \n",
       "9971               1992                         1942   \n",
       "9973               1923                         1928   \n",
       "9974               2002                         2272   \n",
       "9975               1949                         1064   \n",
       "9977               2001                         3308   \n",
       "9979               2002                         2559   \n",
       "9980               1951                         1284   \n",
       "9981               1918                         1594   \n",
       "9982               1909                          840   \n",
       "9983               2000                         2268   \n",
       "9985               2002                         2674   \n",
       "9986               1956                         1170   \n",
       "9987               2000                         1980   \n",
       "9989               1928                         1516   \n",
       "9990               1949                         3456   \n",
       "9991               1928                         1380   \n",
       "9993               1978                         4040   \n",
       "9994               1955                         2015   \n",
       "9995               1950                          960   \n",
       "9996               1926                         1812   \n",
       "9997               2004                         2460   \n",
       "9998               1956                         1288   \n",
       "\n",
       "      building/rooms/bathstotal  building/rooms/beds  sale/amount/saleamt  \\\n",
       "1                           3.0                    9               200000   \n",
       "3                           1.0                    2                54000   \n",
       "5                           2.0                    3               164000   \n",
       "9                           2.0                    2                65000   \n",
       "10                          2.0                    4               200000   \n",
       "11                          1.0                    3               130000   \n",
       "12                          4.0                    3               175000   \n",
       "13                          0.0                    0               374500   \n",
       "15                          4.0                    3               179500   \n",
       "16                          2.0                    3               164000   \n",
       "17                          1.0                    3               125000   \n",
       "21                          0.0                    4                76000   \n",
       "22                          3.0                    3               150000   \n",
       "23                          4.0                    4               300000   \n",
       "25                          2.0                    3                23500   \n",
       "26                          2.0                    3               100000   \n",
       "27                          3.0                    3               155500   \n",
       "28                          4.0                    3               258327   \n",
       "29                          3.0                    3               110500   \n",
       "30                          1.0                    3               165500   \n",
       "31                          2.0                    3                18000   \n",
       "34                          3.0                    2               167000   \n",
       "35                          2.0                    3                87000   \n",
       "37                          2.0                    3                88500   \n",
       "38                          2.0                    3               156000   \n",
       "39                          3.0                    3               233000   \n",
       "40                          3.0                    2               150000   \n",
       "41                          3.0                    3               157000   \n",
       "42                          3.0                    3               153400   \n",
       "45                          0.0                    0                41000   \n",
       "...                         ...                  ...                  ...   \n",
       "9963                        2.0                    2                74000   \n",
       "9964                        3.0                    4               288900   \n",
       "9965                        2.0                    3               226000   \n",
       "9966                        2.0                    2                17000   \n",
       "9967                        3.0                    4               320000   \n",
       "9968                        3.0                    3               220000   \n",
       "9969                        2.0                    2               105000   \n",
       "9970                        2.0                    3               180000   \n",
       "9971                        3.0                    3               190000   \n",
       "9973                        2.0                    4                71500   \n",
       "9974                        3.0                    4               242000   \n",
       "9975                        2.0                    2               184500   \n",
       "9977                        5.0                    4               359900   \n",
       "9979                        3.0                    4               257000   \n",
       "9980                        1.0                    3                46000   \n",
       "9981                        2.0                    3                40000   \n",
       "9982                        1.0                    2                42500   \n",
       "9983                        3.0                    3               191500   \n",
       "9985                        3.0                    4               218000   \n",
       "9986                        2.0                    3               119500   \n",
       "9987                        2.0                    3               206500   \n",
       "9989                        2.0                    3               113000   \n",
       "9990                        4.0                    4               230000   \n",
       "9991                        1.0                    3                20000   \n",
       "9993                        3.0                    4               242000   \n",
       "9994                        2.0                    3               155000   \n",
       "9995                        1.0                    2               123000   \n",
       "9996                        3.0                    3                 5900   \n",
       "9997                        4.0                    4               349000   \n",
       "9998                        1.0                    3                57000   \n",
       "\n",
       "     sale/amount/salerecdate    sale/amount/saletranstype  \\\n",
       "1                 2010-04-23                       Resale   \n",
       "3                 2013-04-29     REO (Transfer to Lender)   \n",
       "5                 2018-10-05                       Resale   \n",
       "9                 2018-08-14                       Resale   \n",
       "10                2008-02-19                       Resale   \n",
       "11                2017-11-27                       Resale   \n",
       "12                2015-05-20                       Resale   \n",
       "13                2017-01-30                       Resale   \n",
       "15                2017-11-20                       Resale   \n",
       "16                2017-10-27                       Resale   \n",
       "17                2007-02-26                       Resale   \n",
       "21                2013-10-15                       Resale   \n",
       "22                2017-09-20                       Resale   \n",
       "23                2010-04-28                       Resale   \n",
       "25                2005-11-17  Construction Loan/Financing   \n",
       "26                2013-04-12     REO (Transfer to Lender)   \n",
       "27                2009-12-03                       Resale   \n",
       "28                2008-09-09                       Resale   \n",
       "29                2015-11-18                       Resale   \n",
       "30                2018-12-04                       Resale   \n",
       "31                2012-10-17                       Resale   \n",
       "34                2016-04-28                       Resale   \n",
       "35                2005-11-17                       Resale   \n",
       "37                2012-11-19                       Resale   \n",
       "38                2017-12-04                       Resale   \n",
       "39                2009-04-29                       Resale   \n",
       "40                2009-01-15                       Resale   \n",
       "41                2009-01-09                       Resale   \n",
       "42                2013-09-26                       Resale   \n",
       "45                2017-01-06                       Resale   \n",
       "...                      ...                          ...   \n",
       "9963              2017-08-29                       Resale   \n",
       "9964              2008-05-29                       Resale   \n",
       "9965              2006-05-19                       Resale   \n",
       "9966              2018-03-01                       Resale   \n",
       "9967              2011-10-05                       Resale   \n",
       "9968              2007-06-15                       Resale   \n",
       "9969              2009-07-17                       Resale   \n",
       "9970              2015-08-24                       Resale   \n",
       "9971              2016-08-04                       Resale   \n",
       "9973              2017-06-29                       Resale   \n",
       "9974              2012-09-14                       Resale   \n",
       "9975              2017-11-08                       Resale   \n",
       "9977              2014-08-06                       Resale   \n",
       "9979              2017-10-31                       Resale   \n",
       "9980              2009-03-20                       Resale   \n",
       "9981              2017-02-16                       Resale   \n",
       "9982              2017-10-02                       Resale   \n",
       "9983              2007-06-29                       Resale   \n",
       "9985              2009-03-04                       Resale   \n",
       "9986              2018-08-24                       Resale   \n",
       "9987              2005-04-01                       Resale   \n",
       "9989              2018-09-07                       Resale   \n",
       "9990              2013-06-17                       Resale   \n",
       "9991              2013-11-14                       Resale   \n",
       "9993              2013-02-01                       Resale   \n",
       "9994              2005-04-27                       Resale   \n",
       "9995              2018-10-16                       Resale   \n",
       "9996              2009-04-29                       Resale   \n",
       "9997              2015-06-17                       Resale   \n",
       "9998              2012-05-22                       Resale   \n",
       "\n",
       "      sale/calculation/priceperbed  sale/calculation/pricepersizeunit  \n",
       "1                            22222                                 36  \n",
       "3                            27000                                 31  \n",
       "5                            54667                                143  \n",
       "9                            32500                                 37  \n",
       "10                           50000                                 84  \n",
       "11                           43333                                 99  \n",
       "12                           58333                                 93  \n",
       "13                               0                                  0  \n",
       "15                           59833                                 73  \n",
       "16                           54667                                133  \n",
       "17                           41667                                 83  \n",
       "21                           19000                                 35  \n",
       "22                           50000                                 65  \n",
       "23                           75000                                 91  \n",
       "25                            7833                                 18  \n",
       "26                           33333                                 73  \n",
       "27                           51833                                 69  \n",
       "28                           86109                                 87  \n",
       "29                           36833                                 67  \n",
       "30                           55167                                101  \n",
       "31                            6000                                 14  \n",
       "34                           83500                                140  \n",
       "35                           29000                                 33  \n",
       "37                           29500                                 70  \n",
       "38                           52000                                134  \n",
       "39                           77667                                 96  \n",
       "40                           75000                                120  \n",
       "41                           52333                                 76  \n",
       "42                           51133                                 63  \n",
       "45                               0                                  0  \n",
       "...                            ...                                ...  \n",
       "9963                         24667                                 64  \n",
       "9964                         72225                                104  \n",
       "9965                         75333                                130  \n",
       "9966                          8500                                 16  \n",
       "9967                         80000                                108  \n",
       "9968                         73333                                 96  \n",
       "9969                         52500                                 94  \n",
       "9970                         60000                                 94  \n",
       "9971                         63333                                 98  \n",
       "9973                         23833                                 37  \n",
       "9974                         60500                                107  \n",
       "9975                         92250                                151  \n",
       "9977                         89975                                109  \n",
       "9979                         64250                                100  \n",
       "9980                         15333                                 36  \n",
       "9981                         13333                                 25  \n",
       "9982                         21250                                 51  \n",
       "9983                         63833                                 84  \n",
       "9985                         54500                                 82  \n",
       "9986                         39833                                102  \n",
       "9987                         68833                                104  \n",
       "9989                         37667                                 75  \n",
       "9990                         57500                                 67  \n",
       "9991                          6667                                 14  \n",
       "9993                         60500                                 60  \n",
       "9994                         51667                                 77  \n",
       "9995                         61500                                128  \n",
       "9996                          1967                                  3  \n",
       "9997                         87250                                142  \n",
       "9998                         19000                                 44  \n",
       "\n",
       "[7308 rows x 18 columns]"
      ]
     },
     "execution_count": 3,
     "metadata": {},
     "output_type": "execute_result"
    }
   ],
   "source": [
    "df_res= df.loc[df[\"summary/propclass\"] == \"Single Family Residence / Townhouse\", :]\n",
    "df_res"
   ]
  },
  {
   "cell_type": "code",
   "execution_count": 4,
   "metadata": {},
   "outputs": [],
   "source": [
    "df_r=pd.read_csv('desc_df2.csv')"
   ]
  },
  {
   "cell_type": "code",
   "execution_count": 5,
   "metadata": {},
   "outputs": [
    {
     "data": {
      "text/plain": [
       "[18288000000000,\n",
       " 18260800000000,\n",
       " 18276200000000,\n",
       " 1700620000000,\n",
       " 5248640000000,\n",
       " 15924400000000,\n",
       " 25355100000000,\n",
       " 1404250000000,\n",
       " 18250500000000,\n",
       " 18261100000000,\n",
       " 4697170000000,\n",
       " 455052000000,\n",
       " 14938700000000,\n",
       " 14517800000000,\n",
       " 2310610000000,\n",
       " 5435820000000,\n",
       " 1280370000000,\n",
       " 18262500000000,\n",
       " 2932390000000,\n",
       " 18227500000000,\n",
       " 257985000000,\n",
       " 18205200000000,\n",
       " 20741139153,\n",
       " 54224139153,\n",
       " 2310600000000,\n",
       " 2202480000000,\n",
       " 18256700000000,\n",
       " 18356200000000,\n",
       " 5021190000000,\n",
       " 265841000000,\n",
       " 18262000000000,\n",
       " 18349100000000,\n",
       " 18248600000000,\n",
       " 2275170000000,\n",
       " 948893000000,\n",
       " 18255500000000,\n",
       " 5253710000000,\n",
       " 4202890000000,\n",
       " 5023630000000,\n",
       " 2323620000000,\n",
       " 18255800000000,\n",
       " 2547880000000,\n",
       " 18253900000000,\n",
       " 14106600000000,\n",
       " 15320600000000,\n",
       " 18244400000000,\n",
       " 18352400000000,\n",
       " 18263400000000,\n",
       " 2573310000000,\n",
       " 18255500000000,\n",
       " 102148000000,\n",
       " 14824000000000,\n",
       " 3362200000000,\n",
       " 4693040000000,\n",
       " 14079100000000,\n",
       " 18336900000000,\n",
       " 18202300000000,\n",
       " 18348400000000,\n",
       " 290580000000,\n",
       " 2461790000000,\n",
       " 1233650000000,\n",
       " 14054600000000,\n",
       " 18270200000000,\n",
       " 5231820000000,\n",
       " 2607910000000,\n",
       " 18350900000000,\n",
       " 2019580000000,\n",
       " 5432480000000,\n",
       " 18260800000000,\n",
       " 24271000000000,\n",
       " 4426300000000,\n",
       " 235274000000,\n",
       " 3711110000000,\n",
       " 3701020000000,\n",
       " 196613000000,\n",
       " 173745000000,\n",
       " 15023000000000,\n",
       " 1953510000000,\n",
       " 18230300000000,\n",
       " 18246900000000,\n",
       " 148294000000,\n",
       " 196618000000,\n",
       " 18230700000000,\n",
       " 1807700000000,\n",
       " 18260500000000,\n",
       " 1726540000000,\n",
       " 427392000000,\n",
       " 14197300000000,\n",
       " 465254000000,\n",
       " 2115540000000,\n",
       " 14980000000000,\n",
       " 121462000000,\n",
       " 173728000000,\n",
       " 18242600000000,\n",
       " 18264100000000,\n",
       " 18263300000000,\n",
       " 194254000000,\n",
       " 24242300000000,\n",
       " 2649120000000,\n",
       " 940922000000,\n",
       " 955560000000,\n",
       " 18330100000000,\n",
       " 32096400000000,\n",
       " 18315300000000,\n",
       " 18263400000000,\n",
       " 18250200000000,\n",
       " 14991700000000,\n",
       " 18252500000000,\n",
       " 18315300000000,\n",
       " 1807420000000,\n",
       " 177664000000,\n",
       " 1777020000000,\n",
       " 18262400000000,\n",
       " 18261500000000,\n",
       " 2642470000000,\n",
       " 5374120000000,\n",
       " 18355500000000,\n",
       " 1708600000000,\n",
       " 1067540000000,\n",
       " 18202700000000,\n",
       " 18329400000000,\n",
       " 1876340000000,\n",
       " 4409830000000,\n",
       " 2374510000000,\n",
       " 2637350000000,\n",
       " 2612280000000,\n",
       " 62890539153,\n",
       " 2396200000000,\n",
       " 2592880000000,\n",
       " 4420260000000,\n",
       " 14024600000000,\n",
       " 14133500000000,\n",
       " 18207100000000,\n",
       " 488214000000,\n",
       " 2612710000000,\n",
       " 18347800000000,\n",
       " 1550810000000,\n",
       " 2523040000000,\n",
       " 14367500000000,\n",
       " 36254139151,\n",
       " 18357000000000,\n",
       " 2052650000000,\n",
       " 18204500000000,\n",
       " 721695000000,\n",
       " 14658300000000,\n",
       " 2116510000000,\n",
       " 4417470000000,\n",
       " 14717300000000,\n",
       " 18251000000000,\n",
       " 18256900000000,\n",
       " 14103000000000,\n",
       " 18280200000000,\n",
       " 18282100000000,\n",
       " 263282000000,\n",
       " 92122339153,\n",
       " 291177000000,\n",
       " 1304040000000,\n",
       " 18199800000000,\n",
       " 12810339035,\n",
       " 18249400000000,\n",
       " 18250700000000,\n",
       " 10010500000000,\n",
       " 18254600000000,\n",
       " 58832439153,\n",
       " 18330700000000,\n",
       " 14106900000000,\n",
       " 18254400000000,\n",
       " 18206100000000,\n",
       " 25085000000000,\n",
       " 18267700000000,\n",
       " 18253700000000,\n",
       " 18200200000000,\n",
       " 4126800000000,\n",
       " 3695670000000,\n",
       " 5367310000000,\n",
       " 1231120000000,\n",
       " 508025000000,\n",
       " 18258400000000,\n",
       " 18202700000000,\n",
       " 1688230000000,\n",
       " 1466380000000,\n",
       " 18225400000000,\n",
       " 18336300000000,\n",
       " 5024140000000,\n",
       " 18245200000000,\n",
       " 18264000000000,\n",
       " 14013800000000,\n",
       " 18342000000000,\n",
       " 18249300000000,\n",
       " 4131630000000,\n",
       " 18250800000000,\n",
       " 4721250000000,\n",
       " 2047710000000,\n",
       " 18201400000000,\n",
       " 14307400000000,\n",
       " 1495370000000,\n",
       " 15074000000000,\n",
       " 4111680000000,\n",
       " 5042730000000,\n",
       " 177989000000,\n",
       " 18252000000000,\n",
       " 832222000000,\n",
       " 18223700000000,\n",
       " 3713640000000,\n",
       " 18207700000000,\n",
       " 1713340000000,\n",
       " 2575980000000,\n",
       " 14517300000000,\n",
       " 18253800000000,\n",
       " 15182900000000,\n",
       " 18252000000000,\n",
       " 18263200000000,\n",
       " 3279930000000,\n",
       " 18262400000000,\n",
       " 24285300000000,\n",
       " 18315300000000,\n",
       " 18204300000000,\n",
       " 469230000000,\n",
       " 4685510000000,\n",
       " 1953480000000,\n",
       " 14774000000000,\n",
       " 2576000000000,\n",
       " 955560000000,\n",
       " 18196800000000,\n",
       " 469087000000,\n",
       " 2429620000000,\n",
       " 18247700000000,\n",
       " 18264500000000,\n",
       " 378806000000,\n",
       " 14883100000000,\n",
       " 18263700000000,\n",
       " 18314800000000,\n",
       " 18264000000000,\n",
       " 423488000000,\n",
       " 3712300000000,\n",
       " 2774860000000,\n",
       " 14917700000000,\n",
       " 18255300000000,\n",
       " 1890990000000,\n",
       " 18272200000000,\n",
       " 18263400000000,\n",
       " 365597000000,\n",
       " 18355600000000,\n",
       " 2355800000000,\n",
       " 18212400000000,\n",
       " 18329400000000,\n",
       " 18330000000000,\n",
       " 18200900000000,\n",
       " 14154400000000,\n",
       " 18344800000000,\n",
       " 5447240000000,\n",
       " 3712640000000,\n",
       " 18337100000000,\n",
       " 14495600000000,\n",
       " 2211610000000,\n",
       " 2607780000000,\n",
       " 2269730000000,\n",
       " 14117200000000,\n",
       " 18305500000000,\n",
       " 18271700000000,\n",
       " 18273400000000,\n",
       " 1938070000000,\n",
       " 18285900000000,\n",
       " 5380370000000,\n",
       " 290511000000,\n",
       " 1712080000000,\n",
       " 18259000000000,\n",
       " 2989560000000,\n",
       " 14395100000000,\n",
       " 18354000000000,\n",
       " 14317800000000,\n",
       " 18256600000000,\n",
       " 18261700000000,\n",
       " 767236000000,\n",
       " 5047110000000,\n",
       " 18255300000000,\n",
       " 18329600000000,\n",
       " 15170100000000,\n",
       " 1352240000000,\n",
       " 18261600000000,\n",
       " 14034000000000,\n",
       " 24581900000000,\n",
       " 1436270000000,\n",
       " 18251500000000,\n",
       " 18259500000000,\n",
       " 14177900000000,\n",
       " 15140000000000,\n",
       " 18329500000000,\n",
       " 18259000000000,\n",
       " 18251600000000,\n",
       " 2623980000000,\n",
       " 18253100000000,\n",
       " 18336200000000,\n",
       " 18253300000000,\n",
       " 1087760000000,\n",
       " 18221700000000,\n",
       " 14492900000000,\n",
       " 18259800000000,\n",
       " 14724500000000,\n",
       " 18249500000000,\n",
       " 14154300000000,\n",
       " 18229600000000,\n",
       " 14307400000000,\n",
       " 5359320000000,\n",
       " 18263400000000,\n",
       " 15147200000000,\n",
       " 15509400000000,\n",
       " 895184000000,\n",
       " 18259400000000,\n",
       " 4690510000000,\n",
       " 1981470000000,\n",
       " 4557050000000,\n",
       " 2332970000000,\n",
       " 5256810000000,\n",
       " 4067470000000,\n",
       " 173726000000,\n",
       " 2459690000000,\n",
       " 838114000000,\n",
       " 1796890000000,\n",
       " 18261100000000,\n",
       " 18203600000000,\n",
       " 64445239153,\n",
       " 4586090000000,\n",
       " 18248800000000,\n",
       " 18329500000000,\n",
       " 194160000000,\n",
       " 173785000000,\n",
       " 24538200000000,\n",
       " 18202300000000,\n",
       " 18257200000000,\n",
       " 18242600000000,\n",
       " 2176080000000,\n",
       " 14085500000000,\n",
       " 2724930000000,\n",
       " 18211300000000,\n",
       " 18249700000000,\n",
       " 18316200000000,\n",
       " 18259000000000,\n",
       " 20940000000000,\n",
       " 2300470000000,\n",
       " 18211200000000,\n",
       " 18257100000000,\n",
       " 18272400000000,\n",
       " 1032010000000,\n",
       " 32482600000000,\n",
       " 4128790000000,\n",
       " 24273800000000,\n",
       " 18342100000000,\n",
       " 24274600000000,\n",
       " 14388200000000,\n",
       " 18339600000000,\n",
       " 18261600000000,\n",
       " 18334500000000,\n",
       " 1400890000000,\n",
       " 62289939153,\n",
       " 18271700000000,\n",
       " 18204800000000,\n",
       " 18260500000000,\n",
       " 2310870000000,\n",
       " 1436140000000,\n",
       " 18263500000000,\n",
       " 32482600000000,\n",
       " 18206400000000,\n",
       " 173999000000,\n",
       " 14130500000000,\n",
       " 18202700000000,\n",
       " 506782000000,\n",
       " 15273800000000,\n",
       " 18258300000000,\n",
       " 18342300000000,\n",
       " 15123900000000,\n",
       " 18205800000000,\n",
       " 772647000000,\n",
       " 2328330000000,\n",
       " 1725720000000,\n",
       " 14252800000000,\n",
       " 5480320000000,\n",
       " 1938020000000,\n",
       " 18206400000000,\n",
       " 18260800000000,\n",
       " 14796700000000,\n",
       " 18204800000000,\n",
       " 4132970000000,\n",
       " 18206800000000,\n",
       " 1714710000000,\n",
       " 14393400000000,\n",
       " 18262300000000,\n",
       " 2093530000000,\n",
       " 2310430000000,\n",
       " 14811239153,\n",
       " 18198400000000,\n",
       " 18261900000000,\n",
       " 18207100000000,\n",
       " 15374800000000,\n",
       " 14746600000000,\n",
       " 1591420000000,\n",
       " 18264100000000,\n",
       " 2589360000000,\n",
       " 15510500000000,\n",
       " 4716330000000,\n",
       " 2049470000000,\n",
       " 3698230000000,\n",
       " 3716250000000,\n",
       " 3696170000000,\n",
       " 14893400000000,\n",
       " 2323190000000,\n",
       " 5040030000000,\n",
       " 18349900000000,\n",
       " 24275200000000,\n",
       " 18263100000000,\n",
       " 18263700000000,\n",
       " 14717300000000,\n",
       " 856116000000,\n",
       " 14938100000000,\n",
       " 18260700000000,\n",
       " 14281200000000,\n",
       " 4524450000000,\n",
       " 18357200000000,\n",
       " 149532000000,\n",
       " 14797100000000,\n",
       " 230544000000,\n",
       " 18248200000000,\n",
       " 18211000000000,\n",
       " 1558280000000,\n",
       " 18271900000000,\n",
       " 14102400000000,\n",
       " 2539940000000,\n",
       " 18260100000000,\n",
       " 305598000000,\n",
       " 1695180000000,\n",
       " 18201800000000,\n",
       " 1767430000000,\n",
       " 3702200000000,\n",
       " 1030490000000,\n",
       " 4684800000000,\n",
       " 18315900000000,\n",
       " 3669980000000,\n",
       " 2547850000000,\n",
       " 2327770000000,\n",
       " 944426000000,\n",
       " 1591420000000,\n",
       " 2533170000000,\n",
       " 18272900000000,\n",
       " 18270900000000,\n",
       " 24581900000000,\n",
       " 14637000000000,\n",
       " 18330200000000,\n",
       " 18263900000000,\n",
       " 22113400000000,\n",
       " 176113000000,\n",
       " 18247700000000,\n",
       " 18264100000000,\n",
       " 4428650000000,\n",
       " 18196700000000,\n",
       " 14694200000000,\n",
       " 14386900000000,\n",
       " 2007430000000,\n",
       " 1938030000000,\n",
       " 2958960000000,\n",
       " 372386000000,\n",
       " 412548000000,\n",
       " 2576000000000,\n",
       " 18260000000000,\n",
       " 18257000000000,\n",
       " 14376800000000,\n",
       " 18247400000000,\n",
       " 265837000000,\n",
       " 18254400000000,\n",
       " 2105220000000,\n",
       " 1694410000000,\n",
       " 2459580000000,\n",
       " 18351300000000,\n",
       " 18250800000000,\n",
       " 18271500000000,\n",
       " 2951210000000,\n",
       " 14716300000000,\n",
       " 15142500000000,\n",
       " 2201820000000,\n",
       " 14154300000000,\n",
       " 1444880000000,\n",
       " 1536740000000,\n",
       " 204411000000,\n",
       " 25259600000000,\n",
       " 5510639153,\n",
       " 18332800000000,\n",
       " 4677420000000,\n",
       " 5303550000000,\n",
       " 1355680000000,\n",
       " 18263500000000,\n",
       " 3673950000000,\n",
       " 165659000000,\n",
       " 18246400000000,\n",
       " 18314700000000,\n",
       " 18262800000000,\n",
       " 4115590000000,\n",
       " 4118420000000,\n",
       " 2117660000000,\n",
       " 18351400000000,\n",
       " 25259000000000,\n",
       " 32482600000000,\n",
       " 14128800000000,\n",
       " 18250200000000,\n",
       " 14724500000000,\n",
       " 14004200000000,\n",
       " 15087600000000,\n",
       " 1892220000000,\n",
       " 18251400000000,\n",
       " 18352400000000,\n",
       " 25098100000000,\n",
       " 531194000000,\n",
       " 4427440000000,\n",
       " 5358490000000,\n",
       " 1130330000000,\n",
       " 14922600000000,\n",
       " 1992600000000,\n",
       " 3695550000000,\n",
       " 7567439153,\n",
       " 18255300000000,\n",
       " 18262800000000,\n",
       " 4412140000000,\n",
       " 15299300000000,\n",
       " 3693230000000,\n",
       " 14517300000000,\n",
       " 196539000000,\n",
       " 2622640000000,\n",
       " 18330100000000,\n",
       " 18263000000000,\n",
       " 372375000000,\n",
       " 92209039153,\n",
       " 18226400000000,\n",
       " 1533340000000,\n",
       " 121262000000,\n",
       " 14846100000000,\n",
       " 3691510000000,\n",
       " 18202300000000,\n",
       " 866193000000,\n",
       " 18250800000000,\n",
       " 18271900000000,\n",
       " 18331100000000,\n",
       " 18271400000000,\n",
       " 746725000000,\n",
       " 14177900000000,\n",
       " 24647000000000,\n",
       " 14058400000000,\n",
       " 423496000000,\n",
       " 2310860000000,\n",
       " 2030380000000,\n",
       " 200411000000,\n",
       " 1431920000000,\n",
       " 5471580000000,\n",
       " 1938100000000,\n",
       " 18246400000000,\n",
       " 18253300000000,\n",
       " 18263700000000,\n",
       " 4692170000000,\n",
       " 18342000000000,\n",
       " 15281300000000,\n",
       " 3698010000000,\n",
       " 2171550000000,\n",
       " 1641400000000,\n",
       " 1688100000000,\n",
       " 18340700000000,\n",
       " 4438820000000,\n",
       " 5258180000000,\n",
       " 14926800000000,\n",
       " 4676820000000,\n",
       " 18271900000000,\n",
       " 3288390000000,\n",
       " 1399440000000,\n",
       " 18255300000000,\n",
       " 4422339151,\n",
       " 18263700000000,\n",
       " 2105200000000,\n",
       " 18228600000000,\n",
       " 24805100000000,\n",
       " 20506500000000,\n",
       " 2509400000000,\n",
       " 18265200000000,\n",
       " 2393840000000,\n",
       " 2175270000000,\n",
       " 18257600000000,\n",
       " 18262100000000,\n",
       " 4431830000000,\n",
       " 63885539151,\n",
       " 4133470000000,\n",
       " 18227300000000,\n",
       " 4988520000000,\n",
       " 15558000000000,\n",
       " 477075000000,\n",
       " 1953500000000,\n",
       " 14081600000000,\n",
       " 4108960000000,\n",
       " 18279500000000,\n",
       " 18252800000000,\n",
       " 15085100000000,\n",
       " 925948000000,\n",
       " 3707880000000,\n",
       " 14178200000000,\n",
       " 2218020000000,\n",
       " 4720780000000,\n",
       " 1904490000000,\n",
       " 14247800000000,\n",
       " 84044539153,\n",
       " 18260200000000,\n",
       " 1386490000000,\n",
       " 18263900000000,\n",
       " 4680150000000,\n",
       " 4687270000000,\n",
       " 3718320000000,\n",
       " 4140250000000,\n",
       " 2691140000000,\n",
       " 14325400000000,\n",
       " 24285700000000,\n",
       " 14054600000000,\n",
       " 3692120000000,\n",
       " 18330600000000,\n",
       " 4687210000000,\n",
       " 159600000000,\n",
       " 3671550000000,\n",
       " 4132100000000,\n",
       " 3700610000000,\n",
       " 18264500000000,\n",
       " 2037350000000,\n",
       " 2137130000000,\n",
       " 18255700000000,\n",
       " 18223700000000,\n",
       " 18250100000000,\n",
       " 18259000000000,\n",
       " 14551100000000,\n",
       " 19626339153,\n",
       " 2475750000000,\n",
       " 122075000000,\n",
       " 18355900000000,\n",
       " 4123230000000,\n",
       " 1434030000000,\n",
       " 2951340000000,\n",
       " 8767739153,\n",
       " 18262400000000,\n",
       " 18257200000000,\n",
       " 4130430000000,\n",
       " 1426470000000,\n",
       " 2538010000000,\n",
       " 4881639153,\n",
       " 18271600000000,\n",
       " 18251400000000,\n",
       " 18207200000000,\n",
       " 18273500000000,\n",
       " 2957970000000,\n",
       " 18333400000000,\n",
       " 2534800000000,\n",
       " 18318400000000,\n",
       " 32499000000000,\n",
       " 247222000000,\n",
       " 24271100000000,\n",
       " 18329700000000,\n",
       " 18252800000000,\n",
       " 18263600000000,\n",
       " 14545500000000,\n",
       " 14839800000000,\n",
       " 18333400000000,\n",
       " 18930039153,\n",
       " 18321400000000,\n",
       " 25634439103,\n",
       " 14690100000000,\n",
       " 32482600000000,\n",
       " 2505670000000,\n",
       " 18263600000000,\n",
       " 18256300000000,\n",
       " 14004000000000,\n",
       " 18258300000000,\n",
       " 25120400000000,\n",
       " 18246100000000,\n",
       " 18226400000000,\n",
       " 18350800000000,\n",
       " 18340100000000,\n",
       " 64567039153,\n",
       " 832315000000,\n",
       " 18255200000000,\n",
       " 18247400000000,\n",
       " 1014190000000,\n",
       " 18246900000000,\n",
       " 2459540000000,\n",
       " 18330300000000,\n",
       " 5239910000000,\n",
       " 24581900000000,\n",
       " 2547880000000,\n",
       " 18251700000000,\n",
       " 18256800000000,\n",
       " 18261500000000,\n",
       " 2437120000000,\n",
       " 2774860000000,\n",
       " 1665610000000,\n",
       " 14945800000000,\n",
       " 24581900000000,\n",
       " 18257900000000,\n",
       " 2576740000000,\n",
       " 5441690000000,\n",
       " 18263400000000,\n",
       " 403739000000,\n",
       " 465256000000,\n",
       " 5405610000000,\n",
       " 18224800000000,\n",
       " 24581900000000,\n",
       " 14290800000000,\n",
       " 18333400000000,\n",
       " 2014830000000,\n",
       " 984706000000,\n",
       " 14701100000000,\n",
       " 3294810000000,\n",
       " 2494090000000,\n",
       " 899999000000,\n",
       " 1715950000000,\n",
       " 18253600000000,\n",
       " 2323630000000,\n",
       " 1434430000000,\n",
       " 14690100000000,\n",
       " 18249900000000,\n",
       " 50191339153,\n",
       " 18200200000000,\n",
       " 2214360000000,\n",
       " 18258700000000,\n",
       " 4690630000000,\n",
       " 15340600000000,\n",
       " 4675590000000,\n",
       " 18329700000000,\n",
       " 18257900000000,\n",
       " 14923600000000,\n",
       " 4109730000000,\n",
       " 5375270000000,\n",
       " 4124570000000,\n",
       " 2019580000000,\n",
       " 1508100000000,\n",
       " 14839200000000,\n",
       " 5032530000000,\n",
       " 18270700000000,\n",
       " 18261500000000,\n",
       " 15391200000000,\n",
       " 14868700000000,\n",
       " 18254600000000,\n",
       " 5358900000000,\n",
       " 18261700000000,\n",
       " 1786820000000,\n",
       " 14497600000000,\n",
       " 2470770000000,\n",
       " 18280200000000,\n",
       " 18340100000000,\n",
       " 1759840000000,\n",
       " 24272000000000,\n",
       " 5027110000000,\n",
       " 18263900000000,\n",
       " 18256800000000,\n",
       " 14797100000000,\n",
       " 18271900000000,\n",
       " 2115550000000,\n",
       " 1713240000000,\n",
       " 24841800000000,\n",
       " 18263700000000,\n",
       " 18253300000000,\n",
       " 18217000000000,\n",
       " 1061390000000,\n",
       " 14133500000000,\n",
       " 1355680000000,\n",
       " 1368100000000,\n",
       " 18206800000000,\n",
       " 18329500000000,\n",
       " 18263100000000,\n",
       " 465259000000,\n",
       " 18338300000000,\n",
       " 5054250000000,\n",
       " 765758000000,\n",
       " 14850600000000,\n",
       " 14633400000000,\n",
       " 18272400000000,\n",
       " 14223100000000,\n",
       " 18242600000000,\n",
       " 18244400000000,\n",
       " 18315200000000,\n",
       " 5427190000000,\n",
       " 18223600000000,\n",
       " 18271800000000,\n",
       " 4679290000000,\n",
       " 5461020000000,\n",
       " 18258800000000,\n",
       " 321076000000,\n",
       " 196613000000,\n",
       " 18204300000000,\n",
       " 4707040000000,\n",
       " 18253700000000,\n",
       " 32094200000000,\n",
       " 2060470000000,\n",
       " 18256100000000,\n",
       " 14005800000000,\n",
       " 2535760000000,\n",
       " 15052400000000,\n",
       " 24275900000000,\n",
       " 18250500000000,\n",
       " 2379530000000,\n",
       " 1938070000000,\n",
       " 14823800000000,\n",
       " 18271400000000,\n",
       " 2607770000000,\n",
       " 15389800000000,\n",
       " 2037330000000,\n",
       " 72104339103,\n",
       " 3295220000000,\n",
       " 2328290000000,\n",
       " 32482600000000,\n",
       " 18278100000000,\n",
       " 177971000000,\n",
       " 18250200000000,\n",
       " 21724600000000,\n",
       " 4065040000000,\n",
       " 4674530000000,\n",
       " 4272970000000,\n",
       " 30219539151,\n",
       " 18260000000000,\n",
       " 5269710000000,\n",
       " 4425910000000,\n",
       " 1771090000000,\n",
       " 18256200000000,\n",
       " 3707590000000,\n",
       " 18338300000000,\n",
       " 18252200000000,\n",
       " 14574200000000,\n",
       " 14307500000000,\n",
       " 14437300000000,\n",
       " 1981860000000,\n",
       " 18353700000000,\n",
       " 5436830000000,\n",
       " 706479000000,\n",
       " 1846950000000,\n",
       " 18262700000000,\n",
       " 2743870000000,\n",
       " 2461290000000,\n",
       " 3859240000000,\n",
       " 18258700000000,\n",
       " 15254500000000,\n",
       " 18206400000000,\n",
       " 18264600000000,\n",
       " 461817000000,\n",
       " 32482600000000,\n",
       " 18216700000000,\n",
       " 18261200000000,\n",
       " 4668150000000,\n",
       " 18242400000000,\n",
       " 15841700000000,\n",
       " 1757480000000,\n",
       " 2084970000000,\n",
       " 4678180000000,\n",
       " 14893300000000,\n",
       " 18331200000000,\n",
       " 24841800000000,\n",
       " 32095900000000,\n",
       " 2697220000000,\n",
       " 1443080000000,\n",
       " 18336400000000,\n",
       " 4667160000000,\n",
       " 2065760000000,\n",
       " 21740200000000,\n",
       " 5294920000000,\n",
       " 14140400000000,\n",
       " 25128100000000,\n",
       " 3299380000000,\n",
       " 4261860000000,\n",
       " 18278700000000,\n",
       " 4411810000000,\n",
       " 18263400000000,\n",
       " 4409760000000,\n",
       " 14376800000000,\n",
       " 18211000000000,\n",
       " 2371590000000,\n",
       " 315526000000,\n",
       " 92098539153,\n",
       " 18250000000000,\n",
       " 24247200000000,\n",
       " 18261100000000,\n",
       " 55637439151,\n",
       " 20390900000000,\n",
       " 2310970000000,\n",
       " 18259200000000,\n",
       " 18259400000000,\n",
       " 18260500000000,\n",
       " 948931000000,\n",
       " 18205600000000,\n",
       " 4129990000000,\n",
       " 4681160000000,\n",
       " 465268000000,\n",
       " 485356000000,\n",
       " 5020170000000,\n",
       " 14607900000000,\n",
       " 2442680000000,\n",
       " 32094100000000,\n",
       " 337738000000,\n",
       " 18255800000000,\n",
       " 2332680000000,\n",
       " 18253600000000,\n",
       " 21689300000000,\n",
       " 1854700000000,\n",
       " 18341500000000,\n",
       " 18315200000000,\n",
       " 18271800000000,\n",
       " 18258400000000,\n",
       " 14548800000000,\n",
       " 177634000000,\n",
       " 4331340000000,\n",
       " 1130320000000,\n",
       " 1137860000000,\n",
       " 465261000000,\n",
       " 141130000000,\n",
       " 14578600000000,\n",
       " 4126200000000,\n",
       " 18257100000000,\n",
       " 2393830000000,\n",
       " 20933900000000,\n",
       " 24275100000000,\n",
       " 4684930000000,\n",
       " 293582000000,\n",
       " 5433380000000,\n",
       " 18285500000000,\n",
       " 2132690000000,\n",
       " 1493600000000,\n",
       " 14424900000000,\n",
       " 25273900000000,\n",
       " 14787100000000,\n",
       " 18280700000000,\n",
       " 18356200000000,\n",
       " 1953520000000,\n",
       " 14573900000000,\n",
       " 14922600000000,\n",
       " 14066900000000,\n",
       " 53429239153,\n",
       " 1771630000000,\n",
       " 4327339153,\n",
       " 18251300000000,\n",
       " 2332740000000,\n",
       " 14348600000000,\n",
       " 18207300000000,\n",
       " 14358700000000,\n",
       " 14694300000000,\n",
       " 2310430000000,\n",
       " 14716400000000,\n",
       " 18203500000000,\n",
       " 18206000000000,\n",
       " 190162000000,\n",
       " 18201400000000,\n",
       " 3491380000000,\n",
       " 854832000000,\n",
       " 173746000000,\n",
       " 977873000000,\n",
       " 15155100000000,\n",
       " 18207000000000,\n",
       " 18277700000000,\n",
       " 1092090000000,\n",
       " 18252000000000,\n",
       " 14248400000000,\n",
       " 18206800000000,\n",
       " 74337639153,\n",
       " 14511600000000,\n",
       " 18272900000000,\n",
       " 18206700000000,\n",
       " 18251000000000,\n",
       " 18272300000000,\n",
       " 1733400000000,\n",
       " 15268800000000,\n",
       " 2128850000000,\n",
       " 1383160000000,\n",
       " 2779620000000,\n",
       " 18261400000000,\n",
       " 439400000000,\n",
       " 5064730000000,\n",
       " 18270800000000,\n",
       " 2434690000000,\n",
       " 2732640000000,\n",
       " 32094100000000,\n",
       " 5285190000000,\n",
       " 4670680000000,\n",
       " 2648920000000,\n",
       " 5048550000000,\n",
       " 2569290000000,\n",
       " 18244800000000,\n",
       " 20740239153,\n",
       " 1503580000000,\n",
       " 18340600000000,\n",
       " 18224600000000,\n",
       " 18224700000000,\n",
       " 18251700000000,\n",
       " 4137070000000,\n",
       " 18357200000000,\n",
       " 18330200000000,\n",
       " 18251900000000,\n",
       " 18338900000000,\n",
       " 3693290000000,\n",
       " 2947290000000,\n",
       " 18254100000000,\n",
       " 69139139153,\n",
       " 3701170000000,\n",
       " 18330200000000,\n",
       " 14839800000000,\n",
       " 18255300000000,\n",
       " 18197500000000]"
      ]
     },
     "execution_count": 5,
     "metadata": {},
     "output_type": "execute_result"
    }
   ],
   "source": [
    "df_r['identifier/obPropId'].astype(str)\n",
    "ids=df_r['identifier/obPropId'].tolist()\n",
    "ids"
   ]
  },
  {
   "cell_type": "code",
   "execution_count": 6,
   "metadata": {},
   "outputs": [],
   "source": [
    "desc_df = df_res.sort_values(\"sale/amount/salerecdate\", ascending=False)\n",
    "desc_df2=desc_df.iloc[0:1000, :]\n",
    "#desc_df2.to_csv('desc_df.csv')"
   ]
  },
  {
   "cell_type": "code",
   "execution_count": 12,
   "metadata": {},
   "outputs": [],
   "source": [
    "desc_df4=desc_df3.loc[df[\"sale/amount/saleamt\"] < 1000000, :]"
   ]
  },
  {
   "cell_type": "code",
   "execution_count": 13,
   "metadata": {},
   "outputs": [],
   "source": [
    "desc_df3=desc_df2.loc[df[\"summary/yearbuilt\"] > 1, :]"
   ]
  },
  {
   "cell_type": "code",
   "execution_count": 14,
   "metadata": {},
   "outputs": [],
   "source": [
    "desc_df5=desc_df4.loc[df['building/rooms/bathstotal'] > 0, :]"
   ]
  },
  {
   "cell_type": "code",
   "execution_count": 15,
   "metadata": {
    "scrolled": true
   },
   "outputs": [
    {
     "data": {
      "text/html": [
       "<div>\n",
       "<style scoped>\n",
       "    .dataframe tbody tr th:only-of-type {\n",
       "        vertical-align: middle;\n",
       "    }\n",
       "\n",
       "    .dataframe tbody tr th {\n",
       "        vertical-align: top;\n",
       "    }\n",
       "\n",
       "    .dataframe thead th {\n",
       "        text-align: right;\n",
       "    }\n",
       "</style>\n",
       "<table border=\"1\" class=\"dataframe\">\n",
       "  <thead>\n",
       "    <tr style=\"text-align: right;\">\n",
       "      <th></th>\n",
       "      <th>LotSizeAcres</th>\n",
       "      <th>location/latitude</th>\n",
       "      <th>location/longitude</th>\n",
       "      <th>location/distance</th>\n",
       "      <th>summary/yearbuilt</th>\n",
       "      <th>building/rooms/bathstotal</th>\n",
       "      <th>building/rooms/beds</th>\n",
       "      <th>sale/amount/saleamt</th>\n",
       "    </tr>\n",
       "  </thead>\n",
       "  <tbody>\n",
       "    <tr>\n",
       "      <th>7098</th>\n",
       "      <td>0.2251</td>\n",
       "      <td>41.202632</td>\n",
       "      <td>-81.840360</td>\n",
       "      <td>16.44</td>\n",
       "      <td>2013</td>\n",
       "      <td>3.0</td>\n",
       "      <td>3</td>\n",
       "      <td>205000</td>\n",
       "    </tr>\n",
       "    <tr>\n",
       "      <th>7203</th>\n",
       "      <td>0.4649</td>\n",
       "      <td>41.222498</td>\n",
       "      <td>-81.437658</td>\n",
       "      <td>26.24</td>\n",
       "      <td>1970</td>\n",
       "      <td>3.0</td>\n",
       "      <td>4</td>\n",
       "      <td>253000</td>\n",
       "    </tr>\n",
       "    <tr>\n",
       "      <th>5860</th>\n",
       "      <td>0.7800</td>\n",
       "      <td>41.135813</td>\n",
       "      <td>-81.702880</td>\n",
       "      <td>22.41</td>\n",
       "      <td>1860</td>\n",
       "      <td>1.0</td>\n",
       "      <td>2</td>\n",
       "      <td>119000</td>\n",
       "    </tr>\n",
       "    <tr>\n",
       "      <th>7112</th>\n",
       "      <td>0.1846</td>\n",
       "      <td>41.202717</td>\n",
       "      <td>-81.498664</td>\n",
       "      <td>24.61</td>\n",
       "      <td>2007</td>\n",
       "      <td>3.0</td>\n",
       "      <td>3</td>\n",
       "      <td>300000</td>\n",
       "    </tr>\n",
       "    <tr>\n",
       "      <th>284</th>\n",
       "      <td>0.1802</td>\n",
       "      <td>40.803548</td>\n",
       "      <td>-81.521420</td>\n",
       "      <td>47.21</td>\n",
       "      <td>1897</td>\n",
       "      <td>1.0</td>\n",
       "      <td>2</td>\n",
       "      <td>28000</td>\n",
       "    </tr>\n",
       "    <tr>\n",
       "      <th>602</th>\n",
       "      <td>0.1822</td>\n",
       "      <td>40.796511</td>\n",
       "      <td>-81.457538</td>\n",
       "      <td>48.96</td>\n",
       "      <td>1953</td>\n",
       "      <td>2.0</td>\n",
       "      <td>3</td>\n",
       "      <td>119000</td>\n",
       "    </tr>\n",
       "    <tr>\n",
       "      <th>7451</th>\n",
       "      <td>0.3140</td>\n",
       "      <td>41.243120</td>\n",
       "      <td>-81.828670</td>\n",
       "      <td>13.68</td>\n",
       "      <td>2016</td>\n",
       "      <td>3.0</td>\n",
       "      <td>4</td>\n",
       "      <td>344900</td>\n",
       "    </tr>\n",
       "    <tr>\n",
       "      <th>193</th>\n",
       "      <td>0.1488</td>\n",
       "      <td>40.796793</td>\n",
       "      <td>-81.476942</td>\n",
       "      <td>48.53</td>\n",
       "      <td>1954</td>\n",
       "      <td>1.0</td>\n",
       "      <td>3</td>\n",
       "      <td>57000</td>\n",
       "    </tr>\n",
       "    <tr>\n",
       "      <th>8709</th>\n",
       "      <td>0.5800</td>\n",
       "      <td>41.089421</td>\n",
       "      <td>-81.220974</td>\n",
       "      <td>40.78</td>\n",
       "      <td>1973</td>\n",
       "      <td>2.0</td>\n",
       "      <td>4</td>\n",
       "      <td>169900</td>\n",
       "    </tr>\n",
       "    <tr>\n",
       "      <th>2574</th>\n",
       "      <td>0.5739</td>\n",
       "      <td>41.003723</td>\n",
       "      <td>-81.652752</td>\n",
       "      <td>31.87</td>\n",
       "      <td>1932</td>\n",
       "      <td>1.0</td>\n",
       "      <td>2</td>\n",
       "      <td>142000</td>\n",
       "    </tr>\n",
       "    <tr>\n",
       "      <th>4038</th>\n",
       "      <td>0.7151</td>\n",
       "      <td>41.075608</td>\n",
       "      <td>-81.405548</td>\n",
       "      <td>34.24</td>\n",
       "      <td>1943</td>\n",
       "      <td>1.0</td>\n",
       "      <td>3</td>\n",
       "      <td>75000</td>\n",
       "    </tr>\n",
       "    <tr>\n",
       "      <th>5454</th>\n",
       "      <td>0.1377</td>\n",
       "      <td>41.012177</td>\n",
       "      <td>-81.598970</td>\n",
       "      <td>32.35</td>\n",
       "      <td>1918</td>\n",
       "      <td>1.0</td>\n",
       "      <td>2</td>\n",
       "      <td>79900</td>\n",
       "    </tr>\n",
       "    <tr>\n",
       "      <th>3193</th>\n",
       "      <td>0.3939</td>\n",
       "      <td>40.900372</td>\n",
       "      <td>-81.338906</td>\n",
       "      <td>45.86</td>\n",
       "      <td>1993</td>\n",
       "      <td>3.0</td>\n",
       "      <td>4</td>\n",
       "      <td>236000</td>\n",
       "    </tr>\n",
       "    <tr>\n",
       "      <th>1729</th>\n",
       "      <td>0.0918</td>\n",
       "      <td>40.819967</td>\n",
       "      <td>-81.357023</td>\n",
       "      <td>49.99</td>\n",
       "      <td>1949</td>\n",
       "      <td>1.0</td>\n",
       "      <td>2</td>\n",
       "      <td>24800</td>\n",
       "    </tr>\n",
       "    <tr>\n",
       "      <th>2683</th>\n",
       "      <td>0.0803</td>\n",
       "      <td>41.016386</td>\n",
       "      <td>-81.614320</td>\n",
       "      <td>31.77</td>\n",
       "      <td>1889</td>\n",
       "      <td>2.0</td>\n",
       "      <td>3</td>\n",
       "      <td>72000</td>\n",
       "    </tr>\n",
       "    <tr>\n",
       "      <th>4525</th>\n",
       "      <td>0.1642</td>\n",
       "      <td>41.082070</td>\n",
       "      <td>-81.468180</td>\n",
       "      <td>31.77</td>\n",
       "      <td>1949</td>\n",
       "      <td>1.0</td>\n",
       "      <td>3</td>\n",
       "      <td>65900</td>\n",
       "    </tr>\n",
       "    <tr>\n",
       "      <th>8006</th>\n",
       "      <td>0.1149</td>\n",
       "      <td>41.069139</td>\n",
       "      <td>-81.494984</td>\n",
       "      <td>31.64</td>\n",
       "      <td>1917</td>\n",
       "      <td>2.0</td>\n",
       "      <td>4</td>\n",
       "      <td>37500</td>\n",
       "    </tr>\n",
       "    <tr>\n",
       "      <th>8996</th>\n",
       "      <td>0.2482</td>\n",
       "      <td>41.107339</td>\n",
       "      <td>-81.505897</td>\n",
       "      <td>29.19</td>\n",
       "      <td>1949</td>\n",
       "      <td>1.0</td>\n",
       "      <td>3</td>\n",
       "      <td>48000</td>\n",
       "    </tr>\n",
       "    <tr>\n",
       "      <th>8259</th>\n",
       "      <td>0.1114</td>\n",
       "      <td>41.279083</td>\n",
       "      <td>-81.804607</td>\n",
       "      <td>11.41</td>\n",
       "      <td>1995</td>\n",
       "      <td>1.0</td>\n",
       "      <td>3</td>\n",
       "      <td>196500</td>\n",
       "    </tr>\n",
       "    <tr>\n",
       "      <th>9447</th>\n",
       "      <td>0.4591</td>\n",
       "      <td>41.335654</td>\n",
       "      <td>-81.687012</td>\n",
       "      <td>11.18</td>\n",
       "      <td>1988</td>\n",
       "      <td>3.0</td>\n",
       "      <td>4</td>\n",
       "      <td>330000</td>\n",
       "    </tr>\n",
       "    <tr>\n",
       "      <th>3811</th>\n",
       "      <td>0.3214</td>\n",
       "      <td>41.058538</td>\n",
       "      <td>-81.454867</td>\n",
       "      <td>33.48</td>\n",
       "      <td>1950</td>\n",
       "      <td>1.0</td>\n",
       "      <td>2</td>\n",
       "      <td>84000</td>\n",
       "    </tr>\n",
       "    <tr>\n",
       "      <th>4287</th>\n",
       "      <td>0.4700</td>\n",
       "      <td>40.963736</td>\n",
       "      <td>-81.518662</td>\n",
       "      <td>37.19</td>\n",
       "      <td>1973</td>\n",
       "      <td>3.0</td>\n",
       "      <td>3</td>\n",
       "      <td>16000</td>\n",
       "    </tr>\n",
       "    <tr>\n",
       "      <th>9377</th>\n",
       "      <td>0.4637</td>\n",
       "      <td>41.330746</td>\n",
       "      <td>-81.492304</td>\n",
       "      <td>20.12</td>\n",
       "      <td>1993</td>\n",
       "      <td>3.0</td>\n",
       "      <td>4</td>\n",
       "      <td>210000</td>\n",
       "    </tr>\n",
       "    <tr>\n",
       "      <th>6141</th>\n",
       "      <td>0.6600</td>\n",
       "      <td>41.031518</td>\n",
       "      <td>-81.650966</td>\n",
       "      <td>30.10</td>\n",
       "      <td>1953</td>\n",
       "      <td>1.0</td>\n",
       "      <td>2</td>\n",
       "      <td>150500</td>\n",
       "    </tr>\n",
       "    <tr>\n",
       "      <th>5994</th>\n",
       "      <td>0.1417</td>\n",
       "      <td>41.141974</td>\n",
       "      <td>-81.858376</td>\n",
       "      <td>20.62</td>\n",
       "      <td>1955</td>\n",
       "      <td>1.0</td>\n",
       "      <td>3</td>\n",
       "      <td>112000</td>\n",
       "    </tr>\n",
       "    <tr>\n",
       "      <th>855</th>\n",
       "      <td>0.1694</td>\n",
       "      <td>40.815283</td>\n",
       "      <td>-81.405336</td>\n",
       "      <td>49.02</td>\n",
       "      <td>1967</td>\n",
       "      <td>1.0</td>\n",
       "      <td>2</td>\n",
       "      <td>112000</td>\n",
       "    </tr>\n",
       "    <tr>\n",
       "      <th>2668</th>\n",
       "      <td>0.1971</td>\n",
       "      <td>41.014277</td>\n",
       "      <td>-81.590009</td>\n",
       "      <td>32.41</td>\n",
       "      <td>1943</td>\n",
       "      <td>2.0</td>\n",
       "      <td>3</td>\n",
       "      <td>114000</td>\n",
       "    </tr>\n",
       "    <tr>\n",
       "      <th>6123</th>\n",
       "      <td>0.1488</td>\n",
       "      <td>41.149825</td>\n",
       "      <td>-81.485222</td>\n",
       "      <td>27.66</td>\n",
       "      <td>1950</td>\n",
       "      <td>2.0</td>\n",
       "      <td>4</td>\n",
       "      <td>146950</td>\n",
       "    </tr>\n",
       "    <tr>\n",
       "      <th>9300</th>\n",
       "      <td>0.1544</td>\n",
       "      <td>41.326942</td>\n",
       "      <td>-81.523291</td>\n",
       "      <td>18.75</td>\n",
       "      <td>1999</td>\n",
       "      <td>2.0</td>\n",
       "      <td>3</td>\n",
       "      <td>245000</td>\n",
       "    </tr>\n",
       "    <tr>\n",
       "      <th>1793</th>\n",
       "      <td>0.1954</td>\n",
       "      <td>40.825580</td>\n",
       "      <td>-81.405035</td>\n",
       "      <td>48.40</td>\n",
       "      <td>1945</td>\n",
       "      <td>1.0</td>\n",
       "      <td>3</td>\n",
       "      <td>96000</td>\n",
       "    </tr>\n",
       "    <tr>\n",
       "      <th>...</th>\n",
       "      <td>...</td>\n",
       "      <td>...</td>\n",
       "      <td>...</td>\n",
       "      <td>...</td>\n",
       "      <td>...</td>\n",
       "      <td>...</td>\n",
       "      <td>...</td>\n",
       "      <td>...</td>\n",
       "    </tr>\n",
       "    <tr>\n",
       "      <th>622</th>\n",
       "      <td>0.7110</td>\n",
       "      <td>40.798537</td>\n",
       "      <td>-82.023218</td>\n",
       "      <td>45.22</td>\n",
       "      <td>1994</td>\n",
       "      <td>2.0</td>\n",
       "      <td>3</td>\n",
       "      <td>74900</td>\n",
       "    </tr>\n",
       "    <tr>\n",
       "      <th>6067</th>\n",
       "      <td>0.1894</td>\n",
       "      <td>41.146347</td>\n",
       "      <td>-81.863691</td>\n",
       "      <td>20.32</td>\n",
       "      <td>1922</td>\n",
       "      <td>1.0</td>\n",
       "      <td>3</td>\n",
       "      <td>124000</td>\n",
       "    </tr>\n",
       "    <tr>\n",
       "      <th>6726</th>\n",
       "      <td>0.2410</td>\n",
       "      <td>41.161509</td>\n",
       "      <td>-81.429992</td>\n",
       "      <td>29.17</td>\n",
       "      <td>1960</td>\n",
       "      <td>1.0</td>\n",
       "      <td>3</td>\n",
       "      <td>95000</td>\n",
       "    </tr>\n",
       "    <tr>\n",
       "      <th>6871</th>\n",
       "      <td>0.1295</td>\n",
       "      <td>41.171300</td>\n",
       "      <td>-81.532540</td>\n",
       "      <td>24.90</td>\n",
       "      <td>2017</td>\n",
       "      <td>3.0</td>\n",
       "      <td>4</td>\n",
       "      <td>281610</td>\n",
       "    </tr>\n",
       "    <tr>\n",
       "      <th>6419</th>\n",
       "      <td>0.1240</td>\n",
       "      <td>41.045902</td>\n",
       "      <td>-81.520696</td>\n",
       "      <td>32.22</td>\n",
       "      <td>1918</td>\n",
       "      <td>1.0</td>\n",
       "      <td>4</td>\n",
       "      <td>3300</td>\n",
       "    </tr>\n",
       "    <tr>\n",
       "      <th>8864</th>\n",
       "      <td>0.2223</td>\n",
       "      <td>41.097597</td>\n",
       "      <td>-81.561853</td>\n",
       "      <td>28.05</td>\n",
       "      <td>1958</td>\n",
       "      <td>2.0</td>\n",
       "      <td>4</td>\n",
       "      <td>179000</td>\n",
       "    </tr>\n",
       "    <tr>\n",
       "      <th>3672</th>\n",
       "      <td>0.1148</td>\n",
       "      <td>41.049892</td>\n",
       "      <td>-81.522611</td>\n",
       "      <td>31.93</td>\n",
       "      <td>1919</td>\n",
       "      <td>1.0</td>\n",
       "      <td>3</td>\n",
       "      <td>9500</td>\n",
       "    </tr>\n",
       "    <tr>\n",
       "      <th>5119</th>\n",
       "      <td>0.2687</td>\n",
       "      <td>41.117437</td>\n",
       "      <td>-81.560210</td>\n",
       "      <td>26.96</td>\n",
       "      <td>1955</td>\n",
       "      <td>1.0</td>\n",
       "      <td>3</td>\n",
       "      <td>33000</td>\n",
       "    </tr>\n",
       "    <tr>\n",
       "      <th>322</th>\n",
       "      <td>0.0448</td>\n",
       "      <td>40.805643</td>\n",
       "      <td>-81.398169</td>\n",
       "      <td>49.78</td>\n",
       "      <td>1929</td>\n",
       "      <td>1.0</td>\n",
       "      <td>2</td>\n",
       "      <td>24900</td>\n",
       "    </tr>\n",
       "    <tr>\n",
       "      <th>9606</th>\n",
       "      <td>2.9800</td>\n",
       "      <td>41.343295</td>\n",
       "      <td>-81.896243</td>\n",
       "      <td>7.12</td>\n",
       "      <td>1966</td>\n",
       "      <td>3.0</td>\n",
       "      <td>4</td>\n",
       "      <td>368000</td>\n",
       "    </tr>\n",
       "    <tr>\n",
       "      <th>7866</th>\n",
       "      <td>0.1433</td>\n",
       "      <td>41.059020</td>\n",
       "      <td>-81.512913</td>\n",
       "      <td>31.68</td>\n",
       "      <td>1910</td>\n",
       "      <td>2.0</td>\n",
       "      <td>3</td>\n",
       "      <td>40000</td>\n",
       "    </tr>\n",
       "    <tr>\n",
       "      <th>4678</th>\n",
       "      <td>0.1570</td>\n",
       "      <td>41.091847</td>\n",
       "      <td>-81.557472</td>\n",
       "      <td>28.51</td>\n",
       "      <td>1925</td>\n",
       "      <td>3.0</td>\n",
       "      <td>4</td>\n",
       "      <td>90000</td>\n",
       "    </tr>\n",
       "    <tr>\n",
       "      <th>5259</th>\n",
       "      <td>0.2740</td>\n",
       "      <td>41.125377</td>\n",
       "      <td>-81.840508</td>\n",
       "      <td>21.77</td>\n",
       "      <td>1975</td>\n",
       "      <td>2.0</td>\n",
       "      <td>3</td>\n",
       "      <td>156000</td>\n",
       "    </tr>\n",
       "    <tr>\n",
       "      <th>8490</th>\n",
       "      <td>0.1890</td>\n",
       "      <td>41.296228</td>\n",
       "      <td>-81.838760</td>\n",
       "      <td>9.99</td>\n",
       "      <td>1991</td>\n",
       "      <td>2.0</td>\n",
       "      <td>3</td>\n",
       "      <td>180000</td>\n",
       "    </tr>\n",
       "    <tr>\n",
       "      <th>9032</th>\n",
       "      <td>0.2295</td>\n",
       "      <td>41.309619</td>\n",
       "      <td>-81.825108</td>\n",
       "      <td>9.14</td>\n",
       "      <td>1990</td>\n",
       "      <td>3.0</td>\n",
       "      <td>4</td>\n",
       "      <td>262000</td>\n",
       "    </tr>\n",
       "    <tr>\n",
       "      <th>2879</th>\n",
       "      <td>0.5280</td>\n",
       "      <td>40.854369</td>\n",
       "      <td>-81.290445</td>\n",
       "      <td>49.92</td>\n",
       "      <td>1964</td>\n",
       "      <td>3.0</td>\n",
       "      <td>3</td>\n",
       "      <td>135000</td>\n",
       "    </tr>\n",
       "    <tr>\n",
       "      <th>4119</th>\n",
       "      <td>2.7010</td>\n",
       "      <td>40.930804</td>\n",
       "      <td>-81.894195</td>\n",
       "      <td>35.26</td>\n",
       "      <td>2002</td>\n",
       "      <td>2.0</td>\n",
       "      <td>3</td>\n",
       "      <td>158000</td>\n",
       "    </tr>\n",
       "    <tr>\n",
       "      <th>74</th>\n",
       "      <td>0.0918</td>\n",
       "      <td>40.783306</td>\n",
       "      <td>-81.526761</td>\n",
       "      <td>48.42</td>\n",
       "      <td>1918</td>\n",
       "      <td>1.0</td>\n",
       "      <td>3</td>\n",
       "      <td>30200</td>\n",
       "    </tr>\n",
       "    <tr>\n",
       "      <th>2516</th>\n",
       "      <td>1.5000</td>\n",
       "      <td>40.993570</td>\n",
       "      <td>-81.721825</td>\n",
       "      <td>31.58</td>\n",
       "      <td>1974</td>\n",
       "      <td>2.0</td>\n",
       "      <td>3</td>\n",
       "      <td>147000</td>\n",
       "    </tr>\n",
       "    <tr>\n",
       "      <th>1747</th>\n",
       "      <td>0.1457</td>\n",
       "      <td>40.820897</td>\n",
       "      <td>-81.360693</td>\n",
       "      <td>49.83</td>\n",
       "      <td>1940</td>\n",
       "      <td>2.0</td>\n",
       "      <td>3</td>\n",
       "      <td>75500</td>\n",
       "    </tr>\n",
       "    <tr>\n",
       "      <th>7842</th>\n",
       "      <td>0.0692</td>\n",
       "      <td>41.056955</td>\n",
       "      <td>-81.897528</td>\n",
       "      <td>26.59</td>\n",
       "      <td>1959</td>\n",
       "      <td>1.0</td>\n",
       "      <td>3</td>\n",
       "      <td>122000</td>\n",
       "    </tr>\n",
       "    <tr>\n",
       "      <th>2369</th>\n",
       "      <td>1.0300</td>\n",
       "      <td>40.975387</td>\n",
       "      <td>-81.543108</td>\n",
       "      <td>35.89</td>\n",
       "      <td>1976</td>\n",
       "      <td>3.0</td>\n",
       "      <td>3</td>\n",
       "      <td>7318</td>\n",
       "    </tr>\n",
       "    <tr>\n",
       "      <th>4107</th>\n",
       "      <td>3.3500</td>\n",
       "      <td>40.929026</td>\n",
       "      <td>-81.568203</td>\n",
       "      <td>38.26</td>\n",
       "      <td>1980</td>\n",
       "      <td>2.0</td>\n",
       "      <td>3</td>\n",
       "      <td>196000</td>\n",
       "    </tr>\n",
       "    <tr>\n",
       "      <th>359</th>\n",
       "      <td>0.2541</td>\n",
       "      <td>40.808063</td>\n",
       "      <td>-81.430737</td>\n",
       "      <td>48.85</td>\n",
       "      <td>1964</td>\n",
       "      <td>2.0</td>\n",
       "      <td>3</td>\n",
       "      <td>125000</td>\n",
       "    </tr>\n",
       "    <tr>\n",
       "      <th>4842</th>\n",
       "      <td>0.1653</td>\n",
       "      <td>41.101872</td>\n",
       "      <td>-81.564163</td>\n",
       "      <td>27.74</td>\n",
       "      <td>1949</td>\n",
       "      <td>3.0</td>\n",
       "      <td>3</td>\n",
       "      <td>147500</td>\n",
       "    </tr>\n",
       "    <tr>\n",
       "      <th>9499</th>\n",
       "      <td>0.1934</td>\n",
       "      <td>41.338624</td>\n",
       "      <td>-82.079501</td>\n",
       "      <td>13.81</td>\n",
       "      <td>2002</td>\n",
       "      <td>3.0</td>\n",
       "      <td>3</td>\n",
       "      <td>229000</td>\n",
       "    </tr>\n",
       "    <tr>\n",
       "      <th>3940</th>\n",
       "      <td>3.9100</td>\n",
       "      <td>41.068777</td>\n",
       "      <td>-82.162592</td>\n",
       "      <td>30.37</td>\n",
       "      <td>1994</td>\n",
       "      <td>2.0</td>\n",
       "      <td>3</td>\n",
       "      <td>160000</td>\n",
       "    </tr>\n",
       "    <tr>\n",
       "      <th>3090</th>\n",
       "      <td>2.6200</td>\n",
       "      <td>40.884338</td>\n",
       "      <td>-81.496524</td>\n",
       "      <td>42.61</td>\n",
       "      <td>1993</td>\n",
       "      <td>4.0</td>\n",
       "      <td>4</td>\n",
       "      <td>440000</td>\n",
       "    </tr>\n",
       "    <tr>\n",
       "      <th>1085</th>\n",
       "      <td>0.7909</td>\n",
       "      <td>40.835152</td>\n",
       "      <td>-81.400296</td>\n",
       "      <td>47.94</td>\n",
       "      <td>1978</td>\n",
       "      <td>3.0</td>\n",
       "      <td>3</td>\n",
       "      <td>215400</td>\n",
       "    </tr>\n",
       "    <tr>\n",
       "      <th>8756</th>\n",
       "      <td>0.1837</td>\n",
       "      <td>41.093133</td>\n",
       "      <td>-81.494981</td>\n",
       "      <td>30.31</td>\n",
       "      <td>1961</td>\n",
       "      <td>2.0</td>\n",
       "      <td>3</td>\n",
       "      <td>22726</td>\n",
       "    </tr>\n",
       "  </tbody>\n",
       "</table>\n",
       "<p>978 rows × 8 columns</p>\n",
       "</div>"
      ],
      "text/plain": [
       "      LotSizeAcres  location/latitude  location/longitude  location/distance  \\\n",
       "7098        0.2251          41.202632          -81.840360              16.44   \n",
       "7203        0.4649          41.222498          -81.437658              26.24   \n",
       "5860        0.7800          41.135813          -81.702880              22.41   \n",
       "7112        0.1846          41.202717          -81.498664              24.61   \n",
       "284         0.1802          40.803548          -81.521420              47.21   \n",
       "602         0.1822          40.796511          -81.457538              48.96   \n",
       "7451        0.3140          41.243120          -81.828670              13.68   \n",
       "193         0.1488          40.796793          -81.476942              48.53   \n",
       "8709        0.5800          41.089421          -81.220974              40.78   \n",
       "2574        0.5739          41.003723          -81.652752              31.87   \n",
       "4038        0.7151          41.075608          -81.405548              34.24   \n",
       "5454        0.1377          41.012177          -81.598970              32.35   \n",
       "3193        0.3939          40.900372          -81.338906              45.86   \n",
       "1729        0.0918          40.819967          -81.357023              49.99   \n",
       "2683        0.0803          41.016386          -81.614320              31.77   \n",
       "4525        0.1642          41.082070          -81.468180              31.77   \n",
       "8006        0.1149          41.069139          -81.494984              31.64   \n",
       "8996        0.2482          41.107339          -81.505897              29.19   \n",
       "8259        0.1114          41.279083          -81.804607              11.41   \n",
       "9447        0.4591          41.335654          -81.687012              11.18   \n",
       "3811        0.3214          41.058538          -81.454867              33.48   \n",
       "4287        0.4700          40.963736          -81.518662              37.19   \n",
       "9377        0.4637          41.330746          -81.492304              20.12   \n",
       "6141        0.6600          41.031518          -81.650966              30.10   \n",
       "5994        0.1417          41.141974          -81.858376              20.62   \n",
       "855         0.1694          40.815283          -81.405336              49.02   \n",
       "2668        0.1971          41.014277          -81.590009              32.41   \n",
       "6123        0.1488          41.149825          -81.485222              27.66   \n",
       "9300        0.1544          41.326942          -81.523291              18.75   \n",
       "1793        0.1954          40.825580          -81.405035              48.40   \n",
       "...            ...                ...                 ...                ...   \n",
       "622         0.7110          40.798537          -82.023218              45.22   \n",
       "6067        0.1894          41.146347          -81.863691              20.32   \n",
       "6726        0.2410          41.161509          -81.429992              29.17   \n",
       "6871        0.1295          41.171300          -81.532540              24.90   \n",
       "6419        0.1240          41.045902          -81.520696              32.22   \n",
       "8864        0.2223          41.097597          -81.561853              28.05   \n",
       "3672        0.1148          41.049892          -81.522611              31.93   \n",
       "5119        0.2687          41.117437          -81.560210              26.96   \n",
       "322         0.0448          40.805643          -81.398169              49.78   \n",
       "9606        2.9800          41.343295          -81.896243               7.12   \n",
       "7866        0.1433          41.059020          -81.512913              31.68   \n",
       "4678        0.1570          41.091847          -81.557472              28.51   \n",
       "5259        0.2740          41.125377          -81.840508              21.77   \n",
       "8490        0.1890          41.296228          -81.838760               9.99   \n",
       "9032        0.2295          41.309619          -81.825108               9.14   \n",
       "2879        0.5280          40.854369          -81.290445              49.92   \n",
       "4119        2.7010          40.930804          -81.894195              35.26   \n",
       "74          0.0918          40.783306          -81.526761              48.42   \n",
       "2516        1.5000          40.993570          -81.721825              31.58   \n",
       "1747        0.1457          40.820897          -81.360693              49.83   \n",
       "7842        0.0692          41.056955          -81.897528              26.59   \n",
       "2369        1.0300          40.975387          -81.543108              35.89   \n",
       "4107        3.3500          40.929026          -81.568203              38.26   \n",
       "359         0.2541          40.808063          -81.430737              48.85   \n",
       "4842        0.1653          41.101872          -81.564163              27.74   \n",
       "9499        0.1934          41.338624          -82.079501              13.81   \n",
       "3940        3.9100          41.068777          -82.162592              30.37   \n",
       "3090        2.6200          40.884338          -81.496524              42.61   \n",
       "1085        0.7909          40.835152          -81.400296              47.94   \n",
       "8756        0.1837          41.093133          -81.494981              30.31   \n",
       "\n",
       "      summary/yearbuilt  building/rooms/bathstotal  building/rooms/beds  \\\n",
       "7098               2013                        3.0                    3   \n",
       "7203               1970                        3.0                    4   \n",
       "5860               1860                        1.0                    2   \n",
       "7112               2007                        3.0                    3   \n",
       "284                1897                        1.0                    2   \n",
       "602                1953                        2.0                    3   \n",
       "7451               2016                        3.0                    4   \n",
       "193                1954                        1.0                    3   \n",
       "8709               1973                        2.0                    4   \n",
       "2574               1932                        1.0                    2   \n",
       "4038               1943                        1.0                    3   \n",
       "5454               1918                        1.0                    2   \n",
       "3193               1993                        3.0                    4   \n",
       "1729               1949                        1.0                    2   \n",
       "2683               1889                        2.0                    3   \n",
       "4525               1949                        1.0                    3   \n",
       "8006               1917                        2.0                    4   \n",
       "8996               1949                        1.0                    3   \n",
       "8259               1995                        1.0                    3   \n",
       "9447               1988                        3.0                    4   \n",
       "3811               1950                        1.0                    2   \n",
       "4287               1973                        3.0                    3   \n",
       "9377               1993                        3.0                    4   \n",
       "6141               1953                        1.0                    2   \n",
       "5994               1955                        1.0                    3   \n",
       "855                1967                        1.0                    2   \n",
       "2668               1943                        2.0                    3   \n",
       "6123               1950                        2.0                    4   \n",
       "9300               1999                        2.0                    3   \n",
       "1793               1945                        1.0                    3   \n",
       "...                 ...                        ...                  ...   \n",
       "622                1994                        2.0                    3   \n",
       "6067               1922                        1.0                    3   \n",
       "6726               1960                        1.0                    3   \n",
       "6871               2017                        3.0                    4   \n",
       "6419               1918                        1.0                    4   \n",
       "8864               1958                        2.0                    4   \n",
       "3672               1919                        1.0                    3   \n",
       "5119               1955                        1.0                    3   \n",
       "322                1929                        1.0                    2   \n",
       "9606               1966                        3.0                    4   \n",
       "7866               1910                        2.0                    3   \n",
       "4678               1925                        3.0                    4   \n",
       "5259               1975                        2.0                    3   \n",
       "8490               1991                        2.0                    3   \n",
       "9032               1990                        3.0                    4   \n",
       "2879               1964                        3.0                    3   \n",
       "4119               2002                        2.0                    3   \n",
       "74                 1918                        1.0                    3   \n",
       "2516               1974                        2.0                    3   \n",
       "1747               1940                        2.0                    3   \n",
       "7842               1959                        1.0                    3   \n",
       "2369               1976                        3.0                    3   \n",
       "4107               1980                        2.0                    3   \n",
       "359                1964                        2.0                    3   \n",
       "4842               1949                        3.0                    3   \n",
       "9499               2002                        3.0                    3   \n",
       "3940               1994                        2.0                    3   \n",
       "3090               1993                        4.0                    4   \n",
       "1085               1978                        3.0                    3   \n",
       "8756               1961                        2.0                    3   \n",
       "\n",
       "      sale/amount/saleamt  \n",
       "7098               205000  \n",
       "7203               253000  \n",
       "5860               119000  \n",
       "7112               300000  \n",
       "284                 28000  \n",
       "602                119000  \n",
       "7451               344900  \n",
       "193                 57000  \n",
       "8709               169900  \n",
       "2574               142000  \n",
       "4038                75000  \n",
       "5454                79900  \n",
       "3193               236000  \n",
       "1729                24800  \n",
       "2683                72000  \n",
       "4525                65900  \n",
       "8006                37500  \n",
       "8996                48000  \n",
       "8259               196500  \n",
       "9447               330000  \n",
       "3811                84000  \n",
       "4287                16000  \n",
       "9377               210000  \n",
       "6141               150500  \n",
       "5994               112000  \n",
       "855                112000  \n",
       "2668               114000  \n",
       "6123               146950  \n",
       "9300               245000  \n",
       "1793                96000  \n",
       "...                   ...  \n",
       "622                 74900  \n",
       "6067               124000  \n",
       "6726                95000  \n",
       "6871               281610  \n",
       "6419                 3300  \n",
       "8864               179000  \n",
       "3672                 9500  \n",
       "5119                33000  \n",
       "322                 24900  \n",
       "9606               368000  \n",
       "7866                40000  \n",
       "4678                90000  \n",
       "5259               156000  \n",
       "8490               180000  \n",
       "9032               262000  \n",
       "2879               135000  \n",
       "4119               158000  \n",
       "74                  30200  \n",
       "2516               147000  \n",
       "1747                75500  \n",
       "7842               122000  \n",
       "2369                 7318  \n",
       "4107               196000  \n",
       "359                125000  \n",
       "4842               147500  \n",
       "9499               229000  \n",
       "3940               160000  \n",
       "3090               440000  \n",
       "1085               215400  \n",
       "8756                22726  \n",
       "\n",
       "[978 rows x 8 columns]"
      ]
     },
     "execution_count": 15,
     "metadata": {},
     "output_type": "execute_result"
    }
   ],
   "source": [
    "ML_df=desc_df4.loc[:, [\"LotSizeAcres\", \"location/latitude\", \"location/longitude\", \"location/distance\", \"summary/yearbuilt\", \"building/rooms/bathstotal\", \"building/rooms/beds\", \"sale/amount/saleamt\"]]\n",
    "ML_df.to_csv('ML.csv')\n",
    "ML_df"
   ]
  },
  {
   "cell_type": "code",
   "execution_count": 16,
   "metadata": {},
   "outputs": [
    {
     "name": "stdout",
     "output_type": "stream",
     "text": [
      "(978, 5) (978, 1)\n"
     ]
    }
   ],
   "source": [
    "X = ML_df[[\"LotSizeAcres\", \"location/distance\", \"summary/yearbuilt\", \"building/rooms/bathstotal\", \"building/rooms/beds\"]]\n",
    "y = ML_df[\"sale/amount/saleamt\"].values.reshape(-1, 1)\n",
    "print(X.shape, y.shape)"
   ]
  },
  {
   "cell_type": "code",
   "execution_count": 17,
   "metadata": {},
   "outputs": [
    {
     "name": "stderr",
     "output_type": "stream",
     "text": [
      "/home/amit/anaconda3/lib/python3.6/importlib/_bootstrap.py:219: RuntimeWarning: numpy.dtype size changed, may indicate binary incompatibility. Expected 96, got 88\n",
      "  return f(*args, **kwds)\n",
      "/home/amit/anaconda3/lib/python3.6/importlib/_bootstrap.py:219: RuntimeWarning: numpy.dtype size changed, may indicate binary incompatibility. Expected 96, got 88\n",
      "  return f(*args, **kwds)\n",
      "/home/amit/anaconda3/lib/python3.6/importlib/_bootstrap.py:219: RuntimeWarning: numpy.dtype size changed, may indicate binary incompatibility. Expected 96, got 88\n",
      "  return f(*args, **kwds)\n",
      "/home/amit/anaconda3/lib/python3.6/importlib/_bootstrap.py:219: RuntimeWarning: numpy.dtype size changed, may indicate binary incompatibility. Expected 96, got 88\n",
      "  return f(*args, **kwds)\n"
     ]
    }
   ],
   "source": [
    "from sklearn.model_selection import train_test_split\n",
    "\n",
    "X_train, X_test, y_train, y_test = train_test_split(X, y, random_state=2)"
   ]
  },
  {
   "cell_type": "code",
   "execution_count": 18,
   "metadata": {},
   "outputs": [
    {
     "name": "stderr",
     "output_type": "stream",
     "text": [
      "/home/amit/anaconda3/lib/python3.6/site-packages/sklearn/utils/validation.py:475: DataConversionWarning: Data with input dtype int64 was converted to float64 by StandardScaler.\n",
      "  warnings.warn(msg, DataConversionWarning)\n"
     ]
    }
   ],
   "source": [
    "from sklearn.preprocessing import StandardScaler\n",
    "\n",
    "# Create a StandardScater model and fit it to the training data\n",
    "\n",
    "X_scaler = StandardScaler().fit(X_train)\n",
    "y_scaler = StandardScaler().fit(y_train)"
   ]
  },
  {
   "cell_type": "code",
   "execution_count": 19,
   "metadata": {},
   "outputs": [
    {
     "name": "stderr",
     "output_type": "stream",
     "text": [
      "/home/amit/anaconda3/lib/python3.6/site-packages/sklearn/utils/validation.py:475: DataConversionWarning: Data with input dtype int64 was converted to float64 by StandardScaler.\n",
      "  warnings.warn(msg, DataConversionWarning)\n"
     ]
    }
   ],
   "source": [
    "# Transform the training and testing data using the X_scaler and y_scaler models\n",
    "\n",
    "X_train_scaled = X_scaler.transform(X_train)\n",
    "X_test_scaled = X_scaler.transform(X_test)\n",
    "y_train_scaled = y_scaler.transform(y_train)\n",
    "y_test_scaled = y_scaler.transform(y_test)"
   ]
  },
  {
   "cell_type": "code",
   "execution_count": 20,
   "metadata": {},
   "outputs": [
    {
     "name": "stderr",
     "output_type": "stream",
     "text": [
      "/home/amit/anaconda3/lib/python3.6/importlib/_bootstrap.py:219: RuntimeWarning: numpy.dtype size changed, may indicate binary incompatibility. Expected 96, got 88\n",
      "  return f(*args, **kwds)\n"
     ]
    }
   ],
   "source": [
    "from sklearn.linear_model import LinearRegression\n",
    "model = LinearRegression()"
   ]
  },
  {
   "cell_type": "code",
   "execution_count": 21,
   "metadata": {},
   "outputs": [
    {
     "name": "stdout",
     "output_type": "stream",
     "text": [
      "Training Score: 0.5556380832944753\n",
      "Testing Score: 0.5601732408839305\n"
     ]
    }
   ],
   "source": [
    "# Fit the model to the training data and calculate the scores for the training and testing data\n",
    "\n",
    "model.fit(X_train_scaled, y_train_scaled)\n",
    "training_score = model.score(X_train_scaled, y_train_scaled)\n",
    "testing_score = model.score(X_test_scaled, y_test_scaled)\n",
    "\n",
    "print(f\"Training Score: {training_score}\")\n",
    "print(f\"Testing Score: {testing_score}\")"
   ]
  },
  {
   "cell_type": "code",
   "execution_count": 22,
   "metadata": {},
   "outputs": [
    {
     "data": {
      "image/png": "[encoded data removed]",
      "text/plain": [
       "<Figure size 432x288 with 1 Axes>"
      ]
     },
     "metadata": {},
     "output_type": "display_data"
    }
   ],
   "source": [
    "predictions = model.predict(X_test_scaled)\n",
    "model.fit(X_train_scaled, y_train_scaled)\n",
    "plt.scatter(model.predict(X_train_scaled), model.predict(X_train_scaled) - y_train_scaled, c=\"blue\", label=\"Training Data\")\n",
    "plt.scatter(model.predict(X_test_scaled), model.predict(X_test_scaled) - y_test_scaled, c=\"orange\", label=\"Testing Data\")\n",
    "plt.legend()\n",
    "plt.hlines(y=0, xmin=y_test_scaled.min(), xmax=y_test_scaled.max())\n",
    "plt.title(\"Residual Plot\")\n",
    "plt.show()"
   ]
  },
  {
   "cell_type": "code",
   "execution_count": 23,
   "metadata": {},
   "outputs": [
    {
     "name": "stdout",
     "output_type": "stream",
     "text": [
      "MSE: 0.6211888797014652, R2: 0.5601732408839305\n"
     ]
    }
   ],
   "source": [
    "from sklearn.metrics import mean_squared_error\n",
    "\n",
    "MSE = mean_squared_error(y_test_scaled, predictions)\n",
    "r2 = model.score(X_test_scaled, y_test_scaled)\n",
    "\n",
    "print(f\"MSE: {MSE}, R2: {r2}\")"
   ]
  },
  {
   "cell_type": "code",
   "execution_count": 24,
   "metadata": {},
   "outputs": [
    {
     "data": {
      "text/plain": [
       "{'n_neighbors': 9}"
      ]
     },
     "execution_count": 24,
     "metadata": {},
     "output_type": "execute_result"
    }
   ],
   "source": [
    "from sklearn import neighbors\n",
    "from sklearn.model_selection import GridSearchCV\n",
    "params = {'n_neighbors':[2,3,4,5,6,7,8,9]}\n",
    "\n",
    "knn = neighbors.KNeighborsRegressor()\n",
    "\n",
    "model = GridSearchCV(knn, params, cv=5)\n",
    "model.fit(X_train_scaled ,y_train_scaled)\n",
    "model.best_params_\n"
   ]
  },
  {
   "cell_type": "code",
   "execution_count": 25,
   "metadata": {},
   "outputs": [
    {
     "data": {
      "text/plain": [
       "KNeighborsRegressor(algorithm='auto', leaf_size=30, metric='minkowski',\n",
       "          metric_params=None, n_jobs=1, n_neighbors=9, p=2,\n",
       "          weights='uniform')"
      ]
     },
     "execution_count": 25,
     "metadata": {},
     "output_type": "execute_result"
    }
   ],
   "source": [
    "from sklearn.neighbors import KNeighborsRegressor\n",
    "\n",
    "neigh = KNeighborsRegressor(n_neighbors=9)\n",
    "neigh.fit(X_train_scaled, y_train_scaled)"
   ]
  },
  {
   "cell_type": "code",
   "execution_count": 26,
   "metadata": {},
   "outputs": [
    {
     "name": "stdout",
     "output_type": "stream",
     "text": [
      "Training Score: 0.6477381334553369\n",
      "Testing Score: 0.5887867387586135\n"
     ]
    }
   ],
   "source": [
    "training_score = neigh.score(X_train_scaled, y_train_scaled)\n",
    "testing_score = neigh.score(X_test_scaled, y_test_scaled)\n",
    "\n",
    "print(f\"Training Score: {training_score}\")\n",
    "print(f\"Testing Score: {testing_score}\")"
   ]
  },
  {
   "cell_type": "code",
   "execution_count": 27,
   "metadata": {},
   "outputs": [
    {
     "name": "stdout",
     "output_type": "stream",
     "text": [
      "0.5807766348329714\n"
     ]
    }
   ],
   "source": [
    "MSE2 = mean_squared_error(y_test_scaled, neigh.predict(X_test_scaled))\n",
    "print(MSE2)"
   ]
  },
  {
   "cell_type": "code",
   "execution_count": 28,
   "metadata": {},
   "outputs": [
    {
     "name": "stderr",
     "output_type": "stream",
     "text": [
      "/home/amit/anaconda3/lib/python3.6/importlib/_bootstrap.py:219: RuntimeWarning: numpy.dtype size changed, may indicate binary incompatibility. Expected 96, got 88\n",
      "  return f(*args, **kwds)\n",
      "/home/amit/anaconda3/lib/python3.6/site-packages/sklearn/ensemble/weight_boosting.py:29: DeprecationWarning: numpy.core.umath_tests is an internal NumPy module and should not be imported. It will be removed in a future NumPy release.\n",
      "  from numpy.core.umath_tests import inner1d\n"
     ]
    },
    {
     "data": {
      "text/plain": [
       "RandomForestRegressor(bootstrap=True, criterion='mse', max_depth=20,\n",
       "           max_features='auto', max_leaf_nodes=None,\n",
       "           min_impurity_decrease=0.0, min_impurity_split=None,\n",
       "           min_samples_leaf=2, min_samples_split=5,\n",
       "           min_weight_fraction_leaf=0.0, n_estimators=916, n_jobs=1,\n",
       "           oob_score=False, random_state=2, verbose=0, warm_start=False)"
      ]
     },
     "execution_count": 28,
     "metadata": {},
     "output_type": "execute_result"
    }
   ],
   "source": [
    "from sklearn.ensemble import RandomForestRegressor \n",
    "  \n",
    " # create regressor object \n",
    "regressor = RandomForestRegressor(n_estimators = 916, min_samples_split= 5, min_samples_leaf= 2, max_depth=20, random_state=2) \n",
    "  \n",
    "# fit the regressor with x and y data \n",
    "regressor.fit(X_train_scaled, y_train_scaled.ravel())   "
   ]
  },
  {
   "cell_type": "code",
   "execution_count": 29,
   "metadata": {},
   "outputs": [
    {
     "name": "stdout",
     "output_type": "stream",
     "text": [
      "Training Score: 0.8792928446398932\n",
      "Testing Score: 0.6019962204257341\n"
     ]
    }
   ],
   "source": [
    "training_score = regressor.score(X_train_scaled, y_train_scaled)\n",
    "testing_score = regressor.score(X_test_scaled, y_test_scaled)\n",
    "\n",
    "print(f\"Training Score: {training_score}\")\n",
    "print(f\"Testing Score: {testing_score}\")"
   ]
  },
  {
   "cell_type": "code",
   "execution_count": 30,
   "metadata": {},
   "outputs": [
    {
     "data": {
      "text/plain": [
       "[(0.47919327543021584, 'location/distance'),\n",
       " (0.19379913993800135, 'LotSizeAcres'),\n",
       " (0.16002852402181736, 'location/longitude'),\n",
       " (0.1391496740435093, 'location/latitude'),\n",
       " (0.027829386566456882, 'summary/yearbuilt')]"
      ]
     },
     "execution_count": 30,
     "metadata": {},
     "output_type": "execute_result"
    }
   ],
   "source": [
    "data = ML_df.drop(\"sale/amount/saleamt\", axis=1)\n",
    "feature_names = data.columns\n",
    "sorted(zip(regressor.feature_importances_, feature_names), reverse=True)"
   ]
  },
  {
   "cell_type": "code",
   "execution_count": 31,
   "metadata": {},
   "outputs": [],
   "source": [
    "from sklearn.model_selection import RandomizedSearchCV\n",
    "# Number of trees in random forest\n",
    "n_estimators = [int(x) for x in np.linspace(start = 50, stop = 2000, num = 10)]\n",
    "# Number of features to consider at every split\n",
    "max_features = ['auto', 'sqrt']\n",
    "# Maximum number of levels in tree\n",
    "max_depth = [int(x) for x in np.linspace(10, 110, num = 11)]\n",
    "max_depth.append(None)\n",
    "# Minimum number of samples required to split a node\n",
    "min_samples_split = [2, 5, 10]\n",
    "# Minimum number of samples required at each leaf node\n",
    "min_samples_leaf = [1, 2, 4]\n",
    "# Method of selecting samples for training each tree\n",
    "bootstrap = [True, False]\n",
    "# Create the random grid\n",
    "random_grid = {'n_estimators': n_estimators,\n",
    "               'max_features': max_features,\n",
    "               'max_depth': max_depth,\n",
    "               'min_samples_split': min_samples_split,\n",
    "               'min_samples_leaf': min_samples_leaf,\n",
    "               'bootstrap': bootstrap}"
   ]
  },
  {
   "cell_type": "code",
   "execution_count": 32,
   "metadata": {},
   "outputs": [
    {
     "name": "stdout",
     "output_type": "stream",
     "text": [
      "Fitting 3 folds for each of 100 candidates, totalling 300 fits\n",
      "[CV] n_estimators=266, min_samples_split=5, min_samples_leaf=1, max_features=sqrt, max_depth=30, bootstrap=True \n",
      "[CV] n_estimators=266, min_samples_split=5, min_samples_leaf=1, max_features=sqrt, max_depth=30, bootstrap=True \n",
      "[CV] n_estimators=266, min_samples_split=5, min_samples_leaf=1, max_features=sqrt, max_depth=30, bootstrap=True \n"
     ]
    },
    {
     "name": "stderr",
     "output_type": "stream",
     "text": [
      "/home/amit/anaconda3/lib/python3.6/site-packages/sklearn/model_selection/_validation.py:458: DataConversionWarning: A column-vector y was passed when a 1d array was expected. Please change the shape of y to (n_samples,), for example using ravel().\n",
      "  estimator.fit(X_train, y_train, **fit_params)\n"
     ]
    },
    {
     "name": "stdout",
     "output_type": "stream",
     "text": [
      "[CV] n_estimators=2000, min_samples_split=5, min_samples_leaf=1, max_features=sqrt, max_depth=10, bootstrap=True \n"
     ]
    },
    {
     "name": "stderr",
     "output_type": "stream",
     "text": [
      "/home/amit/anaconda3/lib/python3.6/site-packages/sklearn/model_selection/_validation.py:458: DataConversionWarning: A column-vector y was passed when a 1d array was expected. Please change the shape of y to (n_samples,), for example using ravel().\n",
      "  estimator.fit(X_train, y_train, **fit_params)\n",
      "/home/amit/anaconda3/lib/python3.6/site-packages/sklearn/model_selection/_validation.py:458: DataConversionWarning: A column-vector y was passed when a 1d array was expected. Please change the shape of y to (n_samples,), for example using ravel().\n",
      "  estimator.fit(X_train, y_train, **fit_params)\n",
      "/home/amit/anaconda3/lib/python3.6/site-packages/sklearn/model_selection/_validation.py:458: DataConversionWarning: A column-vector y was passed when a 1d array was expected. Please change the shape of y to (n_samples,), for example using ravel().\n",
      "  estimator.fit(X_train, y_train, **fit_params)\n"
     ]
    },
    {
     "name": "stdout",
     "output_type": "stream",
     "text": [
      "[CV]  n_estimators=266, min_samples_split=5, min_samples_leaf=1, max_features=sqrt, max_depth=30, bootstrap=True, total=   0.8s\n",
      "[CV] n_estimators=2000, min_samples_split=5, min_samples_leaf=1, max_features=sqrt, max_depth=10, bootstrap=True \n",
      "[CV]  n_estimators=266, min_samples_split=5, min_samples_leaf=1, max_features=sqrt, max_depth=30, bootstrap=True, total=   0.8s\n",
      "[CV] n_estimators=2000, min_samples_split=5, min_samples_leaf=1, max_features=sqrt, max_depth=10, bootstrap=True \n"
     ]
    },
    {
     "name": "stderr",
     "output_type": "stream",
     "text": [
      "/home/amit/anaconda3/lib/python3.6/site-packages/sklearn/model_selection/_validation.py:458: DataConversionWarning: A column-vector y was passed when a 1d array was expected. Please change the shape of y to (n_samples,), for example using ravel().\n",
      "  estimator.fit(X_train, y_train, **fit_params)\n",
      "/home/amit/anaconda3/lib/python3.6/site-packages/sklearn/model_selection/_validation.py:458: DataConversionWarning: A column-vector y was passed when a 1d array was expected. Please change the shape of y to (n_samples,), for example using ravel().\n",
      "  estimator.fit(X_train, y_train, **fit_params)\n"
     ]
    },
    {
     "name": "stdout",
     "output_type": "stream",
     "text": [
      "[CV]  n_estimators=266, min_samples_split=5, min_samples_leaf=1, max_features=sqrt, max_depth=30, bootstrap=True, total=   0.9s\n",
      "[CV] n_estimators=1133, min_samples_split=5, min_samples_leaf=2, max_features=sqrt, max_depth=10, bootstrap=False \n"
     ]
    },
    {
     "name": "stderr",
     "output_type": "stream",
     "text": [
      "/home/amit/anaconda3/lib/python3.6/site-packages/sklearn/model_selection/_validation.py:458: DataConversionWarning: A column-vector y was passed when a 1d array was expected. Please change the shape of y to (n_samples,), for example using ravel().\n",
      "  estimator.fit(X_train, y_train, **fit_params)\n"
     ]
    },
    {
     "name": "stdout",
     "output_type": "stream",
     "text": [
      "[CV]  n_estimators=1133, min_samples_split=5, min_samples_leaf=2, max_features=sqrt, max_depth=10, bootstrap=False, total=   3.0s\n",
      "[CV] n_estimators=1133, min_samples_split=5, min_samples_leaf=2, max_features=sqrt, max_depth=10, bootstrap=False \n"
     ]
    },
    {
     "name": "stderr",
     "output_type": "stream",
     "text": [
      "/home/amit/anaconda3/lib/python3.6/site-packages/sklearn/model_selection/_validation.py:458: DataConversionWarning: A column-vector y was passed when a 1d array was expected. Please change the shape of y to (n_samples,), for example using ravel().\n",
      "  estimator.fit(X_train, y_train, **fit_params)\n"
     ]
    },
    {
     "name": "stdout",
     "output_type": "stream",
     "text": [
      "[CV]  n_estimators=2000, min_samples_split=5, min_samples_leaf=1, max_features=sqrt, max_depth=10, bootstrap=True, total=   5.2s\n",
      "[CV] n_estimators=1133, min_samples_split=5, min_samples_leaf=2, max_features=sqrt, max_depth=10, bootstrap=False \n"
     ]
    },
    {
     "name": "stderr",
     "output_type": "stream",
     "text": [
      "/home/amit/anaconda3/lib/python3.6/site-packages/sklearn/model_selection/_validation.py:458: DataConversionWarning: A column-vector y was passed when a 1d array was expected. Please change the shape of y to (n_samples,), for example using ravel().\n",
      "  estimator.fit(X_train, y_train, **fit_params)\n"
     ]
    },
    {
     "name": "stdout",
     "output_type": "stream",
     "text": [
      "[CV]  n_estimators=2000, min_samples_split=5, min_samples_leaf=1, max_features=sqrt, max_depth=10, bootstrap=True, total=   4.8s\n",
      "[CV] n_estimators=2000, min_samples_split=2, min_samples_leaf=4, max_features=auto, max_depth=30, bootstrap=False \n"
     ]
    },
    {
     "name": "stderr",
     "output_type": "stream",
     "text": [
      "/home/amit/anaconda3/lib/python3.6/site-packages/sklearn/model_selection/_validation.py:458: DataConversionWarning: A column-vector y was passed when a 1d array was expected. Please change the shape of y to (n_samples,), for example using ravel().\n",
      "  estimator.fit(X_train, y_train, **fit_params)\n"
     ]
    },
    {
     "name": "stdout",
     "output_type": "stream",
     "text": [
      "[CV]  n_estimators=2000, min_samples_split=5, min_samples_leaf=1, max_features=sqrt, max_depth=10, bootstrap=True, total=   5.1s\n",
      "[CV] n_estimators=2000, min_samples_split=2, min_samples_leaf=4, max_features=auto, max_depth=30, bootstrap=False \n"
     ]
    },
    {
     "name": "stderr",
     "output_type": "stream",
     "text": [
      "/home/amit/anaconda3/lib/python3.6/site-packages/sklearn/model_selection/_validation.py:458: DataConversionWarning: A column-vector y was passed when a 1d array was expected. Please change the shape of y to (n_samples,), for example using ravel().\n",
      "  estimator.fit(X_train, y_train, **fit_params)\n"
     ]
    },
    {
     "name": "stdout",
     "output_type": "stream",
     "text": [
      "[CV]  n_estimators=1133, min_samples_split=5, min_samples_leaf=2, max_features=sqrt, max_depth=10, bootstrap=False, total=   3.2s\n",
      "[CV] n_estimators=2000, min_samples_split=2, min_samples_leaf=4, max_features=auto, max_depth=30, bootstrap=False \n"
     ]
    },
    {
     "name": "stderr",
     "output_type": "stream",
     "text": [
      "/home/amit/anaconda3/lib/python3.6/site-packages/sklearn/model_selection/_validation.py:458: DataConversionWarning: A column-vector y was passed when a 1d array was expected. Please change the shape of y to (n_samples,), for example using ravel().\n",
      "  estimator.fit(X_train, y_train, **fit_params)\n"
     ]
    },
    {
     "name": "stdout",
     "output_type": "stream",
     "text": [
      "[CV]  n_estimators=1133, min_samples_split=5, min_samples_leaf=2, max_features=sqrt, max_depth=10, bootstrap=False, total=   3.1s\n",
      "[CV] n_estimators=1566, min_samples_split=2, min_samples_leaf=4, max_features=sqrt, max_depth=10, bootstrap=True \n"
     ]
    },
    {
     "name": "stderr",
     "output_type": "stream",
     "text": [
      "/home/amit/anaconda3/lib/python3.6/site-packages/sklearn/model_selection/_validation.py:458: DataConversionWarning: A column-vector y was passed when a 1d array was expected. Please change the shape of y to (n_samples,), for example using ravel().\n",
      "  estimator.fit(X_train, y_train, **fit_params)\n"
     ]
    },
    {
     "name": "stdout",
     "output_type": "stream",
     "text": [
      "[CV]  n_estimators=1566, min_samples_split=2, min_samples_leaf=4, max_features=sqrt, max_depth=10, bootstrap=True, total=   4.5s\n",
      "[CV] n_estimators=1566, min_samples_split=2, min_samples_leaf=4, max_features=sqrt, max_depth=10, bootstrap=True \n"
     ]
    },
    {
     "name": "stderr",
     "output_type": "stream",
     "text": [
      "/home/amit/anaconda3/lib/python3.6/site-packages/sklearn/model_selection/_validation.py:458: DataConversionWarning: A column-vector y was passed when a 1d array was expected. Please change the shape of y to (n_samples,), for example using ravel().\n",
      "  estimator.fit(X_train, y_train, **fit_params)\n"
     ]
    },
    {
     "name": "stdout",
     "output_type": "stream",
     "text": [
      "[CV]  n_estimators=2000, min_samples_split=2, min_samples_leaf=4, max_features=auto, max_depth=30, bootstrap=False, total=   7.5s\n",
      "[CV] n_estimators=1566, min_samples_split=2, min_samples_leaf=4, max_features=sqrt, max_depth=10, bootstrap=True \n"
     ]
    },
    {
     "name": "stderr",
     "output_type": "stream",
     "text": [
      "/home/amit/anaconda3/lib/python3.6/site-packages/sklearn/model_selection/_validation.py:458: DataConversionWarning: A column-vector y was passed when a 1d array was expected. Please change the shape of y to (n_samples,), for example using ravel().\n",
      "  estimator.fit(X_train, y_train, **fit_params)\n"
     ]
    },
    {
     "name": "stdout",
     "output_type": "stream",
     "text": [
      "[CV]  n_estimators=2000, min_samples_split=2, min_samples_leaf=4, max_features=auto, max_depth=30, bootstrap=False, total=   7.8s\n",
      "[CV] n_estimators=700, min_samples_split=5, min_samples_leaf=4, max_features=sqrt, max_depth=30, bootstrap=False \n"
     ]
    },
    {
     "name": "stderr",
     "output_type": "stream",
     "text": [
      "/home/amit/anaconda3/lib/python3.6/site-packages/sklearn/model_selection/_validation.py:458: DataConversionWarning: A column-vector y was passed when a 1d array was expected. Please change the shape of y to (n_samples,), for example using ravel().\n",
      "  estimator.fit(X_train, y_train, **fit_params)\n"
     ]
    },
    {
     "name": "stdout",
     "output_type": "stream",
     "text": [
      "[CV]  n_estimators=2000, min_samples_split=2, min_samples_leaf=4, max_features=auto, max_depth=30, bootstrap=False, total=   8.4s\n",
      "[CV] n_estimators=700, min_samples_split=5, min_samples_leaf=4, max_features=sqrt, max_depth=30, bootstrap=False \n"
     ]
    },
    {
     "name": "stderr",
     "output_type": "stream",
     "text": [
      "/home/amit/anaconda3/lib/python3.6/site-packages/sklearn/model_selection/_validation.py:458: DataConversionWarning: A column-vector y was passed when a 1d array was expected. Please change the shape of y to (n_samples,), for example using ravel().\n",
      "  estimator.fit(X_train, y_train, **fit_params)\n"
     ]
    },
    {
     "name": "stdout",
     "output_type": "stream",
     "text": [
      "[CV]  n_estimators=700, min_samples_split=5, min_samples_leaf=4, max_features=sqrt, max_depth=30, bootstrap=False, total=   2.8s\n",
      "[CV] n_estimators=700, min_samples_split=5, min_samples_leaf=4, max_features=sqrt, max_depth=30, bootstrap=False \n"
     ]
    },
    {
     "name": "stderr",
     "output_type": "stream",
     "text": [
      "/home/amit/anaconda3/lib/python3.6/site-packages/sklearn/model_selection/_validation.py:458: DataConversionWarning: A column-vector y was passed when a 1d array was expected. Please change the shape of y to (n_samples,), for example using ravel().\n",
      "  estimator.fit(X_train, y_train, **fit_params)\n"
     ]
    },
    {
     "name": "stdout",
     "output_type": "stream",
     "text": [
      "[CV]  n_estimators=700, min_samples_split=5, min_samples_leaf=4, max_features=sqrt, max_depth=30, bootstrap=False, total=   2.6s\n",
      "[CV] n_estimators=916, min_samples_split=5, min_samples_leaf=2, max_features=sqrt, max_depth=100, bootstrap=False \n",
      "[CV]  n_estimators=1566, min_samples_split=2, min_samples_leaf=4, max_features=sqrt, max_depth=10, bootstrap=True, total=   5.1s\n"
     ]
    },
    {
     "name": "stderr",
     "output_type": "stream",
     "text": [
      "/home/amit/anaconda3/lib/python3.6/site-packages/sklearn/model_selection/_validation.py:458: DataConversionWarning: A column-vector y was passed when a 1d array was expected. Please change the shape of y to (n_samples,), for example using ravel().\n",
      "  estimator.fit(X_train, y_train, **fit_params)\n"
     ]
    },
    {
     "name": "stdout",
     "output_type": "stream",
     "text": [
      "[CV] n_estimators=916, min_samples_split=5, min_samples_leaf=2, max_features=sqrt, max_depth=100, bootstrap=False \n"
     ]
    },
    {
     "name": "stderr",
     "output_type": "stream",
     "text": [
      "/home/amit/anaconda3/lib/python3.6/site-packages/sklearn/model_selection/_validation.py:458: DataConversionWarning: A column-vector y was passed when a 1d array was expected. Please change the shape of y to (n_samples,), for example using ravel().\n",
      "  estimator.fit(X_train, y_train, **fit_params)\n"
     ]
    },
    {
     "name": "stdout",
     "output_type": "stream",
     "text": [
      "[CV]  n_estimators=1566, min_samples_split=2, min_samples_leaf=4, max_features=sqrt, max_depth=10, bootstrap=True, total=   5.2s\n",
      "[CV] n_estimators=916, min_samples_split=5, min_samples_leaf=2, max_features=sqrt, max_depth=100, bootstrap=False \n"
     ]
    },
    {
     "name": "stderr",
     "output_type": "stream",
     "text": [
      "/home/amit/anaconda3/lib/python3.6/site-packages/sklearn/model_selection/_validation.py:458: DataConversionWarning: A column-vector y was passed when a 1d array was expected. Please change the shape of y to (n_samples,), for example using ravel().\n",
      "  estimator.fit(X_train, y_train, **fit_params)\n"
     ]
    },
    {
     "name": "stdout",
     "output_type": "stream",
     "text": [
      "[CV]  n_estimators=700, min_samples_split=5, min_samples_leaf=4, max_features=sqrt, max_depth=30, bootstrap=False, total=   3.1s\n",
      "[CV] n_estimators=483, min_samples_split=5, min_samples_leaf=1, max_features=sqrt, max_depth=60, bootstrap=False \n"
     ]
    },
    {
     "name": "stderr",
     "output_type": "stream",
     "text": [
      "/home/amit/anaconda3/lib/python3.6/site-packages/sklearn/model_selection/_validation.py:458: DataConversionWarning: A column-vector y was passed when a 1d array was expected. Please change the shape of y to (n_samples,), for example using ravel().\n",
      "  estimator.fit(X_train, y_train, **fit_params)\n"
     ]
    },
    {
     "name": "stdout",
     "output_type": "stream",
     "text": [
      "[CV]  n_estimators=483, min_samples_split=5, min_samples_leaf=1, max_features=sqrt, max_depth=60, bootstrap=False, total=   1.4s\n",
      "[CV] n_estimators=483, min_samples_split=5, min_samples_leaf=1, max_features=sqrt, max_depth=60, bootstrap=False \n"
     ]
    },
    {
     "name": "stderr",
     "output_type": "stream",
     "text": [
      "/home/amit/anaconda3/lib/python3.6/site-packages/sklearn/model_selection/_validation.py:458: DataConversionWarning: A column-vector y was passed when a 1d array was expected. Please change the shape of y to (n_samples,), for example using ravel().\n",
      "  estimator.fit(X_train, y_train, **fit_params)\n"
     ]
    },
    {
     "name": "stdout",
     "output_type": "stream",
     "text": [
      "[CV]  n_estimators=916, min_samples_split=5, min_samples_leaf=2, max_features=sqrt, max_depth=100, bootstrap=False, total=   2.9s\n",
      "[CV] n_estimators=483, min_samples_split=5, min_samples_leaf=1, max_features=sqrt, max_depth=60, bootstrap=False \n"
     ]
    },
    {
     "name": "stderr",
     "output_type": "stream",
     "text": [
      "/home/amit/anaconda3/lib/python3.6/site-packages/sklearn/model_selection/_validation.py:458: DataConversionWarning: A column-vector y was passed when a 1d array was expected. Please change the shape of y to (n_samples,), for example using ravel().\n",
      "  estimator.fit(X_train, y_train, **fit_params)\n"
     ]
    },
    {
     "name": "stdout",
     "output_type": "stream",
     "text": [
      "[CV]  n_estimators=916, min_samples_split=5, min_samples_leaf=2, max_features=sqrt, max_depth=100, bootstrap=False, total=   3.1s\n",
      "[CV] n_estimators=916, min_samples_split=2, min_samples_leaf=1, max_features=auto, max_depth=50, bootstrap=False \n"
     ]
    },
    {
     "name": "stderr",
     "output_type": "stream",
     "text": [
      "/home/amit/anaconda3/lib/python3.6/site-packages/sklearn/model_selection/_validation.py:458: DataConversionWarning: A column-vector y was passed when a 1d array was expected. Please change the shape of y to (n_samples,), for example using ravel().\n",
      "  estimator.fit(X_train, y_train, **fit_params)\n"
     ]
    },
    {
     "name": "stdout",
     "output_type": "stream",
     "text": [
      "[CV]  n_estimators=916, min_samples_split=5, min_samples_leaf=2, max_features=sqrt, max_depth=100, bootstrap=False, total=   3.0s\n",
      "[CV] n_estimators=916, min_samples_split=2, min_samples_leaf=1, max_features=auto, max_depth=50, bootstrap=False \n"
     ]
    },
    {
     "name": "stderr",
     "output_type": "stream",
     "text": [
      "/home/amit/anaconda3/lib/python3.6/site-packages/sklearn/model_selection/_validation.py:458: DataConversionWarning: A column-vector y was passed when a 1d array was expected. Please change the shape of y to (n_samples,), for example using ravel().\n",
      "  estimator.fit(X_train, y_train, **fit_params)\n"
     ]
    },
    {
     "name": "stdout",
     "output_type": "stream",
     "text": [
      "[CV]  n_estimators=483, min_samples_split=5, min_samples_leaf=1, max_features=sqrt, max_depth=60, bootstrap=False, total=   1.4s\n",
      "[CV] n_estimators=916, min_samples_split=2, min_samples_leaf=1, max_features=auto, max_depth=50, bootstrap=False \n"
     ]
    },
    {
     "name": "stderr",
     "output_type": "stream",
     "text": [
      "/home/amit/anaconda3/lib/python3.6/site-packages/sklearn/model_selection/_validation.py:458: DataConversionWarning: A column-vector y was passed when a 1d array was expected. Please change the shape of y to (n_samples,), for example using ravel().\n",
      "  estimator.fit(X_train, y_train, **fit_params)\n"
     ]
    },
    {
     "name": "stdout",
     "output_type": "stream",
     "text": [
      "[CV]  n_estimators=483, min_samples_split=5, min_samples_leaf=1, max_features=sqrt, max_depth=60, bootstrap=False, total=   1.3s\n",
      "[CV] n_estimators=1783, min_samples_split=5, min_samples_leaf=4, max_features=auto, max_depth=10, bootstrap=False \n"
     ]
    },
    {
     "name": "stderr",
     "output_type": "stream",
     "text": [
      "/home/amit/anaconda3/lib/python3.6/site-packages/sklearn/model_selection/_validation.py:458: DataConversionWarning: A column-vector y was passed when a 1d array was expected. Please change the shape of y to (n_samples,), for example using ravel().\n",
      "  estimator.fit(X_train, y_train, **fit_params)\n"
     ]
    },
    {
     "name": "stdout",
     "output_type": "stream",
     "text": [
      "[CV]  n_estimators=916, min_samples_split=2, min_samples_leaf=1, max_features=auto, max_depth=50, bootstrap=False, total=   4.0s\n",
      "[CV] n_estimators=1783, min_samples_split=5, min_samples_leaf=4, max_features=auto, max_depth=10, bootstrap=False \n"
     ]
    },
    {
     "name": "stderr",
     "output_type": "stream",
     "text": [
      "/home/amit/anaconda3/lib/python3.6/site-packages/sklearn/model_selection/_validation.py:458: DataConversionWarning: A column-vector y was passed when a 1d array was expected. Please change the shape of y to (n_samples,), for example using ravel().\n",
      "  estimator.fit(X_train, y_train, **fit_params)\n"
     ]
    },
    {
     "name": "stdout",
     "output_type": "stream",
     "text": [
      "[CV]  n_estimators=916, min_samples_split=2, min_samples_leaf=1, max_features=auto, max_depth=50, bootstrap=False, total=   4.1s\n",
      "[CV] n_estimators=1783, min_samples_split=5, min_samples_leaf=4, max_features=auto, max_depth=10, bootstrap=False \n"
     ]
    },
    {
     "name": "stderr",
     "output_type": "stream",
     "text": [
      "/home/amit/anaconda3/lib/python3.6/site-packages/sklearn/model_selection/_validation.py:458: DataConversionWarning: A column-vector y was passed when a 1d array was expected. Please change the shape of y to (n_samples,), for example using ravel().\n",
      "  estimator.fit(X_train, y_train, **fit_params)\n"
     ]
    },
    {
     "name": "stdout",
     "output_type": "stream",
     "text": [
      "[CV]  n_estimators=916, min_samples_split=2, min_samples_leaf=1, max_features=auto, max_depth=50, bootstrap=False, total=   4.0s\n",
      "[CV] n_estimators=266, min_samples_split=10, min_samples_leaf=4, max_features=auto, max_depth=70, bootstrap=True \n"
     ]
    },
    {
     "name": "stderr",
     "output_type": "stream",
     "text": [
      "/home/amit/anaconda3/lib/python3.6/site-packages/sklearn/model_selection/_validation.py:458: DataConversionWarning: A column-vector y was passed when a 1d array was expected. Please change the shape of y to (n_samples,), for example using ravel().\n",
      "  estimator.fit(X_train, y_train, **fit_params)\n"
     ]
    },
    {
     "name": "stdout",
     "output_type": "stream",
     "text": [
      "[CV]  n_estimators=266, min_samples_split=10, min_samples_leaf=4, max_features=auto, max_depth=70, bootstrap=True, total=   0.9s\n",
      "[CV] n_estimators=266, min_samples_split=10, min_samples_leaf=4, max_features=auto, max_depth=70, bootstrap=True \n"
     ]
    },
    {
     "name": "stderr",
     "output_type": "stream",
     "text": [
      "/home/amit/anaconda3/lib/python3.6/site-packages/sklearn/model_selection/_validation.py:458: DataConversionWarning: A column-vector y was passed when a 1d array was expected. Please change the shape of y to (n_samples,), for example using ravel().\n",
      "  estimator.fit(X_train, y_train, **fit_params)\n"
     ]
    },
    {
     "name": "stdout",
     "output_type": "stream",
     "text": [
      "[CV]  n_estimators=266, min_samples_split=10, min_samples_leaf=4, max_features=auto, max_depth=70, bootstrap=True, total=   1.0s\n",
      "[CV] n_estimators=266, min_samples_split=10, min_samples_leaf=4, max_features=auto, max_depth=70, bootstrap=True \n"
     ]
    },
    {
     "name": "stderr",
     "output_type": "stream",
     "text": [
      "/home/amit/anaconda3/lib/python3.6/site-packages/sklearn/model_selection/_validation.py:458: DataConversionWarning: A column-vector y was passed when a 1d array was expected. Please change the shape of y to (n_samples,), for example using ravel().\n",
      "  estimator.fit(X_train, y_train, **fit_params)\n"
     ]
    },
    {
     "name": "stdout",
     "output_type": "stream",
     "text": [
      "[CV]  n_estimators=1783, min_samples_split=5, min_samples_leaf=4, max_features=auto, max_depth=10, bootstrap=False, total=   6.3s\n",
      "[CV] n_estimators=700, min_samples_split=5, min_samples_leaf=1, max_features=sqrt, max_depth=90, bootstrap=False \n"
     ]
    },
    {
     "name": "stderr",
     "output_type": "stream",
     "text": [
      "/home/amit/anaconda3/lib/python3.6/site-packages/sklearn/model_selection/_validation.py:458: DataConversionWarning: A column-vector y was passed when a 1d array was expected. Please change the shape of y to (n_samples,), for example using ravel().\n",
      "  estimator.fit(X_train, y_train, **fit_params)\n"
     ]
    },
    {
     "name": "stdout",
     "output_type": "stream",
     "text": [
      "[CV]  n_estimators=266, min_samples_split=10, min_samples_leaf=4, max_features=auto, max_depth=70, bootstrap=True, total=   1.2s\n",
      "[CV] n_estimators=700, min_samples_split=5, min_samples_leaf=1, max_features=sqrt, max_depth=90, bootstrap=False \n"
     ]
    },
    {
     "name": "stderr",
     "output_type": "stream",
     "text": [
      "/home/amit/anaconda3/lib/python3.6/site-packages/sklearn/model_selection/_validation.py:458: DataConversionWarning: A column-vector y was passed when a 1d array was expected. Please change the shape of y to (n_samples,), for example using ravel().\n",
      "  estimator.fit(X_train, y_train, **fit_params)\n"
     ]
    },
    {
     "name": "stdout",
     "output_type": "stream",
     "text": [
      "[CV]  n_estimators=700, min_samples_split=5, min_samples_leaf=1, max_features=sqrt, max_depth=90, bootstrap=False, total=   2.4s\n",
      "[CV] n_estimators=700, min_samples_split=5, min_samples_leaf=1, max_features=sqrt, max_depth=90, bootstrap=False \n"
     ]
    },
    {
     "name": "stderr",
     "output_type": "stream",
     "text": [
      "/home/amit/anaconda3/lib/python3.6/site-packages/sklearn/model_selection/_validation.py:458: DataConversionWarning: A column-vector y was passed when a 1d array was expected. Please change the shape of y to (n_samples,), for example using ravel().\n",
      "  estimator.fit(X_train, y_train, **fit_params)\n"
     ]
    },
    {
     "name": "stdout",
     "output_type": "stream",
     "text": [
      "[CV]  n_estimators=1783, min_samples_split=5, min_samples_leaf=4, max_features=auto, max_depth=10, bootstrap=False, total=   7.4s\n",
      "[CV] n_estimators=2000, min_samples_split=10, min_samples_leaf=1, max_features=sqrt, max_depth=10, bootstrap=False \n",
      "[CV]  n_estimators=700, min_samples_split=5, min_samples_leaf=1, max_features=sqrt, max_depth=90, bootstrap=False, total=   2.8s\n"
     ]
    },
    {
     "name": "stderr",
     "output_type": "stream",
     "text": [
      "/home/amit/anaconda3/lib/python3.6/site-packages/sklearn/model_selection/_validation.py:458: DataConversionWarning: A column-vector y was passed when a 1d array was expected. Please change the shape of y to (n_samples,), for example using ravel().\n",
      "  estimator.fit(X_train, y_train, **fit_params)\n"
     ]
    },
    {
     "name": "stdout",
     "output_type": "stream",
     "text": [
      "[CV] n_estimators=2000, min_samples_split=10, min_samples_leaf=1, max_features=sqrt, max_depth=10, bootstrap=False \n"
     ]
    },
    {
     "name": "stderr",
     "output_type": "stream",
     "text": [
      "/home/amit/anaconda3/lib/python3.6/site-packages/sklearn/model_selection/_validation.py:458: DataConversionWarning: A column-vector y was passed when a 1d array was expected. Please change the shape of y to (n_samples,), for example using ravel().\n",
      "  estimator.fit(X_train, y_train, **fit_params)\n",
      "[Parallel(n_jobs=-1)]: Done  33 tasks      | elapsed:   34.1s\n"
     ]
    },
    {
     "name": "stdout",
     "output_type": "stream",
     "text": [
      "[CV]  n_estimators=700, min_samples_split=5, min_samples_leaf=1, max_features=sqrt, max_depth=90, bootstrap=False, total=   2.3s\n",
      "[CV] n_estimators=2000, min_samples_split=10, min_samples_leaf=1, max_features=sqrt, max_depth=10, bootstrap=False \n"
     ]
    },
    {
     "name": "stderr",
     "output_type": "stream",
     "text": [
      "/home/amit/anaconda3/lib/python3.6/site-packages/sklearn/model_selection/_validation.py:458: DataConversionWarning: A column-vector y was passed when a 1d array was expected. Please change the shape of y to (n_samples,), for example using ravel().\n",
      "  estimator.fit(X_train, y_train, **fit_params)\n"
     ]
    },
    {
     "name": "stdout",
     "output_type": "stream",
     "text": [
      "[CV]  n_estimators=1783, min_samples_split=5, min_samples_leaf=4, max_features=auto, max_depth=10, bootstrap=False, total=   8.2s\n",
      "[CV] n_estimators=1566, min_samples_split=5, min_samples_leaf=2, max_features=sqrt, max_depth=10, bootstrap=False \n"
     ]
    },
    {
     "name": "stderr",
     "output_type": "stream",
     "text": [
      "/home/amit/anaconda3/lib/python3.6/site-packages/sklearn/model_selection/_validation.py:458: DataConversionWarning: A column-vector y was passed when a 1d array was expected. Please change the shape of y to (n_samples,), for example using ravel().\n",
      "  estimator.fit(X_train, y_train, **fit_params)\n"
     ]
    },
    {
     "name": "stdout",
     "output_type": "stream",
     "text": [
      "[CV]  n_estimators=1566, min_samples_split=5, min_samples_leaf=2, max_features=sqrt, max_depth=10, bootstrap=False, total=   5.2s\n",
      "[CV] n_estimators=1566, min_samples_split=5, min_samples_leaf=2, max_features=sqrt, max_depth=10, bootstrap=False \n"
     ]
    },
    {
     "name": "stderr",
     "output_type": "stream",
     "text": [
      "/home/amit/anaconda3/lib/python3.6/site-packages/sklearn/model_selection/_validation.py:458: DataConversionWarning: A column-vector y was passed when a 1d array was expected. Please change the shape of y to (n_samples,), for example using ravel().\n",
      "  estimator.fit(X_train, y_train, **fit_params)\n"
     ]
    },
    {
     "name": "stdout",
     "output_type": "stream",
     "text": [
      "[CV]  n_estimators=2000, min_samples_split=10, min_samples_leaf=1, max_features=sqrt, max_depth=10, bootstrap=False, total=   6.5s\n",
      "[CV] n_estimators=1566, min_samples_split=5, min_samples_leaf=2, max_features=sqrt, max_depth=10, bootstrap=False \n"
     ]
    },
    {
     "name": "stderr",
     "output_type": "stream",
     "text": [
      "/home/amit/anaconda3/lib/python3.6/site-packages/sklearn/model_selection/_validation.py:458: DataConversionWarning: A column-vector y was passed when a 1d array was expected. Please change the shape of y to (n_samples,), for example using ravel().\n",
      "  estimator.fit(X_train, y_train, **fit_params)\n"
     ]
    },
    {
     "name": "stdout",
     "output_type": "stream",
     "text": [
      "[CV]  n_estimators=2000, min_samples_split=10, min_samples_leaf=1, max_features=sqrt, max_depth=10, bootstrap=False, total=   6.3s\n",
      "[CV] n_estimators=700, min_samples_split=10, min_samples_leaf=2, max_features=sqrt, max_depth=30, bootstrap=False \n"
     ]
    },
    {
     "name": "stderr",
     "output_type": "stream",
     "text": [
      "/home/amit/anaconda3/lib/python3.6/site-packages/sklearn/model_selection/_validation.py:458: DataConversionWarning: A column-vector y was passed when a 1d array was expected. Please change the shape of y to (n_samples,), for example using ravel().\n",
      "  estimator.fit(X_train, y_train, **fit_params)\n"
     ]
    },
    {
     "name": "stdout",
     "output_type": "stream",
     "text": [
      "[CV]  n_estimators=2000, min_samples_split=10, min_samples_leaf=1, max_features=sqrt, max_depth=10, bootstrap=False, total=   7.7s\n",
      "[CV] n_estimators=700, min_samples_split=10, min_samples_leaf=2, max_features=sqrt, max_depth=30, bootstrap=False \n"
     ]
    },
    {
     "name": "stderr",
     "output_type": "stream",
     "text": [
      "/home/amit/anaconda3/lib/python3.6/site-packages/sklearn/model_selection/_validation.py:458: DataConversionWarning: A column-vector y was passed when a 1d array was expected. Please change the shape of y to (n_samples,), for example using ravel().\n",
      "  estimator.fit(X_train, y_train, **fit_params)\n"
     ]
    },
    {
     "name": "stdout",
     "output_type": "stream",
     "text": [
      "[CV]  n_estimators=700, min_samples_split=10, min_samples_leaf=2, max_features=sqrt, max_depth=30, bootstrap=False, total=   1.9s\n",
      "[CV] n_estimators=700, min_samples_split=10, min_samples_leaf=2, max_features=sqrt, max_depth=30, bootstrap=False \n"
     ]
    },
    {
     "name": "stderr",
     "output_type": "stream",
     "text": [
      "/home/amit/anaconda3/lib/python3.6/site-packages/sklearn/model_selection/_validation.py:458: DataConversionWarning: A column-vector y was passed when a 1d array was expected. Please change the shape of y to (n_samples,), for example using ravel().\n",
      "  estimator.fit(X_train, y_train, **fit_params)\n"
     ]
    },
    {
     "name": "stdout",
     "output_type": "stream",
     "text": [
      "[CV]  n_estimators=700, min_samples_split=10, min_samples_leaf=2, max_features=sqrt, max_depth=30, bootstrap=False, total=   2.5s\n",
      "[CV] n_estimators=1783, min_samples_split=2, min_samples_leaf=4, max_features=auto, max_depth=50, bootstrap=False \n"
     ]
    },
    {
     "name": "stderr",
     "output_type": "stream",
     "text": [
      "/home/amit/anaconda3/lib/python3.6/site-packages/sklearn/model_selection/_validation.py:458: DataConversionWarning: A column-vector y was passed when a 1d array was expected. Please change the shape of y to (n_samples,), for example using ravel().\n",
      "  estimator.fit(X_train, y_train, **fit_params)\n"
     ]
    },
    {
     "name": "stdout",
     "output_type": "stream",
     "text": [
      "[CV]  n_estimators=700, min_samples_split=10, min_samples_leaf=2, max_features=sqrt, max_depth=30, bootstrap=False, total=   2.2s\n",
      "[CV] n_estimators=1783, min_samples_split=2, min_samples_leaf=4, max_features=auto, max_depth=50, bootstrap=False \n"
     ]
    },
    {
     "name": "stderr",
     "output_type": "stream",
     "text": [
      "/home/amit/anaconda3/lib/python3.6/site-packages/sklearn/model_selection/_validation.py:458: DataConversionWarning: A column-vector y was passed when a 1d array was expected. Please change the shape of y to (n_samples,), for example using ravel().\n",
      "  estimator.fit(X_train, y_train, **fit_params)\n"
     ]
    },
    {
     "name": "stdout",
     "output_type": "stream",
     "text": [
      "[CV]  n_estimators=1566, min_samples_split=5, min_samples_leaf=2, max_features=sqrt, max_depth=10, bootstrap=False, total=   5.3s\n",
      "[CV] n_estimators=1783, min_samples_split=2, min_samples_leaf=4, max_features=auto, max_depth=50, bootstrap=False \n"
     ]
    },
    {
     "name": "stderr",
     "output_type": "stream",
     "text": [
      "/home/amit/anaconda3/lib/python3.6/site-packages/sklearn/model_selection/_validation.py:458: DataConversionWarning: A column-vector y was passed when a 1d array was expected. Please change the shape of y to (n_samples,), for example using ravel().\n",
      "  estimator.fit(X_train, y_train, **fit_params)\n"
     ]
    },
    {
     "name": "stdout",
     "output_type": "stream",
     "text": [
      "[CV]  n_estimators=1566, min_samples_split=5, min_samples_leaf=2, max_features=sqrt, max_depth=10, bootstrap=False, total=   6.4s\n",
      "[CV] n_estimators=483, min_samples_split=5, min_samples_leaf=2, max_features=auto, max_depth=70, bootstrap=False \n"
     ]
    },
    {
     "name": "stderr",
     "output_type": "stream",
     "text": [
      "/home/amit/anaconda3/lib/python3.6/site-packages/sklearn/model_selection/_validation.py:458: DataConversionWarning: A column-vector y was passed when a 1d array was expected. Please change the shape of y to (n_samples,), for example using ravel().\n",
      "  estimator.fit(X_train, y_train, **fit_params)\n"
     ]
    },
    {
     "name": "stdout",
     "output_type": "stream",
     "text": [
      "[CV]  n_estimators=483, min_samples_split=5, min_samples_leaf=2, max_features=auto, max_depth=70, bootstrap=False, total=   2.1s\n",
      "[CV] n_estimators=483, min_samples_split=5, min_samples_leaf=2, max_features=auto, max_depth=70, bootstrap=False \n"
     ]
    },
    {
     "name": "stderr",
     "output_type": "stream",
     "text": [
      "/home/amit/anaconda3/lib/python3.6/site-packages/sklearn/model_selection/_validation.py:458: DataConversionWarning: A column-vector y was passed when a 1d array was expected. Please change the shape of y to (n_samples,), for example using ravel().\n",
      "  estimator.fit(X_train, y_train, **fit_params)\n"
     ]
    },
    {
     "name": "stdout",
     "output_type": "stream",
     "text": [
      "[CV]  n_estimators=483, min_samples_split=5, min_samples_leaf=2, max_features=auto, max_depth=70, bootstrap=False, total=   2.3s\n",
      "[CV] n_estimators=483, min_samples_split=5, min_samples_leaf=2, max_features=auto, max_depth=70, bootstrap=False \n"
     ]
    },
    {
     "name": "stderr",
     "output_type": "stream",
     "text": [
      "/home/amit/anaconda3/lib/python3.6/site-packages/sklearn/model_selection/_validation.py:458: DataConversionWarning: A column-vector y was passed when a 1d array was expected. Please change the shape of y to (n_samples,), for example using ravel().\n",
      "  estimator.fit(X_train, y_train, **fit_params)\n"
     ]
    },
    {
     "name": "stdout",
     "output_type": "stream",
     "text": [
      "[CV]  n_estimators=1783, min_samples_split=2, min_samples_leaf=4, max_features=auto, max_depth=50, bootstrap=False, total=   8.2s\n",
      "[CV] n_estimators=916, min_samples_split=2, min_samples_leaf=1, max_features=sqrt, max_depth=20, bootstrap=True \n"
     ]
    },
    {
     "name": "stderr",
     "output_type": "stream",
     "text": [
      "/home/amit/anaconda3/lib/python3.6/site-packages/sklearn/model_selection/_validation.py:458: DataConversionWarning: A column-vector y was passed when a 1d array was expected. Please change the shape of y to (n_samples,), for example using ravel().\n",
      "  estimator.fit(X_train, y_train, **fit_params)\n"
     ]
    },
    {
     "name": "stdout",
     "output_type": "stream",
     "text": [
      "[CV]  n_estimators=1783, min_samples_split=2, min_samples_leaf=4, max_features=auto, max_depth=50, bootstrap=False, total=   7.6s\n",
      "[CV] n_estimators=916, min_samples_split=2, min_samples_leaf=1, max_features=sqrt, max_depth=20, bootstrap=True \n"
     ]
    },
    {
     "name": "stderr",
     "output_type": "stream",
     "text": [
      "/home/amit/anaconda3/lib/python3.6/site-packages/sklearn/model_selection/_validation.py:458: DataConversionWarning: A column-vector y was passed when a 1d array was expected. Please change the shape of y to (n_samples,), for example using ravel().\n",
      "  estimator.fit(X_train, y_train, **fit_params)\n"
     ]
    },
    {
     "name": "stdout",
     "output_type": "stream",
     "text": [
      "[CV]  n_estimators=1783, min_samples_split=2, min_samples_leaf=4, max_features=auto, max_depth=50, bootstrap=False, total=   8.2s\n",
      "[CV] n_estimators=916, min_samples_split=2, min_samples_leaf=1, max_features=sqrt, max_depth=20, bootstrap=True \n"
     ]
    },
    {
     "name": "stderr",
     "output_type": "stream",
     "text": [
      "/home/amit/anaconda3/lib/python3.6/site-packages/sklearn/model_selection/_validation.py:458: DataConversionWarning: A column-vector y was passed when a 1d array was expected. Please change the shape of y to (n_samples,), for example using ravel().\n",
      "  estimator.fit(X_train, y_train, **fit_params)\n"
     ]
    },
    {
     "name": "stdout",
     "output_type": "stream",
     "text": [
      "[CV]  n_estimators=483, min_samples_split=5, min_samples_leaf=2, max_features=auto, max_depth=70, bootstrap=False, total=   2.4s\n",
      "[CV] n_estimators=1783, min_samples_split=10, min_samples_leaf=2, max_features=auto, max_depth=110, bootstrap=False \n"
     ]
    },
    {
     "name": "stderr",
     "output_type": "stream",
     "text": [
      "/home/amit/anaconda3/lib/python3.6/site-packages/sklearn/model_selection/_validation.py:458: DataConversionWarning: A column-vector y was passed when a 1d array was expected. Please change the shape of y to (n_samples,), for example using ravel().\n",
      "  estimator.fit(X_train, y_train, **fit_params)\n"
     ]
    },
    {
     "name": "stdout",
     "output_type": "stream",
     "text": [
      "[CV]  n_estimators=916, min_samples_split=2, min_samples_leaf=1, max_features=sqrt, max_depth=20, bootstrap=True, total=   3.3s\n",
      "[CV] n_estimators=1783, min_samples_split=10, min_samples_leaf=2, max_features=auto, max_depth=110, bootstrap=False \n"
     ]
    },
    {
     "name": "stderr",
     "output_type": "stream",
     "text": [
      "/home/amit/anaconda3/lib/python3.6/site-packages/sklearn/model_selection/_validation.py:458: DataConversionWarning: A column-vector y was passed when a 1d array was expected. Please change the shape of y to (n_samples,), for example using ravel().\n",
      "  estimator.fit(X_train, y_train, **fit_params)\n"
     ]
    },
    {
     "name": "stdout",
     "output_type": "stream",
     "text": [
      "[CV]  n_estimators=916, min_samples_split=2, min_samples_leaf=1, max_features=sqrt, max_depth=20, bootstrap=True, total=   2.7s\n",
      "[CV] n_estimators=1783, min_samples_split=10, min_samples_leaf=2, max_features=auto, max_depth=110, bootstrap=False \n"
     ]
    },
    {
     "name": "stderr",
     "output_type": "stream",
     "text": [
      "/home/amit/anaconda3/lib/python3.6/site-packages/sklearn/model_selection/_validation.py:458: DataConversionWarning: A column-vector y was passed when a 1d array was expected. Please change the shape of y to (n_samples,), for example using ravel().\n",
      "  estimator.fit(X_train, y_train, **fit_params)\n"
     ]
    },
    {
     "name": "stdout",
     "output_type": "stream",
     "text": [
      "[CV]  n_estimators=916, min_samples_split=2, min_samples_leaf=1, max_features=sqrt, max_depth=20, bootstrap=True, total=   2.8s\n",
      "[CV] n_estimators=483, min_samples_split=5, min_samples_leaf=1, max_features=auto, max_depth=80, bootstrap=True \n"
     ]
    },
    {
     "name": "stderr",
     "output_type": "stream",
     "text": [
      "/home/amit/anaconda3/lib/python3.6/site-packages/sklearn/model_selection/_validation.py:458: DataConversionWarning: A column-vector y was passed when a 1d array was expected. Please change the shape of y to (n_samples,), for example using ravel().\n",
      "  estimator.fit(X_train, y_train, **fit_params)\n"
     ]
    },
    {
     "name": "stdout",
     "output_type": "stream",
     "text": [
      "[CV]  n_estimators=483, min_samples_split=5, min_samples_leaf=1, max_features=auto, max_depth=80, bootstrap=True, total=   1.9s\n",
      "[CV] n_estimators=483, min_samples_split=5, min_samples_leaf=1, max_features=auto, max_depth=80, bootstrap=True \n"
     ]
    },
    {
     "name": "stderr",
     "output_type": "stream",
     "text": [
      "/home/amit/anaconda3/lib/python3.6/site-packages/sklearn/model_selection/_validation.py:458: DataConversionWarning: A column-vector y was passed when a 1d array was expected. Please change the shape of y to (n_samples,), for example using ravel().\n",
      "  estimator.fit(X_train, y_train, **fit_params)\n"
     ]
    },
    {
     "name": "stdout",
     "output_type": "stream",
     "text": [
      "[CV]  n_estimators=483, min_samples_split=5, min_samples_leaf=1, max_features=auto, max_depth=80, bootstrap=True, total=   2.2s\n",
      "[CV] n_estimators=483, min_samples_split=5, min_samples_leaf=1, max_features=auto, max_depth=80, bootstrap=True \n"
     ]
    },
    {
     "name": "stderr",
     "output_type": "stream",
     "text": [
      "/home/amit/anaconda3/lib/python3.6/site-packages/sklearn/model_selection/_validation.py:458: DataConversionWarning: A column-vector y was passed when a 1d array was expected. Please change the shape of y to (n_samples,), for example using ravel().\n",
      "  estimator.fit(X_train, y_train, **fit_params)\n"
     ]
    },
    {
     "name": "stdout",
     "output_type": "stream",
     "text": [
      "[CV]  n_estimators=1783, min_samples_split=10, min_samples_leaf=2, max_features=auto, max_depth=110, bootstrap=False, total=   8.1s\n",
      "[CV] n_estimators=1783, min_samples_split=10, min_samples_leaf=1, max_features=sqrt, max_depth=30, bootstrap=False \n"
     ]
    },
    {
     "name": "stderr",
     "output_type": "stream",
     "text": [
      "/home/amit/anaconda3/lib/python3.6/site-packages/sklearn/model_selection/_validation.py:458: DataConversionWarning: A column-vector y was passed when a 1d array was expected. Please change the shape of y to (n_samples,), for example using ravel().\n",
      "  estimator.fit(X_train, y_train, **fit_params)\n"
     ]
    },
    {
     "name": "stdout",
     "output_type": "stream",
     "text": [
      "[CV]  n_estimators=483, min_samples_split=5, min_samples_leaf=1, max_features=auto, max_depth=80, bootstrap=True, total=   2.0s\n",
      "[CV] n_estimators=1783, min_samples_split=10, min_samples_leaf=1, max_features=sqrt, max_depth=30, bootstrap=False \n"
     ]
    },
    {
     "name": "stderr",
     "output_type": "stream",
     "text": [
      "/home/amit/anaconda3/lib/python3.6/site-packages/sklearn/model_selection/_validation.py:458: DataConversionWarning: A column-vector y was passed when a 1d array was expected. Please change the shape of y to (n_samples,), for example using ravel().\n",
      "  estimator.fit(X_train, y_train, **fit_params)\n"
     ]
    },
    {
     "name": "stdout",
     "output_type": "stream",
     "text": [
      "[CV]  n_estimators=1783, min_samples_split=10, min_samples_leaf=2, max_features=auto, max_depth=110, bootstrap=False, total=   7.7s\n",
      "[CV] n_estimators=1783, min_samples_split=10, min_samples_leaf=1, max_features=sqrt, max_depth=30, bootstrap=False \n"
     ]
    },
    {
     "name": "stderr",
     "output_type": "stream",
     "text": [
      "/home/amit/anaconda3/lib/python3.6/site-packages/sklearn/model_selection/_validation.py:458: DataConversionWarning: A column-vector y was passed when a 1d array was expected. Please change the shape of y to (n_samples,), for example using ravel().\n",
      "  estimator.fit(X_train, y_train, **fit_params)\n"
     ]
    },
    {
     "name": "stdout",
     "output_type": "stream",
     "text": [
      "[CV]  n_estimators=1783, min_samples_split=10, min_samples_leaf=2, max_features=auto, max_depth=110, bootstrap=False, total=   8.5s\n",
      "[CV] n_estimators=1566, min_samples_split=5, min_samples_leaf=1, max_features=sqrt, max_depth=70, bootstrap=False \n"
     ]
    },
    {
     "name": "stderr",
     "output_type": "stream",
     "text": [
      "/home/amit/anaconda3/lib/python3.6/site-packages/sklearn/model_selection/_validation.py:458: DataConversionWarning: A column-vector y was passed when a 1d array was expected. Please change the shape of y to (n_samples,), for example using ravel().\n",
      "  estimator.fit(X_train, y_train, **fit_params)\n"
     ]
    },
    {
     "name": "stdout",
     "output_type": "stream",
     "text": [
      "[CV]  n_estimators=1783, min_samples_split=10, min_samples_leaf=1, max_features=sqrt, max_depth=30, bootstrap=False, total=   5.6s\n",
      "[CV] n_estimators=1566, min_samples_split=5, min_samples_leaf=1, max_features=sqrt, max_depth=70, bootstrap=False \n"
     ]
    },
    {
     "name": "stderr",
     "output_type": "stream",
     "text": [
      "/home/amit/anaconda3/lib/python3.6/site-packages/sklearn/model_selection/_validation.py:458: DataConversionWarning: A column-vector y was passed when a 1d array was expected. Please change the shape of y to (n_samples,), for example using ravel().\n",
      "  estimator.fit(X_train, y_train, **fit_params)\n"
     ]
    },
    {
     "name": "stdout",
     "output_type": "stream",
     "text": [
      "[CV]  n_estimators=1783, min_samples_split=10, min_samples_leaf=1, max_features=sqrt, max_depth=30, bootstrap=False, total=   5.5s\n",
      "[CV] n_estimators=1566, min_samples_split=5, min_samples_leaf=1, max_features=sqrt, max_depth=70, bootstrap=False \n"
     ]
    },
    {
     "name": "stderr",
     "output_type": "stream",
     "text": [
      "/home/amit/anaconda3/lib/python3.6/site-packages/sklearn/model_selection/_validation.py:458: DataConversionWarning: A column-vector y was passed when a 1d array was expected. Please change the shape of y to (n_samples,), for example using ravel().\n",
      "  estimator.fit(X_train, y_train, **fit_params)\n"
     ]
    },
    {
     "name": "stdout",
     "output_type": "stream",
     "text": [
      "[CV]  n_estimators=1783, min_samples_split=10, min_samples_leaf=1, max_features=sqrt, max_depth=30, bootstrap=False, total=   6.2s\n",
      "[CV] n_estimators=1350, min_samples_split=5, min_samples_leaf=4, max_features=sqrt, max_depth=80, bootstrap=True \n"
     ]
    },
    {
     "name": "stderr",
     "output_type": "stream",
     "text": [
      "/home/amit/anaconda3/lib/python3.6/site-packages/sklearn/model_selection/_validation.py:458: DataConversionWarning: A column-vector y was passed when a 1d array was expected. Please change the shape of y to (n_samples,), for example using ravel().\n",
      "  estimator.fit(X_train, y_train, **fit_params)\n"
     ]
    },
    {
     "name": "stdout",
     "output_type": "stream",
     "text": [
      "[CV]  n_estimators=1566, min_samples_split=5, min_samples_leaf=1, max_features=sqrt, max_depth=70, bootstrap=False, total=   5.6s\n",
      "[CV] n_estimators=1350, min_samples_split=5, min_samples_leaf=4, max_features=sqrt, max_depth=80, bootstrap=True \n"
     ]
    },
    {
     "name": "stderr",
     "output_type": "stream",
     "text": [
      "/home/amit/anaconda3/lib/python3.6/site-packages/sklearn/model_selection/_validation.py:458: DataConversionWarning: A column-vector y was passed when a 1d array was expected. Please change the shape of y to (n_samples,), for example using ravel().\n",
      "  estimator.fit(X_train, y_train, **fit_params)\n"
     ]
    },
    {
     "name": "stdout",
     "output_type": "stream",
     "text": [
      "[CV]  n_estimators=1350, min_samples_split=5, min_samples_leaf=4, max_features=sqrt, max_depth=80, bootstrap=True, total=   3.6s\n",
      "[CV] n_estimators=1350, min_samples_split=5, min_samples_leaf=4, max_features=sqrt, max_depth=80, bootstrap=True \n"
     ]
    },
    {
     "name": "stderr",
     "output_type": "stream",
     "text": [
      "/home/amit/anaconda3/lib/python3.6/site-packages/sklearn/model_selection/_validation.py:458: DataConversionWarning: A column-vector y was passed when a 1d array was expected. Please change the shape of y to (n_samples,), for example using ravel().\n",
      "  estimator.fit(X_train, y_train, **fit_params)\n"
     ]
    },
    {
     "name": "stdout",
     "output_type": "stream",
     "text": [
      "[CV]  n_estimators=1566, min_samples_split=5, min_samples_leaf=1, max_features=sqrt, max_depth=70, bootstrap=False, total=   5.9s\n",
      "[CV] n_estimators=1783, min_samples_split=2, min_samples_leaf=2, max_features=auto, max_depth=None, bootstrap=True \n"
     ]
    },
    {
     "name": "stderr",
     "output_type": "stream",
     "text": [
      "/home/amit/anaconda3/lib/python3.6/site-packages/sklearn/model_selection/_validation.py:458: DataConversionWarning: A column-vector y was passed when a 1d array was expected. Please change the shape of y to (n_samples,), for example using ravel().\n",
      "  estimator.fit(X_train, y_train, **fit_params)\n"
     ]
    },
    {
     "name": "stdout",
     "output_type": "stream",
     "text": [
      "[CV]  n_estimators=1350, min_samples_split=5, min_samples_leaf=4, max_features=sqrt, max_depth=80, bootstrap=True, total=   4.0s\n",
      "[CV] n_estimators=1783, min_samples_split=2, min_samples_leaf=2, max_features=auto, max_depth=None, bootstrap=True \n"
     ]
    },
    {
     "name": "stderr",
     "output_type": "stream",
     "text": [
      "/home/amit/anaconda3/lib/python3.6/site-packages/sklearn/model_selection/_validation.py:458: DataConversionWarning: A column-vector y was passed when a 1d array was expected. Please change the shape of y to (n_samples,), for example using ravel().\n",
      "  estimator.fit(X_train, y_train, **fit_params)\n"
     ]
    },
    {
     "name": "stdout",
     "output_type": "stream",
     "text": [
      "[CV]  n_estimators=1566, min_samples_split=5, min_samples_leaf=1, max_features=sqrt, max_depth=70, bootstrap=False, total=   6.6s\n",
      "[CV] n_estimators=1783, min_samples_split=2, min_samples_leaf=2, max_features=auto, max_depth=None, bootstrap=True \n"
     ]
    },
    {
     "name": "stderr",
     "output_type": "stream",
     "text": [
      "/home/amit/anaconda3/lib/python3.6/site-packages/sklearn/model_selection/_validation.py:458: DataConversionWarning: A column-vector y was passed when a 1d array was expected. Please change the shape of y to (n_samples,), for example using ravel().\n",
      "  estimator.fit(X_train, y_train, **fit_params)\n"
     ]
    },
    {
     "name": "stdout",
     "output_type": "stream",
     "text": [
      "[CV]  n_estimators=1350, min_samples_split=5, min_samples_leaf=4, max_features=sqrt, max_depth=80, bootstrap=True, total=   4.2s\n",
      "[CV] n_estimators=1350, min_samples_split=5, min_samples_leaf=1, max_features=sqrt, max_depth=80, bootstrap=False \n"
     ]
    },
    {
     "name": "stderr",
     "output_type": "stream",
     "text": [
      "/home/amit/anaconda3/lib/python3.6/site-packages/sklearn/model_selection/_validation.py:458: DataConversionWarning: A column-vector y was passed when a 1d array was expected. Please change the shape of y to (n_samples,), for example using ravel().\n",
      "  estimator.fit(X_train, y_train, **fit_params)\n"
     ]
    },
    {
     "name": "stdout",
     "output_type": "stream",
     "text": [
      "[CV]  n_estimators=1783, min_samples_split=2, min_samples_leaf=2, max_features=auto, max_depth=None, bootstrap=True, total=   7.3s\n",
      "[CV] n_estimators=1350, min_samples_split=5, min_samples_leaf=1, max_features=sqrt, max_depth=80, bootstrap=False \n"
     ]
    },
    {
     "name": "stderr",
     "output_type": "stream",
     "text": [
      "/home/amit/anaconda3/lib/python3.6/site-packages/sklearn/model_selection/_validation.py:458: DataConversionWarning: A column-vector y was passed when a 1d array was expected. Please change the shape of y to (n_samples,), for example using ravel().\n",
      "  estimator.fit(X_train, y_train, **fit_params)\n"
     ]
    },
    {
     "name": "stdout",
     "output_type": "stream",
     "text": [
      "[CV]  n_estimators=1783, min_samples_split=2, min_samples_leaf=2, max_features=auto, max_depth=None, bootstrap=True, total=   6.4s\n",
      "[CV] n_estimators=1350, min_samples_split=5, min_samples_leaf=1, max_features=sqrt, max_depth=80, bootstrap=False \n"
     ]
    },
    {
     "name": "stderr",
     "output_type": "stream",
     "text": [
      "/home/amit/anaconda3/lib/python3.6/site-packages/sklearn/model_selection/_validation.py:458: DataConversionWarning: A column-vector y was passed when a 1d array was expected. Please change the shape of y to (n_samples,), for example using ravel().\n",
      "  estimator.fit(X_train, y_train, **fit_params)\n"
     ]
    },
    {
     "name": "stdout",
     "output_type": "stream",
     "text": [
      "[CV]  n_estimators=1783, min_samples_split=2, min_samples_leaf=2, max_features=auto, max_depth=None, bootstrap=True, total=   7.1s\n",
      "[CV] n_estimators=266, min_samples_split=2, min_samples_leaf=1, max_features=sqrt, max_depth=None, bootstrap=False \n"
     ]
    },
    {
     "name": "stderr",
     "output_type": "stream",
     "text": [
      "/home/amit/anaconda3/lib/python3.6/site-packages/sklearn/model_selection/_validation.py:458: DataConversionWarning: A column-vector y was passed when a 1d array was expected. Please change the shape of y to (n_samples,), for example using ravel().\n",
      "  estimator.fit(X_train, y_train, **fit_params)\n"
     ]
    },
    {
     "name": "stdout",
     "output_type": "stream",
     "text": [
      "[CV]  n_estimators=1350, min_samples_split=5, min_samples_leaf=1, max_features=sqrt, max_depth=80, bootstrap=False, total=   5.1s\n",
      "[CV] n_estimators=266, min_samples_split=2, min_samples_leaf=1, max_features=sqrt, max_depth=None, bootstrap=False \n"
     ]
    },
    {
     "name": "stderr",
     "output_type": "stream",
     "text": [
      "/home/amit/anaconda3/lib/python3.6/site-packages/sklearn/model_selection/_validation.py:458: DataConversionWarning: A column-vector y was passed when a 1d array was expected. Please change the shape of y to (n_samples,), for example using ravel().\n",
      "  estimator.fit(X_train, y_train, **fit_params)\n"
     ]
    },
    {
     "name": "stdout",
     "output_type": "stream",
     "text": [
      "[CV]  n_estimators=266, min_samples_split=2, min_samples_leaf=1, max_features=sqrt, max_depth=None, bootstrap=False, total=   0.9s\n",
      "[CV] n_estimators=266, min_samples_split=2, min_samples_leaf=1, max_features=sqrt, max_depth=None, bootstrap=False \n"
     ]
    },
    {
     "name": "stderr",
     "output_type": "stream",
     "text": [
      "/home/amit/anaconda3/lib/python3.6/site-packages/sklearn/model_selection/_validation.py:458: DataConversionWarning: A column-vector y was passed when a 1d array was expected. Please change the shape of y to (n_samples,), for example using ravel().\n",
      "  estimator.fit(X_train, y_train, **fit_params)\n"
     ]
    },
    {
     "name": "stdout",
     "output_type": "stream",
     "text": [
      "[CV]  n_estimators=266, min_samples_split=2, min_samples_leaf=1, max_features=sqrt, max_depth=None, bootstrap=False, total=   1.1s\n",
      "[CV] n_estimators=1350, min_samples_split=2, min_samples_leaf=1, max_features=auto, max_depth=40, bootstrap=False \n"
     ]
    },
    {
     "name": "stderr",
     "output_type": "stream",
     "text": [
      "/home/amit/anaconda3/lib/python3.6/site-packages/sklearn/model_selection/_validation.py:458: DataConversionWarning: A column-vector y was passed when a 1d array was expected. Please change the shape of y to (n_samples,), for example using ravel().\n",
      "  estimator.fit(X_train, y_train, **fit_params)\n"
     ]
    },
    {
     "name": "stdout",
     "output_type": "stream",
     "text": [
      "[CV]  n_estimators=266, min_samples_split=2, min_samples_leaf=1, max_features=sqrt, max_depth=None, bootstrap=False, total=   1.4s\n",
      "[CV] n_estimators=1350, min_samples_split=2, min_samples_leaf=1, max_features=auto, max_depth=40, bootstrap=False \n"
     ]
    },
    {
     "name": "stderr",
     "output_type": "stream",
     "text": [
      "/home/amit/anaconda3/lib/python3.6/site-packages/sklearn/model_selection/_validation.py:458: DataConversionWarning: A column-vector y was passed when a 1d array was expected. Please change the shape of y to (n_samples,), for example using ravel().\n",
      "  estimator.fit(X_train, y_train, **fit_params)\n"
     ]
    },
    {
     "name": "stdout",
     "output_type": "stream",
     "text": [
      "[CV]  n_estimators=1350, min_samples_split=5, min_samples_leaf=1, max_features=sqrt, max_depth=80, bootstrap=False, total=   4.8s\n",
      "[CV] n_estimators=1350, min_samples_split=2, min_samples_leaf=1, max_features=auto, max_depth=40, bootstrap=False \n"
     ]
    },
    {
     "name": "stderr",
     "output_type": "stream",
     "text": [
      "/home/amit/anaconda3/lib/python3.6/site-packages/sklearn/model_selection/_validation.py:458: DataConversionWarning: A column-vector y was passed when a 1d array was expected. Please change the shape of y to (n_samples,), for example using ravel().\n",
      "  estimator.fit(X_train, y_train, **fit_params)\n"
     ]
    },
    {
     "name": "stdout",
     "output_type": "stream",
     "text": [
      "[CV]  n_estimators=1350, min_samples_split=5, min_samples_leaf=1, max_features=sqrt, max_depth=80, bootstrap=False, total=   5.3s\n",
      "[CV] n_estimators=916, min_samples_split=5, min_samples_leaf=2, max_features=sqrt, max_depth=20, bootstrap=True \n"
     ]
    },
    {
     "name": "stderr",
     "output_type": "stream",
     "text": [
      "/home/amit/anaconda3/lib/python3.6/site-packages/sklearn/model_selection/_validation.py:458: DataConversionWarning: A column-vector y was passed when a 1d array was expected. Please change the shape of y to (n_samples,), for example using ravel().\n",
      "  estimator.fit(X_train, y_train, **fit_params)\n"
     ]
    },
    {
     "name": "stdout",
     "output_type": "stream",
     "text": [
      "[CV]  n_estimators=916, min_samples_split=5, min_samples_leaf=2, max_features=sqrt, max_depth=20, bootstrap=True, total=   3.2s\n",
      "[CV] n_estimators=916, min_samples_split=5, min_samples_leaf=2, max_features=sqrt, max_depth=20, bootstrap=True \n"
     ]
    },
    {
     "name": "stderr",
     "output_type": "stream",
     "text": [
      "/home/amit/anaconda3/lib/python3.6/site-packages/sklearn/model_selection/_validation.py:458: DataConversionWarning: A column-vector y was passed when a 1d array was expected. Please change the shape of y to (n_samples,), for example using ravel().\n",
      "  estimator.fit(X_train, y_train, **fit_params)\n"
     ]
    },
    {
     "name": "stdout",
     "output_type": "stream",
     "text": [
      "[CV]  n_estimators=1350, min_samples_split=2, min_samples_leaf=1, max_features=auto, max_depth=40, bootstrap=False, total=   7.6s\n",
      "[CV] n_estimators=916, min_samples_split=5, min_samples_leaf=2, max_features=sqrt, max_depth=20, bootstrap=True \n"
     ]
    },
    {
     "name": "stderr",
     "output_type": "stream",
     "text": [
      "/home/amit/anaconda3/lib/python3.6/site-packages/sklearn/model_selection/_validation.py:458: DataConversionWarning: A column-vector y was passed when a 1d array was expected. Please change the shape of y to (n_samples,), for example using ravel().\n",
      "  estimator.fit(X_train, y_train, **fit_params)\n"
     ]
    },
    {
     "name": "stdout",
     "output_type": "stream",
     "text": [
      "[CV]  n_estimators=916, min_samples_split=5, min_samples_leaf=2, max_features=sqrt, max_depth=20, bootstrap=True, total=   2.6s\n",
      "[CV] n_estimators=2000, min_samples_split=10, min_samples_leaf=4, max_features=auto, max_depth=100, bootstrap=False \n"
     ]
    },
    {
     "name": "stderr",
     "output_type": "stream",
     "text": [
      "/home/amit/anaconda3/lib/python3.6/site-packages/sklearn/model_selection/_validation.py:458: DataConversionWarning: A column-vector y was passed when a 1d array was expected. Please change the shape of y to (n_samples,), for example using ravel().\n",
      "  estimator.fit(X_train, y_train, **fit_params)\n"
     ]
    },
    {
     "name": "stdout",
     "output_type": "stream",
     "text": [
      "[CV]  n_estimators=1350, min_samples_split=2, min_samples_leaf=1, max_features=auto, max_depth=40, bootstrap=False, total=   8.1s\n",
      "[CV] n_estimators=2000, min_samples_split=10, min_samples_leaf=4, max_features=auto, max_depth=100, bootstrap=False \n"
     ]
    },
    {
     "name": "stderr",
     "output_type": "stream",
     "text": [
      "/home/amit/anaconda3/lib/python3.6/site-packages/sklearn/model_selection/_validation.py:458: DataConversionWarning: A column-vector y was passed when a 1d array was expected. Please change the shape of y to (n_samples,), for example using ravel().\n",
      "  estimator.fit(X_train, y_train, **fit_params)\n"
     ]
    },
    {
     "name": "stdout",
     "output_type": "stream",
     "text": [
      "[CV]  n_estimators=1350, min_samples_split=2, min_samples_leaf=1, max_features=auto, max_depth=40, bootstrap=False, total=   7.4s\n",
      "[CV] n_estimators=2000, min_samples_split=10, min_samples_leaf=4, max_features=auto, max_depth=100, bootstrap=False \n"
     ]
    },
    {
     "name": "stderr",
     "output_type": "stream",
     "text": [
      "/home/amit/anaconda3/lib/python3.6/site-packages/sklearn/model_selection/_validation.py:458: DataConversionWarning: A column-vector y was passed when a 1d array was expected. Please change the shape of y to (n_samples,), for example using ravel().\n",
      "  estimator.fit(X_train, y_train, **fit_params)\n"
     ]
    },
    {
     "name": "stdout",
     "output_type": "stream",
     "text": [
      "[CV]  n_estimators=916, min_samples_split=5, min_samples_leaf=2, max_features=sqrt, max_depth=20, bootstrap=True, total=   2.7s\n",
      "[CV] n_estimators=1133, min_samples_split=2, min_samples_leaf=2, max_features=sqrt, max_depth=20, bootstrap=True \n"
     ]
    },
    {
     "name": "stderr",
     "output_type": "stream",
     "text": [
      "/home/amit/anaconda3/lib/python3.6/site-packages/sklearn/model_selection/_validation.py:458: DataConversionWarning: A column-vector y was passed when a 1d array was expected. Please change the shape of y to (n_samples,), for example using ravel().\n",
      "  estimator.fit(X_train, y_train, **fit_params)\n"
     ]
    },
    {
     "name": "stdout",
     "output_type": "stream",
     "text": [
      "[CV]  n_estimators=1133, min_samples_split=2, min_samples_leaf=2, max_features=sqrt, max_depth=20, bootstrap=True, total=   3.3s\n",
      "[CV] n_estimators=1133, min_samples_split=2, min_samples_leaf=2, max_features=sqrt, max_depth=20, bootstrap=True \n"
     ]
    },
    {
     "name": "stderr",
     "output_type": "stream",
     "text": [
      "/home/amit/anaconda3/lib/python3.6/site-packages/sklearn/model_selection/_validation.py:458: DataConversionWarning: A column-vector y was passed when a 1d array was expected. Please change the shape of y to (n_samples,), for example using ravel().\n",
      "  estimator.fit(X_train, y_train, **fit_params)\n"
     ]
    },
    {
     "name": "stdout",
     "output_type": "stream",
     "text": [
      "[CV]  n_estimators=2000, min_samples_split=10, min_samples_leaf=4, max_features=auto, max_depth=100, bootstrap=False, total=   8.0s\n",
      "[CV] n_estimators=1133, min_samples_split=2, min_samples_leaf=2, max_features=sqrt, max_depth=20, bootstrap=True \n"
     ]
    },
    {
     "name": "stderr",
     "output_type": "stream",
     "text": [
      "/home/amit/anaconda3/lib/python3.6/site-packages/sklearn/model_selection/_validation.py:458: DataConversionWarning: A column-vector y was passed when a 1d array was expected. Please change the shape of y to (n_samples,), for example using ravel().\n",
      "  estimator.fit(X_train, y_train, **fit_params)\n"
     ]
    },
    {
     "name": "stdout",
     "output_type": "stream",
     "text": [
      "[CV]  n_estimators=1133, min_samples_split=2, min_samples_leaf=2, max_features=sqrt, max_depth=20, bootstrap=True, total=   3.6s\n",
      "[CV] n_estimators=1133, min_samples_split=10, min_samples_leaf=4, max_features=sqrt, max_depth=20, bootstrap=False \n"
     ]
    },
    {
     "name": "stderr",
     "output_type": "stream",
     "text": [
      "/home/amit/anaconda3/lib/python3.6/site-packages/sklearn/model_selection/_validation.py:458: DataConversionWarning: A column-vector y was passed when a 1d array was expected. Please change the shape of y to (n_samples,), for example using ravel().\n",
      "  estimator.fit(X_train, y_train, **fit_params)\n"
     ]
    },
    {
     "name": "stdout",
     "output_type": "stream",
     "text": [
      "[CV]  n_estimators=2000, min_samples_split=10, min_samples_leaf=4, max_features=auto, max_depth=100, bootstrap=False, total=   9.6s\n",
      "[CV] n_estimators=1133, min_samples_split=10, min_samples_leaf=4, max_features=sqrt, max_depth=20, bootstrap=False \n"
     ]
    },
    {
     "name": "stderr",
     "output_type": "stream",
     "text": [
      "/home/amit/anaconda3/lib/python3.6/site-packages/sklearn/model_selection/_validation.py:458: DataConversionWarning: A column-vector y was passed when a 1d array was expected. Please change the shape of y to (n_samples,), for example using ravel().\n",
      "  estimator.fit(X_train, y_train, **fit_params)\n"
     ]
    },
    {
     "name": "stdout",
     "output_type": "stream",
     "text": [
      "[CV]  n_estimators=2000, min_samples_split=10, min_samples_leaf=4, max_features=auto, max_depth=100, bootstrap=False, total=   8.9s\n",
      "[CV] n_estimators=1133, min_samples_split=10, min_samples_leaf=4, max_features=sqrt, max_depth=20, bootstrap=False \n"
     ]
    },
    {
     "name": "stderr",
     "output_type": "stream",
     "text": [
      "/home/amit/anaconda3/lib/python3.6/site-packages/sklearn/model_selection/_validation.py:458: DataConversionWarning: A column-vector y was passed when a 1d array was expected. Please change the shape of y to (n_samples,), for example using ravel().\n",
      "  estimator.fit(X_train, y_train, **fit_params)\n"
     ]
    },
    {
     "name": "stdout",
     "output_type": "stream",
     "text": [
      "[CV]  n_estimators=1133, min_samples_split=2, min_samples_leaf=2, max_features=sqrt, max_depth=20, bootstrap=True, total=   3.8s\n",
      "[CV] n_estimators=700, min_samples_split=2, min_samples_leaf=2, max_features=sqrt, max_depth=50, bootstrap=False \n"
     ]
    },
    {
     "name": "stderr",
     "output_type": "stream",
     "text": [
      "/home/amit/anaconda3/lib/python3.6/site-packages/sklearn/model_selection/_validation.py:458: DataConversionWarning: A column-vector y was passed when a 1d array was expected. Please change the shape of y to (n_samples,), for example using ravel().\n",
      "  estimator.fit(X_train, y_train, **fit_params)\n"
     ]
    },
    {
     "name": "stdout",
     "output_type": "stream",
     "text": [
      "[CV]  n_estimators=1133, min_samples_split=10, min_samples_leaf=4, max_features=sqrt, max_depth=20, bootstrap=False, total=   3.0s\n",
      "[CV] n_estimators=700, min_samples_split=2, min_samples_leaf=2, max_features=sqrt, max_depth=50, bootstrap=False \n"
     ]
    },
    {
     "name": "stderr",
     "output_type": "stream",
     "text": [
      "/home/amit/anaconda3/lib/python3.6/site-packages/sklearn/model_selection/_validation.py:458: DataConversionWarning: A column-vector y was passed when a 1d array was expected. Please change the shape of y to (n_samples,), for example using ravel().\n",
      "  estimator.fit(X_train, y_train, **fit_params)\n"
     ]
    },
    {
     "name": "stdout",
     "output_type": "stream",
     "text": [
      "[CV]  n_estimators=1133, min_samples_split=10, min_samples_leaf=4, max_features=sqrt, max_depth=20, bootstrap=False, total=   3.7s\n",
      "[CV] n_estimators=700, min_samples_split=2, min_samples_leaf=2, max_features=sqrt, max_depth=50, bootstrap=False \n"
     ]
    },
    {
     "name": "stderr",
     "output_type": "stream",
     "text": [
      "/home/amit/anaconda3/lib/python3.6/site-packages/sklearn/model_selection/_validation.py:458: DataConversionWarning: A column-vector y was passed when a 1d array was expected. Please change the shape of y to (n_samples,), for example using ravel().\n",
      "  estimator.fit(X_train, y_train, **fit_params)\n"
     ]
    },
    {
     "name": "stdout",
     "output_type": "stream",
     "text": [
      "[CV]  n_estimators=700, min_samples_split=2, min_samples_leaf=2, max_features=sqrt, max_depth=50, bootstrap=False, total=   2.2s\n",
      "[CV] n_estimators=700, min_samples_split=5, min_samples_leaf=1, max_features=sqrt, max_depth=100, bootstrap=False \n"
     ]
    },
    {
     "name": "stderr",
     "output_type": "stream",
     "text": [
      "/home/amit/anaconda3/lib/python3.6/site-packages/sklearn/model_selection/_validation.py:458: DataConversionWarning: A column-vector y was passed when a 1d array was expected. Please change the shape of y to (n_samples,), for example using ravel().\n",
      "  estimator.fit(X_train, y_train, **fit_params)\n"
     ]
    },
    {
     "name": "stdout",
     "output_type": "stream",
     "text": [
      "[CV]  n_estimators=1133, min_samples_split=10, min_samples_leaf=4, max_features=sqrt, max_depth=20, bootstrap=False, total=   4.1s\n",
      "[CV] n_estimators=700, min_samples_split=5, min_samples_leaf=1, max_features=sqrt, max_depth=100, bootstrap=False \n"
     ]
    },
    {
     "name": "stderr",
     "output_type": "stream",
     "text": [
      "/home/amit/anaconda3/lib/python3.6/site-packages/sklearn/model_selection/_validation.py:458: DataConversionWarning: A column-vector y was passed when a 1d array was expected. Please change the shape of y to (n_samples,), for example using ravel().\n",
      "  estimator.fit(X_train, y_train, **fit_params)\n"
     ]
    },
    {
     "name": "stdout",
     "output_type": "stream",
     "text": [
      "[CV]  n_estimators=700, min_samples_split=2, min_samples_leaf=2, max_features=sqrt, max_depth=50, bootstrap=False, total=   3.0s\n",
      "[CV] n_estimators=700, min_samples_split=5, min_samples_leaf=1, max_features=sqrt, max_depth=100, bootstrap=False \n"
     ]
    },
    {
     "name": "stderr",
     "output_type": "stream",
     "text": [
      "/home/amit/anaconda3/lib/python3.6/site-packages/sklearn/model_selection/_validation.py:458: DataConversionWarning: A column-vector y was passed when a 1d array was expected. Please change the shape of y to (n_samples,), for example using ravel().\n",
      "  estimator.fit(X_train, y_train, **fit_params)\n"
     ]
    },
    {
     "name": "stdout",
     "output_type": "stream",
     "text": [
      "[CV]  n_estimators=700, min_samples_split=2, min_samples_leaf=2, max_features=sqrt, max_depth=50, bootstrap=False, total=   2.5s\n",
      "[CV] n_estimators=700, min_samples_split=10, min_samples_leaf=4, max_features=sqrt, max_depth=50, bootstrap=True \n"
     ]
    },
    {
     "name": "stderr",
     "output_type": "stream",
     "text": [
      "/home/amit/anaconda3/lib/python3.6/site-packages/sklearn/model_selection/_validation.py:458: DataConversionWarning: A column-vector y was passed when a 1d array was expected. Please change the shape of y to (n_samples,), for example using ravel().\n",
      "  estimator.fit(X_train, y_train, **fit_params)\n"
     ]
    },
    {
     "name": "stdout",
     "output_type": "stream",
     "text": [
      "[CV]  n_estimators=700, min_samples_split=5, min_samples_leaf=1, max_features=sqrt, max_depth=100, bootstrap=False, total=   2.3s\n",
      "[CV] n_estimators=700, min_samples_split=10, min_samples_leaf=4, max_features=sqrt, max_depth=50, bootstrap=True \n"
     ]
    },
    {
     "name": "stderr",
     "output_type": "stream",
     "text": [
      "/home/amit/anaconda3/lib/python3.6/site-packages/sklearn/model_selection/_validation.py:458: DataConversionWarning: A column-vector y was passed when a 1d array was expected. Please change the shape of y to (n_samples,), for example using ravel().\n",
      "  estimator.fit(X_train, y_train, **fit_params)\n"
     ]
    },
    {
     "name": "stdout",
     "output_type": "stream",
     "text": [
      "[CV]  n_estimators=700, min_samples_split=5, min_samples_leaf=1, max_features=sqrt, max_depth=100, bootstrap=False, total=   2.6s\n",
      "[CV] n_estimators=700, min_samples_split=10, min_samples_leaf=4, max_features=sqrt, max_depth=50, bootstrap=True \n"
     ]
    },
    {
     "name": "stderr",
     "output_type": "stream",
     "text": [
      "/home/amit/anaconda3/lib/python3.6/site-packages/sklearn/model_selection/_validation.py:458: DataConversionWarning: A column-vector y was passed when a 1d array was expected. Please change the shape of y to (n_samples,), for example using ravel().\n",
      "  estimator.fit(X_train, y_train, **fit_params)\n"
     ]
    },
    {
     "name": "stdout",
     "output_type": "stream",
     "text": [
      "[CV]  n_estimators=700, min_samples_split=5, min_samples_leaf=1, max_features=sqrt, max_depth=100, bootstrap=False, total=   2.4s\n",
      "[CV] n_estimators=1783, min_samples_split=2, min_samples_leaf=4, max_features=sqrt, max_depth=90, bootstrap=True \n"
     ]
    },
    {
     "name": "stderr",
     "output_type": "stream",
     "text": [
      "/home/amit/anaconda3/lib/python3.6/site-packages/sklearn/model_selection/_validation.py:458: DataConversionWarning: A column-vector y was passed when a 1d array was expected. Please change the shape of y to (n_samples,), for example using ravel().\n",
      "  estimator.fit(X_train, y_train, **fit_params)\n"
     ]
    },
    {
     "name": "stdout",
     "output_type": "stream",
     "text": [
      "[CV]  n_estimators=700, min_samples_split=10, min_samples_leaf=4, max_features=sqrt, max_depth=50, bootstrap=True, total=   2.1s\n",
      "[CV] n_estimators=1783, min_samples_split=2, min_samples_leaf=4, max_features=sqrt, max_depth=90, bootstrap=True \n"
     ]
    },
    {
     "name": "stderr",
     "output_type": "stream",
     "text": [
      "/home/amit/anaconda3/lib/python3.6/site-packages/sklearn/model_selection/_validation.py:458: DataConversionWarning: A column-vector y was passed when a 1d array was expected. Please change the shape of y to (n_samples,), for example using ravel().\n",
      "  estimator.fit(X_train, y_train, **fit_params)\n"
     ]
    },
    {
     "name": "stdout",
     "output_type": "stream",
     "text": [
      "[CV]  n_estimators=700, min_samples_split=10, min_samples_leaf=4, max_features=sqrt, max_depth=50, bootstrap=True, total=   2.3s\n",
      "[CV] n_estimators=1783, min_samples_split=2, min_samples_leaf=4, max_features=sqrt, max_depth=90, bootstrap=True \n"
     ]
    },
    {
     "name": "stderr",
     "output_type": "stream",
     "text": [
      "/home/amit/anaconda3/lib/python3.6/site-packages/sklearn/model_selection/_validation.py:458: DataConversionWarning: A column-vector y was passed when a 1d array was expected. Please change the shape of y to (n_samples,), for example using ravel().\n",
      "  estimator.fit(X_train, y_train, **fit_params)\n"
     ]
    },
    {
     "name": "stdout",
     "output_type": "stream",
     "text": [
      "[CV]  n_estimators=700, min_samples_split=10, min_samples_leaf=4, max_features=sqrt, max_depth=50, bootstrap=True, total=   2.1s\n",
      "[CV] n_estimators=700, min_samples_split=10, min_samples_leaf=2, max_features=sqrt, max_depth=20, bootstrap=False \n"
     ]
    },
    {
     "name": "stderr",
     "output_type": "stream",
     "text": [
      "/home/amit/anaconda3/lib/python3.6/site-packages/sklearn/model_selection/_validation.py:458: DataConversionWarning: A column-vector y was passed when a 1d array was expected. Please change the shape of y to (n_samples,), for example using ravel().\n",
      "  estimator.fit(X_train, y_train, **fit_params)\n"
     ]
    },
    {
     "name": "stdout",
     "output_type": "stream",
     "text": [
      "[CV]  n_estimators=700, min_samples_split=10, min_samples_leaf=2, max_features=sqrt, max_depth=20, bootstrap=False, total=   2.5s\n",
      "[CV] n_estimators=700, min_samples_split=10, min_samples_leaf=2, max_features=sqrt, max_depth=20, bootstrap=False \n"
     ]
    },
    {
     "name": "stderr",
     "output_type": "stream",
     "text": [
      "/home/amit/anaconda3/lib/python3.6/site-packages/sklearn/model_selection/_validation.py:458: DataConversionWarning: A column-vector y was passed when a 1d array was expected. Please change the shape of y to (n_samples,), for example using ravel().\n",
      "  estimator.fit(X_train, y_train, **fit_params)\n"
     ]
    },
    {
     "name": "stdout",
     "output_type": "stream",
     "text": [
      "[CV]  n_estimators=1783, min_samples_split=2, min_samples_leaf=4, max_features=sqrt, max_depth=90, bootstrap=True, total=   5.3s\n",
      "[CV] n_estimators=700, min_samples_split=10, min_samples_leaf=2, max_features=sqrt, max_depth=20, bootstrap=False \n"
     ]
    },
    {
     "name": "stderr",
     "output_type": "stream",
     "text": [
      "/home/amit/anaconda3/lib/python3.6/site-packages/sklearn/model_selection/_validation.py:458: DataConversionWarning: A column-vector y was passed when a 1d array was expected. Please change the shape of y to (n_samples,), for example using ravel().\n",
      "  estimator.fit(X_train, y_train, **fit_params)\n"
     ]
    },
    {
     "name": "stdout",
     "output_type": "stream",
     "text": [
      "[CV]  n_estimators=1783, min_samples_split=2, min_samples_leaf=4, max_features=sqrt, max_depth=90, bootstrap=True, total=   5.6s\n",
      "[CV] n_estimators=1133, min_samples_split=5, min_samples_leaf=2, max_features=sqrt, max_depth=20, bootstrap=True \n"
     ]
    },
    {
     "name": "stderr",
     "output_type": "stream",
     "text": [
      "/home/amit/anaconda3/lib/python3.6/site-packages/sklearn/model_selection/_validation.py:458: DataConversionWarning: A column-vector y was passed when a 1d array was expected. Please change the shape of y to (n_samples,), for example using ravel().\n",
      "  estimator.fit(X_train, y_train, **fit_params)\n"
     ]
    },
    {
     "name": "stdout",
     "output_type": "stream",
     "text": [
      "[CV]  n_estimators=700, min_samples_split=10, min_samples_leaf=2, max_features=sqrt, max_depth=20, bootstrap=False, total=   2.2s\n",
      "[CV] n_estimators=1133, min_samples_split=5, min_samples_leaf=2, max_features=sqrt, max_depth=20, bootstrap=True \n"
     ]
    },
    {
     "name": "stderr",
     "output_type": "stream",
     "text": [
      "/home/amit/anaconda3/lib/python3.6/site-packages/sklearn/model_selection/_validation.py:458: DataConversionWarning: A column-vector y was passed when a 1d array was expected. Please change the shape of y to (n_samples,), for example using ravel().\n",
      "  estimator.fit(X_train, y_train, **fit_params)\n"
     ]
    },
    {
     "name": "stdout",
     "output_type": "stream",
     "text": [
      "[CV]  n_estimators=1783, min_samples_split=2, min_samples_leaf=4, max_features=sqrt, max_depth=90, bootstrap=True, total=   5.1s\n",
      "[CV] n_estimators=1133, min_samples_split=5, min_samples_leaf=2, max_features=sqrt, max_depth=20, bootstrap=True \n"
     ]
    },
    {
     "name": "stderr",
     "output_type": "stream",
     "text": [
      "/home/amit/anaconda3/lib/python3.6/site-packages/sklearn/model_selection/_validation.py:458: DataConversionWarning: A column-vector y was passed when a 1d array was expected. Please change the shape of y to (n_samples,), for example using ravel().\n",
      "  estimator.fit(X_train, y_train, **fit_params)\n"
     ]
    },
    {
     "name": "stdout",
     "output_type": "stream",
     "text": [
      "[CV]  n_estimators=700, min_samples_split=10, min_samples_leaf=2, max_features=sqrt, max_depth=20, bootstrap=False, total=   1.9s\n",
      "[CV] n_estimators=700, min_samples_split=2, min_samples_leaf=1, max_features=auto, max_depth=100, bootstrap=True \n"
     ]
    },
    {
     "name": "stderr",
     "output_type": "stream",
     "text": [
      "/home/amit/anaconda3/lib/python3.6/site-packages/sklearn/model_selection/_validation.py:458: DataConversionWarning: A column-vector y was passed when a 1d array was expected. Please change the shape of y to (n_samples,), for example using ravel().\n",
      "  estimator.fit(X_train, y_train, **fit_params)\n"
     ]
    },
    {
     "name": "stdout",
     "output_type": "stream",
     "text": [
      "[CV]  n_estimators=1133, min_samples_split=5, min_samples_leaf=2, max_features=sqrt, max_depth=20, bootstrap=True, total=   3.1s\n",
      "[CV] n_estimators=700, min_samples_split=2, min_samples_leaf=1, max_features=auto, max_depth=100, bootstrap=True \n"
     ]
    },
    {
     "name": "stderr",
     "output_type": "stream",
     "text": [
      "/home/amit/anaconda3/lib/python3.6/site-packages/sklearn/model_selection/_validation.py:458: DataConversionWarning: A column-vector y was passed when a 1d array was expected. Please change the shape of y to (n_samples,), for example using ravel().\n",
      "  estimator.fit(X_train, y_train, **fit_params)\n"
     ]
    },
    {
     "name": "stdout",
     "output_type": "stream",
     "text": [
      "[CV]  n_estimators=1133, min_samples_split=5, min_samples_leaf=2, max_features=sqrt, max_depth=20, bootstrap=True, total=   3.3s\n",
      "[CV] n_estimators=700, min_samples_split=2, min_samples_leaf=1, max_features=auto, max_depth=100, bootstrap=True \n"
     ]
    },
    {
     "name": "stderr",
     "output_type": "stream",
     "text": [
      "/home/amit/anaconda3/lib/python3.6/site-packages/sklearn/model_selection/_validation.py:458: DataConversionWarning: A column-vector y was passed when a 1d array was expected. Please change the shape of y to (n_samples,), for example using ravel().\n",
      "  estimator.fit(X_train, y_train, **fit_params)\n"
     ]
    },
    {
     "name": "stdout",
     "output_type": "stream",
     "text": [
      "[CV]  n_estimators=1133, min_samples_split=5, min_samples_leaf=2, max_features=sqrt, max_depth=20, bootstrap=True, total=   3.0s\n",
      "[CV] n_estimators=700, min_samples_split=5, min_samples_leaf=2, max_features=auto, max_depth=None, bootstrap=True \n"
     ]
    },
    {
     "name": "stderr",
     "output_type": "stream",
     "text": [
      "/home/amit/anaconda3/lib/python3.6/site-packages/sklearn/model_selection/_validation.py:458: DataConversionWarning: A column-vector y was passed when a 1d array was expected. Please change the shape of y to (n_samples,), for example using ravel().\n",
      "  estimator.fit(X_train, y_train, **fit_params)\n"
     ]
    },
    {
     "name": "stdout",
     "output_type": "stream",
     "text": [
      "[CV]  n_estimators=700, min_samples_split=2, min_samples_leaf=1, max_features=auto, max_depth=100, bootstrap=True, total=   3.7s\n",
      "[CV] n_estimators=700, min_samples_split=5, min_samples_leaf=2, max_features=auto, max_depth=None, bootstrap=True \n"
     ]
    },
    {
     "name": "stderr",
     "output_type": "stream",
     "text": [
      "/home/amit/anaconda3/lib/python3.6/site-packages/sklearn/model_selection/_validation.py:458: DataConversionWarning: A column-vector y was passed when a 1d array was expected. Please change the shape of y to (n_samples,), for example using ravel().\n",
      "  estimator.fit(X_train, y_train, **fit_params)\n"
     ]
    },
    {
     "name": "stdout",
     "output_type": "stream",
     "text": [
      "[CV]  n_estimators=700, min_samples_split=2, min_samples_leaf=1, max_features=auto, max_depth=100, bootstrap=True, total=   2.6s\n",
      "[CV] n_estimators=700, min_samples_split=5, min_samples_leaf=2, max_features=auto, max_depth=None, bootstrap=True \n"
     ]
    },
    {
     "name": "stderr",
     "output_type": "stream",
     "text": [
      "/home/amit/anaconda3/lib/python3.6/site-packages/sklearn/model_selection/_validation.py:458: DataConversionWarning: A column-vector y was passed when a 1d array was expected. Please change the shape of y to (n_samples,), for example using ravel().\n",
      "  estimator.fit(X_train, y_train, **fit_params)\n"
     ]
    },
    {
     "name": "stdout",
     "output_type": "stream",
     "text": [
      "[CV]  n_estimators=700, min_samples_split=2, min_samples_leaf=1, max_features=auto, max_depth=100, bootstrap=True, total=   3.3s\n",
      "[CV] n_estimators=916, min_samples_split=2, min_samples_leaf=2, max_features=sqrt, max_depth=60, bootstrap=True \n"
     ]
    },
    {
     "name": "stderr",
     "output_type": "stream",
     "text": [
      "/home/amit/anaconda3/lib/python3.6/site-packages/sklearn/model_selection/_validation.py:458: DataConversionWarning: A column-vector y was passed when a 1d array was expected. Please change the shape of y to (n_samples,), for example using ravel().\n",
      "  estimator.fit(X_train, y_train, **fit_params)\n"
     ]
    },
    {
     "name": "stdout",
     "output_type": "stream",
     "text": [
      "[CV]  n_estimators=700, min_samples_split=5, min_samples_leaf=2, max_features=auto, max_depth=None, bootstrap=True, total=   3.3s\n",
      "[CV] n_estimators=916, min_samples_split=2, min_samples_leaf=2, max_features=sqrt, max_depth=60, bootstrap=True \n"
     ]
    },
    {
     "name": "stderr",
     "output_type": "stream",
     "text": [
      "/home/amit/anaconda3/lib/python3.6/site-packages/sklearn/model_selection/_validation.py:458: DataConversionWarning: A column-vector y was passed when a 1d array was expected. Please change the shape of y to (n_samples,), for example using ravel().\n",
      "  estimator.fit(X_train, y_train, **fit_params)\n"
     ]
    },
    {
     "name": "stdout",
     "output_type": "stream",
     "text": [
      "[CV]  n_estimators=700, min_samples_split=5, min_samples_leaf=2, max_features=auto, max_depth=None, bootstrap=True, total=   2.6s\n",
      "[CV] n_estimators=916, min_samples_split=2, min_samples_leaf=2, max_features=sqrt, max_depth=60, bootstrap=True \n"
     ]
    },
    {
     "name": "stderr",
     "output_type": "stream",
     "text": [
      "/home/amit/anaconda3/lib/python3.6/site-packages/sklearn/model_selection/_validation.py:458: DataConversionWarning: A column-vector y was passed when a 1d array was expected. Please change the shape of y to (n_samples,), for example using ravel().\n",
      "  estimator.fit(X_train, y_train, **fit_params)\n"
     ]
    },
    {
     "name": "stdout",
     "output_type": "stream",
     "text": [
      "[CV]  n_estimators=700, min_samples_split=5, min_samples_leaf=2, max_features=auto, max_depth=None, bootstrap=True, total=   2.5s\n",
      "[CV] n_estimators=50, min_samples_split=5, min_samples_leaf=4, max_features=auto, max_depth=10, bootstrap=True \n"
     ]
    },
    {
     "name": "stderr",
     "output_type": "stream",
     "text": [
      "/home/amit/anaconda3/lib/python3.6/site-packages/sklearn/model_selection/_validation.py:458: DataConversionWarning: A column-vector y was passed when a 1d array was expected. Please change the shape of y to (n_samples,), for example using ravel().\n",
      "  estimator.fit(X_train, y_train, **fit_params)\n"
     ]
    },
    {
     "name": "stdout",
     "output_type": "stream",
     "text": [
      "[CV]  n_estimators=50, min_samples_split=5, min_samples_leaf=4, max_features=auto, max_depth=10, bootstrap=True, total=   0.3s\n",
      "[CV] n_estimators=50, min_samples_split=5, min_samples_leaf=4, max_features=auto, max_depth=10, bootstrap=True \n"
     ]
    },
    {
     "name": "stderr",
     "output_type": "stream",
     "text": [
      "/home/amit/anaconda3/lib/python3.6/site-packages/sklearn/model_selection/_validation.py:458: DataConversionWarning: A column-vector y was passed when a 1d array was expected. Please change the shape of y to (n_samples,), for example using ravel().\n",
      "  estimator.fit(X_train, y_train, **fit_params)\n"
     ]
    },
    {
     "name": "stdout",
     "output_type": "stream",
     "text": [
      "[CV]  n_estimators=50, min_samples_split=5, min_samples_leaf=4, max_features=auto, max_depth=10, bootstrap=True, total=   0.3s\n",
      "[CV] n_estimators=50, min_samples_split=5, min_samples_leaf=4, max_features=auto, max_depth=10, bootstrap=True \n"
     ]
    },
    {
     "name": "stderr",
     "output_type": "stream",
     "text": [
      "/home/amit/anaconda3/lib/python3.6/site-packages/sklearn/model_selection/_validation.py:458: DataConversionWarning: A column-vector y was passed when a 1d array was expected. Please change the shape of y to (n_samples,), for example using ravel().\n",
      "  estimator.fit(X_train, y_train, **fit_params)\n"
     ]
    },
    {
     "name": "stdout",
     "output_type": "stream",
     "text": [
      "[CV]  n_estimators=50, min_samples_split=5, min_samples_leaf=4, max_features=auto, max_depth=10, bootstrap=True, total=   0.2s\n",
      "[CV] n_estimators=483, min_samples_split=10, min_samples_leaf=2, max_features=sqrt, max_depth=60, bootstrap=True \n"
     ]
    },
    {
     "name": "stderr",
     "output_type": "stream",
     "text": [
      "/home/amit/anaconda3/lib/python3.6/site-packages/sklearn/model_selection/_validation.py:458: DataConversionWarning: A column-vector y was passed when a 1d array was expected. Please change the shape of y to (n_samples,), for example using ravel().\n",
      "  estimator.fit(X_train, y_train, **fit_params)\n"
     ]
    },
    {
     "name": "stdout",
     "output_type": "stream",
     "text": [
      "[CV]  n_estimators=916, min_samples_split=2, min_samples_leaf=2, max_features=sqrt, max_depth=60, bootstrap=True, total=   3.2s\n",
      "[CV] n_estimators=483, min_samples_split=10, min_samples_leaf=2, max_features=sqrt, max_depth=60, bootstrap=True \n"
     ]
    },
    {
     "name": "stderr",
     "output_type": "stream",
     "text": [
      "/home/amit/anaconda3/lib/python3.6/site-packages/sklearn/model_selection/_validation.py:458: DataConversionWarning: A column-vector y was passed when a 1d array was expected. Please change the shape of y to (n_samples,), for example using ravel().\n",
      "  estimator.fit(X_train, y_train, **fit_params)\n"
     ]
    },
    {
     "name": "stdout",
     "output_type": "stream",
     "text": [
      "[CV]  n_estimators=916, min_samples_split=2, min_samples_leaf=2, max_features=sqrt, max_depth=60, bootstrap=True, total=   3.0s\n",
      "[CV] n_estimators=483, min_samples_split=10, min_samples_leaf=2, max_features=sqrt, max_depth=60, bootstrap=True \n"
     ]
    },
    {
     "name": "stderr",
     "output_type": "stream",
     "text": [
      "/home/amit/anaconda3/lib/python3.6/site-packages/sklearn/model_selection/_validation.py:458: DataConversionWarning: A column-vector y was passed when a 1d array was expected. Please change the shape of y to (n_samples,), for example using ravel().\n",
      "  estimator.fit(X_train, y_train, **fit_params)\n"
     ]
    },
    {
     "name": "stdout",
     "output_type": "stream",
     "text": [
      "[CV]  n_estimators=483, min_samples_split=10, min_samples_leaf=2, max_features=sqrt, max_depth=60, bootstrap=True, total=   1.3s\n",
      "[CV] n_estimators=700, min_samples_split=2, min_samples_leaf=4, max_features=sqrt, max_depth=90, bootstrap=True \n"
     ]
    },
    {
     "name": "stderr",
     "output_type": "stream",
     "text": [
      "/home/amit/anaconda3/lib/python3.6/site-packages/sklearn/model_selection/_validation.py:458: DataConversionWarning: A column-vector y was passed when a 1d array was expected. Please change the shape of y to (n_samples,), for example using ravel().\n",
      "  estimator.fit(X_train, y_train, **fit_params)\n"
     ]
    },
    {
     "name": "stdout",
     "output_type": "stream",
     "text": [
      "[CV]  n_estimators=916, min_samples_split=2, min_samples_leaf=2, max_features=sqrt, max_depth=60, bootstrap=True, total=   3.0s\n",
      "[CV] n_estimators=700, min_samples_split=2, min_samples_leaf=4, max_features=sqrt, max_depth=90, bootstrap=True \n"
     ]
    },
    {
     "name": "stderr",
     "output_type": "stream",
     "text": [
      "/home/amit/anaconda3/lib/python3.6/site-packages/sklearn/model_selection/_validation.py:458: DataConversionWarning: A column-vector y was passed when a 1d array was expected. Please change the shape of y to (n_samples,), for example using ravel().\n",
      "  estimator.fit(X_train, y_train, **fit_params)\n"
     ]
    },
    {
     "name": "stdout",
     "output_type": "stream",
     "text": [
      "[CV]  n_estimators=483, min_samples_split=10, min_samples_leaf=2, max_features=sqrt, max_depth=60, bootstrap=True, total=   1.5s\n",
      "[CV] n_estimators=700, min_samples_split=2, min_samples_leaf=4, max_features=sqrt, max_depth=90, bootstrap=True \n"
     ]
    },
    {
     "name": "stderr",
     "output_type": "stream",
     "text": [
      "/home/amit/anaconda3/lib/python3.6/site-packages/sklearn/model_selection/_validation.py:458: DataConversionWarning: A column-vector y was passed when a 1d array was expected. Please change the shape of y to (n_samples,), for example using ravel().\n",
      "  estimator.fit(X_train, y_train, **fit_params)\n"
     ]
    },
    {
     "name": "stdout",
     "output_type": "stream",
     "text": [
      "[CV]  n_estimators=483, min_samples_split=10, min_samples_leaf=2, max_features=sqrt, max_depth=60, bootstrap=True, total=   1.4s\n",
      "[CV] n_estimators=266, min_samples_split=10, min_samples_leaf=4, max_features=sqrt, max_depth=90, bootstrap=True \n"
     ]
    },
    {
     "name": "stderr",
     "output_type": "stream",
     "text": [
      "/home/amit/anaconda3/lib/python3.6/site-packages/sklearn/model_selection/_validation.py:458: DataConversionWarning: A column-vector y was passed when a 1d array was expected. Please change the shape of y to (n_samples,), for example using ravel().\n",
      "  estimator.fit(X_train, y_train, **fit_params)\n"
     ]
    },
    {
     "name": "stdout",
     "output_type": "stream",
     "text": [
      "[CV]  n_estimators=266, min_samples_split=10, min_samples_leaf=4, max_features=sqrt, max_depth=90, bootstrap=True, total=   0.8s\n",
      "[CV] n_estimators=266, min_samples_split=10, min_samples_leaf=4, max_features=sqrt, max_depth=90, bootstrap=True \n"
     ]
    },
    {
     "name": "stderr",
     "output_type": "stream",
     "text": [
      "/home/amit/anaconda3/lib/python3.6/site-packages/sklearn/model_selection/_validation.py:458: DataConversionWarning: A column-vector y was passed when a 1d array was expected. Please change the shape of y to (n_samples,), for example using ravel().\n",
      "  estimator.fit(X_train, y_train, **fit_params)\n"
     ]
    },
    {
     "name": "stdout",
     "output_type": "stream",
     "text": [
      "[CV]  n_estimators=700, min_samples_split=2, min_samples_leaf=4, max_features=sqrt, max_depth=90, bootstrap=True, total=   1.8s\n",
      "[CV] n_estimators=266, min_samples_split=10, min_samples_leaf=4, max_features=sqrt, max_depth=90, bootstrap=True \n"
     ]
    },
    {
     "name": "stderr",
     "output_type": "stream",
     "text": [
      "/home/amit/anaconda3/lib/python3.6/site-packages/sklearn/model_selection/_validation.py:458: DataConversionWarning: A column-vector y was passed when a 1d array was expected. Please change the shape of y to (n_samples,), for example using ravel().\n",
      "  estimator.fit(X_train, y_train, **fit_params)\n"
     ]
    },
    {
     "name": "stdout",
     "output_type": "stream",
     "text": [
      "[CV]  n_estimators=266, min_samples_split=10, min_samples_leaf=4, max_features=sqrt, max_depth=90, bootstrap=True, total=   0.6s\n",
      "[CV] n_estimators=50, min_samples_split=5, min_samples_leaf=2, max_features=auto, max_depth=90, bootstrap=False \n"
     ]
    },
    {
     "name": "stderr",
     "output_type": "stream",
     "text": [
      "/home/amit/anaconda3/lib/python3.6/site-packages/sklearn/model_selection/_validation.py:458: DataConversionWarning: A column-vector y was passed when a 1d array was expected. Please change the shape of y to (n_samples,), for example using ravel().\n",
      "  estimator.fit(X_train, y_train, **fit_params)\n"
     ]
    },
    {
     "name": "stdout",
     "output_type": "stream",
     "text": [
      "[CV]  n_estimators=700, min_samples_split=2, min_samples_leaf=4, max_features=sqrt, max_depth=90, bootstrap=True, total=   1.7s\n",
      "[CV] n_estimators=50, min_samples_split=5, min_samples_leaf=2, max_features=auto, max_depth=90, bootstrap=False \n"
     ]
    },
    {
     "name": "stderr",
     "output_type": "stream",
     "text": [
      "/home/amit/anaconda3/lib/python3.6/site-packages/sklearn/model_selection/_validation.py:458: DataConversionWarning: A column-vector y was passed when a 1d array was expected. Please change the shape of y to (n_samples,), for example using ravel().\n",
      "  estimator.fit(X_train, y_train, **fit_params)\n"
     ]
    },
    {
     "name": "stdout",
     "output_type": "stream",
     "text": [
      "[CV]  n_estimators=700, min_samples_split=2, min_samples_leaf=4, max_features=sqrt, max_depth=90, bootstrap=True, total=   1.6s\n",
      "[CV] n_estimators=50, min_samples_split=5, min_samples_leaf=2, max_features=auto, max_depth=90, bootstrap=False \n",
      "[CV]  n_estimators=50, min_samples_split=5, min_samples_leaf=2, max_features=auto, max_depth=90, bootstrap=False, total=   0.2s\n",
      "[CV] n_estimators=916, min_samples_split=2, min_samples_leaf=1, max_features=sqrt, max_depth=110, bootstrap=True \n"
     ]
    },
    {
     "name": "stderr",
     "output_type": "stream",
     "text": [
      "/home/amit/anaconda3/lib/python3.6/site-packages/sklearn/model_selection/_validation.py:458: DataConversionWarning: A column-vector y was passed when a 1d array was expected. Please change the shape of y to (n_samples,), for example using ravel().\n",
      "  estimator.fit(X_train, y_train, **fit_params)\n",
      "/home/amit/anaconda3/lib/python3.6/site-packages/sklearn/model_selection/_validation.py:458: DataConversionWarning: A column-vector y was passed when a 1d array was expected. Please change the shape of y to (n_samples,), for example using ravel().\n",
      "  estimator.fit(X_train, y_train, **fit_params)\n"
     ]
    },
    {
     "name": "stdout",
     "output_type": "stream",
     "text": [
      "[CV]  n_estimators=50, min_samples_split=5, min_samples_leaf=2, max_features=auto, max_depth=90, bootstrap=False, total=   0.2s\n",
      "[CV] n_estimators=916, min_samples_split=2, min_samples_leaf=1, max_features=sqrt, max_depth=110, bootstrap=True \n"
     ]
    },
    {
     "name": "stderr",
     "output_type": "stream",
     "text": [
      "/home/amit/anaconda3/lib/python3.6/site-packages/sklearn/model_selection/_validation.py:458: DataConversionWarning: A column-vector y was passed when a 1d array was expected. Please change the shape of y to (n_samples,), for example using ravel().\n",
      "  estimator.fit(X_train, y_train, **fit_params)\n"
     ]
    },
    {
     "name": "stdout",
     "output_type": "stream",
     "text": [
      "[CV]  n_estimators=50, min_samples_split=5, min_samples_leaf=2, max_features=auto, max_depth=90, bootstrap=False, total=   0.2s\n",
      "[CV] n_estimators=916, min_samples_split=2, min_samples_leaf=1, max_features=sqrt, max_depth=110, bootstrap=True \n"
     ]
    },
    {
     "name": "stderr",
     "output_type": "stream",
     "text": [
      "/home/amit/anaconda3/lib/python3.6/site-packages/sklearn/model_selection/_validation.py:458: DataConversionWarning: A column-vector y was passed when a 1d array was expected. Please change the shape of y to (n_samples,), for example using ravel().\n",
      "  estimator.fit(X_train, y_train, **fit_params)\n"
     ]
    },
    {
     "name": "stdout",
     "output_type": "stream",
     "text": [
      "[CV]  n_estimators=266, min_samples_split=10, min_samples_leaf=4, max_features=sqrt, max_depth=90, bootstrap=True, total=   0.6s\n",
      "[CV] n_estimators=2000, min_samples_split=2, min_samples_leaf=2, max_features=auto, max_depth=90, bootstrap=True \n"
     ]
    },
    {
     "name": "stderr",
     "output_type": "stream",
     "text": [
      "/home/amit/anaconda3/lib/python3.6/site-packages/sklearn/model_selection/_validation.py:458: DataConversionWarning: A column-vector y was passed when a 1d array was expected. Please change the shape of y to (n_samples,), for example using ravel().\n",
      "  estimator.fit(X_train, y_train, **fit_params)\n"
     ]
    },
    {
     "name": "stdout",
     "output_type": "stream",
     "text": [
      "[CV]  n_estimators=916, min_samples_split=2, min_samples_leaf=1, max_features=sqrt, max_depth=110, bootstrap=True, total=   2.3s\n",
      "[CV] n_estimators=2000, min_samples_split=2, min_samples_leaf=2, max_features=auto, max_depth=90, bootstrap=True \n"
     ]
    },
    {
     "name": "stderr",
     "output_type": "stream",
     "text": [
      "/home/amit/anaconda3/lib/python3.6/site-packages/sklearn/model_selection/_validation.py:458: DataConversionWarning: A column-vector y was passed when a 1d array was expected. Please change the shape of y to (n_samples,), for example using ravel().\n",
      "  estimator.fit(X_train, y_train, **fit_params)\n"
     ]
    },
    {
     "name": "stdout",
     "output_type": "stream",
     "text": [
      "[CV]  n_estimators=916, min_samples_split=2, min_samples_leaf=1, max_features=sqrt, max_depth=110, bootstrap=True, total=   2.4s\n",
      "[CV] n_estimators=2000, min_samples_split=2, min_samples_leaf=2, max_features=auto, max_depth=90, bootstrap=True \n"
     ]
    },
    {
     "name": "stderr",
     "output_type": "stream",
     "text": [
      "/home/amit/anaconda3/lib/python3.6/site-packages/sklearn/model_selection/_validation.py:458: DataConversionWarning: A column-vector y was passed when a 1d array was expected. Please change the shape of y to (n_samples,), for example using ravel().\n",
      "  estimator.fit(X_train, y_train, **fit_params)\n"
     ]
    },
    {
     "name": "stdout",
     "output_type": "stream",
     "text": [
      "[CV]  n_estimators=916, min_samples_split=2, min_samples_leaf=1, max_features=sqrt, max_depth=110, bootstrap=True, total=   2.3s\n",
      "[CV] n_estimators=266, min_samples_split=10, min_samples_leaf=4, max_features=sqrt, max_depth=80, bootstrap=False \n"
     ]
    },
    {
     "name": "stderr",
     "output_type": "stream",
     "text": [
      "/home/amit/anaconda3/lib/python3.6/site-packages/sklearn/model_selection/_validation.py:458: DataConversionWarning: A column-vector y was passed when a 1d array was expected. Please change the shape of y to (n_samples,), for example using ravel().\n",
      "  estimator.fit(X_train, y_train, **fit_params)\n"
     ]
    },
    {
     "name": "stdout",
     "output_type": "stream",
     "text": [
      "[CV]  n_estimators=266, min_samples_split=10, min_samples_leaf=4, max_features=sqrt, max_depth=80, bootstrap=False, total=   0.6s\n",
      "[CV] n_estimators=266, min_samples_split=10, min_samples_leaf=4, max_features=sqrt, max_depth=80, bootstrap=False \n"
     ]
    },
    {
     "name": "stderr",
     "output_type": "stream",
     "text": [
      "/home/amit/anaconda3/lib/python3.6/site-packages/sklearn/model_selection/_validation.py:458: DataConversionWarning: A column-vector y was passed when a 1d array was expected. Please change the shape of y to (n_samples,), for example using ravel().\n",
      "  estimator.fit(X_train, y_train, **fit_params)\n"
     ]
    },
    {
     "name": "stdout",
     "output_type": "stream",
     "text": [
      "[CV]  n_estimators=266, min_samples_split=10, min_samples_leaf=4, max_features=sqrt, max_depth=80, bootstrap=False, total=   0.6s\n",
      "[CV] n_estimators=266, min_samples_split=10, min_samples_leaf=4, max_features=sqrt, max_depth=80, bootstrap=False \n"
     ]
    },
    {
     "name": "stderr",
     "output_type": "stream",
     "text": [
      "/home/amit/anaconda3/lib/python3.6/site-packages/sklearn/model_selection/_validation.py:458: DataConversionWarning: A column-vector y was passed when a 1d array was expected. Please change the shape of y to (n_samples,), for example using ravel().\n",
      "  estimator.fit(X_train, y_train, **fit_params)\n"
     ]
    },
    {
     "name": "stdout",
     "output_type": "stream",
     "text": [
      "[CV]  n_estimators=266, min_samples_split=10, min_samples_leaf=4, max_features=sqrt, max_depth=80, bootstrap=False, total=   0.6s\n",
      "[CV] n_estimators=1133, min_samples_split=2, min_samples_leaf=4, max_features=sqrt, max_depth=70, bootstrap=False \n"
     ]
    },
    {
     "name": "stderr",
     "output_type": "stream",
     "text": [
      "/home/amit/anaconda3/lib/python3.6/site-packages/sklearn/model_selection/_validation.py:458: DataConversionWarning: A column-vector y was passed when a 1d array was expected. Please change the shape of y to (n_samples,), for example using ravel().\n",
      "  estimator.fit(X_train, y_train, **fit_params)\n"
     ]
    },
    {
     "name": "stdout",
     "output_type": "stream",
     "text": [
      "[CV]  n_estimators=2000, min_samples_split=2, min_samples_leaf=2, max_features=auto, max_depth=90, bootstrap=True, total=   6.0s\n",
      "[CV] n_estimators=1133, min_samples_split=2, min_samples_leaf=4, max_features=sqrt, max_depth=70, bootstrap=False \n"
     ]
    },
    {
     "name": "stderr",
     "output_type": "stream",
     "text": [
      "/home/amit/anaconda3/lib/python3.6/site-packages/sklearn/model_selection/_validation.py:458: DataConversionWarning: A column-vector y was passed when a 1d array was expected. Please change the shape of y to (n_samples,), for example using ravel().\n",
      "  estimator.fit(X_train, y_train, **fit_params)\n"
     ]
    },
    {
     "name": "stdout",
     "output_type": "stream",
     "text": [
      "[CV]  n_estimators=1133, min_samples_split=2, min_samples_leaf=4, max_features=sqrt, max_depth=70, bootstrap=False, total=   2.7s\n",
      "[CV] n_estimators=1133, min_samples_split=2, min_samples_leaf=4, max_features=sqrt, max_depth=70, bootstrap=False \n"
     ]
    },
    {
     "name": "stderr",
     "output_type": "stream",
     "text": [
      "/home/amit/anaconda3/lib/python3.6/site-packages/sklearn/model_selection/_validation.py:458: DataConversionWarning: A column-vector y was passed when a 1d array was expected. Please change the shape of y to (n_samples,), for example using ravel().\n",
      "  estimator.fit(X_train, y_train, **fit_params)\n"
     ]
    },
    {
     "name": "stdout",
     "output_type": "stream",
     "text": [
      "[CV]  n_estimators=2000, min_samples_split=2, min_samples_leaf=2, max_features=auto, max_depth=90, bootstrap=True, total=   5.9s\n",
      "[CV] n_estimators=483, min_samples_split=2, min_samples_leaf=2, max_features=sqrt, max_depth=110, bootstrap=False \n"
     ]
    },
    {
     "name": "stderr",
     "output_type": "stream",
     "text": [
      "/home/amit/anaconda3/lib/python3.6/site-packages/sklearn/model_selection/_validation.py:458: DataConversionWarning: A column-vector y was passed when a 1d array was expected. Please change the shape of y to (n_samples,), for example using ravel().\n",
      "  estimator.fit(X_train, y_train, **fit_params)\n"
     ]
    },
    {
     "name": "stdout",
     "output_type": "stream",
     "text": [
      "[CV]  n_estimators=2000, min_samples_split=2, min_samples_leaf=2, max_features=auto, max_depth=90, bootstrap=True, total=   6.0s\n",
      "[CV] n_estimators=483, min_samples_split=2, min_samples_leaf=2, max_features=sqrt, max_depth=110, bootstrap=False \n"
     ]
    },
    {
     "name": "stderr",
     "output_type": "stream",
     "text": [
      "/home/amit/anaconda3/lib/python3.6/site-packages/sklearn/model_selection/_validation.py:458: DataConversionWarning: A column-vector y was passed when a 1d array was expected. Please change the shape of y to (n_samples,), for example using ravel().\n",
      "  estimator.fit(X_train, y_train, **fit_params)\n"
     ]
    },
    {
     "name": "stdout",
     "output_type": "stream",
     "text": [
      "[CV]  n_estimators=1133, min_samples_split=2, min_samples_leaf=4, max_features=sqrt, max_depth=70, bootstrap=False, total=   2.7s\n",
      "[CV] n_estimators=483, min_samples_split=2, min_samples_leaf=2, max_features=sqrt, max_depth=110, bootstrap=False \n"
     ]
    },
    {
     "name": "stderr",
     "output_type": "stream",
     "text": [
      "/home/amit/anaconda3/lib/python3.6/site-packages/sklearn/model_selection/_validation.py:458: DataConversionWarning: A column-vector y was passed when a 1d array was expected. Please change the shape of y to (n_samples,), for example using ravel().\n",
      "  estimator.fit(X_train, y_train, **fit_params)\n"
     ]
    },
    {
     "name": "stdout",
     "output_type": "stream",
     "text": [
      "[CV]  n_estimators=483, min_samples_split=2, min_samples_leaf=2, max_features=sqrt, max_depth=110, bootstrap=False, total=   1.2s\n",
      "[CV] n_estimators=1783, min_samples_split=2, min_samples_leaf=1, max_features=auto, max_depth=20, bootstrap=False \n"
     ]
    },
    {
     "name": "stderr",
     "output_type": "stream",
     "text": [
      "/home/amit/anaconda3/lib/python3.6/site-packages/sklearn/model_selection/_validation.py:458: DataConversionWarning: A column-vector y was passed when a 1d array was expected. Please change the shape of y to (n_samples,), for example using ravel().\n",
      "  estimator.fit(X_train, y_train, **fit_params)\n"
     ]
    },
    {
     "name": "stdout",
     "output_type": "stream",
     "text": [
      "[CV]  n_estimators=483, min_samples_split=2, min_samples_leaf=2, max_features=sqrt, max_depth=110, bootstrap=False, total=   1.3s\n",
      "[CV] n_estimators=1783, min_samples_split=2, min_samples_leaf=1, max_features=auto, max_depth=20, bootstrap=False \n"
     ]
    },
    {
     "name": "stderr",
     "output_type": "stream",
     "text": [
      "/home/amit/anaconda3/lib/python3.6/site-packages/sklearn/model_selection/_validation.py:458: DataConversionWarning: A column-vector y was passed when a 1d array was expected. Please change the shape of y to (n_samples,), for example using ravel().\n",
      "  estimator.fit(X_train, y_train, **fit_params)\n"
     ]
    },
    {
     "name": "stdout",
     "output_type": "stream",
     "text": [
      "[CV]  n_estimators=1133, min_samples_split=2, min_samples_leaf=4, max_features=sqrt, max_depth=70, bootstrap=False, total=   2.7s\n",
      "[CV] n_estimators=1783, min_samples_split=2, min_samples_leaf=1, max_features=auto, max_depth=20, bootstrap=False \n"
     ]
    },
    {
     "name": "stderr",
     "output_type": "stream",
     "text": [
      "/home/amit/anaconda3/lib/python3.6/site-packages/sklearn/model_selection/_validation.py:458: DataConversionWarning: A column-vector y was passed when a 1d array was expected. Please change the shape of y to (n_samples,), for example using ravel().\n",
      "  estimator.fit(X_train, y_train, **fit_params)\n"
     ]
    },
    {
     "name": "stdout",
     "output_type": "stream",
     "text": [
      "[CV]  n_estimators=483, min_samples_split=2, min_samples_leaf=2, max_features=sqrt, max_depth=110, bootstrap=False, total=   1.3s\n",
      "[CV] n_estimators=2000, min_samples_split=10, min_samples_leaf=2, max_features=auto, max_depth=50, bootstrap=False \n"
     ]
    },
    {
     "name": "stderr",
     "output_type": "stream",
     "text": [
      "/home/amit/anaconda3/lib/python3.6/site-packages/sklearn/model_selection/_validation.py:458: DataConversionWarning: A column-vector y was passed when a 1d array was expected. Please change the shape of y to (n_samples,), for example using ravel().\n",
      "  estimator.fit(X_train, y_train, **fit_params)\n"
     ]
    },
    {
     "name": "stdout",
     "output_type": "stream",
     "text": [
      "[CV]  n_estimators=2000, min_samples_split=10, min_samples_leaf=2, max_features=auto, max_depth=50, bootstrap=False, total=   7.3s\n",
      "[CV] n_estimators=2000, min_samples_split=10, min_samples_leaf=2, max_features=auto, max_depth=50, bootstrap=False \n"
     ]
    },
    {
     "name": "stderr",
     "output_type": "stream",
     "text": [
      "/home/amit/anaconda3/lib/python3.6/site-packages/sklearn/model_selection/_validation.py:458: DataConversionWarning: A column-vector y was passed when a 1d array was expected. Please change the shape of y to (n_samples,), for example using ravel().\n",
      "  estimator.fit(X_train, y_train, **fit_params)\n"
     ]
    },
    {
     "name": "stdout",
     "output_type": "stream",
     "text": [
      "[CV]  n_estimators=1783, min_samples_split=2, min_samples_leaf=1, max_features=auto, max_depth=20, bootstrap=False, total=   8.2s\n",
      "[CV] n_estimators=2000, min_samples_split=10, min_samples_leaf=2, max_features=auto, max_depth=50, bootstrap=False \n"
     ]
    },
    {
     "name": "stderr",
     "output_type": "stream",
     "text": [
      "/home/amit/anaconda3/lib/python3.6/site-packages/sklearn/model_selection/_validation.py:458: DataConversionWarning: A column-vector y was passed when a 1d array was expected. Please change the shape of y to (n_samples,), for example using ravel().\n",
      "  estimator.fit(X_train, y_train, **fit_params)\n"
     ]
    },
    {
     "name": "stdout",
     "output_type": "stream",
     "text": [
      "[CV]  n_estimators=1783, min_samples_split=2, min_samples_leaf=1, max_features=auto, max_depth=20, bootstrap=False, total=   8.7s\n",
      "[CV] n_estimators=916, min_samples_split=10, min_samples_leaf=4, max_features=auto, max_depth=50, bootstrap=False \n"
     ]
    },
    {
     "name": "stderr",
     "output_type": "stream",
     "text": [
      "/home/amit/anaconda3/lib/python3.6/site-packages/sklearn/model_selection/_validation.py:458: DataConversionWarning: A column-vector y was passed when a 1d array was expected. Please change the shape of y to (n_samples,), for example using ravel().\n",
      "  estimator.fit(X_train, y_train, **fit_params)\n"
     ]
    },
    {
     "name": "stdout",
     "output_type": "stream",
     "text": [
      "[CV]  n_estimators=1783, min_samples_split=2, min_samples_leaf=1, max_features=auto, max_depth=20, bootstrap=False, total=   8.8s\n",
      "[CV] n_estimators=916, min_samples_split=10, min_samples_leaf=4, max_features=auto, max_depth=50, bootstrap=False \n"
     ]
    },
    {
     "name": "stderr",
     "output_type": "stream",
     "text": [
      "/home/amit/anaconda3/lib/python3.6/site-packages/sklearn/model_selection/_validation.py:458: DataConversionWarning: A column-vector y was passed when a 1d array was expected. Please change the shape of y to (n_samples,), for example using ravel().\n",
      "  estimator.fit(X_train, y_train, **fit_params)\n",
      "[Parallel(n_jobs=-1)]: Done 154 tasks      | elapsed:  2.6min\n"
     ]
    },
    {
     "name": "stdout",
     "output_type": "stream",
     "text": [
      "[CV]  n_estimators=916, min_samples_split=10, min_samples_leaf=4, max_features=auto, max_depth=50, bootstrap=False, total=   3.5s\n",
      "[CV] n_estimators=916, min_samples_split=10, min_samples_leaf=4, max_features=auto, max_depth=50, bootstrap=False \n"
     ]
    },
    {
     "name": "stderr",
     "output_type": "stream",
     "text": [
      "/home/amit/anaconda3/lib/python3.6/site-packages/sklearn/model_selection/_validation.py:458: DataConversionWarning: A column-vector y was passed when a 1d array was expected. Please change the shape of y to (n_samples,), for example using ravel().\n",
      "  estimator.fit(X_train, y_train, **fit_params)\n"
     ]
    },
    {
     "name": "stdout",
     "output_type": "stream",
     "text": [
      "[CV]  n_estimators=916, min_samples_split=10, min_samples_leaf=4, max_features=auto, max_depth=50, bootstrap=False, total=   3.9s\n",
      "[CV] n_estimators=916, min_samples_split=5, min_samples_leaf=4, max_features=auto, max_depth=30, bootstrap=False \n"
     ]
    },
    {
     "name": "stderr",
     "output_type": "stream",
     "text": [
      "/home/amit/anaconda3/lib/python3.6/site-packages/sklearn/model_selection/_validation.py:458: DataConversionWarning: A column-vector y was passed when a 1d array was expected. Please change the shape of y to (n_samples,), for example using ravel().\n",
      "  estimator.fit(X_train, y_train, **fit_params)\n"
     ]
    },
    {
     "name": "stdout",
     "output_type": "stream",
     "text": [
      "[CV]  n_estimators=916, min_samples_split=10, min_samples_leaf=4, max_features=auto, max_depth=50, bootstrap=False, total=   4.1s\n",
      "[CV] n_estimators=916, min_samples_split=5, min_samples_leaf=4, max_features=auto, max_depth=30, bootstrap=False \n"
     ]
    },
    {
     "name": "stderr",
     "output_type": "stream",
     "text": [
      "/home/amit/anaconda3/lib/python3.6/site-packages/sklearn/model_selection/_validation.py:458: DataConversionWarning: A column-vector y was passed when a 1d array was expected. Please change the shape of y to (n_samples,), for example using ravel().\n",
      "  estimator.fit(X_train, y_train, **fit_params)\n"
     ]
    },
    {
     "name": "stdout",
     "output_type": "stream",
     "text": [
      "[CV]  n_estimators=2000, min_samples_split=10, min_samples_leaf=2, max_features=auto, max_depth=50, bootstrap=False, total=   8.5s\n",
      "[CV] n_estimators=916, min_samples_split=5, min_samples_leaf=4, max_features=auto, max_depth=30, bootstrap=False \n"
     ]
    },
    {
     "name": "stderr",
     "output_type": "stream",
     "text": [
      "/home/amit/anaconda3/lib/python3.6/site-packages/sklearn/model_selection/_validation.py:458: DataConversionWarning: A column-vector y was passed when a 1d array was expected. Please change the shape of y to (n_samples,), for example using ravel().\n",
      "  estimator.fit(X_train, y_train, **fit_params)\n"
     ]
    },
    {
     "name": "stdout",
     "output_type": "stream",
     "text": [
      "[CV]  n_estimators=916, min_samples_split=5, min_samples_leaf=4, max_features=auto, max_depth=30, bootstrap=False, total=   4.1s\n",
      "[CV] n_estimators=1350, min_samples_split=5, min_samples_leaf=2, max_features=sqrt, max_depth=None, bootstrap=False \n"
     ]
    },
    {
     "name": "stderr",
     "output_type": "stream",
     "text": [
      "/home/amit/anaconda3/lib/python3.6/site-packages/sklearn/model_selection/_validation.py:458: DataConversionWarning: A column-vector y was passed when a 1d array was expected. Please change the shape of y to (n_samples,), for example using ravel().\n",
      "  estimator.fit(X_train, y_train, **fit_params)\n"
     ]
    },
    {
     "name": "stdout",
     "output_type": "stream",
     "text": [
      "[CV]  n_estimators=2000, min_samples_split=10, min_samples_leaf=2, max_features=auto, max_depth=50, bootstrap=False, total=   9.4s\n",
      "[CV] n_estimators=1350, min_samples_split=5, min_samples_leaf=2, max_features=sqrt, max_depth=None, bootstrap=False \n"
     ]
    },
    {
     "name": "stderr",
     "output_type": "stream",
     "text": [
      "/home/amit/anaconda3/lib/python3.6/site-packages/sklearn/model_selection/_validation.py:458: DataConversionWarning: A column-vector y was passed when a 1d array was expected. Please change the shape of y to (n_samples,), for example using ravel().\n",
      "  estimator.fit(X_train, y_train, **fit_params)\n"
     ]
    },
    {
     "name": "stdout",
     "output_type": "stream",
     "text": [
      "[CV]  n_estimators=916, min_samples_split=5, min_samples_leaf=4, max_features=auto, max_depth=30, bootstrap=False, total=   3.6s\n",
      "[CV]  n_estimators=916, min_samples_split=5, min_samples_leaf=4, max_features=auto, max_depth=30, bootstrap=False, total=   3.3s\n",
      "[CV] n_estimators=1350, min_samples_split=5, min_samples_leaf=2, max_features=sqrt, max_depth=None, bootstrap=False \n"
     ]
    },
    {
     "name": "stderr",
     "output_type": "stream",
     "text": [
      "/home/amit/anaconda3/lib/python3.6/site-packages/sklearn/model_selection/_validation.py:458: DataConversionWarning: A column-vector y was passed when a 1d array was expected. Please change the shape of y to (n_samples,), for example using ravel().\n",
      "  estimator.fit(X_train, y_train, **fit_params)\n"
     ]
    },
    {
     "name": "stdout",
     "output_type": "stream",
     "text": [
      "[CV] n_estimators=483, min_samples_split=2, min_samples_leaf=4, max_features=sqrt, max_depth=60, bootstrap=False \n"
     ]
    },
    {
     "name": "stderr",
     "output_type": "stream",
     "text": [
      "/home/amit/anaconda3/lib/python3.6/site-packages/sklearn/model_selection/_validation.py:458: DataConversionWarning: A column-vector y was passed when a 1d array was expected. Please change the shape of y to (n_samples,), for example using ravel().\n",
      "  estimator.fit(X_train, y_train, **fit_params)\n"
     ]
    },
    {
     "name": "stdout",
     "output_type": "stream",
     "text": [
      "[CV]  n_estimators=1350, min_samples_split=5, min_samples_leaf=2, max_features=sqrt, max_depth=None, bootstrap=False, total=   4.0s\n",
      "[CV] n_estimators=483, min_samples_split=2, min_samples_leaf=4, max_features=sqrt, max_depth=60, bootstrap=False \n"
     ]
    },
    {
     "name": "stderr",
     "output_type": "stream",
     "text": [
      "/home/amit/anaconda3/lib/python3.6/site-packages/sklearn/model_selection/_validation.py:458: DataConversionWarning: A column-vector y was passed when a 1d array was expected. Please change the shape of y to (n_samples,), for example using ravel().\n",
      "  estimator.fit(X_train, y_train, **fit_params)\n"
     ]
    },
    {
     "name": "stdout",
     "output_type": "stream",
     "text": [
      "[CV]  n_estimators=1350, min_samples_split=5, min_samples_leaf=2, max_features=sqrt, max_depth=None, bootstrap=False, total=   4.1s\n",
      "[CV] n_estimators=483, min_samples_split=2, min_samples_leaf=4, max_features=sqrt, max_depth=60, bootstrap=False \n"
     ]
    },
    {
     "name": "stderr",
     "output_type": "stream",
     "text": [
      "/home/amit/anaconda3/lib/python3.6/site-packages/sklearn/model_selection/_validation.py:458: DataConversionWarning: A column-vector y was passed when a 1d array was expected. Please change the shape of y to (n_samples,), for example using ravel().\n",
      "  estimator.fit(X_train, y_train, **fit_params)\n"
     ]
    },
    {
     "name": "stdout",
     "output_type": "stream",
     "text": [
      "[CV]  n_estimators=483, min_samples_split=2, min_samples_leaf=4, max_features=sqrt, max_depth=60, bootstrap=False, total=   1.8s\n",
      "[CV] n_estimators=1566, min_samples_split=5, min_samples_leaf=1, max_features=auto, max_depth=10, bootstrap=True \n"
     ]
    },
    {
     "name": "stderr",
     "output_type": "stream",
     "text": [
      "/home/amit/anaconda3/lib/python3.6/site-packages/sklearn/model_selection/_validation.py:458: DataConversionWarning: A column-vector y was passed when a 1d array was expected. Please change the shape of y to (n_samples,), for example using ravel().\n",
      "  estimator.fit(X_train, y_train, **fit_params)\n"
     ]
    },
    {
     "name": "stdout",
     "output_type": "stream",
     "text": [
      "[CV]  n_estimators=483, min_samples_split=2, min_samples_leaf=4, max_features=sqrt, max_depth=60, bootstrap=False, total=   1.5s\n",
      "[CV] n_estimators=1566, min_samples_split=5, min_samples_leaf=1, max_features=auto, max_depth=10, bootstrap=True \n"
     ]
    },
    {
     "name": "stderr",
     "output_type": "stream",
     "text": [
      "/home/amit/anaconda3/lib/python3.6/site-packages/sklearn/model_selection/_validation.py:458: DataConversionWarning: A column-vector y was passed when a 1d array was expected. Please change the shape of y to (n_samples,), for example using ravel().\n",
      "  estimator.fit(X_train, y_train, **fit_params)\n"
     ]
    },
    {
     "name": "stdout",
     "output_type": "stream",
     "text": [
      "[CV]  n_estimators=483, min_samples_split=2, min_samples_leaf=4, max_features=sqrt, max_depth=60, bootstrap=False, total=   1.3s\n",
      "[CV] n_estimators=1566, min_samples_split=5, min_samples_leaf=1, max_features=auto, max_depth=10, bootstrap=True \n"
     ]
    },
    {
     "name": "stderr",
     "output_type": "stream",
     "text": [
      "/home/amit/anaconda3/lib/python3.6/site-packages/sklearn/model_selection/_validation.py:458: DataConversionWarning: A column-vector y was passed when a 1d array was expected. Please change the shape of y to (n_samples,), for example using ravel().\n",
      "  estimator.fit(X_train, y_train, **fit_params)\n"
     ]
    },
    {
     "name": "stdout",
     "output_type": "stream",
     "text": [
      "[CV]  n_estimators=1350, min_samples_split=5, min_samples_leaf=2, max_features=sqrt, max_depth=None, bootstrap=False, total=   3.8s\n",
      "[CV] n_estimators=1783, min_samples_split=2, min_samples_leaf=2, max_features=auto, max_depth=80, bootstrap=True \n"
     ]
    },
    {
     "name": "stderr",
     "output_type": "stream",
     "text": [
      "/home/amit/anaconda3/lib/python3.6/site-packages/sklearn/model_selection/_validation.py:458: DataConversionWarning: A column-vector y was passed when a 1d array was expected. Please change the shape of y to (n_samples,), for example using ravel().\n",
      "  estimator.fit(X_train, y_train, **fit_params)\n"
     ]
    },
    {
     "name": "stdout",
     "output_type": "stream",
     "text": [
      "[CV]  n_estimators=1566, min_samples_split=5, min_samples_leaf=1, max_features=auto, max_depth=10, bootstrap=True, total=   5.6s\n",
      "[CV] n_estimators=1783, min_samples_split=2, min_samples_leaf=2, max_features=auto, max_depth=80, bootstrap=True \n"
     ]
    },
    {
     "name": "stderr",
     "output_type": "stream",
     "text": [
      "/home/amit/anaconda3/lib/python3.6/site-packages/sklearn/model_selection/_validation.py:458: DataConversionWarning: A column-vector y was passed when a 1d array was expected. Please change the shape of y to (n_samples,), for example using ravel().\n",
      "  estimator.fit(X_train, y_train, **fit_params)\n"
     ]
    },
    {
     "name": "stdout",
     "output_type": "stream",
     "text": [
      "[CV]  n_estimators=1566, min_samples_split=5, min_samples_leaf=1, max_features=auto, max_depth=10, bootstrap=True, total=   5.4s\n",
      "[CV] n_estimators=1783, min_samples_split=2, min_samples_leaf=2, max_features=auto, max_depth=80, bootstrap=True \n"
     ]
    },
    {
     "name": "stderr",
     "output_type": "stream",
     "text": [
      "/home/amit/anaconda3/lib/python3.6/site-packages/sklearn/model_selection/_validation.py:458: DataConversionWarning: A column-vector y was passed when a 1d array was expected. Please change the shape of y to (n_samples,), for example using ravel().\n",
      "  estimator.fit(X_train, y_train, **fit_params)\n"
     ]
    },
    {
     "name": "stdout",
     "output_type": "stream",
     "text": [
      "[CV]  n_estimators=1566, min_samples_split=5, min_samples_leaf=1, max_features=auto, max_depth=10, bootstrap=True, total=   6.4s\n",
      "[CV] n_estimators=1350, min_samples_split=2, min_samples_leaf=1, max_features=auto, max_depth=100, bootstrap=True \n"
     ]
    },
    {
     "name": "stderr",
     "output_type": "stream",
     "text": [
      "/home/amit/anaconda3/lib/python3.6/site-packages/sklearn/model_selection/_validation.py:458: DataConversionWarning: A column-vector y was passed when a 1d array was expected. Please change the shape of y to (n_samples,), for example using ravel().\n",
      "  estimator.fit(X_train, y_train, **fit_params)\n"
     ]
    },
    {
     "name": "stdout",
     "output_type": "stream",
     "text": [
      "[CV]  n_estimators=1783, min_samples_split=2, min_samples_leaf=2, max_features=auto, max_depth=80, bootstrap=True, total=   5.8s\n",
      "[CV] n_estimators=1350, min_samples_split=2, min_samples_leaf=1, max_features=auto, max_depth=100, bootstrap=True \n"
     ]
    },
    {
     "name": "stderr",
     "output_type": "stream",
     "text": [
      "/home/amit/anaconda3/lib/python3.6/site-packages/sklearn/model_selection/_validation.py:458: DataConversionWarning: A column-vector y was passed when a 1d array was expected. Please change the shape of y to (n_samples,), for example using ravel().\n",
      "  estimator.fit(X_train, y_train, **fit_params)\n"
     ]
    },
    {
     "name": "stdout",
     "output_type": "stream",
     "text": [
      "[CV]  n_estimators=1783, min_samples_split=2, min_samples_leaf=2, max_features=auto, max_depth=80, bootstrap=True, total=   5.6s\n",
      "[CV] n_estimators=1350, min_samples_split=2, min_samples_leaf=1, max_features=auto, max_depth=100, bootstrap=True \n"
     ]
    },
    {
     "name": "stderr",
     "output_type": "stream",
     "text": [
      "/home/amit/anaconda3/lib/python3.6/site-packages/sklearn/model_selection/_validation.py:458: DataConversionWarning: A column-vector y was passed when a 1d array was expected. Please change the shape of y to (n_samples,), for example using ravel().\n",
      "  estimator.fit(X_train, y_train, **fit_params)\n"
     ]
    },
    {
     "name": "stdout",
     "output_type": "stream",
     "text": [
      "[CV]  n_estimators=1783, min_samples_split=2, min_samples_leaf=2, max_features=auto, max_depth=80, bootstrap=True, total=   5.5s\n",
      "[CV] n_estimators=1350, min_samples_split=10, min_samples_leaf=2, max_features=sqrt, max_depth=80, bootstrap=True \n"
     ]
    },
    {
     "name": "stderr",
     "output_type": "stream",
     "text": [
      "/home/amit/anaconda3/lib/python3.6/site-packages/sklearn/model_selection/_validation.py:458: DataConversionWarning: A column-vector y was passed when a 1d array was expected. Please change the shape of y to (n_samples,), for example using ravel().\n",
      "  estimator.fit(X_train, y_train, **fit_params)\n"
     ]
    },
    {
     "name": "stdout",
     "output_type": "stream",
     "text": [
      "[CV]  n_estimators=1350, min_samples_split=2, min_samples_leaf=1, max_features=auto, max_depth=100, bootstrap=True, total=   4.4s\n",
      "[CV] n_estimators=1350, min_samples_split=10, min_samples_leaf=2, max_features=sqrt, max_depth=80, bootstrap=True \n"
     ]
    },
    {
     "name": "stderr",
     "output_type": "stream",
     "text": [
      "/home/amit/anaconda3/lib/python3.6/site-packages/sklearn/model_selection/_validation.py:458: DataConversionWarning: A column-vector y was passed when a 1d array was expected. Please change the shape of y to (n_samples,), for example using ravel().\n",
      "  estimator.fit(X_train, y_train, **fit_params)\n"
     ]
    },
    {
     "name": "stdout",
     "output_type": "stream",
     "text": [
      "[CV]  n_estimators=1350, min_samples_split=2, min_samples_leaf=1, max_features=auto, max_depth=100, bootstrap=True, total=   4.6s\n",
      "[CV] n_estimators=1350, min_samples_split=10, min_samples_leaf=2, max_features=sqrt, max_depth=80, bootstrap=True \n"
     ]
    },
    {
     "name": "stderr",
     "output_type": "stream",
     "text": [
      "/home/amit/anaconda3/lib/python3.6/site-packages/sklearn/model_selection/_validation.py:458: DataConversionWarning: A column-vector y was passed when a 1d array was expected. Please change the shape of y to (n_samples,), for example using ravel().\n",
      "  estimator.fit(X_train, y_train, **fit_params)\n"
     ]
    },
    {
     "name": "stdout",
     "output_type": "stream",
     "text": [
      "[CV]  n_estimators=1350, min_samples_split=10, min_samples_leaf=2, max_features=sqrt, max_depth=80, bootstrap=True, total=   2.9s\n",
      "[CV] n_estimators=50, min_samples_split=2, min_samples_leaf=1, max_features=sqrt, max_depth=50, bootstrap=True \n"
     ]
    },
    {
     "name": "stderr",
     "output_type": "stream",
     "text": [
      "/home/amit/anaconda3/lib/python3.6/site-packages/sklearn/model_selection/_validation.py:458: DataConversionWarning: A column-vector y was passed when a 1d array was expected. Please change the shape of y to (n_samples,), for example using ravel().\n",
      "  estimator.fit(X_train, y_train, **fit_params)\n"
     ]
    },
    {
     "name": "stdout",
     "output_type": "stream",
     "text": [
      "[CV]  n_estimators=1350, min_samples_split=10, min_samples_leaf=2, max_features=sqrt, max_depth=80, bootstrap=True, total=   3.0s\n",
      "[CV] n_estimators=50, min_samples_split=2, min_samples_leaf=1, max_features=sqrt, max_depth=50, bootstrap=True \n"
     ]
    },
    {
     "name": "stderr",
     "output_type": "stream",
     "text": [
      "/home/amit/anaconda3/lib/python3.6/site-packages/sklearn/model_selection/_validation.py:458: DataConversionWarning: A column-vector y was passed when a 1d array was expected. Please change the shape of y to (n_samples,), for example using ravel().\n",
      "  estimator.fit(X_train, y_train, **fit_params)\n"
     ]
    },
    {
     "name": "stdout",
     "output_type": "stream",
     "text": [
      "[CV]  n_estimators=50, min_samples_split=2, min_samples_leaf=1, max_features=sqrt, max_depth=50, bootstrap=True, total=   0.1s\n",
      "[CV] n_estimators=50, min_samples_split=2, min_samples_leaf=1, max_features=sqrt, max_depth=50, bootstrap=True \n"
     ]
    },
    {
     "name": "stderr",
     "output_type": "stream",
     "text": [
      "/home/amit/anaconda3/lib/python3.6/site-packages/sklearn/model_selection/_validation.py:458: DataConversionWarning: A column-vector y was passed when a 1d array was expected. Please change the shape of y to (n_samples,), for example using ravel().\n",
      "  estimator.fit(X_train, y_train, **fit_params)\n"
     ]
    },
    {
     "name": "stdout",
     "output_type": "stream",
     "text": [
      "[CV]  n_estimators=50, min_samples_split=2, min_samples_leaf=1, max_features=sqrt, max_depth=50, bootstrap=True, total=   0.1s\n",
      "[CV] n_estimators=266, min_samples_split=2, min_samples_leaf=4, max_features=sqrt, max_depth=10, bootstrap=True \n"
     ]
    },
    {
     "name": "stderr",
     "output_type": "stream",
     "text": [
      "/home/amit/anaconda3/lib/python3.6/site-packages/sklearn/model_selection/_validation.py:458: DataConversionWarning: A column-vector y was passed when a 1d array was expected. Please change the shape of y to (n_samples,), for example using ravel().\n",
      "  estimator.fit(X_train, y_train, **fit_params)\n"
     ]
    },
    {
     "name": "stdout",
     "output_type": "stream",
     "text": [
      "[CV]  n_estimators=50, min_samples_split=2, min_samples_leaf=1, max_features=sqrt, max_depth=50, bootstrap=True, total=   0.1s\n",
      "[CV] n_estimators=266, min_samples_split=2, min_samples_leaf=4, max_features=sqrt, max_depth=10, bootstrap=True \n"
     ]
    },
    {
     "name": "stderr",
     "output_type": "stream",
     "text": [
      "/home/amit/anaconda3/lib/python3.6/site-packages/sklearn/model_selection/_validation.py:458: DataConversionWarning: A column-vector y was passed when a 1d array was expected. Please change the shape of y to (n_samples,), for example using ravel().\n",
      "  estimator.fit(X_train, y_train, **fit_params)\n"
     ]
    },
    {
     "name": "stdout",
     "output_type": "stream",
     "text": [
      "[CV]  n_estimators=266, min_samples_split=2, min_samples_leaf=4, max_features=sqrt, max_depth=10, bootstrap=True, total=   0.6s\n",
      "[CV] n_estimators=266, min_samples_split=2, min_samples_leaf=4, max_features=sqrt, max_depth=10, bootstrap=True \n"
     ]
    },
    {
     "name": "stderr",
     "output_type": "stream",
     "text": [
      "/home/amit/anaconda3/lib/python3.6/site-packages/sklearn/model_selection/_validation.py:458: DataConversionWarning: A column-vector y was passed when a 1d array was expected. Please change the shape of y to (n_samples,), for example using ravel().\n",
      "  estimator.fit(X_train, y_train, **fit_params)\n"
     ]
    },
    {
     "name": "stdout",
     "output_type": "stream",
     "text": [
      "[CV]  n_estimators=1350, min_samples_split=10, min_samples_leaf=2, max_features=sqrt, max_depth=80, bootstrap=True, total=   3.1s\n",
      "[CV] n_estimators=916, min_samples_split=10, min_samples_leaf=4, max_features=auto, max_depth=80, bootstrap=False \n"
     ]
    },
    {
     "name": "stderr",
     "output_type": "stream",
     "text": [
      "/home/amit/anaconda3/lib/python3.6/site-packages/sklearn/model_selection/_validation.py:458: DataConversionWarning: A column-vector y was passed when a 1d array was expected. Please change the shape of y to (n_samples,), for example using ravel().\n",
      "  estimator.fit(X_train, y_train, **fit_params)\n"
     ]
    },
    {
     "name": "stdout",
     "output_type": "stream",
     "text": [
      "[CV]  n_estimators=266, min_samples_split=2, min_samples_leaf=4, max_features=sqrt, max_depth=10, bootstrap=True, total=   0.6s\n",
      "[CV] n_estimators=916, min_samples_split=10, min_samples_leaf=4, max_features=auto, max_depth=80, bootstrap=False \n",
      "[CV]  n_estimators=1350, min_samples_split=2, min_samples_leaf=1, max_features=auto, max_depth=100, bootstrap=True, total=   4.5s\n",
      "[CV] n_estimators=916, min_samples_split=10, min_samples_leaf=4, max_features=auto, max_depth=80, bootstrap=False \n"
     ]
    },
    {
     "name": "stderr",
     "output_type": "stream",
     "text": [
      "/home/amit/anaconda3/lib/python3.6/site-packages/sklearn/model_selection/_validation.py:458: DataConversionWarning: A column-vector y was passed when a 1d array was expected. Please change the shape of y to (n_samples,), for example using ravel().\n",
      "  estimator.fit(X_train, y_train, **fit_params)\n",
      "/home/amit/anaconda3/lib/python3.6/site-packages/sklearn/model_selection/_validation.py:458: DataConversionWarning: A column-vector y was passed when a 1d array was expected. Please change the shape of y to (n_samples,), for example using ravel().\n",
      "  estimator.fit(X_train, y_train, **fit_params)\n"
     ]
    },
    {
     "name": "stdout",
     "output_type": "stream",
     "text": [
      "[CV]  n_estimators=266, min_samples_split=2, min_samples_leaf=4, max_features=sqrt, max_depth=10, bootstrap=True, total=   0.6s\n",
      "[CV] n_estimators=1133, min_samples_split=10, min_samples_leaf=2, max_features=auto, max_depth=None, bootstrap=False \n"
     ]
    },
    {
     "name": "stderr",
     "output_type": "stream",
     "text": [
      "/home/amit/anaconda3/lib/python3.6/site-packages/sklearn/model_selection/_validation.py:458: DataConversionWarning: A column-vector y was passed when a 1d array was expected. Please change the shape of y to (n_samples,), for example using ravel().\n",
      "  estimator.fit(X_train, y_train, **fit_params)\n"
     ]
    },
    {
     "name": "stdout",
     "output_type": "stream",
     "text": [
      "[CV]  n_estimators=916, min_samples_split=10, min_samples_leaf=4, max_features=auto, max_depth=80, bootstrap=False, total=   3.0s\n",
      "[CV] n_estimators=1133, min_samples_split=10, min_samples_leaf=2, max_features=auto, max_depth=None, bootstrap=False \n"
     ]
    },
    {
     "name": "stderr",
     "output_type": "stream",
     "text": [
      "/home/amit/anaconda3/lib/python3.6/site-packages/sklearn/model_selection/_validation.py:458: DataConversionWarning: A column-vector y was passed when a 1d array was expected. Please change the shape of y to (n_samples,), for example using ravel().\n",
      "  estimator.fit(X_train, y_train, **fit_params)\n"
     ]
    },
    {
     "name": "stdout",
     "output_type": "stream",
     "text": [
      "[CV]  n_estimators=916, min_samples_split=10, min_samples_leaf=4, max_features=auto, max_depth=80, bootstrap=False, total=   3.0s\n",
      "[CV] n_estimators=1133, min_samples_split=10, min_samples_leaf=2, max_features=auto, max_depth=None, bootstrap=False \n",
      "[CV]  n_estimators=916, min_samples_split=10, min_samples_leaf=4, max_features=auto, max_depth=80, bootstrap=False, total=   3.0s\n"
     ]
    },
    {
     "name": "stderr",
     "output_type": "stream",
     "text": [
      "/home/amit/anaconda3/lib/python3.6/site-packages/sklearn/model_selection/_validation.py:458: DataConversionWarning: A column-vector y was passed when a 1d array was expected. Please change the shape of y to (n_samples,), for example using ravel().\n",
      "  estimator.fit(X_train, y_train, **fit_params)\n"
     ]
    },
    {
     "name": "stdout",
     "output_type": "stream",
     "text": [
      "[CV] n_estimators=1566, min_samples_split=10, min_samples_leaf=1, max_features=sqrt, max_depth=20, bootstrap=True \n"
     ]
    },
    {
     "name": "stderr",
     "output_type": "stream",
     "text": [
      "/home/amit/anaconda3/lib/python3.6/site-packages/sklearn/model_selection/_validation.py:458: DataConversionWarning: A column-vector y was passed when a 1d array was expected. Please change the shape of y to (n_samples,), for example using ravel().\n",
      "  estimator.fit(X_train, y_train, **fit_params)\n"
     ]
    },
    {
     "name": "stdout",
     "output_type": "stream",
     "text": [
      "[CV]  n_estimators=1133, min_samples_split=10, min_samples_leaf=2, max_features=auto, max_depth=None, bootstrap=False, total=   3.9s\n",
      "[CV] n_estimators=1566, min_samples_split=10, min_samples_leaf=1, max_features=sqrt, max_depth=20, bootstrap=True \n"
     ]
    },
    {
     "name": "stderr",
     "output_type": "stream",
     "text": [
      "/home/amit/anaconda3/lib/python3.6/site-packages/sklearn/model_selection/_validation.py:458: DataConversionWarning: A column-vector y was passed when a 1d array was expected. Please change the shape of y to (n_samples,), for example using ravel().\n",
      "  estimator.fit(X_train, y_train, **fit_params)\n"
     ]
    },
    {
     "name": "stdout",
     "output_type": "stream",
     "text": [
      "[CV]  n_estimators=1566, min_samples_split=10, min_samples_leaf=1, max_features=sqrt, max_depth=20, bootstrap=True, total=   3.4s\n",
      "[CV] n_estimators=1566, min_samples_split=10, min_samples_leaf=1, max_features=sqrt, max_depth=20, bootstrap=True \n"
     ]
    },
    {
     "name": "stderr",
     "output_type": "stream",
     "text": [
      "/home/amit/anaconda3/lib/python3.6/site-packages/sklearn/model_selection/_validation.py:458: DataConversionWarning: A column-vector y was passed when a 1d array was expected. Please change the shape of y to (n_samples,), for example using ravel().\n",
      "  estimator.fit(X_train, y_train, **fit_params)\n"
     ]
    },
    {
     "name": "stdout",
     "output_type": "stream",
     "text": [
      "[CV]  n_estimators=1133, min_samples_split=10, min_samples_leaf=2, max_features=auto, max_depth=None, bootstrap=False, total=   3.8s\n",
      "[CV] n_estimators=1566, min_samples_split=10, min_samples_leaf=2, max_features=auto, max_depth=None, bootstrap=True \n"
     ]
    },
    {
     "name": "stderr",
     "output_type": "stream",
     "text": [
      "/home/amit/anaconda3/lib/python3.6/site-packages/sklearn/model_selection/_validation.py:458: DataConversionWarning: A column-vector y was passed when a 1d array was expected. Please change the shape of y to (n_samples,), for example using ravel().\n",
      "  estimator.fit(X_train, y_train, **fit_params)\n"
     ]
    },
    {
     "name": "stdout",
     "output_type": "stream",
     "text": [
      "[CV]  n_estimators=1133, min_samples_split=10, min_samples_leaf=2, max_features=auto, max_depth=None, bootstrap=False, total=   4.0s\n",
      "[CV] n_estimators=1566, min_samples_split=10, min_samples_leaf=2, max_features=auto, max_depth=None, bootstrap=True \n"
     ]
    },
    {
     "name": "stderr",
     "output_type": "stream",
     "text": [
      "/home/amit/anaconda3/lib/python3.6/site-packages/sklearn/model_selection/_validation.py:458: DataConversionWarning: A column-vector y was passed when a 1d array was expected. Please change the shape of y to (n_samples,), for example using ravel().\n",
      "  estimator.fit(X_train, y_train, **fit_params)\n"
     ]
    },
    {
     "name": "stdout",
     "output_type": "stream",
     "text": [
      "[CV]  n_estimators=1566, min_samples_split=10, min_samples_leaf=1, max_features=sqrt, max_depth=20, bootstrap=True, total=   3.5s\n",
      "[CV] n_estimators=1566, min_samples_split=10, min_samples_leaf=2, max_features=auto, max_depth=None, bootstrap=True \n"
     ]
    },
    {
     "name": "stderr",
     "output_type": "stream",
     "text": [
      "/home/amit/anaconda3/lib/python3.6/site-packages/sklearn/model_selection/_validation.py:458: DataConversionWarning: A column-vector y was passed when a 1d array was expected. Please change the shape of y to (n_samples,), for example using ravel().\n",
      "  estimator.fit(X_train, y_train, **fit_params)\n"
     ]
    },
    {
     "name": "stdout",
     "output_type": "stream",
     "text": [
      "[CV]  n_estimators=1566, min_samples_split=10, min_samples_leaf=1, max_features=sqrt, max_depth=20, bootstrap=True, total=   3.5s\n",
      "[CV] n_estimators=1783, min_samples_split=2, min_samples_leaf=4, max_features=auto, max_depth=10, bootstrap=False \n"
     ]
    },
    {
     "name": "stderr",
     "output_type": "stream",
     "text": [
      "/home/amit/anaconda3/lib/python3.6/site-packages/sklearn/model_selection/_validation.py:458: DataConversionWarning: A column-vector y was passed when a 1d array was expected. Please change the shape of y to (n_samples,), for example using ravel().\n",
      "  estimator.fit(X_train, y_train, **fit_params)\n"
     ]
    },
    {
     "name": "stdout",
     "output_type": "stream",
     "text": [
      "[CV]  n_estimators=1566, min_samples_split=10, min_samples_leaf=2, max_features=auto, max_depth=None, bootstrap=True, total=   4.3s\n",
      "[CV] n_estimators=1783, min_samples_split=2, min_samples_leaf=4, max_features=auto, max_depth=10, bootstrap=False \n"
     ]
    },
    {
     "name": "stderr",
     "output_type": "stream",
     "text": [
      "/home/amit/anaconda3/lib/python3.6/site-packages/sklearn/model_selection/_validation.py:458: DataConversionWarning: A column-vector y was passed when a 1d array was expected. Please change the shape of y to (n_samples,), for example using ravel().\n",
      "  estimator.fit(X_train, y_train, **fit_params)\n"
     ]
    },
    {
     "name": "stdout",
     "output_type": "stream",
     "text": [
      "[CV]  n_estimators=1566, min_samples_split=10, min_samples_leaf=2, max_features=auto, max_depth=None, bootstrap=True, total=   4.4s\n",
      "[CV] n_estimators=1783, min_samples_split=2, min_samples_leaf=4, max_features=auto, max_depth=10, bootstrap=False \n"
     ]
    },
    {
     "name": "stderr",
     "output_type": "stream",
     "text": [
      "/home/amit/anaconda3/lib/python3.6/site-packages/sklearn/model_selection/_validation.py:458: DataConversionWarning: A column-vector y was passed when a 1d array was expected. Please change the shape of y to (n_samples,), for example using ravel().\n",
      "  estimator.fit(X_train, y_train, **fit_params)\n"
     ]
    },
    {
     "name": "stdout",
     "output_type": "stream",
     "text": [
      "[CV]  n_estimators=1566, min_samples_split=10, min_samples_leaf=2, max_features=auto, max_depth=None, bootstrap=True, total=   4.2s\n",
      "[CV] n_estimators=1350, min_samples_split=2, min_samples_leaf=2, max_features=auto, max_depth=70, bootstrap=True \n"
     ]
    },
    {
     "name": "stderr",
     "output_type": "stream",
     "text": [
      "/home/amit/anaconda3/lib/python3.6/site-packages/sklearn/model_selection/_validation.py:458: DataConversionWarning: A column-vector y was passed when a 1d array was expected. Please change the shape of y to (n_samples,), for example using ravel().\n",
      "  estimator.fit(X_train, y_train, **fit_params)\n"
     ]
    },
    {
     "name": "stdout",
     "output_type": "stream",
     "text": [
      "[CV]  n_estimators=1783, min_samples_split=2, min_samples_leaf=4, max_features=auto, max_depth=10, bootstrap=False, total=   5.7s\n",
      "[CV] n_estimators=1350, min_samples_split=2, min_samples_leaf=2, max_features=auto, max_depth=70, bootstrap=True \n"
     ]
    },
    {
     "name": "stderr",
     "output_type": "stream",
     "text": [
      "/home/amit/anaconda3/lib/python3.6/site-packages/sklearn/model_selection/_validation.py:458: DataConversionWarning: A column-vector y was passed when a 1d array was expected. Please change the shape of y to (n_samples,), for example using ravel().\n",
      "  estimator.fit(X_train, y_train, **fit_params)\n"
     ]
    },
    {
     "name": "stdout",
     "output_type": "stream",
     "text": [
      "[CV]  n_estimators=1350, min_samples_split=2, min_samples_leaf=2, max_features=auto, max_depth=70, bootstrap=True, total=   3.9s\n",
      "[CV] n_estimators=1350, min_samples_split=2, min_samples_leaf=2, max_features=auto, max_depth=70, bootstrap=True \n"
     ]
    },
    {
     "name": "stderr",
     "output_type": "stream",
     "text": [
      "/home/amit/anaconda3/lib/python3.6/site-packages/sklearn/model_selection/_validation.py:458: DataConversionWarning: A column-vector y was passed when a 1d array was expected. Please change the shape of y to (n_samples,), for example using ravel().\n",
      "  estimator.fit(X_train, y_train, **fit_params)\n"
     ]
    },
    {
     "name": "stdout",
     "output_type": "stream",
     "text": [
      "[CV]  n_estimators=1783, min_samples_split=2, min_samples_leaf=4, max_features=auto, max_depth=10, bootstrap=False, total=   5.9s\n",
      "[CV] n_estimators=916, min_samples_split=10, min_samples_leaf=1, max_features=sqrt, max_depth=80, bootstrap=False \n"
     ]
    },
    {
     "name": "stderr",
     "output_type": "stream",
     "text": [
      "/home/amit/anaconda3/lib/python3.6/site-packages/sklearn/model_selection/_validation.py:458: DataConversionWarning: A column-vector y was passed when a 1d array was expected. Please change the shape of y to (n_samples,), for example using ravel().\n",
      "  estimator.fit(X_train, y_train, **fit_params)\n"
     ]
    },
    {
     "name": "stdout",
     "output_type": "stream",
     "text": [
      "[CV]  n_estimators=1783, min_samples_split=2, min_samples_leaf=4, max_features=auto, max_depth=10, bootstrap=False, total=   5.7s\n",
      "[CV] n_estimators=916, min_samples_split=10, min_samples_leaf=1, max_features=sqrt, max_depth=80, bootstrap=False \n"
     ]
    },
    {
     "name": "stderr",
     "output_type": "stream",
     "text": [
      "/home/amit/anaconda3/lib/python3.6/site-packages/sklearn/model_selection/_validation.py:458: DataConversionWarning: A column-vector y was passed when a 1d array was expected. Please change the shape of y to (n_samples,), for example using ravel().\n",
      "  estimator.fit(X_train, y_train, **fit_params)\n"
     ]
    },
    {
     "name": "stdout",
     "output_type": "stream",
     "text": [
      "[CV]  n_estimators=916, min_samples_split=10, min_samples_leaf=1, max_features=sqrt, max_depth=80, bootstrap=False, total=   2.3s\n",
      "[CV] n_estimators=916, min_samples_split=10, min_samples_leaf=1, max_features=sqrt, max_depth=80, bootstrap=False \n"
     ]
    },
    {
     "name": "stderr",
     "output_type": "stream",
     "text": [
      "/home/amit/anaconda3/lib/python3.6/site-packages/sklearn/model_selection/_validation.py:458: DataConversionWarning: A column-vector y was passed when a 1d array was expected. Please change the shape of y to (n_samples,), for example using ravel().\n",
      "  estimator.fit(X_train, y_train, **fit_params)\n"
     ]
    },
    {
     "name": "stdout",
     "output_type": "stream",
     "text": [
      "[CV]  n_estimators=916, min_samples_split=10, min_samples_leaf=1, max_features=sqrt, max_depth=80, bootstrap=False, total=   2.3s\n",
      "[CV] n_estimators=2000, min_samples_split=10, min_samples_leaf=2, max_features=auto, max_depth=60, bootstrap=False \n"
     ]
    },
    {
     "name": "stderr",
     "output_type": "stream",
     "text": [
      "/home/amit/anaconda3/lib/python3.6/site-packages/sklearn/model_selection/_validation.py:458: DataConversionWarning: A column-vector y was passed when a 1d array was expected. Please change the shape of y to (n_samples,), for example using ravel().\n",
      "  estimator.fit(X_train, y_train, **fit_params)\n"
     ]
    },
    {
     "name": "stdout",
     "output_type": "stream",
     "text": [
      "[CV]  n_estimators=1350, min_samples_split=2, min_samples_leaf=2, max_features=auto, max_depth=70, bootstrap=True, total=   4.0s\n",
      "[CV] n_estimators=2000, min_samples_split=10, min_samples_leaf=2, max_features=auto, max_depth=60, bootstrap=False \n"
     ]
    },
    {
     "name": "stderr",
     "output_type": "stream",
     "text": [
      "/home/amit/anaconda3/lib/python3.6/site-packages/sklearn/model_selection/_validation.py:458: DataConversionWarning: A column-vector y was passed when a 1d array was expected. Please change the shape of y to (n_samples,), for example using ravel().\n",
      "  estimator.fit(X_train, y_train, **fit_params)\n"
     ]
    },
    {
     "name": "stdout",
     "output_type": "stream",
     "text": [
      "[CV]  n_estimators=1350, min_samples_split=2, min_samples_leaf=2, max_features=auto, max_depth=70, bootstrap=True, total=   3.9s\n",
      "[CV] n_estimators=2000, min_samples_split=10, min_samples_leaf=2, max_features=auto, max_depth=60, bootstrap=False \n"
     ]
    },
    {
     "name": "stderr",
     "output_type": "stream",
     "text": [
      "/home/amit/anaconda3/lib/python3.6/site-packages/sklearn/model_selection/_validation.py:458: DataConversionWarning: A column-vector y was passed when a 1d array was expected. Please change the shape of y to (n_samples,), for example using ravel().\n",
      "  estimator.fit(X_train, y_train, **fit_params)\n"
     ]
    },
    {
     "name": "stdout",
     "output_type": "stream",
     "text": [
      "[CV]  n_estimators=916, min_samples_split=10, min_samples_leaf=1, max_features=sqrt, max_depth=80, bootstrap=False, total=   2.4s\n",
      "[CV] n_estimators=1350, min_samples_split=2, min_samples_leaf=4, max_features=sqrt, max_depth=80, bootstrap=False \n"
     ]
    },
    {
     "name": "stderr",
     "output_type": "stream",
     "text": [
      "/home/amit/anaconda3/lib/python3.6/site-packages/sklearn/model_selection/_validation.py:458: DataConversionWarning: A column-vector y was passed when a 1d array was expected. Please change the shape of y to (n_samples,), for example using ravel().\n",
      "  estimator.fit(X_train, y_train, **fit_params)\n"
     ]
    },
    {
     "name": "stdout",
     "output_type": "stream",
     "text": [
      "[CV]  n_estimators=1350, min_samples_split=2, min_samples_leaf=4, max_features=sqrt, max_depth=80, bootstrap=False, total=   3.2s\n",
      "[CV] n_estimators=1350, min_samples_split=2, min_samples_leaf=4, max_features=sqrt, max_depth=80, bootstrap=False \n"
     ]
    },
    {
     "name": "stderr",
     "output_type": "stream",
     "text": [
      "/home/amit/anaconda3/lib/python3.6/site-packages/sklearn/model_selection/_validation.py:458: DataConversionWarning: A column-vector y was passed when a 1d array was expected. Please change the shape of y to (n_samples,), for example using ravel().\n",
      "  estimator.fit(X_train, y_train, **fit_params)\n"
     ]
    },
    {
     "name": "stdout",
     "output_type": "stream",
     "text": [
      "[CV]  n_estimators=2000, min_samples_split=10, min_samples_leaf=2, max_features=auto, max_depth=60, bootstrap=False, total=   6.7s\n",
      "[CV] n_estimators=1350, min_samples_split=2, min_samples_leaf=4, max_features=sqrt, max_depth=80, bootstrap=False \n"
     ]
    },
    {
     "name": "stderr",
     "output_type": "stream",
     "text": [
      "/home/amit/anaconda3/lib/python3.6/site-packages/sklearn/model_selection/_validation.py:458: DataConversionWarning: A column-vector y was passed when a 1d array was expected. Please change the shape of y to (n_samples,), for example using ravel().\n",
      "  estimator.fit(X_train, y_train, **fit_params)\n"
     ]
    },
    {
     "name": "stdout",
     "output_type": "stream",
     "text": [
      "[CV]  n_estimators=2000, min_samples_split=10, min_samples_leaf=2, max_features=auto, max_depth=60, bootstrap=False, total=   6.9s\n",
      "[CV] n_estimators=700, min_samples_split=2, min_samples_leaf=4, max_features=sqrt, max_depth=20, bootstrap=False \n"
     ]
    },
    {
     "name": "stderr",
     "output_type": "stream",
     "text": [
      "/home/amit/anaconda3/lib/python3.6/site-packages/sklearn/model_selection/_validation.py:458: DataConversionWarning: A column-vector y was passed when a 1d array was expected. Please change the shape of y to (n_samples,), for example using ravel().\n",
      "  estimator.fit(X_train, y_train, **fit_params)\n"
     ]
    },
    {
     "name": "stdout",
     "output_type": "stream",
     "text": [
      "[CV]  n_estimators=2000, min_samples_split=10, min_samples_leaf=2, max_features=auto, max_depth=60, bootstrap=False, total=   6.8s\n",
      "[CV] n_estimators=700, min_samples_split=2, min_samples_leaf=4, max_features=sqrt, max_depth=20, bootstrap=False \n"
     ]
    },
    {
     "name": "stderr",
     "output_type": "stream",
     "text": [
      "/home/amit/anaconda3/lib/python3.6/site-packages/sklearn/model_selection/_validation.py:458: DataConversionWarning: A column-vector y was passed when a 1d array was expected. Please change the shape of y to (n_samples,), for example using ravel().\n",
      "  estimator.fit(X_train, y_train, **fit_params)\n"
     ]
    },
    {
     "name": "stdout",
     "output_type": "stream",
     "text": [
      "[CV]  n_estimators=1350, min_samples_split=2, min_samples_leaf=4, max_features=sqrt, max_depth=80, bootstrap=False, total=   3.4s\n",
      "[CV] n_estimators=700, min_samples_split=2, min_samples_leaf=4, max_features=sqrt, max_depth=20, bootstrap=False \n"
     ]
    },
    {
     "name": "stderr",
     "output_type": "stream",
     "text": [
      "/home/amit/anaconda3/lib/python3.6/site-packages/sklearn/model_selection/_validation.py:458: DataConversionWarning: A column-vector y was passed when a 1d array was expected. Please change the shape of y to (n_samples,), for example using ravel().\n",
      "  estimator.fit(X_train, y_train, **fit_params)\n"
     ]
    },
    {
     "name": "stdout",
     "output_type": "stream",
     "text": [
      "[CV]  n_estimators=700, min_samples_split=2, min_samples_leaf=4, max_features=sqrt, max_depth=20, bootstrap=False, total=   1.8s\n",
      "[CV] n_estimators=1783, min_samples_split=5, min_samples_leaf=2, max_features=sqrt, max_depth=60, bootstrap=True \n"
     ]
    },
    {
     "name": "stderr",
     "output_type": "stream",
     "text": [
      "/home/amit/anaconda3/lib/python3.6/site-packages/sklearn/model_selection/_validation.py:458: DataConversionWarning: A column-vector y was passed when a 1d array was expected. Please change the shape of y to (n_samples,), for example using ravel().\n",
      "  estimator.fit(X_train, y_train, **fit_params)\n"
     ]
    },
    {
     "name": "stdout",
     "output_type": "stream",
     "text": [
      "[CV]  n_estimators=700, min_samples_split=2, min_samples_leaf=4, max_features=sqrt, max_depth=20, bootstrap=False, total=   1.9s\n",
      "[CV] n_estimators=1783, min_samples_split=5, min_samples_leaf=2, max_features=sqrt, max_depth=60, bootstrap=True \n"
     ]
    },
    {
     "name": "stderr",
     "output_type": "stream",
     "text": [
      "/home/amit/anaconda3/lib/python3.6/site-packages/sklearn/model_selection/_validation.py:458: DataConversionWarning: A column-vector y was passed when a 1d array was expected. Please change the shape of y to (n_samples,), for example using ravel().\n",
      "  estimator.fit(X_train, y_train, **fit_params)\n"
     ]
    },
    {
     "name": "stdout",
     "output_type": "stream",
     "text": [
      "[CV]  n_estimators=1350, min_samples_split=2, min_samples_leaf=4, max_features=sqrt, max_depth=80, bootstrap=False, total=   3.4s\n",
      "[CV] n_estimators=1783, min_samples_split=5, min_samples_leaf=2, max_features=sqrt, max_depth=60, bootstrap=True \n"
     ]
    },
    {
     "name": "stderr",
     "output_type": "stream",
     "text": [
      "/home/amit/anaconda3/lib/python3.6/site-packages/sklearn/model_selection/_validation.py:458: DataConversionWarning: A column-vector y was passed when a 1d array was expected. Please change the shape of y to (n_samples,), for example using ravel().\n",
      "  estimator.fit(X_train, y_train, **fit_params)\n"
     ]
    },
    {
     "name": "stdout",
     "output_type": "stream",
     "text": [
      "[CV]  n_estimators=700, min_samples_split=2, min_samples_leaf=4, max_features=sqrt, max_depth=20, bootstrap=False, total=   1.7s\n",
      "[CV] n_estimators=266, min_samples_split=5, min_samples_leaf=1, max_features=auto, max_depth=90, bootstrap=False \n"
     ]
    },
    {
     "name": "stderr",
     "output_type": "stream",
     "text": [
      "/home/amit/anaconda3/lib/python3.6/site-packages/sklearn/model_selection/_validation.py:458: DataConversionWarning: A column-vector y was passed when a 1d array was expected. Please change the shape of y to (n_samples,), for example using ravel().\n",
      "  estimator.fit(X_train, y_train, **fit_params)\n"
     ]
    },
    {
     "name": "stdout",
     "output_type": "stream",
     "text": [
      "[CV]  n_estimators=266, min_samples_split=5, min_samples_leaf=1, max_features=auto, max_depth=90, bootstrap=False, total=   1.0s\n",
      "[CV] n_estimators=266, min_samples_split=5, min_samples_leaf=1, max_features=auto, max_depth=90, bootstrap=False \n"
     ]
    },
    {
     "name": "stderr",
     "output_type": "stream",
     "text": [
      "/home/amit/anaconda3/lib/python3.6/site-packages/sklearn/model_selection/_validation.py:458: DataConversionWarning: A column-vector y was passed when a 1d array was expected. Please change the shape of y to (n_samples,), for example using ravel().\n",
      "  estimator.fit(X_train, y_train, **fit_params)\n"
     ]
    },
    {
     "name": "stdout",
     "output_type": "stream",
     "text": [
      "[CV]  n_estimators=266, min_samples_split=5, min_samples_leaf=1, max_features=auto, max_depth=90, bootstrap=False, total=   1.0s\n",
      "[CV] n_estimators=266, min_samples_split=5, min_samples_leaf=1, max_features=auto, max_depth=90, bootstrap=False \n"
     ]
    },
    {
     "name": "stderr",
     "output_type": "stream",
     "text": [
      "/home/amit/anaconda3/lib/python3.6/site-packages/sklearn/model_selection/_validation.py:458: DataConversionWarning: A column-vector y was passed when a 1d array was expected. Please change the shape of y to (n_samples,), for example using ravel().\n",
      "  estimator.fit(X_train, y_train, **fit_params)\n"
     ]
    },
    {
     "name": "stdout",
     "output_type": "stream",
     "text": [
      "[CV]  n_estimators=1783, min_samples_split=5, min_samples_leaf=2, max_features=sqrt, max_depth=60, bootstrap=True, total=   4.1s\n",
      "[CV] n_estimators=1566, min_samples_split=5, min_samples_leaf=1, max_features=auto, max_depth=90, bootstrap=True \n"
     ]
    },
    {
     "name": "stderr",
     "output_type": "stream",
     "text": [
      "/home/amit/anaconda3/lib/python3.6/site-packages/sklearn/model_selection/_validation.py:458: DataConversionWarning: A column-vector y was passed when a 1d array was expected. Please change the shape of y to (n_samples,), for example using ravel().\n",
      "  estimator.fit(X_train, y_train, **fit_params)\n"
     ]
    },
    {
     "name": "stdout",
     "output_type": "stream",
     "text": [
      "[CV]  n_estimators=1783, min_samples_split=5, min_samples_leaf=2, max_features=sqrt, max_depth=60, bootstrap=True, total=   4.1s\n",
      "[CV]  n_estimators=266, min_samples_split=5, min_samples_leaf=1, max_features=auto, max_depth=90, bootstrap=False, total=   1.0s\n",
      "[CV] n_estimators=1566, min_samples_split=5, min_samples_leaf=1, max_features=auto, max_depth=90, bootstrap=True \n",
      "[CV] n_estimators=1566, min_samples_split=5, min_samples_leaf=1, max_features=auto, max_depth=90, bootstrap=True \n"
     ]
    },
    {
     "name": "stderr",
     "output_type": "stream",
     "text": [
      "/home/amit/anaconda3/lib/python3.6/site-packages/sklearn/model_selection/_validation.py:458: DataConversionWarning: A column-vector y was passed when a 1d array was expected. Please change the shape of y to (n_samples,), for example using ravel().\n",
      "  estimator.fit(X_train, y_train, **fit_params)\n",
      "/home/amit/anaconda3/lib/python3.6/site-packages/sklearn/model_selection/_validation.py:458: DataConversionWarning: A column-vector y was passed when a 1d array was expected. Please change the shape of y to (n_samples,), for example using ravel().\n",
      "  estimator.fit(X_train, y_train, **fit_params)\n"
     ]
    },
    {
     "name": "stdout",
     "output_type": "stream",
     "text": [
      "[CV]  n_estimators=1783, min_samples_split=5, min_samples_leaf=2, max_features=sqrt, max_depth=60, bootstrap=True, total=   4.1s\n",
      "[CV] n_estimators=266, min_samples_split=10, min_samples_leaf=2, max_features=sqrt, max_depth=90, bootstrap=False \n"
     ]
    },
    {
     "name": "stderr",
     "output_type": "stream",
     "text": [
      "/home/amit/anaconda3/lib/python3.6/site-packages/sklearn/model_selection/_validation.py:458: DataConversionWarning: A column-vector y was passed when a 1d array was expected. Please change the shape of y to (n_samples,), for example using ravel().\n",
      "  estimator.fit(X_train, y_train, **fit_params)\n"
     ]
    },
    {
     "name": "stdout",
     "output_type": "stream",
     "text": [
      "[CV]  n_estimators=266, min_samples_split=10, min_samples_leaf=2, max_features=sqrt, max_depth=90, bootstrap=False, total=   0.6s\n",
      "[CV] n_estimators=266, min_samples_split=10, min_samples_leaf=2, max_features=sqrt, max_depth=90, bootstrap=False \n"
     ]
    },
    {
     "name": "stderr",
     "output_type": "stream",
     "text": [
      "/home/amit/anaconda3/lib/python3.6/site-packages/sklearn/model_selection/_validation.py:458: DataConversionWarning: A column-vector y was passed when a 1d array was expected. Please change the shape of y to (n_samples,), for example using ravel().\n",
      "  estimator.fit(X_train, y_train, **fit_params)\n"
     ]
    },
    {
     "name": "stdout",
     "output_type": "stream",
     "text": [
      "[CV]  n_estimators=266, min_samples_split=10, min_samples_leaf=2, max_features=sqrt, max_depth=90, bootstrap=False, total=   0.6s\n",
      "[CV] n_estimators=266, min_samples_split=10, min_samples_leaf=2, max_features=sqrt, max_depth=90, bootstrap=False \n"
     ]
    },
    {
     "name": "stderr",
     "output_type": "stream",
     "text": [
      "/home/amit/anaconda3/lib/python3.6/site-packages/sklearn/model_selection/_validation.py:458: DataConversionWarning: A column-vector y was passed when a 1d array was expected. Please change the shape of y to (n_samples,), for example using ravel().\n",
      "  estimator.fit(X_train, y_train, **fit_params)\n"
     ]
    },
    {
     "name": "stdout",
     "output_type": "stream",
     "text": [
      "[CV]  n_estimators=266, min_samples_split=10, min_samples_leaf=2, max_features=sqrt, max_depth=90, bootstrap=False, total=   0.6s\n",
      "[CV] n_estimators=1566, min_samples_split=10, min_samples_leaf=1, max_features=sqrt, max_depth=None, bootstrap=True \n"
     ]
    },
    {
     "name": "stderr",
     "output_type": "stream",
     "text": [
      "/home/amit/anaconda3/lib/python3.6/site-packages/sklearn/model_selection/_validation.py:458: DataConversionWarning: A column-vector y was passed when a 1d array was expected. Please change the shape of y to (n_samples,), for example using ravel().\n",
      "  estimator.fit(X_train, y_train, **fit_params)\n"
     ]
    },
    {
     "name": "stdout",
     "output_type": "stream",
     "text": [
      "[CV]  n_estimators=1566, min_samples_split=5, min_samples_leaf=1, max_features=auto, max_depth=90, bootstrap=True, total=   4.7s\n",
      "[CV] n_estimators=1566, min_samples_split=10, min_samples_leaf=1, max_features=sqrt, max_depth=None, bootstrap=True \n"
     ]
    },
    {
     "name": "stderr",
     "output_type": "stream",
     "text": [
      "/home/amit/anaconda3/lib/python3.6/site-packages/sklearn/model_selection/_validation.py:458: DataConversionWarning: A column-vector y was passed when a 1d array was expected. Please change the shape of y to (n_samples,), for example using ravel().\n",
      "  estimator.fit(X_train, y_train, **fit_params)\n"
     ]
    },
    {
     "name": "stdout",
     "output_type": "stream",
     "text": [
      "[CV]  n_estimators=1566, min_samples_split=5, min_samples_leaf=1, max_features=auto, max_depth=90, bootstrap=True, total=   4.7s\n",
      "[CV] n_estimators=1566, min_samples_split=10, min_samples_leaf=1, max_features=sqrt, max_depth=None, bootstrap=True \n"
     ]
    },
    {
     "name": "stderr",
     "output_type": "stream",
     "text": [
      "/home/amit/anaconda3/lib/python3.6/site-packages/sklearn/model_selection/_validation.py:458: DataConversionWarning: A column-vector y was passed when a 1d array was expected. Please change the shape of y to (n_samples,), for example using ravel().\n",
      "  estimator.fit(X_train, y_train, **fit_params)\n"
     ]
    },
    {
     "name": "stdout",
     "output_type": "stream",
     "text": [
      "[CV]  n_estimators=1566, min_samples_split=5, min_samples_leaf=1, max_features=auto, max_depth=90, bootstrap=True, total=   4.8s\n",
      "[CV] n_estimators=2000, min_samples_split=5, min_samples_leaf=1, max_features=sqrt, max_depth=100, bootstrap=True \n"
     ]
    },
    {
     "name": "stderr",
     "output_type": "stream",
     "text": [
      "/home/amit/anaconda3/lib/python3.6/site-packages/sklearn/model_selection/_validation.py:458: DataConversionWarning: A column-vector y was passed when a 1d array was expected. Please change the shape of y to (n_samples,), for example using ravel().\n",
      "  estimator.fit(X_train, y_train, **fit_params)\n"
     ]
    },
    {
     "name": "stdout",
     "output_type": "stream",
     "text": [
      "[CV]  n_estimators=1566, min_samples_split=10, min_samples_leaf=1, max_features=sqrt, max_depth=None, bootstrap=True, total=   3.5s\n",
      "[CV] n_estimators=2000, min_samples_split=5, min_samples_leaf=1, max_features=sqrt, max_depth=100, bootstrap=True \n"
     ]
    },
    {
     "name": "stderr",
     "output_type": "stream",
     "text": [
      "/home/amit/anaconda3/lib/python3.6/site-packages/sklearn/model_selection/_validation.py:458: DataConversionWarning: A column-vector y was passed when a 1d array was expected. Please change the shape of y to (n_samples,), for example using ravel().\n",
      "  estimator.fit(X_train, y_train, **fit_params)\n"
     ]
    },
    {
     "name": "stdout",
     "output_type": "stream",
     "text": [
      "[CV]  n_estimators=1566, min_samples_split=10, min_samples_leaf=1, max_features=sqrt, max_depth=None, bootstrap=True, total=   3.5s\n",
      "[CV] n_estimators=2000, min_samples_split=5, min_samples_leaf=1, max_features=sqrt, max_depth=100, bootstrap=True \n"
     ]
    },
    {
     "name": "stderr",
     "output_type": "stream",
     "text": [
      "/home/amit/anaconda3/lib/python3.6/site-packages/sklearn/model_selection/_validation.py:458: DataConversionWarning: A column-vector y was passed when a 1d array was expected. Please change the shape of y to (n_samples,), for example using ravel().\n",
      "  estimator.fit(X_train, y_train, **fit_params)\n"
     ]
    },
    {
     "name": "stdout",
     "output_type": "stream",
     "text": [
      "[CV]  n_estimators=1566, min_samples_split=10, min_samples_leaf=1, max_features=sqrt, max_depth=None, bootstrap=True, total=   3.5s\n",
      "[CV] n_estimators=916, min_samples_split=5, min_samples_leaf=2, max_features=sqrt, max_depth=10, bootstrap=True \n"
     ]
    },
    {
     "name": "stderr",
     "output_type": "stream",
     "text": [
      "/home/amit/anaconda3/lib/python3.6/site-packages/sklearn/model_selection/_validation.py:458: DataConversionWarning: A column-vector y was passed when a 1d array was expected. Please change the shape of y to (n_samples,), for example using ravel().\n",
      "  estimator.fit(X_train, y_train, **fit_params)\n"
     ]
    },
    {
     "name": "stdout",
     "output_type": "stream",
     "text": [
      "[CV]  n_estimators=2000, min_samples_split=5, min_samples_leaf=1, max_features=sqrt, max_depth=100, bootstrap=True, total=   4.8s\n",
      "[CV] n_estimators=916, min_samples_split=5, min_samples_leaf=2, max_features=sqrt, max_depth=10, bootstrap=True \n"
     ]
    },
    {
     "name": "stderr",
     "output_type": "stream",
     "text": [
      "/home/amit/anaconda3/lib/python3.6/site-packages/sklearn/model_selection/_validation.py:458: DataConversionWarning: A column-vector y was passed when a 1d array was expected. Please change the shape of y to (n_samples,), for example using ravel().\n",
      "  estimator.fit(X_train, y_train, **fit_params)\n"
     ]
    },
    {
     "name": "stdout",
     "output_type": "stream",
     "text": [
      "[CV]  n_estimators=916, min_samples_split=5, min_samples_leaf=2, max_features=sqrt, max_depth=10, bootstrap=True, total=   2.2s\n",
      "[CV] n_estimators=916, min_samples_split=5, min_samples_leaf=2, max_features=sqrt, max_depth=10, bootstrap=True \n"
     ]
    },
    {
     "name": "stderr",
     "output_type": "stream",
     "text": [
      "/home/amit/anaconda3/lib/python3.6/site-packages/sklearn/model_selection/_validation.py:458: DataConversionWarning: A column-vector y was passed when a 1d array was expected. Please change the shape of y to (n_samples,), for example using ravel().\n",
      "  estimator.fit(X_train, y_train, **fit_params)\n"
     ]
    },
    {
     "name": "stdout",
     "output_type": "stream",
     "text": [
      "[CV]  n_estimators=2000, min_samples_split=5, min_samples_leaf=1, max_features=sqrt, max_depth=100, bootstrap=True, total=   4.8s\n",
      "[CV] n_estimators=50, min_samples_split=5, min_samples_leaf=4, max_features=auto, max_depth=80, bootstrap=True \n"
     ]
    },
    {
     "name": "stderr",
     "output_type": "stream",
     "text": [
      "/home/amit/anaconda3/lib/python3.6/site-packages/sklearn/model_selection/_validation.py:458: DataConversionWarning: A column-vector y was passed when a 1d array was expected. Please change the shape of y to (n_samples,), for example using ravel().\n",
      "  estimator.fit(X_train, y_train, **fit_params)\n"
     ]
    },
    {
     "name": "stdout",
     "output_type": "stream",
     "text": [
      "[CV]  n_estimators=50, min_samples_split=5, min_samples_leaf=4, max_features=auto, max_depth=80, bootstrap=True, total=   0.1s\n",
      "[CV] n_estimators=50, min_samples_split=5, min_samples_leaf=4, max_features=auto, max_depth=80, bootstrap=True \n"
     ]
    },
    {
     "name": "stderr",
     "output_type": "stream",
     "text": [
      "/home/amit/anaconda3/lib/python3.6/site-packages/sklearn/model_selection/_validation.py:458: DataConversionWarning: A column-vector y was passed when a 1d array was expected. Please change the shape of y to (n_samples,), for example using ravel().\n",
      "  estimator.fit(X_train, y_train, **fit_params)\n"
     ]
    },
    {
     "name": "stdout",
     "output_type": "stream",
     "text": [
      "[CV]  n_estimators=50, min_samples_split=5, min_samples_leaf=4, max_features=auto, max_depth=80, bootstrap=True, total=   0.1s\n",
      "[CV] n_estimators=50, min_samples_split=5, min_samples_leaf=4, max_features=auto, max_depth=80, bootstrap=True \n"
     ]
    },
    {
     "name": "stderr",
     "output_type": "stream",
     "text": [
      "/home/amit/anaconda3/lib/python3.6/site-packages/sklearn/model_selection/_validation.py:458: DataConversionWarning: A column-vector y was passed when a 1d array was expected. Please change the shape of y to (n_samples,), for example using ravel().\n",
      "  estimator.fit(X_train, y_train, **fit_params)\n"
     ]
    },
    {
     "name": "stdout",
     "output_type": "stream",
     "text": [
      "[CV]  n_estimators=50, min_samples_split=5, min_samples_leaf=4, max_features=auto, max_depth=80, bootstrap=True, total=   0.1s\n",
      "[CV] n_estimators=2000, min_samples_split=2, min_samples_leaf=4, max_features=auto, max_depth=60, bootstrap=False \n"
     ]
    },
    {
     "name": "stderr",
     "output_type": "stream",
     "text": [
      "/home/amit/anaconda3/lib/python3.6/site-packages/sklearn/model_selection/_validation.py:458: DataConversionWarning: A column-vector y was passed when a 1d array was expected. Please change the shape of y to (n_samples,), for example using ravel().\n",
      "  estimator.fit(X_train, y_train, **fit_params)\n"
     ]
    },
    {
     "name": "stdout",
     "output_type": "stream",
     "text": [
      "[CV]  n_estimators=916, min_samples_split=5, min_samples_leaf=2, max_features=sqrt, max_depth=10, bootstrap=True, total=   2.1s\n",
      "[CV] n_estimators=2000, min_samples_split=2, min_samples_leaf=4, max_features=auto, max_depth=60, bootstrap=False \n"
     ]
    },
    {
     "name": "stderr",
     "output_type": "stream",
     "text": [
      "/home/amit/anaconda3/lib/python3.6/site-packages/sklearn/model_selection/_validation.py:458: DataConversionWarning: A column-vector y was passed when a 1d array was expected. Please change the shape of y to (n_samples,), for example using ravel().\n",
      "  estimator.fit(X_train, y_train, **fit_params)\n"
     ]
    },
    {
     "name": "stdout",
     "output_type": "stream",
     "text": [
      "[CV]  n_estimators=916, min_samples_split=5, min_samples_leaf=2, max_features=sqrt, max_depth=10, bootstrap=True, total=   2.1s\n",
      "[CV] n_estimators=2000, min_samples_split=2, min_samples_leaf=4, max_features=auto, max_depth=60, bootstrap=False \n"
     ]
    },
    {
     "name": "stderr",
     "output_type": "stream",
     "text": [
      "/home/amit/anaconda3/lib/python3.6/site-packages/sklearn/model_selection/_validation.py:458: DataConversionWarning: A column-vector y was passed when a 1d array was expected. Please change the shape of y to (n_samples,), for example using ravel().\n",
      "  estimator.fit(X_train, y_train, **fit_params)\n"
     ]
    },
    {
     "name": "stdout",
     "output_type": "stream",
     "text": [
      "[CV]  n_estimators=2000, min_samples_split=5, min_samples_leaf=1, max_features=sqrt, max_depth=100, bootstrap=True, total=   5.0s\n",
      "[CV] n_estimators=483, min_samples_split=10, min_samples_leaf=2, max_features=auto, max_depth=100, bootstrap=True \n"
     ]
    },
    {
     "name": "stderr",
     "output_type": "stream",
     "text": [
      "/home/amit/anaconda3/lib/python3.6/site-packages/sklearn/model_selection/_validation.py:458: DataConversionWarning: A column-vector y was passed when a 1d array was expected. Please change the shape of y to (n_samples,), for example using ravel().\n",
      "  estimator.fit(X_train, y_train, **fit_params)\n"
     ]
    },
    {
     "name": "stdout",
     "output_type": "stream",
     "text": [
      "[CV]  n_estimators=483, min_samples_split=10, min_samples_leaf=2, max_features=auto, max_depth=100, bootstrap=True, total=   1.3s\n",
      "[CV] n_estimators=483, min_samples_split=10, min_samples_leaf=2, max_features=auto, max_depth=100, bootstrap=True \n"
     ]
    },
    {
     "name": "stderr",
     "output_type": "stream",
     "text": [
      "/home/amit/anaconda3/lib/python3.6/site-packages/sklearn/model_selection/_validation.py:458: DataConversionWarning: A column-vector y was passed when a 1d array was expected. Please change the shape of y to (n_samples,), for example using ravel().\n",
      "  estimator.fit(X_train, y_train, **fit_params)\n"
     ]
    },
    {
     "name": "stdout",
     "output_type": "stream",
     "text": [
      "[CV]  n_estimators=483, min_samples_split=10, min_samples_leaf=2, max_features=auto, max_depth=100, bootstrap=True, total=   1.3s\n",
      "[CV] n_estimators=483, min_samples_split=10, min_samples_leaf=2, max_features=auto, max_depth=100, bootstrap=True \n"
     ]
    },
    {
     "name": "stderr",
     "output_type": "stream",
     "text": [
      "/home/amit/anaconda3/lib/python3.6/site-packages/sklearn/model_selection/_validation.py:458: DataConversionWarning: A column-vector y was passed when a 1d array was expected. Please change the shape of y to (n_samples,), for example using ravel().\n",
      "  estimator.fit(X_train, y_train, **fit_params)\n"
     ]
    },
    {
     "name": "stdout",
     "output_type": "stream",
     "text": [
      "[CV]  n_estimators=483, min_samples_split=10, min_samples_leaf=2, max_features=auto, max_depth=100, bootstrap=True, total=   1.3s\n",
      "[CV] n_estimators=916, min_samples_split=5, min_samples_leaf=4, max_features=auto, max_depth=100, bootstrap=True \n"
     ]
    },
    {
     "name": "stderr",
     "output_type": "stream",
     "text": [
      "/home/amit/anaconda3/lib/python3.6/site-packages/sklearn/model_selection/_validation.py:458: DataConversionWarning: A column-vector y was passed when a 1d array was expected. Please change the shape of y to (n_samples,), for example using ravel().\n",
      "  estimator.fit(X_train, y_train, **fit_params)\n"
     ]
    },
    {
     "name": "stdout",
     "output_type": "stream",
     "text": [
      "[CV]  n_estimators=2000, min_samples_split=2, min_samples_leaf=4, max_features=auto, max_depth=60, bootstrap=False, total=   6.6s\n",
      "[CV] n_estimators=916, min_samples_split=5, min_samples_leaf=4, max_features=auto, max_depth=100, bootstrap=True \n"
     ]
    },
    {
     "name": "stderr",
     "output_type": "stream",
     "text": [
      "/home/amit/anaconda3/lib/python3.6/site-packages/sklearn/model_selection/_validation.py:458: DataConversionWarning: A column-vector y was passed when a 1d array was expected. Please change the shape of y to (n_samples,), for example using ravel().\n",
      "  estimator.fit(X_train, y_train, **fit_params)\n"
     ]
    },
    {
     "name": "stdout",
     "output_type": "stream",
     "text": [
      "[CV]  n_estimators=2000, min_samples_split=2, min_samples_leaf=4, max_features=auto, max_depth=60, bootstrap=False, total=   6.7s\n",
      "[CV] n_estimators=916, min_samples_split=5, min_samples_leaf=4, max_features=auto, max_depth=100, bootstrap=True \n"
     ]
    },
    {
     "name": "stderr",
     "output_type": "stream",
     "text": [
      "/home/amit/anaconda3/lib/python3.6/site-packages/sklearn/model_selection/_validation.py:458: DataConversionWarning: A column-vector y was passed when a 1d array was expected. Please change the shape of y to (n_samples,), for example using ravel().\n",
      "  estimator.fit(X_train, y_train, **fit_params)\n"
     ]
    },
    {
     "name": "stdout",
     "output_type": "stream",
     "text": [
      "[CV]  n_estimators=2000, min_samples_split=2, min_samples_leaf=4, max_features=auto, max_depth=60, bootstrap=False, total=   6.7s\n",
      "[CV] n_estimators=700, min_samples_split=10, min_samples_leaf=2, max_features=auto, max_depth=None, bootstrap=False \n"
     ]
    },
    {
     "name": "stderr",
     "output_type": "stream",
     "text": [
      "/home/amit/anaconda3/lib/python3.6/site-packages/sklearn/model_selection/_validation.py:458: DataConversionWarning: A column-vector y was passed when a 1d array was expected. Please change the shape of y to (n_samples,), for example using ravel().\n",
      "  estimator.fit(X_train, y_train, **fit_params)\n"
     ]
    },
    {
     "name": "stdout",
     "output_type": "stream",
     "text": [
      "[CV]  n_estimators=916, min_samples_split=5, min_samples_leaf=4, max_features=auto, max_depth=100, bootstrap=True, total=   2.6s\n",
      "[CV] n_estimators=700, min_samples_split=10, min_samples_leaf=2, max_features=auto, max_depth=None, bootstrap=False \n"
     ]
    },
    {
     "name": "stderr",
     "output_type": "stream",
     "text": [
      "/home/amit/anaconda3/lib/python3.6/site-packages/sklearn/model_selection/_validation.py:458: DataConversionWarning: A column-vector y was passed when a 1d array was expected. Please change the shape of y to (n_samples,), for example using ravel().\n",
      "  estimator.fit(X_train, y_train, **fit_params)\n"
     ]
    },
    {
     "name": "stdout",
     "output_type": "stream",
     "text": [
      "[CV]  n_estimators=916, min_samples_split=5, min_samples_leaf=4, max_features=auto, max_depth=100, bootstrap=True, total=   2.5s\n",
      "[CV] n_estimators=700, min_samples_split=10, min_samples_leaf=2, max_features=auto, max_depth=None, bootstrap=False \n"
     ]
    },
    {
     "name": "stderr",
     "output_type": "stream",
     "text": [
      "/home/amit/anaconda3/lib/python3.6/site-packages/sklearn/model_selection/_validation.py:458: DataConversionWarning: A column-vector y was passed when a 1d array was expected. Please change the shape of y to (n_samples,), for example using ravel().\n",
      "  estimator.fit(X_train, y_train, **fit_params)\n"
     ]
    },
    {
     "name": "stdout",
     "output_type": "stream",
     "text": [
      "[CV]  n_estimators=916, min_samples_split=5, min_samples_leaf=4, max_features=auto, max_depth=100, bootstrap=True, total=   2.5s\n",
      "[CV] n_estimators=700, min_samples_split=5, min_samples_leaf=4, max_features=sqrt, max_depth=70, bootstrap=False \n"
     ]
    },
    {
     "name": "stderr",
     "output_type": "stream",
     "text": [
      "/home/amit/anaconda3/lib/python3.6/site-packages/sklearn/model_selection/_validation.py:458: DataConversionWarning: A column-vector y was passed when a 1d array was expected. Please change the shape of y to (n_samples,), for example using ravel().\n",
      "  estimator.fit(X_train, y_train, **fit_params)\n"
     ]
    },
    {
     "name": "stdout",
     "output_type": "stream",
     "text": [
      "[CV]  n_estimators=700, min_samples_split=10, min_samples_leaf=2, max_features=auto, max_depth=None, bootstrap=False, total=   2.4s\n",
      "[CV] n_estimators=700, min_samples_split=5, min_samples_leaf=4, max_features=sqrt, max_depth=70, bootstrap=False \n"
     ]
    },
    {
     "name": "stderr",
     "output_type": "stream",
     "text": [
      "/home/amit/anaconda3/lib/python3.6/site-packages/sklearn/model_selection/_validation.py:458: DataConversionWarning: A column-vector y was passed when a 1d array was expected. Please change the shape of y to (n_samples,), for example using ravel().\n",
      "  estimator.fit(X_train, y_train, **fit_params)\n"
     ]
    },
    {
     "name": "stdout",
     "output_type": "stream",
     "text": [
      "[CV]  n_estimators=700, min_samples_split=10, min_samples_leaf=2, max_features=auto, max_depth=None, bootstrap=False, total=   2.4s\n",
      "[CV] n_estimators=700, min_samples_split=5, min_samples_leaf=4, max_features=sqrt, max_depth=70, bootstrap=False \n"
     ]
    },
    {
     "name": "stderr",
     "output_type": "stream",
     "text": [
      "/home/amit/anaconda3/lib/python3.6/site-packages/sklearn/model_selection/_validation.py:458: DataConversionWarning: A column-vector y was passed when a 1d array was expected. Please change the shape of y to (n_samples,), for example using ravel().\n",
      "  estimator.fit(X_train, y_train, **fit_params)\n"
     ]
    },
    {
     "name": "stdout",
     "output_type": "stream",
     "text": [
      "[CV]  n_estimators=700, min_samples_split=5, min_samples_leaf=4, max_features=sqrt, max_depth=70, bootstrap=False, total=   1.7s\n",
      "[CV] n_estimators=483, min_samples_split=10, min_samples_leaf=1, max_features=sqrt, max_depth=40, bootstrap=False \n"
     ]
    },
    {
     "name": "stderr",
     "output_type": "stream",
     "text": [
      "/home/amit/anaconda3/lib/python3.6/site-packages/sklearn/model_selection/_validation.py:458: DataConversionWarning: A column-vector y was passed when a 1d array was expected. Please change the shape of y to (n_samples,), for example using ravel().\n",
      "  estimator.fit(X_train, y_train, **fit_params)\n"
     ]
    },
    {
     "name": "stdout",
     "output_type": "stream",
     "text": [
      "[CV]  n_estimators=700, min_samples_split=10, min_samples_leaf=2, max_features=auto, max_depth=None, bootstrap=False, total=   2.4s\n",
      "[CV] n_estimators=483, min_samples_split=10, min_samples_leaf=1, max_features=sqrt, max_depth=40, bootstrap=False \n"
     ]
    },
    {
     "name": "stderr",
     "output_type": "stream",
     "text": [
      "/home/amit/anaconda3/lib/python3.6/site-packages/sklearn/model_selection/_validation.py:458: DataConversionWarning: A column-vector y was passed when a 1d array was expected. Please change the shape of y to (n_samples,), for example using ravel().\n",
      "  estimator.fit(X_train, y_train, **fit_params)\n"
     ]
    },
    {
     "name": "stdout",
     "output_type": "stream",
     "text": [
      "[CV]  n_estimators=700, min_samples_split=5, min_samples_leaf=4, max_features=sqrt, max_depth=70, bootstrap=False, total=   1.8s\n",
      "[CV] n_estimators=483, min_samples_split=10, min_samples_leaf=1, max_features=sqrt, max_depth=40, bootstrap=False \n"
     ]
    },
    {
     "name": "stderr",
     "output_type": "stream",
     "text": [
      "/home/amit/anaconda3/lib/python3.6/site-packages/sklearn/model_selection/_validation.py:458: DataConversionWarning: A column-vector y was passed when a 1d array was expected. Please change the shape of y to (n_samples,), for example using ravel().\n",
      "  estimator.fit(X_train, y_train, **fit_params)\n"
     ]
    },
    {
     "name": "stdout",
     "output_type": "stream",
     "text": [
      "[CV]  n_estimators=700, min_samples_split=5, min_samples_leaf=4, max_features=sqrt, max_depth=70, bootstrap=False, total=   1.7s\n",
      "[CV] n_estimators=266, min_samples_split=5, min_samples_leaf=1, max_features=sqrt, max_depth=100, bootstrap=True \n"
     ]
    },
    {
     "name": "stderr",
     "output_type": "stream",
     "text": [
      "/home/amit/anaconda3/lib/python3.6/site-packages/sklearn/model_selection/_validation.py:458: DataConversionWarning: A column-vector y was passed when a 1d array was expected. Please change the shape of y to (n_samples,), for example using ravel().\n",
      "  estimator.fit(X_train, y_train, **fit_params)\n"
     ]
    },
    {
     "name": "stdout",
     "output_type": "stream",
     "text": [
      "[CV]  n_estimators=483, min_samples_split=10, min_samples_leaf=1, max_features=sqrt, max_depth=40, bootstrap=False, total=   1.2s\n",
      "[CV] n_estimators=266, min_samples_split=5, min_samples_leaf=1, max_features=sqrt, max_depth=100, bootstrap=True \n"
     ]
    },
    {
     "name": "stderr",
     "output_type": "stream",
     "text": [
      "/home/amit/anaconda3/lib/python3.6/site-packages/sklearn/model_selection/_validation.py:458: DataConversionWarning: A column-vector y was passed when a 1d array was expected. Please change the shape of y to (n_samples,), for example using ravel().\n",
      "  estimator.fit(X_train, y_train, **fit_params)\n"
     ]
    },
    {
     "name": "stdout",
     "output_type": "stream",
     "text": [
      "[CV]  n_estimators=483, min_samples_split=10, min_samples_leaf=1, max_features=sqrt, max_depth=40, bootstrap=False, total=   1.2s\n",
      "[CV] n_estimators=266, min_samples_split=5, min_samples_leaf=1, max_features=sqrt, max_depth=100, bootstrap=True \n"
     ]
    },
    {
     "name": "stderr",
     "output_type": "stream",
     "text": [
      "/home/amit/anaconda3/lib/python3.6/site-packages/sklearn/model_selection/_validation.py:458: DataConversionWarning: A column-vector y was passed when a 1d array was expected. Please change the shape of y to (n_samples,), for example using ravel().\n",
      "  estimator.fit(X_train, y_train, **fit_params)\n"
     ]
    },
    {
     "name": "stdout",
     "output_type": "stream",
     "text": [
      "[CV]  n_estimators=266, min_samples_split=5, min_samples_leaf=1, max_features=sqrt, max_depth=100, bootstrap=True, total=   0.7s\n",
      "[CV] n_estimators=1566, min_samples_split=2, min_samples_leaf=4, max_features=sqrt, max_depth=80, bootstrap=True \n"
     ]
    },
    {
     "name": "stderr",
     "output_type": "stream",
     "text": [
      "/home/amit/anaconda3/lib/python3.6/site-packages/sklearn/model_selection/_validation.py:458: DataConversionWarning: A column-vector y was passed when a 1d array was expected. Please change the shape of y to (n_samples,), for example using ravel().\n",
      "  estimator.fit(X_train, y_train, **fit_params)\n"
     ]
    },
    {
     "name": "stdout",
     "output_type": "stream",
     "text": [
      "[CV]  n_estimators=266, min_samples_split=5, min_samples_leaf=1, max_features=sqrt, max_depth=100, bootstrap=True, total=   0.6s\n",
      "[CV] n_estimators=1566, min_samples_split=2, min_samples_leaf=4, max_features=sqrt, max_depth=80, bootstrap=True \n"
     ]
    },
    {
     "name": "stderr",
     "output_type": "stream",
     "text": [
      "/home/amit/anaconda3/lib/python3.6/site-packages/sklearn/model_selection/_validation.py:458: DataConversionWarning: A column-vector y was passed when a 1d array was expected. Please change the shape of y to (n_samples,), for example using ravel().\n",
      "  estimator.fit(X_train, y_train, **fit_params)\n"
     ]
    },
    {
     "name": "stdout",
     "output_type": "stream",
     "text": [
      "[CV]  n_estimators=483, min_samples_split=10, min_samples_leaf=1, max_features=sqrt, max_depth=40, bootstrap=False, total=   1.2s\n",
      "[CV] n_estimators=1566, min_samples_split=2, min_samples_leaf=4, max_features=sqrt, max_depth=80, bootstrap=True \n"
     ]
    },
    {
     "name": "stderr",
     "output_type": "stream",
     "text": [
      "/home/amit/anaconda3/lib/python3.6/site-packages/sklearn/model_selection/_validation.py:458: DataConversionWarning: A column-vector y was passed when a 1d array was expected. Please change the shape of y to (n_samples,), for example using ravel().\n",
      "  estimator.fit(X_train, y_train, **fit_params)\n"
     ]
    },
    {
     "name": "stdout",
     "output_type": "stream",
     "text": [
      "[CV]  n_estimators=266, min_samples_split=5, min_samples_leaf=1, max_features=sqrt, max_depth=100, bootstrap=True, total=   0.6s\n",
      "[CV] n_estimators=700, min_samples_split=10, min_samples_leaf=4, max_features=sqrt, max_depth=100, bootstrap=True \n"
     ]
    },
    {
     "name": "stderr",
     "output_type": "stream",
     "text": [
      "/home/amit/anaconda3/lib/python3.6/site-packages/sklearn/model_selection/_validation.py:458: DataConversionWarning: A column-vector y was passed when a 1d array was expected. Please change the shape of y to (n_samples,), for example using ravel().\n",
      "  estimator.fit(X_train, y_train, **fit_params)\n"
     ]
    },
    {
     "name": "stdout",
     "output_type": "stream",
     "text": [
      "[CV]  n_estimators=700, min_samples_split=10, min_samples_leaf=4, max_features=sqrt, max_depth=100, bootstrap=True, total=   1.5s\n",
      "[CV] n_estimators=700, min_samples_split=10, min_samples_leaf=4, max_features=sqrt, max_depth=100, bootstrap=True \n"
     ]
    },
    {
     "name": "stderr",
     "output_type": "stream",
     "text": [
      "/home/amit/anaconda3/lib/python3.6/site-packages/sklearn/model_selection/_validation.py:458: DataConversionWarning: A column-vector y was passed when a 1d array was expected. Please change the shape of y to (n_samples,), for example using ravel().\n",
      "  estimator.fit(X_train, y_train, **fit_params)\n"
     ]
    },
    {
     "name": "stdout",
     "output_type": "stream",
     "text": [
      "[CV]  n_estimators=1566, min_samples_split=2, min_samples_leaf=4, max_features=sqrt, max_depth=80, bootstrap=True, total=   3.4s\n",
      "[CV] n_estimators=700, min_samples_split=10, min_samples_leaf=4, max_features=sqrt, max_depth=100, bootstrap=True \n"
     ]
    },
    {
     "name": "stderr",
     "output_type": "stream",
     "text": [
      "/home/amit/anaconda3/lib/python3.6/site-packages/sklearn/model_selection/_validation.py:458: DataConversionWarning: A column-vector y was passed when a 1d array was expected. Please change the shape of y to (n_samples,), for example using ravel().\n",
      "  estimator.fit(X_train, y_train, **fit_params)\n"
     ]
    },
    {
     "name": "stdout",
     "output_type": "stream",
     "text": [
      "[CV]  n_estimators=700, min_samples_split=10, min_samples_leaf=4, max_features=sqrt, max_depth=100, bootstrap=True, total=   1.5s\n",
      "[CV] n_estimators=916, min_samples_split=10, min_samples_leaf=2, max_features=sqrt, max_depth=10, bootstrap=True \n"
     ]
    },
    {
     "name": "stderr",
     "output_type": "stream",
     "text": [
      "/home/amit/anaconda3/lib/python3.6/site-packages/sklearn/model_selection/_validation.py:458: DataConversionWarning: A column-vector y was passed when a 1d array was expected. Please change the shape of y to (n_samples,), for example using ravel().\n",
      "  estimator.fit(X_train, y_train, **fit_params)\n"
     ]
    },
    {
     "name": "stdout",
     "output_type": "stream",
     "text": [
      "[CV]  n_estimators=1566, min_samples_split=2, min_samples_leaf=4, max_features=sqrt, max_depth=80, bootstrap=True, total=   3.4s\n",
      "[CV] n_estimators=916, min_samples_split=10, min_samples_leaf=2, max_features=sqrt, max_depth=10, bootstrap=True \n"
     ]
    },
    {
     "name": "stderr",
     "output_type": "stream",
     "text": [
      "/home/amit/anaconda3/lib/python3.6/site-packages/sklearn/model_selection/_validation.py:458: DataConversionWarning: A column-vector y was passed when a 1d array was expected. Please change the shape of y to (n_samples,), for example using ravel().\n",
      "  estimator.fit(X_train, y_train, **fit_params)\n"
     ]
    },
    {
     "name": "stdout",
     "output_type": "stream",
     "text": [
      "[CV]  n_estimators=1566, min_samples_split=2, min_samples_leaf=4, max_features=sqrt, max_depth=80, bootstrap=True, total=   3.4s\n",
      "[CV] n_estimators=916, min_samples_split=10, min_samples_leaf=2, max_features=sqrt, max_depth=10, bootstrap=True \n"
     ]
    },
    {
     "name": "stderr",
     "output_type": "stream",
     "text": [
      "/home/amit/anaconda3/lib/python3.6/site-packages/sklearn/model_selection/_validation.py:458: DataConversionWarning: A column-vector y was passed when a 1d array was expected. Please change the shape of y to (n_samples,), for example using ravel().\n",
      "  estimator.fit(X_train, y_train, **fit_params)\n"
     ]
    },
    {
     "name": "stdout",
     "output_type": "stream",
     "text": [
      "[CV]  n_estimators=700, min_samples_split=10, min_samples_leaf=4, max_features=sqrt, max_depth=100, bootstrap=True, total=   1.5s\n",
      "[CV] n_estimators=483, min_samples_split=10, min_samples_leaf=1, max_features=sqrt, max_depth=110, bootstrap=True \n"
     ]
    },
    {
     "name": "stderr",
     "output_type": "stream",
     "text": [
      "/home/amit/anaconda3/lib/python3.6/site-packages/sklearn/model_selection/_validation.py:458: DataConversionWarning: A column-vector y was passed when a 1d array was expected. Please change the shape of y to (n_samples,), for example using ravel().\n",
      "  estimator.fit(X_train, y_train, **fit_params)\n"
     ]
    },
    {
     "name": "stdout",
     "output_type": "stream",
     "text": [
      "[CV]  n_estimators=916, min_samples_split=10, min_samples_leaf=2, max_features=sqrt, max_depth=10, bootstrap=True, total=   2.0s\n",
      "[CV] n_estimators=483, min_samples_split=10, min_samples_leaf=1, max_features=sqrt, max_depth=110, bootstrap=True \n"
     ]
    },
    {
     "name": "stderr",
     "output_type": "stream",
     "text": [
      "/home/amit/anaconda3/lib/python3.6/site-packages/sklearn/model_selection/_validation.py:458: DataConversionWarning: A column-vector y was passed when a 1d array was expected. Please change the shape of y to (n_samples,), for example using ravel().\n",
      "  estimator.fit(X_train, y_train, **fit_params)\n"
     ]
    },
    {
     "name": "stdout",
     "output_type": "stream",
     "text": [
      "[CV]  n_estimators=916, min_samples_split=10, min_samples_leaf=2, max_features=sqrt, max_depth=10, bootstrap=True, total=   2.0s\n",
      "[CV] n_estimators=483, min_samples_split=10, min_samples_leaf=1, max_features=sqrt, max_depth=110, bootstrap=True \n"
     ]
    },
    {
     "name": "stderr",
     "output_type": "stream",
     "text": [
      "/home/amit/anaconda3/lib/python3.6/site-packages/sklearn/model_selection/_validation.py:458: DataConversionWarning: A column-vector y was passed when a 1d array was expected. Please change the shape of y to (n_samples,), for example using ravel().\n",
      "  estimator.fit(X_train, y_train, **fit_params)\n"
     ]
    },
    {
     "name": "stdout",
     "output_type": "stream",
     "text": [
      "[CV]  n_estimators=916, min_samples_split=10, min_samples_leaf=2, max_features=sqrt, max_depth=10, bootstrap=True, total=   2.0s\n",
      "[CV] n_estimators=2000, min_samples_split=5, min_samples_leaf=4, max_features=sqrt, max_depth=None, bootstrap=False \n"
     ]
    },
    {
     "name": "stderr",
     "output_type": "stream",
     "text": [
      "/home/amit/anaconda3/lib/python3.6/site-packages/sklearn/model_selection/_validation.py:458: DataConversionWarning: A column-vector y was passed when a 1d array was expected. Please change the shape of y to (n_samples,), for example using ravel().\n",
      "  estimator.fit(X_train, y_train, **fit_params)\n"
     ]
    },
    {
     "name": "stdout",
     "output_type": "stream",
     "text": [
      "[CV]  n_estimators=483, min_samples_split=10, min_samples_leaf=1, max_features=sqrt, max_depth=110, bootstrap=True, total=   1.1s\n",
      "[CV] n_estimators=2000, min_samples_split=5, min_samples_leaf=4, max_features=sqrt, max_depth=None, bootstrap=False \n"
     ]
    },
    {
     "name": "stderr",
     "output_type": "stream",
     "text": [
      "/home/amit/anaconda3/lib/python3.6/site-packages/sklearn/model_selection/_validation.py:458: DataConversionWarning: A column-vector y was passed when a 1d array was expected. Please change the shape of y to (n_samples,), for example using ravel().\n",
      "  estimator.fit(X_train, y_train, **fit_params)\n"
     ]
    },
    {
     "name": "stdout",
     "output_type": "stream",
     "text": [
      "[CV]  n_estimators=483, min_samples_split=10, min_samples_leaf=1, max_features=sqrt, max_depth=110, bootstrap=True, total=   1.1s\n",
      "[CV] n_estimators=2000, min_samples_split=5, min_samples_leaf=4, max_features=sqrt, max_depth=None, bootstrap=False \n"
     ]
    },
    {
     "name": "stderr",
     "output_type": "stream",
     "text": [
      "/home/amit/anaconda3/lib/python3.6/site-packages/sklearn/model_selection/_validation.py:458: DataConversionWarning: A column-vector y was passed when a 1d array was expected. Please change the shape of y to (n_samples,), for example using ravel().\n",
      "  estimator.fit(X_train, y_train, **fit_params)\n"
     ]
    },
    {
     "name": "stdout",
     "output_type": "stream",
     "text": [
      "[CV]  n_estimators=483, min_samples_split=10, min_samples_leaf=1, max_features=sqrt, max_depth=110, bootstrap=True, total=   1.1s\n",
      "[CV] n_estimators=700, min_samples_split=5, min_samples_leaf=1, max_features=sqrt, max_depth=40, bootstrap=True \n"
     ]
    },
    {
     "name": "stderr",
     "output_type": "stream",
     "text": [
      "/home/amit/anaconda3/lib/python3.6/site-packages/sklearn/model_selection/_validation.py:458: DataConversionWarning: A column-vector y was passed when a 1d array was expected. Please change the shape of y to (n_samples,), for example using ravel().\n",
      "  estimator.fit(X_train, y_train, **fit_params)\n"
     ]
    },
    {
     "name": "stdout",
     "output_type": "stream",
     "text": [
      "[CV]  n_estimators=700, min_samples_split=5, min_samples_leaf=1, max_features=sqrt, max_depth=40, bootstrap=True, total=   1.6s\n",
      "[CV] n_estimators=700, min_samples_split=5, min_samples_leaf=1, max_features=sqrt, max_depth=40, bootstrap=True \n"
     ]
    },
    {
     "name": "stderr",
     "output_type": "stream",
     "text": [
      "/home/amit/anaconda3/lib/python3.6/site-packages/sklearn/model_selection/_validation.py:458: DataConversionWarning: A column-vector y was passed when a 1d array was expected. Please change the shape of y to (n_samples,), for example using ravel().\n",
      "  estimator.fit(X_train, y_train, **fit_params)\n"
     ]
    },
    {
     "name": "stdout",
     "output_type": "stream",
     "text": [
      "[CV]  n_estimators=700, min_samples_split=5, min_samples_leaf=1, max_features=sqrt, max_depth=40, bootstrap=True, total=   1.6s\n",
      "[CV] n_estimators=700, min_samples_split=5, min_samples_leaf=1, max_features=sqrt, max_depth=40, bootstrap=True \n"
     ]
    },
    {
     "name": "stderr",
     "output_type": "stream",
     "text": [
      "/home/amit/anaconda3/lib/python3.6/site-packages/sklearn/model_selection/_validation.py:458: DataConversionWarning: A column-vector y was passed when a 1d array was expected. Please change the shape of y to (n_samples,), for example using ravel().\n",
      "  estimator.fit(X_train, y_train, **fit_params)\n"
     ]
    },
    {
     "name": "stdout",
     "output_type": "stream",
     "text": [
      "[CV]  n_estimators=2000, min_samples_split=5, min_samples_leaf=4, max_features=sqrt, max_depth=None, bootstrap=False, total=   4.8s\n",
      "[CV] n_estimators=483, min_samples_split=2, min_samples_leaf=4, max_features=auto, max_depth=40, bootstrap=True \n"
     ]
    },
    {
     "name": "stderr",
     "output_type": "stream",
     "text": [
      "/home/amit/anaconda3/lib/python3.6/site-packages/sklearn/model_selection/_validation.py:458: DataConversionWarning: A column-vector y was passed when a 1d array was expected. Please change the shape of y to (n_samples,), for example using ravel().\n",
      "  estimator.fit(X_train, y_train, **fit_params)\n"
     ]
    },
    {
     "name": "stdout",
     "output_type": "stream",
     "text": [
      "[CV]  n_estimators=2000, min_samples_split=5, min_samples_leaf=4, max_features=sqrt, max_depth=None, bootstrap=False, total=   4.8s\n",
      "[CV] n_estimators=483, min_samples_split=2, min_samples_leaf=4, max_features=auto, max_depth=40, bootstrap=True \n"
     ]
    },
    {
     "name": "stderr",
     "output_type": "stream",
     "text": [
      "/home/amit/anaconda3/lib/python3.6/site-packages/sklearn/model_selection/_validation.py:458: DataConversionWarning: A column-vector y was passed when a 1d array was expected. Please change the shape of y to (n_samples,), for example using ravel().\n",
      "  estimator.fit(X_train, y_train, **fit_params)\n"
     ]
    },
    {
     "name": "stdout",
     "output_type": "stream",
     "text": [
      "[CV]  n_estimators=2000, min_samples_split=5, min_samples_leaf=4, max_features=sqrt, max_depth=None, bootstrap=False, total=   4.7s\n",
      "[CV] n_estimators=483, min_samples_split=2, min_samples_leaf=4, max_features=auto, max_depth=40, bootstrap=True \n"
     ]
    },
    {
     "name": "stderr",
     "output_type": "stream",
     "text": [
      "/home/amit/anaconda3/lib/python3.6/site-packages/sklearn/model_selection/_validation.py:458: DataConversionWarning: A column-vector y was passed when a 1d array was expected. Please change the shape of y to (n_samples,), for example using ravel().\n",
      "  estimator.fit(X_train, y_train, **fit_params)\n"
     ]
    },
    {
     "name": "stdout",
     "output_type": "stream",
     "text": [
      "[CV]  n_estimators=700, min_samples_split=5, min_samples_leaf=1, max_features=sqrt, max_depth=40, bootstrap=True, total=   1.7s\n",
      "[CV] n_estimators=483, min_samples_split=2, min_samples_leaf=4, max_features=sqrt, max_depth=30, bootstrap=False \n"
     ]
    },
    {
     "name": "stderr",
     "output_type": "stream",
     "text": [
      "/home/amit/anaconda3/lib/python3.6/site-packages/sklearn/model_selection/_validation.py:458: DataConversionWarning: A column-vector y was passed when a 1d array was expected. Please change the shape of y to (n_samples,), for example using ravel().\n",
      "  estimator.fit(X_train, y_train, **fit_params)\n"
     ]
    },
    {
     "name": "stdout",
     "output_type": "stream",
     "text": [
      "[CV]  n_estimators=483, min_samples_split=2, min_samples_leaf=4, max_features=auto, max_depth=40, bootstrap=True, total=   1.3s\n",
      "[CV] n_estimators=483, min_samples_split=2, min_samples_leaf=4, max_features=sqrt, max_depth=30, bootstrap=False \n"
     ]
    },
    {
     "name": "stderr",
     "output_type": "stream",
     "text": [
      "/home/amit/anaconda3/lib/python3.6/site-packages/sklearn/model_selection/_validation.py:458: DataConversionWarning: A column-vector y was passed when a 1d array was expected. Please change the shape of y to (n_samples,), for example using ravel().\n",
      "  estimator.fit(X_train, y_train, **fit_params)\n"
     ]
    },
    {
     "name": "stdout",
     "output_type": "stream",
     "text": [
      "[CV]  n_estimators=483, min_samples_split=2, min_samples_leaf=4, max_features=auto, max_depth=40, bootstrap=True, total=   1.3s\n",
      "[CV] n_estimators=483, min_samples_split=2, min_samples_leaf=4, max_features=sqrt, max_depth=30, bootstrap=False \n"
     ]
    },
    {
     "name": "stderr",
     "output_type": "stream",
     "text": [
      "/home/amit/anaconda3/lib/python3.6/site-packages/sklearn/model_selection/_validation.py:458: DataConversionWarning: A column-vector y was passed when a 1d array was expected. Please change the shape of y to (n_samples,), for example using ravel().\n",
      "  estimator.fit(X_train, y_train, **fit_params)\n"
     ]
    },
    {
     "name": "stdout",
     "output_type": "stream",
     "text": [
      "[CV]  n_estimators=483, min_samples_split=2, min_samples_leaf=4, max_features=auto, max_depth=40, bootstrap=True, total=   1.3s\n",
      "[CV] n_estimators=266, min_samples_split=10, min_samples_leaf=2, max_features=auto, max_depth=40, bootstrap=False \n"
     ]
    },
    {
     "name": "stderr",
     "output_type": "stream",
     "text": [
      "/home/amit/anaconda3/lib/python3.6/site-packages/sklearn/model_selection/_validation.py:458: DataConversionWarning: A column-vector y was passed when a 1d array was expected. Please change the shape of y to (n_samples,), for example using ravel().\n",
      "  estimator.fit(X_train, y_train, **fit_params)\n"
     ]
    },
    {
     "name": "stdout",
     "output_type": "stream",
     "text": [
      "[CV]  n_estimators=483, min_samples_split=2, min_samples_leaf=4, max_features=sqrt, max_depth=30, bootstrap=False, total=   1.2s\n",
      "[CV] n_estimators=266, min_samples_split=10, min_samples_leaf=2, max_features=auto, max_depth=40, bootstrap=False \n"
     ]
    },
    {
     "name": "stderr",
     "output_type": "stream",
     "text": [
      "/home/amit/anaconda3/lib/python3.6/site-packages/sklearn/model_selection/_validation.py:458: DataConversionWarning: A column-vector y was passed when a 1d array was expected. Please change the shape of y to (n_samples,), for example using ravel().\n",
      "  estimator.fit(X_train, y_train, **fit_params)\n"
     ]
    },
    {
     "name": "stdout",
     "output_type": "stream",
     "text": [
      "[CV]  n_estimators=483, min_samples_split=2, min_samples_leaf=4, max_features=sqrt, max_depth=30, bootstrap=False, total=   1.2s\n",
      "[CV] n_estimators=266, min_samples_split=10, min_samples_leaf=2, max_features=auto, max_depth=40, bootstrap=False \n"
     ]
    },
    {
     "name": "stderr",
     "output_type": "stream",
     "text": [
      "/home/amit/anaconda3/lib/python3.6/site-packages/sklearn/model_selection/_validation.py:458: DataConversionWarning: A column-vector y was passed when a 1d array was expected. Please change the shape of y to (n_samples,), for example using ravel().\n",
      "  estimator.fit(X_train, y_train, **fit_params)\n"
     ]
    },
    {
     "name": "stdout",
     "output_type": "stream",
     "text": [
      "[CV]  n_estimators=483, min_samples_split=2, min_samples_leaf=4, max_features=sqrt, max_depth=30, bootstrap=False, total=   1.2s\n",
      "[CV] n_estimators=916, min_samples_split=2, min_samples_leaf=1, max_features=auto, max_depth=10, bootstrap=False \n"
     ]
    },
    {
     "name": "stderr",
     "output_type": "stream",
     "text": [
      "/home/amit/anaconda3/lib/python3.6/site-packages/sklearn/model_selection/_validation.py:458: DataConversionWarning: A column-vector y was passed when a 1d array was expected. Please change the shape of y to (n_samples,), for example using ravel().\n",
      "  estimator.fit(X_train, y_train, **fit_params)\n"
     ]
    },
    {
     "name": "stdout",
     "output_type": "stream",
     "text": [
      "[CV]  n_estimators=266, min_samples_split=10, min_samples_leaf=2, max_features=auto, max_depth=40, bootstrap=False, total=   0.9s\n",
      "[CV] n_estimators=916, min_samples_split=2, min_samples_leaf=1, max_features=auto, max_depth=10, bootstrap=False \n"
     ]
    },
    {
     "name": "stderr",
     "output_type": "stream",
     "text": [
      "/home/amit/anaconda3/lib/python3.6/site-packages/sklearn/model_selection/_validation.py:458: DataConversionWarning: A column-vector y was passed when a 1d array was expected. Please change the shape of y to (n_samples,), for example using ravel().\n",
      "  estimator.fit(X_train, y_train, **fit_params)\n"
     ]
    },
    {
     "name": "stdout",
     "output_type": "stream",
     "text": [
      "[CV]  n_estimators=266, min_samples_split=10, min_samples_leaf=2, max_features=auto, max_depth=40, bootstrap=False, total=   0.9s\n",
      "[CV] n_estimators=916, min_samples_split=2, min_samples_leaf=1, max_features=auto, max_depth=10, bootstrap=False \n"
     ]
    },
    {
     "name": "stderr",
     "output_type": "stream",
     "text": [
      "/home/amit/anaconda3/lib/python3.6/site-packages/sklearn/model_selection/_validation.py:458: DataConversionWarning: A column-vector y was passed when a 1d array was expected. Please change the shape of y to (n_samples,), for example using ravel().\n",
      "  estimator.fit(X_train, y_train, **fit_params)\n"
     ]
    },
    {
     "name": "stdout",
     "output_type": "stream",
     "text": [
      "[CV]  n_estimators=266, min_samples_split=10, min_samples_leaf=2, max_features=auto, max_depth=40, bootstrap=False, total=   0.9s\n",
      "[CV] n_estimators=50, min_samples_split=5, min_samples_leaf=4, max_features=auto, max_depth=100, bootstrap=False \n"
     ]
    },
    {
     "name": "stderr",
     "output_type": "stream",
     "text": [
      "/home/amit/anaconda3/lib/python3.6/site-packages/sklearn/model_selection/_validation.py:458: DataConversionWarning: A column-vector y was passed when a 1d array was expected. Please change the shape of y to (n_samples,), for example using ravel().\n",
      "  estimator.fit(X_train, y_train, **fit_params)\n"
     ]
    },
    {
     "name": "stdout",
     "output_type": "stream",
     "text": [
      "[CV]  n_estimators=50, min_samples_split=5, min_samples_leaf=4, max_features=auto, max_depth=100, bootstrap=False, total=   0.2s\n",
      "[CV] n_estimators=50, min_samples_split=5, min_samples_leaf=4, max_features=auto, max_depth=100, bootstrap=False \n"
     ]
    },
    {
     "name": "stderr",
     "output_type": "stream",
     "text": [
      "/home/amit/anaconda3/lib/python3.6/site-packages/sklearn/model_selection/_validation.py:458: DataConversionWarning: A column-vector y was passed when a 1d array was expected. Please change the shape of y to (n_samples,), for example using ravel().\n",
      "  estimator.fit(X_train, y_train, **fit_params)\n"
     ]
    },
    {
     "name": "stdout",
     "output_type": "stream",
     "text": [
      "[CV]  n_estimators=50, min_samples_split=5, min_samples_leaf=4, max_features=auto, max_depth=100, bootstrap=False, total=   0.2s\n",
      "[CV] n_estimators=50, min_samples_split=5, min_samples_leaf=4, max_features=auto, max_depth=100, bootstrap=False \n"
     ]
    },
    {
     "name": "stderr",
     "output_type": "stream",
     "text": [
      "/home/amit/anaconda3/lib/python3.6/site-packages/sklearn/model_selection/_validation.py:458: DataConversionWarning: A column-vector y was passed when a 1d array was expected. Please change the shape of y to (n_samples,), for example using ravel().\n",
      "  estimator.fit(X_train, y_train, **fit_params)\n"
     ]
    },
    {
     "name": "stdout",
     "output_type": "stream",
     "text": [
      "[CV]  n_estimators=50, min_samples_split=5, min_samples_leaf=4, max_features=auto, max_depth=100, bootstrap=False, total=   0.2s\n",
      "[CV] n_estimators=2000, min_samples_split=2, min_samples_leaf=2, max_features=sqrt, max_depth=20, bootstrap=True \n"
     ]
    },
    {
     "name": "stderr",
     "output_type": "stream",
     "text": [
      "/home/amit/anaconda3/lib/python3.6/site-packages/sklearn/model_selection/_validation.py:458: DataConversionWarning: A column-vector y was passed when a 1d array was expected. Please change the shape of y to (n_samples,), for example using ravel().\n",
      "  estimator.fit(X_train, y_train, **fit_params)\n"
     ]
    },
    {
     "name": "stdout",
     "output_type": "stream",
     "text": [
      "[CV]  n_estimators=916, min_samples_split=2, min_samples_leaf=1, max_features=auto, max_depth=10, bootstrap=False, total=   3.4s\n",
      "[CV] n_estimators=2000, min_samples_split=2, min_samples_leaf=2, max_features=sqrt, max_depth=20, bootstrap=True \n"
     ]
    },
    {
     "name": "stderr",
     "output_type": "stream",
     "text": [
      "/home/amit/anaconda3/lib/python3.6/site-packages/sklearn/model_selection/_validation.py:458: DataConversionWarning: A column-vector y was passed when a 1d array was expected. Please change the shape of y to (n_samples,), for example using ravel().\n",
      "  estimator.fit(X_train, y_train, **fit_params)\n"
     ]
    },
    {
     "name": "stdout",
     "output_type": "stream",
     "text": [
      "[CV]  n_estimators=916, min_samples_split=2, min_samples_leaf=1, max_features=auto, max_depth=10, bootstrap=False, total=   3.4s\n",
      "[CV] n_estimators=2000, min_samples_split=2, min_samples_leaf=2, max_features=sqrt, max_depth=20, bootstrap=True \n"
     ]
    },
    {
     "name": "stderr",
     "output_type": "stream",
     "text": [
      "/home/amit/anaconda3/lib/python3.6/site-packages/sklearn/model_selection/_validation.py:458: DataConversionWarning: A column-vector y was passed when a 1d array was expected. Please change the shape of y to (n_samples,), for example using ravel().\n",
      "  estimator.fit(X_train, y_train, **fit_params)\n"
     ]
    },
    {
     "name": "stdout",
     "output_type": "stream",
     "text": [
      "[CV]  n_estimators=916, min_samples_split=2, min_samples_leaf=1, max_features=auto, max_depth=10, bootstrap=False, total=   3.4s\n",
      "[CV] n_estimators=2000, min_samples_split=10, min_samples_leaf=2, max_features=auto, max_depth=40, bootstrap=True \n"
     ]
    },
    {
     "name": "stderr",
     "output_type": "stream",
     "text": [
      "/home/amit/anaconda3/lib/python3.6/site-packages/sklearn/model_selection/_validation.py:458: DataConversionWarning: A column-vector y was passed when a 1d array was expected. Please change the shape of y to (n_samples,), for example using ravel().\n",
      "  estimator.fit(X_train, y_train, **fit_params)\n"
     ]
    },
    {
     "name": "stdout",
     "output_type": "stream",
     "text": [
      "[CV]  n_estimators=2000, min_samples_split=2, min_samples_leaf=2, max_features=sqrt, max_depth=20, bootstrap=True, total=   4.6s\n",
      "[CV] n_estimators=2000, min_samples_split=10, min_samples_leaf=2, max_features=auto, max_depth=40, bootstrap=True \n"
     ]
    },
    {
     "name": "stderr",
     "output_type": "stream",
     "text": [
      "/home/amit/anaconda3/lib/python3.6/site-packages/sklearn/model_selection/_validation.py:458: DataConversionWarning: A column-vector y was passed when a 1d array was expected. Please change the shape of y to (n_samples,), for example using ravel().\n",
      "  estimator.fit(X_train, y_train, **fit_params)\n"
     ]
    },
    {
     "name": "stdout",
     "output_type": "stream",
     "text": [
      "[CV]  n_estimators=2000, min_samples_split=2, min_samples_leaf=2, max_features=sqrt, max_depth=20, bootstrap=True, total=   4.6s\n",
      "[CV] n_estimators=2000, min_samples_split=10, min_samples_leaf=2, max_features=auto, max_depth=40, bootstrap=True \n"
     ]
    },
    {
     "name": "stderr",
     "output_type": "stream",
     "text": [
      "/home/amit/anaconda3/lib/python3.6/site-packages/sklearn/model_selection/_validation.py:458: DataConversionWarning: A column-vector y was passed when a 1d array was expected. Please change the shape of y to (n_samples,), for example using ravel().\n",
      "  estimator.fit(X_train, y_train, **fit_params)\n"
     ]
    },
    {
     "name": "stdout",
     "output_type": "stream",
     "text": [
      "[CV]  n_estimators=2000, min_samples_split=2, min_samples_leaf=2, max_features=sqrt, max_depth=20, bootstrap=True, total=   4.8s\n",
      "[CV]  n_estimators=2000, min_samples_split=10, min_samples_leaf=2, max_features=auto, max_depth=40, bootstrap=True, total=   5.1s\n",
      "[CV]  n_estimators=2000, min_samples_split=10, min_samples_leaf=2, max_features=auto, max_depth=40, bootstrap=True, total=   4.8s\n",
      "[CV]  n_estimators=2000, min_samples_split=10, min_samples_leaf=2, max_features=auto, max_depth=40, bootstrap=True, total=   3.6s\n"
     ]
    },
    {
     "name": "stderr",
     "output_type": "stream",
     "text": [
      "[Parallel(n_jobs=-1)]: Done 300 out of 300 | elapsed:  4.5min finished\n",
      "/home/amit/anaconda3/lib/python3.6/site-packages/sklearn/model_selection/_search.py:739: DataConversionWarning: A column-vector y was passed when a 1d array was expected. Please change the shape of y to (n_samples,), for example using ravel().\n",
      "  self.best_estimator_.fit(X, y, **fit_params)\n"
     ]
    },
    {
     "data": {
      "text/plain": [
       "RandomizedSearchCV(cv=3, error_score='raise',\n",
       "          estimator=RandomForestRegressor(bootstrap=True, criterion='mse', max_depth=None,\n",
       "           max_features='auto', max_leaf_nodes=None,\n",
       "           min_impurity_decrease=0.0, min_impurity_split=None,\n",
       "           min_samples_leaf=1, min_samples_split=2,\n",
       "           min_weight_fraction_leaf=0.0, n_estimators=10, n_jobs=1,\n",
       "           oob_score=False, random_state=None, verbose=0, warm_start=False),\n",
       "          fit_params=None, iid=True, n_iter=100, n_jobs=-1,\n",
       "          param_distributions={'n_estimators': [50, 266, 483, 700, 916, 1133, 1350, 1566, 1783, 2000], 'max_features': ['auto', 'sqrt'], 'max_depth': [10, 20, 30, 40, 50, 60, 70, 80, 90, 100, 110, None], 'min_samples_split': [2, 5, 10], 'min_samples_leaf': [1, 2, 4], 'bootstrap': [True, False]},\n",
       "          pre_dispatch='2*n_jobs', random_state=42, refit=True,\n",
       "          return_train_score='warn', scoring=None, verbose=2)"
      ]
     },
     "execution_count": 32,
     "metadata": {},
     "output_type": "execute_result"
    }
   ],
   "source": [
    "# Use the random grid to search for best hyperparameters\n",
    "# First create the base model to tune\n",
    "rf = RandomForestRegressor()\n",
    "# Random search of parameters, using 3 fold cross validation, \n",
    "# search across 100 different combinations, and use all available cores\n",
    "rf_random = RandomizedSearchCV(estimator = rf, param_distributions = random_grid, n_iter = 100, cv = 3, verbose=2, random_state=42, n_jobs = -1)\n",
    "# Fit the random search model\n",
    "rf_random.fit(X_train_scaled, y_train_scaled)"
   ]
  },
  {
   "cell_type": "code",
   "execution_count": 33,
   "metadata": {},
   "outputs": [
    {
     "data": {
      "text/plain": [
       "{'n_estimators': 2000,\n",
       " 'min_samples_split': 5,\n",
       " 'min_samples_leaf': 1,\n",
       " 'max_features': 'sqrt',\n",
       " 'max_depth': 10,\n",
       " 'bootstrap': True}"
      ]
     },
     "execution_count": 33,
     "metadata": {},
     "output_type": "execute_result"
    }
   ],
   "source": [
    "rf_random.best_params_"
   ]
  },
  {
   "cell_type": "code",
   "execution_count": 34,
   "metadata": {},
   "outputs": [
    {
     "name": "stdout",
     "output_type": "stream",
     "text": [
      "{\"status\":{\"version\":\"1.0.0\",\"code\":0,\"msg\":\"SuccessWithResult\",\"total\":1,\"page\":1,\"pagesize\":10},\"property\":[{\"identifier\":{\"obPropId\":18471319108031,\"fips\":\"08031\",\"apn\":\"0219204018000\",\"apnOrig\":\"219204018000\",\"attomId\":184713191},\"lot\":{\"depth\":0,\"frontage\":0,\"lotnum\":\"31\",\"lotsize1\":0.1077,\"lotsize2\":4690,\"pooltype\":\"NONE\"},\"area\":{\"blockNum\":\"36\",\"countrysecsubd\":\"Denver County\",\"countyuse1\":\"113\",\"muncode\":\"DE\",\"munname\":\"DENVER\",\"srvyRange\":\"68W\",\"srvySection\":\"19\",\"srvyTownship\":\"03S\",\"subdname\":\"BERKELEY\",\"subdtractnum\":\"0\",\"taxcodearea\":\"0\"},\"address\":{\"country\":\"US\",\"countrySubd\":\"CO\",\"line1\":\"4529 WINONA CT\",\"line2\":\"DENVER, CO 80212\",\"locality\":\"Denver\",\"matchCode\":\"ExaStr\",\"oneLine\":\"4529 WINONA CT, DENVER, CO 80212\",\"postal1\":\"80212\",\"postal2\":\"2512\",\"postal3\":\"C037\"},\"location\":{\"accuracy\":\"Street\",\"elevation\":0.0,\"latitude\":\"39.778904\",\"longitude\":\"-105.047624\",\"distance\":0.0,\"geoid\":\"CO08031, CS0891007, DB0803360, MT30001324, ND0000119198, ND0000539537, PL0820000, SB0000076114, SB0000076155, SB0000076161, SB0000135819, ZI80212\"},\"summary\":{\"absenteeInd\":\"OWNER OCCUPIED\",\"propclass\":\"Single Family Residence / Townhouse\",\"propsubtype\":\"RESIDENTIAL\",\"proptype\":\"SFR\",\"yearbuilt\":1900,\"propLandUse\":\"SFR\",\"propIndicator\":\"10\",\"legal1\":\"BERKELEY B36 L31 & S/2 OF L32 EXC REAR 8FT TO CITY\"},\"utilities\":{\"heatingtype\":\"FORCED AIR\"},\"building\":{\"size\":{\"bldgsize\":1414,\"grosssize\":1414,\"grosssizeadjusted\":934,\"groundfloorsize\":934,\"livingsize\":934,\"sizeInd\":\"LIVING SQFT \",\"universalsize\":934},\"rooms\":{\"bathfixtures\":0,\"baths1qtr\":0,\"baths3qtr\":0,\"bathscalc\":1.0,\"bathsfull\":1,\"bathshalf\":0,\"bathstotal\":1.0,\"beds\":2,\"roomsTotal\":5},\"interior\":{\"bsmtsize\":480,\"bsmttype\":\"UNFINISHED\",\"fplccount\":1,\"fplcind\":\"Y\",\"fplctype\":\"YES\"},\"construction\":{\"condition\":\"AVERAGE\",\"wallType\":\"BRICK\"},\"parking\":{\"garagetype\":\"DETACHED GARAGE\",\"prkgSize\":240,\"prkgSpaces\":\"0\",\"prkgType\":\"GARAGE DETACHED\"},\"summary\":{\"bldgsNum\":0,\"bldgType\":\"TYPE UNKNOWN\",\"imprType\":\"RESIDENTIAL\",\"levels\":1,\"mobileHomeInd\":\" \",\"quality\":\"EXCELLENT\",\"storyDesc\":\"TYPE UNKNOWN\",\"unitsCount\":\"1\",\"yearbuilteffective\":0}},\"vintage\":{\"lastModified\":\"2019-5-22\",\"pubDate\":\"2019-5-23\"}}]}\n"
     ]
    }
   ],
   "source": [
    "#explore api options\n",
    "import http.client \n",
    "\n",
    "conn = http.client.HTTPSConnection(\"api.gateway.attomdata.com\") \n",
    "\n",
    "headers = { \n",
    "    'accept': \"application/json\", \n",
    "    'apikey': \"487ac4986deb86031b6d88f9505dfdc6\", \n",
    "} \n",
    "\n",
    "ids=\"18471319108031\"\n",
    "conn.request(\"GET\", \"/propertyapi/v1.0.0/property/detail?id=\"+ ids, headers=headers) \n",
    "\n",
    "res = conn.getresponse() \n",
    "data = res.read() \n",
    "\n",
    "data1=data.decode(\"utf-8\")\n",
    "print(data1)"
   ]
  },
  {
   "cell_type": "code",
   "execution_count": 35,
   "metadata": {},
   "outputs": [
    {
     "ename": "ModuleNotFoundError",
     "evalue": "No module named 'keras'",
     "output_type": "error",
     "traceback": [
      "\u001b[0;31m---------------------------------------------------------------------------\u001b[0m",
      "\u001b[0;31mModuleNotFoundError\u001b[0m                       Traceback (most recent call last)",
      "\u001b[0;32m<ipython-input-35-9b7f13b5bc6e>\u001b[0m in \u001b[0;36m<module>\u001b[0;34m()\u001b[0m\n\u001b[1;32m      1\u001b[0m \u001b[0;32mimport\u001b[0m \u001b[0mnumpy\u001b[0m\u001b[0;34m\u001b[0m\u001b[0m\n\u001b[1;32m      2\u001b[0m \u001b[0;32mimport\u001b[0m \u001b[0mpandas\u001b[0m\u001b[0;34m\u001b[0m\u001b[0m\n\u001b[0;32m----> 3\u001b[0;31m \u001b[0;32mfrom\u001b[0m \u001b[0mkeras\u001b[0m\u001b[0;34m.\u001b[0m\u001b[0mmodels\u001b[0m \u001b[0;32mimport\u001b[0m \u001b[0mSequential\u001b[0m\u001b[0;34m\u001b[0m\u001b[0m\n\u001b[0m\u001b[1;32m      4\u001b[0m \u001b[0;32mfrom\u001b[0m \u001b[0mkeras\u001b[0m\u001b[0;34m.\u001b[0m\u001b[0mlayers\u001b[0m \u001b[0;32mimport\u001b[0m \u001b[0mDense\u001b[0m\u001b[0;34m\u001b[0m\u001b[0m\n\u001b[1;32m      5\u001b[0m \u001b[0;32mfrom\u001b[0m \u001b[0mkeras\u001b[0m\u001b[0;34m.\u001b[0m\u001b[0mwrappers\u001b[0m\u001b[0;34m.\u001b[0m\u001b[0mscikit_learn\u001b[0m \u001b[0;32mimport\u001b[0m \u001b[0mKerasRegressor\u001b[0m\u001b[0;34m\u001b[0m\u001b[0m\n",
      "\u001b[0;31mModuleNotFoundError\u001b[0m: No module named 'keras'"
     ]
    }
   ],
   "source": [
    "import numpy\n",
    "import pandas\n",
    "from keras.models import Sequential\n",
    "from keras.layers import Dense\n",
    "from keras.wrappers.scikit_learn import KerasRegressor\n",
    "from sklearn.model_selection import cross_val_score\n",
    "from sklearn.model_selection import KFold\n",
    "from sklearn.preprocessing import StandardScaler\n",
    "from sklearn.pipeline import Pipeline"
   ]
  },
  {
   "cell_type": "code",
   "execution_count": null,
   "metadata": {},
   "outputs": [],
   "source": [
    "from tensorflow.keras.models import Sequential\n",
    "from tensorflow.keras.layers import Dense\n",
    "\n",
    "# define base model\n",
    "def baseline_model():\n",
    "    #create model\n",
    "    model = Sequential()\n",
    "    model.add(Dense(7, input_dim=7, kernel_initializer='normal', activation='relu'))\n",
    "    model.add(Dense(1, kernel_initializer='normal'))\n",
    "# Compile model\n",
    "    model.compile(loss='mean_squared_error', optimizer='adam', metrics=['accuracy'])\n",
    "    return model\n",
    "\n",
    "seed = 7\n",
    "numpy.random.seed(seed)\n",
    "estimator = KerasRegressor(build_fn=baseline_model, epochs=100, batch_size=5, verbose=2)"
   ]
  },
  {
   "cell_type": "code",
   "execution_count": null,
   "metadata": {},
   "outputs": [],
   "source": [
    "\n",
    "kfold = KFold(n_splits=10, random_state=seed)\n",
    "results = cross_val_score(estimator, X_train_scaled, y_train_scaled, cv=kfold)\n",
    "print(\"Results: %.2f (%.2f) MSE\" % (results.mean(), results.std()))"
   ]
  },
  {
   "cell_type": "code",
   "execution_count": null,
   "metadata": {},
   "outputs": [],
   "source": []
  }
 ],
 "metadata": {
  "kernelspec": {
   "display_name": "Python 3",
   "language": "python",
   "name": "python3"
  },
  "language_info": {
   "codemirror_mode": {
    "name": "ipython",
    "version": 3
   },
   "file_extension": ".py",
   "mimetype": "text/x-python",
   "name": "python",
   "nbconvert_exporter": "python",
   "pygments_lexer": "ipython3",
   "version": "3.6.5"
  }
 },
 "nbformat": 4,
 "nbformat_minor": 2
}
