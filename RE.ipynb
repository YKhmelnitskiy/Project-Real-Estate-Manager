{
 "cells": [
  {
   "cell_type": "code",
   "execution_count": 196,
   "metadata": {},
   "outputs": [],
   "source": [
    "import json\n",
    "import pandas as pd\n",
    "import os\n",
    "%matplotlib inline\n",
    "import matplotlib.pyplot as plt\n",
    "import numpy as np\n"
   ]
  },
  {
   "cell_type": "code",
   "execution_count": 289,
   "metadata": {},
   "outputs": [],
   "source": [
    "tp='cle_radius.csv'\n",
    "all_data=pd.read_csv(tp)\n",
    "df=all_data.drop(['identifier/fips', 'identifier/apn', 'identifier/apnOrig', 'vintage/lastModified', 'vintage/pubDate', 'summary/propIndicator', 'summary/proptype','location/geoid', 'identifier/attomId', 'sale/amount/salecode', 'sale/amount/saledisclosuretype', 'address/line1', 'address/line2', 'address/matchCode', 'address/countrySubd', 'address/postal2', 'address/postal3', 'location/accuracy', 'address/country', 'sale/amount/saledocnum', 'summary/propLandUse', 'sale/salesearchdate', 'sale/saleTransDate', 'location/elevation' ], axis=1)\n",
    "df.dtypes\n",
    "df2=df.merge(income2, how='inner', on= 'address/postal1')"
   ]
  },
  {
   "cell_type": "code",
   "execution_count": 301,
   "metadata": {},
   "outputs": [
    {
     "data": {
      "text/html": [
       "<div>\n",
       "<style scoped>\n",
       "    .dataframe tbody tr th:only-of-type {\n",
       "        vertical-align: middle;\n",
       "    }\n",
       "\n",
       "    .dataframe tbody tr th {\n",
       "        vertical-align: top;\n",
       "    }\n",
       "\n",
       "    .dataframe thead th {\n",
       "        text-align: right;\n",
       "    }\n",
       "</style>\n",
       "<table border=\"1\" class=\"dataframe\">\n",
       "  <thead>\n",
       "    <tr style=\"text-align: right;\">\n",
       "      <th></th>\n",
       "      <th>address/postal1</th>\n",
       "      <th>med/housing</th>\n",
       "    </tr>\n",
       "  </thead>\n",
       "  <tbody>\n",
       "    <tr>\n",
       "      <th>1</th>\n",
       "      <td>16159</td>\n",
       "      <td>125900</td>\n",
       "    </tr>\n",
       "    <tr>\n",
       "      <th>2</th>\n",
       "      <td>43001</td>\n",
       "      <td>195200</td>\n",
       "    </tr>\n",
       "    <tr>\n",
       "      <th>3</th>\n",
       "      <td>43002</td>\n",
       "      <td>152500</td>\n",
       "    </tr>\n",
       "    <tr>\n",
       "      <th>4</th>\n",
       "      <td>43003</td>\n",
       "      <td>140400</td>\n",
       "    </tr>\n",
       "    <tr>\n",
       "      <th>5</th>\n",
       "      <td>43004</td>\n",
       "      <td>168400</td>\n",
       "    </tr>\n",
       "    <tr>\n",
       "      <th>7</th>\n",
       "      <td>43006</td>\n",
       "      <td>99000</td>\n",
       "    </tr>\n",
       "    <tr>\n",
       "      <th>8</th>\n",
       "      <td>43008</td>\n",
       "      <td>98600</td>\n",
       "    </tr>\n",
       "    <tr>\n",
       "      <th>9</th>\n",
       "      <td>43009</td>\n",
       "      <td>190200</td>\n",
       "    </tr>\n",
       "    <tr>\n",
       "      <th>10</th>\n",
       "      <td>43010</td>\n",
       "      <td>86800</td>\n",
       "    </tr>\n",
       "    <tr>\n",
       "      <th>11</th>\n",
       "      <td>43011</td>\n",
       "      <td>183600</td>\n",
       "    </tr>\n",
       "    <tr>\n",
       "      <th>12</th>\n",
       "      <td>43013</td>\n",
       "      <td>153200</td>\n",
       "    </tr>\n",
       "    <tr>\n",
       "      <th>13</th>\n",
       "      <td>43014</td>\n",
       "      <td>142200</td>\n",
       "    </tr>\n",
       "    <tr>\n",
       "      <th>14</th>\n",
       "      <td>43015</td>\n",
       "      <td>188700</td>\n",
       "    </tr>\n",
       "    <tr>\n",
       "      <th>15</th>\n",
       "      <td>43016</td>\n",
       "      <td>268500</td>\n",
       "    </tr>\n",
       "    <tr>\n",
       "      <th>16</th>\n",
       "      <td>43017</td>\n",
       "      <td>332400</td>\n",
       "    </tr>\n",
       "    <tr>\n",
       "      <th>17</th>\n",
       "      <td>43019</td>\n",
       "      <td>134500</td>\n",
       "    </tr>\n",
       "    <tr>\n",
       "      <th>18</th>\n",
       "      <td>43021</td>\n",
       "      <td>360100</td>\n",
       "    </tr>\n",
       "    <tr>\n",
       "      <th>19</th>\n",
       "      <td>43022</td>\n",
       "      <td>208400</td>\n",
       "    </tr>\n",
       "    <tr>\n",
       "      <th>20</th>\n",
       "      <td>43023</td>\n",
       "      <td>278100</td>\n",
       "    </tr>\n",
       "    <tr>\n",
       "      <th>21</th>\n",
       "      <td>43025</td>\n",
       "      <td>164400</td>\n",
       "    </tr>\n",
       "    <tr>\n",
       "      <th>22</th>\n",
       "      <td>43026</td>\n",
       "      <td>195300</td>\n",
       "    </tr>\n",
       "    <tr>\n",
       "      <th>23</th>\n",
       "      <td>43028</td>\n",
       "      <td>141900</td>\n",
       "    </tr>\n",
       "    <tr>\n",
       "      <th>24</th>\n",
       "      <td>43029</td>\n",
       "      <td>161700</td>\n",
       "    </tr>\n",
       "    <tr>\n",
       "      <th>26</th>\n",
       "      <td>43031</td>\n",
       "      <td>193100</td>\n",
       "    </tr>\n",
       "    <tr>\n",
       "      <th>28</th>\n",
       "      <td>43033</td>\n",
       "      <td>100000</td>\n",
       "    </tr>\n",
       "    <tr>\n",
       "      <th>29</th>\n",
       "      <td>43035</td>\n",
       "      <td>289500</td>\n",
       "    </tr>\n",
       "    <tr>\n",
       "      <th>30</th>\n",
       "      <td>43036</td>\n",
       "      <td>82500</td>\n",
       "    </tr>\n",
       "    <tr>\n",
       "      <th>31</th>\n",
       "      <td>43037</td>\n",
       "      <td>75000</td>\n",
       "    </tr>\n",
       "    <tr>\n",
       "      <th>32</th>\n",
       "      <td>43040</td>\n",
       "      <td>183600</td>\n",
       "    </tr>\n",
       "    <tr>\n",
       "      <th>33</th>\n",
       "      <td>43044</td>\n",
       "      <td>126600</td>\n",
       "    </tr>\n",
       "    <tr>\n",
       "      <th>...</th>\n",
       "      <td>...</td>\n",
       "      <td>...</td>\n",
       "    </tr>\n",
       "    <tr>\n",
       "      <th>1167</th>\n",
       "      <td>45865</td>\n",
       "      <td>168000</td>\n",
       "    </tr>\n",
       "    <tr>\n",
       "      <th>1168</th>\n",
       "      <td>45866</td>\n",
       "      <td>85000</td>\n",
       "    </tr>\n",
       "    <tr>\n",
       "      <th>1169</th>\n",
       "      <td>45867</td>\n",
       "      <td>118800</td>\n",
       "    </tr>\n",
       "    <tr>\n",
       "      <th>1170</th>\n",
       "      <td>45868</td>\n",
       "      <td>143200</td>\n",
       "    </tr>\n",
       "    <tr>\n",
       "      <th>1171</th>\n",
       "      <td>45869</td>\n",
       "      <td>169800</td>\n",
       "    </tr>\n",
       "    <tr>\n",
       "      <th>1172</th>\n",
       "      <td>45870</td>\n",
       "      <td>91700</td>\n",
       "    </tr>\n",
       "    <tr>\n",
       "      <th>1173</th>\n",
       "      <td>45871</td>\n",
       "      <td>150700</td>\n",
       "    </tr>\n",
       "    <tr>\n",
       "      <th>1174</th>\n",
       "      <td>45872</td>\n",
       "      <td>88100</td>\n",
       "    </tr>\n",
       "    <tr>\n",
       "      <th>1175</th>\n",
       "      <td>45873</td>\n",
       "      <td>82200</td>\n",
       "    </tr>\n",
       "    <tr>\n",
       "      <th>1176</th>\n",
       "      <td>45874</td>\n",
       "      <td>76600</td>\n",
       "    </tr>\n",
       "    <tr>\n",
       "      <th>1177</th>\n",
       "      <td>45875</td>\n",
       "      <td>169100</td>\n",
       "    </tr>\n",
       "    <tr>\n",
       "      <th>1178</th>\n",
       "      <td>45876</td>\n",
       "      <td>152400</td>\n",
       "    </tr>\n",
       "    <tr>\n",
       "      <th>1179</th>\n",
       "      <td>45877</td>\n",
       "      <td>134400</td>\n",
       "    </tr>\n",
       "    <tr>\n",
       "      <th>1180</th>\n",
       "      <td>45879</td>\n",
       "      <td>89300</td>\n",
       "    </tr>\n",
       "    <tr>\n",
       "      <th>1181</th>\n",
       "      <td>45880</td>\n",
       "      <td>84600</td>\n",
       "    </tr>\n",
       "    <tr>\n",
       "      <th>1182</th>\n",
       "      <td>45881</td>\n",
       "      <td>153700</td>\n",
       "    </tr>\n",
       "    <tr>\n",
       "      <th>1183</th>\n",
       "      <td>45882</td>\n",
       "      <td>106000</td>\n",
       "    </tr>\n",
       "    <tr>\n",
       "      <th>1184</th>\n",
       "      <td>45883</td>\n",
       "      <td>198500</td>\n",
       "    </tr>\n",
       "    <tr>\n",
       "      <th>1186</th>\n",
       "      <td>45885</td>\n",
       "      <td>135600</td>\n",
       "    </tr>\n",
       "    <tr>\n",
       "      <th>1187</th>\n",
       "      <td>45886</td>\n",
       "      <td>64500</td>\n",
       "    </tr>\n",
       "    <tr>\n",
       "      <th>1188</th>\n",
       "      <td>45887</td>\n",
       "      <td>104500</td>\n",
       "    </tr>\n",
       "    <tr>\n",
       "      <th>1189</th>\n",
       "      <td>45888</td>\n",
       "      <td>83200</td>\n",
       "    </tr>\n",
       "    <tr>\n",
       "      <th>1190</th>\n",
       "      <td>45889</td>\n",
       "      <td>167400</td>\n",
       "    </tr>\n",
       "    <tr>\n",
       "      <th>1191</th>\n",
       "      <td>45890</td>\n",
       "      <td>93600</td>\n",
       "    </tr>\n",
       "    <tr>\n",
       "      <th>1192</th>\n",
       "      <td>45891</td>\n",
       "      <td>103500</td>\n",
       "    </tr>\n",
       "    <tr>\n",
       "      <th>1193</th>\n",
       "      <td>45894</td>\n",
       "      <td>89500</td>\n",
       "    </tr>\n",
       "    <tr>\n",
       "      <th>1194</th>\n",
       "      <td>45895</td>\n",
       "      <td>131100</td>\n",
       "    </tr>\n",
       "    <tr>\n",
       "      <th>1195</th>\n",
       "      <td>45896</td>\n",
       "      <td>119400</td>\n",
       "    </tr>\n",
       "    <tr>\n",
       "      <th>1197</th>\n",
       "      <td>45898</td>\n",
       "      <td>77200</td>\n",
       "    </tr>\n",
       "    <tr>\n",
       "      <th>1198</th>\n",
       "      <td>45899</td>\n",
       "      <td>56300</td>\n",
       "    </tr>\n",
       "  </tbody>\n",
       "</table>\n",
       "<p>1125 rows × 2 columns</p>\n",
       "</div>"
      ],
      "text/plain": [
       "      address/postal1  med/housing\n",
       "1               16159       125900\n",
       "2               43001       195200\n",
       "3               43002       152500\n",
       "4               43003       140400\n",
       "5               43004       168400\n",
       "7               43006        99000\n",
       "8               43008        98600\n",
       "9               43009       190200\n",
       "10              43010        86800\n",
       "11              43011       183600\n",
       "12              43013       153200\n",
       "13              43014       142200\n",
       "14              43015       188700\n",
       "15              43016       268500\n",
       "16              43017       332400\n",
       "17              43019       134500\n",
       "18              43021       360100\n",
       "19              43022       208400\n",
       "20              43023       278100\n",
       "21              43025       164400\n",
       "22              43026       195300\n",
       "23              43028       141900\n",
       "24              43029       161700\n",
       "26              43031       193100\n",
       "28              43033       100000\n",
       "29              43035       289500\n",
       "30              43036        82500\n",
       "31              43037        75000\n",
       "32              43040       183600\n",
       "33              43044       126600\n",
       "...               ...          ...\n",
       "1167            45865       168000\n",
       "1168            45866        85000\n",
       "1169            45867       118800\n",
       "1170            45868       143200\n",
       "1171            45869       169800\n",
       "1172            45870        91700\n",
       "1173            45871       150700\n",
       "1174            45872        88100\n",
       "1175            45873        82200\n",
       "1176            45874        76600\n",
       "1177            45875       169100\n",
       "1178            45876       152400\n",
       "1179            45877       134400\n",
       "1180            45879        89300\n",
       "1181            45880        84600\n",
       "1182            45881       153700\n",
       "1183            45882       106000\n",
       "1184            45883       198500\n",
       "1186            45885       135600\n",
       "1187            45886        64500\n",
       "1188            45887       104500\n",
       "1189            45888        83200\n",
       "1190            45889       167400\n",
       "1191            45890        93600\n",
       "1192            45891       103500\n",
       "1193            45894        89500\n",
       "1194            45895       131100\n",
       "1195            45896       119400\n",
       "1197            45898        77200\n",
       "1198            45899        56300\n",
       "\n",
       "[1125 rows x 2 columns]"
      ]
     },
     "execution_count": 301,
     "metadata": {},
     "output_type": "execute_result"
    }
   ],
   "source": [
    "house=pd.read_csv('house.csv', dtype={'name': int, 'med/housing':int })\n",
    "house1=house.drop(['geoid', 'B25077001, Error'], axis=1)\n",
    "house2=house1.rename(columns={'name': 'address/postal1'})\n",
    "houses=house2.iloc[1:]\n",
    "houses2=houses.loc[houses[\"med/housing\"] > 1, :]\n",
    "houses2"
   ]
  },
  {
   "cell_type": "code",
   "execution_count": 296,
   "metadata": {},
   "outputs": [],
   "source": [
    "food_stamp=pd.read_csv('fs.csv', dtype={'PA/FS': int, 'NO_PA/FS':int, 'address/postal1':int})\n",
    "fs=food_stamp.drop(['geoid', 'B19058001, Error', 'B19058002, Error', 'B19058003, Error'], axis=1)\n",
    "fs['perc_fs']=(fs['PA/FS']/fs['B19058001'])*100\n",
    "fs1=fs.drop(['B19058001'], axis=1)\n",
    "fs2=fs1.iloc[1:]\n"
   ]
  },
  {
   "cell_type": "code",
   "execution_count": 199,
   "metadata": {},
   "outputs": [],
   "source": [
    "med_inc2=pd.read_csv('medianincome.csv', dtype={'zipcode': int, 'median':int})\n",
    "med_inc=med_inc2.rename(columns={'zipcode': 'address/postal1', 'median': 'median_income'})\n",
    "income=med_inc.drop(['geoid', 'B19013001, Error'], axis=1)\n",
    "income2 = income.iloc[1:]\n"
   ]
  },
  {
   "cell_type": "code",
   "execution_count": 300,
   "metadata": {},
   "outputs": [],
   "source": [
    "df_res= df.loc[df[\"summary/propclass\"] == \"Single Family Residence / Townhouse\", :]\n",
    "b=df_res['address/postal1'].unique()\n",
    "dataframe2=pd.DataFrame(b, columns=['zip'])\n"
   ]
  },
  {
   "cell_type": "code",
   "execution_count": 201,
   "metadata": {},
   "outputs": [],
   "source": [
    "e=df_res['address/locality'].unique()\n",
    "dataframle=pd.DataFrame(e, columns=['a'])\n",
    "dataframe.to_csv(\"crime2.csv\")"
   ]
  },
  {
   "cell_type": "code",
   "execution_count": 202,
   "metadata": {},
   "outputs": [],
   "source": [
    "df_r=pd.read_csv('desc_df2.csv')\n"
   ]
  },
  {
   "cell_type": "code",
   "execution_count": 203,
   "metadata": {},
   "outputs": [],
   "source": [
    "df_r['identifier/obPropId'].astype(str)\n",
    "ids=df_r['identifier/obPropId'].tolist()\n"
   ]
  },
  {
   "cell_type": "code",
   "execution_count": 204,
   "metadata": {},
   "outputs": [],
   "source": [
    "desc_df6=desc_df5.merge(income2, how='inner', on= 'address/postal1')"
   ]
  },
  {
   "cell_type": "code",
   "execution_count": 246,
   "metadata": {},
   "outputs": [],
   "source": [
    "desc_df7=desc_df6.loc[desc_df6[\"median_income\"] > 1, :]"
   ]
  },
  {
   "cell_type": "code",
   "execution_count": 302,
   "metadata": {},
   "outputs": [],
   "source": [
    "desc_df10=desc_df9.merge(houses2, how='inner', on='address/postal1')"
   ]
  },
  {
   "cell_type": "code",
   "execution_count": 248,
   "metadata": {},
   "outputs": [
    {
     "data": {
      "text/html": [
       "<div>\n",
       "<style scoped>\n",
       "    .dataframe tbody tr th:only-of-type {\n",
       "        vertical-align: middle;\n",
       "    }\n",
       "\n",
       "    .dataframe tbody tr th {\n",
       "        vertical-align: top;\n",
       "    }\n",
       "\n",
       "    .dataframe thead th {\n",
       "        text-align: right;\n",
       "    }\n",
       "</style>\n",
       "<table border=\"1\" class=\"dataframe\">\n",
       "  <thead>\n",
       "    <tr style=\"text-align: right;\">\n",
       "      <th></th>\n",
       "      <th>identifier/obPropId</th>\n",
       "      <th>LotSizeAcres</th>\n",
       "      <th>address/locality</th>\n",
       "      <th>address/oneLine</th>\n",
       "      <th>address/postal1</th>\n",
       "      <th>location/latitude</th>\n",
       "      <th>location/longitude</th>\n",
       "      <th>location/distance</th>\n",
       "      <th>summary/propclass</th>\n",
       "      <th>summary/propsubtype</th>\n",
       "      <th>...</th>\n",
       "      <th>building/rooms/beds</th>\n",
       "      <th>sale/amount/saleamt</th>\n",
       "      <th>sale/amount/salerecdate</th>\n",
       "      <th>sale/amount/saletranstype</th>\n",
       "      <th>sale/calculation/priceperbed</th>\n",
       "      <th>sale/calculation/pricepersizeunit</th>\n",
       "      <th>median_income</th>\n",
       "      <th>PA/FS</th>\n",
       "      <th>NO_PA/FS</th>\n",
       "      <th>perc_fs</th>\n",
       "    </tr>\n",
       "  </thead>\n",
       "  <tbody>\n",
       "    <tr>\n",
       "      <th>0</th>\n",
       "      <td>1.828800e+13</td>\n",
       "      <td>0.2251</td>\n",
       "      <td>Medina</td>\n",
       "      <td>4300 BUTTERFLY CIR, MEDINA, OH 44256</td>\n",
       "      <td>44256</td>\n",
       "      <td>41.202632</td>\n",
       "      <td>-81.840360</td>\n",
       "      <td>16.44</td>\n",
       "      <td>Single Family Residence / Townhouse</td>\n",
       "      <td>HOUSE</td>\n",
       "      <td>...</td>\n",
       "      <td>3</td>\n",
       "      <td>205000</td>\n",
       "      <td>2019-05-17</td>\n",
       "      <td>Resale</td>\n",
       "      <td>68333</td>\n",
       "      <td>146</td>\n",
       "      <td>76741</td>\n",
       "      <td>1577</td>\n",
       "      <td>22136</td>\n",
       "      <td>6.650361</td>\n",
       "    </tr>\n",
       "    <tr>\n",
       "      <th>1</th>\n",
       "      <td>1.827620e+13</td>\n",
       "      <td>0.7800</td>\n",
       "      <td>Medina</td>\n",
       "      <td>500 MEDINA RD, MEDINA, OH 44256</td>\n",
       "      <td>44256</td>\n",
       "      <td>41.135813</td>\n",
       "      <td>-81.702880</td>\n",
       "      <td>22.41</td>\n",
       "      <td>Single Family Residence / Townhouse</td>\n",
       "      <td>HOUSE</td>\n",
       "      <td>...</td>\n",
       "      <td>2</td>\n",
       "      <td>119000</td>\n",
       "      <td>2019-05-15</td>\n",
       "      <td>Resale</td>\n",
       "      <td>59500</td>\n",
       "      <td>101</td>\n",
       "      <td>76741</td>\n",
       "      <td>1577</td>\n",
       "      <td>22136</td>\n",
       "      <td>6.650361</td>\n",
       "    </tr>\n",
       "    <tr>\n",
       "      <th>2</th>\n",
       "      <td>2.310600e+12</td>\n",
       "      <td>0.1417</td>\n",
       "      <td>Medina</td>\n",
       "      <td>408 E NORTH ST, MEDINA, OH 44256</td>\n",
       "      <td>44256</td>\n",
       "      <td>41.141974</td>\n",
       "      <td>-81.858376</td>\n",
       "      <td>20.62</td>\n",
       "      <td>Single Family Residence / Townhouse</td>\n",
       "      <td>HOUSE</td>\n",
       "      <td>...</td>\n",
       "      <td>3</td>\n",
       "      <td>112000</td>\n",
       "      <td>2019-05-06</td>\n",
       "      <td>Resale</td>\n",
       "      <td>37333</td>\n",
       "      <td>95</td>\n",
       "      <td>76741</td>\n",
       "      <td>1577</td>\n",
       "      <td>22136</td>\n",
       "      <td>6.650361</td>\n",
       "    </tr>\n",
       "    <tr>\n",
       "      <th>3</th>\n",
       "      <td>1.833000e+13</td>\n",
       "      <td>4.0200</td>\n",
       "      <td>Medina</td>\n",
       "      <td>2244 GRANGER RD, MEDINA, OH 44256</td>\n",
       "      <td>44256</td>\n",
       "      <td>41.155527</td>\n",
       "      <td>-81.759781</td>\n",
       "      <td>20.24</td>\n",
       "      <td>Single Family Residence / Townhouse</td>\n",
       "      <td>HOUSE</td>\n",
       "      <td>...</td>\n",
       "      <td>4</td>\n",
       "      <td>235000</td>\n",
       "      <td>2018-12-17</td>\n",
       "      <td>Resale</td>\n",
       "      <td>58750</td>\n",
       "      <td>116</td>\n",
       "      <td>76741</td>\n",
       "      <td>1577</td>\n",
       "      <td>22136</td>\n",
       "      <td>6.650361</td>\n",
       "    </tr>\n",
       "    <tr>\n",
       "      <th>4</th>\n",
       "      <td>1.834480e+13</td>\n",
       "      <td>10.3800</td>\n",
       "      <td>Medina</td>\n",
       "      <td>3467 RIDGE RD, MEDINA, OH 44256</td>\n",
       "      <td>44256</td>\n",
       "      <td>41.181611</td>\n",
       "      <td>-81.741742</td>\n",
       "      <td>18.76</td>\n",
       "      <td>Single Family Residence / Townhouse</td>\n",
       "      <td>HOUSE</td>\n",
       "      <td>...</td>\n",
       "      <td>4</td>\n",
       "      <td>434000</td>\n",
       "      <td>2018-12-14</td>\n",
       "      <td>Resale</td>\n",
       "      <td>108500</td>\n",
       "      <td>82</td>\n",
       "      <td>76741</td>\n",
       "      <td>1577</td>\n",
       "      <td>22136</td>\n",
       "      <td>6.650361</td>\n",
       "    </tr>\n",
       "    <tr>\n",
       "      <th>5</th>\n",
       "      <td>1.832960e+13</td>\n",
       "      <td>0.3100</td>\n",
       "      <td>Medina</td>\n",
       "      <td>3922 BOXELDER DR, MEDINA, OH 44256</td>\n",
       "      <td>44256</td>\n",
       "      <td>41.169614</td>\n",
       "      <td>-81.874662</td>\n",
       "      <td>18.75</td>\n",
       "      <td>Single Family Residence / Townhouse</td>\n",
       "      <td>HOUSE</td>\n",
       "      <td>...</td>\n",
       "      <td>3</td>\n",
       "      <td>222500</td>\n",
       "      <td>2018-12-03</td>\n",
       "      <td>Resale</td>\n",
       "      <td>74167</td>\n",
       "      <td>121</td>\n",
       "      <td>76741</td>\n",
       "      <td>1577</td>\n",
       "      <td>22136</td>\n",
       "      <td>6.650361</td>\n",
       "    </tr>\n",
       "    <tr>\n",
       "      <th>6</th>\n",
       "      <td>2.459690e+12</td>\n",
       "      <td>0.2397</td>\n",
       "      <td>Medina</td>\n",
       "      <td>454 W PARK BLVD, MEDINA, OH 44256</td>\n",
       "      <td>44256</td>\n",
       "      <td>41.128303</td>\n",
       "      <td>-81.871823</td>\n",
       "      <td>21.59</td>\n",
       "      <td>Single Family Residence / Townhouse</td>\n",
       "      <td>HOUSE</td>\n",
       "      <td>...</td>\n",
       "      <td>3</td>\n",
       "      <td>125900</td>\n",
       "      <td>2018-11-16</td>\n",
       "      <td>Resale</td>\n",
       "      <td>41967</td>\n",
       "      <td>154</td>\n",
       "      <td>76741</td>\n",
       "      <td>1577</td>\n",
       "      <td>22136</td>\n",
       "      <td>6.650361</td>\n",
       "    </tr>\n",
       "    <tr>\n",
       "      <th>7</th>\n",
       "      <td>4.586090e+12</td>\n",
       "      <td>0.1600</td>\n",
       "      <td>Medina</td>\n",
       "      <td>364 ABBEYVILLE RD, MEDINA, OH 44256</td>\n",
       "      <td>44256</td>\n",
       "      <td>41.144264</td>\n",
       "      <td>-81.892763</td>\n",
       "      <td>20.57</td>\n",
       "      <td>Single Family Residence / Townhouse</td>\n",
       "      <td>HOUSE</td>\n",
       "      <td>...</td>\n",
       "      <td>3</td>\n",
       "      <td>162500</td>\n",
       "      <td>2018-11-15</td>\n",
       "      <td>Resale</td>\n",
       "      <td>54167</td>\n",
       "      <td>111</td>\n",
       "      <td>76741</td>\n",
       "      <td>1577</td>\n",
       "      <td>22136</td>\n",
       "      <td>6.650361</td>\n",
       "    </tr>\n",
       "    <tr>\n",
       "      <th>8</th>\n",
       "      <td>1.833010e+13</td>\n",
       "      <td>0.3753</td>\n",
       "      <td>Medina</td>\n",
       "      <td>1035 BURNTWOOD DR, MEDINA, OH 44256</td>\n",
       "      <td>44256</td>\n",
       "      <td>41.133857</td>\n",
       "      <td>-81.839452</td>\n",
       "      <td>21.18</td>\n",
       "      <td>Single Family Residence / Townhouse</td>\n",
       "      <td>HOUSE</td>\n",
       "      <td>...</td>\n",
       "      <td>3</td>\n",
       "      <td>174000</td>\n",
       "      <td>2018-08-17</td>\n",
       "      <td>Resale</td>\n",
       "      <td>58000</td>\n",
       "      <td>153</td>\n",
       "      <td>76741</td>\n",
       "      <td>1577</td>\n",
       "      <td>22136</td>\n",
       "      <td>6.650361</td>\n",
       "    </tr>\n",
       "    <tr>\n",
       "      <th>9</th>\n",
       "      <td>1.833110e+13</td>\n",
       "      <td>1.0000</td>\n",
       "      <td>Medina</td>\n",
       "      <td>7176 CHIPPEWA RD, MEDINA, OH 44256</td>\n",
       "      <td>44256</td>\n",
       "      <td>41.075157</td>\n",
       "      <td>-81.941665</td>\n",
       "      <td>25.67</td>\n",
       "      <td>Single Family Residence / Townhouse</td>\n",
       "      <td>HOUSE</td>\n",
       "      <td>...</td>\n",
       "      <td>3</td>\n",
       "      <td>159900</td>\n",
       "      <td>2018-08-15</td>\n",
       "      <td>Resale</td>\n",
       "      <td>53300</td>\n",
       "      <td>121</td>\n",
       "      <td>76741</td>\n",
       "      <td>1577</td>\n",
       "      <td>22136</td>\n",
       "      <td>6.650361</td>\n",
       "    </tr>\n",
       "    <tr>\n",
       "      <th>10</th>\n",
       "      <td>1.492680e+13</td>\n",
       "      <td>1.0000</td>\n",
       "      <td>Medina</td>\n",
       "      <td>4449 ERHART RD, MEDINA, OH 44256</td>\n",
       "      <td>44256</td>\n",
       "      <td>41.152373</td>\n",
       "      <td>-81.974847</td>\n",
       "      <td>20.92</td>\n",
       "      <td>Single Family Residence / Townhouse</td>\n",
       "      <td>HOUSE</td>\n",
       "      <td>...</td>\n",
       "      <td>3</td>\n",
       "      <td>90000</td>\n",
       "      <td>2018-08-06</td>\n",
       "      <td>Resale</td>\n",
       "      <td>30000</td>\n",
       "      <td>79</td>\n",
       "      <td>76741</td>\n",
       "      <td>1577</td>\n",
       "      <td>22136</td>\n",
       "      <td>6.650361</td>\n",
       "    </tr>\n",
       "    <tr>\n",
       "      <th>11</th>\n",
       "      <td>1.833060e+13</td>\n",
       "      <td>1.0000</td>\n",
       "      <td>Medina</td>\n",
       "      <td>3979 SHARON COPLEY RD, MEDINA, OH 44256</td>\n",
       "      <td>44256</td>\n",
       "      <td>41.106905</td>\n",
       "      <td>-81.834509</td>\n",
       "      <td>23.05</td>\n",
       "      <td>Single Family Residence / Townhouse</td>\n",
       "      <td>HOUSE</td>\n",
       "      <td>...</td>\n",
       "      <td>3</td>\n",
       "      <td>365000</td>\n",
       "      <td>2018-07-19</td>\n",
       "      <td>Resale</td>\n",
       "      <td>121667</td>\n",
       "      <td>79</td>\n",
       "      <td>76741</td>\n",
       "      <td>1577</td>\n",
       "      <td>22136</td>\n",
       "      <td>6.650361</td>\n",
       "    </tr>\n",
       "    <tr>\n",
       "      <th>12</th>\n",
       "      <td>1.469010e+13</td>\n",
       "      <td>0.2984</td>\n",
       "      <td>Medina</td>\n",
       "      <td>227 GRANT ST, MEDINA, OH 44256</td>\n",
       "      <td>44256</td>\n",
       "      <td>41.131397</td>\n",
       "      <td>-81.861473</td>\n",
       "      <td>21.35</td>\n",
       "      <td>Single Family Residence / Townhouse</td>\n",
       "      <td>HOUSE</td>\n",
       "      <td>...</td>\n",
       "      <td>3</td>\n",
       "      <td>127500</td>\n",
       "      <td>2018-06-25</td>\n",
       "      <td>Resale</td>\n",
       "      <td>42500</td>\n",
       "      <td>100</td>\n",
       "      <td>76741</td>\n",
       "      <td>1577</td>\n",
       "      <td>22136</td>\n",
       "      <td>6.650361</td>\n",
       "    </tr>\n",
       "    <tr>\n",
       "      <th>13</th>\n",
       "      <td>2.505670e+12</td>\n",
       "      <td>0.7100</td>\n",
       "      <td>Medina</td>\n",
       "      <td>4405 LAKEVIEW GLEN DR, MEDINA, OH 44256</td>\n",
       "      <td>44256</td>\n",
       "      <td>41.102768</td>\n",
       "      <td>-81.846885</td>\n",
       "      <td>23.32</td>\n",
       "      <td>Single Family Residence / Townhouse</td>\n",
       "      <td>HOUSE</td>\n",
       "      <td>...</td>\n",
       "      <td>3</td>\n",
       "      <td>445000</td>\n",
       "      <td>2018-06-22</td>\n",
       "      <td>Resale</td>\n",
       "      <td>148333</td>\n",
       "      <td>142</td>\n",
       "      <td>76741</td>\n",
       "      <td>1577</td>\n",
       "      <td>22136</td>\n",
       "      <td>6.650361</td>\n",
       "    </tr>\n",
       "    <tr>\n",
       "      <th>14</th>\n",
       "      <td>1.400400e+13</td>\n",
       "      <td>1.4900</td>\n",
       "      <td>Medina</td>\n",
       "      <td>4117 E SMITH RD, MEDINA, OH 44256</td>\n",
       "      <td>44256</td>\n",
       "      <td>41.129754</td>\n",
       "      <td>-81.835176</td>\n",
       "      <td>21.47</td>\n",
       "      <td>Single Family Residence / Townhouse</td>\n",
       "      <td>HOUSE</td>\n",
       "      <td>...</td>\n",
       "      <td>3</td>\n",
       "      <td>20000</td>\n",
       "      <td>2018-06-22</td>\n",
       "      <td>Resale</td>\n",
       "      <td>6667</td>\n",
       "      <td>16</td>\n",
       "      <td>76741</td>\n",
       "      <td>1577</td>\n",
       "      <td>22136</td>\n",
       "      <td>6.650361</td>\n",
       "    </tr>\n",
       "    <tr>\n",
       "      <th>15</th>\n",
       "      <td>1.832970e+13</td>\n",
       "      <td>0.5845</td>\n",
       "      <td>Medina</td>\n",
       "      <td>168 KOONS AVE, MEDINA, OH 44256</td>\n",
       "      <td>44256</td>\n",
       "      <td>41.124658</td>\n",
       "      <td>-81.867365</td>\n",
       "      <td>21.83</td>\n",
       "      <td>Single Family Residence / Townhouse</td>\n",
       "      <td>HOUSE</td>\n",
       "      <td>...</td>\n",
       "      <td>3</td>\n",
       "      <td>180000</td>\n",
       "      <td>2018-05-29</td>\n",
       "      <td>Resale</td>\n",
       "      <td>60000</td>\n",
       "      <td>134</td>\n",
       "      <td>76741</td>\n",
       "      <td>1577</td>\n",
       "      <td>22136</td>\n",
       "      <td>6.650361</td>\n",
       "    </tr>\n",
       "    <tr>\n",
       "      <th>16</th>\n",
       "      <td>1.539120e+13</td>\n",
       "      <td>0.5484</td>\n",
       "      <td>Medina</td>\n",
       "      <td>6734 DEER TAIL DR, MEDINA, OH 44256</td>\n",
       "      <td>44256</td>\n",
       "      <td>41.090658</td>\n",
       "      <td>-81.844605</td>\n",
       "      <td>24.16</td>\n",
       "      <td>Single Family Residence / Townhouse</td>\n",
       "      <td>HOUSE</td>\n",
       "      <td>...</td>\n",
       "      <td>3</td>\n",
       "      <td>424900</td>\n",
       "      <td>2018-05-24</td>\n",
       "      <td>New Construction</td>\n",
       "      <td>0</td>\n",
       "      <td>0</td>\n",
       "      <td>76741</td>\n",
       "      <td>1577</td>\n",
       "      <td>22136</td>\n",
       "      <td>6.650361</td>\n",
       "    </tr>\n",
       "    <tr>\n",
       "      <th>17</th>\n",
       "      <td>5.427190e+12</td>\n",
       "      <td>2.2400</td>\n",
       "      <td>Medina</td>\n",
       "      <td>4930 FOX HAVEN DR, MEDINA, OH 44256</td>\n",
       "      <td>44256</td>\n",
       "      <td>41.210413</td>\n",
       "      <td>-81.862524</td>\n",
       "      <td>15.90</td>\n",
       "      <td>Single Family Residence / Townhouse</td>\n",
       "      <td>HOUSE</td>\n",
       "      <td>...</td>\n",
       "      <td>4</td>\n",
       "      <td>347000</td>\n",
       "      <td>2018-05-08</td>\n",
       "      <td>Resale</td>\n",
       "      <td>86750</td>\n",
       "      <td>224</td>\n",
       "      <td>76741</td>\n",
       "      <td>1577</td>\n",
       "      <td>22136</td>\n",
       "      <td>6.650361</td>\n",
       "    </tr>\n",
       "    <tr>\n",
       "      <th>18</th>\n",
       "      <td>3.210760e+11</td>\n",
       "      <td>1.5500</td>\n",
       "      <td>Medina</td>\n",
       "      <td>6179 LANCE RD, MEDINA, OH 44256</td>\n",
       "      <td>44256</td>\n",
       "      <td>41.104947</td>\n",
       "      <td>-81.949308</td>\n",
       "      <td>23.73</td>\n",
       "      <td>Single Family Residence / Townhouse</td>\n",
       "      <td>HOUSE</td>\n",
       "      <td>...</td>\n",
       "      <td>4</td>\n",
       "      <td>230000</td>\n",
       "      <td>2018-05-07</td>\n",
       "      <td>Resale</td>\n",
       "      <td>57500</td>\n",
       "      <td>116</td>\n",
       "      <td>76741</td>\n",
       "      <td>1577</td>\n",
       "      <td>22136</td>\n",
       "      <td>6.650361</td>\n",
       "    </tr>\n",
       "    <tr>\n",
       "      <th>19</th>\n",
       "      <td>2.379530e+12</td>\n",
       "      <td>0.1607</td>\n",
       "      <td>Medina</td>\n",
       "      <td>903 WATERLOO LN, MEDINA, OH 44256</td>\n",
       "      <td>44256</td>\n",
       "      <td>41.143814</td>\n",
       "      <td>-81.886658</td>\n",
       "      <td>20.57</td>\n",
       "      <td>Single Family Residence / Townhouse</td>\n",
       "      <td>HOUSE</td>\n",
       "      <td>...</td>\n",
       "      <td>3</td>\n",
       "      <td>126000</td>\n",
       "      <td>2018-05-02</td>\n",
       "      <td>Resale</td>\n",
       "      <td>42000</td>\n",
       "      <td>104</td>\n",
       "      <td>76741</td>\n",
       "      <td>1577</td>\n",
       "      <td>22136</td>\n",
       "      <td>6.650361</td>\n",
       "    </tr>\n",
       "    <tr>\n",
       "      <th>20</th>\n",
       "      <td>7.210434e+10</td>\n",
       "      <td>5.0000</td>\n",
       "      <td>Medina</td>\n",
       "      <td>5994 WOOSTER PIKE, MEDINA, OH 44256</td>\n",
       "      <td>44256</td>\n",
       "      <td>41.110690</td>\n",
       "      <td>-81.864294</td>\n",
       "      <td>22.78</td>\n",
       "      <td>Single Family Residence / Townhouse</td>\n",
       "      <td>HOUSE</td>\n",
       "      <td>...</td>\n",
       "      <td>3</td>\n",
       "      <td>250000</td>\n",
       "      <td>2018-05-01</td>\n",
       "      <td>Resale</td>\n",
       "      <td>83333</td>\n",
       "      <td>134</td>\n",
       "      <td>76741</td>\n",
       "      <td>1577</td>\n",
       "      <td>22136</td>\n",
       "      <td>6.650361</td>\n",
       "    </tr>\n",
       "    <tr>\n",
       "      <th>21</th>\n",
       "      <td>1.833120e+13</td>\n",
       "      <td>1.0000</td>\n",
       "      <td>Medina</td>\n",
       "      <td>6115 FENN RD, MEDINA, OH 44256</td>\n",
       "      <td>44256</td>\n",
       "      <td>41.167444</td>\n",
       "      <td>-81.917026</td>\n",
       "      <td>19.17</td>\n",
       "      <td>Single Family Residence / Townhouse</td>\n",
       "      <td>HOUSE</td>\n",
       "      <td>...</td>\n",
       "      <td>3</td>\n",
       "      <td>165000</td>\n",
       "      <td>2018-04-10</td>\n",
       "      <td>Resale</td>\n",
       "      <td>55000</td>\n",
       "      <td>116</td>\n",
       "      <td>76741</td>\n",
       "      <td>1577</td>\n",
       "      <td>22136</td>\n",
       "      <td>6.650361</td>\n",
       "    </tr>\n",
       "    <tr>\n",
       "      <th>22</th>\n",
       "      <td>1.828550e+13</td>\n",
       "      <td>0.3700</td>\n",
       "      <td>Medina</td>\n",
       "      <td>2920 BLUE HERON TRCE, MEDINA, OH 44256</td>\n",
       "      <td>44256</td>\n",
       "      <td>41.110641</td>\n",
       "      <td>-81.794594</td>\n",
       "      <td>22.97</td>\n",
       "      <td>Single Family Residence / Townhouse</td>\n",
       "      <td>HOUSE</td>\n",
       "      <td>...</td>\n",
       "      <td>4</td>\n",
       "      <td>468100</td>\n",
       "      <td>2018-03-01</td>\n",
       "      <td>New Construction</td>\n",
       "      <td>0</td>\n",
       "      <td>0</td>\n",
       "      <td>76741</td>\n",
       "      <td>1577</td>\n",
       "      <td>22136</td>\n",
       "      <td>6.650361</td>\n",
       "    </tr>\n",
       "    <tr>\n",
       "      <th>23</th>\n",
       "      <td>2.434690e+12</td>\n",
       "      <td>0.1894</td>\n",
       "      <td>Medina</td>\n",
       "      <td>117 E HOMESTEAD ST, MEDINA, OH 44256</td>\n",
       "      <td>44256</td>\n",
       "      <td>41.146347</td>\n",
       "      <td>-81.863691</td>\n",
       "      <td>20.32</td>\n",
       "      <td>Single Family Residence / Townhouse</td>\n",
       "      <td>HOUSE</td>\n",
       "      <td>...</td>\n",
       "      <td>3</td>\n",
       "      <td>124000</td>\n",
       "      <td>2018-01-24</td>\n",
       "      <td>Resale</td>\n",
       "      <td>41333</td>\n",
       "      <td>115</td>\n",
       "      <td>76741</td>\n",
       "      <td>1577</td>\n",
       "      <td>22136</td>\n",
       "      <td>6.650361</td>\n",
       "    </tr>\n",
       "    <tr>\n",
       "      <th>24</th>\n",
       "      <td>1.834060e+13</td>\n",
       "      <td>0.2740</td>\n",
       "      <td>Medina</td>\n",
       "      <td>1055 GENTRY DR, MEDINA, OH 44256</td>\n",
       "      <td>44256</td>\n",
       "      <td>41.125377</td>\n",
       "      <td>-81.840508</td>\n",
       "      <td>21.77</td>\n",
       "      <td>Single Family Residence / Townhouse</td>\n",
       "      <td>HOUSE</td>\n",
       "      <td>...</td>\n",
       "      <td>3</td>\n",
       "      <td>156000</td>\n",
       "      <td>2018-01-18</td>\n",
       "      <td>Resale</td>\n",
       "      <td>52000</td>\n",
       "      <td>108</td>\n",
       "      <td>76741</td>\n",
       "      <td>1577</td>\n",
       "      <td>22136</td>\n",
       "      <td>6.650361</td>\n",
       "    </tr>\n",
       "    <tr>\n",
       "      <th>25</th>\n",
       "      <td>1.826080e+13</td>\n",
       "      <td>0.4649</td>\n",
       "      <td>Hudson</td>\n",
       "      <td>5746 ARGYLE DR, HUDSON, OH 44236</td>\n",
       "      <td>44236</td>\n",
       "      <td>41.222498</td>\n",
       "      <td>-81.437658</td>\n",
       "      <td>26.24</td>\n",
       "      <td>Single Family Residence / Townhouse</td>\n",
       "      <td>RESIDENTIAL</td>\n",
       "      <td>...</td>\n",
       "      <td>4</td>\n",
       "      <td>253000</td>\n",
       "      <td>2019-05-16</td>\n",
       "      <td>Resale</td>\n",
       "      <td>63250</td>\n",
       "      <td>141</td>\n",
       "      <td>120825</td>\n",
       "      <td>257</td>\n",
       "      <td>8865</td>\n",
       "      <td>2.817365</td>\n",
       "    </tr>\n",
       "    <tr>\n",
       "      <th>26</th>\n",
       "      <td>1.826080e+13</td>\n",
       "      <td>0.5289</td>\n",
       "      <td>Hudson</td>\n",
       "      <td>7500 LAKEDGE CT, HUDSON, OH 44236</td>\n",
       "      <td>44236</td>\n",
       "      <td>41.263139</td>\n",
       "      <td>-81.413076</td>\n",
       "      <td>25.85</td>\n",
       "      <td>Single Family Residence / Townhouse</td>\n",
       "      <td>RESIDENTIAL</td>\n",
       "      <td>...</td>\n",
       "      <td>4</td>\n",
       "      <td>438500</td>\n",
       "      <td>2019-04-23</td>\n",
       "      <td>Resale</td>\n",
       "      <td>109625</td>\n",
       "      <td>145</td>\n",
       "      <td>120825</td>\n",
       "      <td>257</td>\n",
       "      <td>8865</td>\n",
       "      <td>2.817365</td>\n",
       "    </tr>\n",
       "    <tr>\n",
       "      <th>27</th>\n",
       "      <td>1.820610e+13</td>\n",
       "      <td>0.3903</td>\n",
       "      <td>Hudson</td>\n",
       "      <td>153 PARMELEE DR, HUDSON, OH 44236</td>\n",
       "      <td>44236</td>\n",
       "      <td>41.233812</td>\n",
       "      <td>-81.424684</td>\n",
       "      <td>26.37</td>\n",
       "      <td>Single Family Residence / Townhouse</td>\n",
       "      <td>RESIDENTIAL</td>\n",
       "      <td>...</td>\n",
       "      <td>4</td>\n",
       "      <td>389000</td>\n",
       "      <td>2019-02-07</td>\n",
       "      <td>Resale</td>\n",
       "      <td>97250</td>\n",
       "      <td>129</td>\n",
       "      <td>120825</td>\n",
       "      <td>257</td>\n",
       "      <td>8865</td>\n",
       "      <td>2.817365</td>\n",
       "    </tr>\n",
       "    <tr>\n",
       "      <th>28</th>\n",
       "      <td>1.828590e+13</td>\n",
       "      <td>1.0190</td>\n",
       "      <td>Hudson</td>\n",
       "      <td>6546 CHESTWICK LN, HUDSON, OH 44236</td>\n",
       "      <td>44236</td>\n",
       "      <td>41.246180</td>\n",
       "      <td>-81.450590</td>\n",
       "      <td>24.77</td>\n",
       "      <td>Single Family Residence / Townhouse</td>\n",
       "      <td>RESIDENTIAL</td>\n",
       "      <td>...</td>\n",
       "      <td>4</td>\n",
       "      <td>1430000</td>\n",
       "      <td>2018-12-10</td>\n",
       "      <td>Resale</td>\n",
       "      <td>357500</td>\n",
       "      <td>275</td>\n",
       "      <td>120825</td>\n",
       "      <td>257</td>\n",
       "      <td>8865</td>\n",
       "      <td>2.817365</td>\n",
       "    </tr>\n",
       "    <tr>\n",
       "      <th>29</th>\n",
       "      <td>1.352240e+12</td>\n",
       "      <td>1.0475</td>\n",
       "      <td>Hudson</td>\n",
       "      <td>7092 COLESBROOK DR, HUDSON, OH 44236</td>\n",
       "      <td>44236</td>\n",
       "      <td>41.269047</td>\n",
       "      <td>-81.493884</td>\n",
       "      <td>22.02</td>\n",
       "      <td>Single Family Residence / Townhouse</td>\n",
       "      <td>RESIDENTIAL</td>\n",
       "      <td>...</td>\n",
       "      <td>4</td>\n",
       "      <td>445000</td>\n",
       "      <td>2018-11-30</td>\n",
       "      <td>Resale</td>\n",
       "      <td>111250</td>\n",
       "      <td>139</td>\n",
       "      <td>120825</td>\n",
       "      <td>257</td>\n",
       "      <td>8865</td>\n",
       "      <td>2.817365</td>\n",
       "    </tr>\n",
       "    <tr>\n",
       "      <th>...</th>\n",
       "      <td>...</td>\n",
       "      <td>...</td>\n",
       "      <td>...</td>\n",
       "      <td>...</td>\n",
       "      <td>...</td>\n",
       "      <td>...</td>\n",
       "      <td>...</td>\n",
       "      <td>...</td>\n",
       "      <td>...</td>\n",
       "      <td>...</td>\n",
       "      <td>...</td>\n",
       "      <td>...</td>\n",
       "      <td>...</td>\n",
       "      <td>...</td>\n",
       "      <td>...</td>\n",
       "      <td>...</td>\n",
       "      <td>...</td>\n",
       "      <td>...</td>\n",
       "      <td>...</td>\n",
       "      <td>...</td>\n",
       "      <td>...</td>\n",
       "    </tr>\n",
       "    <tr>\n",
       "      <th>932</th>\n",
       "      <td>4.687270e+12</td>\n",
       "      <td>0.1942</td>\n",
       "      <td>Northfield</td>\n",
       "      <td>9106 JEFFERSON DR, NORTHFIELD, OH 44067</td>\n",
       "      <td>44067</td>\n",
       "      <td>41.345594</td>\n",
       "      <td>-81.536204</td>\n",
       "      <td>17.62</td>\n",
       "      <td>Single Family Residence / Townhouse</td>\n",
       "      <td>RESIDENTIAL</td>\n",
       "      <td>...</td>\n",
       "      <td>3</td>\n",
       "      <td>172000</td>\n",
       "      <td>2018-07-23</td>\n",
       "      <td>Resale</td>\n",
       "      <td>57333</td>\n",
       "      <td>121</td>\n",
       "      <td>74426</td>\n",
       "      <td>243</td>\n",
       "      <td>7836</td>\n",
       "      <td>3.007798</td>\n",
       "    </tr>\n",
       "    <tr>\n",
       "      <th>933</th>\n",
       "      <td>1.826150e+13</td>\n",
       "      <td>0.2645</td>\n",
       "      <td>Northfield</td>\n",
       "      <td>756 RAVENHILL RD, NORTHFIELD, OH 44067</td>\n",
       "      <td>44067</td>\n",
       "      <td>41.305089</td>\n",
       "      <td>-81.560441</td>\n",
       "      <td>17.76</td>\n",
       "      <td>Single Family Residence / Townhouse</td>\n",
       "      <td>RESIDENTIAL</td>\n",
       "      <td>...</td>\n",
       "      <td>4</td>\n",
       "      <td>349900</td>\n",
       "      <td>2018-05-24</td>\n",
       "      <td>Resale</td>\n",
       "      <td>87475</td>\n",
       "      <td>141</td>\n",
       "      <td>74426</td>\n",
       "      <td>243</td>\n",
       "      <td>7836</td>\n",
       "      <td>3.007798</td>\n",
       "    </tr>\n",
       "    <tr>\n",
       "      <th>934</th>\n",
       "      <td>2.030380e+12</td>\n",
       "      <td>0.1041</td>\n",
       "      <td>Canton</td>\n",
       "      <td>1331 LOUISIANA AVE NW, CANTON, OH 44703</td>\n",
       "      <td>44703</td>\n",
       "      <td>40.812276</td>\n",
       "      <td>-81.381419</td>\n",
       "      <td>49.81</td>\n",
       "      <td>Single Family Residence / Townhouse</td>\n",
       "      <td>HOUSE</td>\n",
       "      <td>...</td>\n",
       "      <td>2</td>\n",
       "      <td>19900</td>\n",
       "      <td>2018-08-10</td>\n",
       "      <td>Resale</td>\n",
       "      <td>9950</td>\n",
       "      <td>16</td>\n",
       "      <td>26168</td>\n",
       "      <td>1378</td>\n",
       "      <td>2273</td>\n",
       "      <td>37.743084</td>\n",
       "    </tr>\n",
       "    <tr>\n",
       "      <th>935</th>\n",
       "      <td>2.004110e+11</td>\n",
       "      <td>0.1339</td>\n",
       "      <td>Canton</td>\n",
       "      <td>1507 RIDGE RD NW, CANTON, OH 44703</td>\n",
       "      <td>44703</td>\n",
       "      <td>40.812925</td>\n",
       "      <td>-81.390471</td>\n",
       "      <td>49.54</td>\n",
       "      <td>Single Family Residence / Townhouse</td>\n",
       "      <td>MISCELLANEOUS INDUSTRIAL</td>\n",
       "      <td>...</td>\n",
       "      <td>4</td>\n",
       "      <td>101000</td>\n",
       "      <td>2018-08-10</td>\n",
       "      <td>Resale</td>\n",
       "      <td>25250</td>\n",
       "      <td>54</td>\n",
       "      <td>26168</td>\n",
       "      <td>1378</td>\n",
       "      <td>2273</td>\n",
       "      <td>37.743084</td>\n",
       "    </tr>\n",
       "    <tr>\n",
       "      <th>936</th>\n",
       "      <td>5.239910e+12</td>\n",
       "      <td>0.1333</td>\n",
       "      <td>Canton</td>\n",
       "      <td>1222 RIDGE RD NW, CANTON, OH 44703</td>\n",
       "      <td>44703</td>\n",
       "      <td>40.810162</td>\n",
       "      <td>-81.389454</td>\n",
       "      <td>49.73</td>\n",
       "      <td>Single Family Residence / Townhouse</td>\n",
       "      <td>HOUSE</td>\n",
       "      <td>...</td>\n",
       "      <td>3</td>\n",
       "      <td>76000</td>\n",
       "      <td>2018-06-13</td>\n",
       "      <td>Resale</td>\n",
       "      <td>25333</td>\n",
       "      <td>52</td>\n",
       "      <td>26168</td>\n",
       "      <td>1378</td>\n",
       "      <td>2273</td>\n",
       "      <td>37.743084</td>\n",
       "    </tr>\n",
       "    <tr>\n",
       "      <th>937</th>\n",
       "      <td>1.824640e+13</td>\n",
       "      <td>2.0400</td>\n",
       "      <td>Atwater</td>\n",
       "      <td>4229 WATERLOO RD, ATWATER, OH 44201</td>\n",
       "      <td>44201</td>\n",
       "      <td>41.032938</td>\n",
       "      <td>-81.240341</td>\n",
       "      <td>42.46</td>\n",
       "      <td>Single Family Residence / Townhouse</td>\n",
       "      <td>RESIDENTIAL</td>\n",
       "      <td>...</td>\n",
       "      <td>3</td>\n",
       "      <td>140000</td>\n",
       "      <td>2018-08-10</td>\n",
       "      <td>Resale</td>\n",
       "      <td>46667</td>\n",
       "      <td>107</td>\n",
       "      <td>63493</td>\n",
       "      <td>232</td>\n",
       "      <td>2351</td>\n",
       "      <td>8.981804</td>\n",
       "    </tr>\n",
       "    <tr>\n",
       "      <th>938</th>\n",
       "      <td>1.824690e+13</td>\n",
       "      <td>5.9200</td>\n",
       "      <td>Atwater</td>\n",
       "      <td>14027 GERMAN CHURCH RD, ATWATER, OH 44201</td>\n",
       "      <td>44201</td>\n",
       "      <td>40.988291</td>\n",
       "      <td>-81.124697</td>\n",
       "      <td>49.06</td>\n",
       "      <td>Single Family Residence / Townhouse</td>\n",
       "      <td>RESIDENTIAL</td>\n",
       "      <td>...</td>\n",
       "      <td>5</td>\n",
       "      <td>355000</td>\n",
       "      <td>2018-06-15</td>\n",
       "      <td>Resale</td>\n",
       "      <td>71000</td>\n",
       "      <td>107</td>\n",
       "      <td>63493</td>\n",
       "      <td>232</td>\n",
       "      <td>2351</td>\n",
       "      <td>8.981804</td>\n",
       "    </tr>\n",
       "    <tr>\n",
       "      <th>939</th>\n",
       "      <td>1.825370e+13</td>\n",
       "      <td>2.1800</td>\n",
       "      <td>Atwater</td>\n",
       "      <td>14719 INDUSTRY RD, ATWATER, OH 44201</td>\n",
       "      <td>44201</td>\n",
       "      <td>40.988133</td>\n",
       "      <td>-81.195846</td>\n",
       "      <td>46.26</td>\n",
       "      <td>Single Family Residence / Townhouse</td>\n",
       "      <td>MISCELLANEOUS INDUSTRIAL</td>\n",
       "      <td>...</td>\n",
       "      <td>3</td>\n",
       "      <td>199000</td>\n",
       "      <td>2018-05-04</td>\n",
       "      <td>Resale</td>\n",
       "      <td>66333</td>\n",
       "      <td>149</td>\n",
       "      <td>63493</td>\n",
       "      <td>232</td>\n",
       "      <td>2351</td>\n",
       "      <td>8.981804</td>\n",
       "    </tr>\n",
       "    <tr>\n",
       "      <th>940</th>\n",
       "      <td>1.833830e+13</td>\n",
       "      <td>0.5320</td>\n",
       "      <td>Atwater</td>\n",
       "      <td>3281 ALEXANDER RD, ATWATER, OH 44201</td>\n",
       "      <td>44201</td>\n",
       "      <td>41.026629</td>\n",
       "      <td>-81.274556</td>\n",
       "      <td>41.45</td>\n",
       "      <td>Single Family Residence / Townhouse</td>\n",
       "      <td>RESIDENTIAL</td>\n",
       "      <td>...</td>\n",
       "      <td>3</td>\n",
       "      <td>33000</td>\n",
       "      <td>2018-04-23</td>\n",
       "      <td>Resale</td>\n",
       "      <td>11000</td>\n",
       "      <td>23</td>\n",
       "      <td>63493</td>\n",
       "      <td>232</td>\n",
       "      <td>2351</td>\n",
       "      <td>8.981804</td>\n",
       "    </tr>\n",
       "    <tr>\n",
       "      <th>941</th>\n",
       "      <td>5.258180e+12</td>\n",
       "      <td>0.4400</td>\n",
       "      <td>Middleburg Heights</td>\n",
       "      <td>13901 BENNINGTON BLVD, MIDDLEBURG HEIGHTS,OH 4...</td>\n",
       "      <td>44130</td>\n",
       "      <td>41.352722</td>\n",
       "      <td>-81.793365</td>\n",
       "      <td>6.77</td>\n",
       "      <td>Single Family Residence / Townhouse</td>\n",
       "      <td>RESIDENTIAL</td>\n",
       "      <td>...</td>\n",
       "      <td>4</td>\n",
       "      <td>239800</td>\n",
       "      <td>2018-08-06</td>\n",
       "      <td>Resale</td>\n",
       "      <td>59950</td>\n",
       "      <td>86</td>\n",
       "      <td>53059</td>\n",
       "      <td>2397</td>\n",
       "      <td>19600</td>\n",
       "      <td>10.896940</td>\n",
       "    </tr>\n",
       "    <tr>\n",
       "      <th>942</th>\n",
       "      <td>4.108960e+12</td>\n",
       "      <td>5.0000</td>\n",
       "      <td>Lagrange</td>\n",
       "      <td>14902 WHEELER RD, LAGRANGE, OH 44050</td>\n",
       "      <td>44050</td>\n",
       "      <td>41.268980</td>\n",
       "      <td>-82.100834</td>\n",
       "      <td>17.59</td>\n",
       "      <td>Single Family Residence / Townhouse</td>\n",
       "      <td>HOUSE</td>\n",
       "      <td>...</td>\n",
       "      <td>3</td>\n",
       "      <td>148500</td>\n",
       "      <td>2018-07-27</td>\n",
       "      <td>Resale</td>\n",
       "      <td>49500</td>\n",
       "      <td>150</td>\n",
       "      <td>68552</td>\n",
       "      <td>74</td>\n",
       "      <td>2357</td>\n",
       "      <td>3.044015</td>\n",
       "    </tr>\n",
       "    <tr>\n",
       "      <th>943</th>\n",
       "      <td>1.821670e+13</td>\n",
       "      <td>0.0000</td>\n",
       "      <td>Lagrange</td>\n",
       "      <td>613 U S GRANT ST, LAGRANGE, OH 44050</td>\n",
       "      <td>44050</td>\n",
       "      <td>41.250662</td>\n",
       "      <td>-82.103988</td>\n",
       "      <td>18.58</td>\n",
       "      <td>Single Family Residence / Townhouse</td>\n",
       "      <td>RESIDENTIAL</td>\n",
       "      <td>...</td>\n",
       "      <td>3</td>\n",
       "      <td>322400</td>\n",
       "      <td>2018-04-13</td>\n",
       "      <td>Resale</td>\n",
       "      <td>107467</td>\n",
       "      <td>129</td>\n",
       "      <td>68552</td>\n",
       "      <td>74</td>\n",
       "      <td>2357</td>\n",
       "      <td>3.044015</td>\n",
       "    </tr>\n",
       "    <tr>\n",
       "      <th>944</th>\n",
       "      <td>1.827160e+13</td>\n",
       "      <td>2.7800</td>\n",
       "      <td>Creston</td>\n",
       "      <td>1072 E EASTON RD, CRESTON, OH 44217</td>\n",
       "      <td>44217</td>\n",
       "      <td>40.944807</td>\n",
       "      <td>-81.939032</td>\n",
       "      <td>34.53</td>\n",
       "      <td>Single Family Residence / Townhouse</td>\n",
       "      <td>RESIDENTIAL</td>\n",
       "      <td>...</td>\n",
       "      <td>2</td>\n",
       "      <td>60000</td>\n",
       "      <td>2018-07-06</td>\n",
       "      <td>Resale</td>\n",
       "      <td>30000</td>\n",
       "      <td>65</td>\n",
       "      <td>58478</td>\n",
       "      <td>186</td>\n",
       "      <td>1294</td>\n",
       "      <td>12.567568</td>\n",
       "    </tr>\n",
       "    <tr>\n",
       "      <th>945</th>\n",
       "      <td>4.137070e+12</td>\n",
       "      <td>2.7010</td>\n",
       "      <td>Creston</td>\n",
       "      <td>3838 STEINER RD, CRESTON, OH 44217</td>\n",
       "      <td>44217</td>\n",
       "      <td>40.930804</td>\n",
       "      <td>-81.894195</td>\n",
       "      <td>35.26</td>\n",
       "      <td>Single Family Residence / Townhouse</td>\n",
       "      <td>RESIDENTIAL</td>\n",
       "      <td>...</td>\n",
       "      <td>3</td>\n",
       "      <td>158000</td>\n",
       "      <td>2018-01-16</td>\n",
       "      <td>Resale</td>\n",
       "      <td>52667</td>\n",
       "      <td>82</td>\n",
       "      <td>58478</td>\n",
       "      <td>186</td>\n",
       "      <td>1294</td>\n",
       "      <td>12.567568</td>\n",
       "    </tr>\n",
       "    <tr>\n",
       "      <th>946</th>\n",
       "      <td>1.831840e+13</td>\n",
       "      <td>1.4400</td>\n",
       "      <td>Amherst</td>\n",
       "      <td>51654 PORTMAN RD, AMHERST, OH 44001</td>\n",
       "      <td>44001</td>\n",
       "      <td>41.353381</td>\n",
       "      <td>-82.322811</td>\n",
       "      <td>25.25</td>\n",
       "      <td>Single Family Residence / Townhouse</td>\n",
       "      <td>HOUSE</td>\n",
       "      <td>...</td>\n",
       "      <td>5</td>\n",
       "      <td>204500</td>\n",
       "      <td>2018-07-03</td>\n",
       "      <td>Resale</td>\n",
       "      <td>40900</td>\n",
       "      <td>98</td>\n",
       "      <td>65308</td>\n",
       "      <td>552</td>\n",
       "      <td>7790</td>\n",
       "      <td>6.617118</td>\n",
       "    </tr>\n",
       "    <tr>\n",
       "      <th>947</th>\n",
       "      <td>2.563444e+10</td>\n",
       "      <td>1.7500</td>\n",
       "      <td>Valley City</td>\n",
       "      <td>5200 MARKWOOD CT, VALLEY CITY, OH 44280</td>\n",
       "      <td>44280</td>\n",
       "      <td>41.222339</td>\n",
       "      <td>-81.877713</td>\n",
       "      <td>15.13</td>\n",
       "      <td>Single Family Residence / Townhouse</td>\n",
       "      <td>HOUSE</td>\n",
       "      <td>...</td>\n",
       "      <td>4</td>\n",
       "      <td>417000</td>\n",
       "      <td>2018-06-26</td>\n",
       "      <td>Resale</td>\n",
       "      <td>104250</td>\n",
       "      <td>147</td>\n",
       "      <td>78314</td>\n",
       "      <td>66</td>\n",
       "      <td>1662</td>\n",
       "      <td>3.819444</td>\n",
       "    </tr>\n",
       "    <tr>\n",
       "      <th>948</th>\n",
       "      <td>1.833030e+13</td>\n",
       "      <td>0.4678</td>\n",
       "      <td>Westfield Center</td>\n",
       "      <td>8793 CONCORD DR, WESTFIELD CENTER,OH 44251</td>\n",
       "      <td>44251</td>\n",
       "      <td>41.033062</td>\n",
       "      <td>-81.930781</td>\n",
       "      <td>28.44</td>\n",
       "      <td>Single Family Residence / Townhouse</td>\n",
       "      <td>HOUSE</td>\n",
       "      <td>...</td>\n",
       "      <td>3</td>\n",
       "      <td>185000</td>\n",
       "      <td>2018-06-14</td>\n",
       "      <td>Resale</td>\n",
       "      <td>61667</td>\n",
       "      <td>95</td>\n",
       "      <td>85417</td>\n",
       "      <td>2</td>\n",
       "      <td>375</td>\n",
       "      <td>0.530504</td>\n",
       "    </tr>\n",
       "    <tr>\n",
       "      <th>949</th>\n",
       "      <td>1.820430e+13</td>\n",
       "      <td>1.3900</td>\n",
       "      <td>Westfield Center</td>\n",
       "      <td>6731 GUINNESS CIR, WESTFIELD CENTER,OH 44251</td>\n",
       "      <td>44251</td>\n",
       "      <td>41.036882</td>\n",
       "      <td>-81.931934</td>\n",
       "      <td>28.19</td>\n",
       "      <td>Single Family Residence / Townhouse</td>\n",
       "      <td>HOUSE</td>\n",
       "      <td>...</td>\n",
       "      <td>4</td>\n",
       "      <td>255000</td>\n",
       "      <td>2018-05-04</td>\n",
       "      <td>Resale</td>\n",
       "      <td>63750</td>\n",
       "      <td>120</td>\n",
       "      <td>85417</td>\n",
       "      <td>2</td>\n",
       "      <td>375</td>\n",
       "      <td>0.530504</td>\n",
       "    </tr>\n",
       "    <tr>\n",
       "      <th>950</th>\n",
       "      <td>1.492360e+13</td>\n",
       "      <td>0.1722</td>\n",
       "      <td>Sterling</td>\n",
       "      <td>6746 SPRUCE ST, STERLING, OH 44276</td>\n",
       "      <td>44276</td>\n",
       "      <td>40.966505</td>\n",
       "      <td>-81.848477</td>\n",
       "      <td>32.72</td>\n",
       "      <td>Single Family Residence / Townhouse</td>\n",
       "      <td>RESIDENTIAL</td>\n",
       "      <td>...</td>\n",
       "      <td>4</td>\n",
       "      <td>105000</td>\n",
       "      <td>2018-05-29</td>\n",
       "      <td>Resale</td>\n",
       "      <td>26250</td>\n",
       "      <td>58</td>\n",
       "      <td>73182</td>\n",
       "      <td>34</td>\n",
       "      <td>630</td>\n",
       "      <td>5.120482</td>\n",
       "    </tr>\n",
       "    <tr>\n",
       "      <th>951</th>\n",
       "      <td>5.461020e+12</td>\n",
       "      <td>2.0030</td>\n",
       "      <td>Smithville</td>\n",
       "      <td>4601 FOX LAKE RD, SMITHVILLE, OH 44677</td>\n",
       "      <td>44677</td>\n",
       "      <td>40.886879</td>\n",
       "      <td>-81.883232</td>\n",
       "      <td>38.26</td>\n",
       "      <td>Single Family Residence / Townhouse</td>\n",
       "      <td>RESIDENTIAL</td>\n",
       "      <td>...</td>\n",
       "      <td>3</td>\n",
       "      <td>162500</td>\n",
       "      <td>2018-05-07</td>\n",
       "      <td>Resale</td>\n",
       "      <td>54167</td>\n",
       "      <td>142</td>\n",
       "      <td>51089</td>\n",
       "      <td>90</td>\n",
       "      <td>889</td>\n",
       "      <td>9.193054</td>\n",
       "    </tr>\n",
       "    <tr>\n",
       "      <th>952</th>\n",
       "      <td>2.697220e+12</td>\n",
       "      <td>3.4050</td>\n",
       "      <td>Diamond</td>\n",
       "      <td>4065 JONES RD, DIAMOND, OH 44412</td>\n",
       "      <td>44412</td>\n",
       "      <td>41.100234</td>\n",
       "      <td>-81.012705</td>\n",
       "      <td>49.56</td>\n",
       "      <td>Single Family Residence / Townhouse</td>\n",
       "      <td>RESIDENTIAL</td>\n",
       "      <td>...</td>\n",
       "      <td>3</td>\n",
       "      <td>189000</td>\n",
       "      <td>2018-04-06</td>\n",
       "      <td>Resale</td>\n",
       "      <td>63000</td>\n",
       "      <td>77</td>\n",
       "      <td>55417</td>\n",
       "      <td>106</td>\n",
       "      <td>918</td>\n",
       "      <td>10.351562</td>\n",
       "    </tr>\n",
       "    <tr>\n",
       "      <th>953</th>\n",
       "      <td>2.174020e+13</td>\n",
       "      <td>0.1500</td>\n",
       "      <td>Columbia Station</td>\n",
       "      <td>11361 RESERVE WAY, COLUMBIA STATION, OH 44028</td>\n",
       "      <td>44028</td>\n",
       "      <td>41.311830</td>\n",
       "      <td>-81.940040</td>\n",
       "      <td>10.03</td>\n",
       "      <td>Single Family Residence / Townhouse</td>\n",
       "      <td>RESIDENTIAL</td>\n",
       "      <td>...</td>\n",
       "      <td>4</td>\n",
       "      <td>245000</td>\n",
       "      <td>2018-04-04</td>\n",
       "      <td>Resale</td>\n",
       "      <td>61250</td>\n",
       "      <td>110</td>\n",
       "      <td>76352</td>\n",
       "      <td>301</td>\n",
       "      <td>2981</td>\n",
       "      <td>9.171237</td>\n",
       "    </tr>\n",
       "    <tr>\n",
       "      <th>954</th>\n",
       "      <td>1.460790e+13</td>\n",
       "      <td>0.1300</td>\n",
       "      <td>Columbia Station</td>\n",
       "      <td>9990 ALDRIDGE DR, COLUMBIA STATION, OH 44028</td>\n",
       "      <td>44028</td>\n",
       "      <td>41.348884</td>\n",
       "      <td>-81.887030</td>\n",
       "      <td>6.61</td>\n",
       "      <td>Single Family Residence / Townhouse</td>\n",
       "      <td>HOUSE</td>\n",
       "      <td>...</td>\n",
       "      <td>3</td>\n",
       "      <td>8000</td>\n",
       "      <td>2018-03-12</td>\n",
       "      <td>Resale</td>\n",
       "      <td>2667</td>\n",
       "      <td>6</td>\n",
       "      <td>76352</td>\n",
       "      <td>301</td>\n",
       "      <td>2981</td>\n",
       "      <td>9.171237</td>\n",
       "    </tr>\n",
       "    <tr>\n",
       "      <th>955</th>\n",
       "      <td>1.834150e+13</td>\n",
       "      <td>4.5900</td>\n",
       "      <td>Columbia Station</td>\n",
       "      <td>10608 W RIVER RD, COLUMBIA STATION, OH 44028</td>\n",
       "      <td>44028</td>\n",
       "      <td>41.345624</td>\n",
       "      <td>-81.910873</td>\n",
       "      <td>7.27</td>\n",
       "      <td>Single Family Residence / Townhouse</td>\n",
       "      <td>HOUSE</td>\n",
       "      <td>...</td>\n",
       "      <td>2</td>\n",
       "      <td>105000</td>\n",
       "      <td>2018-03-07</td>\n",
       "      <td>Resale</td>\n",
       "      <td>52500</td>\n",
       "      <td>82</td>\n",
       "      <td>76352</td>\n",
       "      <td>301</td>\n",
       "      <td>2981</td>\n",
       "      <td>9.171237</td>\n",
       "    </tr>\n",
       "    <tr>\n",
       "      <th>956</th>\n",
       "      <td>1.824480e+13</td>\n",
       "      <td>2.9800</td>\n",
       "      <td>Columbia Station</td>\n",
       "      <td>24124 REDFERN RD, COLUMBIA STATION, OH 44028</td>\n",
       "      <td>44028</td>\n",
       "      <td>41.343295</td>\n",
       "      <td>-81.896243</td>\n",
       "      <td>7.12</td>\n",
       "      <td>Single Family Residence / Townhouse</td>\n",
       "      <td>HOUSE</td>\n",
       "      <td>...</td>\n",
       "      <td>4</td>\n",
       "      <td>368000</td>\n",
       "      <td>2018-01-19</td>\n",
       "      <td>Resale</td>\n",
       "      <td>92000</td>\n",
       "      <td>103</td>\n",
       "      <td>76352</td>\n",
       "      <td>301</td>\n",
       "      <td>2981</td>\n",
       "      <td>9.171237</td>\n",
       "    </tr>\n",
       "    <tr>\n",
       "      <th>957</th>\n",
       "      <td>4.411810e+12</td>\n",
       "      <td>2.0000</td>\n",
       "      <td>Deerfield</td>\n",
       "      <td>1745 NOTMAN RD, DEERFIELD, OH 44411</td>\n",
       "      <td>44411</td>\n",
       "      <td>41.036699</td>\n",
       "      <td>-81.079573</td>\n",
       "      <td>48.90</td>\n",
       "      <td>Single Family Residence / Townhouse</td>\n",
       "      <td>RESIDENTIAL</td>\n",
       "      <td>...</td>\n",
       "      <td>3</td>\n",
       "      <td>117500</td>\n",
       "      <td>2018-03-30</td>\n",
       "      <td>Resale</td>\n",
       "      <td>39167</td>\n",
       "      <td>54</td>\n",
       "      <td>53000</td>\n",
       "      <td>126</td>\n",
       "      <td>626</td>\n",
       "      <td>16.755319</td>\n",
       "    </tr>\n",
       "    <tr>\n",
       "      <th>958</th>\n",
       "      <td>1.831520e+13</td>\n",
       "      <td>0.1700</td>\n",
       "      <td>North Fairfield</td>\n",
       "      <td>118 N MAIN ST, NORTH FAIRFIELD, OH 44855</td>\n",
       "      <td>44855</td>\n",
       "      <td>41.107602</td>\n",
       "      <td>-82.611493</td>\n",
       "      <td>45.79</td>\n",
       "      <td>Single Family Residence / Townhouse</td>\n",
       "      <td>HOUSE</td>\n",
       "      <td>...</td>\n",
       "      <td>4</td>\n",
       "      <td>32000</td>\n",
       "      <td>2018-03-07</td>\n",
       "      <td>REO (Transfer to Lender)</td>\n",
       "      <td>8000</td>\n",
       "      <td>19</td>\n",
       "      <td>45259</td>\n",
       "      <td>37</td>\n",
       "      <td>397</td>\n",
       "      <td>8.525346</td>\n",
       "    </tr>\n",
       "    <tr>\n",
       "      <th>959</th>\n",
       "      <td>1.442490e+13</td>\n",
       "      <td>1.6300</td>\n",
       "      <td>Sandusky</td>\n",
       "      <td>4714 MASON RD, SANDUSKY, OH 44870</td>\n",
       "      <td>44870</td>\n",
       "      <td>41.352564</td>\n",
       "      <td>-82.704732</td>\n",
       "      <td>44.79</td>\n",
       "      <td>Single Family Residence / Townhouse</td>\n",
       "      <td>HOUSE</td>\n",
       "      <td>...</td>\n",
       "      <td>3</td>\n",
       "      <td>173000</td>\n",
       "      <td>2018-02-28</td>\n",
       "      <td>Resale</td>\n",
       "      <td>57667</td>\n",
       "      <td>122</td>\n",
       "      <td>42980</td>\n",
       "      <td>3645</td>\n",
       "      <td>13295</td>\n",
       "      <td>21.517119</td>\n",
       "    </tr>\n",
       "    <tr>\n",
       "      <th>960</th>\n",
       "      <td>1.828070e+13</td>\n",
       "      <td>0.9300</td>\n",
       "      <td>North Ridgeville</td>\n",
       "      <td>37735 BUTTERNUT RIDGE RD, NORTH RIDGEVILLE, OH...</td>\n",
       "      <td>44039</td>\n",
       "      <td>41.337885</td>\n",
       "      <td>-82.054367</td>\n",
       "      <td>12.74</td>\n",
       "      <td>Single Family Residence / Townhouse</td>\n",
       "      <td>HOUSE</td>\n",
       "      <td>...</td>\n",
       "      <td>3</td>\n",
       "      <td>120000</td>\n",
       "      <td>2018-02-27</td>\n",
       "      <td>Resale</td>\n",
       "      <td>40000</td>\n",
       "      <td>40</td>\n",
       "      <td>69811</td>\n",
       "      <td>590</td>\n",
       "      <td>11827</td>\n",
       "      <td>4.751550</td>\n",
       "    </tr>\n",
       "    <tr>\n",
       "      <th>961</th>\n",
       "      <td>1.424840e+13</td>\n",
       "      <td>2.6990</td>\n",
       "      <td>Burbank</td>\n",
       "      <td>10544 BURBANK RD, BURBANK, OH 44214</td>\n",
       "      <td>44214</td>\n",
       "      <td>40.927130</td>\n",
       "      <td>-81.987450</td>\n",
       "      <td>36.15</td>\n",
       "      <td>Single Family Residence / Townhouse</td>\n",
       "      <td>RESIDENTIAL</td>\n",
       "      <td>...</td>\n",
       "      <td>3</td>\n",
       "      <td>98000</td>\n",
       "      <td>2018-02-02</td>\n",
       "      <td>Resale</td>\n",
       "      <td>32667</td>\n",
       "      <td>86</td>\n",
       "      <td>55391</td>\n",
       "      <td>133</td>\n",
       "      <td>718</td>\n",
       "      <td>15.628672</td>\n",
       "    </tr>\n",
       "  </tbody>\n",
       "</table>\n",
       "<p>962 rows × 23 columns</p>\n",
       "</div>"
      ],
      "text/plain": [
       "     identifier/obPropId  LotSizeAcres    address/locality  \\\n",
       "0           1.828800e+13        0.2251              Medina   \n",
       "1           1.827620e+13        0.7800              Medina   \n",
       "2           2.310600e+12        0.1417              Medina   \n",
       "3           1.833000e+13        4.0200              Medina   \n",
       "4           1.834480e+13       10.3800              Medina   \n",
       "5           1.832960e+13        0.3100              Medina   \n",
       "6           2.459690e+12        0.2397              Medina   \n",
       "7           4.586090e+12        0.1600              Medina   \n",
       "8           1.833010e+13        0.3753              Medina   \n",
       "9           1.833110e+13        1.0000              Medina   \n",
       "10          1.492680e+13        1.0000              Medina   \n",
       "11          1.833060e+13        1.0000              Medina   \n",
       "12          1.469010e+13        0.2984              Medina   \n",
       "13          2.505670e+12        0.7100              Medina   \n",
       "14          1.400400e+13        1.4900              Medina   \n",
       "15          1.832970e+13        0.5845              Medina   \n",
       "16          1.539120e+13        0.5484              Medina   \n",
       "17          5.427190e+12        2.2400              Medina   \n",
       "18          3.210760e+11        1.5500              Medina   \n",
       "19          2.379530e+12        0.1607              Medina   \n",
       "20          7.210434e+10        5.0000              Medina   \n",
       "21          1.833120e+13        1.0000              Medina   \n",
       "22          1.828550e+13        0.3700              Medina   \n",
       "23          2.434690e+12        0.1894              Medina   \n",
       "24          1.834060e+13        0.2740              Medina   \n",
       "25          1.826080e+13        0.4649              Hudson   \n",
       "26          1.826080e+13        0.5289              Hudson   \n",
       "27          1.820610e+13        0.3903              Hudson   \n",
       "28          1.828590e+13        1.0190              Hudson   \n",
       "29          1.352240e+12        1.0475              Hudson   \n",
       "..                   ...           ...                 ...   \n",
       "932         4.687270e+12        0.1942          Northfield   \n",
       "933         1.826150e+13        0.2645          Northfield   \n",
       "934         2.030380e+12        0.1041              Canton   \n",
       "935         2.004110e+11        0.1339              Canton   \n",
       "936         5.239910e+12        0.1333              Canton   \n",
       "937         1.824640e+13        2.0400             Atwater   \n",
       "938         1.824690e+13        5.9200             Atwater   \n",
       "939         1.825370e+13        2.1800             Atwater   \n",
       "940         1.833830e+13        0.5320             Atwater   \n",
       "941         5.258180e+12        0.4400  Middleburg Heights   \n",
       "942         4.108960e+12        5.0000            Lagrange   \n",
       "943         1.821670e+13        0.0000            Lagrange   \n",
       "944         1.827160e+13        2.7800             Creston   \n",
       "945         4.137070e+12        2.7010             Creston   \n",
       "946         1.831840e+13        1.4400             Amherst   \n",
       "947         2.563444e+10        1.7500         Valley City   \n",
       "948         1.833030e+13        0.4678    Westfield Center   \n",
       "949         1.820430e+13        1.3900    Westfield Center   \n",
       "950         1.492360e+13        0.1722            Sterling   \n",
       "951         5.461020e+12        2.0030          Smithville   \n",
       "952         2.697220e+12        3.4050             Diamond   \n",
       "953         2.174020e+13        0.1500    Columbia Station   \n",
       "954         1.460790e+13        0.1300    Columbia Station   \n",
       "955         1.834150e+13        4.5900    Columbia Station   \n",
       "956         1.824480e+13        2.9800    Columbia Station   \n",
       "957         4.411810e+12        2.0000           Deerfield   \n",
       "958         1.831520e+13        0.1700     North Fairfield   \n",
       "959         1.442490e+13        1.6300            Sandusky   \n",
       "960         1.828070e+13        0.9300    North Ridgeville   \n",
       "961         1.424840e+13        2.6990             Burbank   \n",
       "\n",
       "                                       address/oneLine  address/postal1  \\\n",
       "0                 4300 BUTTERFLY CIR, MEDINA, OH 44256            44256   \n",
       "1                      500 MEDINA RD, MEDINA, OH 44256            44256   \n",
       "2                     408 E NORTH ST, MEDINA, OH 44256            44256   \n",
       "3                    2244 GRANGER RD, MEDINA, OH 44256            44256   \n",
       "4                      3467 RIDGE RD, MEDINA, OH 44256            44256   \n",
       "5                   3922 BOXELDER DR, MEDINA, OH 44256            44256   \n",
       "6                    454 W PARK BLVD, MEDINA, OH 44256            44256   \n",
       "7                  364 ABBEYVILLE RD, MEDINA, OH 44256            44256   \n",
       "8                  1035 BURNTWOOD DR, MEDINA, OH 44256            44256   \n",
       "9                   7176 CHIPPEWA RD, MEDINA, OH 44256            44256   \n",
       "10                    4449 ERHART RD, MEDINA, OH 44256            44256   \n",
       "11             3979 SHARON COPLEY RD, MEDINA, OH 44256            44256   \n",
       "12                      227 GRANT ST, MEDINA, OH 44256            44256   \n",
       "13             4405 LAKEVIEW GLEN DR, MEDINA, OH 44256            44256   \n",
       "14                   4117 E SMITH RD, MEDINA, OH 44256            44256   \n",
       "15                     168 KOONS AVE, MEDINA, OH 44256            44256   \n",
       "16                 6734 DEER TAIL DR, MEDINA, OH 44256            44256   \n",
       "17                 4930 FOX HAVEN DR, MEDINA, OH 44256            44256   \n",
       "18                     6179 LANCE RD, MEDINA, OH 44256            44256   \n",
       "19                   903 WATERLOO LN, MEDINA, OH 44256            44256   \n",
       "20                 5994 WOOSTER PIKE, MEDINA, OH 44256            44256   \n",
       "21                      6115 FENN RD, MEDINA, OH 44256            44256   \n",
       "22              2920 BLUE HERON TRCE, MEDINA, OH 44256            44256   \n",
       "23                117 E HOMESTEAD ST, MEDINA, OH 44256            44256   \n",
       "24                    1055 GENTRY DR, MEDINA, OH 44256            44256   \n",
       "25                    5746 ARGYLE DR, HUDSON, OH 44236            44236   \n",
       "26                   7500 LAKEDGE CT, HUDSON, OH 44236            44236   \n",
       "27                   153 PARMELEE DR, HUDSON, OH 44236            44236   \n",
       "28                 6546 CHESTWICK LN, HUDSON, OH 44236            44236   \n",
       "29                7092 COLESBROOK DR, HUDSON, OH 44236            44236   \n",
       "..                                                 ...              ...   \n",
       "932            9106 JEFFERSON DR, NORTHFIELD, OH 44067            44067   \n",
       "933             756 RAVENHILL RD, NORTHFIELD, OH 44067            44067   \n",
       "934            1331 LOUISIANA AVE NW, CANTON, OH 44703            44703   \n",
       "935                 1507 RIDGE RD NW, CANTON, OH 44703            44703   \n",
       "936                 1222 RIDGE RD NW, CANTON, OH 44703            44703   \n",
       "937                4229 WATERLOO RD, ATWATER, OH 44201            44201   \n",
       "938          14027 GERMAN CHURCH RD, ATWATER, OH 44201            44201   \n",
       "939               14719 INDUSTRY RD, ATWATER, OH 44201            44201   \n",
       "940               3281 ALEXANDER RD, ATWATER, OH 44201            44201   \n",
       "941  13901 BENNINGTON BLVD, MIDDLEBURG HEIGHTS,OH 4...            44130   \n",
       "942               14902 WHEELER RD, LAGRANGE, OH 44050            44050   \n",
       "943               613 U S GRANT ST, LAGRANGE, OH 44050            44050   \n",
       "944                1072 E EASTON RD, CRESTON, OH 44217            44217   \n",
       "945                 3838 STEINER RD, CRESTON, OH 44217            44217   \n",
       "946                51654 PORTMAN RD, AMHERST, OH 44001            44001   \n",
       "947            5200 MARKWOOD CT, VALLEY CITY, OH 44280            44280   \n",
       "948         8793 CONCORD DR, WESTFIELD CENTER,OH 44251            44251   \n",
       "949       6731 GUINNESS CIR, WESTFIELD CENTER,OH 44251            44251   \n",
       "950                 6746 SPRUCE ST, STERLING, OH 44276            44276   \n",
       "951             4601 FOX LAKE RD, SMITHVILLE, OH 44677            44677   \n",
       "952                   4065 JONES RD, DIAMOND, OH 44412            44412   \n",
       "953      11361 RESERVE WAY, COLUMBIA STATION, OH 44028            44028   \n",
       "954       9990 ALDRIDGE DR, COLUMBIA STATION, OH 44028            44028   \n",
       "955       10608 W RIVER RD, COLUMBIA STATION, OH 44028            44028   \n",
       "956       24124 REDFERN RD, COLUMBIA STATION, OH 44028            44028   \n",
       "957                1745 NOTMAN RD, DEERFIELD, OH 44411            44411   \n",
       "958           118 N MAIN ST, NORTH FAIRFIELD, OH 44855            44855   \n",
       "959                  4714 MASON RD, SANDUSKY, OH 44870            44870   \n",
       "960  37735 BUTTERNUT RIDGE RD, NORTH RIDGEVILLE, OH...            44039   \n",
       "961                10544 BURBANK RD, BURBANK, OH 44214            44214   \n",
       "\n",
       "     location/latitude  location/longitude  location/distance  \\\n",
       "0            41.202632          -81.840360              16.44   \n",
       "1            41.135813          -81.702880              22.41   \n",
       "2            41.141974          -81.858376              20.62   \n",
       "3            41.155527          -81.759781              20.24   \n",
       "4            41.181611          -81.741742              18.76   \n",
       "5            41.169614          -81.874662              18.75   \n",
       "6            41.128303          -81.871823              21.59   \n",
       "7            41.144264          -81.892763              20.57   \n",
       "8            41.133857          -81.839452              21.18   \n",
       "9            41.075157          -81.941665              25.67   \n",
       "10           41.152373          -81.974847              20.92   \n",
       "11           41.106905          -81.834509              23.05   \n",
       "12           41.131397          -81.861473              21.35   \n",
       "13           41.102768          -81.846885              23.32   \n",
       "14           41.129754          -81.835176              21.47   \n",
       "15           41.124658          -81.867365              21.83   \n",
       "16           41.090658          -81.844605              24.16   \n",
       "17           41.210413          -81.862524              15.90   \n",
       "18           41.104947          -81.949308              23.73   \n",
       "19           41.143814          -81.886658              20.57   \n",
       "20           41.110690          -81.864294              22.78   \n",
       "21           41.167444          -81.917026              19.17   \n",
       "22           41.110641          -81.794594              22.97   \n",
       "23           41.146347          -81.863691              20.32   \n",
       "24           41.125377          -81.840508              21.77   \n",
       "25           41.222498          -81.437658              26.24   \n",
       "26           41.263139          -81.413076              25.85   \n",
       "27           41.233812          -81.424684              26.37   \n",
       "28           41.246180          -81.450590              24.77   \n",
       "29           41.269047          -81.493884              22.02   \n",
       "..                 ...                 ...                ...   \n",
       "932          41.345594          -81.536204              17.62   \n",
       "933          41.305089          -81.560441              17.76   \n",
       "934          40.812276          -81.381419              49.81   \n",
       "935          40.812925          -81.390471              49.54   \n",
       "936          40.810162          -81.389454              49.73   \n",
       "937          41.032938          -81.240341              42.46   \n",
       "938          40.988291          -81.124697              49.06   \n",
       "939          40.988133          -81.195846              46.26   \n",
       "940          41.026629          -81.274556              41.45   \n",
       "941          41.352722          -81.793365               6.77   \n",
       "942          41.268980          -82.100834              17.59   \n",
       "943          41.250662          -82.103988              18.58   \n",
       "944          40.944807          -81.939032              34.53   \n",
       "945          40.930804          -81.894195              35.26   \n",
       "946          41.353381          -82.322811              25.25   \n",
       "947          41.222339          -81.877713              15.13   \n",
       "948          41.033062          -81.930781              28.44   \n",
       "949          41.036882          -81.931934              28.19   \n",
       "950          40.966505          -81.848477              32.72   \n",
       "951          40.886879          -81.883232              38.26   \n",
       "952          41.100234          -81.012705              49.56   \n",
       "953          41.311830          -81.940040              10.03   \n",
       "954          41.348884          -81.887030               6.61   \n",
       "955          41.345624          -81.910873               7.27   \n",
       "956          41.343295          -81.896243               7.12   \n",
       "957          41.036699          -81.079573              48.90   \n",
       "958          41.107602          -82.611493              45.79   \n",
       "959          41.352564          -82.704732              44.79   \n",
       "960          41.337885          -82.054367              12.74   \n",
       "961          40.927130          -81.987450              36.15   \n",
       "\n",
       "                       summary/propclass       summary/propsubtype    ...      \\\n",
       "0    Single Family Residence / Townhouse                     HOUSE    ...       \n",
       "1    Single Family Residence / Townhouse                     HOUSE    ...       \n",
       "2    Single Family Residence / Townhouse                     HOUSE    ...       \n",
       "3    Single Family Residence / Townhouse                     HOUSE    ...       \n",
       "4    Single Family Residence / Townhouse                     HOUSE    ...       \n",
       "5    Single Family Residence / Townhouse                     HOUSE    ...       \n",
       "6    Single Family Residence / Townhouse                     HOUSE    ...       \n",
       "7    Single Family Residence / Townhouse                     HOUSE    ...       \n",
       "8    Single Family Residence / Townhouse                     HOUSE    ...       \n",
       "9    Single Family Residence / Townhouse                     HOUSE    ...       \n",
       "10   Single Family Residence / Townhouse                     HOUSE    ...       \n",
       "11   Single Family Residence / Townhouse                     HOUSE    ...       \n",
       "12   Single Family Residence / Townhouse                     HOUSE    ...       \n",
       "13   Single Family Residence / Townhouse                     HOUSE    ...       \n",
       "14   Single Family Residence / Townhouse                     HOUSE    ...       \n",
       "15   Single Family Residence / Townhouse                     HOUSE    ...       \n",
       "16   Single Family Residence / Townhouse                     HOUSE    ...       \n",
       "17   Single Family Residence / Townhouse                     HOUSE    ...       \n",
       "18   Single Family Residence / Townhouse                     HOUSE    ...       \n",
       "19   Single Family Residence / Townhouse                     HOUSE    ...       \n",
       "20   Single Family Residence / Townhouse                     HOUSE    ...       \n",
       "21   Single Family Residence / Townhouse                     HOUSE    ...       \n",
       "22   Single Family Residence / Townhouse                     HOUSE    ...       \n",
       "23   Single Family Residence / Townhouse                     HOUSE    ...       \n",
       "24   Single Family Residence / Townhouse                     HOUSE    ...       \n",
       "25   Single Family Residence / Townhouse               RESIDENTIAL    ...       \n",
       "26   Single Family Residence / Townhouse               RESIDENTIAL    ...       \n",
       "27   Single Family Residence / Townhouse               RESIDENTIAL    ...       \n",
       "28   Single Family Residence / Townhouse               RESIDENTIAL    ...       \n",
       "29   Single Family Residence / Townhouse               RESIDENTIAL    ...       \n",
       "..                                   ...                       ...    ...       \n",
       "932  Single Family Residence / Townhouse               RESIDENTIAL    ...       \n",
       "933  Single Family Residence / Townhouse               RESIDENTIAL    ...       \n",
       "934  Single Family Residence / Townhouse                     HOUSE    ...       \n",
       "935  Single Family Residence / Townhouse  MISCELLANEOUS INDUSTRIAL    ...       \n",
       "936  Single Family Residence / Townhouse                     HOUSE    ...       \n",
       "937  Single Family Residence / Townhouse               RESIDENTIAL    ...       \n",
       "938  Single Family Residence / Townhouse               RESIDENTIAL    ...       \n",
       "939  Single Family Residence / Townhouse  MISCELLANEOUS INDUSTRIAL    ...       \n",
       "940  Single Family Residence / Townhouse               RESIDENTIAL    ...       \n",
       "941  Single Family Residence / Townhouse               RESIDENTIAL    ...       \n",
       "942  Single Family Residence / Townhouse                     HOUSE    ...       \n",
       "943  Single Family Residence / Townhouse               RESIDENTIAL    ...       \n",
       "944  Single Family Residence / Townhouse               RESIDENTIAL    ...       \n",
       "945  Single Family Residence / Townhouse               RESIDENTIAL    ...       \n",
       "946  Single Family Residence / Townhouse                     HOUSE    ...       \n",
       "947  Single Family Residence / Townhouse                     HOUSE    ...       \n",
       "948  Single Family Residence / Townhouse                     HOUSE    ...       \n",
       "949  Single Family Residence / Townhouse                     HOUSE    ...       \n",
       "950  Single Family Residence / Townhouse               RESIDENTIAL    ...       \n",
       "951  Single Family Residence / Townhouse               RESIDENTIAL    ...       \n",
       "952  Single Family Residence / Townhouse               RESIDENTIAL    ...       \n",
       "953  Single Family Residence / Townhouse               RESIDENTIAL    ...       \n",
       "954  Single Family Residence / Townhouse                     HOUSE    ...       \n",
       "955  Single Family Residence / Townhouse                     HOUSE    ...       \n",
       "956  Single Family Residence / Townhouse                     HOUSE    ...       \n",
       "957  Single Family Residence / Townhouse               RESIDENTIAL    ...       \n",
       "958  Single Family Residence / Townhouse                     HOUSE    ...       \n",
       "959  Single Family Residence / Townhouse                     HOUSE    ...       \n",
       "960  Single Family Residence / Townhouse                     HOUSE    ...       \n",
       "961  Single Family Residence / Townhouse               RESIDENTIAL    ...       \n",
       "\n",
       "     building/rooms/beds  sale/amount/saleamt  sale/amount/salerecdate  \\\n",
       "0                      3               205000               2019-05-17   \n",
       "1                      2               119000               2019-05-15   \n",
       "2                      3               112000               2019-05-06   \n",
       "3                      4               235000               2018-12-17   \n",
       "4                      4               434000               2018-12-14   \n",
       "5                      3               222500               2018-12-03   \n",
       "6                      3               125900               2018-11-16   \n",
       "7                      3               162500               2018-11-15   \n",
       "8                      3               174000               2018-08-17   \n",
       "9                      3               159900               2018-08-15   \n",
       "10                     3                90000               2018-08-06   \n",
       "11                     3               365000               2018-07-19   \n",
       "12                     3               127500               2018-06-25   \n",
       "13                     3               445000               2018-06-22   \n",
       "14                     3                20000               2018-06-22   \n",
       "15                     3               180000               2018-05-29   \n",
       "16                     3               424900               2018-05-24   \n",
       "17                     4               347000               2018-05-08   \n",
       "18                     4               230000               2018-05-07   \n",
       "19                     3               126000               2018-05-02   \n",
       "20                     3               250000               2018-05-01   \n",
       "21                     3               165000               2018-04-10   \n",
       "22                     4               468100               2018-03-01   \n",
       "23                     3               124000               2018-01-24   \n",
       "24                     3               156000               2018-01-18   \n",
       "25                     4               253000               2019-05-16   \n",
       "26                     4               438500               2019-04-23   \n",
       "27                     4               389000               2019-02-07   \n",
       "28                     4              1430000               2018-12-10   \n",
       "29                     4               445000               2018-11-30   \n",
       "..                   ...                  ...                      ...   \n",
       "932                    3               172000               2018-07-23   \n",
       "933                    4               349900               2018-05-24   \n",
       "934                    2                19900               2018-08-10   \n",
       "935                    4               101000               2018-08-10   \n",
       "936                    3                76000               2018-06-13   \n",
       "937                    3               140000               2018-08-10   \n",
       "938                    5               355000               2018-06-15   \n",
       "939                    3               199000               2018-05-04   \n",
       "940                    3                33000               2018-04-23   \n",
       "941                    4               239800               2018-08-06   \n",
       "942                    3               148500               2018-07-27   \n",
       "943                    3               322400               2018-04-13   \n",
       "944                    2                60000               2018-07-06   \n",
       "945                    3               158000               2018-01-16   \n",
       "946                    5               204500               2018-07-03   \n",
       "947                    4               417000               2018-06-26   \n",
       "948                    3               185000               2018-06-14   \n",
       "949                    4               255000               2018-05-04   \n",
       "950                    4               105000               2018-05-29   \n",
       "951                    3               162500               2018-05-07   \n",
       "952                    3               189000               2018-04-06   \n",
       "953                    4               245000               2018-04-04   \n",
       "954                    3                 8000               2018-03-12   \n",
       "955                    2               105000               2018-03-07   \n",
       "956                    4               368000               2018-01-19   \n",
       "957                    3               117500               2018-03-30   \n",
       "958                    4                32000               2018-03-07   \n",
       "959                    3               173000               2018-02-28   \n",
       "960                    3               120000               2018-02-27   \n",
       "961                    3                98000               2018-02-02   \n",
       "\n",
       "     sale/amount/saletranstype  sale/calculation/priceperbed  \\\n",
       "0                       Resale                         68333   \n",
       "1                       Resale                         59500   \n",
       "2                       Resale                         37333   \n",
       "3                       Resale                         58750   \n",
       "4                       Resale                        108500   \n",
       "5                       Resale                         74167   \n",
       "6                       Resale                         41967   \n",
       "7                       Resale                         54167   \n",
       "8                       Resale                         58000   \n",
       "9                       Resale                         53300   \n",
       "10                      Resale                         30000   \n",
       "11                      Resale                        121667   \n",
       "12                      Resale                         42500   \n",
       "13                      Resale                        148333   \n",
       "14                      Resale                          6667   \n",
       "15                      Resale                         60000   \n",
       "16            New Construction                             0   \n",
       "17                      Resale                         86750   \n",
       "18                      Resale                         57500   \n",
       "19                      Resale                         42000   \n",
       "20                      Resale                         83333   \n",
       "21                      Resale                         55000   \n",
       "22            New Construction                             0   \n",
       "23                      Resale                         41333   \n",
       "24                      Resale                         52000   \n",
       "25                      Resale                         63250   \n",
       "26                      Resale                        109625   \n",
       "27                      Resale                         97250   \n",
       "28                      Resale                        357500   \n",
       "29                      Resale                        111250   \n",
       "..                         ...                           ...   \n",
       "932                     Resale                         57333   \n",
       "933                     Resale                         87475   \n",
       "934                     Resale                          9950   \n",
       "935                     Resale                         25250   \n",
       "936                     Resale                         25333   \n",
       "937                     Resale                         46667   \n",
       "938                     Resale                         71000   \n",
       "939                     Resale                         66333   \n",
       "940                     Resale                         11000   \n",
       "941                     Resale                         59950   \n",
       "942                     Resale                         49500   \n",
       "943                     Resale                        107467   \n",
       "944                     Resale                         30000   \n",
       "945                     Resale                         52667   \n",
       "946                     Resale                         40900   \n",
       "947                     Resale                        104250   \n",
       "948                     Resale                         61667   \n",
       "949                     Resale                         63750   \n",
       "950                     Resale                         26250   \n",
       "951                     Resale                         54167   \n",
       "952                     Resale                         63000   \n",
       "953                     Resale                         61250   \n",
       "954                     Resale                          2667   \n",
       "955                     Resale                         52500   \n",
       "956                     Resale                         92000   \n",
       "957                     Resale                         39167   \n",
       "958   REO (Transfer to Lender)                          8000   \n",
       "959                     Resale                         57667   \n",
       "960                     Resale                         40000   \n",
       "961                     Resale                         32667   \n",
       "\n",
       "    sale/calculation/pricepersizeunit median_income  PA/FS  NO_PA/FS  \\\n",
       "0                                 146         76741   1577     22136   \n",
       "1                                 101         76741   1577     22136   \n",
       "2                                  95         76741   1577     22136   \n",
       "3                                 116         76741   1577     22136   \n",
       "4                                  82         76741   1577     22136   \n",
       "5                                 121         76741   1577     22136   \n",
       "6                                 154         76741   1577     22136   \n",
       "7                                 111         76741   1577     22136   \n",
       "8                                 153         76741   1577     22136   \n",
       "9                                 121         76741   1577     22136   \n",
       "10                                 79         76741   1577     22136   \n",
       "11                                 79         76741   1577     22136   \n",
       "12                                100         76741   1577     22136   \n",
       "13                                142         76741   1577     22136   \n",
       "14                                 16         76741   1577     22136   \n",
       "15                                134         76741   1577     22136   \n",
       "16                                  0         76741   1577     22136   \n",
       "17                                224         76741   1577     22136   \n",
       "18                                116         76741   1577     22136   \n",
       "19                                104         76741   1577     22136   \n",
       "20                                134         76741   1577     22136   \n",
       "21                                116         76741   1577     22136   \n",
       "22                                  0         76741   1577     22136   \n",
       "23                                115         76741   1577     22136   \n",
       "24                                108         76741   1577     22136   \n",
       "25                                141        120825    257      8865   \n",
       "26                                145        120825    257      8865   \n",
       "27                                129        120825    257      8865   \n",
       "28                                275        120825    257      8865   \n",
       "29                                139        120825    257      8865   \n",
       "..                                ...           ...    ...       ...   \n",
       "932                               121         74426    243      7836   \n",
       "933                               141         74426    243      7836   \n",
       "934                                16         26168   1378      2273   \n",
       "935                                54         26168   1378      2273   \n",
       "936                                52         26168   1378      2273   \n",
       "937                               107         63493    232      2351   \n",
       "938                               107         63493    232      2351   \n",
       "939                               149         63493    232      2351   \n",
       "940                                23         63493    232      2351   \n",
       "941                                86         53059   2397     19600   \n",
       "942                               150         68552     74      2357   \n",
       "943                               129         68552     74      2357   \n",
       "944                                65         58478    186      1294   \n",
       "945                                82         58478    186      1294   \n",
       "946                                98         65308    552      7790   \n",
       "947                               147         78314     66      1662   \n",
       "948                                95         85417      2       375   \n",
       "949                               120         85417      2       375   \n",
       "950                                58         73182     34       630   \n",
       "951                               142         51089     90       889   \n",
       "952                                77         55417    106       918   \n",
       "953                               110         76352    301      2981   \n",
       "954                                 6         76352    301      2981   \n",
       "955                                82         76352    301      2981   \n",
       "956                               103         76352    301      2981   \n",
       "957                                54         53000    126       626   \n",
       "958                                19         45259     37       397   \n",
       "959                               122         42980   3645     13295   \n",
       "960                                40         69811    590     11827   \n",
       "961                                86         55391    133       718   \n",
       "\n",
       "       perc_fs  \n",
       "0     6.650361  \n",
       "1     6.650361  \n",
       "2     6.650361  \n",
       "3     6.650361  \n",
       "4     6.650361  \n",
       "5     6.650361  \n",
       "6     6.650361  \n",
       "7     6.650361  \n",
       "8     6.650361  \n",
       "9     6.650361  \n",
       "10    6.650361  \n",
       "11    6.650361  \n",
       "12    6.650361  \n",
       "13    6.650361  \n",
       "14    6.650361  \n",
       "15    6.650361  \n",
       "16    6.650361  \n",
       "17    6.650361  \n",
       "18    6.650361  \n",
       "19    6.650361  \n",
       "20    6.650361  \n",
       "21    6.650361  \n",
       "22    6.650361  \n",
       "23    6.650361  \n",
       "24    6.650361  \n",
       "25    2.817365  \n",
       "26    2.817365  \n",
       "27    2.817365  \n",
       "28    2.817365  \n",
       "29    2.817365  \n",
       "..         ...  \n",
       "932   3.007798  \n",
       "933   3.007798  \n",
       "934  37.743084  \n",
       "935  37.743084  \n",
       "936  37.743084  \n",
       "937   8.981804  \n",
       "938   8.981804  \n",
       "939   8.981804  \n",
       "940   8.981804  \n",
       "941  10.896940  \n",
       "942   3.044015  \n",
       "943   3.044015  \n",
       "944  12.567568  \n",
       "945  12.567568  \n",
       "946   6.617118  \n",
       "947   3.819444  \n",
       "948   0.530504  \n",
       "949   0.530504  \n",
       "950   5.120482  \n",
       "951   9.193054  \n",
       "952  10.351562  \n",
       "953   9.171237  \n",
       "954   9.171237  \n",
       "955   9.171237  \n",
       "956   9.171237  \n",
       "957  16.755319  \n",
       "958   8.525346  \n",
       "959  21.517119  \n",
       "960   4.751550  \n",
       "961  15.628672  \n",
       "\n",
       "[962 rows x 23 columns]"
      ]
     },
     "execution_count": 248,
     "metadata": {},
     "output_type": "execute_result"
    }
   ],
   "source": [
    "desc_df9=desc_df8.merge(fs2, how='inner', on='address/postal1')\n",
    "desc_df9"
   ]
  },
  {
   "cell_type": "code",
   "execution_count": 207,
   "metadata": {},
   "outputs": [],
   "source": [
    "desc_df = df_res.sort_values(\"sale/amount/salerecdate\", ascending=False)\n",
    "desc_df2=desc_df.iloc[0:1000, :]\n",
    "#desc_df2.to_csv('desc_df.csv')"
   ]
  },
  {
   "cell_type": "code",
   "execution_count": 208,
   "metadata": {},
   "outputs": [],
   "source": [
    "desc_df4=desc_df3.loc[desc_df3[\"sale/amount/saleamt\"] > 5000, :]"
   ]
  },
  {
   "cell_type": "code",
   "execution_count": 287,
   "metadata": {},
   "outputs": [],
   "source": [
    "desc_df8=desc_df7.loc[desc_df7[\"sale/amount/saleamt\"] < 1500000, :]"
   ]
  },
  {
   "cell_type": "code",
   "execution_count": 210,
   "metadata": {},
   "outputs": [],
   "source": [
    "desc_df3=desc_df2.loc[desc_df2[\"summary/yearbuilt\"] > 1, :]"
   ]
  },
  {
   "cell_type": "code",
   "execution_count": 211,
   "metadata": {},
   "outputs": [],
   "source": [
    "desc_df5=desc_df4.loc[desc_df4['building/rooms/bathstotal'] > 0, :]"
   ]
  },
  {
   "cell_type": "code",
   "execution_count": 303,
   "metadata": {
    "scrolled": true
   },
   "outputs": [
    {
     "data": {
      "text/html": [
       "<div>\n",
       "<style scoped>\n",
       "    .dataframe tbody tr th:only-of-type {\n",
       "        vertical-align: middle;\n",
       "    }\n",
       "\n",
       "    .dataframe tbody tr th {\n",
       "        vertical-align: top;\n",
       "    }\n",
       "\n",
       "    .dataframe thead th {\n",
       "        text-align: right;\n",
       "    }\n",
       "</style>\n",
       "<table border=\"1\" class=\"dataframe\">\n",
       "  <thead>\n",
       "    <tr style=\"text-align: right;\">\n",
       "      <th></th>\n",
       "      <th>LotSizeAcres</th>\n",
       "      <th>med/housing</th>\n",
       "      <th>median_income</th>\n",
       "      <th>perc_fs</th>\n",
       "      <th>location/distance</th>\n",
       "      <th>summary/yearbuilt</th>\n",
       "      <th>building/rooms/bathstotal</th>\n",
       "      <th>building/rooms/beds</th>\n",
       "      <th>sale/amount/saleamt</th>\n",
       "    </tr>\n",
       "  </thead>\n",
       "  <tbody>\n",
       "    <tr>\n",
       "      <th>0</th>\n",
       "      <td>0.2251</td>\n",
       "      <td>201200</td>\n",
       "      <td>76741</td>\n",
       "      <td>6.650361</td>\n",
       "      <td>16.44</td>\n",
       "      <td>2013</td>\n",
       "      <td>3.0</td>\n",
       "      <td>3</td>\n",
       "      <td>205000</td>\n",
       "    </tr>\n",
       "    <tr>\n",
       "      <th>1</th>\n",
       "      <td>0.7800</td>\n",
       "      <td>201200</td>\n",
       "      <td>76741</td>\n",
       "      <td>6.650361</td>\n",
       "      <td>22.41</td>\n",
       "      <td>1860</td>\n",
       "      <td>1.0</td>\n",
       "      <td>2</td>\n",
       "      <td>119000</td>\n",
       "    </tr>\n",
       "    <tr>\n",
       "      <th>2</th>\n",
       "      <td>0.1417</td>\n",
       "      <td>201200</td>\n",
       "      <td>76741</td>\n",
       "      <td>6.650361</td>\n",
       "      <td>20.62</td>\n",
       "      <td>1955</td>\n",
       "      <td>1.0</td>\n",
       "      <td>3</td>\n",
       "      <td>112000</td>\n",
       "    </tr>\n",
       "    <tr>\n",
       "      <th>3</th>\n",
       "      <td>4.0200</td>\n",
       "      <td>201200</td>\n",
       "      <td>76741</td>\n",
       "      <td>6.650361</td>\n",
       "      <td>20.24</td>\n",
       "      <td>1971</td>\n",
       "      <td>2.0</td>\n",
       "      <td>4</td>\n",
       "      <td>235000</td>\n",
       "    </tr>\n",
       "    <tr>\n",
       "      <th>4</th>\n",
       "      <td>10.3800</td>\n",
       "      <td>201200</td>\n",
       "      <td>76741</td>\n",
       "      <td>6.650361</td>\n",
       "      <td>18.76</td>\n",
       "      <td>1958</td>\n",
       "      <td>6.0</td>\n",
       "      <td>4</td>\n",
       "      <td>434000</td>\n",
       "    </tr>\n",
       "    <tr>\n",
       "      <th>5</th>\n",
       "      <td>0.3100</td>\n",
       "      <td>201200</td>\n",
       "      <td>76741</td>\n",
       "      <td>6.650361</td>\n",
       "      <td>18.75</td>\n",
       "      <td>1994</td>\n",
       "      <td>3.0</td>\n",
       "      <td>3</td>\n",
       "      <td>222500</td>\n",
       "    </tr>\n",
       "    <tr>\n",
       "      <th>6</th>\n",
       "      <td>0.2397</td>\n",
       "      <td>201200</td>\n",
       "      <td>76741</td>\n",
       "      <td>6.650361</td>\n",
       "      <td>21.59</td>\n",
       "      <td>1956</td>\n",
       "      <td>1.0</td>\n",
       "      <td>3</td>\n",
       "      <td>125900</td>\n",
       "    </tr>\n",
       "    <tr>\n",
       "      <th>7</th>\n",
       "      <td>0.1600</td>\n",
       "      <td>201200</td>\n",
       "      <td>76741</td>\n",
       "      <td>6.650361</td>\n",
       "      <td>20.57</td>\n",
       "      <td>1996</td>\n",
       "      <td>1.0</td>\n",
       "      <td>3</td>\n",
       "      <td>162500</td>\n",
       "    </tr>\n",
       "    <tr>\n",
       "      <th>8</th>\n",
       "      <td>0.3753</td>\n",
       "      <td>201200</td>\n",
       "      <td>76741</td>\n",
       "      <td>6.650361</td>\n",
       "      <td>21.18</td>\n",
       "      <td>1984</td>\n",
       "      <td>2.0</td>\n",
       "      <td>3</td>\n",
       "      <td>174000</td>\n",
       "    </tr>\n",
       "    <tr>\n",
       "      <th>9</th>\n",
       "      <td>1.0000</td>\n",
       "      <td>201200</td>\n",
       "      <td>76741</td>\n",
       "      <td>6.650361</td>\n",
       "      <td>25.67</td>\n",
       "      <td>1969</td>\n",
       "      <td>2.0</td>\n",
       "      <td>3</td>\n",
       "      <td>159900</td>\n",
       "    </tr>\n",
       "    <tr>\n",
       "      <th>10</th>\n",
       "      <td>1.0000</td>\n",
       "      <td>201200</td>\n",
       "      <td>76741</td>\n",
       "      <td>6.650361</td>\n",
       "      <td>20.92</td>\n",
       "      <td>1965</td>\n",
       "      <td>2.0</td>\n",
       "      <td>3</td>\n",
       "      <td>90000</td>\n",
       "    </tr>\n",
       "    <tr>\n",
       "      <th>11</th>\n",
       "      <td>1.0000</td>\n",
       "      <td>201200</td>\n",
       "      <td>76741</td>\n",
       "      <td>6.650361</td>\n",
       "      <td>23.05</td>\n",
       "      <td>1972</td>\n",
       "      <td>4.0</td>\n",
       "      <td>3</td>\n",
       "      <td>365000</td>\n",
       "    </tr>\n",
       "    <tr>\n",
       "      <th>12</th>\n",
       "      <td>0.2984</td>\n",
       "      <td>201200</td>\n",
       "      <td>76741</td>\n",
       "      <td>6.650361</td>\n",
       "      <td>21.35</td>\n",
       "      <td>1920</td>\n",
       "      <td>1.0</td>\n",
       "      <td>3</td>\n",
       "      <td>127500</td>\n",
       "    </tr>\n",
       "    <tr>\n",
       "      <th>13</th>\n",
       "      <td>0.7100</td>\n",
       "      <td>201200</td>\n",
       "      <td>76741</td>\n",
       "      <td>6.650361</td>\n",
       "      <td>23.32</td>\n",
       "      <td>1998</td>\n",
       "      <td>4.0</td>\n",
       "      <td>3</td>\n",
       "      <td>445000</td>\n",
       "    </tr>\n",
       "    <tr>\n",
       "      <th>14</th>\n",
       "      <td>1.4900</td>\n",
       "      <td>201200</td>\n",
       "      <td>76741</td>\n",
       "      <td>6.650361</td>\n",
       "      <td>21.47</td>\n",
       "      <td>1947</td>\n",
       "      <td>2.0</td>\n",
       "      <td>3</td>\n",
       "      <td>20000</td>\n",
       "    </tr>\n",
       "    <tr>\n",
       "      <th>15</th>\n",
       "      <td>0.5845</td>\n",
       "      <td>201200</td>\n",
       "      <td>76741</td>\n",
       "      <td>6.650361</td>\n",
       "      <td>21.83</td>\n",
       "      <td>1956</td>\n",
       "      <td>2.0</td>\n",
       "      <td>3</td>\n",
       "      <td>180000</td>\n",
       "    </tr>\n",
       "    <tr>\n",
       "      <th>16</th>\n",
       "      <td>0.5484</td>\n",
       "      <td>201200</td>\n",
       "      <td>76741</td>\n",
       "      <td>6.650361</td>\n",
       "      <td>24.16</td>\n",
       "      <td>2017</td>\n",
       "      <td>3.0</td>\n",
       "      <td>3</td>\n",
       "      <td>424900</td>\n",
       "    </tr>\n",
       "    <tr>\n",
       "      <th>17</th>\n",
       "      <td>2.2400</td>\n",
       "      <td>201200</td>\n",
       "      <td>76741</td>\n",
       "      <td>6.650361</td>\n",
       "      <td>15.90</td>\n",
       "      <td>1999</td>\n",
       "      <td>3.0</td>\n",
       "      <td>4</td>\n",
       "      <td>347000</td>\n",
       "    </tr>\n",
       "    <tr>\n",
       "      <th>18</th>\n",
       "      <td>1.5500</td>\n",
       "      <td>201200</td>\n",
       "      <td>76741</td>\n",
       "      <td>6.650361</td>\n",
       "      <td>23.73</td>\n",
       "      <td>1978</td>\n",
       "      <td>3.0</td>\n",
       "      <td>4</td>\n",
       "      <td>230000</td>\n",
       "    </tr>\n",
       "    <tr>\n",
       "      <th>19</th>\n",
       "      <td>0.1607</td>\n",
       "      <td>201200</td>\n",
       "      <td>76741</td>\n",
       "      <td>6.650361</td>\n",
       "      <td>20.57</td>\n",
       "      <td>1975</td>\n",
       "      <td>1.0</td>\n",
       "      <td>3</td>\n",
       "      <td>126000</td>\n",
       "    </tr>\n",
       "    <tr>\n",
       "      <th>20</th>\n",
       "      <td>5.0000</td>\n",
       "      <td>201200</td>\n",
       "      <td>76741</td>\n",
       "      <td>6.650361</td>\n",
       "      <td>22.78</td>\n",
       "      <td>1870</td>\n",
       "      <td>2.0</td>\n",
       "      <td>3</td>\n",
       "      <td>250000</td>\n",
       "    </tr>\n",
       "    <tr>\n",
       "      <th>21</th>\n",
       "      <td>1.0000</td>\n",
       "      <td>201200</td>\n",
       "      <td>76741</td>\n",
       "      <td>6.650361</td>\n",
       "      <td>19.17</td>\n",
       "      <td>1969</td>\n",
       "      <td>2.0</td>\n",
       "      <td>3</td>\n",
       "      <td>165000</td>\n",
       "    </tr>\n",
       "    <tr>\n",
       "      <th>22</th>\n",
       "      <td>0.3700</td>\n",
       "      <td>201200</td>\n",
       "      <td>76741</td>\n",
       "      <td>6.650361</td>\n",
       "      <td>22.97</td>\n",
       "      <td>2017</td>\n",
       "      <td>4.0</td>\n",
       "      <td>4</td>\n",
       "      <td>468100</td>\n",
       "    </tr>\n",
       "    <tr>\n",
       "      <th>23</th>\n",
       "      <td>0.1894</td>\n",
       "      <td>201200</td>\n",
       "      <td>76741</td>\n",
       "      <td>6.650361</td>\n",
       "      <td>20.32</td>\n",
       "      <td>1922</td>\n",
       "      <td>1.0</td>\n",
       "      <td>3</td>\n",
       "      <td>124000</td>\n",
       "    </tr>\n",
       "    <tr>\n",
       "      <th>24</th>\n",
       "      <td>0.2740</td>\n",
       "      <td>201200</td>\n",
       "      <td>76741</td>\n",
       "      <td>6.650361</td>\n",
       "      <td>21.77</td>\n",
       "      <td>1975</td>\n",
       "      <td>2.0</td>\n",
       "      <td>3</td>\n",
       "      <td>156000</td>\n",
       "    </tr>\n",
       "    <tr>\n",
       "      <th>25</th>\n",
       "      <td>0.4649</td>\n",
       "      <td>316600</td>\n",
       "      <td>120825</td>\n",
       "      <td>2.817365</td>\n",
       "      <td>26.24</td>\n",
       "      <td>1970</td>\n",
       "      <td>3.0</td>\n",
       "      <td>4</td>\n",
       "      <td>253000</td>\n",
       "    </tr>\n",
       "    <tr>\n",
       "      <th>26</th>\n",
       "      <td>0.5289</td>\n",
       "      <td>316600</td>\n",
       "      <td>120825</td>\n",
       "      <td>2.817365</td>\n",
       "      <td>25.85</td>\n",
       "      <td>1989</td>\n",
       "      <td>3.0</td>\n",
       "      <td>4</td>\n",
       "      <td>438500</td>\n",
       "    </tr>\n",
       "    <tr>\n",
       "      <th>27</th>\n",
       "      <td>0.3903</td>\n",
       "      <td>316600</td>\n",
       "      <td>120825</td>\n",
       "      <td>2.817365</td>\n",
       "      <td>26.37</td>\n",
       "      <td>1972</td>\n",
       "      <td>3.0</td>\n",
       "      <td>4</td>\n",
       "      <td>389000</td>\n",
       "    </tr>\n",
       "    <tr>\n",
       "      <th>28</th>\n",
       "      <td>1.0190</td>\n",
       "      <td>316600</td>\n",
       "      <td>120825</td>\n",
       "      <td>2.817365</td>\n",
       "      <td>24.77</td>\n",
       "      <td>2013</td>\n",
       "      <td>7.0</td>\n",
       "      <td>4</td>\n",
       "      <td>1430000</td>\n",
       "    </tr>\n",
       "    <tr>\n",
       "      <th>29</th>\n",
       "      <td>1.0475</td>\n",
       "      <td>316600</td>\n",
       "      <td>120825</td>\n",
       "      <td>2.817365</td>\n",
       "      <td>22.02</td>\n",
       "      <td>1997</td>\n",
       "      <td>4.0</td>\n",
       "      <td>4</td>\n",
       "      <td>445000</td>\n",
       "    </tr>\n",
       "    <tr>\n",
       "      <th>...</th>\n",
       "      <td>...</td>\n",
       "      <td>...</td>\n",
       "      <td>...</td>\n",
       "      <td>...</td>\n",
       "      <td>...</td>\n",
       "      <td>...</td>\n",
       "      <td>...</td>\n",
       "      <td>...</td>\n",
       "      <td>...</td>\n",
       "    </tr>\n",
       "    <tr>\n",
       "      <th>932</th>\n",
       "      <td>0.1942</td>\n",
       "      <td>184000</td>\n",
       "      <td>74426</td>\n",
       "      <td>3.007798</td>\n",
       "      <td>17.62</td>\n",
       "      <td>1965</td>\n",
       "      <td>2.0</td>\n",
       "      <td>3</td>\n",
       "      <td>172000</td>\n",
       "    </tr>\n",
       "    <tr>\n",
       "      <th>933</th>\n",
       "      <td>0.2645</td>\n",
       "      <td>184000</td>\n",
       "      <td>74426</td>\n",
       "      <td>3.007798</td>\n",
       "      <td>17.76</td>\n",
       "      <td>2000</td>\n",
       "      <td>4.0</td>\n",
       "      <td>4</td>\n",
       "      <td>349900</td>\n",
       "    </tr>\n",
       "    <tr>\n",
       "      <th>934</th>\n",
       "      <td>0.1041</td>\n",
       "      <td>54900</td>\n",
       "      <td>26168</td>\n",
       "      <td>37.743084</td>\n",
       "      <td>49.81</td>\n",
       "      <td>1908</td>\n",
       "      <td>2.0</td>\n",
       "      <td>2</td>\n",
       "      <td>19900</td>\n",
       "    </tr>\n",
       "    <tr>\n",
       "      <th>935</th>\n",
       "      <td>0.1339</td>\n",
       "      <td>54900</td>\n",
       "      <td>26168</td>\n",
       "      <td>37.743084</td>\n",
       "      <td>49.54</td>\n",
       "      <td>1922</td>\n",
       "      <td>2.0</td>\n",
       "      <td>4</td>\n",
       "      <td>101000</td>\n",
       "    </tr>\n",
       "    <tr>\n",
       "      <th>936</th>\n",
       "      <td>0.1333</td>\n",
       "      <td>54900</td>\n",
       "      <td>26168</td>\n",
       "      <td>37.743084</td>\n",
       "      <td>49.73</td>\n",
       "      <td>1925</td>\n",
       "      <td>2.0</td>\n",
       "      <td>3</td>\n",
       "      <td>76000</td>\n",
       "    </tr>\n",
       "    <tr>\n",
       "      <th>937</th>\n",
       "      <td>2.0400</td>\n",
       "      <td>166700</td>\n",
       "      <td>63493</td>\n",
       "      <td>8.981804</td>\n",
       "      <td>42.46</td>\n",
       "      <td>1953</td>\n",
       "      <td>2.0</td>\n",
       "      <td>3</td>\n",
       "      <td>140000</td>\n",
       "    </tr>\n",
       "    <tr>\n",
       "      <th>938</th>\n",
       "      <td>5.9200</td>\n",
       "      <td>166700</td>\n",
       "      <td>63493</td>\n",
       "      <td>8.981804</td>\n",
       "      <td>49.06</td>\n",
       "      <td>1993</td>\n",
       "      <td>4.0</td>\n",
       "      <td>5</td>\n",
       "      <td>355000</td>\n",
       "    </tr>\n",
       "    <tr>\n",
       "      <th>939</th>\n",
       "      <td>2.1800</td>\n",
       "      <td>166700</td>\n",
       "      <td>63493</td>\n",
       "      <td>8.981804</td>\n",
       "      <td>46.26</td>\n",
       "      <td>1968</td>\n",
       "      <td>2.0</td>\n",
       "      <td>3</td>\n",
       "      <td>199000</td>\n",
       "    </tr>\n",
       "    <tr>\n",
       "      <th>940</th>\n",
       "      <td>0.5320</td>\n",
       "      <td>166700</td>\n",
       "      <td>63493</td>\n",
       "      <td>8.981804</td>\n",
       "      <td>41.45</td>\n",
       "      <td>1955</td>\n",
       "      <td>1.0</td>\n",
       "      <td>3</td>\n",
       "      <td>33000</td>\n",
       "    </tr>\n",
       "    <tr>\n",
       "      <th>941</th>\n",
       "      <td>0.4400</td>\n",
       "      <td>125600</td>\n",
       "      <td>53059</td>\n",
       "      <td>10.896940</td>\n",
       "      <td>6.77</td>\n",
       "      <td>1973</td>\n",
       "      <td>3.0</td>\n",
       "      <td>4</td>\n",
       "      <td>239800</td>\n",
       "    </tr>\n",
       "    <tr>\n",
       "      <th>942</th>\n",
       "      <td>5.0000</td>\n",
       "      <td>165200</td>\n",
       "      <td>68552</td>\n",
       "      <td>3.044015</td>\n",
       "      <td>17.59</td>\n",
       "      <td>1957</td>\n",
       "      <td>1.0</td>\n",
       "      <td>3</td>\n",
       "      <td>148500</td>\n",
       "    </tr>\n",
       "    <tr>\n",
       "      <th>943</th>\n",
       "      <td>0.0000</td>\n",
       "      <td>165200</td>\n",
       "      <td>68552</td>\n",
       "      <td>3.044015</td>\n",
       "      <td>18.58</td>\n",
       "      <td>2015</td>\n",
       "      <td>3.0</td>\n",
       "      <td>3</td>\n",
       "      <td>322400</td>\n",
       "    </tr>\n",
       "    <tr>\n",
       "      <th>944</th>\n",
       "      <td>2.7800</td>\n",
       "      <td>124400</td>\n",
       "      <td>58478</td>\n",
       "      <td>12.567568</td>\n",
       "      <td>34.53</td>\n",
       "      <td>1900</td>\n",
       "      <td>1.0</td>\n",
       "      <td>2</td>\n",
       "      <td>60000</td>\n",
       "    </tr>\n",
       "    <tr>\n",
       "      <th>945</th>\n",
       "      <td>2.7010</td>\n",
       "      <td>124400</td>\n",
       "      <td>58478</td>\n",
       "      <td>12.567568</td>\n",
       "      <td>35.26</td>\n",
       "      <td>2002</td>\n",
       "      <td>2.0</td>\n",
       "      <td>3</td>\n",
       "      <td>158000</td>\n",
       "    </tr>\n",
       "    <tr>\n",
       "      <th>946</th>\n",
       "      <td>1.4400</td>\n",
       "      <td>148000</td>\n",
       "      <td>65308</td>\n",
       "      <td>6.617118</td>\n",
       "      <td>25.25</td>\n",
       "      <td>2004</td>\n",
       "      <td>2.0</td>\n",
       "      <td>5</td>\n",
       "      <td>204500</td>\n",
       "    </tr>\n",
       "    <tr>\n",
       "      <th>947</th>\n",
       "      <td>1.7500</td>\n",
       "      <td>261300</td>\n",
       "      <td>78314</td>\n",
       "      <td>3.819444</td>\n",
       "      <td>15.13</td>\n",
       "      <td>2002</td>\n",
       "      <td>3.0</td>\n",
       "      <td>4</td>\n",
       "      <td>417000</td>\n",
       "    </tr>\n",
       "    <tr>\n",
       "      <th>948</th>\n",
       "      <td>0.4678</td>\n",
       "      <td>224100</td>\n",
       "      <td>85417</td>\n",
       "      <td>0.530504</td>\n",
       "      <td>28.44</td>\n",
       "      <td>1970</td>\n",
       "      <td>4.0</td>\n",
       "      <td>3</td>\n",
       "      <td>185000</td>\n",
       "    </tr>\n",
       "    <tr>\n",
       "      <th>949</th>\n",
       "      <td>1.3900</td>\n",
       "      <td>224100</td>\n",
       "      <td>85417</td>\n",
       "      <td>0.530504</td>\n",
       "      <td>28.19</td>\n",
       "      <td>1979</td>\n",
       "      <td>3.0</td>\n",
       "      <td>4</td>\n",
       "      <td>255000</td>\n",
       "    </tr>\n",
       "    <tr>\n",
       "      <th>950</th>\n",
       "      <td>0.1722</td>\n",
       "      <td>135200</td>\n",
       "      <td>73182</td>\n",
       "      <td>5.120482</td>\n",
       "      <td>32.72</td>\n",
       "      <td>1914</td>\n",
       "      <td>2.0</td>\n",
       "      <td>4</td>\n",
       "      <td>105000</td>\n",
       "    </tr>\n",
       "    <tr>\n",
       "      <th>951</th>\n",
       "      <td>2.0030</td>\n",
       "      <td>135900</td>\n",
       "      <td>51089</td>\n",
       "      <td>9.193054</td>\n",
       "      <td>38.26</td>\n",
       "      <td>2003</td>\n",
       "      <td>1.0</td>\n",
       "      <td>3</td>\n",
       "      <td>162500</td>\n",
       "    </tr>\n",
       "    <tr>\n",
       "      <th>952</th>\n",
       "      <td>3.4050</td>\n",
       "      <td>166000</td>\n",
       "      <td>55417</td>\n",
       "      <td>10.351562</td>\n",
       "      <td>49.56</td>\n",
       "      <td>2003</td>\n",
       "      <td>3.0</td>\n",
       "      <td>3</td>\n",
       "      <td>189000</td>\n",
       "    </tr>\n",
       "    <tr>\n",
       "      <th>953</th>\n",
       "      <td>0.1500</td>\n",
       "      <td>192400</td>\n",
       "      <td>76352</td>\n",
       "      <td>9.171237</td>\n",
       "      <td>10.03</td>\n",
       "      <td>2013</td>\n",
       "      <td>3.0</td>\n",
       "      <td>4</td>\n",
       "      <td>245000</td>\n",
       "    </tr>\n",
       "    <tr>\n",
       "      <th>954</th>\n",
       "      <td>0.1300</td>\n",
       "      <td>192400</td>\n",
       "      <td>76352</td>\n",
       "      <td>9.171237</td>\n",
       "      <td>6.61</td>\n",
       "      <td>1944</td>\n",
       "      <td>2.0</td>\n",
       "      <td>3</td>\n",
       "      <td>8000</td>\n",
       "    </tr>\n",
       "    <tr>\n",
       "      <th>955</th>\n",
       "      <td>4.5900</td>\n",
       "      <td>192400</td>\n",
       "      <td>76352</td>\n",
       "      <td>9.171237</td>\n",
       "      <td>7.27</td>\n",
       "      <td>1945</td>\n",
       "      <td>1.0</td>\n",
       "      <td>2</td>\n",
       "      <td>105000</td>\n",
       "    </tr>\n",
       "    <tr>\n",
       "      <th>956</th>\n",
       "      <td>2.9800</td>\n",
       "      <td>192400</td>\n",
       "      <td>76352</td>\n",
       "      <td>9.171237</td>\n",
       "      <td>7.12</td>\n",
       "      <td>1966</td>\n",
       "      <td>3.0</td>\n",
       "      <td>4</td>\n",
       "      <td>368000</td>\n",
       "    </tr>\n",
       "    <tr>\n",
       "      <th>957</th>\n",
       "      <td>2.0000</td>\n",
       "      <td>141200</td>\n",
       "      <td>53000</td>\n",
       "      <td>16.755319</td>\n",
       "      <td>48.90</td>\n",
       "      <td>1972</td>\n",
       "      <td>1.0</td>\n",
       "      <td>3</td>\n",
       "      <td>117500</td>\n",
       "    </tr>\n",
       "    <tr>\n",
       "      <th>958</th>\n",
       "      <td>0.1700</td>\n",
       "      <td>124200</td>\n",
       "      <td>45259</td>\n",
       "      <td>8.525346</td>\n",
       "      <td>45.79</td>\n",
       "      <td>1913</td>\n",
       "      <td>2.0</td>\n",
       "      <td>4</td>\n",
       "      <td>32000</td>\n",
       "    </tr>\n",
       "    <tr>\n",
       "      <th>959</th>\n",
       "      <td>1.6300</td>\n",
       "      <td>104000</td>\n",
       "      <td>42980</td>\n",
       "      <td>21.517119</td>\n",
       "      <td>44.79</td>\n",
       "      <td>1979</td>\n",
       "      <td>2.0</td>\n",
       "      <td>3</td>\n",
       "      <td>173000</td>\n",
       "    </tr>\n",
       "    <tr>\n",
       "      <th>960</th>\n",
       "      <td>0.9300</td>\n",
       "      <td>164900</td>\n",
       "      <td>69811</td>\n",
       "      <td>4.751550</td>\n",
       "      <td>12.74</td>\n",
       "      <td>1993</td>\n",
       "      <td>4.0</td>\n",
       "      <td>3</td>\n",
       "      <td>120000</td>\n",
       "    </tr>\n",
       "    <tr>\n",
       "      <th>961</th>\n",
       "      <td>2.6990</td>\n",
       "      <td>166500</td>\n",
       "      <td>55391</td>\n",
       "      <td>15.628672</td>\n",
       "      <td>36.15</td>\n",
       "      <td>1860</td>\n",
       "      <td>2.0</td>\n",
       "      <td>3</td>\n",
       "      <td>98000</td>\n",
       "    </tr>\n",
       "  </tbody>\n",
       "</table>\n",
       "<p>962 rows × 9 columns</p>\n",
       "</div>"
      ],
      "text/plain": [
       "     LotSizeAcres  med/housing  median_income    perc_fs  location/distance  \\\n",
       "0          0.2251       201200          76741   6.650361              16.44   \n",
       "1          0.7800       201200          76741   6.650361              22.41   \n",
       "2          0.1417       201200          76741   6.650361              20.62   \n",
       "3          4.0200       201200          76741   6.650361              20.24   \n",
       "4         10.3800       201200          76741   6.650361              18.76   \n",
       "5          0.3100       201200          76741   6.650361              18.75   \n",
       "6          0.2397       201200          76741   6.650361              21.59   \n",
       "7          0.1600       201200          76741   6.650361              20.57   \n",
       "8          0.3753       201200          76741   6.650361              21.18   \n",
       "9          1.0000       201200          76741   6.650361              25.67   \n",
       "10         1.0000       201200          76741   6.650361              20.92   \n",
       "11         1.0000       201200          76741   6.650361              23.05   \n",
       "12         0.2984       201200          76741   6.650361              21.35   \n",
       "13         0.7100       201200          76741   6.650361              23.32   \n",
       "14         1.4900       201200          76741   6.650361              21.47   \n",
       "15         0.5845       201200          76741   6.650361              21.83   \n",
       "16         0.5484       201200          76741   6.650361              24.16   \n",
       "17         2.2400       201200          76741   6.650361              15.90   \n",
       "18         1.5500       201200          76741   6.650361              23.73   \n",
       "19         0.1607       201200          76741   6.650361              20.57   \n",
       "20         5.0000       201200          76741   6.650361              22.78   \n",
       "21         1.0000       201200          76741   6.650361              19.17   \n",
       "22         0.3700       201200          76741   6.650361              22.97   \n",
       "23         0.1894       201200          76741   6.650361              20.32   \n",
       "24         0.2740       201200          76741   6.650361              21.77   \n",
       "25         0.4649       316600         120825   2.817365              26.24   \n",
       "26         0.5289       316600         120825   2.817365              25.85   \n",
       "27         0.3903       316600         120825   2.817365              26.37   \n",
       "28         1.0190       316600         120825   2.817365              24.77   \n",
       "29         1.0475       316600         120825   2.817365              22.02   \n",
       "..            ...          ...            ...        ...                ...   \n",
       "932        0.1942       184000          74426   3.007798              17.62   \n",
       "933        0.2645       184000          74426   3.007798              17.76   \n",
       "934        0.1041        54900          26168  37.743084              49.81   \n",
       "935        0.1339        54900          26168  37.743084              49.54   \n",
       "936        0.1333        54900          26168  37.743084              49.73   \n",
       "937        2.0400       166700          63493   8.981804              42.46   \n",
       "938        5.9200       166700          63493   8.981804              49.06   \n",
       "939        2.1800       166700          63493   8.981804              46.26   \n",
       "940        0.5320       166700          63493   8.981804              41.45   \n",
       "941        0.4400       125600          53059  10.896940               6.77   \n",
       "942        5.0000       165200          68552   3.044015              17.59   \n",
       "943        0.0000       165200          68552   3.044015              18.58   \n",
       "944        2.7800       124400          58478  12.567568              34.53   \n",
       "945        2.7010       124400          58478  12.567568              35.26   \n",
       "946        1.4400       148000          65308   6.617118              25.25   \n",
       "947        1.7500       261300          78314   3.819444              15.13   \n",
       "948        0.4678       224100          85417   0.530504              28.44   \n",
       "949        1.3900       224100          85417   0.530504              28.19   \n",
       "950        0.1722       135200          73182   5.120482              32.72   \n",
       "951        2.0030       135900          51089   9.193054              38.26   \n",
       "952        3.4050       166000          55417  10.351562              49.56   \n",
       "953        0.1500       192400          76352   9.171237              10.03   \n",
       "954        0.1300       192400          76352   9.171237               6.61   \n",
       "955        4.5900       192400          76352   9.171237               7.27   \n",
       "956        2.9800       192400          76352   9.171237               7.12   \n",
       "957        2.0000       141200          53000  16.755319              48.90   \n",
       "958        0.1700       124200          45259   8.525346              45.79   \n",
       "959        1.6300       104000          42980  21.517119              44.79   \n",
       "960        0.9300       164900          69811   4.751550              12.74   \n",
       "961        2.6990       166500          55391  15.628672              36.15   \n",
       "\n",
       "     summary/yearbuilt  building/rooms/bathstotal  building/rooms/beds  \\\n",
       "0                 2013                        3.0                    3   \n",
       "1                 1860                        1.0                    2   \n",
       "2                 1955                        1.0                    3   \n",
       "3                 1971                        2.0                    4   \n",
       "4                 1958                        6.0                    4   \n",
       "5                 1994                        3.0                    3   \n",
       "6                 1956                        1.0                    3   \n",
       "7                 1996                        1.0                    3   \n",
       "8                 1984                        2.0                    3   \n",
       "9                 1969                        2.0                    3   \n",
       "10                1965                        2.0                    3   \n",
       "11                1972                        4.0                    3   \n",
       "12                1920                        1.0                    3   \n",
       "13                1998                        4.0                    3   \n",
       "14                1947                        2.0                    3   \n",
       "15                1956                        2.0                    3   \n",
       "16                2017                        3.0                    3   \n",
       "17                1999                        3.0                    4   \n",
       "18                1978                        3.0                    4   \n",
       "19                1975                        1.0                    3   \n",
       "20                1870                        2.0                    3   \n",
       "21                1969                        2.0                    3   \n",
       "22                2017                        4.0                    4   \n",
       "23                1922                        1.0                    3   \n",
       "24                1975                        2.0                    3   \n",
       "25                1970                        3.0                    4   \n",
       "26                1989                        3.0                    4   \n",
       "27                1972                        3.0                    4   \n",
       "28                2013                        7.0                    4   \n",
       "29                1997                        4.0                    4   \n",
       "..                 ...                        ...                  ...   \n",
       "932               1965                        2.0                    3   \n",
       "933               2000                        4.0                    4   \n",
       "934               1908                        2.0                    2   \n",
       "935               1922                        2.0                    4   \n",
       "936               1925                        2.0                    3   \n",
       "937               1953                        2.0                    3   \n",
       "938               1993                        4.0                    5   \n",
       "939               1968                        2.0                    3   \n",
       "940               1955                        1.0                    3   \n",
       "941               1973                        3.0                    4   \n",
       "942               1957                        1.0                    3   \n",
       "943               2015                        3.0                    3   \n",
       "944               1900                        1.0                    2   \n",
       "945               2002                        2.0                    3   \n",
       "946               2004                        2.0                    5   \n",
       "947               2002                        3.0                    4   \n",
       "948               1970                        4.0                    3   \n",
       "949               1979                        3.0                    4   \n",
       "950               1914                        2.0                    4   \n",
       "951               2003                        1.0                    3   \n",
       "952               2003                        3.0                    3   \n",
       "953               2013                        3.0                    4   \n",
       "954               1944                        2.0                    3   \n",
       "955               1945                        1.0                    2   \n",
       "956               1966                        3.0                    4   \n",
       "957               1972                        1.0                    3   \n",
       "958               1913                        2.0                    4   \n",
       "959               1979                        2.0                    3   \n",
       "960               1993                        4.0                    3   \n",
       "961               1860                        2.0                    3   \n",
       "\n",
       "     sale/amount/saleamt  \n",
       "0                 205000  \n",
       "1                 119000  \n",
       "2                 112000  \n",
       "3                 235000  \n",
       "4                 434000  \n",
       "5                 222500  \n",
       "6                 125900  \n",
       "7                 162500  \n",
       "8                 174000  \n",
       "9                 159900  \n",
       "10                 90000  \n",
       "11                365000  \n",
       "12                127500  \n",
       "13                445000  \n",
       "14                 20000  \n",
       "15                180000  \n",
       "16                424900  \n",
       "17                347000  \n",
       "18                230000  \n",
       "19                126000  \n",
       "20                250000  \n",
       "21                165000  \n",
       "22                468100  \n",
       "23                124000  \n",
       "24                156000  \n",
       "25                253000  \n",
       "26                438500  \n",
       "27                389000  \n",
       "28               1430000  \n",
       "29                445000  \n",
       "..                   ...  \n",
       "932               172000  \n",
       "933               349900  \n",
       "934                19900  \n",
       "935               101000  \n",
       "936                76000  \n",
       "937               140000  \n",
       "938               355000  \n",
       "939               199000  \n",
       "940                33000  \n",
       "941               239800  \n",
       "942               148500  \n",
       "943               322400  \n",
       "944                60000  \n",
       "945               158000  \n",
       "946               204500  \n",
       "947               417000  \n",
       "948               185000  \n",
       "949               255000  \n",
       "950               105000  \n",
       "951               162500  \n",
       "952               189000  \n",
       "953               245000  \n",
       "954                 8000  \n",
       "955               105000  \n",
       "956               368000  \n",
       "957               117500  \n",
       "958                32000  \n",
       "959               173000  \n",
       "960               120000  \n",
       "961                98000  \n",
       "\n",
       "[962 rows x 9 columns]"
      ]
     },
     "execution_count": 303,
     "metadata": {},
     "output_type": "execute_result"
    }
   ],
   "source": [
    "ML_df=desc_df10.loc[:, [\"LotSizeAcres\", \"med/housing\", \"median_income\", \"perc_fs\", \"location/distance\", \"summary/yearbuilt\", \"building/rooms/bathstotal\", \"building/rooms/beds\", \"sale/amount/saleamt\"]]\n",
    "ML_df.to_csv('ML.csv')\n",
    "ML_df"
   ]
  },
  {
   "cell_type": "code",
   "execution_count": 304,
   "metadata": {},
   "outputs": [
    {
     "name": "stdout",
     "output_type": "stream",
     "text": [
      "(962, 8) (962, 1)\n"
     ]
    }
   ],
   "source": [
    "X = ML_df[[\"LotSizeAcres\", \"location/distance\", \"med/housing\", \"perc_fs\", \"median_income\", \"summary/yearbuilt\", \"building/rooms/bathstotal\", \"building/rooms/beds\"]]\n",
    "y = ML_df[\"sale/amount/saleamt\"].values.reshape(-1, 1)\n",
    "print(X.shape, y.shape)"
   ]
  },
  {
   "cell_type": "code",
   "execution_count": 331,
   "metadata": {},
   "outputs": [],
   "source": [
    "from sklearn.model_selection import train_test_split\n",
    "\n",
    "X_train, X_test, y_train, y_test = train_test_split(X, y, random_state=10)"
   ]
  },
  {
   "cell_type": "code",
   "execution_count": 332,
   "metadata": {},
   "outputs": [
    {
     "name": "stderr",
     "output_type": "stream",
     "text": [
      "/home/amit/anaconda3/lib/python3.6/site-packages/sklearn/utils/validation.py:475: DataConversionWarning: Data with input dtype int64 was converted to float64 by StandardScaler.\n",
      "  warnings.warn(msg, DataConversionWarning)\n"
     ]
    }
   ],
   "source": [
    "from sklearn.preprocessing import StandardScaler\n",
    "\n",
    "# Create a StandardScater model and fit it to the training data\n",
    "\n",
    "X_scaler = StandardScaler().fit(X_train)\n",
    "y_scaler = StandardScaler().fit(y_train)"
   ]
  },
  {
   "cell_type": "code",
   "execution_count": 333,
   "metadata": {},
   "outputs": [
    {
     "name": "stderr",
     "output_type": "stream",
     "text": [
      "/home/amit/anaconda3/lib/python3.6/site-packages/sklearn/utils/validation.py:475: DataConversionWarning: Data with input dtype int64 was converted to float64 by StandardScaler.\n",
      "  warnings.warn(msg, DataConversionWarning)\n"
     ]
    }
   ],
   "source": [
    "# Transform the training and testing data using the X_scaler and y_scaler models\n",
    "\n",
    "X_train_scaled = X_scaler.transform(X_train)\n",
    "X_test_scaled = X_scaler.transform(X_test)\n",
    "y_train_scaled = y_scaler.transform(y_train)\n",
    "y_test_scaled = y_scaler.transform(y_test)"
   ]
  },
  {
   "cell_type": "code",
   "execution_count": 334,
   "metadata": {},
   "outputs": [],
   "source": [
    "from sklearn.linear_model import LinearRegression\n",
    "model = LinearRegression()"
   ]
  },
  {
   "cell_type": "code",
   "execution_count": 335,
   "metadata": {},
   "outputs": [
    {
     "name": "stdout",
     "output_type": "stream",
     "text": [
      "Training Score: 0.5423174356070986\n",
      "Testing Score: 0.6118152266101995\n"
     ]
    }
   ],
   "source": [
    "# Fit the model to the training data and calculate the scores for the training and testing data\n",
    "\n",
    "model.fit(X_train_scaled, y_train_scaled)\n",
    "training_score = model.score(X_train_scaled, y_train_scaled)\n",
    "testing_score = model.score(X_test_scaled, y_test_scaled)\n",
    "\n",
    "print(f\"Training Score: {training_score}\")\n",
    "print(f\"Testing Score: {testing_score}\")"
   ]
  },
  {
   "cell_type": "code",
   "execution_count": 336,
   "metadata": {},
   "outputs": [
    {
     "data": {
      "image/png": "[encoded data removed]",
      "text/plain": [
       "<Figure size 432x288 with 1 Axes>"
      ]
     },
     "metadata": {},
     "output_type": "display_data"
    }
   ],
   "source": [
    "predictions = model.predict(X_test_scaled)\n",
    "model.fit(X_train_scaled, y_train_scaled)\n",
    "plt.scatter(model.predict(X_train_scaled), model.predict(X_train_scaled) - y_train_scaled, c=\"blue\", label=\"Training Data\")\n",
    "plt.scatter(model.predict(X_test_scaled), model.predict(X_test_scaled) - y_test_scaled, c=\"orange\", label=\"Testing Data\")\n",
    "plt.legend()\n",
    "plt.hlines(y=0, xmin=y_test_scaled.min(), xmax=y_test_scaled.max())\n",
    "plt.title(\"Residual Plot\")\n",
    "plt.show()"
   ]
  },
  {
   "cell_type": "code",
   "execution_count": 337,
   "metadata": {},
   "outputs": [
    {
     "name": "stdout",
     "output_type": "stream",
     "text": [
      "MSE: 0.3262797547364745, R2: 0.6118152266101995\n"
     ]
    }
   ],
   "source": [
    "from sklearn.metrics import mean_squared_error\n",
    "\n",
    "MSE = mean_squared_error(y_test_scaled, predictions)\n",
    "r2 = model.score(X_test_scaled, y_test_scaled)\n",
    "\n",
    "print(f\"MSE: {MSE}, R2: {r2}\")"
   ]
  },
  {
   "cell_type": "code",
   "execution_count": 338,
   "metadata": {},
   "outputs": [
    {
     "data": {
      "text/plain": [
       "{'n_neighbors': 4}"
      ]
     },
     "execution_count": 338,
     "metadata": {},
     "output_type": "execute_result"
    }
   ],
   "source": [
    "from sklearn import neighbors\n",
    "from sklearn.model_selection import GridSearchCV\n",
    "params = {'n_neighbors':[2,3,4,5,6,7,8,9]}\n",
    "\n",
    "knn = neighbors.KNeighborsRegressor()\n",
    "\n",
    "model = GridSearchCV(knn, params, cv=5)\n",
    "model.fit(X_train_scaled ,y_train_scaled)\n",
    "model.best_params_\n"
   ]
  },
  {
   "cell_type": "code",
   "execution_count": 339,
   "metadata": {},
   "outputs": [
    {
     "data": {
      "text/plain": [
       "KNeighborsRegressor(algorithm='auto', leaf_size=30, metric='minkowski',\n",
       "          metric_params=None, n_jobs=1, n_neighbors=4, p=2,\n",
       "          weights='uniform')"
      ]
     },
     "execution_count": 339,
     "metadata": {},
     "output_type": "execute_result"
    }
   ],
   "source": [
    "from sklearn.neighbors import KNeighborsRegressor\n",
    "\n",
    "neigh = KNeighborsRegressor(n_neighbors=4)\n",
    "neigh.fit(X_train_scaled, y_train_scaled)"
   ]
  },
  {
   "cell_type": "code",
   "execution_count": 340,
   "metadata": {},
   "outputs": [
    {
     "name": "stdout",
     "output_type": "stream",
     "text": [
      "Training Score: 0.7387004669570256\n",
      "Testing Score: 0.6845065508634427\n"
     ]
    }
   ],
   "source": [
    "training_score = neigh.score(X_train_scaled, y_train_scaled)\n",
    "testing_score = neigh.score(X_test_scaled, y_test_scaled)\n",
    "\n",
    "print(f\"Training Score: {training_score}\")\n",
    "print(f\"Testing Score: {testing_score}\")"
   ]
  },
  {
   "cell_type": "code",
   "execution_count": 341,
   "metadata": {},
   "outputs": [
    {
     "name": "stdout",
     "output_type": "stream",
     "text": [
      "0.26518073933279374\n"
     ]
    }
   ],
   "source": [
    "MSE2 = mean_squared_error(y_test_scaled, neigh.predict(X_test_scaled))\n",
    "print(MSE2)"
   ]
  },
  {
   "cell_type": "code",
   "execution_count": 342,
   "metadata": {},
   "outputs": [
    {
     "data": {
      "text/plain": [
       "RandomForestRegressor(bootstrap=True, criterion='mse', max_depth=20,\n",
       "           max_features='auto', max_leaf_nodes=None,\n",
       "           min_impurity_decrease=0.0, min_impurity_split=None,\n",
       "           min_samples_leaf=2, min_samples_split=5,\n",
       "           min_weight_fraction_leaf=0.0, n_estimators=916, n_jobs=1,\n",
       "           oob_score=False, random_state=6, verbose=0, warm_start=False)"
      ]
     },
     "execution_count": 342,
     "metadata": {},
     "output_type": "execute_result"
    }
   ],
   "source": [
    "from sklearn.ensemble import RandomForestRegressor \n",
    "  \n",
    " # create regressor object \n",
    "regressor = RandomForestRegressor(n_estimators = 916, min_samples_split= 5, min_samples_leaf= 2, max_depth=20, random_state=6) \n",
    "  \n",
    "# fit the regressor with x and y data \n",
    "regressor.fit(X_train_scaled, y_train_scaled.ravel())   "
   ]
  },
  {
   "cell_type": "code",
   "execution_count": 343,
   "metadata": {},
   "outputs": [
    {
     "name": "stdout",
     "output_type": "stream",
     "text": [
      "Training Score: 0.8746214359419865\n",
      "Testing Score: 0.7040509757116774\n"
     ]
    }
   ],
   "source": [
    "training_score = regressor.score(X_train_scaled, y_train_scaled)\n",
    "testing_score = regressor.score(X_test_scaled, y_test_scaled)\n",
    "\n",
    "print(f\"Training Score: {training_score}\")\n",
    "print(f\"Testing Score: {testing_score}\")"
   ]
  },
  {
   "cell_type": "code",
   "execution_count": 344,
   "metadata": {},
   "outputs": [
    {
     "data": {
      "text/plain": [
       "[(0.5552751458041627, 'building/rooms/bathstotal'),\n",
       " (0.11660129479186808, 'summary/yearbuilt'),\n",
       " (0.10274737326481466, 'LotSizeAcres'),\n",
       " (0.08683143299005476, 'median_income'),\n",
       " (0.050081685230894325, 'med/housing'),\n",
       " (0.044210649536767656, 'perc_fs'),\n",
       " (0.03517800334529754, 'location/distance'),\n",
       " (0.009074415036139925, 'building/rooms/beds')]"
      ]
     },
     "execution_count": 344,
     "metadata": {},
     "output_type": "execute_result"
    }
   ],
   "source": [
    "data = ML_df.drop(\"sale/amount/saleamt\", axis=1)\n",
    "feature_names = data.columns\n",
    "sorted(zip(regressor.feature_importances_, feature_names), reverse=True)"
   ]
  },
  {
   "cell_type": "code",
   "execution_count": 285,
   "metadata": {},
   "outputs": [],
   "source": [
    "from sklearn.model_selection import RandomizedSearchCV\n",
    "# Number of trees in random forest\n",
    "n_estimators = [int(x) for x in np.linspace(start = 50, stop = 2000, num = 10)]\n",
    "# Number of features to consider at every split\n",
    "max_features = ['auto', 'sqrt']\n",
    "# Maximum number of levels in tree\n",
    "max_depth = [int(x) for x in np.linspace(10, 110, num = 11)]\n",
    "max_depth.append(None)\n",
    "# Minimum number of samples required to split a node\n",
    "min_samples_split = [2, 5, 10]\n",
    "# Minimum number of samples required at each leaf node\n",
    "min_samples_leaf = [1, 2, 4]\n",
    "# Method of selecting samples for training each tree\n",
    "bootstrap = [True, False]\n",
    "# Create the random grid\n",
    "random_grid = {'n_estimators': n_estimators,\n",
    "               'max_features': max_features,\n",
    "               'max_depth': max_depth,\n",
    "               'min_samples_split': min_samples_split,\n",
    "               'min_samples_leaf': min_samples_leaf,\n",
    "               'bootstrap': bootstrap}"
   ]
  },
  {
   "cell_type": "code",
   "execution_count": 286,
   "metadata": {},
   "outputs": [
    {
     "name": "stdout",
     "output_type": "stream",
     "text": [
      "Fitting 3 folds for each of 100 candidates, totalling 300 fits\n",
      "[CV] n_estimators=266, min_samples_split=5, min_samples_leaf=1, max_features=sqrt, max_depth=30, bootstrap=True \n",
      "[CV] n_estimators=266, min_samples_split=5, min_samples_leaf=1, max_features=sqrt, max_depth=30, bootstrap=True \n",
      "[CV] n_estimators=266, min_samples_split=5, min_samples_leaf=1, max_features=sqrt, max_depth=30, bootstrap=True \n",
      "[CV] n_estimators=2000, min_samples_split=5, min_samples_leaf=1, max_features=sqrt, max_depth=10, bootstrap=True \n"
     ]
    },
    {
     "name": "stderr",
     "output_type": "stream",
     "text": [
      "/home/amit/anaconda3/lib/python3.6/site-packages/sklearn/model_selection/_validation.py:458: DataConversionWarning: A column-vector y was passed when a 1d array was expected. Please change the shape of y to (n_samples,), for example using ravel().\n",
      "  estimator.fit(X_train, y_train, **fit_params)\n",
      "/home/amit/anaconda3/lib/python3.6/site-packages/sklearn/model_selection/_validation.py:458: DataConversionWarning: A column-vector y was passed when a 1d array was expected. Please change the shape of y to (n_samples,), for example using ravel().\n",
      "  estimator.fit(X_train, y_train, **fit_params)\n",
      "/home/amit/anaconda3/lib/python3.6/site-packages/sklearn/model_selection/_validation.py:458: DataConversionWarning: A column-vector y was passed when a 1d array was expected. Please change the shape of y to (n_samples,), for example using ravel().\n",
      "  estimator.fit(X_train, y_train, **fit_params)\n",
      "/home/amit/anaconda3/lib/python3.6/site-packages/sklearn/model_selection/_validation.py:458: DataConversionWarning: A column-vector y was passed when a 1d array was expected. Please change the shape of y to (n_samples,), for example using ravel().\n",
      "  estimator.fit(X_train, y_train, **fit_params)\n"
     ]
    },
    {
     "name": "stdout",
     "output_type": "stream",
     "text": [
      "[CV]  n_estimators=266, min_samples_split=5, min_samples_leaf=1, max_features=sqrt, max_depth=30, bootstrap=True, total=   0.7s\n",
      "[CV] n_estimators=2000, min_samples_split=5, min_samples_leaf=1, max_features=sqrt, max_depth=10, bootstrap=True \n"
     ]
    },
    {
     "name": "stderr",
     "output_type": "stream",
     "text": [
      "/home/amit/anaconda3/lib/python3.6/site-packages/sklearn/model_selection/_validation.py:458: DataConversionWarning: A column-vector y was passed when a 1d array was expected. Please change the shape of y to (n_samples,), for example using ravel().\n",
      "  estimator.fit(X_train, y_train, **fit_params)\n"
     ]
    },
    {
     "name": "stdout",
     "output_type": "stream",
     "text": [
      "[CV]  n_estimators=266, min_samples_split=5, min_samples_leaf=1, max_features=sqrt, max_depth=30, bootstrap=True, total=   0.7s\n",
      "[CV] n_estimators=2000, min_samples_split=5, min_samples_leaf=1, max_features=sqrt, max_depth=10, bootstrap=True \n",
      "[CV]  n_estimators=266, min_samples_split=5, min_samples_leaf=1, max_features=sqrt, max_depth=30, bootstrap=True, total=   0.7s\n",
      "[CV] n_estimators=1133, min_samples_split=5, min_samples_leaf=2, max_features=sqrt, max_depth=10, bootstrap=False \n"
     ]
    },
    {
     "name": "stderr",
     "output_type": "stream",
     "text": [
      "/home/amit/anaconda3/lib/python3.6/site-packages/sklearn/model_selection/_validation.py:458: DataConversionWarning: A column-vector y was passed when a 1d array was expected. Please change the shape of y to (n_samples,), for example using ravel().\n",
      "  estimator.fit(X_train, y_train, **fit_params)\n",
      "/home/amit/anaconda3/lib/python3.6/site-packages/sklearn/model_selection/_validation.py:458: DataConversionWarning: A column-vector y was passed when a 1d array was expected. Please change the shape of y to (n_samples,), for example using ravel().\n",
      "  estimator.fit(X_train, y_train, **fit_params)\n"
     ]
    },
    {
     "name": "stdout",
     "output_type": "stream",
     "text": [
      "[CV]  n_estimators=1133, min_samples_split=5, min_samples_leaf=2, max_features=sqrt, max_depth=10, bootstrap=False, total=   3.6s\n",
      "[CV] n_estimators=1133, min_samples_split=5, min_samples_leaf=2, max_features=sqrt, max_depth=10, bootstrap=False \n"
     ]
    },
    {
     "name": "stderr",
     "output_type": "stream",
     "text": [
      "/home/amit/anaconda3/lib/python3.6/site-packages/sklearn/model_selection/_validation.py:458: DataConversionWarning: A column-vector y was passed when a 1d array was expected. Please change the shape of y to (n_samples,), for example using ravel().\n",
      "  estimator.fit(X_train, y_train, **fit_params)\n"
     ]
    },
    {
     "name": "stdout",
     "output_type": "stream",
     "text": [
      "[CV]  n_estimators=2000, min_samples_split=5, min_samples_leaf=1, max_features=sqrt, max_depth=10, bootstrap=True, total=   5.3s\n",
      "[CV] n_estimators=1133, min_samples_split=5, min_samples_leaf=2, max_features=sqrt, max_depth=10, bootstrap=False \n"
     ]
    },
    {
     "name": "stderr",
     "output_type": "stream",
     "text": [
      "/home/amit/anaconda3/lib/python3.6/site-packages/sklearn/model_selection/_validation.py:458: DataConversionWarning: A column-vector y was passed when a 1d array was expected. Please change the shape of y to (n_samples,), for example using ravel().\n",
      "  estimator.fit(X_train, y_train, **fit_params)\n"
     ]
    },
    {
     "name": "stdout",
     "output_type": "stream",
     "text": [
      "[CV]  n_estimators=2000, min_samples_split=5, min_samples_leaf=1, max_features=sqrt, max_depth=10, bootstrap=True, total=   5.7s\n",
      "[CV] n_estimators=2000, min_samples_split=2, min_samples_leaf=4, max_features=auto, max_depth=30, bootstrap=False \n"
     ]
    },
    {
     "name": "stderr",
     "output_type": "stream",
     "text": [
      "/home/amit/anaconda3/lib/python3.6/site-packages/sklearn/model_selection/_validation.py:458: DataConversionWarning: A column-vector y was passed when a 1d array was expected. Please change the shape of y to (n_samples,), for example using ravel().\n",
      "  estimator.fit(X_train, y_train, **fit_params)\n"
     ]
    },
    {
     "name": "stdout",
     "output_type": "stream",
     "text": [
      "[CV]  n_estimators=2000, min_samples_split=5, min_samples_leaf=1, max_features=sqrt, max_depth=10, bootstrap=True, total=   5.8s\n",
      "[CV] n_estimators=2000, min_samples_split=2, min_samples_leaf=4, max_features=auto, max_depth=30, bootstrap=False \n"
     ]
    },
    {
     "name": "stderr",
     "output_type": "stream",
     "text": [
      "/home/amit/anaconda3/lib/python3.6/site-packages/sklearn/model_selection/_validation.py:458: DataConversionWarning: A column-vector y was passed when a 1d array was expected. Please change the shape of y to (n_samples,), for example using ravel().\n",
      "  estimator.fit(X_train, y_train, **fit_params)\n"
     ]
    },
    {
     "name": "stdout",
     "output_type": "stream",
     "text": [
      "[CV]  n_estimators=1133, min_samples_split=5, min_samples_leaf=2, max_features=sqrt, max_depth=10, bootstrap=False, total=   3.5s\n",
      "[CV] n_estimators=2000, min_samples_split=2, min_samples_leaf=4, max_features=auto, max_depth=30, bootstrap=False \n"
     ]
    },
    {
     "name": "stderr",
     "output_type": "stream",
     "text": [
      "/home/amit/anaconda3/lib/python3.6/site-packages/sklearn/model_selection/_validation.py:458: DataConversionWarning: A column-vector y was passed when a 1d array was expected. Please change the shape of y to (n_samples,), for example using ravel().\n",
      "  estimator.fit(X_train, y_train, **fit_params)\n"
     ]
    },
    {
     "name": "stdout",
     "output_type": "stream",
     "text": [
      "[CV]  n_estimators=1133, min_samples_split=5, min_samples_leaf=2, max_features=sqrt, max_depth=10, bootstrap=False, total=   3.7s\n",
      "[CV] n_estimators=1566, min_samples_split=2, min_samples_leaf=4, max_features=sqrt, max_depth=10, bootstrap=True \n"
     ]
    },
    {
     "name": "stderr",
     "output_type": "stream",
     "text": [
      "/home/amit/anaconda3/lib/python3.6/site-packages/sklearn/model_selection/_validation.py:458: DataConversionWarning: A column-vector y was passed when a 1d array was expected. Please change the shape of y to (n_samples,), for example using ravel().\n",
      "  estimator.fit(X_train, y_train, **fit_params)\n"
     ]
    },
    {
     "name": "stdout",
     "output_type": "stream",
     "text": [
      "[CV]  n_estimators=1566, min_samples_split=2, min_samples_leaf=4, max_features=sqrt, max_depth=10, bootstrap=True, total=   3.4s\n",
      "[CV] n_estimators=1566, min_samples_split=2, min_samples_leaf=4, max_features=sqrt, max_depth=10, bootstrap=True \n"
     ]
    },
    {
     "name": "stderr",
     "output_type": "stream",
     "text": [
      "/home/amit/anaconda3/lib/python3.6/site-packages/sklearn/model_selection/_validation.py:458: DataConversionWarning: A column-vector y was passed when a 1d array was expected. Please change the shape of y to (n_samples,), for example using ravel().\n",
      "  estimator.fit(X_train, y_train, **fit_params)\n"
     ]
    },
    {
     "name": "stdout",
     "output_type": "stream",
     "text": [
      "[CV]  n_estimators=2000, min_samples_split=2, min_samples_leaf=4, max_features=auto, max_depth=30, bootstrap=False, total=   8.3s\n",
      "[CV] n_estimators=1566, min_samples_split=2, min_samples_leaf=4, max_features=sqrt, max_depth=10, bootstrap=True \n"
     ]
    },
    {
     "name": "stderr",
     "output_type": "stream",
     "text": [
      "/home/amit/anaconda3/lib/python3.6/site-packages/sklearn/model_selection/_validation.py:458: DataConversionWarning: A column-vector y was passed when a 1d array was expected. Please change the shape of y to (n_samples,), for example using ravel().\n",
      "  estimator.fit(X_train, y_train, **fit_params)\n"
     ]
    },
    {
     "name": "stdout",
     "output_type": "stream",
     "text": [
      "[CV]  n_estimators=2000, min_samples_split=2, min_samples_leaf=4, max_features=auto, max_depth=30, bootstrap=False, total=   9.6s\n",
      "[CV] n_estimators=700, min_samples_split=5, min_samples_leaf=4, max_features=sqrt, max_depth=30, bootstrap=False \n"
     ]
    },
    {
     "name": "stderr",
     "output_type": "stream",
     "text": [
      "/home/amit/anaconda3/lib/python3.6/site-packages/sklearn/model_selection/_validation.py:458: DataConversionWarning: A column-vector y was passed when a 1d array was expected. Please change the shape of y to (n_samples,), for example using ravel().\n",
      "  estimator.fit(X_train, y_train, **fit_params)\n"
     ]
    },
    {
     "name": "stdout",
     "output_type": "stream",
     "text": [
      "[CV]  n_estimators=2000, min_samples_split=2, min_samples_leaf=4, max_features=auto, max_depth=30, bootstrap=False, total=   9.6s\n",
      "[CV] n_estimators=700, min_samples_split=5, min_samples_leaf=4, max_features=sqrt, max_depth=30, bootstrap=False \n"
     ]
    },
    {
     "name": "stderr",
     "output_type": "stream",
     "text": [
      "/home/amit/anaconda3/lib/python3.6/site-packages/sklearn/model_selection/_validation.py:458: DataConversionWarning: A column-vector y was passed when a 1d array was expected. Please change the shape of y to (n_samples,), for example using ravel().\n",
      "  estimator.fit(X_train, y_train, **fit_params)\n"
     ]
    },
    {
     "name": "stdout",
     "output_type": "stream",
     "text": [
      "[CV]  n_estimators=1566, min_samples_split=2, min_samples_leaf=4, max_features=sqrt, max_depth=10, bootstrap=True, total=   5.2s\n",
      "[CV] n_estimators=700, min_samples_split=5, min_samples_leaf=4, max_features=sqrt, max_depth=30, bootstrap=False \n"
     ]
    },
    {
     "name": "stderr",
     "output_type": "stream",
     "text": [
      "/home/amit/anaconda3/lib/python3.6/site-packages/sklearn/model_selection/_validation.py:458: DataConversionWarning: A column-vector y was passed when a 1d array was expected. Please change the shape of y to (n_samples,), for example using ravel().\n",
      "  estimator.fit(X_train, y_train, **fit_params)\n"
     ]
    },
    {
     "name": "stdout",
     "output_type": "stream",
     "text": [
      "[CV]  n_estimators=700, min_samples_split=5, min_samples_leaf=4, max_features=sqrt, max_depth=30, bootstrap=False, total=   2.7s\n",
      "[CV] n_estimators=916, min_samples_split=5, min_samples_leaf=2, max_features=sqrt, max_depth=100, bootstrap=False \n"
     ]
    },
    {
     "name": "stderr",
     "output_type": "stream",
     "text": [
      "/home/amit/anaconda3/lib/python3.6/site-packages/sklearn/model_selection/_validation.py:458: DataConversionWarning: A column-vector y was passed when a 1d array was expected. Please change the shape of y to (n_samples,), for example using ravel().\n",
      "  estimator.fit(X_train, y_train, **fit_params)\n"
     ]
    },
    {
     "name": "stdout",
     "output_type": "stream",
     "text": [
      "[CV]  n_estimators=700, min_samples_split=5, min_samples_leaf=4, max_features=sqrt, max_depth=30, bootstrap=False, total=   2.5s\n",
      "[CV] n_estimators=916, min_samples_split=5, min_samples_leaf=2, max_features=sqrt, max_depth=100, bootstrap=False \n"
     ]
    },
    {
     "name": "stderr",
     "output_type": "stream",
     "text": [
      "/home/amit/anaconda3/lib/python3.6/site-packages/sklearn/model_selection/_validation.py:458: DataConversionWarning: A column-vector y was passed when a 1d array was expected. Please change the shape of y to (n_samples,), for example using ravel().\n",
      "  estimator.fit(X_train, y_train, **fit_params)\n"
     ]
    },
    {
     "name": "stdout",
     "output_type": "stream",
     "text": [
      "[CV]  n_estimators=1566, min_samples_split=2, min_samples_leaf=4, max_features=sqrt, max_depth=10, bootstrap=True, total=   5.7s\n",
      "[CV] n_estimators=916, min_samples_split=5, min_samples_leaf=2, max_features=sqrt, max_depth=100, bootstrap=False \n"
     ]
    },
    {
     "name": "stderr",
     "output_type": "stream",
     "text": [
      "/home/amit/anaconda3/lib/python3.6/site-packages/sklearn/model_selection/_validation.py:458: DataConversionWarning: A column-vector y was passed when a 1d array was expected. Please change the shape of y to (n_samples,), for example using ravel().\n",
      "  estimator.fit(X_train, y_train, **fit_params)\n"
     ]
    },
    {
     "name": "stdout",
     "output_type": "stream",
     "text": [
      "[CV]  n_estimators=700, min_samples_split=5, min_samples_leaf=4, max_features=sqrt, max_depth=30, bootstrap=False, total=   2.7s\n",
      "[CV] n_estimators=483, min_samples_split=5, min_samples_leaf=1, max_features=sqrt, max_depth=60, bootstrap=False \n"
     ]
    },
    {
     "name": "stderr",
     "output_type": "stream",
     "text": [
      "/home/amit/anaconda3/lib/python3.6/site-packages/sklearn/model_selection/_validation.py:458: DataConversionWarning: A column-vector y was passed when a 1d array was expected. Please change the shape of y to (n_samples,), for example using ravel().\n",
      "  estimator.fit(X_train, y_train, **fit_params)\n"
     ]
    },
    {
     "name": "stdout",
     "output_type": "stream",
     "text": [
      "[CV]  n_estimators=916, min_samples_split=5, min_samples_leaf=2, max_features=sqrt, max_depth=100, bootstrap=False, total=   2.8s\n",
      "[CV] n_estimators=483, min_samples_split=5, min_samples_leaf=1, max_features=sqrt, max_depth=60, bootstrap=False \n"
     ]
    },
    {
     "name": "stderr",
     "output_type": "stream",
     "text": [
      "/home/amit/anaconda3/lib/python3.6/site-packages/sklearn/model_selection/_validation.py:458: DataConversionWarning: A column-vector y was passed when a 1d array was expected. Please change the shape of y to (n_samples,), for example using ravel().\n",
      "  estimator.fit(X_train, y_train, **fit_params)\n"
     ]
    },
    {
     "name": "stdout",
     "output_type": "stream",
     "text": [
      "[CV]  n_estimators=483, min_samples_split=5, min_samples_leaf=1, max_features=sqrt, max_depth=60, bootstrap=False, total=   1.7s\n",
      "[CV] n_estimators=483, min_samples_split=5, min_samples_leaf=1, max_features=sqrt, max_depth=60, bootstrap=False \n"
     ]
    },
    {
     "name": "stderr",
     "output_type": "stream",
     "text": [
      "/home/amit/anaconda3/lib/python3.6/site-packages/sklearn/model_selection/_validation.py:458: DataConversionWarning: A column-vector y was passed when a 1d array was expected. Please change the shape of y to (n_samples,), for example using ravel().\n",
      "  estimator.fit(X_train, y_train, **fit_params)\n"
     ]
    },
    {
     "name": "stdout",
     "output_type": "stream",
     "text": [
      "[CV]  n_estimators=916, min_samples_split=5, min_samples_leaf=2, max_features=sqrt, max_depth=100, bootstrap=False, total=   2.8s\n",
      "[CV] n_estimators=916, min_samples_split=2, min_samples_leaf=1, max_features=auto, max_depth=50, bootstrap=False \n"
     ]
    },
    {
     "name": "stderr",
     "output_type": "stream",
     "text": [
      "/home/amit/anaconda3/lib/python3.6/site-packages/sklearn/model_selection/_validation.py:458: DataConversionWarning: A column-vector y was passed when a 1d array was expected. Please change the shape of y to (n_samples,), for example using ravel().\n",
      "  estimator.fit(X_train, y_train, **fit_params)\n"
     ]
    },
    {
     "name": "stdout",
     "output_type": "stream",
     "text": [
      "[CV]  n_estimators=483, min_samples_split=5, min_samples_leaf=1, max_features=sqrt, max_depth=60, bootstrap=False, total=   1.7s\n",
      "[CV] n_estimators=916, min_samples_split=2, min_samples_leaf=1, max_features=auto, max_depth=50, bootstrap=False \n"
     ]
    },
    {
     "name": "stderr",
     "output_type": "stream",
     "text": [
      "/home/amit/anaconda3/lib/python3.6/site-packages/sklearn/model_selection/_validation.py:458: DataConversionWarning: A column-vector y was passed when a 1d array was expected. Please change the shape of y to (n_samples,), for example using ravel().\n",
      "  estimator.fit(X_train, y_train, **fit_params)\n"
     ]
    },
    {
     "name": "stdout",
     "output_type": "stream",
     "text": [
      "[CV]  n_estimators=916, min_samples_split=5, min_samples_leaf=2, max_features=sqrt, max_depth=100, bootstrap=False, total=   3.4s\n",
      "[CV] n_estimators=916, min_samples_split=2, min_samples_leaf=1, max_features=auto, max_depth=50, bootstrap=False \n"
     ]
    },
    {
     "name": "stderr",
     "output_type": "stream",
     "text": [
      "/home/amit/anaconda3/lib/python3.6/site-packages/sklearn/model_selection/_validation.py:458: DataConversionWarning: A column-vector y was passed when a 1d array was expected. Please change the shape of y to (n_samples,), for example using ravel().\n",
      "  estimator.fit(X_train, y_train, **fit_params)\n"
     ]
    },
    {
     "name": "stdout",
     "output_type": "stream",
     "text": [
      "[CV]  n_estimators=483, min_samples_split=5, min_samples_leaf=1, max_features=sqrt, max_depth=60, bootstrap=False, total=   1.8s\n",
      "[CV] n_estimators=1783, min_samples_split=5, min_samples_leaf=4, max_features=auto, max_depth=10, bootstrap=False \n"
     ]
    },
    {
     "name": "stderr",
     "output_type": "stream",
     "text": [
      "/home/amit/anaconda3/lib/python3.6/site-packages/sklearn/model_selection/_validation.py:458: DataConversionWarning: A column-vector y was passed when a 1d array was expected. Please change the shape of y to (n_samples,), for example using ravel().\n",
      "  estimator.fit(X_train, y_train, **fit_params)\n"
     ]
    },
    {
     "name": "stdout",
     "output_type": "stream",
     "text": [
      "[CV]  n_estimators=916, min_samples_split=2, min_samples_leaf=1, max_features=auto, max_depth=50, bootstrap=False, total=   5.3s\n",
      "[CV] n_estimators=1783, min_samples_split=5, min_samples_leaf=4, max_features=auto, max_depth=10, bootstrap=False \n"
     ]
    },
    {
     "name": "stderr",
     "output_type": "stream",
     "text": [
      "/home/amit/anaconda3/lib/python3.6/site-packages/sklearn/model_selection/_validation.py:458: DataConversionWarning: A column-vector y was passed when a 1d array was expected. Please change the shape of y to (n_samples,), for example using ravel().\n",
      "  estimator.fit(X_train, y_train, **fit_params)\n"
     ]
    },
    {
     "name": "stdout",
     "output_type": "stream",
     "text": [
      "[CV]  n_estimators=916, min_samples_split=2, min_samples_leaf=1, max_features=auto, max_depth=50, bootstrap=False, total=   5.8s\n",
      "[CV] n_estimators=1783, min_samples_split=5, min_samples_leaf=4, max_features=auto, max_depth=10, bootstrap=False \n"
     ]
    },
    {
     "name": "stderr",
     "output_type": "stream",
     "text": [
      "/home/amit/anaconda3/lib/python3.6/site-packages/sklearn/model_selection/_validation.py:458: DataConversionWarning: A column-vector y was passed when a 1d array was expected. Please change the shape of y to (n_samples,), for example using ravel().\n",
      "  estimator.fit(X_train, y_train, **fit_params)\n"
     ]
    },
    {
     "name": "stdout",
     "output_type": "stream",
     "text": [
      "[CV]  n_estimators=916, min_samples_split=2, min_samples_leaf=1, max_features=auto, max_depth=50, bootstrap=False, total=   5.8s\n",
      "[CV] n_estimators=266, min_samples_split=10, min_samples_leaf=4, max_features=auto, max_depth=70, bootstrap=True \n"
     ]
    },
    {
     "name": "stderr",
     "output_type": "stream",
     "text": [
      "/home/amit/anaconda3/lib/python3.6/site-packages/sklearn/model_selection/_validation.py:458: DataConversionWarning: A column-vector y was passed when a 1d array was expected. Please change the shape of y to (n_samples,), for example using ravel().\n",
      "  estimator.fit(X_train, y_train, **fit_params)\n"
     ]
    },
    {
     "name": "stdout",
     "output_type": "stream",
     "text": [
      "[CV]  n_estimators=266, min_samples_split=10, min_samples_leaf=4, max_features=auto, max_depth=70, bootstrap=True, total=   0.9s\n",
      "[CV] n_estimators=266, min_samples_split=10, min_samples_leaf=4, max_features=auto, max_depth=70, bootstrap=True \n"
     ]
    },
    {
     "name": "stderr",
     "output_type": "stream",
     "text": [
      "/home/amit/anaconda3/lib/python3.6/site-packages/sklearn/model_selection/_validation.py:458: DataConversionWarning: A column-vector y was passed when a 1d array was expected. Please change the shape of y to (n_samples,), for example using ravel().\n",
      "  estimator.fit(X_train, y_train, **fit_params)\n"
     ]
    },
    {
     "name": "stdout",
     "output_type": "stream",
     "text": [
      "[CV]  n_estimators=266, min_samples_split=10, min_samples_leaf=4, max_features=auto, max_depth=70, bootstrap=True, total=   0.9s\n",
      "[CV] n_estimators=266, min_samples_split=10, min_samples_leaf=4, max_features=auto, max_depth=70, bootstrap=True \n"
     ]
    },
    {
     "name": "stderr",
     "output_type": "stream",
     "text": [
      "/home/amit/anaconda3/lib/python3.6/site-packages/sklearn/model_selection/_validation.py:458: DataConversionWarning: A column-vector y was passed when a 1d array was expected. Please change the shape of y to (n_samples,), for example using ravel().\n",
      "  estimator.fit(X_train, y_train, **fit_params)\n"
     ]
    },
    {
     "name": "stdout",
     "output_type": "stream",
     "text": [
      "[CV]  n_estimators=1783, min_samples_split=5, min_samples_leaf=4, max_features=auto, max_depth=10, bootstrap=False, total=   7.8s\n",
      "[CV] n_estimators=700, min_samples_split=5, min_samples_leaf=1, max_features=sqrt, max_depth=90, bootstrap=False \n"
     ]
    },
    {
     "name": "stderr",
     "output_type": "stream",
     "text": [
      "/home/amit/anaconda3/lib/python3.6/site-packages/sklearn/model_selection/_validation.py:458: DataConversionWarning: A column-vector y was passed when a 1d array was expected. Please change the shape of y to (n_samples,), for example using ravel().\n",
      "  estimator.fit(X_train, y_train, **fit_params)\n"
     ]
    },
    {
     "name": "stdout",
     "output_type": "stream",
     "text": [
      "[CV]  n_estimators=266, min_samples_split=10, min_samples_leaf=4, max_features=auto, max_depth=70, bootstrap=True, total=   0.9s\n",
      "[CV] n_estimators=700, min_samples_split=5, min_samples_leaf=1, max_features=sqrt, max_depth=90, bootstrap=False \n"
     ]
    },
    {
     "name": "stderr",
     "output_type": "stream",
     "text": [
      "/home/amit/anaconda3/lib/python3.6/site-packages/sklearn/model_selection/_validation.py:458: DataConversionWarning: A column-vector y was passed when a 1d array was expected. Please change the shape of y to (n_samples,), for example using ravel().\n",
      "  estimator.fit(X_train, y_train, **fit_params)\n"
     ]
    },
    {
     "name": "stdout",
     "output_type": "stream",
     "text": [
      "[CV]  n_estimators=700, min_samples_split=5, min_samples_leaf=1, max_features=sqrt, max_depth=90, bootstrap=False, total=   1.9s\n",
      "[CV] n_estimators=700, min_samples_split=5, min_samples_leaf=1, max_features=sqrt, max_depth=90, bootstrap=False \n"
     ]
    },
    {
     "name": "stderr",
     "output_type": "stream",
     "text": [
      "/home/amit/anaconda3/lib/python3.6/site-packages/sklearn/model_selection/_validation.py:458: DataConversionWarning: A column-vector y was passed when a 1d array was expected. Please change the shape of y to (n_samples,), for example using ravel().\n",
      "  estimator.fit(X_train, y_train, **fit_params)\n"
     ]
    },
    {
     "name": "stdout",
     "output_type": "stream",
     "text": [
      "[CV]  n_estimators=700, min_samples_split=5, min_samples_leaf=1, max_features=sqrt, max_depth=90, bootstrap=False, total=   2.0s\n",
      "[CV] n_estimators=2000, min_samples_split=10, min_samples_leaf=1, max_features=sqrt, max_depth=10, bootstrap=False \n"
     ]
    },
    {
     "name": "stderr",
     "output_type": "stream",
     "text": [
      "/home/amit/anaconda3/lib/python3.6/site-packages/sklearn/model_selection/_validation.py:458: DataConversionWarning: A column-vector y was passed when a 1d array was expected. Please change the shape of y to (n_samples,), for example using ravel().\n",
      "  estimator.fit(X_train, y_train, **fit_params)\n",
      "[Parallel(n_jobs=-1)]: Done  33 tasks      | elapsed:   36.1s\n"
     ]
    },
    {
     "name": "stdout",
     "output_type": "stream",
     "text": [
      "[CV]  n_estimators=700, min_samples_split=5, min_samples_leaf=1, max_features=sqrt, max_depth=90, bootstrap=False, total=   2.0s\n",
      "[CV] n_estimators=2000, min_samples_split=10, min_samples_leaf=1, max_features=sqrt, max_depth=10, bootstrap=False \n"
     ]
    },
    {
     "name": "stderr",
     "output_type": "stream",
     "text": [
      "/home/amit/anaconda3/lib/python3.6/site-packages/sklearn/model_selection/_validation.py:458: DataConversionWarning: A column-vector y was passed when a 1d array was expected. Please change the shape of y to (n_samples,), for example using ravel().\n",
      "  estimator.fit(X_train, y_train, **fit_params)\n"
     ]
    },
    {
     "name": "stdout",
     "output_type": "stream",
     "text": [
      "[CV]  n_estimators=1783, min_samples_split=5, min_samples_leaf=4, max_features=auto, max_depth=10, bootstrap=False, total=   7.4s\n",
      "[CV] n_estimators=2000, min_samples_split=10, min_samples_leaf=1, max_features=sqrt, max_depth=10, bootstrap=False \n"
     ]
    },
    {
     "name": "stderr",
     "output_type": "stream",
     "text": [
      "/home/amit/anaconda3/lib/python3.6/site-packages/sklearn/model_selection/_validation.py:458: DataConversionWarning: A column-vector y was passed when a 1d array was expected. Please change the shape of y to (n_samples,), for example using ravel().\n",
      "  estimator.fit(X_train, y_train, **fit_params)\n"
     ]
    },
    {
     "name": "stdout",
     "output_type": "stream",
     "text": [
      "[CV]  n_estimators=1783, min_samples_split=5, min_samples_leaf=4, max_features=auto, max_depth=10, bootstrap=False, total=   7.4s\n",
      "[CV] n_estimators=1566, min_samples_split=5, min_samples_leaf=2, max_features=sqrt, max_depth=10, bootstrap=False \n"
     ]
    },
    {
     "name": "stderr",
     "output_type": "stream",
     "text": [
      "/home/amit/anaconda3/lib/python3.6/site-packages/sklearn/model_selection/_validation.py:458: DataConversionWarning: A column-vector y was passed when a 1d array was expected. Please change the shape of y to (n_samples,), for example using ravel().\n",
      "  estimator.fit(X_train, y_train, **fit_params)\n"
     ]
    },
    {
     "name": "stdout",
     "output_type": "stream",
     "text": [
      "[CV]  n_estimators=2000, min_samples_split=10, min_samples_leaf=1, max_features=sqrt, max_depth=10, bootstrap=False, total=   5.1s\n",
      "[CV] n_estimators=1566, min_samples_split=5, min_samples_leaf=2, max_features=sqrt, max_depth=10, bootstrap=False \n"
     ]
    },
    {
     "name": "stderr",
     "output_type": "stream",
     "text": [
      "/home/amit/anaconda3/lib/python3.6/site-packages/sklearn/model_selection/_validation.py:458: DataConversionWarning: A column-vector y was passed when a 1d array was expected. Please change the shape of y to (n_samples,), for example using ravel().\n",
      "  estimator.fit(X_train, y_train, **fit_params)\n"
     ]
    },
    {
     "name": "stdout",
     "output_type": "stream",
     "text": [
      "[CV]  n_estimators=1566, min_samples_split=5, min_samples_leaf=2, max_features=sqrt, max_depth=10, bootstrap=False, total=   4.0s\n",
      "[CV] n_estimators=1566, min_samples_split=5, min_samples_leaf=2, max_features=sqrt, max_depth=10, bootstrap=False \n"
     ]
    },
    {
     "name": "stderr",
     "output_type": "stream",
     "text": [
      "/home/amit/anaconda3/lib/python3.6/site-packages/sklearn/model_selection/_validation.py:458: DataConversionWarning: A column-vector y was passed when a 1d array was expected. Please change the shape of y to (n_samples,), for example using ravel().\n",
      "  estimator.fit(X_train, y_train, **fit_params)\n"
     ]
    },
    {
     "name": "stdout",
     "output_type": "stream",
     "text": [
      "[CV]  n_estimators=2000, min_samples_split=10, min_samples_leaf=1, max_features=sqrt, max_depth=10, bootstrap=False, total=   4.9s\n",
      "[CV] n_estimators=700, min_samples_split=10, min_samples_leaf=2, max_features=sqrt, max_depth=30, bootstrap=False \n"
     ]
    },
    {
     "name": "stderr",
     "output_type": "stream",
     "text": [
      "/home/amit/anaconda3/lib/python3.6/site-packages/sklearn/model_selection/_validation.py:458: DataConversionWarning: A column-vector y was passed when a 1d array was expected. Please change the shape of y to (n_samples,), for example using ravel().\n",
      "  estimator.fit(X_train, y_train, **fit_params)\n"
     ]
    },
    {
     "name": "stdout",
     "output_type": "stream",
     "text": [
      "[CV]  n_estimators=2000, min_samples_split=10, min_samples_leaf=1, max_features=sqrt, max_depth=10, bootstrap=False, total=   5.1s\n",
      "[CV] n_estimators=700, min_samples_split=10, min_samples_leaf=2, max_features=sqrt, max_depth=30, bootstrap=False \n"
     ]
    },
    {
     "name": "stderr",
     "output_type": "stream",
     "text": [
      "/home/amit/anaconda3/lib/python3.6/site-packages/sklearn/model_selection/_validation.py:458: DataConversionWarning: A column-vector y was passed when a 1d array was expected. Please change the shape of y to (n_samples,), for example using ravel().\n",
      "  estimator.fit(X_train, y_train, **fit_params)\n"
     ]
    },
    {
     "name": "stdout",
     "output_type": "stream",
     "text": [
      "[CV]  n_estimators=700, min_samples_split=10, min_samples_leaf=2, max_features=sqrt, max_depth=30, bootstrap=False, total=   1.9s\n",
      "[CV] n_estimators=700, min_samples_split=10, min_samples_leaf=2, max_features=sqrt, max_depth=30, bootstrap=False \n"
     ]
    },
    {
     "name": "stderr",
     "output_type": "stream",
     "text": [
      "/home/amit/anaconda3/lib/python3.6/site-packages/sklearn/model_selection/_validation.py:458: DataConversionWarning: A column-vector y was passed when a 1d array was expected. Please change the shape of y to (n_samples,), for example using ravel().\n",
      "  estimator.fit(X_train, y_train, **fit_params)\n"
     ]
    },
    {
     "name": "stdout",
     "output_type": "stream",
     "text": [
      "[CV]  n_estimators=700, min_samples_split=10, min_samples_leaf=2, max_features=sqrt, max_depth=30, bootstrap=False, total=   2.1s\n",
      "[CV] n_estimators=1783, min_samples_split=2, min_samples_leaf=4, max_features=auto, max_depth=50, bootstrap=False \n"
     ]
    },
    {
     "name": "stderr",
     "output_type": "stream",
     "text": [
      "/home/amit/anaconda3/lib/python3.6/site-packages/sklearn/model_selection/_validation.py:458: DataConversionWarning: A column-vector y was passed when a 1d array was expected. Please change the shape of y to (n_samples,), for example using ravel().\n",
      "  estimator.fit(X_train, y_train, **fit_params)\n"
     ]
    },
    {
     "name": "stdout",
     "output_type": "stream",
     "text": [
      "[CV]  n_estimators=1566, min_samples_split=5, min_samples_leaf=2, max_features=sqrt, max_depth=10, bootstrap=False, total=   4.1s\n",
      "[CV] n_estimators=1783, min_samples_split=2, min_samples_leaf=4, max_features=auto, max_depth=50, bootstrap=False \n"
     ]
    },
    {
     "name": "stderr",
     "output_type": "stream",
     "text": [
      "/home/amit/anaconda3/lib/python3.6/site-packages/sklearn/model_selection/_validation.py:458: DataConversionWarning: A column-vector y was passed when a 1d array was expected. Please change the shape of y to (n_samples,), for example using ravel().\n",
      "  estimator.fit(X_train, y_train, **fit_params)\n"
     ]
    },
    {
     "name": "stdout",
     "output_type": "stream",
     "text": [
      "[CV]  n_estimators=700, min_samples_split=10, min_samples_leaf=2, max_features=sqrt, max_depth=30, bootstrap=False, total=   1.8s\n",
      "[CV] n_estimators=1783, min_samples_split=2, min_samples_leaf=4, max_features=auto, max_depth=50, bootstrap=False \n"
     ]
    },
    {
     "name": "stderr",
     "output_type": "stream",
     "text": [
      "/home/amit/anaconda3/lib/python3.6/site-packages/sklearn/model_selection/_validation.py:458: DataConversionWarning: A column-vector y was passed when a 1d array was expected. Please change the shape of y to (n_samples,), for example using ravel().\n",
      "  estimator.fit(X_train, y_train, **fit_params)\n"
     ]
    },
    {
     "name": "stdout",
     "output_type": "stream",
     "text": [
      "[CV]  n_estimators=1566, min_samples_split=5, min_samples_leaf=2, max_features=sqrt, max_depth=10, bootstrap=False, total=   4.2s\n",
      "[CV] n_estimators=483, min_samples_split=5, min_samples_leaf=2, max_features=auto, max_depth=70, bootstrap=False \n"
     ]
    },
    {
     "name": "stderr",
     "output_type": "stream",
     "text": [
      "/home/amit/anaconda3/lib/python3.6/site-packages/sklearn/model_selection/_validation.py:458: DataConversionWarning: A column-vector y was passed when a 1d array was expected. Please change the shape of y to (n_samples,), for example using ravel().\n",
      "  estimator.fit(X_train, y_train, **fit_params)\n"
     ]
    },
    {
     "name": "stdout",
     "output_type": "stream",
     "text": [
      "[CV]  n_estimators=483, min_samples_split=5, min_samples_leaf=2, max_features=auto, max_depth=70, bootstrap=False, total=   2.1s\n",
      "[CV] n_estimators=483, min_samples_split=5, min_samples_leaf=2, max_features=auto, max_depth=70, bootstrap=False \n"
     ]
    },
    {
     "name": "stderr",
     "output_type": "stream",
     "text": [
      "/home/amit/anaconda3/lib/python3.6/site-packages/sklearn/model_selection/_validation.py:458: DataConversionWarning: A column-vector y was passed when a 1d array was expected. Please change the shape of y to (n_samples,), for example using ravel().\n",
      "  estimator.fit(X_train, y_train, **fit_params)\n"
     ]
    },
    {
     "name": "stdout",
     "output_type": "stream",
     "text": [
      "[CV]  n_estimators=483, min_samples_split=5, min_samples_leaf=2, max_features=auto, max_depth=70, bootstrap=False, total=   2.3s\n",
      "[CV] n_estimators=483, min_samples_split=5, min_samples_leaf=2, max_features=auto, max_depth=70, bootstrap=False \n"
     ]
    },
    {
     "name": "stderr",
     "output_type": "stream",
     "text": [
      "/home/amit/anaconda3/lib/python3.6/site-packages/sklearn/model_selection/_validation.py:458: DataConversionWarning: A column-vector y was passed when a 1d array was expected. Please change the shape of y to (n_samples,), for example using ravel().\n",
      "  estimator.fit(X_train, y_train, **fit_params)\n"
     ]
    },
    {
     "name": "stdout",
     "output_type": "stream",
     "text": [
      "[CV]  n_estimators=1783, min_samples_split=2, min_samples_leaf=4, max_features=auto, max_depth=50, bootstrap=False, total=   6.9s\n",
      "[CV] n_estimators=916, min_samples_split=2, min_samples_leaf=1, max_features=sqrt, max_depth=20, bootstrap=True \n"
     ]
    },
    {
     "name": "stderr",
     "output_type": "stream",
     "text": [
      "/home/amit/anaconda3/lib/python3.6/site-packages/sklearn/model_selection/_validation.py:458: DataConversionWarning: A column-vector y was passed when a 1d array was expected. Please change the shape of y to (n_samples,), for example using ravel().\n",
      "  estimator.fit(X_train, y_train, **fit_params)\n"
     ]
    },
    {
     "name": "stdout",
     "output_type": "stream",
     "text": [
      "[CV]  n_estimators=1783, min_samples_split=2, min_samples_leaf=4, max_features=auto, max_depth=50, bootstrap=False, total=   7.5s\n",
      "[CV] n_estimators=916, min_samples_split=2, min_samples_leaf=1, max_features=sqrt, max_depth=20, bootstrap=True \n"
     ]
    },
    {
     "name": "stderr",
     "output_type": "stream",
     "text": [
      "/home/amit/anaconda3/lib/python3.6/site-packages/sklearn/model_selection/_validation.py:458: DataConversionWarning: A column-vector y was passed when a 1d array was expected. Please change the shape of y to (n_samples,), for example using ravel().\n",
      "  estimator.fit(X_train, y_train, **fit_params)\n"
     ]
    },
    {
     "name": "stdout",
     "output_type": "stream",
     "text": [
      "[CV]  n_estimators=483, min_samples_split=5, min_samples_leaf=2, max_features=auto, max_depth=70, bootstrap=False, total=   2.3s\n",
      "[CV] n_estimators=916, min_samples_split=2, min_samples_leaf=1, max_features=sqrt, max_depth=20, bootstrap=True \n"
     ]
    },
    {
     "name": "stderr",
     "output_type": "stream",
     "text": [
      "/home/amit/anaconda3/lib/python3.6/site-packages/sklearn/model_selection/_validation.py:458: DataConversionWarning: A column-vector y was passed when a 1d array was expected. Please change the shape of y to (n_samples,), for example using ravel().\n",
      "  estimator.fit(X_train, y_train, **fit_params)\n"
     ]
    },
    {
     "name": "stdout",
     "output_type": "stream",
     "text": [
      "[CV]  n_estimators=1783, min_samples_split=2, min_samples_leaf=4, max_features=auto, max_depth=50, bootstrap=False, total=   7.4s\n",
      "[CV] n_estimators=1783, min_samples_split=10, min_samples_leaf=2, max_features=auto, max_depth=110, bootstrap=False \n"
     ]
    },
    {
     "name": "stderr",
     "output_type": "stream",
     "text": [
      "/home/amit/anaconda3/lib/python3.6/site-packages/sklearn/model_selection/_validation.py:458: DataConversionWarning: A column-vector y was passed when a 1d array was expected. Please change the shape of y to (n_samples,), for example using ravel().\n",
      "  estimator.fit(X_train, y_train, **fit_params)\n"
     ]
    },
    {
     "name": "stdout",
     "output_type": "stream",
     "text": [
      "[CV]  n_estimators=916, min_samples_split=2, min_samples_leaf=1, max_features=sqrt, max_depth=20, bootstrap=True, total=   2.4s\n",
      "[CV] n_estimators=1783, min_samples_split=10, min_samples_leaf=2, max_features=auto, max_depth=110, bootstrap=False \n"
     ]
    },
    {
     "name": "stderr",
     "output_type": "stream",
     "text": [
      "/home/amit/anaconda3/lib/python3.6/site-packages/sklearn/model_selection/_validation.py:458: DataConversionWarning: A column-vector y was passed when a 1d array was expected. Please change the shape of y to (n_samples,), for example using ravel().\n",
      "  estimator.fit(X_train, y_train, **fit_params)\n"
     ]
    },
    {
     "name": "stdout",
     "output_type": "stream",
     "text": [
      "[CV]  n_estimators=916, min_samples_split=2, min_samples_leaf=1, max_features=sqrt, max_depth=20, bootstrap=True, total=   2.5s\n",
      "[CV] n_estimators=1783, min_samples_split=10, min_samples_leaf=2, max_features=auto, max_depth=110, bootstrap=False \n"
     ]
    },
    {
     "name": "stderr",
     "output_type": "stream",
     "text": [
      "/home/amit/anaconda3/lib/python3.6/site-packages/sklearn/model_selection/_validation.py:458: DataConversionWarning: A column-vector y was passed when a 1d array was expected. Please change the shape of y to (n_samples,), for example using ravel().\n",
      "  estimator.fit(X_train, y_train, **fit_params)\n"
     ]
    },
    {
     "name": "stdout",
     "output_type": "stream",
     "text": [
      "[CV]  n_estimators=916, min_samples_split=2, min_samples_leaf=1, max_features=sqrt, max_depth=20, bootstrap=True, total=   2.5s\n",
      "[CV] n_estimators=483, min_samples_split=5, min_samples_leaf=1, max_features=auto, max_depth=80, bootstrap=True \n"
     ]
    },
    {
     "name": "stderr",
     "output_type": "stream",
     "text": [
      "/home/amit/anaconda3/lib/python3.6/site-packages/sklearn/model_selection/_validation.py:458: DataConversionWarning: A column-vector y was passed when a 1d array was expected. Please change the shape of y to (n_samples,), for example using ravel().\n",
      "  estimator.fit(X_train, y_train, **fit_params)\n"
     ]
    },
    {
     "name": "stdout",
     "output_type": "stream",
     "text": [
      "[CV]  n_estimators=483, min_samples_split=5, min_samples_leaf=1, max_features=auto, max_depth=80, bootstrap=True, total=   2.0s\n",
      "[CV] n_estimators=483, min_samples_split=5, min_samples_leaf=1, max_features=auto, max_depth=80, bootstrap=True \n"
     ]
    },
    {
     "name": "stderr",
     "output_type": "stream",
     "text": [
      "/home/amit/anaconda3/lib/python3.6/site-packages/sklearn/model_selection/_validation.py:458: DataConversionWarning: A column-vector y was passed when a 1d array was expected. Please change the shape of y to (n_samples,), for example using ravel().\n",
      "  estimator.fit(X_train, y_train, **fit_params)\n"
     ]
    },
    {
     "name": "stdout",
     "output_type": "stream",
     "text": [
      "[CV]  n_estimators=483, min_samples_split=5, min_samples_leaf=1, max_features=auto, max_depth=80, bootstrap=True, total=   2.0s\n",
      "[CV] n_estimators=483, min_samples_split=5, min_samples_leaf=1, max_features=auto, max_depth=80, bootstrap=True \n"
     ]
    },
    {
     "name": "stderr",
     "output_type": "stream",
     "text": [
      "/home/amit/anaconda3/lib/python3.6/site-packages/sklearn/model_selection/_validation.py:458: DataConversionWarning: A column-vector y was passed when a 1d array was expected. Please change the shape of y to (n_samples,), for example using ravel().\n",
      "  estimator.fit(X_train, y_train, **fit_params)\n"
     ]
    },
    {
     "name": "stdout",
     "output_type": "stream",
     "text": [
      "[CV]  n_estimators=1783, min_samples_split=10, min_samples_leaf=2, max_features=auto, max_depth=110, bootstrap=False, total=   8.4s\n",
      "[CV] n_estimators=1783, min_samples_split=10, min_samples_leaf=1, max_features=sqrt, max_depth=30, bootstrap=False \n"
     ]
    },
    {
     "name": "stderr",
     "output_type": "stream",
     "text": [
      "/home/amit/anaconda3/lib/python3.6/site-packages/sklearn/model_selection/_validation.py:458: DataConversionWarning: A column-vector y was passed when a 1d array was expected. Please change the shape of y to (n_samples,), for example using ravel().\n",
      "  estimator.fit(X_train, y_train, **fit_params)\n"
     ]
    },
    {
     "name": "stdout",
     "output_type": "stream",
     "text": [
      "[CV]  n_estimators=483, min_samples_split=5, min_samples_leaf=1, max_features=auto, max_depth=80, bootstrap=True, total=   2.0s\n",
      "[CV] n_estimators=1783, min_samples_split=10, min_samples_leaf=1, max_features=sqrt, max_depth=30, bootstrap=False \n"
     ]
    },
    {
     "name": "stderr",
     "output_type": "stream",
     "text": [
      "/home/amit/anaconda3/lib/python3.6/site-packages/sklearn/model_selection/_validation.py:458: DataConversionWarning: A column-vector y was passed when a 1d array was expected. Please change the shape of y to (n_samples,), for example using ravel().\n",
      "  estimator.fit(X_train, y_train, **fit_params)\n"
     ]
    },
    {
     "name": "stdout",
     "output_type": "stream",
     "text": [
      "[CV]  n_estimators=1783, min_samples_split=10, min_samples_leaf=2, max_features=auto, max_depth=110, bootstrap=False, total=   9.0s\n",
      "[CV] n_estimators=1783, min_samples_split=10, min_samples_leaf=1, max_features=sqrt, max_depth=30, bootstrap=False \n"
     ]
    },
    {
     "name": "stderr",
     "output_type": "stream",
     "text": [
      "/home/amit/anaconda3/lib/python3.6/site-packages/sklearn/model_selection/_validation.py:458: DataConversionWarning: A column-vector y was passed when a 1d array was expected. Please change the shape of y to (n_samples,), for example using ravel().\n",
      "  estimator.fit(X_train, y_train, **fit_params)\n"
     ]
    },
    {
     "name": "stdout",
     "output_type": "stream",
     "text": [
      "[CV]  n_estimators=1783, min_samples_split=10, min_samples_leaf=2, max_features=auto, max_depth=110, bootstrap=False, total=   9.0s\n",
      "[CV] n_estimators=1566, min_samples_split=5, min_samples_leaf=1, max_features=sqrt, max_depth=70, bootstrap=False \n"
     ]
    },
    {
     "name": "stderr",
     "output_type": "stream",
     "text": [
      "/home/amit/anaconda3/lib/python3.6/site-packages/sklearn/model_selection/_validation.py:458: DataConversionWarning: A column-vector y was passed when a 1d array was expected. Please change the shape of y to (n_samples,), for example using ravel().\n",
      "  estimator.fit(X_train, y_train, **fit_params)\n"
     ]
    },
    {
     "name": "stdout",
     "output_type": "stream",
     "text": [
      "[CV]  n_estimators=1783, min_samples_split=10, min_samples_leaf=1, max_features=sqrt, max_depth=30, bootstrap=False, total=   5.3s\n",
      "[CV] n_estimators=1566, min_samples_split=5, min_samples_leaf=1, max_features=sqrt, max_depth=70, bootstrap=False \n"
     ]
    },
    {
     "name": "stderr",
     "output_type": "stream",
     "text": [
      "/home/amit/anaconda3/lib/python3.6/site-packages/sklearn/model_selection/_validation.py:458: DataConversionWarning: A column-vector y was passed when a 1d array was expected. Please change the shape of y to (n_samples,), for example using ravel().\n",
      "  estimator.fit(X_train, y_train, **fit_params)\n"
     ]
    },
    {
     "name": "stdout",
     "output_type": "stream",
     "text": [
      "[CV]  n_estimators=1783, min_samples_split=10, min_samples_leaf=1, max_features=sqrt, max_depth=30, bootstrap=False, total=   5.4s\n",
      "[CV] n_estimators=1566, min_samples_split=5, min_samples_leaf=1, max_features=sqrt, max_depth=70, bootstrap=False \n"
     ]
    },
    {
     "name": "stderr",
     "output_type": "stream",
     "text": [
      "/home/amit/anaconda3/lib/python3.6/site-packages/sklearn/model_selection/_validation.py:458: DataConversionWarning: A column-vector y was passed when a 1d array was expected. Please change the shape of y to (n_samples,), for example using ravel().\n",
      "  estimator.fit(X_train, y_train, **fit_params)\n"
     ]
    },
    {
     "name": "stdout",
     "output_type": "stream",
     "text": [
      "[CV]  n_estimators=1783, min_samples_split=10, min_samples_leaf=1, max_features=sqrt, max_depth=30, bootstrap=False, total=   5.1s\n",
      "[CV] n_estimators=1350, min_samples_split=5, min_samples_leaf=4, max_features=sqrt, max_depth=80, bootstrap=True \n"
     ]
    },
    {
     "name": "stderr",
     "output_type": "stream",
     "text": [
      "/home/amit/anaconda3/lib/python3.6/site-packages/sklearn/model_selection/_validation.py:458: DataConversionWarning: A column-vector y was passed when a 1d array was expected. Please change the shape of y to (n_samples,), for example using ravel().\n",
      "  estimator.fit(X_train, y_train, **fit_params)\n"
     ]
    },
    {
     "name": "stdout",
     "output_type": "stream",
     "text": [
      "[CV]  n_estimators=1566, min_samples_split=5, min_samples_leaf=1, max_features=sqrt, max_depth=70, bootstrap=False, total=   4.7s\n",
      "[CV] n_estimators=1350, min_samples_split=5, min_samples_leaf=4, max_features=sqrt, max_depth=80, bootstrap=True \n"
     ]
    },
    {
     "name": "stderr",
     "output_type": "stream",
     "text": [
      "/home/amit/anaconda3/lib/python3.6/site-packages/sklearn/model_selection/_validation.py:458: DataConversionWarning: A column-vector y was passed when a 1d array was expected. Please change the shape of y to (n_samples,), for example using ravel().\n",
      "  estimator.fit(X_train, y_train, **fit_params)\n"
     ]
    },
    {
     "name": "stdout",
     "output_type": "stream",
     "text": [
      "[CV]  n_estimators=1350, min_samples_split=5, min_samples_leaf=4, max_features=sqrt, max_depth=80, bootstrap=True, total=   3.0s\n",
      "[CV] n_estimators=1350, min_samples_split=5, min_samples_leaf=4, max_features=sqrt, max_depth=80, bootstrap=True \n"
     ]
    },
    {
     "name": "stderr",
     "output_type": "stream",
     "text": [
      "/home/amit/anaconda3/lib/python3.6/site-packages/sklearn/model_selection/_validation.py:458: DataConversionWarning: A column-vector y was passed when a 1d array was expected. Please change the shape of y to (n_samples,), for example using ravel().\n",
      "  estimator.fit(X_train, y_train, **fit_params)\n"
     ]
    },
    {
     "name": "stdout",
     "output_type": "stream",
     "text": [
      "[CV]  n_estimators=1566, min_samples_split=5, min_samples_leaf=1, max_features=sqrt, max_depth=70, bootstrap=False, total=   4.5s\n",
      "[CV] n_estimators=1783, min_samples_split=2, min_samples_leaf=2, max_features=auto, max_depth=None, bootstrap=True \n"
     ]
    },
    {
     "name": "stderr",
     "output_type": "stream",
     "text": [
      "/home/amit/anaconda3/lib/python3.6/site-packages/sklearn/model_selection/_validation.py:458: DataConversionWarning: A column-vector y was passed when a 1d array was expected. Please change the shape of y to (n_samples,), for example using ravel().\n",
      "  estimator.fit(X_train, y_train, **fit_params)\n"
     ]
    },
    {
     "name": "stdout",
     "output_type": "stream",
     "text": [
      "[CV]  n_estimators=1566, min_samples_split=5, min_samples_leaf=1, max_features=sqrt, max_depth=70, bootstrap=False, total=   4.4s\n",
      "[CV] n_estimators=1783, min_samples_split=2, min_samples_leaf=2, max_features=auto, max_depth=None, bootstrap=True \n"
     ]
    },
    {
     "name": "stderr",
     "output_type": "stream",
     "text": [
      "/home/amit/anaconda3/lib/python3.6/site-packages/sklearn/model_selection/_validation.py:458: DataConversionWarning: A column-vector y was passed when a 1d array was expected. Please change the shape of y to (n_samples,), for example using ravel().\n",
      "  estimator.fit(X_train, y_train, **fit_params)\n"
     ]
    },
    {
     "name": "stdout",
     "output_type": "stream",
     "text": [
      "[CV]  n_estimators=1350, min_samples_split=5, min_samples_leaf=4, max_features=sqrt, max_depth=80, bootstrap=True, total=   3.1s\n",
      "[CV] n_estimators=1783, min_samples_split=2, min_samples_leaf=2, max_features=auto, max_depth=None, bootstrap=True \n"
     ]
    },
    {
     "name": "stderr",
     "output_type": "stream",
     "text": [
      "/home/amit/anaconda3/lib/python3.6/site-packages/sklearn/model_selection/_validation.py:458: DataConversionWarning: A column-vector y was passed when a 1d array was expected. Please change the shape of y to (n_samples,), for example using ravel().\n",
      "  estimator.fit(X_train, y_train, **fit_params)\n"
     ]
    },
    {
     "name": "stdout",
     "output_type": "stream",
     "text": [
      "[CV]  n_estimators=1350, min_samples_split=5, min_samples_leaf=4, max_features=sqrt, max_depth=80, bootstrap=True, total=   3.1s\n",
      "[CV] n_estimators=1350, min_samples_split=5, min_samples_leaf=1, max_features=sqrt, max_depth=80, bootstrap=False \n"
     ]
    },
    {
     "name": "stderr",
     "output_type": "stream",
     "text": [
      "/home/amit/anaconda3/lib/python3.6/site-packages/sklearn/model_selection/_validation.py:458: DataConversionWarning: A column-vector y was passed when a 1d array was expected. Please change the shape of y to (n_samples,), for example using ravel().\n",
      "  estimator.fit(X_train, y_train, **fit_params)\n"
     ]
    },
    {
     "name": "stdout",
     "output_type": "stream",
     "text": [
      "[CV]  n_estimators=1783, min_samples_split=2, min_samples_leaf=2, max_features=auto, max_depth=None, bootstrap=True, total=   6.1s\n",
      "[CV] n_estimators=1350, min_samples_split=5, min_samples_leaf=1, max_features=sqrt, max_depth=80, bootstrap=False \n"
     ]
    },
    {
     "name": "stderr",
     "output_type": "stream",
     "text": [
      "/home/amit/anaconda3/lib/python3.6/site-packages/sklearn/model_selection/_validation.py:458: DataConversionWarning: A column-vector y was passed when a 1d array was expected. Please change the shape of y to (n_samples,), for example using ravel().\n",
      "  estimator.fit(X_train, y_train, **fit_params)\n"
     ]
    },
    {
     "name": "stdout",
     "output_type": "stream",
     "text": [
      "[CV]  n_estimators=1783, min_samples_split=2, min_samples_leaf=2, max_features=auto, max_depth=None, bootstrap=True, total=   6.4s\n",
      "[CV] n_estimators=1350, min_samples_split=5, min_samples_leaf=1, max_features=sqrt, max_depth=80, bootstrap=False \n"
     ]
    },
    {
     "name": "stderr",
     "output_type": "stream",
     "text": [
      "/home/amit/anaconda3/lib/python3.6/site-packages/sklearn/model_selection/_validation.py:458: DataConversionWarning: A column-vector y was passed when a 1d array was expected. Please change the shape of y to (n_samples,), for example using ravel().\n",
      "  estimator.fit(X_train, y_train, **fit_params)\n"
     ]
    },
    {
     "name": "stdout",
     "output_type": "stream",
     "text": [
      "[CV]  n_estimators=1350, min_samples_split=5, min_samples_leaf=1, max_features=sqrt, max_depth=80, bootstrap=False, total=   3.7s\n",
      "[CV] n_estimators=266, min_samples_split=2, min_samples_leaf=1, max_features=sqrt, max_depth=None, bootstrap=False \n"
     ]
    },
    {
     "name": "stderr",
     "output_type": "stream",
     "text": [
      "/home/amit/anaconda3/lib/python3.6/site-packages/sklearn/model_selection/_validation.py:458: DataConversionWarning: A column-vector y was passed when a 1d array was expected. Please change the shape of y to (n_samples,), for example using ravel().\n",
      "  estimator.fit(X_train, y_train, **fit_params)\n"
     ]
    },
    {
     "name": "stdout",
     "output_type": "stream",
     "text": [
      "[CV]  n_estimators=1783, min_samples_split=2, min_samples_leaf=2, max_features=auto, max_depth=None, bootstrap=True, total=   6.4s\n",
      "[CV] n_estimators=266, min_samples_split=2, min_samples_leaf=1, max_features=sqrt, max_depth=None, bootstrap=False \n"
     ]
    },
    {
     "name": "stderr",
     "output_type": "stream",
     "text": [
      "/home/amit/anaconda3/lib/python3.6/site-packages/sklearn/model_selection/_validation.py:458: DataConversionWarning: A column-vector y was passed when a 1d array was expected. Please change the shape of y to (n_samples,), for example using ravel().\n",
      "  estimator.fit(X_train, y_train, **fit_params)\n"
     ]
    },
    {
     "name": "stdout",
     "output_type": "stream",
     "text": [
      "[CV]  n_estimators=266, min_samples_split=2, min_samples_leaf=1, max_features=sqrt, max_depth=None, bootstrap=False, total=   0.9s\n",
      "[CV] n_estimators=266, min_samples_split=2, min_samples_leaf=1, max_features=sqrt, max_depth=None, bootstrap=False \n"
     ]
    },
    {
     "name": "stderr",
     "output_type": "stream",
     "text": [
      "/home/amit/anaconda3/lib/python3.6/site-packages/sklearn/model_selection/_validation.py:458: DataConversionWarning: A column-vector y was passed when a 1d array was expected. Please change the shape of y to (n_samples,), for example using ravel().\n",
      "  estimator.fit(X_train, y_train, **fit_params)\n"
     ]
    },
    {
     "name": "stdout",
     "output_type": "stream",
     "text": [
      "[CV]  n_estimators=266, min_samples_split=2, min_samples_leaf=1, max_features=sqrt, max_depth=None, bootstrap=False, total=   0.9s\n",
      "[CV] n_estimators=1350, min_samples_split=2, min_samples_leaf=1, max_features=auto, max_depth=40, bootstrap=False \n"
     ]
    },
    {
     "name": "stderr",
     "output_type": "stream",
     "text": [
      "/home/amit/anaconda3/lib/python3.6/site-packages/sklearn/model_selection/_validation.py:458: DataConversionWarning: A column-vector y was passed when a 1d array was expected. Please change the shape of y to (n_samples,), for example using ravel().\n",
      "  estimator.fit(X_train, y_train, **fit_params)\n"
     ]
    },
    {
     "name": "stdout",
     "output_type": "stream",
     "text": [
      "[CV]  n_estimators=266, min_samples_split=2, min_samples_leaf=1, max_features=sqrt, max_depth=None, bootstrap=False, total=   0.9s\n",
      "[CV] n_estimators=1350, min_samples_split=2, min_samples_leaf=1, max_features=auto, max_depth=40, bootstrap=False \n"
     ]
    },
    {
     "name": "stderr",
     "output_type": "stream",
     "text": [
      "/home/amit/anaconda3/lib/python3.6/site-packages/sklearn/model_selection/_validation.py:458: DataConversionWarning: A column-vector y was passed when a 1d array was expected. Please change the shape of y to (n_samples,), for example using ravel().\n",
      "  estimator.fit(X_train, y_train, **fit_params)\n"
     ]
    },
    {
     "name": "stdout",
     "output_type": "stream",
     "text": [
      "[CV]  n_estimators=1350, min_samples_split=5, min_samples_leaf=1, max_features=sqrt, max_depth=80, bootstrap=False, total=   3.8s\n",
      "[CV] n_estimators=1350, min_samples_split=2, min_samples_leaf=1, max_features=auto, max_depth=40, bootstrap=False \n"
     ]
    },
    {
     "name": "stderr",
     "output_type": "stream",
     "text": [
      "/home/amit/anaconda3/lib/python3.6/site-packages/sklearn/model_selection/_validation.py:458: DataConversionWarning: A column-vector y was passed when a 1d array was expected. Please change the shape of y to (n_samples,), for example using ravel().\n",
      "  estimator.fit(X_train, y_train, **fit_params)\n"
     ]
    },
    {
     "name": "stdout",
     "output_type": "stream",
     "text": [
      "[CV]  n_estimators=1350, min_samples_split=5, min_samples_leaf=1, max_features=sqrt, max_depth=80, bootstrap=False, total=   3.8s\n",
      "[CV] n_estimators=916, min_samples_split=5, min_samples_leaf=2, max_features=sqrt, max_depth=20, bootstrap=True \n"
     ]
    },
    {
     "name": "stderr",
     "output_type": "stream",
     "text": [
      "/home/amit/anaconda3/lib/python3.6/site-packages/sklearn/model_selection/_validation.py:458: DataConversionWarning: A column-vector y was passed when a 1d array was expected. Please change the shape of y to (n_samples,), for example using ravel().\n",
      "  estimator.fit(X_train, y_train, **fit_params)\n"
     ]
    },
    {
     "name": "stdout",
     "output_type": "stream",
     "text": [
      "[CV]  n_estimators=916, min_samples_split=5, min_samples_leaf=2, max_features=sqrt, max_depth=20, bootstrap=True, total=   2.1s\n",
      "[CV] n_estimators=916, min_samples_split=5, min_samples_leaf=2, max_features=sqrt, max_depth=20, bootstrap=True \n"
     ]
    },
    {
     "name": "stderr",
     "output_type": "stream",
     "text": [
      "/home/amit/anaconda3/lib/python3.6/site-packages/sklearn/model_selection/_validation.py:458: DataConversionWarning: A column-vector y was passed when a 1d array was expected. Please change the shape of y to (n_samples,), for example using ravel().\n",
      "  estimator.fit(X_train, y_train, **fit_params)\n"
     ]
    },
    {
     "name": "stdout",
     "output_type": "stream",
     "text": [
      "[CV]  n_estimators=916, min_samples_split=5, min_samples_leaf=2, max_features=sqrt, max_depth=20, bootstrap=True, total=   2.1s\n",
      "[CV]  n_estimators=1350, min_samples_split=2, min_samples_leaf=1, max_features=auto, max_depth=40, bootstrap=False, total=   7.1s\n",
      "[CV] n_estimators=2000, min_samples_split=10, min_samples_leaf=4, max_features=auto, max_depth=100, bootstrap=False \n"
     ]
    },
    {
     "name": "stderr",
     "output_type": "stream",
     "text": [
      "/home/amit/anaconda3/lib/python3.6/site-packages/sklearn/model_selection/_validation.py:458: DataConversionWarning: A column-vector y was passed when a 1d array was expected. Please change the shape of y to (n_samples,), for example using ravel().\n",
      "  estimator.fit(X_train, y_train, **fit_params)\n"
     ]
    },
    {
     "name": "stdout",
     "output_type": "stream",
     "text": [
      "[CV] n_estimators=916, min_samples_split=5, min_samples_leaf=2, max_features=sqrt, max_depth=20, bootstrap=True \n"
     ]
    },
    {
     "name": "stderr",
     "output_type": "stream",
     "text": [
      "/home/amit/anaconda3/lib/python3.6/site-packages/sklearn/model_selection/_validation.py:458: DataConversionWarning: A column-vector y was passed when a 1d array was expected. Please change the shape of y to (n_samples,), for example using ravel().\n",
      "  estimator.fit(X_train, y_train, **fit_params)\n"
     ]
    },
    {
     "name": "stdout",
     "output_type": "stream",
     "text": [
      "[CV]  n_estimators=1350, min_samples_split=2, min_samples_leaf=1, max_features=auto, max_depth=40, bootstrap=False, total=   7.6s\n",
      "[CV] n_estimators=2000, min_samples_split=10, min_samples_leaf=4, max_features=auto, max_depth=100, bootstrap=False \n"
     ]
    },
    {
     "name": "stderr",
     "output_type": "stream",
     "text": [
      "/home/amit/anaconda3/lib/python3.6/site-packages/sklearn/model_selection/_validation.py:458: DataConversionWarning: A column-vector y was passed when a 1d array was expected. Please change the shape of y to (n_samples,), for example using ravel().\n",
      "  estimator.fit(X_train, y_train, **fit_params)\n"
     ]
    },
    {
     "name": "stdout",
     "output_type": "stream",
     "text": [
      "[CV]  n_estimators=916, min_samples_split=5, min_samples_leaf=2, max_features=sqrt, max_depth=20, bootstrap=True, total=   2.1s\n",
      "[CV] n_estimators=2000, min_samples_split=10, min_samples_leaf=4, max_features=auto, max_depth=100, bootstrap=False \n"
     ]
    },
    {
     "name": "stderr",
     "output_type": "stream",
     "text": [
      "/home/amit/anaconda3/lib/python3.6/site-packages/sklearn/model_selection/_validation.py:458: DataConversionWarning: A column-vector y was passed when a 1d array was expected. Please change the shape of y to (n_samples,), for example using ravel().\n",
      "  estimator.fit(X_train, y_train, **fit_params)\n"
     ]
    },
    {
     "name": "stdout",
     "output_type": "stream",
     "text": [
      "[CV]  n_estimators=1350, min_samples_split=2, min_samples_leaf=1, max_features=auto, max_depth=40, bootstrap=False, total=   7.6s\n",
      "[CV] n_estimators=1133, min_samples_split=2, min_samples_leaf=2, max_features=sqrt, max_depth=20, bootstrap=True \n"
     ]
    },
    {
     "name": "stderr",
     "output_type": "stream",
     "text": [
      "/home/amit/anaconda3/lib/python3.6/site-packages/sklearn/model_selection/_validation.py:458: DataConversionWarning: A column-vector y was passed when a 1d array was expected. Please change the shape of y to (n_samples,), for example using ravel().\n",
      "  estimator.fit(X_train, y_train, **fit_params)\n"
     ]
    },
    {
     "name": "stdout",
     "output_type": "stream",
     "text": [
      "[CV]  n_estimators=1133, min_samples_split=2, min_samples_leaf=2, max_features=sqrt, max_depth=20, bootstrap=True, total=   2.6s\n",
      "[CV] n_estimators=1133, min_samples_split=2, min_samples_leaf=2, max_features=sqrt, max_depth=20, bootstrap=True \n"
     ]
    },
    {
     "name": "stderr",
     "output_type": "stream",
     "text": [
      "/home/amit/anaconda3/lib/python3.6/site-packages/sklearn/model_selection/_validation.py:458: DataConversionWarning: A column-vector y was passed when a 1d array was expected. Please change the shape of y to (n_samples,), for example using ravel().\n",
      "  estimator.fit(X_train, y_train, **fit_params)\n"
     ]
    },
    {
     "name": "stdout",
     "output_type": "stream",
     "text": [
      "[CV]  n_estimators=2000, min_samples_split=10, min_samples_leaf=4, max_features=auto, max_depth=100, bootstrap=False, total=   7.6s\n",
      "[CV] n_estimators=1133, min_samples_split=2, min_samples_leaf=2, max_features=sqrt, max_depth=20, bootstrap=True \n"
     ]
    },
    {
     "name": "stderr",
     "output_type": "stream",
     "text": [
      "/home/amit/anaconda3/lib/python3.6/site-packages/sklearn/model_selection/_validation.py:458: DataConversionWarning: A column-vector y was passed when a 1d array was expected. Please change the shape of y to (n_samples,), for example using ravel().\n",
      "  estimator.fit(X_train, y_train, **fit_params)\n"
     ]
    },
    {
     "name": "stdout",
     "output_type": "stream",
     "text": [
      "[CV]  n_estimators=1133, min_samples_split=2, min_samples_leaf=2, max_features=sqrt, max_depth=20, bootstrap=True, total=   2.6s\n",
      "[CV] n_estimators=1133, min_samples_split=10, min_samples_leaf=4, max_features=sqrt, max_depth=20, bootstrap=False \n"
     ]
    },
    {
     "name": "stderr",
     "output_type": "stream",
     "text": [
      "/home/amit/anaconda3/lib/python3.6/site-packages/sklearn/model_selection/_validation.py:458: DataConversionWarning: A column-vector y was passed when a 1d array was expected. Please change the shape of y to (n_samples,), for example using ravel().\n",
      "  estimator.fit(X_train, y_train, **fit_params)\n"
     ]
    },
    {
     "name": "stdout",
     "output_type": "stream",
     "text": [
      "[CV]  n_estimators=2000, min_samples_split=10, min_samples_leaf=4, max_features=auto, max_depth=100, bootstrap=False, total=   8.4s\n",
      "[CV] n_estimators=1133, min_samples_split=10, min_samples_leaf=4, max_features=sqrt, max_depth=20, bootstrap=False \n"
     ]
    },
    {
     "name": "stderr",
     "output_type": "stream",
     "text": [
      "/home/amit/anaconda3/lib/python3.6/site-packages/sklearn/model_selection/_validation.py:458: DataConversionWarning: A column-vector y was passed when a 1d array was expected. Please change the shape of y to (n_samples,), for example using ravel().\n",
      "  estimator.fit(X_train, y_train, **fit_params)\n"
     ]
    },
    {
     "name": "stdout",
     "output_type": "stream",
     "text": [
      "[CV]  n_estimators=1133, min_samples_split=2, min_samples_leaf=2, max_features=sqrt, max_depth=20, bootstrap=True, total=   2.7s\n",
      "[CV] n_estimators=1133, min_samples_split=10, min_samples_leaf=4, max_features=sqrt, max_depth=20, bootstrap=False \n",
      "[CV]  n_estimators=2000, min_samples_split=10, min_samples_leaf=4, max_features=auto, max_depth=100, bootstrap=False, total=   8.2s\n"
     ]
    },
    {
     "name": "stderr",
     "output_type": "stream",
     "text": [
      "/home/amit/anaconda3/lib/python3.6/site-packages/sklearn/model_selection/_validation.py:458: DataConversionWarning: A column-vector y was passed when a 1d array was expected. Please change the shape of y to (n_samples,), for example using ravel().\n",
      "  estimator.fit(X_train, y_train, **fit_params)\n"
     ]
    },
    {
     "name": "stdout",
     "output_type": "stream",
     "text": [
      "[CV] n_estimators=700, min_samples_split=2, min_samples_leaf=2, max_features=sqrt, max_depth=50, bootstrap=False \n"
     ]
    },
    {
     "name": "stderr",
     "output_type": "stream",
     "text": [
      "/home/amit/anaconda3/lib/python3.6/site-packages/sklearn/model_selection/_validation.py:458: DataConversionWarning: A column-vector y was passed when a 1d array was expected. Please change the shape of y to (n_samples,), for example using ravel().\n",
      "  estimator.fit(X_train, y_train, **fit_params)\n"
     ]
    },
    {
     "name": "stdout",
     "output_type": "stream",
     "text": [
      "[CV]  n_estimators=1133, min_samples_split=10, min_samples_leaf=4, max_features=sqrt, max_depth=20, bootstrap=False, total=   2.8s\n",
      "[CV] n_estimators=700, min_samples_split=2, min_samples_leaf=2, max_features=sqrt, max_depth=50, bootstrap=False \n"
     ]
    },
    {
     "name": "stderr",
     "output_type": "stream",
     "text": [
      "/home/amit/anaconda3/lib/python3.6/site-packages/sklearn/model_selection/_validation.py:458: DataConversionWarning: A column-vector y was passed when a 1d array was expected. Please change the shape of y to (n_samples,), for example using ravel().\n",
      "  estimator.fit(X_train, y_train, **fit_params)\n"
     ]
    },
    {
     "name": "stdout",
     "output_type": "stream",
     "text": [
      "[CV]  n_estimators=700, min_samples_split=2, min_samples_leaf=2, max_features=sqrt, max_depth=50, bootstrap=False, total=   1.9s\n",
      "[CV] n_estimators=700, min_samples_split=2, min_samples_leaf=2, max_features=sqrt, max_depth=50, bootstrap=False \n"
     ]
    },
    {
     "name": "stderr",
     "output_type": "stream",
     "text": [
      "/home/amit/anaconda3/lib/python3.6/site-packages/sklearn/model_selection/_validation.py:458: DataConversionWarning: A column-vector y was passed when a 1d array was expected. Please change the shape of y to (n_samples,), for example using ravel().\n",
      "  estimator.fit(X_train, y_train, **fit_params)\n"
     ]
    },
    {
     "name": "stdout",
     "output_type": "stream",
     "text": [
      "[CV]  n_estimators=1133, min_samples_split=10, min_samples_leaf=4, max_features=sqrt, max_depth=20, bootstrap=False, total=   2.8s\n",
      "[CV] n_estimators=700, min_samples_split=5, min_samples_leaf=1, max_features=sqrt, max_depth=100, bootstrap=False \n"
     ]
    },
    {
     "name": "stderr",
     "output_type": "stream",
     "text": [
      "/home/amit/anaconda3/lib/python3.6/site-packages/sklearn/model_selection/_validation.py:458: DataConversionWarning: A column-vector y was passed when a 1d array was expected. Please change the shape of y to (n_samples,), for example using ravel().\n",
      "  estimator.fit(X_train, y_train, **fit_params)\n"
     ]
    },
    {
     "name": "stdout",
     "output_type": "stream",
     "text": [
      "[CV]  n_estimators=700, min_samples_split=2, min_samples_leaf=2, max_features=sqrt, max_depth=50, bootstrap=False, total=   1.9s\n",
      "[CV] n_estimators=700, min_samples_split=5, min_samples_leaf=1, max_features=sqrt, max_depth=100, bootstrap=False \n"
     ]
    },
    {
     "name": "stderr",
     "output_type": "stream",
     "text": [
      "/home/amit/anaconda3/lib/python3.6/site-packages/sklearn/model_selection/_validation.py:458: DataConversionWarning: A column-vector y was passed when a 1d array was expected. Please change the shape of y to (n_samples,), for example using ravel().\n",
      "  estimator.fit(X_train, y_train, **fit_params)\n"
     ]
    },
    {
     "name": "stdout",
     "output_type": "stream",
     "text": [
      "[CV]  n_estimators=1133, min_samples_split=10, min_samples_leaf=4, max_features=sqrt, max_depth=20, bootstrap=False, total=   2.9s\n",
      "[CV] n_estimators=700, min_samples_split=5, min_samples_leaf=1, max_features=sqrt, max_depth=100, bootstrap=False \n"
     ]
    },
    {
     "name": "stderr",
     "output_type": "stream",
     "text": [
      "/home/amit/anaconda3/lib/python3.6/site-packages/sklearn/model_selection/_validation.py:458: DataConversionWarning: A column-vector y was passed when a 1d array was expected. Please change the shape of y to (n_samples,), for example using ravel().\n",
      "  estimator.fit(X_train, y_train, **fit_params)\n"
     ]
    },
    {
     "name": "stdout",
     "output_type": "stream",
     "text": [
      "[CV]  n_estimators=700, min_samples_split=2, min_samples_leaf=2, max_features=sqrt, max_depth=50, bootstrap=False, total=   2.0s\n",
      "[CV] n_estimators=700, min_samples_split=10, min_samples_leaf=4, max_features=sqrt, max_depth=50, bootstrap=True \n"
     ]
    },
    {
     "name": "stderr",
     "output_type": "stream",
     "text": [
      "/home/amit/anaconda3/lib/python3.6/site-packages/sklearn/model_selection/_validation.py:458: DataConversionWarning: A column-vector y was passed when a 1d array was expected. Please change the shape of y to (n_samples,), for example using ravel().\n",
      "  estimator.fit(X_train, y_train, **fit_params)\n"
     ]
    },
    {
     "name": "stdout",
     "output_type": "stream",
     "text": [
      "[CV]  n_estimators=700, min_samples_split=5, min_samples_leaf=1, max_features=sqrt, max_depth=100, bootstrap=False, total=   1.9s\n",
      "[CV] n_estimators=700, min_samples_split=10, min_samples_leaf=4, max_features=sqrt, max_depth=50, bootstrap=True \n"
     ]
    },
    {
     "name": "stderr",
     "output_type": "stream",
     "text": [
      "/home/amit/anaconda3/lib/python3.6/site-packages/sklearn/model_selection/_validation.py:458: DataConversionWarning: A column-vector y was passed when a 1d array was expected. Please change the shape of y to (n_samples,), for example using ravel().\n",
      "  estimator.fit(X_train, y_train, **fit_params)\n"
     ]
    },
    {
     "name": "stdout",
     "output_type": "stream",
     "text": [
      "[CV]  n_estimators=700, min_samples_split=5, min_samples_leaf=1, max_features=sqrt, max_depth=100, bootstrap=False, total=   2.0s\n",
      "[CV] n_estimators=700, min_samples_split=10, min_samples_leaf=4, max_features=sqrt, max_depth=50, bootstrap=True \n"
     ]
    },
    {
     "name": "stderr",
     "output_type": "stream",
     "text": [
      "/home/amit/anaconda3/lib/python3.6/site-packages/sklearn/model_selection/_validation.py:458: DataConversionWarning: A column-vector y was passed when a 1d array was expected. Please change the shape of y to (n_samples,), for example using ravel().\n",
      "  estimator.fit(X_train, y_train, **fit_params)\n"
     ]
    },
    {
     "name": "stdout",
     "output_type": "stream",
     "text": [
      "[CV]  n_estimators=700, min_samples_split=5, min_samples_leaf=1, max_features=sqrt, max_depth=100, bootstrap=False, total=   2.1s\n",
      "[CV] n_estimators=1783, min_samples_split=2, min_samples_leaf=4, max_features=sqrt, max_depth=90, bootstrap=True \n"
     ]
    },
    {
     "name": "stderr",
     "output_type": "stream",
     "text": [
      "/home/amit/anaconda3/lib/python3.6/site-packages/sklearn/model_selection/_validation.py:458: DataConversionWarning: A column-vector y was passed when a 1d array was expected. Please change the shape of y to (n_samples,), for example using ravel().\n",
      "  estimator.fit(X_train, y_train, **fit_params)\n"
     ]
    },
    {
     "name": "stdout",
     "output_type": "stream",
     "text": [
      "[CV]  n_estimators=700, min_samples_split=10, min_samples_leaf=4, max_features=sqrt, max_depth=50, bootstrap=True, total=   1.7s\n",
      "[CV] n_estimators=1783, min_samples_split=2, min_samples_leaf=4, max_features=sqrt, max_depth=90, bootstrap=True \n"
     ]
    },
    {
     "name": "stderr",
     "output_type": "stream",
     "text": [
      "/home/amit/anaconda3/lib/python3.6/site-packages/sklearn/model_selection/_validation.py:458: DataConversionWarning: A column-vector y was passed when a 1d array was expected. Please change the shape of y to (n_samples,), for example using ravel().\n",
      "  estimator.fit(X_train, y_train, **fit_params)\n"
     ]
    },
    {
     "name": "stdout",
     "output_type": "stream",
     "text": [
      "[CV]  n_estimators=700, min_samples_split=10, min_samples_leaf=4, max_features=sqrt, max_depth=50, bootstrap=True, total=   1.6s\n",
      "[CV] n_estimators=1783, min_samples_split=2, min_samples_leaf=4, max_features=sqrt, max_depth=90, bootstrap=True \n"
     ]
    },
    {
     "name": "stderr",
     "output_type": "stream",
     "text": [
      "/home/amit/anaconda3/lib/python3.6/site-packages/sklearn/model_selection/_validation.py:458: DataConversionWarning: A column-vector y was passed when a 1d array was expected. Please change the shape of y to (n_samples,), for example using ravel().\n",
      "  estimator.fit(X_train, y_train, **fit_params)\n"
     ]
    },
    {
     "name": "stdout",
     "output_type": "stream",
     "text": [
      "[CV]  n_estimators=700, min_samples_split=10, min_samples_leaf=4, max_features=sqrt, max_depth=50, bootstrap=True, total=   1.6s\n",
      "[CV] n_estimators=700, min_samples_split=10, min_samples_leaf=2, max_features=sqrt, max_depth=20, bootstrap=False \n"
     ]
    },
    {
     "name": "stderr",
     "output_type": "stream",
     "text": [
      "/home/amit/anaconda3/lib/python3.6/site-packages/sklearn/model_selection/_validation.py:458: DataConversionWarning: A column-vector y was passed when a 1d array was expected. Please change the shape of y to (n_samples,), for example using ravel().\n",
      "  estimator.fit(X_train, y_train, **fit_params)\n"
     ]
    },
    {
     "name": "stdout",
     "output_type": "stream",
     "text": [
      "[CV]  n_estimators=700, min_samples_split=10, min_samples_leaf=2, max_features=sqrt, max_depth=20, bootstrap=False, total=   1.7s\n",
      "[CV] n_estimators=700, min_samples_split=10, min_samples_leaf=2, max_features=sqrt, max_depth=20, bootstrap=False \n"
     ]
    },
    {
     "name": "stderr",
     "output_type": "stream",
     "text": [
      "/home/amit/anaconda3/lib/python3.6/site-packages/sklearn/model_selection/_validation.py:458: DataConversionWarning: A column-vector y was passed when a 1d array was expected. Please change the shape of y to (n_samples,), for example using ravel().\n",
      "  estimator.fit(X_train, y_train, **fit_params)\n"
     ]
    },
    {
     "name": "stdout",
     "output_type": "stream",
     "text": [
      "[CV]  n_estimators=1783, min_samples_split=2, min_samples_leaf=4, max_features=sqrt, max_depth=90, bootstrap=True, total=   4.2s\n",
      "[CV] n_estimators=700, min_samples_split=10, min_samples_leaf=2, max_features=sqrt, max_depth=20, bootstrap=False \n"
     ]
    },
    {
     "name": "stderr",
     "output_type": "stream",
     "text": [
      "/home/amit/anaconda3/lib/python3.6/site-packages/sklearn/model_selection/_validation.py:458: DataConversionWarning: A column-vector y was passed when a 1d array was expected. Please change the shape of y to (n_samples,), for example using ravel().\n",
      "  estimator.fit(X_train, y_train, **fit_params)\n"
     ]
    },
    {
     "name": "stdout",
     "output_type": "stream",
     "text": [
      "[CV]  n_estimators=1783, min_samples_split=2, min_samples_leaf=4, max_features=sqrt, max_depth=90, bootstrap=True, total=   4.0s\n",
      "[CV] n_estimators=1133, min_samples_split=5, min_samples_leaf=2, max_features=sqrt, max_depth=20, bootstrap=True \n"
     ]
    },
    {
     "name": "stderr",
     "output_type": "stream",
     "text": [
      "/home/amit/anaconda3/lib/python3.6/site-packages/sklearn/model_selection/_validation.py:458: DataConversionWarning: A column-vector y was passed when a 1d array was expected. Please change the shape of y to (n_samples,), for example using ravel().\n",
      "  estimator.fit(X_train, y_train, **fit_params)\n"
     ]
    },
    {
     "name": "stdout",
     "output_type": "stream",
     "text": [
      "[CV]  n_estimators=1783, min_samples_split=2, min_samples_leaf=4, max_features=sqrt, max_depth=90, bootstrap=True, total=   3.9s\n",
      "[CV] n_estimators=1133, min_samples_split=5, min_samples_leaf=2, max_features=sqrt, max_depth=20, bootstrap=True \n"
     ]
    },
    {
     "name": "stderr",
     "output_type": "stream",
     "text": [
      "/home/amit/anaconda3/lib/python3.6/site-packages/sklearn/model_selection/_validation.py:458: DataConversionWarning: A column-vector y was passed when a 1d array was expected. Please change the shape of y to (n_samples,), for example using ravel().\n",
      "  estimator.fit(X_train, y_train, **fit_params)\n"
     ]
    },
    {
     "name": "stdout",
     "output_type": "stream",
     "text": [
      "[CV]  n_estimators=700, min_samples_split=10, min_samples_leaf=2, max_features=sqrt, max_depth=20, bootstrap=False, total=   1.8s\n",
      "[CV] n_estimators=1133, min_samples_split=5, min_samples_leaf=2, max_features=sqrt, max_depth=20, bootstrap=True \n"
     ]
    },
    {
     "name": "stderr",
     "output_type": "stream",
     "text": [
      "/home/amit/anaconda3/lib/python3.6/site-packages/sklearn/model_selection/_validation.py:458: DataConversionWarning: A column-vector y was passed when a 1d array was expected. Please change the shape of y to (n_samples,), for example using ravel().\n",
      "  estimator.fit(X_train, y_train, **fit_params)\n"
     ]
    },
    {
     "name": "stdout",
     "output_type": "stream",
     "text": [
      "[CV]  n_estimators=700, min_samples_split=10, min_samples_leaf=2, max_features=sqrt, max_depth=20, bootstrap=False, total=   1.9s\n",
      "[CV] n_estimators=700, min_samples_split=2, min_samples_leaf=1, max_features=auto, max_depth=100, bootstrap=True \n"
     ]
    },
    {
     "name": "stderr",
     "output_type": "stream",
     "text": [
      "/home/amit/anaconda3/lib/python3.6/site-packages/sklearn/model_selection/_validation.py:458: DataConversionWarning: A column-vector y was passed when a 1d array was expected. Please change the shape of y to (n_samples,), for example using ravel().\n",
      "  estimator.fit(X_train, y_train, **fit_params)\n"
     ]
    },
    {
     "name": "stdout",
     "output_type": "stream",
     "text": [
      "[CV]  n_estimators=1133, min_samples_split=5, min_samples_leaf=2, max_features=sqrt, max_depth=20, bootstrap=True, total=   2.7s\n",
      "[CV] n_estimators=700, min_samples_split=2, min_samples_leaf=1, max_features=auto, max_depth=100, bootstrap=True \n"
     ]
    },
    {
     "name": "stderr",
     "output_type": "stream",
     "text": [
      "/home/amit/anaconda3/lib/python3.6/site-packages/sklearn/model_selection/_validation.py:458: DataConversionWarning: A column-vector y was passed when a 1d array was expected. Please change the shape of y to (n_samples,), for example using ravel().\n",
      "  estimator.fit(X_train, y_train, **fit_params)\n"
     ]
    },
    {
     "name": "stdout",
     "output_type": "stream",
     "text": [
      "[CV]  n_estimators=1133, min_samples_split=5, min_samples_leaf=2, max_features=sqrt, max_depth=20, bootstrap=True, total=   2.7s\n",
      "[CV] n_estimators=700, min_samples_split=2, min_samples_leaf=1, max_features=auto, max_depth=100, bootstrap=True \n"
     ]
    },
    {
     "name": "stderr",
     "output_type": "stream",
     "text": [
      "/home/amit/anaconda3/lib/python3.6/site-packages/sklearn/model_selection/_validation.py:458: DataConversionWarning: A column-vector y was passed when a 1d array was expected. Please change the shape of y to (n_samples,), for example using ravel().\n",
      "  estimator.fit(X_train, y_train, **fit_params)\n"
     ]
    },
    {
     "name": "stdout",
     "output_type": "stream",
     "text": [
      "[CV]  n_estimators=1133, min_samples_split=5, min_samples_leaf=2, max_features=sqrt, max_depth=20, bootstrap=True, total=   2.7s\n",
      "[CV] n_estimators=700, min_samples_split=5, min_samples_leaf=2, max_features=auto, max_depth=None, bootstrap=True \n"
     ]
    },
    {
     "name": "stderr",
     "output_type": "stream",
     "text": [
      "/home/amit/anaconda3/lib/python3.6/site-packages/sklearn/model_selection/_validation.py:458: DataConversionWarning: A column-vector y was passed when a 1d array was expected. Please change the shape of y to (n_samples,), for example using ravel().\n",
      "  estimator.fit(X_train, y_train, **fit_params)\n"
     ]
    },
    {
     "name": "stdout",
     "output_type": "stream",
     "text": [
      "[CV]  n_estimators=700, min_samples_split=2, min_samples_leaf=1, max_features=auto, max_depth=100, bootstrap=True, total=   2.9s\n",
      "[CV] n_estimators=700, min_samples_split=5, min_samples_leaf=2, max_features=auto, max_depth=None, bootstrap=True \n"
     ]
    },
    {
     "name": "stderr",
     "output_type": "stream",
     "text": [
      "/home/amit/anaconda3/lib/python3.6/site-packages/sklearn/model_selection/_validation.py:458: DataConversionWarning: A column-vector y was passed when a 1d array was expected. Please change the shape of y to (n_samples,), for example using ravel().\n",
      "  estimator.fit(X_train, y_train, **fit_params)\n"
     ]
    },
    {
     "name": "stdout",
     "output_type": "stream",
     "text": [
      "[CV]  n_estimators=700, min_samples_split=5, min_samples_leaf=2, max_features=auto, max_depth=None, bootstrap=True, total=   2.4s\n",
      "[CV] n_estimators=700, min_samples_split=5, min_samples_leaf=2, max_features=auto, max_depth=None, bootstrap=True \n"
     ]
    },
    {
     "name": "stderr",
     "output_type": "stream",
     "text": [
      "/home/amit/anaconda3/lib/python3.6/site-packages/sklearn/model_selection/_validation.py:458: DataConversionWarning: A column-vector y was passed when a 1d array was expected. Please change the shape of y to (n_samples,), for example using ravel().\n",
      "  estimator.fit(X_train, y_train, **fit_params)\n"
     ]
    },
    {
     "name": "stdout",
     "output_type": "stream",
     "text": [
      "[CV]  n_estimators=700, min_samples_split=2, min_samples_leaf=1, max_features=auto, max_depth=100, bootstrap=True, total=   2.9s\n",
      "[CV] n_estimators=916, min_samples_split=2, min_samples_leaf=2, max_features=sqrt, max_depth=60, bootstrap=True \n"
     ]
    },
    {
     "name": "stderr",
     "output_type": "stream",
     "text": [
      "/home/amit/anaconda3/lib/python3.6/site-packages/sklearn/model_selection/_validation.py:458: DataConversionWarning: A column-vector y was passed when a 1d array was expected. Please change the shape of y to (n_samples,), for example using ravel().\n",
      "  estimator.fit(X_train, y_train, **fit_params)\n"
     ]
    },
    {
     "name": "stdout",
     "output_type": "stream",
     "text": [
      "[CV]  n_estimators=700, min_samples_split=2, min_samples_leaf=1, max_features=auto, max_depth=100, bootstrap=True, total=   2.9s\n",
      "[CV] n_estimators=916, min_samples_split=2, min_samples_leaf=2, max_features=sqrt, max_depth=60, bootstrap=True \n"
     ]
    },
    {
     "name": "stderr",
     "output_type": "stream",
     "text": [
      "/home/amit/anaconda3/lib/python3.6/site-packages/sklearn/model_selection/_validation.py:458: DataConversionWarning: A column-vector y was passed when a 1d array was expected. Please change the shape of y to (n_samples,), for example using ravel().\n",
      "  estimator.fit(X_train, y_train, **fit_params)\n"
     ]
    },
    {
     "name": "stdout",
     "output_type": "stream",
     "text": [
      "[CV]  n_estimators=700, min_samples_split=5, min_samples_leaf=2, max_features=auto, max_depth=None, bootstrap=True, total=   2.5s\n",
      "[CV] n_estimators=916, min_samples_split=2, min_samples_leaf=2, max_features=sqrt, max_depth=60, bootstrap=True \n"
     ]
    },
    {
     "name": "stderr",
     "output_type": "stream",
     "text": [
      "/home/amit/anaconda3/lib/python3.6/site-packages/sklearn/model_selection/_validation.py:458: DataConversionWarning: A column-vector y was passed when a 1d array was expected. Please change the shape of y to (n_samples,), for example using ravel().\n",
      "  estimator.fit(X_train, y_train, **fit_params)\n"
     ]
    },
    {
     "name": "stdout",
     "output_type": "stream",
     "text": [
      "[CV]  n_estimators=700, min_samples_split=5, min_samples_leaf=2, max_features=auto, max_depth=None, bootstrap=True, total=   2.4s\n",
      "[CV] n_estimators=50, min_samples_split=5, min_samples_leaf=4, max_features=auto, max_depth=10, bootstrap=True \n"
     ]
    },
    {
     "name": "stderr",
     "output_type": "stream",
     "text": [
      "/home/amit/anaconda3/lib/python3.6/site-packages/sklearn/model_selection/_validation.py:458: DataConversionWarning: A column-vector y was passed when a 1d array was expected. Please change the shape of y to (n_samples,), for example using ravel().\n",
      "  estimator.fit(X_train, y_train, **fit_params)\n"
     ]
    },
    {
     "name": "stdout",
     "output_type": "stream",
     "text": [
      "[CV]  n_estimators=916, min_samples_split=2, min_samples_leaf=2, max_features=sqrt, max_depth=60, bootstrap=True, total=   2.2s\n",
      "[CV] n_estimators=50, min_samples_split=5, min_samples_leaf=4, max_features=auto, max_depth=10, bootstrap=True \n"
     ]
    },
    {
     "name": "stderr",
     "output_type": "stream",
     "text": [
      "/home/amit/anaconda3/lib/python3.6/site-packages/sklearn/model_selection/_validation.py:458: DataConversionWarning: A column-vector y was passed when a 1d array was expected. Please change the shape of y to (n_samples,), for example using ravel().\n",
      "  estimator.fit(X_train, y_train, **fit_params)\n"
     ]
    },
    {
     "name": "stdout",
     "output_type": "stream",
     "text": [
      "[CV]  n_estimators=50, min_samples_split=5, min_samples_leaf=4, max_features=auto, max_depth=10, bootstrap=True, total=   0.2s\n",
      "[CV] n_estimators=50, min_samples_split=5, min_samples_leaf=4, max_features=auto, max_depth=10, bootstrap=True \n"
     ]
    },
    {
     "name": "stderr",
     "output_type": "stream",
     "text": [
      "/home/amit/anaconda3/lib/python3.6/site-packages/sklearn/model_selection/_validation.py:458: DataConversionWarning: A column-vector y was passed when a 1d array was expected. Please change the shape of y to (n_samples,), for example using ravel().\n",
      "  estimator.fit(X_train, y_train, **fit_params)\n"
     ]
    },
    {
     "name": "stdout",
     "output_type": "stream",
     "text": [
      "[CV]  n_estimators=916, min_samples_split=2, min_samples_leaf=2, max_features=sqrt, max_depth=60, bootstrap=True, total=   2.2s\n",
      "[CV] n_estimators=483, min_samples_split=10, min_samples_leaf=2, max_features=sqrt, max_depth=60, bootstrap=True \n"
     ]
    },
    {
     "name": "stderr",
     "output_type": "stream",
     "text": [
      "/home/amit/anaconda3/lib/python3.6/site-packages/sklearn/model_selection/_validation.py:458: DataConversionWarning: A column-vector y was passed when a 1d array was expected. Please change the shape of y to (n_samples,), for example using ravel().\n",
      "  estimator.fit(X_train, y_train, **fit_params)\n"
     ]
    },
    {
     "name": "stdout",
     "output_type": "stream",
     "text": [
      "[CV]  n_estimators=50, min_samples_split=5, min_samples_leaf=4, max_features=auto, max_depth=10, bootstrap=True, total=   0.2s\n",
      "[CV] n_estimators=483, min_samples_split=10, min_samples_leaf=2, max_features=sqrt, max_depth=60, bootstrap=True \n"
     ]
    },
    {
     "name": "stderr",
     "output_type": "stream",
     "text": [
      "/home/amit/anaconda3/lib/python3.6/site-packages/sklearn/model_selection/_validation.py:458: DataConversionWarning: A column-vector y was passed when a 1d array was expected. Please change the shape of y to (n_samples,), for example using ravel().\n",
      "  estimator.fit(X_train, y_train, **fit_params)\n"
     ]
    },
    {
     "name": "stdout",
     "output_type": "stream",
     "text": [
      "[CV]  n_estimators=50, min_samples_split=5, min_samples_leaf=4, max_features=auto, max_depth=10, bootstrap=True, total=   0.2s\n",
      "[CV] n_estimators=483, min_samples_split=10, min_samples_leaf=2, max_features=sqrt, max_depth=60, bootstrap=True \n"
     ]
    },
    {
     "name": "stderr",
     "output_type": "stream",
     "text": [
      "/home/amit/anaconda3/lib/python3.6/site-packages/sklearn/model_selection/_validation.py:458: DataConversionWarning: A column-vector y was passed when a 1d array was expected. Please change the shape of y to (n_samples,), for example using ravel().\n",
      "  estimator.fit(X_train, y_train, **fit_params)\n"
     ]
    },
    {
     "name": "stdout",
     "output_type": "stream",
     "text": [
      "[CV]  n_estimators=483, min_samples_split=10, min_samples_leaf=2, max_features=sqrt, max_depth=60, bootstrap=True, total=   1.1s\n",
      "[CV] n_estimators=700, min_samples_split=2, min_samples_leaf=4, max_features=sqrt, max_depth=90, bootstrap=True \n"
     ]
    },
    {
     "name": "stderr",
     "output_type": "stream",
     "text": [
      "/home/amit/anaconda3/lib/python3.6/site-packages/sklearn/model_selection/_validation.py:458: DataConversionWarning: A column-vector y was passed when a 1d array was expected. Please change the shape of y to (n_samples,), for example using ravel().\n",
      "  estimator.fit(X_train, y_train, **fit_params)\n"
     ]
    },
    {
     "name": "stdout",
     "output_type": "stream",
     "text": [
      "[CV]  n_estimators=483, min_samples_split=10, min_samples_leaf=2, max_features=sqrt, max_depth=60, bootstrap=True, total=   1.1s\n",
      "[CV] n_estimators=700, min_samples_split=2, min_samples_leaf=4, max_features=sqrt, max_depth=90, bootstrap=True \n"
     ]
    },
    {
     "name": "stderr",
     "output_type": "stream",
     "text": [
      "/home/amit/anaconda3/lib/python3.6/site-packages/sklearn/model_selection/_validation.py:458: DataConversionWarning: A column-vector y was passed when a 1d array was expected. Please change the shape of y to (n_samples,), for example using ravel().\n",
      "  estimator.fit(X_train, y_train, **fit_params)\n"
     ]
    },
    {
     "name": "stdout",
     "output_type": "stream",
     "text": [
      "[CV]  n_estimators=916, min_samples_split=2, min_samples_leaf=2, max_features=sqrt, max_depth=60, bootstrap=True, total=   2.4s\n",
      "[CV] n_estimators=700, min_samples_split=2, min_samples_leaf=4, max_features=sqrt, max_depth=90, bootstrap=True \n"
     ]
    },
    {
     "name": "stderr",
     "output_type": "stream",
     "text": [
      "/home/amit/anaconda3/lib/python3.6/site-packages/sklearn/model_selection/_validation.py:458: DataConversionWarning: A column-vector y was passed when a 1d array was expected. Please change the shape of y to (n_samples,), for example using ravel().\n",
      "  estimator.fit(X_train, y_train, **fit_params)\n"
     ]
    },
    {
     "name": "stdout",
     "output_type": "stream",
     "text": [
      "[CV]  n_estimators=483, min_samples_split=10, min_samples_leaf=2, max_features=sqrt, max_depth=60, bootstrap=True, total=   1.2s\n",
      "[CV] n_estimators=266, min_samples_split=10, min_samples_leaf=4, max_features=sqrt, max_depth=90, bootstrap=True \n"
     ]
    },
    {
     "name": "stderr",
     "output_type": "stream",
     "text": [
      "/home/amit/anaconda3/lib/python3.6/site-packages/sklearn/model_selection/_validation.py:458: DataConversionWarning: A column-vector y was passed when a 1d array was expected. Please change the shape of y to (n_samples,), for example using ravel().\n",
      "  estimator.fit(X_train, y_train, **fit_params)\n"
     ]
    },
    {
     "name": "stdout",
     "output_type": "stream",
     "text": [
      "[CV]  n_estimators=266, min_samples_split=10, min_samples_leaf=4, max_features=sqrt, max_depth=90, bootstrap=True, total=   0.6s\n",
      "[CV] n_estimators=266, min_samples_split=10, min_samples_leaf=4, max_features=sqrt, max_depth=90, bootstrap=True \n"
     ]
    },
    {
     "name": "stderr",
     "output_type": "stream",
     "text": [
      "/home/amit/anaconda3/lib/python3.6/site-packages/sklearn/model_selection/_validation.py:458: DataConversionWarning: A column-vector y was passed when a 1d array was expected. Please change the shape of y to (n_samples,), for example using ravel().\n",
      "  estimator.fit(X_train, y_train, **fit_params)\n"
     ]
    },
    {
     "name": "stdout",
     "output_type": "stream",
     "text": [
      "[CV]  n_estimators=266, min_samples_split=10, min_samples_leaf=4, max_features=sqrt, max_depth=90, bootstrap=True, total=   0.6s\n",
      "[CV] n_estimators=266, min_samples_split=10, min_samples_leaf=4, max_features=sqrt, max_depth=90, bootstrap=True \n"
     ]
    },
    {
     "name": "stderr",
     "output_type": "stream",
     "text": [
      "/home/amit/anaconda3/lib/python3.6/site-packages/sklearn/model_selection/_validation.py:458: DataConversionWarning: A column-vector y was passed when a 1d array was expected. Please change the shape of y to (n_samples,), for example using ravel().\n",
      "  estimator.fit(X_train, y_train, **fit_params)\n"
     ]
    },
    {
     "name": "stdout",
     "output_type": "stream",
     "text": [
      "[CV]  n_estimators=700, min_samples_split=2, min_samples_leaf=4, max_features=sqrt, max_depth=90, bootstrap=True, total=   1.6s\n",
      "[CV] n_estimators=50, min_samples_split=5, min_samples_leaf=2, max_features=auto, max_depth=90, bootstrap=False \n"
     ]
    },
    {
     "name": "stderr",
     "output_type": "stream",
     "text": [
      "/home/amit/anaconda3/lib/python3.6/site-packages/sklearn/model_selection/_validation.py:458: DataConversionWarning: A column-vector y was passed when a 1d array was expected. Please change the shape of y to (n_samples,), for example using ravel().\n",
      "  estimator.fit(X_train, y_train, **fit_params)\n"
     ]
    },
    {
     "name": "stdout",
     "output_type": "stream",
     "text": [
      "[CV]  n_estimators=700, min_samples_split=2, min_samples_leaf=4, max_features=sqrt, max_depth=90, bootstrap=True, total=   1.7s\n",
      "[CV] n_estimators=50, min_samples_split=5, min_samples_leaf=2, max_features=auto, max_depth=90, bootstrap=False \n"
     ]
    },
    {
     "name": "stderr",
     "output_type": "stream",
     "text": [
      "/home/amit/anaconda3/lib/python3.6/site-packages/sklearn/model_selection/_validation.py:458: DataConversionWarning: A column-vector y was passed when a 1d array was expected. Please change the shape of y to (n_samples,), for example using ravel().\n",
      "  estimator.fit(X_train, y_train, **fit_params)\n"
     ]
    },
    {
     "name": "stdout",
     "output_type": "stream",
     "text": [
      "[CV]  n_estimators=700, min_samples_split=2, min_samples_leaf=4, max_features=sqrt, max_depth=90, bootstrap=True, total=   1.6s\n",
      "[CV] n_estimators=50, min_samples_split=5, min_samples_leaf=2, max_features=auto, max_depth=90, bootstrap=False \n"
     ]
    },
    {
     "name": "stderr",
     "output_type": "stream",
     "text": [
      "/home/amit/anaconda3/lib/python3.6/site-packages/sklearn/model_selection/_validation.py:458: DataConversionWarning: A column-vector y was passed when a 1d array was expected. Please change the shape of y to (n_samples,), for example using ravel().\n",
      "  estimator.fit(X_train, y_train, **fit_params)\n"
     ]
    },
    {
     "name": "stdout",
     "output_type": "stream",
     "text": [
      "[CV]  n_estimators=50, min_samples_split=5, min_samples_leaf=2, max_features=auto, max_depth=90, bootstrap=False, total=   0.3s\n",
      "[CV] n_estimators=916, min_samples_split=2, min_samples_leaf=1, max_features=sqrt, max_depth=110, bootstrap=True \n"
     ]
    },
    {
     "name": "stderr",
     "output_type": "stream",
     "text": [
      "/home/amit/anaconda3/lib/python3.6/site-packages/sklearn/model_selection/_validation.py:458: DataConversionWarning: A column-vector y was passed when a 1d array was expected. Please change the shape of y to (n_samples,), for example using ravel().\n",
      "  estimator.fit(X_train, y_train, **fit_params)\n"
     ]
    },
    {
     "name": "stdout",
     "output_type": "stream",
     "text": [
      "[CV]  n_estimators=50, min_samples_split=5, min_samples_leaf=2, max_features=auto, max_depth=90, bootstrap=False, total=   0.3s\n",
      "[CV] n_estimators=916, min_samples_split=2, min_samples_leaf=1, max_features=sqrt, max_depth=110, bootstrap=True \n"
     ]
    },
    {
     "name": "stderr",
     "output_type": "stream",
     "text": [
      "/home/amit/anaconda3/lib/python3.6/site-packages/sklearn/model_selection/_validation.py:458: DataConversionWarning: A column-vector y was passed when a 1d array was expected. Please change the shape of y to (n_samples,), for example using ravel().\n",
      "  estimator.fit(X_train, y_train, **fit_params)\n"
     ]
    },
    {
     "name": "stdout",
     "output_type": "stream",
     "text": [
      "[CV]  n_estimators=50, min_samples_split=5, min_samples_leaf=2, max_features=auto, max_depth=90, bootstrap=False, total=   0.3s\n",
      "[CV] n_estimators=916, min_samples_split=2, min_samples_leaf=1, max_features=sqrt, max_depth=110, bootstrap=True \n"
     ]
    },
    {
     "name": "stderr",
     "output_type": "stream",
     "text": [
      "/home/amit/anaconda3/lib/python3.6/site-packages/sklearn/model_selection/_validation.py:458: DataConversionWarning: A column-vector y was passed when a 1d array was expected. Please change the shape of y to (n_samples,), for example using ravel().\n",
      "  estimator.fit(X_train, y_train, **fit_params)\n"
     ]
    },
    {
     "name": "stdout",
     "output_type": "stream",
     "text": [
      "[CV]  n_estimators=266, min_samples_split=10, min_samples_leaf=4, max_features=sqrt, max_depth=90, bootstrap=True, total=   0.8s\n",
      "[CV] n_estimators=2000, min_samples_split=2, min_samples_leaf=2, max_features=auto, max_depth=90, bootstrap=True \n"
     ]
    },
    {
     "name": "stderr",
     "output_type": "stream",
     "text": [
      "/home/amit/anaconda3/lib/python3.6/site-packages/sklearn/model_selection/_validation.py:458: DataConversionWarning: A column-vector y was passed when a 1d array was expected. Please change the shape of y to (n_samples,), for example using ravel().\n",
      "  estimator.fit(X_train, y_train, **fit_params)\n"
     ]
    },
    {
     "name": "stdout",
     "output_type": "stream",
     "text": [
      "[CV]  n_estimators=916, min_samples_split=2, min_samples_leaf=1, max_features=sqrt, max_depth=110, bootstrap=True, total=   2.4s\n",
      "[CV] n_estimators=2000, min_samples_split=2, min_samples_leaf=2, max_features=auto, max_depth=90, bootstrap=True \n"
     ]
    },
    {
     "name": "stderr",
     "output_type": "stream",
     "text": [
      "/home/amit/anaconda3/lib/python3.6/site-packages/sklearn/model_selection/_validation.py:458: DataConversionWarning: A column-vector y was passed when a 1d array was expected. Please change the shape of y to (n_samples,), for example using ravel().\n",
      "  estimator.fit(X_train, y_train, **fit_params)\n"
     ]
    },
    {
     "name": "stdout",
     "output_type": "stream",
     "text": [
      "[CV]  n_estimators=916, min_samples_split=2, min_samples_leaf=1, max_features=sqrt, max_depth=110, bootstrap=True, total=   2.4s\n",
      "[CV] n_estimators=2000, min_samples_split=2, min_samples_leaf=2, max_features=auto, max_depth=90, bootstrap=True \n"
     ]
    },
    {
     "name": "stderr",
     "output_type": "stream",
     "text": [
      "/home/amit/anaconda3/lib/python3.6/site-packages/sklearn/model_selection/_validation.py:458: DataConversionWarning: A column-vector y was passed when a 1d array was expected. Please change the shape of y to (n_samples,), for example using ravel().\n",
      "  estimator.fit(X_train, y_train, **fit_params)\n"
     ]
    },
    {
     "name": "stdout",
     "output_type": "stream",
     "text": [
      "[CV]  n_estimators=916, min_samples_split=2, min_samples_leaf=1, max_features=sqrt, max_depth=110, bootstrap=True, total=   2.4s\n",
      "[CV] n_estimators=266, min_samples_split=10, min_samples_leaf=4, max_features=sqrt, max_depth=80, bootstrap=False \n"
     ]
    },
    {
     "name": "stderr",
     "output_type": "stream",
     "text": [
      "/home/amit/anaconda3/lib/python3.6/site-packages/sklearn/model_selection/_validation.py:458: DataConversionWarning: A column-vector y was passed when a 1d array was expected. Please change the shape of y to (n_samples,), for example using ravel().\n",
      "  estimator.fit(X_train, y_train, **fit_params)\n"
     ]
    },
    {
     "name": "stdout",
     "output_type": "stream",
     "text": [
      "[CV]  n_estimators=266, min_samples_split=10, min_samples_leaf=4, max_features=sqrt, max_depth=80, bootstrap=False, total=   0.7s\n",
      "[CV] n_estimators=266, min_samples_split=10, min_samples_leaf=4, max_features=sqrt, max_depth=80, bootstrap=False \n"
     ]
    },
    {
     "name": "stderr",
     "output_type": "stream",
     "text": [
      "/home/amit/anaconda3/lib/python3.6/site-packages/sklearn/model_selection/_validation.py:458: DataConversionWarning: A column-vector y was passed when a 1d array was expected. Please change the shape of y to (n_samples,), for example using ravel().\n",
      "  estimator.fit(X_train, y_train, **fit_params)\n"
     ]
    },
    {
     "name": "stdout",
     "output_type": "stream",
     "text": [
      "[CV]  n_estimators=266, min_samples_split=10, min_samples_leaf=4, max_features=sqrt, max_depth=80, bootstrap=False, total=   0.6s\n",
      "[CV] n_estimators=266, min_samples_split=10, min_samples_leaf=4, max_features=sqrt, max_depth=80, bootstrap=False \n"
     ]
    },
    {
     "name": "stderr",
     "output_type": "stream",
     "text": [
      "/home/amit/anaconda3/lib/python3.6/site-packages/sklearn/model_selection/_validation.py:458: DataConversionWarning: A column-vector y was passed when a 1d array was expected. Please change the shape of y to (n_samples,), for example using ravel().\n",
      "  estimator.fit(X_train, y_train, **fit_params)\n"
     ]
    },
    {
     "name": "stdout",
     "output_type": "stream",
     "text": [
      "[CV]  n_estimators=266, min_samples_split=10, min_samples_leaf=4, max_features=sqrt, max_depth=80, bootstrap=False, total=   0.7s\n",
      "[CV] n_estimators=1133, min_samples_split=2, min_samples_leaf=4, max_features=sqrt, max_depth=70, bootstrap=False \n"
     ]
    },
    {
     "name": "stderr",
     "output_type": "stream",
     "text": [
      "/home/amit/anaconda3/lib/python3.6/site-packages/sklearn/model_selection/_validation.py:458: DataConversionWarning: A column-vector y was passed when a 1d array was expected. Please change the shape of y to (n_samples,), for example using ravel().\n",
      "  estimator.fit(X_train, y_train, **fit_params)\n"
     ]
    },
    {
     "name": "stdout",
     "output_type": "stream",
     "text": [
      "[CV]  n_estimators=2000, min_samples_split=2, min_samples_leaf=2, max_features=auto, max_depth=90, bootstrap=True, total=   6.9s\n",
      "[CV] n_estimators=1133, min_samples_split=2, min_samples_leaf=4, max_features=sqrt, max_depth=70, bootstrap=False \n"
     ]
    },
    {
     "name": "stderr",
     "output_type": "stream",
     "text": [
      "/home/amit/anaconda3/lib/python3.6/site-packages/sklearn/model_selection/_validation.py:458: DataConversionWarning: A column-vector y was passed when a 1d array was expected. Please change the shape of y to (n_samples,), for example using ravel().\n",
      "  estimator.fit(X_train, y_train, **fit_params)\n"
     ]
    },
    {
     "name": "stdout",
     "output_type": "stream",
     "text": [
      "[CV]  n_estimators=1133, min_samples_split=2, min_samples_leaf=4, max_features=sqrt, max_depth=70, bootstrap=False, total=   2.8s\n",
      "[CV] n_estimators=1133, min_samples_split=2, min_samples_leaf=4, max_features=sqrt, max_depth=70, bootstrap=False \n"
     ]
    },
    {
     "name": "stderr",
     "output_type": "stream",
     "text": [
      "/home/amit/anaconda3/lib/python3.6/site-packages/sklearn/model_selection/_validation.py:458: DataConversionWarning: A column-vector y was passed when a 1d array was expected. Please change the shape of y to (n_samples,), for example using ravel().\n",
      "  estimator.fit(X_train, y_train, **fit_params)\n"
     ]
    },
    {
     "name": "stdout",
     "output_type": "stream",
     "text": [
      "[CV]  n_estimators=2000, min_samples_split=2, min_samples_leaf=2, max_features=auto, max_depth=90, bootstrap=True, total=   7.2s\n",
      "[CV] n_estimators=483, min_samples_split=2, min_samples_leaf=2, max_features=sqrt, max_depth=110, bootstrap=False \n"
     ]
    },
    {
     "name": "stderr",
     "output_type": "stream",
     "text": [
      "/home/amit/anaconda3/lib/python3.6/site-packages/sklearn/model_selection/_validation.py:458: DataConversionWarning: A column-vector y was passed when a 1d array was expected. Please change the shape of y to (n_samples,), for example using ravel().\n",
      "  estimator.fit(X_train, y_train, **fit_params)\n"
     ]
    },
    {
     "name": "stdout",
     "output_type": "stream",
     "text": [
      "[CV]  n_estimators=2000, min_samples_split=2, min_samples_leaf=2, max_features=auto, max_depth=90, bootstrap=True, total=   7.2s\n",
      "[CV] n_estimators=483, min_samples_split=2, min_samples_leaf=2, max_features=sqrt, max_depth=110, bootstrap=False \n"
     ]
    },
    {
     "name": "stderr",
     "output_type": "stream",
     "text": [
      "/home/amit/anaconda3/lib/python3.6/site-packages/sklearn/model_selection/_validation.py:458: DataConversionWarning: A column-vector y was passed when a 1d array was expected. Please change the shape of y to (n_samples,), for example using ravel().\n",
      "  estimator.fit(X_train, y_train, **fit_params)\n"
     ]
    },
    {
     "name": "stdout",
     "output_type": "stream",
     "text": [
      "[CV]  n_estimators=1133, min_samples_split=2, min_samples_leaf=4, max_features=sqrt, max_depth=70, bootstrap=False, total=   2.8s\n",
      "[CV] n_estimators=483, min_samples_split=2, min_samples_leaf=2, max_features=sqrt, max_depth=110, bootstrap=False \n"
     ]
    },
    {
     "name": "stderr",
     "output_type": "stream",
     "text": [
      "/home/amit/anaconda3/lib/python3.6/site-packages/sklearn/model_selection/_validation.py:458: DataConversionWarning: A column-vector y was passed when a 1d array was expected. Please change the shape of y to (n_samples,), for example using ravel().\n",
      "  estimator.fit(X_train, y_train, **fit_params)\n"
     ]
    },
    {
     "name": "stdout",
     "output_type": "stream",
     "text": [
      "[CV]  n_estimators=1133, min_samples_split=2, min_samples_leaf=4, max_features=sqrt, max_depth=70, bootstrap=False, total=   2.9s\n",
      "[CV] n_estimators=1783, min_samples_split=2, min_samples_leaf=1, max_features=auto, max_depth=20, bootstrap=False \n"
     ]
    },
    {
     "name": "stderr",
     "output_type": "stream",
     "text": [
      "/home/amit/anaconda3/lib/python3.6/site-packages/sklearn/model_selection/_validation.py:458: DataConversionWarning: A column-vector y was passed when a 1d array was expected. Please change the shape of y to (n_samples,), for example using ravel().\n",
      "  estimator.fit(X_train, y_train, **fit_params)\n"
     ]
    },
    {
     "name": "stdout",
     "output_type": "stream",
     "text": [
      "[CV]  n_estimators=483, min_samples_split=2, min_samples_leaf=2, max_features=sqrt, max_depth=110, bootstrap=False, total=   1.4s\n",
      "[CV] n_estimators=1783, min_samples_split=2, min_samples_leaf=1, max_features=auto, max_depth=20, bootstrap=False \n"
     ]
    },
    {
     "name": "stderr",
     "output_type": "stream",
     "text": [
      "/home/amit/anaconda3/lib/python3.6/site-packages/sklearn/model_selection/_validation.py:458: DataConversionWarning: A column-vector y was passed when a 1d array was expected. Please change the shape of y to (n_samples,), for example using ravel().\n",
      "  estimator.fit(X_train, y_train, **fit_params)\n"
     ]
    },
    {
     "name": "stdout",
     "output_type": "stream",
     "text": [
      "[CV]  n_estimators=483, min_samples_split=2, min_samples_leaf=2, max_features=sqrt, max_depth=110, bootstrap=False, total=   1.4s\n",
      "[CV] n_estimators=1783, min_samples_split=2, min_samples_leaf=1, max_features=auto, max_depth=20, bootstrap=False \n"
     ]
    },
    {
     "name": "stderr",
     "output_type": "stream",
     "text": [
      "/home/amit/anaconda3/lib/python3.6/site-packages/sklearn/model_selection/_validation.py:458: DataConversionWarning: A column-vector y was passed when a 1d array was expected. Please change the shape of y to (n_samples,), for example using ravel().\n",
      "  estimator.fit(X_train, y_train, **fit_params)\n"
     ]
    },
    {
     "name": "stdout",
     "output_type": "stream",
     "text": [
      "[CV]  n_estimators=483, min_samples_split=2, min_samples_leaf=2, max_features=sqrt, max_depth=110, bootstrap=False, total=   1.4s\n",
      "[CV] n_estimators=2000, min_samples_split=10, min_samples_leaf=2, max_features=auto, max_depth=50, bootstrap=False \n"
     ]
    },
    {
     "name": "stderr",
     "output_type": "stream",
     "text": [
      "/home/amit/anaconda3/lib/python3.6/site-packages/sklearn/model_selection/_validation.py:458: DataConversionWarning: A column-vector y was passed when a 1d array was expected. Please change the shape of y to (n_samples,), for example using ravel().\n",
      "  estimator.fit(X_train, y_train, **fit_params)\n"
     ]
    },
    {
     "name": "stdout",
     "output_type": "stream",
     "text": [
      "[CV]  n_estimators=2000, min_samples_split=10, min_samples_leaf=2, max_features=auto, max_depth=50, bootstrap=False, total=   8.0s\n",
      "[CV] n_estimators=2000, min_samples_split=10, min_samples_leaf=2, max_features=auto, max_depth=50, bootstrap=False \n"
     ]
    },
    {
     "name": "stderr",
     "output_type": "stream",
     "text": [
      "/home/amit/anaconda3/lib/python3.6/site-packages/sklearn/model_selection/_validation.py:458: DataConversionWarning: A column-vector y was passed when a 1d array was expected. Please change the shape of y to (n_samples,), for example using ravel().\n",
      "  estimator.fit(X_train, y_train, **fit_params)\n"
     ]
    },
    {
     "name": "stdout",
     "output_type": "stream",
     "text": [
      "[CV]  n_estimators=1783, min_samples_split=2, min_samples_leaf=1, max_features=auto, max_depth=20, bootstrap=False, total=   9.5s\n",
      "[CV] n_estimators=2000, min_samples_split=10, min_samples_leaf=2, max_features=auto, max_depth=50, bootstrap=False \n"
     ]
    },
    {
     "name": "stderr",
     "output_type": "stream",
     "text": [
      "/home/amit/anaconda3/lib/python3.6/site-packages/sklearn/model_selection/_validation.py:458: DataConversionWarning: A column-vector y was passed when a 1d array was expected. Please change the shape of y to (n_samples,), for example using ravel().\n",
      "  estimator.fit(X_train, y_train, **fit_params)\n"
     ]
    },
    {
     "name": "stdout",
     "output_type": "stream",
     "text": [
      "[CV]  n_estimators=1783, min_samples_split=2, min_samples_leaf=1, max_features=auto, max_depth=20, bootstrap=False, total=  10.2s\n",
      "[CV] n_estimators=916, min_samples_split=10, min_samples_leaf=4, max_features=auto, max_depth=50, bootstrap=False \n"
     ]
    },
    {
     "name": "stderr",
     "output_type": "stream",
     "text": [
      "/home/amit/anaconda3/lib/python3.6/site-packages/sklearn/model_selection/_validation.py:458: DataConversionWarning: A column-vector y was passed when a 1d array was expected. Please change the shape of y to (n_samples,), for example using ravel().\n",
      "  estimator.fit(X_train, y_train, **fit_params)\n"
     ]
    },
    {
     "name": "stdout",
     "output_type": "stream",
     "text": [
      "[CV]  n_estimators=1783, min_samples_split=2, min_samples_leaf=1, max_features=auto, max_depth=20, bootstrap=False, total=  10.2s\n",
      "[CV] n_estimators=916, min_samples_split=10, min_samples_leaf=4, max_features=auto, max_depth=50, bootstrap=False \n"
     ]
    },
    {
     "name": "stderr",
     "output_type": "stream",
     "text": [
      "/home/amit/anaconda3/lib/python3.6/site-packages/sklearn/model_selection/_validation.py:458: DataConversionWarning: A column-vector y was passed when a 1d array was expected. Please change the shape of y to (n_samples,), for example using ravel().\n",
      "  estimator.fit(X_train, y_train, **fit_params)\n",
      "[Parallel(n_jobs=-1)]: Done 154 tasks      | elapsed:  2.4min\n"
     ]
    },
    {
     "name": "stdout",
     "output_type": "stream",
     "text": [
      "[CV]  n_estimators=916, min_samples_split=10, min_samples_leaf=4, max_features=auto, max_depth=50, bootstrap=False, total=   3.6s\n",
      "[CV] n_estimators=916, min_samples_split=10, min_samples_leaf=4, max_features=auto, max_depth=50, bootstrap=False \n"
     ]
    },
    {
     "name": "stderr",
     "output_type": "stream",
     "text": [
      "/home/amit/anaconda3/lib/python3.6/site-packages/sklearn/model_selection/_validation.py:458: DataConversionWarning: A column-vector y was passed when a 1d array was expected. Please change the shape of y to (n_samples,), for example using ravel().\n",
      "  estimator.fit(X_train, y_train, **fit_params)\n"
     ]
    },
    {
     "name": "stdout",
     "output_type": "stream",
     "text": [
      "[CV]  n_estimators=916, min_samples_split=10, min_samples_leaf=4, max_features=auto, max_depth=50, bootstrap=False, total=   3.8s\n",
      "[CV] n_estimators=916, min_samples_split=5, min_samples_leaf=4, max_features=auto, max_depth=30, bootstrap=False \n"
     ]
    },
    {
     "name": "stderr",
     "output_type": "stream",
     "text": [
      "/home/amit/anaconda3/lib/python3.6/site-packages/sklearn/model_selection/_validation.py:458: DataConversionWarning: A column-vector y was passed when a 1d array was expected. Please change the shape of y to (n_samples,), for example using ravel().\n",
      "  estimator.fit(X_train, y_train, **fit_params)\n"
     ]
    },
    {
     "name": "stdout",
     "output_type": "stream",
     "text": [
      "[CV]  n_estimators=2000, min_samples_split=10, min_samples_leaf=2, max_features=auto, max_depth=50, bootstrap=False, total=   8.9s\n",
      "[CV] n_estimators=916, min_samples_split=5, min_samples_leaf=4, max_features=auto, max_depth=30, bootstrap=False \n"
     ]
    },
    {
     "name": "stderr",
     "output_type": "stream",
     "text": [
      "/home/amit/anaconda3/lib/python3.6/site-packages/sklearn/model_selection/_validation.py:458: DataConversionWarning: A column-vector y was passed when a 1d array was expected. Please change the shape of y to (n_samples,), for example using ravel().\n",
      "  estimator.fit(X_train, y_train, **fit_params)\n"
     ]
    },
    {
     "name": "stdout",
     "output_type": "stream",
     "text": [
      "[CV]  n_estimators=916, min_samples_split=10, min_samples_leaf=4, max_features=auto, max_depth=50, bootstrap=False, total=   3.8s\n",
      "[CV] n_estimators=916, min_samples_split=5, min_samples_leaf=4, max_features=auto, max_depth=30, bootstrap=False \n"
     ]
    },
    {
     "name": "stderr",
     "output_type": "stream",
     "text": [
      "/home/amit/anaconda3/lib/python3.6/site-packages/sklearn/model_selection/_validation.py:458: DataConversionWarning: A column-vector y was passed when a 1d array was expected. Please change the shape of y to (n_samples,), for example using ravel().\n",
      "  estimator.fit(X_train, y_train, **fit_params)\n"
     ]
    },
    {
     "name": "stdout",
     "output_type": "stream",
     "text": [
      "[CV]  n_estimators=2000, min_samples_split=10, min_samples_leaf=2, max_features=auto, max_depth=50, bootstrap=False, total=   8.9s\n",
      "[CV] n_estimators=1350, min_samples_split=5, min_samples_leaf=2, max_features=sqrt, max_depth=None, bootstrap=False \n"
     ]
    },
    {
     "name": "stderr",
     "output_type": "stream",
     "text": [
      "/home/amit/anaconda3/lib/python3.6/site-packages/sklearn/model_selection/_validation.py:458: DataConversionWarning: A column-vector y was passed when a 1d array was expected. Please change the shape of y to (n_samples,), for example using ravel().\n",
      "  estimator.fit(X_train, y_train, **fit_params)\n"
     ]
    },
    {
     "name": "stdout",
     "output_type": "stream",
     "text": [
      "[CV]  n_estimators=916, min_samples_split=5, min_samples_leaf=4, max_features=auto, max_depth=30, bootstrap=False, total=   3.5s\n",
      "[CV] n_estimators=1350, min_samples_split=5, min_samples_leaf=2, max_features=sqrt, max_depth=None, bootstrap=False \n"
     ]
    },
    {
     "name": "stderr",
     "output_type": "stream",
     "text": [
      "/home/amit/anaconda3/lib/python3.6/site-packages/sklearn/model_selection/_validation.py:458: DataConversionWarning: A column-vector y was passed when a 1d array was expected. Please change the shape of y to (n_samples,), for example using ravel().\n",
      "  estimator.fit(X_train, y_train, **fit_params)\n"
     ]
    },
    {
     "name": "stdout",
     "output_type": "stream",
     "text": [
      "[CV]  n_estimators=916, min_samples_split=5, min_samples_leaf=4, max_features=auto, max_depth=30, bootstrap=False, total=   3.9s\n",
      "[CV] n_estimators=1350, min_samples_split=5, min_samples_leaf=2, max_features=sqrt, max_depth=None, bootstrap=False \n"
     ]
    },
    {
     "name": "stderr",
     "output_type": "stream",
     "text": [
      "/home/amit/anaconda3/lib/python3.6/site-packages/sklearn/model_selection/_validation.py:458: DataConversionWarning: A column-vector y was passed when a 1d array was expected. Please change the shape of y to (n_samples,), for example using ravel().\n",
      "  estimator.fit(X_train, y_train, **fit_params)\n"
     ]
    },
    {
     "name": "stdout",
     "output_type": "stream",
     "text": [
      "[CV]  n_estimators=1350, min_samples_split=5, min_samples_leaf=2, max_features=sqrt, max_depth=None, bootstrap=False, total=   3.5s\n",
      "[CV] n_estimators=483, min_samples_split=2, min_samples_leaf=4, max_features=sqrt, max_depth=60, bootstrap=False \n"
     ]
    },
    {
     "name": "stderr",
     "output_type": "stream",
     "text": [
      "/home/amit/anaconda3/lib/python3.6/site-packages/sklearn/model_selection/_validation.py:458: DataConversionWarning: A column-vector y was passed when a 1d array was expected. Please change the shape of y to (n_samples,), for example using ravel().\n",
      "  estimator.fit(X_train, y_train, **fit_params)\n"
     ]
    },
    {
     "name": "stdout",
     "output_type": "stream",
     "text": [
      "[CV]  n_estimators=916, min_samples_split=5, min_samples_leaf=4, max_features=auto, max_depth=30, bootstrap=False, total=   3.8s\n",
      "[CV] n_estimators=483, min_samples_split=2, min_samples_leaf=4, max_features=sqrt, max_depth=60, bootstrap=False \n"
     ]
    },
    {
     "name": "stderr",
     "output_type": "stream",
     "text": [
      "/home/amit/anaconda3/lib/python3.6/site-packages/sklearn/model_selection/_validation.py:458: DataConversionWarning: A column-vector y was passed when a 1d array was expected. Please change the shape of y to (n_samples,), for example using ravel().\n",
      "  estimator.fit(X_train, y_train, **fit_params)\n"
     ]
    },
    {
     "name": "stdout",
     "output_type": "stream",
     "text": [
      "[CV]  n_estimators=1350, min_samples_split=5, min_samples_leaf=2, max_features=sqrt, max_depth=None, bootstrap=False, total=   3.5s\n",
      "[CV] n_estimators=483, min_samples_split=2, min_samples_leaf=4, max_features=sqrt, max_depth=60, bootstrap=False \n"
     ]
    },
    {
     "name": "stderr",
     "output_type": "stream",
     "text": [
      "/home/amit/anaconda3/lib/python3.6/site-packages/sklearn/model_selection/_validation.py:458: DataConversionWarning: A column-vector y was passed when a 1d array was expected. Please change the shape of y to (n_samples,), for example using ravel().\n",
      "  estimator.fit(X_train, y_train, **fit_params)\n"
     ]
    },
    {
     "name": "stdout",
     "output_type": "stream",
     "text": [
      "[CV]  n_estimators=483, min_samples_split=2, min_samples_leaf=4, max_features=sqrt, max_depth=60, bootstrap=False, total=   1.2s\n",
      "[CV] n_estimators=1566, min_samples_split=5, min_samples_leaf=1, max_features=auto, max_depth=10, bootstrap=True \n",
      "[CV]  n_estimators=483, min_samples_split=2, min_samples_leaf=4, max_features=sqrt, max_depth=60, bootstrap=False, total=   1.2s\n",
      "[CV] n_estimators=1566, min_samples_split=5, min_samples_leaf=1, max_features=auto, max_depth=10, bootstrap=True \n"
     ]
    },
    {
     "name": "stderr",
     "output_type": "stream",
     "text": [
      "/home/amit/anaconda3/lib/python3.6/site-packages/sklearn/model_selection/_validation.py:458: DataConversionWarning: A column-vector y was passed when a 1d array was expected. Please change the shape of y to (n_samples,), for example using ravel().\n",
      "  estimator.fit(X_train, y_train, **fit_params)\n",
      "/home/amit/anaconda3/lib/python3.6/site-packages/sklearn/model_selection/_validation.py:458: DataConversionWarning: A column-vector y was passed when a 1d array was expected. Please change the shape of y to (n_samples,), for example using ravel().\n",
      "  estimator.fit(X_train, y_train, **fit_params)\n"
     ]
    },
    {
     "name": "stdout",
     "output_type": "stream",
     "text": [
      "[CV]  n_estimators=483, min_samples_split=2, min_samples_leaf=4, max_features=sqrt, max_depth=60, bootstrap=False, total=   1.2s\n",
      "[CV] n_estimators=1566, min_samples_split=5, min_samples_leaf=1, max_features=auto, max_depth=10, bootstrap=True \n"
     ]
    },
    {
     "name": "stderr",
     "output_type": "stream",
     "text": [
      "/home/amit/anaconda3/lib/python3.6/site-packages/sklearn/model_selection/_validation.py:458: DataConversionWarning: A column-vector y was passed when a 1d array was expected. Please change the shape of y to (n_samples,), for example using ravel().\n",
      "  estimator.fit(X_train, y_train, **fit_params)\n"
     ]
    },
    {
     "name": "stdout",
     "output_type": "stream",
     "text": [
      "[CV]  n_estimators=1350, min_samples_split=5, min_samples_leaf=2, max_features=sqrt, max_depth=None, bootstrap=False, total=   3.8s\n",
      "[CV] n_estimators=1783, min_samples_split=2, min_samples_leaf=2, max_features=auto, max_depth=80, bootstrap=True \n"
     ]
    },
    {
     "name": "stderr",
     "output_type": "stream",
     "text": [
      "/home/amit/anaconda3/lib/python3.6/site-packages/sklearn/model_selection/_validation.py:458: DataConversionWarning: A column-vector y was passed when a 1d array was expected. Please change the shape of y to (n_samples,), for example using ravel().\n",
      "  estimator.fit(X_train, y_train, **fit_params)\n"
     ]
    },
    {
     "name": "stdout",
     "output_type": "stream",
     "text": [
      "[CV]  n_estimators=1566, min_samples_split=5, min_samples_leaf=1, max_features=auto, max_depth=10, bootstrap=True, total=   5.3s\n",
      "[CV] n_estimators=1783, min_samples_split=2, min_samples_leaf=2, max_features=auto, max_depth=80, bootstrap=True \n"
     ]
    },
    {
     "name": "stderr",
     "output_type": "stream",
     "text": [
      "/home/amit/anaconda3/lib/python3.6/site-packages/sklearn/model_selection/_validation.py:458: DataConversionWarning: A column-vector y was passed when a 1d array was expected. Please change the shape of y to (n_samples,), for example using ravel().\n",
      "  estimator.fit(X_train, y_train, **fit_params)\n"
     ]
    },
    {
     "name": "stdout",
     "output_type": "stream",
     "text": [
      "[CV]  n_estimators=1566, min_samples_split=5, min_samples_leaf=1, max_features=auto, max_depth=10, bootstrap=True, total=   5.4s\n",
      "[CV]  n_estimators=1566, min_samples_split=5, min_samples_leaf=1, max_features=auto, max_depth=10, bootstrap=True, total=   5.3s\n",
      "[CV] n_estimators=1783, min_samples_split=2, min_samples_leaf=2, max_features=auto, max_depth=80, bootstrap=True \n",
      "[CV] n_estimators=1350, min_samples_split=2, min_samples_leaf=1, max_features=auto, max_depth=100, bootstrap=True \n"
     ]
    },
    {
     "name": "stderr",
     "output_type": "stream",
     "text": [
      "/home/amit/anaconda3/lib/python3.6/site-packages/sklearn/model_selection/_validation.py:458: DataConversionWarning: A column-vector y was passed when a 1d array was expected. Please change the shape of y to (n_samples,), for example using ravel().\n",
      "  estimator.fit(X_train, y_train, **fit_params)\n",
      "/home/amit/anaconda3/lib/python3.6/site-packages/sklearn/model_selection/_validation.py:458: DataConversionWarning: A column-vector y was passed when a 1d array was expected. Please change the shape of y to (n_samples,), for example using ravel().\n",
      "  estimator.fit(X_train, y_train, **fit_params)\n"
     ]
    },
    {
     "name": "stdout",
     "output_type": "stream",
     "text": [
      "[CV]  n_estimators=1783, min_samples_split=2, min_samples_leaf=2, max_features=auto, max_depth=80, bootstrap=True, total=   6.2s\n",
      "[CV] n_estimators=1350, min_samples_split=2, min_samples_leaf=1, max_features=auto, max_depth=100, bootstrap=True \n"
     ]
    },
    {
     "name": "stderr",
     "output_type": "stream",
     "text": [
      "/home/amit/anaconda3/lib/python3.6/site-packages/sklearn/model_selection/_validation.py:458: DataConversionWarning: A column-vector y was passed when a 1d array was expected. Please change the shape of y to (n_samples,), for example using ravel().\n",
      "  estimator.fit(X_train, y_train, **fit_params)\n"
     ]
    },
    {
     "name": "stdout",
     "output_type": "stream",
     "text": [
      "[CV]  n_estimators=1350, min_samples_split=2, min_samples_leaf=1, max_features=auto, max_depth=100, bootstrap=True, total=   5.3s\n",
      "[CV] n_estimators=1350, min_samples_split=2, min_samples_leaf=1, max_features=auto, max_depth=100, bootstrap=True \n"
     ]
    },
    {
     "name": "stderr",
     "output_type": "stream",
     "text": [
      "/home/amit/anaconda3/lib/python3.6/site-packages/sklearn/model_selection/_validation.py:458: DataConversionWarning: A column-vector y was passed when a 1d array was expected. Please change the shape of y to (n_samples,), for example using ravel().\n",
      "  estimator.fit(X_train, y_train, **fit_params)\n"
     ]
    },
    {
     "name": "stdout",
     "output_type": "stream",
     "text": [
      "[CV]  n_estimators=1783, min_samples_split=2, min_samples_leaf=2, max_features=auto, max_depth=80, bootstrap=True, total=   6.4s\n",
      "[CV] n_estimators=1350, min_samples_split=10, min_samples_leaf=2, max_features=sqrt, max_depth=80, bootstrap=True \n"
     ]
    },
    {
     "name": "stderr",
     "output_type": "stream",
     "text": [
      "/home/amit/anaconda3/lib/python3.6/site-packages/sklearn/model_selection/_validation.py:458: DataConversionWarning: A column-vector y was passed when a 1d array was expected. Please change the shape of y to (n_samples,), for example using ravel().\n",
      "  estimator.fit(X_train, y_train, **fit_params)\n"
     ]
    },
    {
     "name": "stdout",
     "output_type": "stream",
     "text": [
      "[CV]  n_estimators=1783, min_samples_split=2, min_samples_leaf=2, max_features=auto, max_depth=80, bootstrap=True, total=   6.4s\n",
      "[CV] n_estimators=1350, min_samples_split=10, min_samples_leaf=2, max_features=sqrt, max_depth=80, bootstrap=True \n"
     ]
    },
    {
     "name": "stderr",
     "output_type": "stream",
     "text": [
      "/home/amit/anaconda3/lib/python3.6/site-packages/sklearn/model_selection/_validation.py:458: DataConversionWarning: A column-vector y was passed when a 1d array was expected. Please change the shape of y to (n_samples,), for example using ravel().\n",
      "  estimator.fit(X_train, y_train, **fit_params)\n"
     ]
    },
    {
     "name": "stdout",
     "output_type": "stream",
     "text": [
      "[CV]  n_estimators=1350, min_samples_split=2, min_samples_leaf=1, max_features=auto, max_depth=100, bootstrap=True, total=   5.5s\n",
      "[CV] n_estimators=1350, min_samples_split=10, min_samples_leaf=2, max_features=sqrt, max_depth=80, bootstrap=True \n"
     ]
    },
    {
     "name": "stderr",
     "output_type": "stream",
     "text": [
      "/home/amit/anaconda3/lib/python3.6/site-packages/sklearn/model_selection/_validation.py:458: DataConversionWarning: A column-vector y was passed when a 1d array was expected. Please change the shape of y to (n_samples,), for example using ravel().\n",
      "  estimator.fit(X_train, y_train, **fit_params)\n"
     ]
    },
    {
     "name": "stdout",
     "output_type": "stream",
     "text": [
      "[CV]  n_estimators=1350, min_samples_split=10, min_samples_leaf=2, max_features=sqrt, max_depth=80, bootstrap=True, total=   3.0s\n",
      "[CV] n_estimators=50, min_samples_split=2, min_samples_leaf=1, max_features=sqrt, max_depth=50, bootstrap=True \n"
     ]
    },
    {
     "name": "stderr",
     "output_type": "stream",
     "text": [
      "/home/amit/anaconda3/lib/python3.6/site-packages/sklearn/model_selection/_validation.py:458: DataConversionWarning: A column-vector y was passed when a 1d array was expected. Please change the shape of y to (n_samples,), for example using ravel().\n",
      "  estimator.fit(X_train, y_train, **fit_params)\n"
     ]
    },
    {
     "name": "stdout",
     "output_type": "stream",
     "text": [
      "[CV]  n_estimators=1350, min_samples_split=10, min_samples_leaf=2, max_features=sqrt, max_depth=80, bootstrap=True, total=   3.0s\n",
      "[CV] n_estimators=50, min_samples_split=2, min_samples_leaf=1, max_features=sqrt, max_depth=50, bootstrap=True \n"
     ]
    },
    {
     "name": "stderr",
     "output_type": "stream",
     "text": [
      "/home/amit/anaconda3/lib/python3.6/site-packages/sklearn/model_selection/_validation.py:458: DataConversionWarning: A column-vector y was passed when a 1d array was expected. Please change the shape of y to (n_samples,), for example using ravel().\n",
      "  estimator.fit(X_train, y_train, **fit_params)\n"
     ]
    },
    {
     "name": "stdout",
     "output_type": "stream",
     "text": [
      "[CV]  n_estimators=50, min_samples_split=2, min_samples_leaf=1, max_features=sqrt, max_depth=50, bootstrap=True, total=   0.2s\n",
      "[CV] n_estimators=50, min_samples_split=2, min_samples_leaf=1, max_features=sqrt, max_depth=50, bootstrap=True \n"
     ]
    },
    {
     "name": "stderr",
     "output_type": "stream",
     "text": [
      "/home/amit/anaconda3/lib/python3.6/site-packages/sklearn/model_selection/_validation.py:458: DataConversionWarning: A column-vector y was passed when a 1d array was expected. Please change the shape of y to (n_samples,), for example using ravel().\n",
      "  estimator.fit(X_train, y_train, **fit_params)\n"
     ]
    },
    {
     "name": "stdout",
     "output_type": "stream",
     "text": [
      "[CV]  n_estimators=50, min_samples_split=2, min_samples_leaf=1, max_features=sqrt, max_depth=50, bootstrap=True, total=   0.2s\n",
      "[CV] n_estimators=266, min_samples_split=2, min_samples_leaf=4, max_features=sqrt, max_depth=10, bootstrap=True \n"
     ]
    },
    {
     "name": "stderr",
     "output_type": "stream",
     "text": [
      "/home/amit/anaconda3/lib/python3.6/site-packages/sklearn/model_selection/_validation.py:458: DataConversionWarning: A column-vector y was passed when a 1d array was expected. Please change the shape of y to (n_samples,), for example using ravel().\n",
      "  estimator.fit(X_train, y_train, **fit_params)\n"
     ]
    },
    {
     "name": "stdout",
     "output_type": "stream",
     "text": [
      "[CV]  n_estimators=50, min_samples_split=2, min_samples_leaf=1, max_features=sqrt, max_depth=50, bootstrap=True, total=   0.2s\n",
      "[CV] n_estimators=266, min_samples_split=2, min_samples_leaf=4, max_features=sqrt, max_depth=10, bootstrap=True \n"
     ]
    },
    {
     "name": "stderr",
     "output_type": "stream",
     "text": [
      "/home/amit/anaconda3/lib/python3.6/site-packages/sklearn/model_selection/_validation.py:458: DataConversionWarning: A column-vector y was passed when a 1d array was expected. Please change the shape of y to (n_samples,), for example using ravel().\n",
      "  estimator.fit(X_train, y_train, **fit_params)\n"
     ]
    },
    {
     "name": "stdout",
     "output_type": "stream",
     "text": [
      "[CV]  n_estimators=266, min_samples_split=2, min_samples_leaf=4, max_features=sqrt, max_depth=10, bootstrap=True, total=   0.7s\n",
      "[CV] n_estimators=266, min_samples_split=2, min_samples_leaf=4, max_features=sqrt, max_depth=10, bootstrap=True \n",
      "[CV]  n_estimators=266, min_samples_split=2, min_samples_leaf=4, max_features=sqrt, max_depth=10, bootstrap=True, total=   0.6s\n"
     ]
    },
    {
     "name": "stderr",
     "output_type": "stream",
     "text": [
      "/home/amit/anaconda3/lib/python3.6/site-packages/sklearn/model_selection/_validation.py:458: DataConversionWarning: A column-vector y was passed when a 1d array was expected. Please change the shape of y to (n_samples,), for example using ravel().\n",
      "  estimator.fit(X_train, y_train, **fit_params)\n"
     ]
    },
    {
     "name": "stdout",
     "output_type": "stream",
     "text": [
      "[CV] n_estimators=916, min_samples_split=10, min_samples_leaf=4, max_features=auto, max_depth=80, bootstrap=False \n"
     ]
    },
    {
     "name": "stderr",
     "output_type": "stream",
     "text": [
      "/home/amit/anaconda3/lib/python3.6/site-packages/sklearn/model_selection/_validation.py:458: DataConversionWarning: A column-vector y was passed when a 1d array was expected. Please change the shape of y to (n_samples,), for example using ravel().\n",
      "  estimator.fit(X_train, y_train, **fit_params)\n"
     ]
    },
    {
     "name": "stdout",
     "output_type": "stream",
     "text": [
      "[CV]  n_estimators=1350, min_samples_split=2, min_samples_leaf=1, max_features=auto, max_depth=100, bootstrap=True, total=   5.6s\n",
      "[CV] n_estimators=916, min_samples_split=10, min_samples_leaf=4, max_features=auto, max_depth=80, bootstrap=False \n"
     ]
    },
    {
     "name": "stderr",
     "output_type": "stream",
     "text": [
      "/home/amit/anaconda3/lib/python3.6/site-packages/sklearn/model_selection/_validation.py:458: DataConversionWarning: A column-vector y was passed when a 1d array was expected. Please change the shape of y to (n_samples,), for example using ravel().\n",
      "  estimator.fit(X_train, y_train, **fit_params)\n"
     ]
    },
    {
     "name": "stdout",
     "output_type": "stream",
     "text": [
      "[CV]  n_estimators=266, min_samples_split=2, min_samples_leaf=4, max_features=sqrt, max_depth=10, bootstrap=True, total=   0.6s\n",
      "[CV] n_estimators=916, min_samples_split=10, min_samples_leaf=4, max_features=auto, max_depth=80, bootstrap=False \n"
     ]
    },
    {
     "name": "stderr",
     "output_type": "stream",
     "text": [
      "/home/amit/anaconda3/lib/python3.6/site-packages/sklearn/model_selection/_validation.py:458: DataConversionWarning: A column-vector y was passed when a 1d array was expected. Please change the shape of y to (n_samples,), for example using ravel().\n",
      "  estimator.fit(X_train, y_train, **fit_params)\n"
     ]
    },
    {
     "name": "stdout",
     "output_type": "stream",
     "text": [
      "[CV]  n_estimators=1350, min_samples_split=10, min_samples_leaf=2, max_features=sqrt, max_depth=80, bootstrap=True, total=   3.3s\n",
      "[CV] n_estimators=1133, min_samples_split=10, min_samples_leaf=2, max_features=auto, max_depth=None, bootstrap=False \n"
     ]
    },
    {
     "name": "stderr",
     "output_type": "stream",
     "text": [
      "/home/amit/anaconda3/lib/python3.6/site-packages/sklearn/model_selection/_validation.py:458: DataConversionWarning: A column-vector y was passed when a 1d array was expected. Please change the shape of y to (n_samples,), for example using ravel().\n",
      "  estimator.fit(X_train, y_train, **fit_params)\n"
     ]
    },
    {
     "name": "stdout",
     "output_type": "stream",
     "text": [
      "[CV]  n_estimators=916, min_samples_split=10, min_samples_leaf=4, max_features=auto, max_depth=80, bootstrap=False, total=   3.5s\n",
      "[CV] n_estimators=1133, min_samples_split=10, min_samples_leaf=2, max_features=auto, max_depth=None, bootstrap=False \n"
     ]
    },
    {
     "name": "stderr",
     "output_type": "stream",
     "text": [
      "/home/amit/anaconda3/lib/python3.6/site-packages/sklearn/model_selection/_validation.py:458: DataConversionWarning: A column-vector y was passed when a 1d array was expected. Please change the shape of y to (n_samples,), for example using ravel().\n",
      "  estimator.fit(X_train, y_train, **fit_params)\n"
     ]
    },
    {
     "name": "stdout",
     "output_type": "stream",
     "text": [
      "[CV]  n_estimators=916, min_samples_split=10, min_samples_leaf=4, max_features=auto, max_depth=80, bootstrap=False, total=   3.9s\n",
      "[CV] n_estimators=1133, min_samples_split=10, min_samples_leaf=2, max_features=auto, max_depth=None, bootstrap=False \n",
      "[CV]  n_estimators=916, min_samples_split=10, min_samples_leaf=4, max_features=auto, max_depth=80, bootstrap=False, total=   3.8s\n"
     ]
    },
    {
     "name": "stderr",
     "output_type": "stream",
     "text": [
      "/home/amit/anaconda3/lib/python3.6/site-packages/sklearn/model_selection/_validation.py:458: DataConversionWarning: A column-vector y was passed when a 1d array was expected. Please change the shape of y to (n_samples,), for example using ravel().\n",
      "  estimator.fit(X_train, y_train, **fit_params)\n"
     ]
    },
    {
     "name": "stdout",
     "output_type": "stream",
     "text": [
      "[CV] n_estimators=1566, min_samples_split=10, min_samples_leaf=1, max_features=sqrt, max_depth=20, bootstrap=True \n"
     ]
    },
    {
     "name": "stderr",
     "output_type": "stream",
     "text": [
      "/home/amit/anaconda3/lib/python3.6/site-packages/sklearn/model_selection/_validation.py:458: DataConversionWarning: A column-vector y was passed when a 1d array was expected. Please change the shape of y to (n_samples,), for example using ravel().\n",
      "  estimator.fit(X_train, y_train, **fit_params)\n"
     ]
    },
    {
     "name": "stdout",
     "output_type": "stream",
     "text": [
      "[CV]  n_estimators=1133, min_samples_split=10, min_samples_leaf=2, max_features=auto, max_depth=None, bootstrap=False, total=   4.5s\n",
      "[CV] n_estimators=1566, min_samples_split=10, min_samples_leaf=1, max_features=sqrt, max_depth=20, bootstrap=True \n"
     ]
    },
    {
     "name": "stderr",
     "output_type": "stream",
     "text": [
      "/home/amit/anaconda3/lib/python3.6/site-packages/sklearn/model_selection/_validation.py:458: DataConversionWarning: A column-vector y was passed when a 1d array was expected. Please change the shape of y to (n_samples,), for example using ravel().\n",
      "  estimator.fit(X_train, y_train, **fit_params)\n"
     ]
    },
    {
     "name": "stdout",
     "output_type": "stream",
     "text": [
      "[CV]  n_estimators=1566, min_samples_split=10, min_samples_leaf=1, max_features=sqrt, max_depth=20, bootstrap=True, total=   3.5s\n",
      "[CV] n_estimators=1566, min_samples_split=10, min_samples_leaf=1, max_features=sqrt, max_depth=20, bootstrap=True \n"
     ]
    },
    {
     "name": "stderr",
     "output_type": "stream",
     "text": [
      "/home/amit/anaconda3/lib/python3.6/site-packages/sklearn/model_selection/_validation.py:458: DataConversionWarning: A column-vector y was passed when a 1d array was expected. Please change the shape of y to (n_samples,), for example using ravel().\n",
      "  estimator.fit(X_train, y_train, **fit_params)\n"
     ]
    },
    {
     "name": "stdout",
     "output_type": "stream",
     "text": [
      "[CV]  n_estimators=1133, min_samples_split=10, min_samples_leaf=2, max_features=auto, max_depth=None, bootstrap=False, total=   5.1s\n",
      "[CV] n_estimators=1566, min_samples_split=10, min_samples_leaf=2, max_features=auto, max_depth=None, bootstrap=True \n"
     ]
    },
    {
     "name": "stderr",
     "output_type": "stream",
     "text": [
      "/home/amit/anaconda3/lib/python3.6/site-packages/sklearn/model_selection/_validation.py:458: DataConversionWarning: A column-vector y was passed when a 1d array was expected. Please change the shape of y to (n_samples,), for example using ravel().\n",
      "  estimator.fit(X_train, y_train, **fit_params)\n"
     ]
    },
    {
     "name": "stdout",
     "output_type": "stream",
     "text": [
      "[CV]  n_estimators=1133, min_samples_split=10, min_samples_leaf=2, max_features=auto, max_depth=None, bootstrap=False, total=   5.1s\n",
      "[CV] n_estimators=1566, min_samples_split=10, min_samples_leaf=2, max_features=auto, max_depth=None, bootstrap=True \n"
     ]
    },
    {
     "name": "stderr",
     "output_type": "stream",
     "text": [
      "/home/amit/anaconda3/lib/python3.6/site-packages/sklearn/model_selection/_validation.py:458: DataConversionWarning: A column-vector y was passed when a 1d array was expected. Please change the shape of y to (n_samples,), for example using ravel().\n",
      "  estimator.fit(X_train, y_train, **fit_params)\n"
     ]
    },
    {
     "name": "stdout",
     "output_type": "stream",
     "text": [
      "[CV]  n_estimators=1566, min_samples_split=10, min_samples_leaf=1, max_features=sqrt, max_depth=20, bootstrap=True, total=   3.6s\n",
      "[CV] n_estimators=1566, min_samples_split=10, min_samples_leaf=2, max_features=auto, max_depth=None, bootstrap=True \n"
     ]
    },
    {
     "name": "stderr",
     "output_type": "stream",
     "text": [
      "/home/amit/anaconda3/lib/python3.6/site-packages/sklearn/model_selection/_validation.py:458: DataConversionWarning: A column-vector y was passed when a 1d array was expected. Please change the shape of y to (n_samples,), for example using ravel().\n",
      "  estimator.fit(X_train, y_train, **fit_params)\n"
     ]
    },
    {
     "name": "stdout",
     "output_type": "stream",
     "text": [
      "[CV]  n_estimators=1566, min_samples_split=10, min_samples_leaf=1, max_features=sqrt, max_depth=20, bootstrap=True, total=   3.7s\n",
      "[CV] n_estimators=1783, min_samples_split=2, min_samples_leaf=4, max_features=auto, max_depth=10, bootstrap=False \n"
     ]
    },
    {
     "name": "stderr",
     "output_type": "stream",
     "text": [
      "/home/amit/anaconda3/lib/python3.6/site-packages/sklearn/model_selection/_validation.py:458: DataConversionWarning: A column-vector y was passed when a 1d array was expected. Please change the shape of y to (n_samples,), for example using ravel().\n",
      "  estimator.fit(X_train, y_train, **fit_params)\n"
     ]
    },
    {
     "name": "stdout",
     "output_type": "stream",
     "text": [
      "[CV]  n_estimators=1566, min_samples_split=10, min_samples_leaf=2, max_features=auto, max_depth=None, bootstrap=True, total=   5.0s\n",
      "[CV] n_estimators=1783, min_samples_split=2, min_samples_leaf=4, max_features=auto, max_depth=10, bootstrap=False \n"
     ]
    },
    {
     "name": "stderr",
     "output_type": "stream",
     "text": [
      "/home/amit/anaconda3/lib/python3.6/site-packages/sklearn/model_selection/_validation.py:458: DataConversionWarning: A column-vector y was passed when a 1d array was expected. Please change the shape of y to (n_samples,), for example using ravel().\n",
      "  estimator.fit(X_train, y_train, **fit_params)\n"
     ]
    },
    {
     "name": "stdout",
     "output_type": "stream",
     "text": [
      "[CV]  n_estimators=1566, min_samples_split=10, min_samples_leaf=2, max_features=auto, max_depth=None, bootstrap=True, total=   5.2s\n",
      "[CV] n_estimators=1783, min_samples_split=2, min_samples_leaf=4, max_features=auto, max_depth=10, bootstrap=False \n"
     ]
    },
    {
     "name": "stderr",
     "output_type": "stream",
     "text": [
      "/home/amit/anaconda3/lib/python3.6/site-packages/sklearn/model_selection/_validation.py:458: DataConversionWarning: A column-vector y was passed when a 1d array was expected. Please change the shape of y to (n_samples,), for example using ravel().\n",
      "  estimator.fit(X_train, y_train, **fit_params)\n"
     ]
    },
    {
     "name": "stdout",
     "output_type": "stream",
     "text": [
      "[CV]  n_estimators=1566, min_samples_split=10, min_samples_leaf=2, max_features=auto, max_depth=None, bootstrap=True, total=   5.1s\n",
      "[CV] n_estimators=1350, min_samples_split=2, min_samples_leaf=2, max_features=auto, max_depth=70, bootstrap=True \n"
     ]
    },
    {
     "name": "stderr",
     "output_type": "stream",
     "text": [
      "/home/amit/anaconda3/lib/python3.6/site-packages/sklearn/model_selection/_validation.py:458: DataConversionWarning: A column-vector y was passed when a 1d array was expected. Please change the shape of y to (n_samples,), for example using ravel().\n",
      "  estimator.fit(X_train, y_train, **fit_params)\n"
     ]
    },
    {
     "name": "stdout",
     "output_type": "stream",
     "text": [
      "[CV]  n_estimators=1783, min_samples_split=2, min_samples_leaf=4, max_features=auto, max_depth=10, bootstrap=False, total=   6.9s\n",
      "[CV] n_estimators=1350, min_samples_split=2, min_samples_leaf=2, max_features=auto, max_depth=70, bootstrap=True \n"
     ]
    },
    {
     "name": "stderr",
     "output_type": "stream",
     "text": [
      "/home/amit/anaconda3/lib/python3.6/site-packages/sklearn/model_selection/_validation.py:458: DataConversionWarning: A column-vector y was passed when a 1d array was expected. Please change the shape of y to (n_samples,), for example using ravel().\n",
      "  estimator.fit(X_train, y_train, **fit_params)\n"
     ]
    },
    {
     "name": "stdout",
     "output_type": "stream",
     "text": [
      "[CV]  n_estimators=1350, min_samples_split=2, min_samples_leaf=2, max_features=auto, max_depth=70, bootstrap=True, total=   4.6s\n",
      "[CV] n_estimators=1350, min_samples_split=2, min_samples_leaf=2, max_features=auto, max_depth=70, bootstrap=True \n"
     ]
    },
    {
     "name": "stderr",
     "output_type": "stream",
     "text": [
      "/home/amit/anaconda3/lib/python3.6/site-packages/sklearn/model_selection/_validation.py:458: DataConversionWarning: A column-vector y was passed when a 1d array was expected. Please change the shape of y to (n_samples,), for example using ravel().\n",
      "  estimator.fit(X_train, y_train, **fit_params)\n"
     ]
    },
    {
     "name": "stdout",
     "output_type": "stream",
     "text": [
      "[CV]  n_estimators=1783, min_samples_split=2, min_samples_leaf=4, max_features=auto, max_depth=10, bootstrap=False, total=   7.2s\n",
      "[CV] n_estimators=916, min_samples_split=10, min_samples_leaf=1, max_features=sqrt, max_depth=80, bootstrap=False \n"
     ]
    },
    {
     "name": "stderr",
     "output_type": "stream",
     "text": [
      "/home/amit/anaconda3/lib/python3.6/site-packages/sklearn/model_selection/_validation.py:458: DataConversionWarning: A column-vector y was passed when a 1d array was expected. Please change the shape of y to (n_samples,), for example using ravel().\n",
      "  estimator.fit(X_train, y_train, **fit_params)\n"
     ]
    },
    {
     "name": "stdout",
     "output_type": "stream",
     "text": [
      "[CV]  n_estimators=1783, min_samples_split=2, min_samples_leaf=4, max_features=auto, max_depth=10, bootstrap=False, total=   7.2s\n",
      "[CV] n_estimators=916, min_samples_split=10, min_samples_leaf=1, max_features=sqrt, max_depth=80, bootstrap=False \n"
     ]
    },
    {
     "name": "stderr",
     "output_type": "stream",
     "text": [
      "/home/amit/anaconda3/lib/python3.6/site-packages/sklearn/model_selection/_validation.py:458: DataConversionWarning: A column-vector y was passed when a 1d array was expected. Please change the shape of y to (n_samples,), for example using ravel().\n",
      "  estimator.fit(X_train, y_train, **fit_params)\n"
     ]
    },
    {
     "name": "stdout",
     "output_type": "stream",
     "text": [
      "[CV]  n_estimators=916, min_samples_split=10, min_samples_leaf=1, max_features=sqrt, max_depth=80, bootstrap=False, total=   2.4s\n",
      "[CV] n_estimators=916, min_samples_split=10, min_samples_leaf=1, max_features=sqrt, max_depth=80, bootstrap=False \n"
     ]
    },
    {
     "name": "stderr",
     "output_type": "stream",
     "text": [
      "/home/amit/anaconda3/lib/python3.6/site-packages/sklearn/model_selection/_validation.py:458: DataConversionWarning: A column-vector y was passed when a 1d array was expected. Please change the shape of y to (n_samples,), for example using ravel().\n",
      "  estimator.fit(X_train, y_train, **fit_params)\n"
     ]
    },
    {
     "name": "stdout",
     "output_type": "stream",
     "text": [
      "[CV]  n_estimators=1350, min_samples_split=2, min_samples_leaf=2, max_features=auto, max_depth=70, bootstrap=True, total=   4.8s\n",
      "[CV] n_estimators=2000, min_samples_split=10, min_samples_leaf=2, max_features=auto, max_depth=60, bootstrap=False \n"
     ]
    },
    {
     "name": "stderr",
     "output_type": "stream",
     "text": [
      "/home/amit/anaconda3/lib/python3.6/site-packages/sklearn/model_selection/_validation.py:458: DataConversionWarning: A column-vector y was passed when a 1d array was expected. Please change the shape of y to (n_samples,), for example using ravel().\n",
      "  estimator.fit(X_train, y_train, **fit_params)\n"
     ]
    },
    {
     "name": "stdout",
     "output_type": "stream",
     "text": [
      "[CV]  n_estimators=916, min_samples_split=10, min_samples_leaf=1, max_features=sqrt, max_depth=80, bootstrap=False, total=   2.5s\n",
      "[CV] n_estimators=2000, min_samples_split=10, min_samples_leaf=2, max_features=auto, max_depth=60, bootstrap=False \n"
     ]
    },
    {
     "name": "stderr",
     "output_type": "stream",
     "text": [
      "/home/amit/anaconda3/lib/python3.6/site-packages/sklearn/model_selection/_validation.py:458: DataConversionWarning: A column-vector y was passed when a 1d array was expected. Please change the shape of y to (n_samples,), for example using ravel().\n",
      "  estimator.fit(X_train, y_train, **fit_params)\n"
     ]
    },
    {
     "name": "stdout",
     "output_type": "stream",
     "text": [
      "[CV]  n_estimators=1350, min_samples_split=2, min_samples_leaf=2, max_features=auto, max_depth=70, bootstrap=True, total=   4.9s\n",
      "[CV] n_estimators=2000, min_samples_split=10, min_samples_leaf=2, max_features=auto, max_depth=60, bootstrap=False \n"
     ]
    },
    {
     "name": "stderr",
     "output_type": "stream",
     "text": [
      "/home/amit/anaconda3/lib/python3.6/site-packages/sklearn/model_selection/_validation.py:458: DataConversionWarning: A column-vector y was passed when a 1d array was expected. Please change the shape of y to (n_samples,), for example using ravel().\n",
      "  estimator.fit(X_train, y_train, **fit_params)\n"
     ]
    },
    {
     "name": "stdout",
     "output_type": "stream",
     "text": [
      "[CV]  n_estimators=916, min_samples_split=10, min_samples_leaf=1, max_features=sqrt, max_depth=80, bootstrap=False, total=   2.5s\n",
      "[CV] n_estimators=1350, min_samples_split=2, min_samples_leaf=4, max_features=sqrt, max_depth=80, bootstrap=False \n"
     ]
    },
    {
     "name": "stderr",
     "output_type": "stream",
     "text": [
      "/home/amit/anaconda3/lib/python3.6/site-packages/sklearn/model_selection/_validation.py:458: DataConversionWarning: A column-vector y was passed when a 1d array was expected. Please change the shape of y to (n_samples,), for example using ravel().\n",
      "  estimator.fit(X_train, y_train, **fit_params)\n"
     ]
    },
    {
     "name": "stdout",
     "output_type": "stream",
     "text": [
      "[CV]  n_estimators=1350, min_samples_split=2, min_samples_leaf=4, max_features=sqrt, max_depth=80, bootstrap=False, total=   3.2s\n",
      "[CV] n_estimators=1350, min_samples_split=2, min_samples_leaf=4, max_features=sqrt, max_depth=80, bootstrap=False \n"
     ]
    },
    {
     "name": "stderr",
     "output_type": "stream",
     "text": [
      "/home/amit/anaconda3/lib/python3.6/site-packages/sklearn/model_selection/_validation.py:458: DataConversionWarning: A column-vector y was passed when a 1d array was expected. Please change the shape of y to (n_samples,), for example using ravel().\n",
      "  estimator.fit(X_train, y_train, **fit_params)\n"
     ]
    },
    {
     "name": "stdout",
     "output_type": "stream",
     "text": [
      "[CV]  n_estimators=2000, min_samples_split=10, min_samples_leaf=2, max_features=auto, max_depth=60, bootstrap=False, total=   8.0s\n",
      "[CV] n_estimators=1350, min_samples_split=2, min_samples_leaf=4, max_features=sqrt, max_depth=80, bootstrap=False \n"
     ]
    },
    {
     "name": "stderr",
     "output_type": "stream",
     "text": [
      "/home/amit/anaconda3/lib/python3.6/site-packages/sklearn/model_selection/_validation.py:458: DataConversionWarning: A column-vector y was passed when a 1d array was expected. Please change the shape of y to (n_samples,), for example using ravel().\n",
      "  estimator.fit(X_train, y_train, **fit_params)\n"
     ]
    },
    {
     "name": "stdout",
     "output_type": "stream",
     "text": [
      "[CV]  n_estimators=1350, min_samples_split=2, min_samples_leaf=4, max_features=sqrt, max_depth=80, bootstrap=False, total=   3.3s\n",
      "[CV] n_estimators=700, min_samples_split=2, min_samples_leaf=4, max_features=sqrt, max_depth=20, bootstrap=False \n"
     ]
    },
    {
     "name": "stderr",
     "output_type": "stream",
     "text": [
      "/home/amit/anaconda3/lib/python3.6/site-packages/sklearn/model_selection/_validation.py:458: DataConversionWarning: A column-vector y was passed when a 1d array was expected. Please change the shape of y to (n_samples,), for example using ravel().\n",
      "  estimator.fit(X_train, y_train, **fit_params)\n"
     ]
    },
    {
     "name": "stdout",
     "output_type": "stream",
     "text": [
      "[CV]  n_estimators=2000, min_samples_split=10, min_samples_leaf=2, max_features=auto, max_depth=60, bootstrap=False, total=   8.7s\n",
      "[CV] n_estimators=700, min_samples_split=2, min_samples_leaf=4, max_features=sqrt, max_depth=20, bootstrap=False \n"
     ]
    },
    {
     "name": "stderr",
     "output_type": "stream",
     "text": [
      "/home/amit/anaconda3/lib/python3.6/site-packages/sklearn/model_selection/_validation.py:458: DataConversionWarning: A column-vector y was passed when a 1d array was expected. Please change the shape of y to (n_samples,), for example using ravel().\n",
      "  estimator.fit(X_train, y_train, **fit_params)\n"
     ]
    },
    {
     "name": "stdout",
     "output_type": "stream",
     "text": [
      "[CV]  n_estimators=2000, min_samples_split=10, min_samples_leaf=2, max_features=auto, max_depth=60, bootstrap=False, total=   8.9s\n",
      "[CV] n_estimators=700, min_samples_split=2, min_samples_leaf=4, max_features=sqrt, max_depth=20, bootstrap=False \n"
     ]
    },
    {
     "name": "stderr",
     "output_type": "stream",
     "text": [
      "/home/amit/anaconda3/lib/python3.6/site-packages/sklearn/model_selection/_validation.py:458: DataConversionWarning: A column-vector y was passed when a 1d array was expected. Please change the shape of y to (n_samples,), for example using ravel().\n",
      "  estimator.fit(X_train, y_train, **fit_params)\n"
     ]
    },
    {
     "name": "stdout",
     "output_type": "stream",
     "text": [
      "[CV]  n_estimators=700, min_samples_split=2, min_samples_leaf=4, max_features=sqrt, max_depth=20, bootstrap=False, total=   2.0s\n",
      "[CV] n_estimators=1783, min_samples_split=5, min_samples_leaf=2, max_features=sqrt, max_depth=60, bootstrap=True \n"
     ]
    },
    {
     "name": "stderr",
     "output_type": "stream",
     "text": [
      "/home/amit/anaconda3/lib/python3.6/site-packages/sklearn/model_selection/_validation.py:458: DataConversionWarning: A column-vector y was passed when a 1d array was expected. Please change the shape of y to (n_samples,), for example using ravel().\n",
      "  estimator.fit(X_train, y_train, **fit_params)\n"
     ]
    },
    {
     "name": "stdout",
     "output_type": "stream",
     "text": [
      "[CV]  n_estimators=700, min_samples_split=2, min_samples_leaf=4, max_features=sqrt, max_depth=20, bootstrap=False, total=   2.5s\n",
      "[CV] n_estimators=1783, min_samples_split=5, min_samples_leaf=2, max_features=sqrt, max_depth=60, bootstrap=True \n"
     ]
    },
    {
     "name": "stderr",
     "output_type": "stream",
     "text": [
      "/home/amit/anaconda3/lib/python3.6/site-packages/sklearn/model_selection/_validation.py:458: DataConversionWarning: A column-vector y was passed when a 1d array was expected. Please change the shape of y to (n_samples,), for example using ravel().\n",
      "  estimator.fit(X_train, y_train, **fit_params)\n"
     ]
    },
    {
     "name": "stdout",
     "output_type": "stream",
     "text": [
      "[CV]  n_estimators=700, min_samples_split=2, min_samples_leaf=4, max_features=sqrt, max_depth=20, bootstrap=False, total=   2.1s\n",
      "[CV] n_estimators=1783, min_samples_split=5, min_samples_leaf=2, max_features=sqrt, max_depth=60, bootstrap=True \n"
     ]
    },
    {
     "name": "stderr",
     "output_type": "stream",
     "text": [
      "/home/amit/anaconda3/lib/python3.6/site-packages/sklearn/model_selection/_validation.py:458: DataConversionWarning: A column-vector y was passed when a 1d array was expected. Please change the shape of y to (n_samples,), for example using ravel().\n",
      "  estimator.fit(X_train, y_train, **fit_params)\n"
     ]
    },
    {
     "name": "stdout",
     "output_type": "stream",
     "text": [
      "[CV]  n_estimators=1350, min_samples_split=2, min_samples_leaf=4, max_features=sqrt, max_depth=80, bootstrap=False, total=   4.1s\n",
      "[CV] n_estimators=266, min_samples_split=5, min_samples_leaf=1, max_features=auto, max_depth=90, bootstrap=False \n"
     ]
    },
    {
     "name": "stderr",
     "output_type": "stream",
     "text": [
      "/home/amit/anaconda3/lib/python3.6/site-packages/sklearn/model_selection/_validation.py:458: DataConversionWarning: A column-vector y was passed when a 1d array was expected. Please change the shape of y to (n_samples,), for example using ravel().\n",
      "  estimator.fit(X_train, y_train, **fit_params)\n"
     ]
    },
    {
     "name": "stdout",
     "output_type": "stream",
     "text": [
      "[CV]  n_estimators=266, min_samples_split=5, min_samples_leaf=1, max_features=auto, max_depth=90, bootstrap=False, total=   1.6s\n",
      "[CV] n_estimators=266, min_samples_split=5, min_samples_leaf=1, max_features=auto, max_depth=90, bootstrap=False \n"
     ]
    },
    {
     "name": "stderr",
     "output_type": "stream",
     "text": [
      "/home/amit/anaconda3/lib/python3.6/site-packages/sklearn/model_selection/_validation.py:458: DataConversionWarning: A column-vector y was passed when a 1d array was expected. Please change the shape of y to (n_samples,), for example using ravel().\n",
      "  estimator.fit(X_train, y_train, **fit_params)\n"
     ]
    },
    {
     "name": "stdout",
     "output_type": "stream",
     "text": [
      "[CV]  n_estimators=266, min_samples_split=5, min_samples_leaf=1, max_features=auto, max_depth=90, bootstrap=False, total=   1.4s\n",
      "[CV] n_estimators=266, min_samples_split=5, min_samples_leaf=1, max_features=auto, max_depth=90, bootstrap=False \n"
     ]
    },
    {
     "name": "stderr",
     "output_type": "stream",
     "text": [
      "/home/amit/anaconda3/lib/python3.6/site-packages/sklearn/model_selection/_validation.py:458: DataConversionWarning: A column-vector y was passed when a 1d array was expected. Please change the shape of y to (n_samples,), for example using ravel().\n",
      "  estimator.fit(X_train, y_train, **fit_params)\n"
     ]
    },
    {
     "name": "stdout",
     "output_type": "stream",
     "text": [
      "[CV]  n_estimators=1783, min_samples_split=5, min_samples_leaf=2, max_features=sqrt, max_depth=60, bootstrap=True, total=   5.1s\n",
      "[CV] n_estimators=1566, min_samples_split=5, min_samples_leaf=1, max_features=auto, max_depth=90, bootstrap=True \n"
     ]
    },
    {
     "name": "stderr",
     "output_type": "stream",
     "text": [
      "/home/amit/anaconda3/lib/python3.6/site-packages/sklearn/model_selection/_validation.py:458: DataConversionWarning: A column-vector y was passed when a 1d array was expected. Please change the shape of y to (n_samples,), for example using ravel().\n",
      "  estimator.fit(X_train, y_train, **fit_params)\n"
     ]
    },
    {
     "name": "stdout",
     "output_type": "stream",
     "text": [
      "[CV]  n_estimators=266, min_samples_split=5, min_samples_leaf=1, max_features=auto, max_depth=90, bootstrap=False, total=   1.4s\n",
      "[CV] n_estimators=1566, min_samples_split=5, min_samples_leaf=1, max_features=auto, max_depth=90, bootstrap=True \n"
     ]
    },
    {
     "name": "stderr",
     "output_type": "stream",
     "text": [
      "/home/amit/anaconda3/lib/python3.6/site-packages/sklearn/model_selection/_validation.py:458: DataConversionWarning: A column-vector y was passed when a 1d array was expected. Please change the shape of y to (n_samples,), for example using ravel().\n",
      "  estimator.fit(X_train, y_train, **fit_params)\n"
     ]
    },
    {
     "name": "stdout",
     "output_type": "stream",
     "text": [
      "[CV]  n_estimators=1783, min_samples_split=5, min_samples_leaf=2, max_features=sqrt, max_depth=60, bootstrap=True, total=   4.8s\n",
      "[CV] n_estimators=1566, min_samples_split=5, min_samples_leaf=1, max_features=auto, max_depth=90, bootstrap=True \n"
     ]
    },
    {
     "name": "stderr",
     "output_type": "stream",
     "text": [
      "/home/amit/anaconda3/lib/python3.6/site-packages/sklearn/model_selection/_validation.py:458: DataConversionWarning: A column-vector y was passed when a 1d array was expected. Please change the shape of y to (n_samples,), for example using ravel().\n",
      "  estimator.fit(X_train, y_train, **fit_params)\n"
     ]
    },
    {
     "name": "stdout",
     "output_type": "stream",
     "text": [
      "[CV]  n_estimators=1783, min_samples_split=5, min_samples_leaf=2, max_features=sqrt, max_depth=60, bootstrap=True, total=   4.8s\n",
      "[CV] n_estimators=266, min_samples_split=10, min_samples_leaf=2, max_features=sqrt, max_depth=90, bootstrap=False \n"
     ]
    },
    {
     "name": "stderr",
     "output_type": "stream",
     "text": [
      "/home/amit/anaconda3/lib/python3.6/site-packages/sklearn/model_selection/_validation.py:458: DataConversionWarning: A column-vector y was passed when a 1d array was expected. Please change the shape of y to (n_samples,), for example using ravel().\n",
      "  estimator.fit(X_train, y_train, **fit_params)\n"
     ]
    },
    {
     "name": "stdout",
     "output_type": "stream",
     "text": [
      "[CV]  n_estimators=266, min_samples_split=10, min_samples_leaf=2, max_features=sqrt, max_depth=90, bootstrap=False, total=   0.7s\n",
      "[CV] n_estimators=266, min_samples_split=10, min_samples_leaf=2, max_features=sqrt, max_depth=90, bootstrap=False \n"
     ]
    },
    {
     "name": "stderr",
     "output_type": "stream",
     "text": [
      "/home/amit/anaconda3/lib/python3.6/site-packages/sklearn/model_selection/_validation.py:458: DataConversionWarning: A column-vector y was passed when a 1d array was expected. Please change the shape of y to (n_samples,), for example using ravel().\n",
      "  estimator.fit(X_train, y_train, **fit_params)\n"
     ]
    },
    {
     "name": "stdout",
     "output_type": "stream",
     "text": [
      "[CV]  n_estimators=266, min_samples_split=10, min_samples_leaf=2, max_features=sqrt, max_depth=90, bootstrap=False, total=   0.7s\n",
      "[CV] n_estimators=266, min_samples_split=10, min_samples_leaf=2, max_features=sqrt, max_depth=90, bootstrap=False \n"
     ]
    },
    {
     "name": "stderr",
     "output_type": "stream",
     "text": [
      "/home/amit/anaconda3/lib/python3.6/site-packages/sklearn/model_selection/_validation.py:458: DataConversionWarning: A column-vector y was passed when a 1d array was expected. Please change the shape of y to (n_samples,), for example using ravel().\n",
      "  estimator.fit(X_train, y_train, **fit_params)\n"
     ]
    },
    {
     "name": "stdout",
     "output_type": "stream",
     "text": [
      "[CV]  n_estimators=266, min_samples_split=10, min_samples_leaf=2, max_features=sqrt, max_depth=90, bootstrap=False, total=   0.7s\n",
      "[CV] n_estimators=1566, min_samples_split=10, min_samples_leaf=1, max_features=sqrt, max_depth=None, bootstrap=True \n"
     ]
    },
    {
     "name": "stderr",
     "output_type": "stream",
     "text": [
      "/home/amit/anaconda3/lib/python3.6/site-packages/sklearn/model_selection/_validation.py:458: DataConversionWarning: A column-vector y was passed when a 1d array was expected. Please change the shape of y to (n_samples,), for example using ravel().\n",
      "  estimator.fit(X_train, y_train, **fit_params)\n"
     ]
    },
    {
     "name": "stdout",
     "output_type": "stream",
     "text": [
      "[CV]  n_estimators=1566, min_samples_split=5, min_samples_leaf=1, max_features=auto, max_depth=90, bootstrap=True, total=   5.9s\n",
      "[CV] n_estimators=1566, min_samples_split=10, min_samples_leaf=1, max_features=sqrt, max_depth=None, bootstrap=True \n"
     ]
    },
    {
     "name": "stderr",
     "output_type": "stream",
     "text": [
      "/home/amit/anaconda3/lib/python3.6/site-packages/sklearn/model_selection/_validation.py:458: DataConversionWarning: A column-vector y was passed when a 1d array was expected. Please change the shape of y to (n_samples,), for example using ravel().\n",
      "  estimator.fit(X_train, y_train, **fit_params)\n"
     ]
    },
    {
     "name": "stdout",
     "output_type": "stream",
     "text": [
      "[CV]  n_estimators=1566, min_samples_split=5, min_samples_leaf=1, max_features=auto, max_depth=90, bootstrap=True, total=   6.2s\n",
      "[CV] n_estimators=1566, min_samples_split=10, min_samples_leaf=1, max_features=sqrt, max_depth=None, bootstrap=True \n"
     ]
    },
    {
     "name": "stderr",
     "output_type": "stream",
     "text": [
      "/home/amit/anaconda3/lib/python3.6/site-packages/sklearn/model_selection/_validation.py:458: DataConversionWarning: A column-vector y was passed when a 1d array was expected. Please change the shape of y to (n_samples,), for example using ravel().\n",
      "  estimator.fit(X_train, y_train, **fit_params)\n"
     ]
    },
    {
     "name": "stdout",
     "output_type": "stream",
     "text": [
      "[CV]  n_estimators=1566, min_samples_split=5, min_samples_leaf=1, max_features=auto, max_depth=90, bootstrap=True, total=   6.1s\n",
      "[CV] n_estimators=2000, min_samples_split=5, min_samples_leaf=1, max_features=sqrt, max_depth=100, bootstrap=True \n"
     ]
    },
    {
     "name": "stderr",
     "output_type": "stream",
     "text": [
      "/home/amit/anaconda3/lib/python3.6/site-packages/sklearn/model_selection/_validation.py:458: DataConversionWarning: A column-vector y was passed when a 1d array was expected. Please change the shape of y to (n_samples,), for example using ravel().\n",
      "  estimator.fit(X_train, y_train, **fit_params)\n"
     ]
    },
    {
     "name": "stdout",
     "output_type": "stream",
     "text": [
      "[CV]  n_estimators=1566, min_samples_split=10, min_samples_leaf=1, max_features=sqrt, max_depth=None, bootstrap=True, total=   3.9s\n",
      "[CV] n_estimators=2000, min_samples_split=5, min_samples_leaf=1, max_features=sqrt, max_depth=100, bootstrap=True \n"
     ]
    },
    {
     "name": "stderr",
     "output_type": "stream",
     "text": [
      "/home/amit/anaconda3/lib/python3.6/site-packages/sklearn/model_selection/_validation.py:458: DataConversionWarning: A column-vector y was passed when a 1d array was expected. Please change the shape of y to (n_samples,), for example using ravel().\n",
      "  estimator.fit(X_train, y_train, **fit_params)\n"
     ]
    },
    {
     "name": "stdout",
     "output_type": "stream",
     "text": [
      "[CV]  n_estimators=1566, min_samples_split=10, min_samples_leaf=1, max_features=sqrt, max_depth=None, bootstrap=True, total=   4.5s\n",
      "[CV] n_estimators=2000, min_samples_split=5, min_samples_leaf=1, max_features=sqrt, max_depth=100, bootstrap=True \n"
     ]
    },
    {
     "name": "stderr",
     "output_type": "stream",
     "text": [
      "/home/amit/anaconda3/lib/python3.6/site-packages/sklearn/model_selection/_validation.py:458: DataConversionWarning: A column-vector y was passed when a 1d array was expected. Please change the shape of y to (n_samples,), for example using ravel().\n",
      "  estimator.fit(X_train, y_train, **fit_params)\n"
     ]
    },
    {
     "name": "stdout",
     "output_type": "stream",
     "text": [
      "[CV]  n_estimators=1566, min_samples_split=10, min_samples_leaf=1, max_features=sqrt, max_depth=None, bootstrap=True, total=   4.8s\n",
      "[CV] n_estimators=916, min_samples_split=5, min_samples_leaf=2, max_features=sqrt, max_depth=10, bootstrap=True \n"
     ]
    },
    {
     "name": "stderr",
     "output_type": "stream",
     "text": [
      "/home/amit/anaconda3/lib/python3.6/site-packages/sklearn/model_selection/_validation.py:458: DataConversionWarning: A column-vector y was passed when a 1d array was expected. Please change the shape of y to (n_samples,), for example using ravel().\n",
      "  estimator.fit(X_train, y_train, **fit_params)\n"
     ]
    },
    {
     "name": "stdout",
     "output_type": "stream",
     "text": [
      "[CV]  n_estimators=2000, min_samples_split=5, min_samples_leaf=1, max_features=sqrt, max_depth=100, bootstrap=True, total=   5.8s\n",
      "[CV] n_estimators=916, min_samples_split=5, min_samples_leaf=2, max_features=sqrt, max_depth=10, bootstrap=True \n"
     ]
    },
    {
     "name": "stderr",
     "output_type": "stream",
     "text": [
      "/home/amit/anaconda3/lib/python3.6/site-packages/sklearn/model_selection/_validation.py:458: DataConversionWarning: A column-vector y was passed when a 1d array was expected. Please change the shape of y to (n_samples,), for example using ravel().\n",
      "  estimator.fit(X_train, y_train, **fit_params)\n"
     ]
    },
    {
     "name": "stdout",
     "output_type": "stream",
     "text": [
      "[CV]  n_estimators=2000, min_samples_split=5, min_samples_leaf=1, max_features=sqrt, max_depth=100, bootstrap=True, total=   6.6s\n",
      "[CV] n_estimators=916, min_samples_split=5, min_samples_leaf=2, max_features=sqrt, max_depth=10, bootstrap=True \n"
     ]
    },
    {
     "name": "stderr",
     "output_type": "stream",
     "text": [
      "/home/amit/anaconda3/lib/python3.6/site-packages/sklearn/model_selection/_validation.py:458: DataConversionWarning: A column-vector y was passed when a 1d array was expected. Please change the shape of y to (n_samples,), for example using ravel().\n",
      "  estimator.fit(X_train, y_train, **fit_params)\n"
     ]
    },
    {
     "name": "stdout",
     "output_type": "stream",
     "text": [
      "[CV]  n_estimators=916, min_samples_split=5, min_samples_leaf=2, max_features=sqrt, max_depth=10, bootstrap=True, total=   3.1s\n",
      "[CV] n_estimators=50, min_samples_split=5, min_samples_leaf=4, max_features=auto, max_depth=80, bootstrap=True \n"
     ]
    },
    {
     "name": "stderr",
     "output_type": "stream",
     "text": [
      "/home/amit/anaconda3/lib/python3.6/site-packages/sklearn/model_selection/_validation.py:458: DataConversionWarning: A column-vector y was passed when a 1d array was expected. Please change the shape of y to (n_samples,), for example using ravel().\n",
      "  estimator.fit(X_train, y_train, **fit_params)\n"
     ]
    },
    {
     "name": "stdout",
     "output_type": "stream",
     "text": [
      "[CV]  n_estimators=50, min_samples_split=5, min_samples_leaf=4, max_features=auto, max_depth=80, bootstrap=True, total=   0.2s\n",
      "[CV] n_estimators=50, min_samples_split=5, min_samples_leaf=4, max_features=auto, max_depth=80, bootstrap=True \n"
     ]
    },
    {
     "name": "stderr",
     "output_type": "stream",
     "text": [
      "/home/amit/anaconda3/lib/python3.6/site-packages/sklearn/model_selection/_validation.py:458: DataConversionWarning: A column-vector y was passed when a 1d array was expected. Please change the shape of y to (n_samples,), for example using ravel().\n",
      "  estimator.fit(X_train, y_train, **fit_params)\n"
     ]
    },
    {
     "name": "stdout",
     "output_type": "stream",
     "text": [
      "[CV]  n_estimators=50, min_samples_split=5, min_samples_leaf=4, max_features=auto, max_depth=80, bootstrap=True, total=   0.2s\n",
      "[CV] n_estimators=50, min_samples_split=5, min_samples_leaf=4, max_features=auto, max_depth=80, bootstrap=True \n"
     ]
    },
    {
     "name": "stderr",
     "output_type": "stream",
     "text": [
      "/home/amit/anaconda3/lib/python3.6/site-packages/sklearn/model_selection/_validation.py:458: DataConversionWarning: A column-vector y was passed when a 1d array was expected. Please change the shape of y to (n_samples,), for example using ravel().\n",
      "  estimator.fit(X_train, y_train, **fit_params)\n"
     ]
    },
    {
     "name": "stdout",
     "output_type": "stream",
     "text": [
      "[CV]  n_estimators=50, min_samples_split=5, min_samples_leaf=4, max_features=auto, max_depth=80, bootstrap=True, total=   0.2s\n",
      "[CV] n_estimators=2000, min_samples_split=2, min_samples_leaf=4, max_features=auto, max_depth=60, bootstrap=False \n"
     ]
    },
    {
     "name": "stderr",
     "output_type": "stream",
     "text": [
      "/home/amit/anaconda3/lib/python3.6/site-packages/sklearn/model_selection/_validation.py:458: DataConversionWarning: A column-vector y was passed when a 1d array was expected. Please change the shape of y to (n_samples,), for example using ravel().\n",
      "  estimator.fit(X_train, y_train, **fit_params)\n"
     ]
    },
    {
     "name": "stdout",
     "output_type": "stream",
     "text": [
      "[CV]  n_estimators=916, min_samples_split=5, min_samples_leaf=2, max_features=sqrt, max_depth=10, bootstrap=True, total=   2.8s\n",
      "[CV] n_estimators=2000, min_samples_split=2, min_samples_leaf=4, max_features=auto, max_depth=60, bootstrap=False \n"
     ]
    },
    {
     "name": "stderr",
     "output_type": "stream",
     "text": [
      "/home/amit/anaconda3/lib/python3.6/site-packages/sklearn/model_selection/_validation.py:458: DataConversionWarning: A column-vector y was passed when a 1d array was expected. Please change the shape of y to (n_samples,), for example using ravel().\n",
      "  estimator.fit(X_train, y_train, **fit_params)\n"
     ]
    },
    {
     "name": "stdout",
     "output_type": "stream",
     "text": [
      "[CV]  n_estimators=916, min_samples_split=5, min_samples_leaf=2, max_features=sqrt, max_depth=10, bootstrap=True, total=   2.4s\n",
      "[CV] n_estimators=2000, min_samples_split=2, min_samples_leaf=4, max_features=auto, max_depth=60, bootstrap=False \n"
     ]
    },
    {
     "name": "stderr",
     "output_type": "stream",
     "text": [
      "/home/amit/anaconda3/lib/python3.6/site-packages/sklearn/model_selection/_validation.py:458: DataConversionWarning: A column-vector y was passed when a 1d array was expected. Please change the shape of y to (n_samples,), for example using ravel().\n",
      "  estimator.fit(X_train, y_train, **fit_params)\n"
     ]
    },
    {
     "name": "stdout",
     "output_type": "stream",
     "text": [
      "[CV]  n_estimators=2000, min_samples_split=5, min_samples_leaf=1, max_features=sqrt, max_depth=100, bootstrap=True, total=   6.4s\n",
      "[CV] n_estimators=483, min_samples_split=10, min_samples_leaf=2, max_features=auto, max_depth=100, bootstrap=True \n"
     ]
    },
    {
     "name": "stderr",
     "output_type": "stream",
     "text": [
      "/home/amit/anaconda3/lib/python3.6/site-packages/sklearn/model_selection/_validation.py:458: DataConversionWarning: A column-vector y was passed when a 1d array was expected. Please change the shape of y to (n_samples,), for example using ravel().\n",
      "  estimator.fit(X_train, y_train, **fit_params)\n"
     ]
    },
    {
     "name": "stdout",
     "output_type": "stream",
     "text": [
      "[CV]  n_estimators=483, min_samples_split=10, min_samples_leaf=2, max_features=auto, max_depth=100, bootstrap=True, total=   2.1s\n",
      "[CV] n_estimators=483, min_samples_split=10, min_samples_leaf=2, max_features=auto, max_depth=100, bootstrap=True \n"
     ]
    },
    {
     "name": "stderr",
     "output_type": "stream",
     "text": [
      "/home/amit/anaconda3/lib/python3.6/site-packages/sklearn/model_selection/_validation.py:458: DataConversionWarning: A column-vector y was passed when a 1d array was expected. Please change the shape of y to (n_samples,), for example using ravel().\n",
      "  estimator.fit(X_train, y_train, **fit_params)\n"
     ]
    },
    {
     "name": "stdout",
     "output_type": "stream",
     "text": [
      "[CV]  n_estimators=483, min_samples_split=10, min_samples_leaf=2, max_features=auto, max_depth=100, bootstrap=True, total=   3.0s\n",
      "[CV] n_estimators=483, min_samples_split=10, min_samples_leaf=2, max_features=auto, max_depth=100, bootstrap=True \n"
     ]
    },
    {
     "name": "stderr",
     "output_type": "stream",
     "text": [
      "/home/amit/anaconda3/lib/python3.6/site-packages/sklearn/model_selection/_validation.py:458: DataConversionWarning: A column-vector y was passed when a 1d array was expected. Please change the shape of y to (n_samples,), for example using ravel().\n",
      "  estimator.fit(X_train, y_train, **fit_params)\n"
     ]
    },
    {
     "name": "stdout",
     "output_type": "stream",
     "text": [
      "[CV]  n_estimators=483, min_samples_split=10, min_samples_leaf=2, max_features=auto, max_depth=100, bootstrap=True, total=   3.0s\n",
      "[CV] n_estimators=916, min_samples_split=5, min_samples_leaf=4, max_features=auto, max_depth=100, bootstrap=True \n"
     ]
    },
    {
     "name": "stderr",
     "output_type": "stream",
     "text": [
      "/home/amit/anaconda3/lib/python3.6/site-packages/sklearn/model_selection/_validation.py:458: DataConversionWarning: A column-vector y was passed when a 1d array was expected. Please change the shape of y to (n_samples,), for example using ravel().\n",
      "  estimator.fit(X_train, y_train, **fit_params)\n"
     ]
    },
    {
     "name": "stdout",
     "output_type": "stream",
     "text": [
      "[CV]  n_estimators=2000, min_samples_split=2, min_samples_leaf=4, max_features=auto, max_depth=60, bootstrap=False, total=  11.7s\n",
      "[CV] n_estimators=916, min_samples_split=5, min_samples_leaf=4, max_features=auto, max_depth=100, bootstrap=True \n"
     ]
    },
    {
     "name": "stderr",
     "output_type": "stream",
     "text": [
      "/home/amit/anaconda3/lib/python3.6/site-packages/sklearn/model_selection/_validation.py:458: DataConversionWarning: A column-vector y was passed when a 1d array was expected. Please change the shape of y to (n_samples,), for example using ravel().\n",
      "  estimator.fit(X_train, y_train, **fit_params)\n"
     ]
    },
    {
     "name": "stdout",
     "output_type": "stream",
     "text": [
      "[CV]  n_estimators=2000, min_samples_split=2, min_samples_leaf=4, max_features=auto, max_depth=60, bootstrap=False, total=  12.8s\n",
      "[CV] n_estimators=916, min_samples_split=5, min_samples_leaf=4, max_features=auto, max_depth=100, bootstrap=True \n"
     ]
    },
    {
     "name": "stderr",
     "output_type": "stream",
     "text": [
      "/home/amit/anaconda3/lib/python3.6/site-packages/sklearn/model_selection/_validation.py:458: DataConversionWarning: A column-vector y was passed when a 1d array was expected. Please change the shape of y to (n_samples,), for example using ravel().\n",
      "  estimator.fit(X_train, y_train, **fit_params)\n"
     ]
    },
    {
     "name": "stdout",
     "output_type": "stream",
     "text": [
      "[CV]  n_estimators=2000, min_samples_split=2, min_samples_leaf=4, max_features=auto, max_depth=60, bootstrap=False, total=  12.3s\n",
      "[CV] n_estimators=700, min_samples_split=10, min_samples_leaf=2, max_features=auto, max_depth=None, bootstrap=False \n"
     ]
    },
    {
     "name": "stderr",
     "output_type": "stream",
     "text": [
      "/home/amit/anaconda3/lib/python3.6/site-packages/sklearn/model_selection/_validation.py:458: DataConversionWarning: A column-vector y was passed when a 1d array was expected. Please change the shape of y to (n_samples,), for example using ravel().\n",
      "  estimator.fit(X_train, y_train, **fit_params)\n"
     ]
    },
    {
     "name": "stdout",
     "output_type": "stream",
     "text": [
      "[CV]  n_estimators=916, min_samples_split=5, min_samples_leaf=4, max_features=auto, max_depth=100, bootstrap=True, total=   4.1s\n",
      "[CV] n_estimators=700, min_samples_split=10, min_samples_leaf=2, max_features=auto, max_depth=None, bootstrap=False \n"
     ]
    },
    {
     "name": "stderr",
     "output_type": "stream",
     "text": [
      "/home/amit/anaconda3/lib/python3.6/site-packages/sklearn/model_selection/_validation.py:458: DataConversionWarning: A column-vector y was passed when a 1d array was expected. Please change the shape of y to (n_samples,), for example using ravel().\n",
      "  estimator.fit(X_train, y_train, **fit_params)\n"
     ]
    },
    {
     "name": "stdout",
     "output_type": "stream",
     "text": [
      "[CV]  n_estimators=916, min_samples_split=5, min_samples_leaf=4, max_features=auto, max_depth=100, bootstrap=True, total=   3.7s\n",
      "[CV] n_estimators=700, min_samples_split=10, min_samples_leaf=2, max_features=auto, max_depth=None, bootstrap=False \n"
     ]
    },
    {
     "name": "stderr",
     "output_type": "stream",
     "text": [
      "/home/amit/anaconda3/lib/python3.6/site-packages/sklearn/model_selection/_validation.py:458: DataConversionWarning: A column-vector y was passed when a 1d array was expected. Please change the shape of y to (n_samples,), for example using ravel().\n",
      "  estimator.fit(X_train, y_train, **fit_params)\n"
     ]
    },
    {
     "name": "stdout",
     "output_type": "stream",
     "text": [
      "[CV]  n_estimators=916, min_samples_split=5, min_samples_leaf=4, max_features=auto, max_depth=100, bootstrap=True, total=   3.3s\n",
      "[CV] n_estimators=700, min_samples_split=5, min_samples_leaf=4, max_features=sqrt, max_depth=70, bootstrap=False \n"
     ]
    },
    {
     "name": "stderr",
     "output_type": "stream",
     "text": [
      "/home/amit/anaconda3/lib/python3.6/site-packages/sklearn/model_selection/_validation.py:458: DataConversionWarning: A column-vector y was passed when a 1d array was expected. Please change the shape of y to (n_samples,), for example using ravel().\n",
      "  estimator.fit(X_train, y_train, **fit_params)\n"
     ]
    },
    {
     "name": "stdout",
     "output_type": "stream",
     "text": [
      "[CV]  n_estimators=700, min_samples_split=10, min_samples_leaf=2, max_features=auto, max_depth=None, bootstrap=False, total=   3.4s\n",
      "[CV] n_estimators=700, min_samples_split=5, min_samples_leaf=4, max_features=sqrt, max_depth=70, bootstrap=False \n"
     ]
    },
    {
     "name": "stderr",
     "output_type": "stream",
     "text": [
      "/home/amit/anaconda3/lib/python3.6/site-packages/sklearn/model_selection/_validation.py:458: DataConversionWarning: A column-vector y was passed when a 1d array was expected. Please change the shape of y to (n_samples,), for example using ravel().\n",
      "  estimator.fit(X_train, y_train, **fit_params)\n"
     ]
    },
    {
     "name": "stdout",
     "output_type": "stream",
     "text": [
      "[CV]  n_estimators=700, min_samples_split=10, min_samples_leaf=2, max_features=auto, max_depth=None, bootstrap=False, total=   4.1s\n",
      "[CV] n_estimators=700, min_samples_split=5, min_samples_leaf=4, max_features=sqrt, max_depth=70, bootstrap=False \n"
     ]
    },
    {
     "name": "stderr",
     "output_type": "stream",
     "text": [
      "/home/amit/anaconda3/lib/python3.6/site-packages/sklearn/model_selection/_validation.py:458: DataConversionWarning: A column-vector y was passed when a 1d array was expected. Please change the shape of y to (n_samples,), for example using ravel().\n",
      "  estimator.fit(X_train, y_train, **fit_params)\n"
     ]
    },
    {
     "name": "stdout",
     "output_type": "stream",
     "text": [
      "[CV]  n_estimators=700, min_samples_split=5, min_samples_leaf=4, max_features=sqrt, max_depth=70, bootstrap=False, total=   2.7s\n",
      "[CV] n_estimators=483, min_samples_split=10, min_samples_leaf=1, max_features=sqrt, max_depth=40, bootstrap=False \n"
     ]
    },
    {
     "name": "stderr",
     "output_type": "stream",
     "text": [
      "/home/amit/anaconda3/lib/python3.6/site-packages/sklearn/model_selection/_validation.py:458: DataConversionWarning: A column-vector y was passed when a 1d array was expected. Please change the shape of y to (n_samples,), for example using ravel().\n",
      "  estimator.fit(X_train, y_train, **fit_params)\n"
     ]
    },
    {
     "name": "stdout",
     "output_type": "stream",
     "text": [
      "[CV]  n_estimators=700, min_samples_split=5, min_samples_leaf=4, max_features=sqrt, max_depth=70, bootstrap=False, total=   3.2s\n",
      "[CV] n_estimators=483, min_samples_split=10, min_samples_leaf=1, max_features=sqrt, max_depth=40, bootstrap=False \n"
     ]
    },
    {
     "name": "stderr",
     "output_type": "stream",
     "text": [
      "/home/amit/anaconda3/lib/python3.6/site-packages/sklearn/model_selection/_validation.py:458: DataConversionWarning: A column-vector y was passed when a 1d array was expected. Please change the shape of y to (n_samples,), for example using ravel().\n",
      "  estimator.fit(X_train, y_train, **fit_params)\n"
     ]
    },
    {
     "name": "stdout",
     "output_type": "stream",
     "text": [
      "[CV]  n_estimators=700, min_samples_split=10, min_samples_leaf=2, max_features=auto, max_depth=None, bootstrap=False, total=   4.9s\n",
      "[CV] n_estimators=483, min_samples_split=10, min_samples_leaf=1, max_features=sqrt, max_depth=40, bootstrap=False \n"
     ]
    },
    {
     "name": "stderr",
     "output_type": "stream",
     "text": [
      "/home/amit/anaconda3/lib/python3.6/site-packages/sklearn/model_selection/_validation.py:458: DataConversionWarning: A column-vector y was passed when a 1d array was expected. Please change the shape of y to (n_samples,), for example using ravel().\n",
      "  estimator.fit(X_train, y_train, **fit_params)\n"
     ]
    },
    {
     "name": "stdout",
     "output_type": "stream",
     "text": [
      "[CV]  n_estimators=700, min_samples_split=5, min_samples_leaf=4, max_features=sqrt, max_depth=70, bootstrap=False, total=   3.6s\n",
      "[CV] n_estimators=266, min_samples_split=5, min_samples_leaf=1, max_features=sqrt, max_depth=100, bootstrap=True \n"
     ]
    },
    {
     "name": "stderr",
     "output_type": "stream",
     "text": [
      "/home/amit/anaconda3/lib/python3.6/site-packages/sklearn/model_selection/_validation.py:458: DataConversionWarning: A column-vector y was passed when a 1d array was expected. Please change the shape of y to (n_samples,), for example using ravel().\n",
      "  estimator.fit(X_train, y_train, **fit_params)\n"
     ]
    },
    {
     "name": "stdout",
     "output_type": "stream",
     "text": [
      "[CV]  n_estimators=483, min_samples_split=10, min_samples_leaf=1, max_features=sqrt, max_depth=40, bootstrap=False, total=   2.3s\n",
      "[CV] n_estimators=266, min_samples_split=5, min_samples_leaf=1, max_features=sqrt, max_depth=100, bootstrap=True \n"
     ]
    },
    {
     "name": "stderr",
     "output_type": "stream",
     "text": [
      "/home/amit/anaconda3/lib/python3.6/site-packages/sklearn/model_selection/_validation.py:458: DataConversionWarning: A column-vector y was passed when a 1d array was expected. Please change the shape of y to (n_samples,), for example using ravel().\n",
      "  estimator.fit(X_train, y_train, **fit_params)\n"
     ]
    },
    {
     "name": "stdout",
     "output_type": "stream",
     "text": [
      "[CV]  n_estimators=483, min_samples_split=10, min_samples_leaf=1, max_features=sqrt, max_depth=40, bootstrap=False, total=   2.7s\n",
      "[CV] n_estimators=266, min_samples_split=5, min_samples_leaf=1, max_features=sqrt, max_depth=100, bootstrap=True \n"
     ]
    },
    {
     "name": "stderr",
     "output_type": "stream",
     "text": [
      "/home/amit/anaconda3/lib/python3.6/site-packages/sklearn/model_selection/_validation.py:458: DataConversionWarning: A column-vector y was passed when a 1d array was expected. Please change the shape of y to (n_samples,), for example using ravel().\n",
      "  estimator.fit(X_train, y_train, **fit_params)\n"
     ]
    },
    {
     "name": "stdout",
     "output_type": "stream",
     "text": [
      "[CV]  n_estimators=483, min_samples_split=10, min_samples_leaf=1, max_features=sqrt, max_depth=40, bootstrap=False, total=   2.1s\n",
      "[CV] n_estimators=1566, min_samples_split=2, min_samples_leaf=4, max_features=sqrt, max_depth=80, bootstrap=True \n"
     ]
    },
    {
     "name": "stderr",
     "output_type": "stream",
     "text": [
      "/home/amit/anaconda3/lib/python3.6/site-packages/sklearn/model_selection/_validation.py:458: DataConversionWarning: A column-vector y was passed when a 1d array was expected. Please change the shape of y to (n_samples,), for example using ravel().\n",
      "  estimator.fit(X_train, y_train, **fit_params)\n"
     ]
    },
    {
     "name": "stdout",
     "output_type": "stream",
     "text": [
      "[CV]  n_estimators=266, min_samples_split=5, min_samples_leaf=1, max_features=sqrt, max_depth=100, bootstrap=True, total=   1.1s\n",
      "[CV] n_estimators=1566, min_samples_split=2, min_samples_leaf=4, max_features=sqrt, max_depth=80, bootstrap=True \n"
     ]
    },
    {
     "name": "stderr",
     "output_type": "stream",
     "text": [
      "/home/amit/anaconda3/lib/python3.6/site-packages/sklearn/model_selection/_validation.py:458: DataConversionWarning: A column-vector y was passed when a 1d array was expected. Please change the shape of y to (n_samples,), for example using ravel().\n",
      "  estimator.fit(X_train, y_train, **fit_params)\n"
     ]
    },
    {
     "name": "stdout",
     "output_type": "stream",
     "text": [
      "[CV]  n_estimators=266, min_samples_split=5, min_samples_leaf=1, max_features=sqrt, max_depth=100, bootstrap=True, total=   0.8s\n",
      "[CV] n_estimators=1566, min_samples_split=2, min_samples_leaf=4, max_features=sqrt, max_depth=80, bootstrap=True \n"
     ]
    },
    {
     "name": "stderr",
     "output_type": "stream",
     "text": [
      "/home/amit/anaconda3/lib/python3.6/site-packages/sklearn/model_selection/_validation.py:458: DataConversionWarning: A column-vector y was passed when a 1d array was expected. Please change the shape of y to (n_samples,), for example using ravel().\n",
      "  estimator.fit(X_train, y_train, **fit_params)\n"
     ]
    },
    {
     "name": "stdout",
     "output_type": "stream",
     "text": [
      "[CV]  n_estimators=266, min_samples_split=5, min_samples_leaf=1, max_features=sqrt, max_depth=100, bootstrap=True, total=   1.2s\n",
      "[CV] n_estimators=700, min_samples_split=10, min_samples_leaf=4, max_features=sqrt, max_depth=100, bootstrap=True \n"
     ]
    },
    {
     "name": "stderr",
     "output_type": "stream",
     "text": [
      "/home/amit/anaconda3/lib/python3.6/site-packages/sklearn/model_selection/_validation.py:458: DataConversionWarning: A column-vector y was passed when a 1d array was expected. Please change the shape of y to (n_samples,), for example using ravel().\n",
      "  estimator.fit(X_train, y_train, **fit_params)\n"
     ]
    },
    {
     "name": "stdout",
     "output_type": "stream",
     "text": [
      "[CV]  n_estimators=700, min_samples_split=10, min_samples_leaf=4, max_features=sqrt, max_depth=100, bootstrap=True, total=   2.5s\n",
      "[CV] n_estimators=700, min_samples_split=10, min_samples_leaf=4, max_features=sqrt, max_depth=100, bootstrap=True \n"
     ]
    },
    {
     "name": "stderr",
     "output_type": "stream",
     "text": [
      "/home/amit/anaconda3/lib/python3.6/site-packages/sklearn/model_selection/_validation.py:458: DataConversionWarning: A column-vector y was passed when a 1d array was expected. Please change the shape of y to (n_samples,), for example using ravel().\n",
      "  estimator.fit(X_train, y_train, **fit_params)\n"
     ]
    },
    {
     "name": "stdout",
     "output_type": "stream",
     "text": [
      "[CV]  n_estimators=1566, min_samples_split=2, min_samples_leaf=4, max_features=sqrt, max_depth=80, bootstrap=True, total=   5.0s\n",
      "[CV] n_estimators=700, min_samples_split=10, min_samples_leaf=4, max_features=sqrt, max_depth=100, bootstrap=True \n"
     ]
    },
    {
     "name": "stderr",
     "output_type": "stream",
     "text": [
      "/home/amit/anaconda3/lib/python3.6/site-packages/sklearn/model_selection/_validation.py:458: DataConversionWarning: A column-vector y was passed when a 1d array was expected. Please change the shape of y to (n_samples,), for example using ravel().\n",
      "  estimator.fit(X_train, y_train, **fit_params)\n"
     ]
    },
    {
     "name": "stdout",
     "output_type": "stream",
     "text": [
      "[CV]  n_estimators=1566, min_samples_split=2, min_samples_leaf=4, max_features=sqrt, max_depth=80, bootstrap=True, total=   4.9s\n",
      "[CV] n_estimators=916, min_samples_split=10, min_samples_leaf=2, max_features=sqrt, max_depth=10, bootstrap=True \n"
     ]
    },
    {
     "name": "stderr",
     "output_type": "stream",
     "text": [
      "/home/amit/anaconda3/lib/python3.6/site-packages/sklearn/model_selection/_validation.py:458: DataConversionWarning: A column-vector y was passed when a 1d array was expected. Please change the shape of y to (n_samples,), for example using ravel().\n",
      "  estimator.fit(X_train, y_train, **fit_params)\n"
     ]
    },
    {
     "name": "stdout",
     "output_type": "stream",
     "text": [
      "[CV]  n_estimators=700, min_samples_split=10, min_samples_leaf=4, max_features=sqrt, max_depth=100, bootstrap=True, total=   2.1s\n",
      "[CV] n_estimators=916, min_samples_split=10, min_samples_leaf=2, max_features=sqrt, max_depth=10, bootstrap=True \n"
     ]
    },
    {
     "name": "stderr",
     "output_type": "stream",
     "text": [
      "/home/amit/anaconda3/lib/python3.6/site-packages/sklearn/model_selection/_validation.py:458: DataConversionWarning: A column-vector y was passed when a 1d array was expected. Please change the shape of y to (n_samples,), for example using ravel().\n",
      "  estimator.fit(X_train, y_train, **fit_params)\n"
     ]
    },
    {
     "name": "stdout",
     "output_type": "stream",
     "text": [
      "[CV]  n_estimators=1566, min_samples_split=2, min_samples_leaf=4, max_features=sqrt, max_depth=80, bootstrap=True, total=   5.1s\n",
      "[CV] n_estimators=916, min_samples_split=10, min_samples_leaf=2, max_features=sqrt, max_depth=10, bootstrap=True \n"
     ]
    },
    {
     "name": "stderr",
     "output_type": "stream",
     "text": [
      "/home/amit/anaconda3/lib/python3.6/site-packages/sklearn/model_selection/_validation.py:458: DataConversionWarning: A column-vector y was passed when a 1d array was expected. Please change the shape of y to (n_samples,), for example using ravel().\n",
      "  estimator.fit(X_train, y_train, **fit_params)\n"
     ]
    },
    {
     "name": "stdout",
     "output_type": "stream",
     "text": [
      "[CV]  n_estimators=700, min_samples_split=10, min_samples_leaf=4, max_features=sqrt, max_depth=100, bootstrap=True, total=   2.2s\n",
      "[CV] n_estimators=483, min_samples_split=10, min_samples_leaf=1, max_features=sqrt, max_depth=110, bootstrap=True \n"
     ]
    },
    {
     "name": "stderr",
     "output_type": "stream",
     "text": [
      "/home/amit/anaconda3/lib/python3.6/site-packages/sklearn/model_selection/_validation.py:458: DataConversionWarning: A column-vector y was passed when a 1d array was expected. Please change the shape of y to (n_samples,), for example using ravel().\n",
      "  estimator.fit(X_train, y_train, **fit_params)\n"
     ]
    },
    {
     "name": "stdout",
     "output_type": "stream",
     "text": [
      "[CV]  n_estimators=916, min_samples_split=10, min_samples_leaf=2, max_features=sqrt, max_depth=10, bootstrap=True, total=   2.5s\n",
      "[CV] n_estimators=483, min_samples_split=10, min_samples_leaf=1, max_features=sqrt, max_depth=110, bootstrap=True \n"
     ]
    },
    {
     "name": "stderr",
     "output_type": "stream",
     "text": [
      "/home/amit/anaconda3/lib/python3.6/site-packages/sklearn/model_selection/_validation.py:458: DataConversionWarning: A column-vector y was passed when a 1d array was expected. Please change the shape of y to (n_samples,), for example using ravel().\n",
      "  estimator.fit(X_train, y_train, **fit_params)\n"
     ]
    },
    {
     "name": "stdout",
     "output_type": "stream",
     "text": [
      "[CV]  n_estimators=916, min_samples_split=10, min_samples_leaf=2, max_features=sqrt, max_depth=10, bootstrap=True, total=   2.5s\n",
      "[CV] n_estimators=483, min_samples_split=10, min_samples_leaf=1, max_features=sqrt, max_depth=110, bootstrap=True \n"
     ]
    },
    {
     "name": "stderr",
     "output_type": "stream",
     "text": [
      "/home/amit/anaconda3/lib/python3.6/site-packages/sklearn/model_selection/_validation.py:458: DataConversionWarning: A column-vector y was passed when a 1d array was expected. Please change the shape of y to (n_samples,), for example using ravel().\n",
      "  estimator.fit(X_train, y_train, **fit_params)\n"
     ]
    },
    {
     "name": "stdout",
     "output_type": "stream",
     "text": [
      "[CV]  n_estimators=483, min_samples_split=10, min_samples_leaf=1, max_features=sqrt, max_depth=110, bootstrap=True, total=   1.5s\n",
      "[CV] n_estimators=2000, min_samples_split=5, min_samples_leaf=4, max_features=sqrt, max_depth=None, bootstrap=False \n"
     ]
    },
    {
     "name": "stderr",
     "output_type": "stream",
     "text": [
      "/home/amit/anaconda3/lib/python3.6/site-packages/sklearn/model_selection/_validation.py:458: DataConversionWarning: A column-vector y was passed when a 1d array was expected. Please change the shape of y to (n_samples,), for example using ravel().\n",
      "  estimator.fit(X_train, y_train, **fit_params)\n"
     ]
    },
    {
     "name": "stdout",
     "output_type": "stream",
     "text": [
      "[CV]  n_estimators=916, min_samples_split=10, min_samples_leaf=2, max_features=sqrt, max_depth=10, bootstrap=True, total=   3.0s\n",
      "[CV] n_estimators=2000, min_samples_split=5, min_samples_leaf=4, max_features=sqrt, max_depth=None, bootstrap=False \n"
     ]
    },
    {
     "name": "stderr",
     "output_type": "stream",
     "text": [
      "/home/amit/anaconda3/lib/python3.6/site-packages/sklearn/model_selection/_validation.py:458: DataConversionWarning: A column-vector y was passed when a 1d array was expected. Please change the shape of y to (n_samples,), for example using ravel().\n",
      "  estimator.fit(X_train, y_train, **fit_params)\n"
     ]
    },
    {
     "name": "stdout",
     "output_type": "stream",
     "text": [
      "[CV]  n_estimators=483, min_samples_split=10, min_samples_leaf=1, max_features=sqrt, max_depth=110, bootstrap=True, total=   1.3s\n",
      "[CV] n_estimators=2000, min_samples_split=5, min_samples_leaf=4, max_features=sqrt, max_depth=None, bootstrap=False \n"
     ]
    },
    {
     "name": "stderr",
     "output_type": "stream",
     "text": [
      "/home/amit/anaconda3/lib/python3.6/site-packages/sklearn/model_selection/_validation.py:458: DataConversionWarning: A column-vector y was passed when a 1d array was expected. Please change the shape of y to (n_samples,), for example using ravel().\n",
      "  estimator.fit(X_train, y_train, **fit_params)\n"
     ]
    },
    {
     "name": "stdout",
     "output_type": "stream",
     "text": [
      "[CV]  n_estimators=483, min_samples_split=10, min_samples_leaf=1, max_features=sqrt, max_depth=110, bootstrap=True, total=   1.3s\n",
      "[CV] n_estimators=700, min_samples_split=5, min_samples_leaf=1, max_features=sqrt, max_depth=40, bootstrap=True \n"
     ]
    },
    {
     "name": "stderr",
     "output_type": "stream",
     "text": [
      "/home/amit/anaconda3/lib/python3.6/site-packages/sklearn/model_selection/_validation.py:458: DataConversionWarning: A column-vector y was passed when a 1d array was expected. Please change the shape of y to (n_samples,), for example using ravel().\n",
      "  estimator.fit(X_train, y_train, **fit_params)\n"
     ]
    },
    {
     "name": "stdout",
     "output_type": "stream",
     "text": [
      "[CV]  n_estimators=700, min_samples_split=5, min_samples_leaf=1, max_features=sqrt, max_depth=40, bootstrap=True, total=   1.7s\n",
      "[CV] n_estimators=700, min_samples_split=5, min_samples_leaf=1, max_features=sqrt, max_depth=40, bootstrap=True \n"
     ]
    },
    {
     "name": "stderr",
     "output_type": "stream",
     "text": [
      "/home/amit/anaconda3/lib/python3.6/site-packages/sklearn/model_selection/_validation.py:458: DataConversionWarning: A column-vector y was passed when a 1d array was expected. Please change the shape of y to (n_samples,), for example using ravel().\n",
      "  estimator.fit(X_train, y_train, **fit_params)\n"
     ]
    },
    {
     "name": "stdout",
     "output_type": "stream",
     "text": [
      "[CV]  n_estimators=700, min_samples_split=5, min_samples_leaf=1, max_features=sqrt, max_depth=40, bootstrap=True, total=   1.8s\n",
      "[CV] n_estimators=700, min_samples_split=5, min_samples_leaf=1, max_features=sqrt, max_depth=40, bootstrap=True \n"
     ]
    },
    {
     "name": "stderr",
     "output_type": "stream",
     "text": [
      "/home/amit/anaconda3/lib/python3.6/site-packages/sklearn/model_selection/_validation.py:458: DataConversionWarning: A column-vector y was passed when a 1d array was expected. Please change the shape of y to (n_samples,), for example using ravel().\n",
      "  estimator.fit(X_train, y_train, **fit_params)\n"
     ]
    },
    {
     "name": "stdout",
     "output_type": "stream",
     "text": [
      "[CV]  n_estimators=2000, min_samples_split=5, min_samples_leaf=4, max_features=sqrt, max_depth=None, bootstrap=False, total=   5.7s\n",
      "[CV] n_estimators=483, min_samples_split=2, min_samples_leaf=4, max_features=auto, max_depth=40, bootstrap=True \n"
     ]
    },
    {
     "name": "stderr",
     "output_type": "stream",
     "text": [
      "/home/amit/anaconda3/lib/python3.6/site-packages/sklearn/model_selection/_validation.py:458: DataConversionWarning: A column-vector y was passed when a 1d array was expected. Please change the shape of y to (n_samples,), for example using ravel().\n",
      "  estimator.fit(X_train, y_train, **fit_params)\n"
     ]
    },
    {
     "name": "stdout",
     "output_type": "stream",
     "text": [
      "[CV]  n_estimators=2000, min_samples_split=5, min_samples_leaf=4, max_features=sqrt, max_depth=None, bootstrap=False, total=   5.8s\n",
      "[CV] n_estimators=483, min_samples_split=2, min_samples_leaf=4, max_features=auto, max_depth=40, bootstrap=True \n"
     ]
    },
    {
     "name": "stderr",
     "output_type": "stream",
     "text": [
      "/home/amit/anaconda3/lib/python3.6/site-packages/sklearn/model_selection/_validation.py:458: DataConversionWarning: A column-vector y was passed when a 1d array was expected. Please change the shape of y to (n_samples,), for example using ravel().\n",
      "  estimator.fit(X_train, y_train, **fit_params)\n"
     ]
    },
    {
     "name": "stdout",
     "output_type": "stream",
     "text": [
      "[CV]  n_estimators=2000, min_samples_split=5, min_samples_leaf=4, max_features=sqrt, max_depth=None, bootstrap=False, total=   5.7s\n",
      "[CV] n_estimators=483, min_samples_split=2, min_samples_leaf=4, max_features=auto, max_depth=40, bootstrap=True \n"
     ]
    },
    {
     "name": "stderr",
     "output_type": "stream",
     "text": [
      "/home/amit/anaconda3/lib/python3.6/site-packages/sklearn/model_selection/_validation.py:458: DataConversionWarning: A column-vector y was passed when a 1d array was expected. Please change the shape of y to (n_samples,), for example using ravel().\n",
      "  estimator.fit(X_train, y_train, **fit_params)\n"
     ]
    },
    {
     "name": "stdout",
     "output_type": "stream",
     "text": [
      "[CV]  n_estimators=700, min_samples_split=5, min_samples_leaf=1, max_features=sqrt, max_depth=40, bootstrap=True, total=   2.1s\n",
      "[CV] n_estimators=483, min_samples_split=2, min_samples_leaf=4, max_features=sqrt, max_depth=30, bootstrap=False \n"
     ]
    },
    {
     "name": "stderr",
     "output_type": "stream",
     "text": [
      "/home/amit/anaconda3/lib/python3.6/site-packages/sklearn/model_selection/_validation.py:458: DataConversionWarning: A column-vector y was passed when a 1d array was expected. Please change the shape of y to (n_samples,), for example using ravel().\n",
      "  estimator.fit(X_train, y_train, **fit_params)\n"
     ]
    },
    {
     "name": "stdout",
     "output_type": "stream",
     "text": [
      "[CV]  n_estimators=483, min_samples_split=2, min_samples_leaf=4, max_features=auto, max_depth=40, bootstrap=True, total=   1.7s\n",
      "[CV] n_estimators=483, min_samples_split=2, min_samples_leaf=4, max_features=sqrt, max_depth=30, bootstrap=False \n"
     ]
    },
    {
     "name": "stderr",
     "output_type": "stream",
     "text": [
      "/home/amit/anaconda3/lib/python3.6/site-packages/sklearn/model_selection/_validation.py:458: DataConversionWarning: A column-vector y was passed when a 1d array was expected. Please change the shape of y to (n_samples,), for example using ravel().\n",
      "  estimator.fit(X_train, y_train, **fit_params)\n"
     ]
    },
    {
     "name": "stdout",
     "output_type": "stream",
     "text": [
      "[CV]  n_estimators=483, min_samples_split=2, min_samples_leaf=4, max_features=sqrt, max_depth=30, bootstrap=False, total=   1.2s\n",
      "[CV] n_estimators=483, min_samples_split=2, min_samples_leaf=4, max_features=sqrt, max_depth=30, bootstrap=False \n"
     ]
    },
    {
     "name": "stderr",
     "output_type": "stream",
     "text": [
      "/home/amit/anaconda3/lib/python3.6/site-packages/sklearn/model_selection/_validation.py:458: DataConversionWarning: A column-vector y was passed when a 1d array was expected. Please change the shape of y to (n_samples,), for example using ravel().\n",
      "  estimator.fit(X_train, y_train, **fit_params)\n"
     ]
    },
    {
     "name": "stdout",
     "output_type": "stream",
     "text": [
      "[CV]  n_estimators=483, min_samples_split=2, min_samples_leaf=4, max_features=auto, max_depth=40, bootstrap=True, total=   1.8s\n",
      "[CV] n_estimators=266, min_samples_split=10, min_samples_leaf=2, max_features=auto, max_depth=40, bootstrap=False \n"
     ]
    },
    {
     "name": "stderr",
     "output_type": "stream",
     "text": [
      "/home/amit/anaconda3/lib/python3.6/site-packages/sklearn/model_selection/_validation.py:458: DataConversionWarning: A column-vector y was passed when a 1d array was expected. Please change the shape of y to (n_samples,), for example using ravel().\n",
      "  estimator.fit(X_train, y_train, **fit_params)\n"
     ]
    },
    {
     "name": "stdout",
     "output_type": "stream",
     "text": [
      "[CV]  n_estimators=483, min_samples_split=2, min_samples_leaf=4, max_features=auto, max_depth=40, bootstrap=True, total=   1.8s\n",
      "[CV] n_estimators=266, min_samples_split=10, min_samples_leaf=2, max_features=auto, max_depth=40, bootstrap=False \n"
     ]
    },
    {
     "name": "stderr",
     "output_type": "stream",
     "text": [
      "/home/amit/anaconda3/lib/python3.6/site-packages/sklearn/model_selection/_validation.py:458: DataConversionWarning: A column-vector y was passed when a 1d array was expected. Please change the shape of y to (n_samples,), for example using ravel().\n",
      "  estimator.fit(X_train, y_train, **fit_params)\n"
     ]
    },
    {
     "name": "stdout",
     "output_type": "stream",
     "text": [
      "[CV]  n_estimators=483, min_samples_split=2, min_samples_leaf=4, max_features=sqrt, max_depth=30, bootstrap=False, total=   1.3s\n",
      "[CV] n_estimators=266, min_samples_split=10, min_samples_leaf=2, max_features=auto, max_depth=40, bootstrap=False \n"
     ]
    },
    {
     "name": "stderr",
     "output_type": "stream",
     "text": [
      "/home/amit/anaconda3/lib/python3.6/site-packages/sklearn/model_selection/_validation.py:458: DataConversionWarning: A column-vector y was passed when a 1d array was expected. Please change the shape of y to (n_samples,), for example using ravel().\n",
      "  estimator.fit(X_train, y_train, **fit_params)\n"
     ]
    },
    {
     "name": "stdout",
     "output_type": "stream",
     "text": [
      "[CV]  n_estimators=483, min_samples_split=2, min_samples_leaf=4, max_features=sqrt, max_depth=30, bootstrap=False, total=   1.4s\n",
      "[CV] n_estimators=916, min_samples_split=2, min_samples_leaf=1, max_features=auto, max_depth=10, bootstrap=False \n"
     ]
    },
    {
     "name": "stderr",
     "output_type": "stream",
     "text": [
      "/home/amit/anaconda3/lib/python3.6/site-packages/sklearn/model_selection/_validation.py:458: DataConversionWarning: A column-vector y was passed when a 1d array was expected. Please change the shape of y to (n_samples,), for example using ravel().\n",
      "  estimator.fit(X_train, y_train, **fit_params)\n"
     ]
    },
    {
     "name": "stdout",
     "output_type": "stream",
     "text": [
      "[CV]  n_estimators=266, min_samples_split=10, min_samples_leaf=2, max_features=auto, max_depth=40, bootstrap=False, total=   1.4s\n",
      "[CV] n_estimators=916, min_samples_split=2, min_samples_leaf=1, max_features=auto, max_depth=10, bootstrap=False \n"
     ]
    },
    {
     "name": "stderr",
     "output_type": "stream",
     "text": [
      "/home/amit/anaconda3/lib/python3.6/site-packages/sklearn/model_selection/_validation.py:458: DataConversionWarning: A column-vector y was passed when a 1d array was expected. Please change the shape of y to (n_samples,), for example using ravel().\n",
      "  estimator.fit(X_train, y_train, **fit_params)\n"
     ]
    },
    {
     "name": "stdout",
     "output_type": "stream",
     "text": [
      "[CV]  n_estimators=266, min_samples_split=10, min_samples_leaf=2, max_features=auto, max_depth=40, bootstrap=False, total=   1.5s\n",
      "[CV] n_estimators=916, min_samples_split=2, min_samples_leaf=1, max_features=auto, max_depth=10, bootstrap=False \n"
     ]
    },
    {
     "name": "stderr",
     "output_type": "stream",
     "text": [
      "/home/amit/anaconda3/lib/python3.6/site-packages/sklearn/model_selection/_validation.py:458: DataConversionWarning: A column-vector y was passed when a 1d array was expected. Please change the shape of y to (n_samples,), for example using ravel().\n",
      "  estimator.fit(X_train, y_train, **fit_params)\n"
     ]
    },
    {
     "name": "stdout",
     "output_type": "stream",
     "text": [
      "[CV]  n_estimators=266, min_samples_split=10, min_samples_leaf=2, max_features=auto, max_depth=40, bootstrap=False, total=   1.5s\n",
      "[CV] n_estimators=50, min_samples_split=5, min_samples_leaf=4, max_features=auto, max_depth=100, bootstrap=False \n"
     ]
    },
    {
     "name": "stderr",
     "output_type": "stream",
     "text": [
      "/home/amit/anaconda3/lib/python3.6/site-packages/sklearn/model_selection/_validation.py:458: DataConversionWarning: A column-vector y was passed when a 1d array was expected. Please change the shape of y to (n_samples,), for example using ravel().\n",
      "  estimator.fit(X_train, y_train, **fit_params)\n"
     ]
    },
    {
     "name": "stdout",
     "output_type": "stream",
     "text": [
      "[CV]  n_estimators=50, min_samples_split=5, min_samples_leaf=4, max_features=auto, max_depth=100, bootstrap=False, total=   0.2s\n",
      "[CV] n_estimators=50, min_samples_split=5, min_samples_leaf=4, max_features=auto, max_depth=100, bootstrap=False \n"
     ]
    },
    {
     "name": "stderr",
     "output_type": "stream",
     "text": [
      "/home/amit/anaconda3/lib/python3.6/site-packages/sklearn/model_selection/_validation.py:458: DataConversionWarning: A column-vector y was passed when a 1d array was expected. Please change the shape of y to (n_samples,), for example using ravel().\n",
      "  estimator.fit(X_train, y_train, **fit_params)\n"
     ]
    },
    {
     "name": "stdout",
     "output_type": "stream",
     "text": [
      "[CV]  n_estimators=50, min_samples_split=5, min_samples_leaf=4, max_features=auto, max_depth=100, bootstrap=False, total=   0.3s\n",
      "[CV] n_estimators=50, min_samples_split=5, min_samples_leaf=4, max_features=auto, max_depth=100, bootstrap=False \n"
     ]
    },
    {
     "name": "stderr",
     "output_type": "stream",
     "text": [
      "/home/amit/anaconda3/lib/python3.6/site-packages/sklearn/model_selection/_validation.py:458: DataConversionWarning: A column-vector y was passed when a 1d array was expected. Please change the shape of y to (n_samples,), for example using ravel().\n",
      "  estimator.fit(X_train, y_train, **fit_params)\n"
     ]
    },
    {
     "name": "stdout",
     "output_type": "stream",
     "text": [
      "[CV]  n_estimators=50, min_samples_split=5, min_samples_leaf=4, max_features=auto, max_depth=100, bootstrap=False, total=   0.2s\n",
      "[CV] n_estimators=2000, min_samples_split=2, min_samples_leaf=2, max_features=sqrt, max_depth=20, bootstrap=True \n"
     ]
    },
    {
     "name": "stderr",
     "output_type": "stream",
     "text": [
      "/home/amit/anaconda3/lib/python3.6/site-packages/sklearn/model_selection/_validation.py:458: DataConversionWarning: A column-vector y was passed when a 1d array was expected. Please change the shape of y to (n_samples,), for example using ravel().\n",
      "  estimator.fit(X_train, y_train, **fit_params)\n"
     ]
    },
    {
     "name": "stdout",
     "output_type": "stream",
     "text": [
      "[CV]  n_estimators=916, min_samples_split=2, min_samples_leaf=1, max_features=auto, max_depth=10, bootstrap=False, total=   4.6s\n",
      "[CV] n_estimators=2000, min_samples_split=2, min_samples_leaf=2, max_features=sqrt, max_depth=20, bootstrap=True \n"
     ]
    },
    {
     "name": "stderr",
     "output_type": "stream",
     "text": [
      "/home/amit/anaconda3/lib/python3.6/site-packages/sklearn/model_selection/_validation.py:458: DataConversionWarning: A column-vector y was passed when a 1d array was expected. Please change the shape of y to (n_samples,), for example using ravel().\n",
      "  estimator.fit(X_train, y_train, **fit_params)\n"
     ]
    },
    {
     "name": "stdout",
     "output_type": "stream",
     "text": [
      "[CV]  n_estimators=916, min_samples_split=2, min_samples_leaf=1, max_features=auto, max_depth=10, bootstrap=False, total=   5.1s\n",
      "[CV] n_estimators=2000, min_samples_split=2, min_samples_leaf=2, max_features=sqrt, max_depth=20, bootstrap=True \n"
     ]
    },
    {
     "name": "stderr",
     "output_type": "stream",
     "text": [
      "/home/amit/anaconda3/lib/python3.6/site-packages/sklearn/model_selection/_validation.py:458: DataConversionWarning: A column-vector y was passed when a 1d array was expected. Please change the shape of y to (n_samples,), for example using ravel().\n",
      "  estimator.fit(X_train, y_train, **fit_params)\n"
     ]
    },
    {
     "name": "stdout",
     "output_type": "stream",
     "text": [
      "[CV]  n_estimators=916, min_samples_split=2, min_samples_leaf=1, max_features=auto, max_depth=10, bootstrap=False, total=   4.6s\n",
      "[CV] n_estimators=2000, min_samples_split=10, min_samples_leaf=2, max_features=auto, max_depth=40, bootstrap=True \n"
     ]
    },
    {
     "name": "stderr",
     "output_type": "stream",
     "text": [
      "/home/amit/anaconda3/lib/python3.6/site-packages/sklearn/model_selection/_validation.py:458: DataConversionWarning: A column-vector y was passed when a 1d array was expected. Please change the shape of y to (n_samples,), for example using ravel().\n",
      "  estimator.fit(X_train, y_train, **fit_params)\n"
     ]
    },
    {
     "name": "stdout",
     "output_type": "stream",
     "text": [
      "[CV]  n_estimators=2000, min_samples_split=2, min_samples_leaf=2, max_features=sqrt, max_depth=20, bootstrap=True, total=   5.6s\n",
      "[CV] n_estimators=2000, min_samples_split=10, min_samples_leaf=2, max_features=auto, max_depth=40, bootstrap=True \n"
     ]
    },
    {
     "name": "stderr",
     "output_type": "stream",
     "text": [
      "/home/amit/anaconda3/lib/python3.6/site-packages/sklearn/model_selection/_validation.py:458: DataConversionWarning: A column-vector y was passed when a 1d array was expected. Please change the shape of y to (n_samples,), for example using ravel().\n",
      "  estimator.fit(X_train, y_train, **fit_params)\n"
     ]
    },
    {
     "name": "stdout",
     "output_type": "stream",
     "text": [
      "[CV]  n_estimators=2000, min_samples_split=2, min_samples_leaf=2, max_features=sqrt, max_depth=20, bootstrap=True, total=   5.8s\n",
      "[CV] n_estimators=2000, min_samples_split=10, min_samples_leaf=2, max_features=auto, max_depth=40, bootstrap=True \n"
     ]
    },
    {
     "name": "stderr",
     "output_type": "stream",
     "text": [
      "/home/amit/anaconda3/lib/python3.6/site-packages/sklearn/model_selection/_validation.py:458: DataConversionWarning: A column-vector y was passed when a 1d array was expected. Please change the shape of y to (n_samples,), for example using ravel().\n",
      "  estimator.fit(X_train, y_train, **fit_params)\n"
     ]
    },
    {
     "name": "stdout",
     "output_type": "stream",
     "text": [
      "[CV]  n_estimators=2000, min_samples_split=2, min_samples_leaf=2, max_features=sqrt, max_depth=20, bootstrap=True, total=   5.6s\n",
      "[CV]  n_estimators=2000, min_samples_split=10, min_samples_leaf=2, max_features=auto, max_depth=40, bootstrap=True, total=   7.4s\n",
      "[CV]  n_estimators=2000, min_samples_split=10, min_samples_leaf=2, max_features=auto, max_depth=40, bootstrap=True, total=   6.4s\n",
      "[CV]  n_estimators=2000, min_samples_split=10, min_samples_leaf=2, max_features=auto, max_depth=40, bootstrap=True, total=   4.6s\n"
     ]
    },
    {
     "name": "stderr",
     "output_type": "stream",
     "text": [
      "[Parallel(n_jobs=-1)]: Done 300 out of 300 | elapsed:  4.8min finished\n",
      "/home/amit/anaconda3/lib/python3.6/site-packages/sklearn/model_selection/_search.py:739: DataConversionWarning: A column-vector y was passed when a 1d array was expected. Please change the shape of y to (n_samples,), for example using ravel().\n",
      "  self.best_estimator_.fit(X, y, **fit_params)\n"
     ]
    },
    {
     "data": {
      "text/plain": [
       "RandomizedSearchCV(cv=3, error_score='raise',\n",
       "          estimator=RandomForestRegressor(bootstrap=True, criterion='mse', max_depth=None,\n",
       "           max_features='auto', max_leaf_nodes=None,\n",
       "           min_impurity_decrease=0.0, min_impurity_split=None,\n",
       "           min_samples_leaf=1, min_samples_split=2,\n",
       "           min_weight_fraction_leaf=0.0, n_estimators=10, n_jobs=1,\n",
       "           oob_score=False, random_state=None, verbose=0, warm_start=False),\n",
       "          fit_params=None, iid=True, n_iter=100, n_jobs=-1,\n",
       "          param_distributions={'n_estimators': [50, 266, 483, 700, 916, 1133, 1350, 1566, 1783, 2000], 'max_features': ['auto', 'sqrt'], 'max_depth': [10, 20, 30, 40, 50, 60, 70, 80, 90, 100, 110, None], 'min_samples_split': [2, 5, 10], 'min_samples_leaf': [1, 2, 4], 'bootstrap': [True, False]},\n",
       "          pre_dispatch='2*n_jobs', random_state=42, refit=True,\n",
       "          return_train_score='warn', scoring=None, verbose=2)"
      ]
     },
     "execution_count": 286,
     "metadata": {},
     "output_type": "execute_result"
    }
   ],
   "source": [
    "# Use the random grid to search for best hyperparameters\n",
    "# First create the base model to tune\n",
    "rf = RandomForestRegressor()\n",
    "# Random search of parameters, using 3 fold cross validation, \n",
    "# search across 100 different combinations, and use all available cores\n",
    "rf_random = RandomizedSearchCV(estimator = rf, param_distributions = random_grid, n_iter = 100, cv = 3, verbose=2, random_state=42, n_jobs = -1)\n",
    "# Fit the random search model\n",
    "rf_random.fit(X_train_scaled, y_train_scaled)"
   ]
  },
  {
   "cell_type": "code",
   "execution_count": 235,
   "metadata": {},
   "outputs": [
    {
     "data": {
      "text/plain": [
       "{'n_estimators': 916,\n",
       " 'min_samples_split': 2,\n",
       " 'min_samples_leaf': 1,\n",
       " 'max_features': 'sqrt',\n",
       " 'max_depth': 110,\n",
       " 'bootstrap': True}"
      ]
     },
     "execution_count": 235,
     "metadata": {},
     "output_type": "execute_result"
    }
   ],
   "source": [
    "rf_random.best_params_"
   ]
  },
  {
   "cell_type": "code",
   "execution_count": 236,
   "metadata": {},
   "outputs": [
    {
     "name": "stdout",
     "output_type": "stream",
     "text": [
      "{\"status\":{\"version\":\"1.0.0\",\"code\":0,\"msg\":\"SuccessWithResult\",\"total\":1,\"page\":1,\"pagesize\":10},\"property\":[{\"identifier\":{\"obPropId\":18471319108031,\"fips\":\"08031\",\"apn\":\"0219204018000\",\"apnOrig\":\"219204018000\",\"attomId\":184713191},\"lot\":{\"depth\":0,\"frontage\":0,\"lotnum\":\"31\",\"lotsize1\":0.1077,\"lotsize2\":4690,\"pooltype\":\"NONE\"},\"area\":{\"blockNum\":\"36\",\"countrysecsubd\":\"Denver County\",\"countyuse1\":\"113\",\"muncode\":\"DE\",\"munname\":\"DENVER\",\"srvyRange\":\"68W\",\"srvySection\":\"19\",\"srvyTownship\":\"03S\",\"subdname\":\"BERKELEY\",\"subdtractnum\":\"0\",\"taxcodearea\":\"0\"},\"address\":{\"country\":\"US\",\"countrySubd\":\"CO\",\"line1\":\"4529 WINONA CT\",\"line2\":\"DENVER, CO 80212\",\"locality\":\"Denver\",\"matchCode\":\"ExaStr\",\"oneLine\":\"4529 WINONA CT, DENVER, CO 80212\",\"postal1\":\"80212\",\"postal2\":\"2512\",\"postal3\":\"C037\"},\"location\":{\"accuracy\":\"Street\",\"elevation\":0.0,\"latitude\":\"39.778904\",\"longitude\":\"-105.047624\",\"distance\":0.0,\"geoid\":\"CO08031, CS0891007, DB0803360, MT30001324, ND0000119198, ND0000539537, PL0820000, SB0000076114, SB0000076155, SB0000076161, SB0000135819, ZI80212\"},\"summary\":{\"absenteeInd\":\"OWNER OCCUPIED\",\"propclass\":\"Single Family Residence / Townhouse\",\"propsubtype\":\"RESIDENTIAL\",\"proptype\":\"SFR\",\"yearbuilt\":1900,\"propLandUse\":\"SFR\",\"propIndicator\":\"10\",\"legal1\":\"BERKELEY B36 L31 & S/2 OF L32 EXC REAR 8FT TO CITY\"},\"utilities\":{\"heatingtype\":\"FORCED AIR\"},\"building\":{\"size\":{\"bldgsize\":1414,\"grosssize\":1414,\"grosssizeadjusted\":934,\"groundfloorsize\":934,\"livingsize\":934,\"sizeInd\":\"LIVING SQFT \",\"universalsize\":934},\"rooms\":{\"bathfixtures\":0,\"baths1qtr\":0,\"baths3qtr\":0,\"bathscalc\":1.0,\"bathsfull\":1,\"bathshalf\":0,\"bathstotal\":1.0,\"beds\":2,\"roomsTotal\":5},\"interior\":{\"bsmtsize\":480,\"bsmttype\":\"UNFINISHED\",\"fplccount\":1,\"fplcind\":\"Y\",\"fplctype\":\"YES\"},\"construction\":{\"condition\":\"AVERAGE\",\"wallType\":\"BRICK\"},\"parking\":{\"garagetype\":\"DETACHED GARAGE\",\"prkgSize\":240,\"prkgSpaces\":\"0\",\"prkgType\":\"GARAGE DETACHED\"},\"summary\":{\"bldgsNum\":0,\"bldgType\":\"TYPE UNKNOWN\",\"imprType\":\"RESIDENTIAL\",\"levels\":1,\"mobileHomeInd\":\" \",\"quality\":\"EXCELLENT\",\"storyDesc\":\"TYPE UNKNOWN\",\"unitsCount\":\"1\",\"yearbuilteffective\":0}},\"vintage\":{\"lastModified\":\"2019-5-22\",\"pubDate\":\"2019-5-23\"}}]}\n"
     ]
    }
   ],
   "source": [
    "#explore api options\n",
    "import http.client \n",
    "\n",
    "conn = http.client.HTTPSConnection(\"api.gateway.attomdata.com\") \n",
    "\n",
    "headers = { \n",
    "    'accept': \"application/json\", \n",
    "    'apikey': \"487ac4986deb86031b6d88f9505dfdc6\", \n",
    "} \n",
    "\n",
    "ids=\"18471319108031\"\n",
    "conn.request(\"GET\", \"/propertyapi/v1.0.0/property/detail?id=\"+ ids, headers=headers) \n",
    "\n",
    "res = conn.getresponse() \n",
    "data = res.read() \n",
    "\n",
    "data1=data.decode(\"utf-8\")\n",
    "print(data1)"
   ]
  },
  {
   "cell_type": "code",
   "execution_count": 237,
   "metadata": {},
   "outputs": [
    {
     "ename": "ModuleNotFoundError",
     "evalue": "No module named 'keras'",
     "output_type": "error",
     "traceback": [
      "\u001b[0;31m---------------------------------------------------------------------------\u001b[0m",
      "\u001b[0;31mModuleNotFoundError\u001b[0m                       Traceback (most recent call last)",
      "\u001b[0;32m<ipython-input-237-9b7f13b5bc6e>\u001b[0m in \u001b[0;36m<module>\u001b[0;34m()\u001b[0m\n\u001b[1;32m      1\u001b[0m \u001b[0;32mimport\u001b[0m \u001b[0mnumpy\u001b[0m\u001b[0;34m\u001b[0m\u001b[0m\n\u001b[1;32m      2\u001b[0m \u001b[0;32mimport\u001b[0m \u001b[0mpandas\u001b[0m\u001b[0;34m\u001b[0m\u001b[0m\n\u001b[0;32m----> 3\u001b[0;31m \u001b[0;32mfrom\u001b[0m \u001b[0mkeras\u001b[0m\u001b[0;34m.\u001b[0m\u001b[0mmodels\u001b[0m \u001b[0;32mimport\u001b[0m \u001b[0mSequential\u001b[0m\u001b[0;34m\u001b[0m\u001b[0m\n\u001b[0m\u001b[1;32m      4\u001b[0m \u001b[0;32mfrom\u001b[0m \u001b[0mkeras\u001b[0m\u001b[0;34m.\u001b[0m\u001b[0mlayers\u001b[0m \u001b[0;32mimport\u001b[0m \u001b[0mDense\u001b[0m\u001b[0;34m\u001b[0m\u001b[0m\n\u001b[1;32m      5\u001b[0m \u001b[0;32mfrom\u001b[0m \u001b[0mkeras\u001b[0m\u001b[0;34m.\u001b[0m\u001b[0mwrappers\u001b[0m\u001b[0;34m.\u001b[0m\u001b[0mscikit_learn\u001b[0m \u001b[0;32mimport\u001b[0m \u001b[0mKerasRegressor\u001b[0m\u001b[0;34m\u001b[0m\u001b[0m\n",
      "\u001b[0;31mModuleNotFoundError\u001b[0m: No module named 'keras'"
     ]
    }
   ],
   "source": [
    "import numpy\n",
    "import pandas\n",
    "from keras.models import Sequential\n",
    "from keras.layers import Dense\n",
    "from keras.wrappers.scikit_learn import KerasRegressor\n",
    "from sklearn.model_selection import cross_val_score\n",
    "from sklearn.model_selection import KFold\n",
    "from sklearn.preprocessing import StandardScaler\n",
    "from sklearn.pipeline import Pipeline"
   ]
  },
  {
   "cell_type": "code",
   "execution_count": null,
   "metadata": {},
   "outputs": [],
   "source": [
    "from tensorflow.keras.models import Sequential\n",
    "from tensorflow.keras.layers import Dense\n",
    "\n",
    "# define base model\n",
    "def baseline_model():\n",
    "    #create model\n",
    "    model = Sequential()\n",
    "    model.add(Dense(7, input_dim=7, kernel_initializer='normal', activation='relu'))\n",
    "    model.add(Dense(1, kernel_initializer='normal'))\n",
    "# Compile model\n",
    "    model.compile(loss='mean_squared_error', optimizer='adam', metrics=['accuracy'])\n",
    "    return model\n",
    "\n",
    "seed = 7\n",
    "numpy.random.seed(seed)\n",
    "estimator = KerasRegressor(build_fn=baseline_model, epochs=100, batch_size=5, verbose=2)"
   ]
  },
  {
   "cell_type": "code",
   "execution_count": null,
   "metadata": {},
   "outputs": [],
   "source": [
    "\n",
    "kfold = KFold(n_splits=10, random_state=seed)\n",
    "results = cross_val_score(estimator, X_train_scaled, y_train_scaled, cv=kfold)\n",
    "print(\"Results: %.2f (%.2f) MSE\" % (results.mean(), results.std()))"
   ]
  },
  {
   "cell_type": "code",
   "execution_count": null,
   "metadata": {},
   "outputs": [],
   "source": []
  }
 ],
 "metadata": {
  "kernelspec": {
   "display_name": "Python 3",
   "language": "python",
   "name": "python3"
  },
  "language_info": {
   "codemirror_mode": {
    "name": "ipython",
    "version": 3
   },
   "file_extension": ".py",
   "mimetype": "text/x-python",
   "name": "python",
   "nbconvert_exporter": "python",
   "pygments_lexer": "ipython3",
   "version": "3.6.5"
  }
 },
 "nbformat": 4,
 "nbformat_minor": 2
}
