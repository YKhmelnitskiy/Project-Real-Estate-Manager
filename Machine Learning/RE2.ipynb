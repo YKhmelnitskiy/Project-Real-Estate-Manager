{
 "cells": [
  {
   "cell_type": "code",
   "execution_count": 1,
   "metadata": {},
   "outputs": [],
   "source": [
    "import json\n",
    "import pandas as pd\n",
    "import os\n",
    "%matplotlib inline\n",
    "import matplotlib.pyplot as plt\n",
    "import numpy as np\n",
    "import pickle"
   ]
  },
  {
   "cell_type": "code",
   "execution_count": 2,
   "metadata": {},
   "outputs": [
    {
     "ename": "NameError",
     "evalue": "name 'income2' is not defined",
     "output_type": "error",
     "traceback": [
      "\u001b[1;31m---------------------------------------------------------------------------\u001b[0m",
      "\u001b[1;31mNameError\u001b[0m                                 Traceback (most recent call last)",
      "\u001b[1;32m<ipython-input-2-c8d1354e9dc4>\u001b[0m in \u001b[0;36m<module>\u001b[1;34m\u001b[0m\n\u001b[0;32m      3\u001b[0m \u001b[0mdf\u001b[0m\u001b[1;33m=\u001b[0m\u001b[0mall_data\u001b[0m\u001b[1;33m.\u001b[0m\u001b[0mdrop\u001b[0m\u001b[1;33m(\u001b[0m\u001b[1;33m[\u001b[0m\u001b[1;34m'identifier/fips'\u001b[0m\u001b[1;33m,\u001b[0m \u001b[1;34m'identifier/apn'\u001b[0m\u001b[1;33m,\u001b[0m \u001b[1;34m'identifier/apnOrig'\u001b[0m\u001b[1;33m,\u001b[0m \u001b[1;34m'summary/propIndicator'\u001b[0m\u001b[1;33m,\u001b[0m \u001b[1;34m'summary/proptype'\u001b[0m\u001b[1;33m,\u001b[0m\u001b[1;34m'location/geoid'\u001b[0m\u001b[1;33m,\u001b[0m \u001b[1;34m'identifier/attomId'\u001b[0m\u001b[1;33m,\u001b[0m \u001b[1;34m'sale/amount/salecode'\u001b[0m\u001b[1;33m,\u001b[0m \u001b[1;34m'sale/amount/saledisclosuretype'\u001b[0m\u001b[1;33m,\u001b[0m \u001b[1;34m'address/matchCode'\u001b[0m\u001b[1;33m,\u001b[0m \u001b[1;34m'address/postal2'\u001b[0m\u001b[1;33m,\u001b[0m \u001b[1;34m'address/postal3'\u001b[0m\u001b[1;33m,\u001b[0m \u001b[1;34m'location/accuracy'\u001b[0m\u001b[1;33m,\u001b[0m \u001b[1;34m'address/country'\u001b[0m\u001b[1;33m,\u001b[0m \u001b[1;34m'sale/amount/saledocnum'\u001b[0m\u001b[1;33m,\u001b[0m \u001b[1;34m'summary/propLandUse'\u001b[0m\u001b[1;33m,\u001b[0m \u001b[1;34m'location/elevation'\u001b[0m \u001b[1;33m]\u001b[0m\u001b[1;33m,\u001b[0m \u001b[0maxis\u001b[0m\u001b[1;33m=\u001b[0m\u001b[1;36m1\u001b[0m\u001b[1;33m)\u001b[0m\u001b[1;33m\u001b[0m\u001b[1;33m\u001b[0m\u001b[0m\n\u001b[0;32m      4\u001b[0m \u001b[0mdf\u001b[0m\u001b[1;33m.\u001b[0m\u001b[0mdtypes\u001b[0m\u001b[1;33m\u001b[0m\u001b[1;33m\u001b[0m\u001b[0m\n\u001b[1;32m----> 5\u001b[1;33m \u001b[0mdf2\u001b[0m\u001b[1;33m=\u001b[0m\u001b[0mdf\u001b[0m\u001b[1;33m.\u001b[0m\u001b[0mmerge\u001b[0m\u001b[1;33m(\u001b[0m\u001b[0mincome2\u001b[0m\u001b[1;33m,\u001b[0m \u001b[0mhow\u001b[0m\u001b[1;33m=\u001b[0m\u001b[1;34m'inner'\u001b[0m\u001b[1;33m,\u001b[0m \u001b[0mon\u001b[0m\u001b[1;33m=\u001b[0m \u001b[1;34m'address/postal1'\u001b[0m\u001b[1;33m)\u001b[0m\u001b[1;33m\u001b[0m\u001b[1;33m\u001b[0m\u001b[0m\n\u001b[0m\u001b[0;32m      6\u001b[0m \u001b[0mdf2\u001b[0m\u001b[1;33m\u001b[0m\u001b[1;33m\u001b[0m\u001b[0m\n",
      "\u001b[1;31mNameError\u001b[0m: name 'income2' is not defined"
     ]
    }
   ],
   "source": [
    "tp='cle_radius.csv'\n",
    "all_data=pd.read_csv(tp)\n",
    "df=all_data.drop(['identifier/fips', 'identifier/apn', 'identifier/apnOrig', 'summary/propIndicator', 'summary/proptype','location/geoid', 'identifier/attomId', 'sale/amount/salecode', 'sale/amount/saledisclosuretype', 'address/matchCode', 'address/postal2', 'address/postal3', 'location/accuracy', 'address/country', 'sale/amount/saledocnum', 'summary/propLandUse', 'location/elevation' ], axis=1)\n",
    "df.dtypes\n",
    "df2=df.merge(income2, how='inner', on= 'address/postal1')\n",
    "df2"
   ]
  },
  {
   "cell_type": "code",
   "execution_count": 3,
   "metadata": {},
   "outputs": [],
   "source": [
    "map=df.loc[:,['address/line1', 'address/locality', 'address/countrySubd', 'address/postal1', \"sale/amount/saleamt\", 'sale/amount/salerecdate', 'location/latitude', 'location/longitude']]\n",
    "maps=map.rename(columns={'address/line1': 'street_1', 'address/locality': 'city', 'address/countrySubd': 'state', 'address/postal1': 'zip', 'sale/amount/saleamt': 'sale_price', 'sale/amount/salerecdate': 'date', 'location/latitude': 'latitude', 'location/longitude':'longitude'}) \n",
    "map5=maps.dropna(how='any')\n",
    "\n",
    "map5.to_csv('map5.csv')"
   ]
  },
  {
   "cell_type": "code",
   "execution_count": 4,
   "metadata": {},
   "outputs": [
    {
     "ename": "NameError",
     "evalue": "name 'df2' is not defined",
     "output_type": "error",
     "traceback": [
      "\u001b[1;31m---------------------------------------------------------------------------\u001b[0m",
      "\u001b[1;31mNameError\u001b[0m                                 Traceback (most recent call last)",
      "\u001b[1;32m<ipython-input-4-c2ffbcbff73d>\u001b[0m in \u001b[0;36m<module>\u001b[1;34m\u001b[0m\n\u001b[0;32m      1\u001b[0m \u001b[1;33m\u001b[0m\u001b[0m\n\u001b[0;32m      2\u001b[0m \u001b[0mplt\u001b[0m\u001b[1;33m.\u001b[0m\u001b[0mfigure\u001b[0m\u001b[1;33m(\u001b[0m\u001b[0mfigsize\u001b[0m\u001b[1;33m=\u001b[0m\u001b[1;33m(\u001b[0m\u001b[1;36m10\u001b[0m\u001b[1;33m,\u001b[0m\u001b[1;36m6\u001b[0m\u001b[1;33m)\u001b[0m\u001b[1;33m)\u001b[0m\u001b[1;33m\u001b[0m\u001b[1;33m\u001b[0m\u001b[0m\n\u001b[1;32m----> 3\u001b[1;33m \u001b[0mplt\u001b[0m\u001b[1;33m.\u001b[0m\u001b[0mscatter\u001b[0m\u001b[1;33m(\u001b[0m\u001b[0mdf2\u001b[0m\u001b[1;33m[\u001b[0m\u001b[1;34m'location/longitude'\u001b[0m\u001b[1;33m]\u001b[0m\u001b[1;33m,\u001b[0m\u001b[0my\u001b[0m\u001b[1;33m=\u001b[0m\u001b[0mdf2\u001b[0m\u001b[1;33m[\u001b[0m\u001b[1;34m'location/latitude'\u001b[0m\u001b[1;33m]\u001b[0m\u001b[1;33m,\u001b[0m\u001b[0malpha\u001b[0m\u001b[1;33m=\u001b[0m\u001b[1;36m0.1\u001b[0m\u001b[1;33m)\u001b[0m\u001b[1;33m\u001b[0m\u001b[1;33m\u001b[0m\u001b[0m\n\u001b[0m\u001b[0;32m      4\u001b[0m \u001b[0mplt\u001b[0m\u001b[1;33m.\u001b[0m\u001b[0mtitle\u001b[0m\u001b[1;33m(\u001b[0m\u001b[1;34m\"Distribution of households\"\u001b[0m\u001b[1;33m,\u001b[0m\u001b[0msize\u001b[0m\u001b[1;33m=\u001b[0m\u001b[1;36m16\u001b[0m\u001b[1;33m)\u001b[0m\u001b[1;33m\u001b[0m\u001b[1;33m\u001b[0m\u001b[0m\n",
      "\u001b[1;31mNameError\u001b[0m: name 'df2' is not defined"
     ]
    },
    {
     "data": {
      "text/plain": [
       "<Figure size 720x432 with 0 Axes>"
      ]
     },
     "metadata": {},
     "output_type": "display_data"
    }
   ],
   "source": [
    "\n",
    "plt.figure(figsize=(10,6))\n",
    "plt.scatter(df2['location/longitude'],y=df2['location/latitude'],alpha=0.1)\n",
    "plt.title(\"Distribution of households\",size=16)"
   ]
  },
  {
   "cell_type": "code",
   "execution_count": 5,
   "metadata": {},
   "outputs": [],
   "source": [
    "house=pd.read_csv('house.csv', dtype={'name': int, 'med/housing':int })\n",
    "house1=house.drop(['geoid', 'B25077001, Error'], axis=1)\n",
    "house2=house1.rename(columns={'name': 'address/postal1'})\n",
    "houses=house2.iloc[1:]\n",
    "houses2=houses.loc[houses[\"med/housing\"] > 1, :]\n"
   ]
  },
  {
   "cell_type": "code",
   "execution_count": 6,
   "metadata": {},
   "outputs": [],
   "source": [
    "dem=pd.read_csv('demo.csv', dtype={'1':float, 'total':int, 'address/postal1':int, '2':int, '3':int, '4':int})\n",
    "dem2=dem.iloc[1:]\n",
    "dem3=dem2.loc[:, [\"address/postal1\", \"total\", \"1\", \"2\", \"3\", \"4\"]]\n",
    "dem3['1per']=(dem3['1']/dem3['total'])*100\n",
    "dem3['2per']=(dem3['2']/dem3['total'])*100\n",
    "dem3['4per']=(dem3['4']/dem3['total'])*100\n"
   ]
  },
  {
   "cell_type": "code",
   "execution_count": 7,
   "metadata": {},
   "outputs": [],
   "source": [
    "pop=pd.read_csv('pop.csv', dtype={'population':float, 'address/postal1':int})\n",
    "pop2=pop.iloc[1:]\n",
    "pop3=pop2.loc[:, [\"address/postal1\", \"population\" ]]\n"
   ]
  },
  {
   "cell_type": "code",
   "execution_count": 8,
   "metadata": {},
   "outputs": [],
   "source": [
    "edu=pd.read_csv('education.csv', dtype={'total':float, 'address/postal1':int, 'Bachelors':int, 'Masters':int, 'HighSchool':int, 'Associates':int, 'Professional':int, 'Doctorate':int})\n",
    "edu2=edu.iloc[1:]\n",
    "edu3=edu2.loc[:, [\"address/postal1\", \"total\", \"Bachelors\", \"Masters\", \"HighSchool\", \"Associates\", \"Professional\", \"Doctorate\"]]\n",
    "edu3['bachper']=(edu3['Bachelors']/edu3['total'])*100\n",
    "edu3['docper']=(edu3['Doctorate']/edu3['total'])*100\n",
    "edu3['mastper']=(edu3['Masters']/edu3['total'])*100\n",
    "edu3['HSper']=(edu3['HighSchool']/edu3['total'])*100"
   ]
  },
  {
   "cell_type": "code",
   "execution_count": 9,
   "metadata": {},
   "outputs": [],
   "source": [
    "\n",
    "\n",
    "age=pd.read_csv('age.csv', dtype={'total':float, 'address/postal1':int})\n",
    "age2=age.iloc[1:]\n",
    "age3=age2.drop(['geoid', 'B01002000.5', 'B01002000.5, Error', 'B01002001, Error', 'male', 'female', 'B01002002, Error', 'B01002003, Error'], axis=1)\n"
   ]
  },
  {
   "cell_type": "code",
   "execution_count": 10,
   "metadata": {},
   "outputs": [
    {
     "data": {
      "text/html": [
       "<div>\n",
       "<style scoped>\n",
       "    .dataframe tbody tr th:only-of-type {\n",
       "        vertical-align: middle;\n",
       "    }\n",
       "\n",
       "    .dataframe tbody tr th {\n",
       "        vertical-align: top;\n",
       "    }\n",
       "\n",
       "    .dataframe thead th {\n",
       "        text-align: right;\n",
       "    }\n",
       "</style>\n",
       "<table border=\"1\" class=\"dataframe\">\n",
       "  <thead>\n",
       "    <tr style=\"text-align: right;\">\n",
       "      <th></th>\n",
       "      <th>address/postal1</th>\n",
       "      <th>total_x</th>\n",
       "      <th>1</th>\n",
       "      <th>2</th>\n",
       "      <th>3</th>\n",
       "      <th>4</th>\n",
       "      <th>1per</th>\n",
       "      <th>2per</th>\n",
       "      <th>4per</th>\n",
       "      <th>population</th>\n",
       "      <th>...</th>\n",
       "      <th>Masters</th>\n",
       "      <th>HighSchool</th>\n",
       "      <th>Associates</th>\n",
       "      <th>Professional</th>\n",
       "      <th>Doctorate</th>\n",
       "      <th>bachper</th>\n",
       "      <th>docper</th>\n",
       "      <th>mastper</th>\n",
       "      <th>HSper</th>\n",
       "      <th>total</th>\n",
       "    </tr>\n",
       "  </thead>\n",
       "  <tbody>\n",
       "    <tr>\n",
       "      <th>0</th>\n",
       "      <td>16159</td>\n",
       "      <td>4824</td>\n",
       "      <td>4703.0</td>\n",
       "      <td>11</td>\n",
       "      <td>0</td>\n",
       "      <td>13</td>\n",
       "      <td>97.491708</td>\n",
       "      <td>0.228027</td>\n",
       "      <td>0.269486</td>\n",
       "      <td>4824.0</td>\n",
       "      <td>...</td>\n",
       "      <td>237</td>\n",
       "      <td>1571</td>\n",
       "      <td>316</td>\n",
       "      <td>0</td>\n",
       "      <td>0</td>\n",
       "      <td>13.741110</td>\n",
       "      <td>0.000000</td>\n",
       "      <td>6.742532</td>\n",
       "      <td>44.694168</td>\n",
       "      <td>47.3</td>\n",
       "    </tr>\n",
       "    <tr>\n",
       "      <th>1</th>\n",
       "      <td>43001</td>\n",
       "      <td>2890</td>\n",
       "      <td>2782.0</td>\n",
       "      <td>0</td>\n",
       "      <td>0</td>\n",
       "      <td>0</td>\n",
       "      <td>96.262976</td>\n",
       "      <td>0.000000</td>\n",
       "      <td>0.000000</td>\n",
       "      <td>2890.0</td>\n",
       "      <td>...</td>\n",
       "      <td>162</td>\n",
       "      <td>659</td>\n",
       "      <td>134</td>\n",
       "      <td>28</td>\n",
       "      <td>8</td>\n",
       "      <td>21.461657</td>\n",
       "      <td>0.411734</td>\n",
       "      <td>8.337622</td>\n",
       "      <td>33.916624</td>\n",
       "      <td>39.3</td>\n",
       "    </tr>\n",
       "    <tr>\n",
       "      <th>2</th>\n",
       "      <td>43002</td>\n",
       "      <td>3238</td>\n",
       "      <td>3020.0</td>\n",
       "      <td>98</td>\n",
       "      <td>0</td>\n",
       "      <td>97</td>\n",
       "      <td>93.267449</td>\n",
       "      <td>3.026560</td>\n",
       "      <td>2.995676</td>\n",
       "      <td>3238.0</td>\n",
       "      <td>...</td>\n",
       "      <td>298</td>\n",
       "      <td>221</td>\n",
       "      <td>431</td>\n",
       "      <td>109</td>\n",
       "      <td>11</td>\n",
       "      <td>41.672426</td>\n",
       "      <td>0.380097</td>\n",
       "      <td>10.297167</td>\n",
       "      <td>7.636489</td>\n",
       "      <td>32.7</td>\n",
       "    </tr>\n",
       "    <tr>\n",
       "      <th>3</th>\n",
       "      <td>43003</td>\n",
       "      <td>2895</td>\n",
       "      <td>2836.0</td>\n",
       "      <td>0</td>\n",
       "      <td>0</td>\n",
       "      <td>2</td>\n",
       "      <td>97.962003</td>\n",
       "      <td>0.000000</td>\n",
       "      <td>0.069085</td>\n",
       "      <td>2895.0</td>\n",
       "      <td>...</td>\n",
       "      <td>72</td>\n",
       "      <td>835</td>\n",
       "      <td>165</td>\n",
       "      <td>8</td>\n",
       "      <td>9</td>\n",
       "      <td>13.473787</td>\n",
       "      <td>0.440960</td>\n",
       "      <td>3.527683</td>\n",
       "      <td>40.911318</td>\n",
       "      <td>41.3</td>\n",
       "    </tr>\n",
       "    <tr>\n",
       "      <th>4</th>\n",
       "      <td>43004</td>\n",
       "      <td>25768</td>\n",
       "      <td>17174.0</td>\n",
       "      <td>6538</td>\n",
       "      <td>0</td>\n",
       "      <td>1092</td>\n",
       "      <td>66.648556</td>\n",
       "      <td>25.372555</td>\n",
       "      <td>4.237814</td>\n",
       "      <td>25768.0</td>\n",
       "      <td>...</td>\n",
       "      <td>1765</td>\n",
       "      <td>2887</td>\n",
       "      <td>1355</td>\n",
       "      <td>409</td>\n",
       "      <td>171</td>\n",
       "      <td>30.537597</td>\n",
       "      <td>0.995981</td>\n",
       "      <td>10.280156</td>\n",
       "      <td>16.815190</td>\n",
       "      <td>34.9</td>\n",
       "    </tr>\n",
       "  </tbody>\n",
       "</table>\n",
       "<p>5 rows × 22 columns</p>\n",
       "</div>"
      ],
      "text/plain": [
       "   address/postal1  total_x        1     2  3     4       1per       2per  \\\n",
       "0            16159     4824   4703.0    11  0    13  97.491708   0.228027   \n",
       "1            43001     2890   2782.0     0  0     0  96.262976   0.000000   \n",
       "2            43002     3238   3020.0    98  0    97  93.267449   3.026560   \n",
       "3            43003     2895   2836.0     0  0     2  97.962003   0.000000   \n",
       "4            43004    25768  17174.0  6538  0  1092  66.648556  25.372555   \n",
       "\n",
       "       4per  population  ...  Masters  HighSchool  Associates  Professional  \\\n",
       "0  0.269486      4824.0  ...      237        1571         316             0   \n",
       "1  0.000000      2890.0  ...      162         659         134            28   \n",
       "2  2.995676      3238.0  ...      298         221         431           109   \n",
       "3  0.069085      2895.0  ...       72         835         165             8   \n",
       "4  4.237814     25768.0  ...     1765        2887        1355           409   \n",
       "\n",
       "   Doctorate    bachper    docper    mastper      HSper  total  \n",
       "0          0  13.741110  0.000000   6.742532  44.694168   47.3  \n",
       "1          8  21.461657  0.411734   8.337622  33.916624   39.3  \n",
       "2         11  41.672426  0.380097  10.297167   7.636489   32.7  \n",
       "3          9  13.473787  0.440960   3.527683  40.911318   41.3  \n",
       "4        171  30.537597  0.995981  10.280156  16.815190   34.9  \n",
       "\n",
       "[5 rows x 22 columns]"
      ]
     },
     "execution_count": 10,
     "metadata": {},
     "output_type": "execute_result"
    }
   ],
   "source": [
    "merge1=dem3.merge(pop3, how='inner', on='address/postal1' )\n",
    "merge2=merge1.merge(edu3, how='outer', on='address/postal1')\n",
    "merge3=merge2.merge(age3, how='inner', on='address/postal1')\n",
    "merge3.head()"
   ]
  },
  {
   "cell_type": "code",
   "execution_count": 11,
   "metadata": {},
   "outputs": [],
   "source": [
    "food_stamp=pd.read_csv('fs.csv', dtype={'PA/FS': int, 'NO_PA/FS':int, 'address/postal1':int})\n",
    "fs=food_stamp.drop(['geoid', 'B19058001, Error', 'B19058002, Error', 'B19058003, Error'], axis=1)\n",
    "fs['perc_fs']=(fs['PA/FS']/fs['B19058001'])*100\n",
    "fs1=fs.drop(['B19058001'], axis=1)\n",
    "fs2=fs1.iloc[1:]\n"
   ]
  },
  {
   "cell_type": "code",
   "execution_count": 12,
   "metadata": {},
   "outputs": [],
   "source": [
    "med_inc2=pd.read_csv('medianincome.csv', dtype={'zipcode': int, 'median':int})\n",
    "med_inc=med_inc2.rename(columns={'zipcode': 'address/postal1', 'median': 'median_income'})\n",
    "income=med_inc.drop(['geoid', 'B19013001, Error'], axis=1)\n",
    "income2 = income.iloc[1:]\n"
   ]
  },
  {
   "cell_type": "code",
   "execution_count": 13,
   "metadata": {},
   "outputs": [],
   "source": [
    "df_res= df.loc[df[\"summary/propclass\"] == \"Single Family Residence / Townhouse\", :]\n",
    "b=df_res['address/postal1'].unique()\n",
    "dataframe2=pd.DataFrame(b, columns=['zip'])\n"
   ]
  },
  {
   "cell_type": "code",
   "execution_count": 14,
   "metadata": {},
   "outputs": [],
   "source": [
    "e=df_res['address/locality'].unique()\n",
    "dataframe=pd.DataFrame(e, columns=['a'])\n",
    "dataframe.to_csv(\"crime2.csv\")"
   ]
  },
  {
   "cell_type": "code",
   "execution_count": 15,
   "metadata": {},
   "outputs": [],
   "source": [
    "df_r=pd.read_csv('desc_df2.csv')\n"
   ]
  },
  {
   "cell_type": "code",
   "execution_count": 16,
   "metadata": {},
   "outputs": [],
   "source": [
    "df_r['identifier/obPropId'].astype(str)\n",
    "ids=df_r['identifier/obPropId'].tolist()\n"
   ]
  },
  {
   "cell_type": "code",
   "execution_count": 17,
   "metadata": {},
   "outputs": [],
   "source": [
    "desc_df = df_res.sort_values(\"sale/amount/salerecdate\", ascending=False)\n",
    "desc_df2=desc_df.iloc[0:1000, :]\n",
    "#desc_df2.to_csv('desc_df.csv')"
   ]
  },
  {
   "cell_type": "code",
   "execution_count": 18,
   "metadata": {},
   "outputs": [],
   "source": [
    "desc_df3=desc_df2.loc[desc_df2[\"summary/yearbuilt\"] > 1, :]"
   ]
  },
  {
   "cell_type": "code",
   "execution_count": 19,
   "metadata": {},
   "outputs": [],
   "source": [
    "desc_df4=desc_df3.loc[desc_df3[\"sale/amount/saleamt\"] > 5000, :]"
   ]
  },
  {
   "cell_type": "code",
   "execution_count": 20,
   "metadata": {},
   "outputs": [],
   "source": [
    "desc_df5=desc_df4.loc[desc_df4['building/rooms/bathstotal'] > 0, :]"
   ]
  },
  {
   "cell_type": "code",
   "execution_count": 21,
   "metadata": {},
   "outputs": [],
   "source": [
    "desc_df6=desc_df5.merge(income2, how='inner', on= 'address/postal1')"
   ]
  },
  {
   "cell_type": "code",
   "execution_count": 22,
   "metadata": {},
   "outputs": [],
   "source": [
    "desc_df7=desc_df6.loc[desc_df6[\"median_income\"] > 1, :]"
   ]
  },
  {
   "cell_type": "code",
   "execution_count": 23,
   "metadata": {},
   "outputs": [],
   "source": [
    "desc_df8=desc_df7.loc[desc_df7[\"sale/amount/saleamt\"] < 700000, :]"
   ]
  },
  {
   "cell_type": "code",
   "execution_count": 24,
   "metadata": {},
   "outputs": [],
   "source": [
    "desc_df9=desc_df8.merge(fs2, how='inner', on='address/postal1')\n"
   ]
  },
  {
   "cell_type": "code",
   "execution_count": 25,
   "metadata": {},
   "outputs": [],
   "source": [
    "desc_df10=desc_df9.merge(houses2, how='inner', on='address/postal1')"
   ]
  },
  {
   "cell_type": "code",
   "execution_count": 26,
   "metadata": {},
   "outputs": [],
   "source": [
    "desc_df11=desc_df10.merge(merge3, how='inner', on='address/postal1')"
   ]
  },
  {
   "cell_type": "code",
   "execution_count": 27,
   "metadata": {},
   "outputs": [],
   "source": [
    "desc_df12=desc_df11.loc[desc_df11[\"population\"] > 1, :]"
   ]
  },
  {
   "cell_type": "code",
   "execution_count": 28,
   "metadata": {},
   "outputs": [],
   "source": [
    "desc_df13=desc_df12.loc[desc_df12[\"location/distance\"] < 45, :]"
   ]
  },
  {
   "cell_type": "code",
   "execution_count": 29,
   "metadata": {},
   "outputs": [],
   "source": [
    "desc_df14=desc_df13.loc[desc_df13[\"LotSizeAcres\"] > 0.0000, :]"
   ]
  },
  {
   "cell_type": "code",
   "execution_count": 30,
   "metadata": {},
   "outputs": [],
   "source": [
    "desc_df15=desc_df14.loc[desc_df14['building/rooms/bathstotal'] < 7, :]"
   ]
  },
  {
   "cell_type": "code",
   "execution_count": 31,
   "metadata": {},
   "outputs": [],
   "source": [
    "desc_df16=desc_df15.loc[desc_df15['LotSizeAcres'] < 1 , :]"
   ]
  },
  {
   "cell_type": "code",
   "execution_count": 32,
   "metadata": {},
   "outputs": [],
   "source": [
    "desc_df17=desc_df16.loc[desc_df16['med/housing'] < 400000 , :]"
   ]
  },
  {
   "cell_type": "code",
   "execution_count": 33,
   "metadata": {},
   "outputs": [],
   "source": [
    "desc_df18=desc_df17.loc[desc_df17[\"location/distance\"] > 5, :]"
   ]
  },
  {
   "cell_type": "code",
   "execution_count": 34,
   "metadata": {
    "scrolled": true
   },
   "outputs": [
    {
     "data": {
      "text/html": [
       "<div>\n",
       "<style scoped>\n",
       "    .dataframe tbody tr th:only-of-type {\n",
       "        vertical-align: middle;\n",
       "    }\n",
       "\n",
       "    .dataframe tbody tr th {\n",
       "        vertical-align: top;\n",
       "    }\n",
       "\n",
       "    .dataframe thead th {\n",
       "        text-align: right;\n",
       "    }\n",
       "</style>\n",
       "<table border=\"1\" class=\"dataframe\">\n",
       "  <thead>\n",
       "    <tr style=\"text-align: right;\">\n",
       "      <th></th>\n",
       "      <th>LotSizeAcres</th>\n",
       "      <th>med/housing</th>\n",
       "      <th>median_income</th>\n",
       "      <th>HSper</th>\n",
       "      <th>bachper</th>\n",
       "      <th>total</th>\n",
       "      <th>perc_fs</th>\n",
       "      <th>summary/yearbuilt</th>\n",
       "      <th>mastper</th>\n",
       "      <th>building/rooms/bathstotal</th>\n",
       "      <th>population</th>\n",
       "      <th>building/rooms/beds</th>\n",
       "      <th>sale/amount/saleamt</th>\n",
       "      <th>difference_house</th>\n",
       "      <th>year_b2</th>\n",
       "    </tr>\n",
       "  </thead>\n",
       "  <tbody>\n",
       "    <tr>\n",
       "      <th>count</th>\n",
       "      <td>664.000000</td>\n",
       "      <td>664.000000</td>\n",
       "      <td>664.000000</td>\n",
       "      <td>664.000000</td>\n",
       "      <td>664.000000</td>\n",
       "      <td>664.000000</td>\n",
       "      <td>664.000000</td>\n",
       "      <td>664.000000</td>\n",
       "      <td>664.000000</td>\n",
       "      <td>664.000000</td>\n",
       "      <td>664.000000</td>\n",
       "      <td>664.000000</td>\n",
       "      <td>664.000000</td>\n",
       "      <td>664.000000</td>\n",
       "      <td>664.000000</td>\n",
       "    </tr>\n",
       "    <tr>\n",
       "      <th>mean</th>\n",
       "      <td>0.301933</td>\n",
       "      <td>134825.903614</td>\n",
       "      <td>55820.959337</td>\n",
       "      <td>30.116346</td>\n",
       "      <td>17.985778</td>\n",
       "      <td>40.866867</td>\n",
       "      <td>15.160673</td>\n",
       "      <td>1959.009036</td>\n",
       "      <td>7.137124</td>\n",
       "      <td>1.950301</td>\n",
       "      <td>24983.355422</td>\n",
       "      <td>3.118976</td>\n",
       "      <td>142787.265060</td>\n",
       "      <td>7961.361446</td>\n",
       "      <td>59.990964</td>\n",
       "    </tr>\n",
       "    <tr>\n",
       "      <th>std</th>\n",
       "      <td>0.208838</td>\n",
       "      <td>54639.806903</td>\n",
       "      <td>19216.100679</td>\n",
       "      <td>6.846992</td>\n",
       "      <td>8.020806</td>\n",
       "      <td>4.557220</td>\n",
       "      <td>11.092863</td>\n",
       "      <td>30.909686</td>\n",
       "      <td>4.219654</td>\n",
       "      <td>0.938019</td>\n",
       "      <td>12527.806308</td>\n",
       "      <td>0.715694</td>\n",
       "      <td>104339.766606</td>\n",
       "      <td>82072.699333</td>\n",
       "      <td>30.909686</td>\n",
       "    </tr>\n",
       "    <tr>\n",
       "      <th>min</th>\n",
       "      <td>0.033100</td>\n",
       "      <td>51200.000000</td>\n",
       "      <td>19026.000000</td>\n",
       "      <td>9.739401</td>\n",
       "      <td>2.977083</td>\n",
       "      <td>21.000000</td>\n",
       "      <td>0.530504</td>\n",
       "      <td>1860.000000</td>\n",
       "      <td>0.000000</td>\n",
       "      <td>1.000000</td>\n",
       "      <td>865.000000</td>\n",
       "      <td>1.000000</td>\n",
       "      <td>7000.000000</td>\n",
       "      <td>-294500.000000</td>\n",
       "      <td>1.000000</td>\n",
       "    </tr>\n",
       "    <tr>\n",
       "      <th>25%</th>\n",
       "      <td>0.137700</td>\n",
       "      <td>77600.000000</td>\n",
       "      <td>40316.000000</td>\n",
       "      <td>24.348681</td>\n",
       "      <td>11.921131</td>\n",
       "      <td>38.300000</td>\n",
       "      <td>6.870670</td>\n",
       "      <td>1934.500000</td>\n",
       "      <td>3.596701</td>\n",
       "      <td>1.000000</td>\n",
       "      <td>17732.000000</td>\n",
       "      <td>3.000000</td>\n",
       "      <td>60000.000000</td>\n",
       "      <td>-39500.000000</td>\n",
       "      <td>35.750000</td>\n",
       "    </tr>\n",
       "    <tr>\n",
       "      <th>50%</th>\n",
       "      <td>0.241700</td>\n",
       "      <td>142400.000000</td>\n",
       "      <td>53148.000000</td>\n",
       "      <td>31.471718</td>\n",
       "      <td>16.541762</td>\n",
       "      <td>41.800000</td>\n",
       "      <td>11.296426</td>\n",
       "      <td>1957.000000</td>\n",
       "      <td>6.614815</td>\n",
       "      <td>2.000000</td>\n",
       "      <td>22586.000000</td>\n",
       "      <td>3.000000</td>\n",
       "      <td>125000.000000</td>\n",
       "      <td>-6900.000000</td>\n",
       "      <td>62.000000</td>\n",
       "    </tr>\n",
       "    <tr>\n",
       "      <th>75%</th>\n",
       "      <td>0.432975</td>\n",
       "      <td>170400.000000</td>\n",
       "      <td>69094.000000</td>\n",
       "      <td>34.861842</td>\n",
       "      <td>25.240597</td>\n",
       "      <td>44.300000</td>\n",
       "      <td>25.014798</td>\n",
       "      <td>1983.250000</td>\n",
       "      <td>9.758846</td>\n",
       "      <td>3.000000</td>\n",
       "      <td>31074.000000</td>\n",
       "      <td>4.000000</td>\n",
       "      <td>197125.000000</td>\n",
       "      <td>41943.750000</td>\n",
       "      <td>84.500000</td>\n",
       "    </tr>\n",
       "    <tr>\n",
       "      <th>max</th>\n",
       "      <td>0.990000</td>\n",
       "      <td>316600.000000</td>\n",
       "      <td>120825.000000</td>\n",
       "      <td>46.625259</td>\n",
       "      <td>38.790773</td>\n",
       "      <td>52.500000</td>\n",
       "      <td>53.423423</td>\n",
       "      <td>2018.000000</td>\n",
       "      <td>21.158603</td>\n",
       "      <td>5.000000</td>\n",
       "      <td>63572.000000</td>\n",
       "      <td>6.000000</td>\n",
       "      <td>570000.000000</td>\n",
       "      <td>359000.000000</td>\n",
       "      <td>159.000000</td>\n",
       "    </tr>\n",
       "  </tbody>\n",
       "</table>\n",
       "</div>"
      ],
      "text/plain": [
       "       LotSizeAcres    med/housing  median_income       HSper     bachper  \\\n",
       "count    664.000000     664.000000     664.000000  664.000000  664.000000   \n",
       "mean       0.301933  134825.903614   55820.959337   30.116346   17.985778   \n",
       "std        0.208838   54639.806903   19216.100679    6.846992    8.020806   \n",
       "min        0.033100   51200.000000   19026.000000    9.739401    2.977083   \n",
       "25%        0.137700   77600.000000   40316.000000   24.348681   11.921131   \n",
       "50%        0.241700  142400.000000   53148.000000   31.471718   16.541762   \n",
       "75%        0.432975  170400.000000   69094.000000   34.861842   25.240597   \n",
       "max        0.990000  316600.000000  120825.000000   46.625259   38.790773   \n",
       "\n",
       "            total     perc_fs  summary/yearbuilt     mastper  \\\n",
       "count  664.000000  664.000000         664.000000  664.000000   \n",
       "mean    40.866867   15.160673        1959.009036    7.137124   \n",
       "std      4.557220   11.092863          30.909686    4.219654   \n",
       "min     21.000000    0.530504        1860.000000    0.000000   \n",
       "25%     38.300000    6.870670        1934.500000    3.596701   \n",
       "50%     41.800000   11.296426        1957.000000    6.614815   \n",
       "75%     44.300000   25.014798        1983.250000    9.758846   \n",
       "max     52.500000   53.423423        2018.000000   21.158603   \n",
       "\n",
       "       building/rooms/bathstotal    population  building/rooms/beds  \\\n",
       "count                 664.000000    664.000000           664.000000   \n",
       "mean                    1.950301  24983.355422             3.118976   \n",
       "std                     0.938019  12527.806308             0.715694   \n",
       "min                     1.000000    865.000000             1.000000   \n",
       "25%                     1.000000  17732.000000             3.000000   \n",
       "50%                     2.000000  22586.000000             3.000000   \n",
       "75%                     3.000000  31074.000000             4.000000   \n",
       "max                     5.000000  63572.000000             6.000000   \n",
       "\n",
       "       sale/amount/saleamt  difference_house     year_b2  \n",
       "count           664.000000        664.000000  664.000000  \n",
       "mean         142787.265060       7961.361446   59.990964  \n",
       "std          104339.766606      82072.699333   30.909686  \n",
       "min            7000.000000    -294500.000000    1.000000  \n",
       "25%           60000.000000     -39500.000000   35.750000  \n",
       "50%          125000.000000      -6900.000000   62.000000  \n",
       "75%          197125.000000      41943.750000   84.500000  \n",
       "max          570000.000000     359000.000000  159.000000  "
      ]
     },
     "execution_count": 34,
     "metadata": {},
     "output_type": "execute_result"
    }
   ],
   "source": [
    "ML_df=desc_df18.loc[:, [\"LotSizeAcres\", \"med/housing\", \"median_income\", \"HSper\", \"bachper\", \"total\", \"perc_fs\", \"summary/yearbuilt\", \"mastper\", \"building/rooms/bathstotal\", \"population\", \"building/rooms/beds\", \"sale/amount/saleamt\"]]\n",
    "ML_df.to_csv('ML.csv')\n",
    "ML_df['difference_house']=ML_df['sale/amount/saleamt']-ML_df['med/housing']\n",
    "ML_df['year_b2']=2019-ML_df['summary/yearbuilt']\n",
    "ML_df.describe()"
   ]
  },
  {
   "cell_type": "code",
   "execution_count": 35,
   "metadata": {},
   "outputs": [
    {
     "data": {
      "text/plain": [
       "sale/amount/saleamt          1.000000\n",
       "difference_house             0.854633\n",
       "building/rooms/bathstotal    0.692130\n",
       "med/housing                  0.625876\n",
       "summary/yearbuilt            0.614102\n",
       "median_income                0.609474\n",
       "mastper                      0.598833\n",
       "bachper                      0.586867\n",
       "LotSizeAcres                 0.419465\n",
       "building/rooms/beds          0.418329\n",
       "total                        0.358182\n",
       "population                   0.170047\n",
       "HSper                       -0.491112\n",
       "perc_fs                     -0.566272\n",
       "year_b2                     -0.614102\n",
       "Name: sale/amount/saleamt, dtype: float64"
      ]
     },
     "execution_count": 35,
     "metadata": {},
     "output_type": "execute_result"
    }
   ],
   "source": [
    "corr_matrix=ML_df.corr()\n",
    "corr_matrix['sale/amount/saleamt'].sort_values(ascending=False)"
   ]
  },
  {
   "cell_type": "code",
   "execution_count": 36,
   "metadata": {},
   "outputs": [
    {
     "data": {
      "image/png": "[encoded data removed]",
      "text/plain": [
       "<Figure size 864x432 with 1 Axes>"
      ]
     },
     "metadata": {
      "needs_background": "light"
     },
     "output_type": "display_data"
    },
    {
     "data": {
      "image/png": "[encoded data removed]",
      "text/plain": [
       "<Figure size 864x432 with 1 Axes>"
      ]
     },
     "metadata": {
      "needs_background": "light"
     },
     "output_type": "display_data"
    },
    {
     "data": {
      "image/png": "[encoded data removed]",
      "text/plain": [
       "<Figure size 864x432 with 1 Axes>"
      ]
     },
     "metadata": {
      "needs_background": "light"
     },
     "output_type": "display_data"
    },
    {
     "data": {
      "image/png": "[encoded data removed]",
      "text/plain": [
       "<Figure size 864x432 with 1 Axes>"
      ]
     },
     "metadata": {
      "needs_background": "light"
     },
     "output_type": "display_data"
    },
    {
     "data": {
      "image/png": "[encoded data removed]",
      "text/plain": [
       "<Figure size 864x432 with 1 Axes>"
      ]
     },
     "metadata": {
      "needs_background": "light"
     },
     "output_type": "display_data"
    },
    {
     "data": {
      "image/png": "[encoded data removed]",
      "text/plain": [
       "<Figure size 864x432 with 1 Axes>"
      ]
     },
     "metadata": {
      "needs_background": "light"
     },
     "output_type": "display_data"
    },
    {
     "data": {
      "image/png": "[encoded data removed]",
      "text/plain": [
       "<Figure size 864x432 with 1 Axes>"
      ]
     },
     "metadata": {
      "needs_background": "light"
     },
     "output_type": "display_data"
    },
    {
     "data": {
      "image/png": "[encoded data removed]",
      "text/plain": [
       "<Figure size 864x432 with 1 Axes>"
      ]
     },
     "metadata": {
      "needs_background": "light"
     },
     "output_type": "display_data"
    },
    {
     "data": {
      "image/png": "[encoded data removed]",
      "text/plain": [
       "<Figure size 864x432 with 1 Axes>"
      ]
     },
     "metadata": {
      "needs_background": "light"
     },
     "output_type": "display_data"
    },
    {
     "data": {
      "image/png": "[encoded data removed]",
      "text/plain": [
       "<Figure size 864x432 with 1 Axes>"
      ]
     },
     "metadata": {
      "needs_background": "light"
     },
     "output_type": "display_data"
    }
   ],
   "source": [
    "import seaborn as sns\n",
    "num_features=[\"LotSizeAcres\", \"med/housing\", \"median_income\", \"HSper\", \"bachper\", \"perc_fs\", \"summary/yearbuilt\", \"building/rooms/bathstotal\", \"building/rooms/beds\", \"sale/amount/saleamt\"]\n",
    "for i in num_features:\n",
    "    fig, ax = plt.subplots()\n",
    "    fig.set_size_inches(12,6)\n",
    "    #plt.xlim(-10,10)\n",
    "    sns.boxplot(x=i,data=ML_df,ax=ax)"
   ]
  },
  {
   "cell_type": "code",
   "execution_count": 37,
   "metadata": {},
   "outputs": [
    {
     "data": {
      "text/html": [
       "<div>\n",
       "<style scoped>\n",
       "    .dataframe tbody tr th:only-of-type {\n",
       "        vertical-align: middle;\n",
       "    }\n",
       "\n",
       "    .dataframe tbody tr th {\n",
       "        vertical-align: top;\n",
       "    }\n",
       "\n",
       "    .dataframe thead th {\n",
       "        text-align: right;\n",
       "    }\n",
       "</style>\n",
       "<table border=\"1\" class=\"dataframe\">\n",
       "  <thead>\n",
       "    <tr style=\"text-align: right;\">\n",
       "      <th></th>\n",
       "      <th>skewness</th>\n",
       "    </tr>\n",
       "  </thead>\n",
       "  <tbody>\n",
       "    <tr>\n",
       "      <th>LotSizeAcres</th>\n",
       "      <td>1.270203</td>\n",
       "    </tr>\n",
       "    <tr>\n",
       "      <th>perc_fs</th>\n",
       "      <td>1.090972</td>\n",
       "    </tr>\n",
       "    <tr>\n",
       "      <th>sale/amount/saleamt</th>\n",
       "      <td>1.090372</td>\n",
       "    </tr>\n",
       "    <tr>\n",
       "      <th>building/rooms/bathstotal</th>\n",
       "      <td>0.648988</td>\n",
       "    </tr>\n",
       "    <tr>\n",
       "      <th>med/housing</th>\n",
       "      <td>0.519004</td>\n",
       "    </tr>\n",
       "    <tr>\n",
       "      <th>median_income</th>\n",
       "      <td>0.477764</td>\n",
       "    </tr>\n",
       "    <tr>\n",
       "      <th>bachper</th>\n",
       "      <td>0.300328</td>\n",
       "    </tr>\n",
       "    <tr>\n",
       "      <th>building/rooms/beds</th>\n",
       "      <td>0.192593</td>\n",
       "    </tr>\n",
       "    <tr>\n",
       "      <th>summary/yearbuilt</th>\n",
       "      <td>-0.062838</td>\n",
       "    </tr>\n",
       "    <tr>\n",
       "      <th>HSper</th>\n",
       "      <td>-0.341459</td>\n",
       "    </tr>\n",
       "  </tbody>\n",
       "</table>\n",
       "</div>"
      ],
      "text/plain": [
       "                           skewness\n",
       "LotSizeAcres               1.270203\n",
       "perc_fs                    1.090972\n",
       "sale/amount/saleamt        1.090372\n",
       "building/rooms/bathstotal  0.648988\n",
       "med/housing                0.519004\n",
       "median_income              0.477764\n",
       "bachper                    0.300328\n",
       "building/rooms/beds        0.192593\n",
       "summary/yearbuilt         -0.062838\n",
       "HSper                     -0.341459"
      ]
     },
     "execution_count": 37,
     "metadata": {},
     "output_type": "execute_result"
    }
   ],
   "source": [
    "ML_df1=ML_df.copy()\n",
    "skewness=[]\n",
    "for i in num_features:\n",
    "    skewness.append(ML_df1[i].skew())\n",
    "pd.DataFrame(data=skewness,index=num_features,columns=['skewness']).sort_values(by='skewness',ascending=False)\n"
   ]
  },
  {
   "cell_type": "code",
   "execution_count": 38,
   "metadata": {},
   "outputs": [
    {
     "name": "stdout",
     "output_type": "stream",
     "text": [
      "(664, 10) (664, 1)\n"
     ]
    }
   ],
   "source": [
    "X = ML_df[[\"LotSizeAcres\", \"med/housing\", \"median_income\", \"HSper\", \"mastper\", \"bachper\", \"perc_fs\", \"summary/yearbuilt\", \"building/rooms/bathstotal\", \"building/rooms/beds\"]]\n",
    "y = ML_df[\"sale/amount/saleamt\"].values.reshape(-1, 1)\n",
    "print(X.shape, y.shape)"
   ]
  },
  {
   "cell_type": "code",
   "execution_count": 39,
   "metadata": {},
   "outputs": [],
   "source": [
    "from sklearn.model_selection import train_test_split\n",
    "\n",
    "X_train, X_test, y_train, y_test = train_test_split(X, y, random_state=0)"
   ]
  },
  {
   "cell_type": "code",
   "execution_count": 40,
   "metadata": {},
   "outputs": [
    {
     "name": "stderr",
     "output_type": "stream",
     "text": [
      "C:\\Users\\emhar\\Anaconda3\\lib\\site-packages\\sklearn\\preprocessing\\data.py:645: DataConversionWarning: Data with input dtype int32, int64, float64 were all converted to float64 by StandardScaler.\n",
      "  return self.partial_fit(X, y)\n",
      "C:\\Users\\emhar\\Anaconda3\\lib\\site-packages\\sklearn\\utils\\validation.py:595: DataConversionWarning: Data with input dtype int64 was converted to float64 by StandardScaler.\n",
      "  warnings.warn(msg, DataConversionWarning)\n"
     ]
    }
   ],
   "source": [
    "from sklearn.preprocessing import StandardScaler\n",
    "\n",
    "# Create a StandardScater model and fit it to the training data\n",
    "\n",
    "X_scaler = StandardScaler().fit(X_train)\n",
    "y_scaler = StandardScaler().fit(y_train)"
   ]
  },
  {
   "cell_type": "code",
   "execution_count": 41,
   "metadata": {},
   "outputs": [
    {
     "name": "stderr",
     "output_type": "stream",
     "text": [
      "C:\\Users\\emhar\\Anaconda3\\lib\\site-packages\\ipykernel_launcher.py:3: DataConversionWarning: Data with input dtype int32, int64, float64 were all converted to float64 by StandardScaler.\n",
      "  This is separate from the ipykernel package so we can avoid doing imports until\n",
      "C:\\Users\\emhar\\Anaconda3\\lib\\site-packages\\ipykernel_launcher.py:4: DataConversionWarning: Data with input dtype int32, int64, float64 were all converted to float64 by StandardScaler.\n",
      "  after removing the cwd from sys.path.\n",
      "C:\\Users\\emhar\\Anaconda3\\lib\\site-packages\\sklearn\\utils\\validation.py:595: DataConversionWarning: Data with input dtype int64 was converted to float64 by StandardScaler.\n",
      "  warnings.warn(msg, DataConversionWarning)\n",
      "C:\\Users\\emhar\\Anaconda3\\lib\\site-packages\\sklearn\\utils\\validation.py:595: DataConversionWarning: Data with input dtype int64 was converted to float64 by StandardScaler.\n",
      "  warnings.warn(msg, DataConversionWarning)\n"
     ]
    }
   ],
   "source": [
    "# Transform the training and testing data using the X_scaler and y_scaler models\n",
    "\n",
    "X_train_scaled = X_scaler.transform(X_train)\n",
    "X_test_scaled = X_scaler.transform(X_test)\n",
    "y_train_scaled = y_scaler.transform(y_train)\n",
    "y_test_scaled = y_scaler.transform(y_test)"
   ]
  },
  {
   "cell_type": "code",
   "execution_count": 42,
   "metadata": {},
   "outputs": [],
   "source": [
    "from sklearn.linear_model import LinearRegression\n",
    "model = LinearRegression()"
   ]
  },
  {
   "cell_type": "code",
   "execution_count": 43,
   "metadata": {},
   "outputs": [
    {
     "name": "stdout",
     "output_type": "stream",
     "text": [
      "Training Score: 0.6596347387074498\n",
      "Testing Score: 0.6073727830542146\n"
     ]
    }
   ],
   "source": [
    "# Fit the model to the training data and calculate the scores for the training and testing data\n",
    "\n",
    "model.fit(X_train_scaled, y_train_scaled)\n",
    "training_score = model.score(X_train_scaled, y_train_scaled)\n",
    "testing_score = model.score(X_test_scaled, y_test_scaled)\n",
    "\n",
    "print(f\"Training Score: {training_score}\")\n",
    "print(f\"Testing Score: {testing_score}\")"
   ]
  },
  {
   "cell_type": "code",
   "execution_count": 44,
   "metadata": {},
   "outputs": [],
   "source": [
    "pickle.dump(model, open('model.pkl','wb'))"
   ]
  },
  {
   "cell_type": "code",
   "execution_count": 45,
   "metadata": {},
   "outputs": [
    {
     "ename": "NameError",
     "evalue": "name 'mean_squared_error' is not defined",
     "output_type": "error",
     "traceback": [
      "\u001b[1;31m---------------------------------------------------------------------------\u001b[0m",
      "\u001b[1;31mNameError\u001b[0m                                 Traceback (most recent call last)",
      "\u001b[1;32m<ipython-input-45-0cb0094f1fc4>\u001b[0m in \u001b[0;36m<module>\u001b[1;34m\u001b[0m\n\u001b[0;32m      8\u001b[0m \u001b[0mpredictions\u001b[0m \u001b[1;33m=\u001b[0m \u001b[0mlasso\u001b[0m\u001b[1;33m.\u001b[0m\u001b[0mpredict\u001b[0m\u001b[1;33m(\u001b[0m\u001b[0mX_test_scaled\u001b[0m\u001b[1;33m)\u001b[0m\u001b[1;33m\u001b[0m\u001b[1;33m\u001b[0m\u001b[0m\n\u001b[0;32m      9\u001b[0m \u001b[1;33m\u001b[0m\u001b[0m\n\u001b[1;32m---> 10\u001b[1;33m \u001b[0mMSE\u001b[0m \u001b[1;33m=\u001b[0m \u001b[0mmean_squared_error\u001b[0m\u001b[1;33m(\u001b[0m\u001b[0my_test_scaled\u001b[0m\u001b[1;33m,\u001b[0m \u001b[0mpredictions\u001b[0m\u001b[1;33m)\u001b[0m\u001b[1;33m\u001b[0m\u001b[1;33m\u001b[0m\u001b[0m\n\u001b[0m\u001b[0;32m     11\u001b[0m \u001b[0mr2\u001b[0m \u001b[1;33m=\u001b[0m \u001b[0mlasso\u001b[0m\u001b[1;33m.\u001b[0m\u001b[0mscore\u001b[0m\u001b[1;33m(\u001b[0m\u001b[0mX_test_scaled\u001b[0m\u001b[1;33m,\u001b[0m \u001b[0my_test_scaled\u001b[0m\u001b[1;33m)\u001b[0m\u001b[1;33m\u001b[0m\u001b[1;33m\u001b[0m\u001b[0m\n\u001b[0;32m     12\u001b[0m \u001b[1;31m### END SOLUTION\u001b[0m\u001b[1;33m\u001b[0m\u001b[1;33m\u001b[0m\u001b[1;33m\u001b[0m\u001b[0m\n",
      "\u001b[1;31mNameError\u001b[0m: name 'mean_squared_error' is not defined"
     ]
    }
   ],
   "source": [
    "# LASSO model\n",
    "# Note: Use an alpha of .01 when creating the model for this activity\n",
    "from sklearn.linear_model import Lasso\n",
    "\n",
    "### BEGIN SOLUTION\n",
    "lasso = Lasso(alpha=.01).fit(X_train_scaled, y_train_scaled)\n",
    "\n",
    "predictions = lasso.predict(X_test_scaled)\n",
    "\n",
    "MSE = mean_squared_error(y_test_scaled, predictions)\n",
    "r2 = lasso.score(X_test_scaled, y_test_scaled)\n",
    "### END SOLUTION\n",
    "training_score = model.score(X_train_scaled, y_train_scaled)\n",
    "\n",
    "\n",
    "print(f\"Training Score: {training_score}\")\n",
    "\n",
    "print(f\"MSE: {MSE}, testing: {r2}\")"
   ]
  },
  {
   "cell_type": "code",
   "execution_count": 46,
   "metadata": {},
   "outputs": [
    {
     "data": {
      "image/png": "[encoded data removed]",
      "text/plain": [
       "<Figure size 432x288 with 1 Axes>"
      ]
     },
     "metadata": {
      "needs_background": "light"
     },
     "output_type": "display_data"
    }
   ],
   "source": [
    "predictions = model.predict(X_test_scaled)\n",
    "model.fit(X_train_scaled, y_train_scaled)\n",
    "plt.scatter(model.predict(X_train_scaled), model.predict(X_train_scaled) - y_train_scaled, c=\"blue\", label=\"Training Data\")\n",
    "plt.scatter(model.predict(X_test_scaled), model.predict(X_test_scaled) - y_test_scaled, c=\"orange\", label=\"Testing Data\")\n",
    "plt.legend()\n",
    "plt.hlines(y=0, xmin=y_test_scaled.min(), xmax=y_test_scaled.max())\n",
    "plt.title(\"Residual Plot\")\n",
    "plt.show()"
   ]
  },
  {
   "cell_type": "code",
   "execution_count": 47,
   "metadata": {},
   "outputs": [
    {
     "name": "stdout",
     "output_type": "stream",
     "text": [
      "MSE: 0.4853274946917501, R2: 0.6073727830542146\n"
     ]
    }
   ],
   "source": [
    "from sklearn.metrics import mean_squared_error\n",
    "\n",
    "MSE = mean_squared_error(y_test_scaled, predictions)\n",
    "r2 = model.score(X_test_scaled, y_test_scaled)\n",
    "\n",
    "print(f\"MSE: {MSE}, R2: {r2}\")"
   ]
  },
  {
   "cell_type": "code",
   "execution_count": 48,
   "metadata": {},
   "outputs": [
    {
     "name": "stderr",
     "output_type": "stream",
     "text": [
      "C:\\Users\\emhar\\Anaconda3\\lib\\site-packages\\sklearn\\model_selection\\_search.py:841: DeprecationWarning: The default of the `iid` parameter will change from True to False in version 0.22 and will be removed in 0.24. This will change numeric results when test-set sizes are unequal.\n",
      "  DeprecationWarning)\n"
     ]
    },
    {
     "data": {
      "text/plain": [
       "{'n_neighbors': 8}"
      ]
     },
     "execution_count": 48,
     "metadata": {},
     "output_type": "execute_result"
    }
   ],
   "source": [
    "from sklearn import neighbors\n",
    "from sklearn.model_selection import GridSearchCV\n",
    "params = {'n_neighbors':[2,3,4,5,6,7,8,9]}\n",
    "\n",
    "knn = neighbors.KNeighborsRegressor()\n",
    "\n",
    "model = GridSearchCV(knn, params, cv=5)\n",
    "model.fit(X_train_scaled ,y_train_scaled)\n",
    "model.best_params_\n"
   ]
  },
  {
   "cell_type": "code",
   "execution_count": 51,
   "metadata": {},
   "outputs": [
    {
     "data": {
      "text/plain": [
       "KNeighborsRegressor(algorithm='auto', leaf_size=30, metric='minkowski',\n",
       "          metric_params=None, n_jobs=None, n_neighbors=8, p=2,\n",
       "          weights='uniform')"
      ]
     },
     "execution_count": 51,
     "metadata": {},
     "output_type": "execute_result"
    }
   ],
   "source": [
    "from sklearn.neighbors import KNeighborsRegressor\n",
    "\n",
    "neigh = KNeighborsRegressor(n_neighbors=8)\n",
    "neigh.fit(X_train_scaled, y_train_scaled)"
   ]
  },
  {
   "cell_type": "code",
   "execution_count": 52,
   "metadata": {},
   "outputs": [
    {
     "name": "stdout",
     "output_type": "stream",
     "text": [
      "Training Score: 0.7159021509114655\n",
      "Testing Score: 0.6066773282871225\n"
     ]
    }
   ],
   "source": [
    "training_score = neigh.score(X_train_scaled, y_train_scaled)\n",
    "testing_score = neigh.score(X_test_scaled, y_test_scaled)\n",
    "\n",
    "print(f\"Training Score: {training_score}\")\n",
    "print(f\"Testing Score: {testing_score}\")"
   ]
  },
  {
   "cell_type": "code",
   "execution_count": 53,
   "metadata": {},
   "outputs": [
    {
     "name": "stdout",
     "output_type": "stream",
     "text": [
      "0.4861871480861577\n"
     ]
    }
   ],
   "source": [
    "MSE2 = mean_squared_error(y_test_scaled, neigh.predict(X_test_scaled))\n",
    "print(MSE2)"
   ]
  },
  {
   "cell_type": "code",
   "execution_count": 54,
   "metadata": {},
   "outputs": [
    {
     "data": {
      "text/plain": [
       "RandomForestRegressor(bootstrap=True, criterion='mse', max_depth=20,\n",
       "           max_features='auto', max_leaf_nodes=None,\n",
       "           min_impurity_decrease=0.0, min_impurity_split=None,\n",
       "           min_samples_leaf=2, min_samples_split=5,\n",
       "           min_weight_fraction_leaf=0.0, n_estimators=700, n_jobs=None,\n",
       "           oob_score=False, random_state=6, verbose=0, warm_start=False)"
      ]
     },
     "execution_count": 54,
     "metadata": {},
     "output_type": "execute_result"
    }
   ],
   "source": [
    "from sklearn.ensemble import RandomForestRegressor \n",
    "  \n",
    " # create regressor object \n",
    "regressor = RandomForestRegressor(n_estimators = 700, min_samples_split= 5, min_samples_leaf= 2, max_depth=20, random_state=6) \n",
    "  \n",
    "# fit the regressor with x and y data \n",
    "regressor.fit(X_train_scaled, y_train_scaled.ravel())   "
   ]
  },
  {
   "cell_type": "code",
   "execution_count": null,
   "metadata": {},
   "outputs": [],
   "source": []
  },
  {
   "cell_type": "code",
   "execution_count": 55,
   "metadata": {},
   "outputs": [
    {
     "name": "stdout",
     "output_type": "stream",
     "text": [
      "Training Score: 0.9078960876650377\n",
      "Testing Score: 0.6525483601061732\n"
     ]
    }
   ],
   "source": [
    "training_score = regressor.score(X_train_scaled, y_train_scaled)\n",
    "testing_score = regressor.score(X_test_scaled, y_test_scaled)\n",
    "\n",
    "print(f\"Training Score: {training_score}\")\n",
    "print(f\"Testing Score: {testing_score}\")"
   ]
  },
  {
   "cell_type": "code",
   "execution_count": 56,
   "metadata": {},
   "outputs": [
    {
     "name": "stdout",
     "output_type": "stream",
     "text": [
      "(664, 8) (664, 1)\n"
     ]
    },
    {
     "data": {
      "text/plain": [
       "[(0.14667714584896052, 'building/rooms/beds'),\n",
       " (0.09576570712212255, 'med/housing'),\n",
       " (0.09097276878810477, 'bachper'),\n",
       " (0.07009209512581253, 'LotSizeAcres'),\n",
       " (0.038280536963671126, 'median_income'),\n",
       " (0.03570099303055967, 'building/rooms/bathstotal'),\n",
       " (0.03479755281262841, 'perc_fs'),\n",
       " (0.033493289116235975, 'summary/yearbuilt')]"
      ]
     },
     "execution_count": 56,
     "metadata": {},
     "output_type": "execute_result"
    }
   ],
   "source": [
    "data = X = ML_df[[\"LotSizeAcres\", \"med/housing\", \"perc_fs\", \"median_income\", \"bachper\", \"summary/yearbuilt\", \"building/rooms/bathstotal\", \"building/rooms/beds\"]]\n",
    "\n",
    "print(X.shape, y.shape)\n",
    "feature_names = data.columns\n",
    "sorted(zip(regressor.feature_importances_, feature_names), reverse=True)"
   ]
  },
  {
   "cell_type": "code",
   "execution_count": null,
   "metadata": {},
   "outputs": [],
   "source": [
    "from sklearn.model_selection import RandomizedSearchCV\n",
    "# Number of trees in random forest\n",
    "n_estimators = [int(x) for x in np.linspace(start = 50, stop = 2000, num = 10)]\n",
    "# Number of features to consider at every split\n",
    "max_features = ['auto', 'sqrt']\n",
    "# Maximum number of levels in tree\n",
    "max_depth = [int(x) for x in np.linspace(10, 110, num = 11)]\n",
    "max_depth.append(None)\n",
    "# Minimum number of samples required to split a node\n",
    "min_samples_split = [2, 5, 10]\n",
    "# Minimum number of samples required at each leaf node\n",
    "min_samples_leaf = [1, 2, 4]\n",
    "# Method of selecting samples for training each tree\n",
    "bootstrap = [True, False]\n",
    "# Create the random grid\n",
    "random_grid = {'n_estimators': n_estimators,\n",
    "               'max_features': max_features,\n",
    "               'max_depth': max_depth,\n",
    "               'min_samples_split': min_samples_split,\n",
    "               'min_samples_leaf': min_samples_leaf,\n",
    "               'bootstrap': bootstrap}"
   ]
  },
  {
   "cell_type": "code",
   "execution_count": null,
   "metadata": {},
   "outputs": [],
   "source": []
  },
  {
   "cell_type": "code",
   "execution_count": null,
   "metadata": {},
   "outputs": [],
   "source": [
    "# Use the random grid to search for best hyperparameters\n",
    "# First create the base model to tune\n",
    "#rf = RandomForestRegressor()\n",
    "# Random search of parameters, using 3 fold cross validation, \n",
    "# search across 100 different combinations, and use all available cores\n",
    "#rf_random = RandomizedSearchCV(estimator = rf, param_distributions = random_grid, n_iter = 100, cv = 3, verbose=2, random_state=42, n_jobs = -1)\n",
    "# Fit the random search model\n",
    "#rf_random.fit(X_train_scaled, y_train_scaled.ravel())"
   ]
  },
  {
   "cell_type": "code",
   "execution_count": null,
   "metadata": {},
   "outputs": [],
   "source": [
    "#rf_random.best_params_"
   ]
  },
  {
   "cell_type": "code",
   "execution_count": null,
   "metadata": {},
   "outputs": [],
   "source": [
    "#explore api options\n",
    "import http.client \n",
    "\n",
    "conn = http.client.HTTPSConnection(\"api.gateway.attomdata.com\") \n",
    "\n",
    "headers = { \n",
    "    'accept': \"application/json\", \n",
    "    'apikey': \"487ac4986deb86031b6d88f9505dfdc6\", \n",
    "} \n",
    "\n",
    "ids=\"18471319108031\"\n",
    "conn.request(\"GET\", \"/propertyapi/v1.0.0/property/detail?id=\"+ ids, headers=headers) \n",
    "\n",
    "res = conn.getresponse() \n",
    "data = res.read() \n",
    "\n",
    "data1=data.decode(\"utf-8\")\n",
    "print(data1)"
   ]
  },
  {
   "cell_type": "code",
   "execution_count": null,
   "metadata": {},
   "outputs": [],
   "source": [
    "import numpy\n",
    "import pandas\n",
    "from tensorflow.keras.models import Sequential\n",
    "from tensorflow.keras.layers import Dense\n",
    "from tensorflow.keras.wrappers.scikit_learn import KerasRegressor\n",
    "from sklearn.model_selection import cross_val_score\n",
    "from sklearn.model_selection import KFold\n",
    "from sklearn.preprocessing import StandardScaler\n",
    "from sklearn.pipeline import Pipeline"
   ]
  },
  {
   "cell_type": "code",
   "execution_count": null,
   "metadata": {},
   "outputs": [],
   "source": [
    "from tensorflow.keras.models import Sequential\n",
    "from tensorflow.keras.layers import Dense\n",
    "\n",
    "# define base model\n",
    "def baseline_model():\n",
    "    #create model\n",
    "    model = Sequential()\n",
    "    model.add(Dense(11, input_dim=11, kernel_initializer='normal', activation='relu'))\n",
    "    model.add(Dense(1, kernel_initializer='normal'))\n",
    "# Compile model\n",
    "    model.compile(loss='mean_squared_error', optimizer='adam', metrics=['accuracy'])\n",
    "    return model\n",
    "\n",
    "seed = 7\n",
    "numpy.random.seed(seed)\n",
    "estimator = KerasRegressor(build_fn=baseline_model, epochs=100, batch_size=5, verbose=2)"
   ]
  },
  {
   "cell_type": "code",
   "execution_count": null,
   "metadata": {},
   "outputs": [],
   "source": [
    "\n",
    "kfold = KFold(n_splits=10, random_state=seed)\n",
    "results = cross_val_score(estimator, X_train_scaled, y_train_scaled, cv=kfold)\n",
    "print(\"Results: %.2f (%.2f) MSE\" % (results.mean(), results.std()))"
   ]
  },
  {
   "cell_type": "code",
   "execution_count": null,
   "metadata": {},
   "outputs": [],
   "source": [
    "import seaborn as sns\n",
    "sns.pairplot(ML_df[['building/rooms/bathstotal','med/housing','bachper','summary/yearbuilt', 'perc_fs']])"
   ]
  },
  {
   "cell_type": "code",
   "execution_count": null,
   "metadata": {},
   "outputs": [],
   "source": [
    "ML_df1['sale/amount/saleamt'].apply(lambda x: np.log1p(x)**2).hist(bins=50,label='a')\n",
    "plt.legend()"
   ]
  },
  {
   "cell_type": "code",
   "execution_count": null,
   "metadata": {},
   "outputs": [],
   "source": [
    "ML_df.hist(bins=50,figsize=(15,10))"
   ]
  }
 ],
 "metadata": {
  "kernelspec": {
   "display_name": "Python 3",
   "language": "python",
   "name": "python3"
  },
  "language_info": {
   "codemirror_mode": {
    "name": "ipython",
    "version": 3
   },
   "file_extension": ".py",
   "mimetype": "text/x-python",
   "name": "python",
   "nbconvert_exporter": "python",
   "pygments_lexer": "ipython3",
   "version": "3.7.2"
  }
 },
 "nbformat": 4,
 "nbformat_minor": 2
}
